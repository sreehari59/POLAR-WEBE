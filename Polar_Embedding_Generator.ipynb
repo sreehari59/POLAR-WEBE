{
  "nbformat": 4,
  "nbformat_minor": 0,
  "metadata": {
    "colab": {
      "name": "Polar_Embedding_Generator.ipynb",
      "provenance": [],
      "collapsed_sections": [],
      "include_colab_link": true
    },
    "kernelspec": {
      "name": "python3",
      "display_name": "Python 3"
    },
    "language_info": {
      "name": "python"
    },
    "widgets": {
      "application/vnd.jupyter.widget-state+json": {
        "3b9e4c7b803548d78cc876ad5b2cdf0a": {
          "model_module": "@jupyter-widgets/controls",
          "model_name": "HBoxModel",
          "model_module_version": "1.5.0",
          "state": {
            "_dom_classes": [],
            "_model_module": "@jupyter-widgets/controls",
            "_model_module_version": "1.5.0",
            "_model_name": "HBoxModel",
            "_view_count": null,
            "_view_module": "@jupyter-widgets/controls",
            "_view_module_version": "1.5.0",
            "_view_name": "HBoxView",
            "box_style": "",
            "children": [
              "IPY_MODEL_aac7dd07c062431b90bc9aa3029eb79f",
              "IPY_MODEL_4881c79990274e478d80a0b3ce8640fe",
              "IPY_MODEL_a61c88a12d1d4884ae4f6d52ba75fa16"
            ],
            "layout": "IPY_MODEL_e384923349e34fa2ac05b7dd1b6a6266"
          }
        },
        "aac7dd07c062431b90bc9aa3029eb79f": {
          "model_module": "@jupyter-widgets/controls",
          "model_name": "HTMLModel",
          "model_module_version": "1.5.0",
          "state": {
            "_dom_classes": [],
            "_model_module": "@jupyter-widgets/controls",
            "_model_module_version": "1.5.0",
            "_model_name": "HTMLModel",
            "_view_count": null,
            "_view_module": "@jupyter-widgets/controls",
            "_view_module_version": "1.5.0",
            "_view_name": "HTMLView",
            "description": "",
            "description_tooltip": null,
            "layout": "IPY_MODEL_1273b2b2a43744e69af796f65fd14884",
            "placeholder": "​",
            "style": "IPY_MODEL_b963cdd930934a03994d5ff6e9ac74a2",
            "value": "100%"
          }
        },
        "4881c79990274e478d80a0b3ce8640fe": {
          "model_module": "@jupyter-widgets/controls",
          "model_name": "FloatProgressModel",
          "model_module_version": "1.5.0",
          "state": {
            "_dom_classes": [],
            "_model_module": "@jupyter-widgets/controls",
            "_model_module_version": "1.5.0",
            "_model_name": "FloatProgressModel",
            "_view_count": null,
            "_view_module": "@jupyter-widgets/controls",
            "_view_module_version": "1.5.0",
            "_view_name": "ProgressView",
            "bar_style": "success",
            "description": "",
            "description_tooltip": null,
            "layout": "IPY_MODEL_4bcdf8b6cda44377a1043a5c5e1da238",
            "max": 400000,
            "min": 0,
            "orientation": "horizontal",
            "style": "IPY_MODEL_5c251cde3de842aa8043dbfbd1f7789c",
            "value": 400000
          }
        },
        "a61c88a12d1d4884ae4f6d52ba75fa16": {
          "model_module": "@jupyter-widgets/controls",
          "model_name": "HTMLModel",
          "model_module_version": "1.5.0",
          "state": {
            "_dom_classes": [],
            "_model_module": "@jupyter-widgets/controls",
            "_model_module_version": "1.5.0",
            "_model_name": "HTMLModel",
            "_view_count": null,
            "_view_module": "@jupyter-widgets/controls",
            "_view_module_version": "1.5.0",
            "_view_name": "HTMLView",
            "description": "",
            "description_tooltip": null,
            "layout": "IPY_MODEL_cc929bfc01f3400e809b9c271ee674b3",
            "placeholder": "​",
            "style": "IPY_MODEL_5c713011304e4859bc8d142595b57b55",
            "value": " 400000/400000 [00:07&lt;00:00, 52072.57it/s]"
          }
        },
        "e384923349e34fa2ac05b7dd1b6a6266": {
          "model_module": "@jupyter-widgets/base",
          "model_name": "LayoutModel",
          "model_module_version": "1.2.0",
          "state": {
            "_model_module": "@jupyter-widgets/base",
            "_model_module_version": "1.2.0",
            "_model_name": "LayoutModel",
            "_view_count": null,
            "_view_module": "@jupyter-widgets/base",
            "_view_module_version": "1.2.0",
            "_view_name": "LayoutView",
            "align_content": null,
            "align_items": null,
            "align_self": null,
            "border": null,
            "bottom": null,
            "display": null,
            "flex": null,
            "flex_flow": null,
            "grid_area": null,
            "grid_auto_columns": null,
            "grid_auto_flow": null,
            "grid_auto_rows": null,
            "grid_column": null,
            "grid_gap": null,
            "grid_row": null,
            "grid_template_areas": null,
            "grid_template_columns": null,
            "grid_template_rows": null,
            "height": null,
            "justify_content": null,
            "justify_items": null,
            "left": null,
            "margin": null,
            "max_height": null,
            "max_width": null,
            "min_height": null,
            "min_width": null,
            "object_fit": null,
            "object_position": null,
            "order": null,
            "overflow": null,
            "overflow_x": null,
            "overflow_y": null,
            "padding": null,
            "right": null,
            "top": null,
            "visibility": null,
            "width": null
          }
        },
        "1273b2b2a43744e69af796f65fd14884": {
          "model_module": "@jupyter-widgets/base",
          "model_name": "LayoutModel",
          "model_module_version": "1.2.0",
          "state": {
            "_model_module": "@jupyter-widgets/base",
            "_model_module_version": "1.2.0",
            "_model_name": "LayoutModel",
            "_view_count": null,
            "_view_module": "@jupyter-widgets/base",
            "_view_module_version": "1.2.0",
            "_view_name": "LayoutView",
            "align_content": null,
            "align_items": null,
            "align_self": null,
            "border": null,
            "bottom": null,
            "display": null,
            "flex": null,
            "flex_flow": null,
            "grid_area": null,
            "grid_auto_columns": null,
            "grid_auto_flow": null,
            "grid_auto_rows": null,
            "grid_column": null,
            "grid_gap": null,
            "grid_row": null,
            "grid_template_areas": null,
            "grid_template_columns": null,
            "grid_template_rows": null,
            "height": null,
            "justify_content": null,
            "justify_items": null,
            "left": null,
            "margin": null,
            "max_height": null,
            "max_width": null,
            "min_height": null,
            "min_width": null,
            "object_fit": null,
            "object_position": null,
            "order": null,
            "overflow": null,
            "overflow_x": null,
            "overflow_y": null,
            "padding": null,
            "right": null,
            "top": null,
            "visibility": null,
            "width": null
          }
        },
        "b963cdd930934a03994d5ff6e9ac74a2": {
          "model_module": "@jupyter-widgets/controls",
          "model_name": "DescriptionStyleModel",
          "model_module_version": "1.5.0",
          "state": {
            "_model_module": "@jupyter-widgets/controls",
            "_model_module_version": "1.5.0",
            "_model_name": "DescriptionStyleModel",
            "_view_count": null,
            "_view_module": "@jupyter-widgets/base",
            "_view_module_version": "1.2.0",
            "_view_name": "StyleView",
            "description_width": ""
          }
        },
        "4bcdf8b6cda44377a1043a5c5e1da238": {
          "model_module": "@jupyter-widgets/base",
          "model_name": "LayoutModel",
          "model_module_version": "1.2.0",
          "state": {
            "_model_module": "@jupyter-widgets/base",
            "_model_module_version": "1.2.0",
            "_model_name": "LayoutModel",
            "_view_count": null,
            "_view_module": "@jupyter-widgets/base",
            "_view_module_version": "1.2.0",
            "_view_name": "LayoutView",
            "align_content": null,
            "align_items": null,
            "align_self": null,
            "border": null,
            "bottom": null,
            "display": null,
            "flex": null,
            "flex_flow": null,
            "grid_area": null,
            "grid_auto_columns": null,
            "grid_auto_flow": null,
            "grid_auto_rows": null,
            "grid_column": null,
            "grid_gap": null,
            "grid_row": null,
            "grid_template_areas": null,
            "grid_template_columns": null,
            "grid_template_rows": null,
            "height": null,
            "justify_content": null,
            "justify_items": null,
            "left": null,
            "margin": null,
            "max_height": null,
            "max_width": null,
            "min_height": null,
            "min_width": null,
            "object_fit": null,
            "object_position": null,
            "order": null,
            "overflow": null,
            "overflow_x": null,
            "overflow_y": null,
            "padding": null,
            "right": null,
            "top": null,
            "visibility": null,
            "width": null
          }
        },
        "5c251cde3de842aa8043dbfbd1f7789c": {
          "model_module": "@jupyter-widgets/controls",
          "model_name": "ProgressStyleModel",
          "model_module_version": "1.5.0",
          "state": {
            "_model_module": "@jupyter-widgets/controls",
            "_model_module_version": "1.5.0",
            "_model_name": "ProgressStyleModel",
            "_view_count": null,
            "_view_module": "@jupyter-widgets/base",
            "_view_module_version": "1.2.0",
            "_view_name": "StyleView",
            "bar_color": null,
            "description_width": ""
          }
        },
        "cc929bfc01f3400e809b9c271ee674b3": {
          "model_module": "@jupyter-widgets/base",
          "model_name": "LayoutModel",
          "model_module_version": "1.2.0",
          "state": {
            "_model_module": "@jupyter-widgets/base",
            "_model_module_version": "1.2.0",
            "_model_name": "LayoutModel",
            "_view_count": null,
            "_view_module": "@jupyter-widgets/base",
            "_view_module_version": "1.2.0",
            "_view_name": "LayoutView",
            "align_content": null,
            "align_items": null,
            "align_self": null,
            "border": null,
            "bottom": null,
            "display": null,
            "flex": null,
            "flex_flow": null,
            "grid_area": null,
            "grid_auto_columns": null,
            "grid_auto_flow": null,
            "grid_auto_rows": null,
            "grid_column": null,
            "grid_gap": null,
            "grid_row": null,
            "grid_template_areas": null,
            "grid_template_columns": null,
            "grid_template_rows": null,
            "height": null,
            "justify_content": null,
            "justify_items": null,
            "left": null,
            "margin": null,
            "max_height": null,
            "max_width": null,
            "min_height": null,
            "min_width": null,
            "object_fit": null,
            "object_position": null,
            "order": null,
            "overflow": null,
            "overflow_x": null,
            "overflow_y": null,
            "padding": null,
            "right": null,
            "top": null,
            "visibility": null,
            "width": null
          }
        },
        "5c713011304e4859bc8d142595b57b55": {
          "model_module": "@jupyter-widgets/controls",
          "model_name": "DescriptionStyleModel",
          "model_module_version": "1.5.0",
          "state": {
            "_model_module": "@jupyter-widgets/controls",
            "_model_module_version": "1.5.0",
            "_model_name": "DescriptionStyleModel",
            "_view_count": null,
            "_view_module": "@jupyter-widgets/base",
            "_view_module_version": "1.2.0",
            "_view_name": "StyleView",
            "description_width": ""
          }
        },
        "0adfd422f31d4abc95d64be577f22632": {
          "model_module": "@jupyter-widgets/controls",
          "model_name": "HBoxModel",
          "model_module_version": "1.5.0",
          "state": {
            "_dom_classes": [],
            "_model_module": "@jupyter-widgets/controls",
            "_model_module_version": "1.5.0",
            "_model_name": "HBoxModel",
            "_view_count": null,
            "_view_module": "@jupyter-widgets/controls",
            "_view_module_version": "1.5.0",
            "_view_name": "HBoxView",
            "box_style": "",
            "children": [
              "IPY_MODEL_1959c076964e4cdea79e06c3cc3ac883",
              "IPY_MODEL_84a269ebfbd04b30998dc3ffd38dfc41",
              "IPY_MODEL_b9d77dc0fbfc4e429d915e74f7f7f10d"
            ],
            "layout": "IPY_MODEL_f2a0075641d34eb1b81ad56f89be6cdd"
          }
        },
        "1959c076964e4cdea79e06c3cc3ac883": {
          "model_module": "@jupyter-widgets/controls",
          "model_name": "HTMLModel",
          "model_module_version": "1.5.0",
          "state": {
            "_dom_classes": [],
            "_model_module": "@jupyter-widgets/controls",
            "_model_module_version": "1.5.0",
            "_model_name": "HTMLModel",
            "_view_count": null,
            "_view_module": "@jupyter-widgets/controls",
            "_view_module_version": "1.5.0",
            "_view_name": "HTMLView",
            "description": "",
            "description_tooltip": null,
            "layout": "IPY_MODEL_8c70bd72e8ba40f6acdc395249acbca1",
            "placeholder": "​",
            "style": "IPY_MODEL_e632c0369f41480b81887b1685fb500c",
            "value": "100%"
          }
        },
        "84a269ebfbd04b30998dc3ffd38dfc41": {
          "model_module": "@jupyter-widgets/controls",
          "model_name": "FloatProgressModel",
          "model_module_version": "1.5.0",
          "state": {
            "_dom_classes": [],
            "_model_module": "@jupyter-widgets/controls",
            "_model_module_version": "1.5.0",
            "_model_name": "FloatProgressModel",
            "_view_count": null,
            "_view_module": "@jupyter-widgets/controls",
            "_view_module_version": "1.5.0",
            "_view_name": "ProgressView",
            "bar_style": "success",
            "description": "",
            "description_tooltip": null,
            "layout": "IPY_MODEL_96f47fdf1a4a49d6827d76824923bd2d",
            "max": 5,
            "min": 0,
            "orientation": "horizontal",
            "style": "IPY_MODEL_bbbefdb3d996463f9a5a6eb715135a48",
            "value": 5
          }
        },
        "b9d77dc0fbfc4e429d915e74f7f7f10d": {
          "model_module": "@jupyter-widgets/controls",
          "model_name": "HTMLModel",
          "model_module_version": "1.5.0",
          "state": {
            "_dom_classes": [],
            "_model_module": "@jupyter-widgets/controls",
            "_model_module_version": "1.5.0",
            "_model_name": "HTMLModel",
            "_view_count": null,
            "_view_module": "@jupyter-widgets/controls",
            "_view_module_version": "1.5.0",
            "_view_name": "HTMLView",
            "description": "",
            "description_tooltip": null,
            "layout": "IPY_MODEL_cdf0391c8c664a989af3a3809d050cb2",
            "placeholder": "​",
            "style": "IPY_MODEL_9b30dacc121349b3a3375553e1ac495c",
            "value": " 5/5 [00:00&lt;00:00, 54.07it/s]"
          }
        },
        "f2a0075641d34eb1b81ad56f89be6cdd": {
          "model_module": "@jupyter-widgets/base",
          "model_name": "LayoutModel",
          "model_module_version": "1.2.0",
          "state": {
            "_model_module": "@jupyter-widgets/base",
            "_model_module_version": "1.2.0",
            "_model_name": "LayoutModel",
            "_view_count": null,
            "_view_module": "@jupyter-widgets/base",
            "_view_module_version": "1.2.0",
            "_view_name": "LayoutView",
            "align_content": null,
            "align_items": null,
            "align_self": null,
            "border": null,
            "bottom": null,
            "display": null,
            "flex": null,
            "flex_flow": null,
            "grid_area": null,
            "grid_auto_columns": null,
            "grid_auto_flow": null,
            "grid_auto_rows": null,
            "grid_column": null,
            "grid_gap": null,
            "grid_row": null,
            "grid_template_areas": null,
            "grid_template_columns": null,
            "grid_template_rows": null,
            "height": null,
            "justify_content": null,
            "justify_items": null,
            "left": null,
            "margin": null,
            "max_height": null,
            "max_width": null,
            "min_height": null,
            "min_width": null,
            "object_fit": null,
            "object_position": null,
            "order": null,
            "overflow": null,
            "overflow_x": null,
            "overflow_y": null,
            "padding": null,
            "right": null,
            "top": null,
            "visibility": null,
            "width": null
          }
        },
        "8c70bd72e8ba40f6acdc395249acbca1": {
          "model_module": "@jupyter-widgets/base",
          "model_name": "LayoutModel",
          "model_module_version": "1.2.0",
          "state": {
            "_model_module": "@jupyter-widgets/base",
            "_model_module_version": "1.2.0",
            "_model_name": "LayoutModel",
            "_view_count": null,
            "_view_module": "@jupyter-widgets/base",
            "_view_module_version": "1.2.0",
            "_view_name": "LayoutView",
            "align_content": null,
            "align_items": null,
            "align_self": null,
            "border": null,
            "bottom": null,
            "display": null,
            "flex": null,
            "flex_flow": null,
            "grid_area": null,
            "grid_auto_columns": null,
            "grid_auto_flow": null,
            "grid_auto_rows": null,
            "grid_column": null,
            "grid_gap": null,
            "grid_row": null,
            "grid_template_areas": null,
            "grid_template_columns": null,
            "grid_template_rows": null,
            "height": null,
            "justify_content": null,
            "justify_items": null,
            "left": null,
            "margin": null,
            "max_height": null,
            "max_width": null,
            "min_height": null,
            "min_width": null,
            "object_fit": null,
            "object_position": null,
            "order": null,
            "overflow": null,
            "overflow_x": null,
            "overflow_y": null,
            "padding": null,
            "right": null,
            "top": null,
            "visibility": null,
            "width": null
          }
        },
        "e632c0369f41480b81887b1685fb500c": {
          "model_module": "@jupyter-widgets/controls",
          "model_name": "DescriptionStyleModel",
          "model_module_version": "1.5.0",
          "state": {
            "_model_module": "@jupyter-widgets/controls",
            "_model_module_version": "1.5.0",
            "_model_name": "DescriptionStyleModel",
            "_view_count": null,
            "_view_module": "@jupyter-widgets/base",
            "_view_module_version": "1.2.0",
            "_view_name": "StyleView",
            "description_width": ""
          }
        },
        "96f47fdf1a4a49d6827d76824923bd2d": {
          "model_module": "@jupyter-widgets/base",
          "model_name": "LayoutModel",
          "model_module_version": "1.2.0",
          "state": {
            "_model_module": "@jupyter-widgets/base",
            "_model_module_version": "1.2.0",
            "_model_name": "LayoutModel",
            "_view_count": null,
            "_view_module": "@jupyter-widgets/base",
            "_view_module_version": "1.2.0",
            "_view_name": "LayoutView",
            "align_content": null,
            "align_items": null,
            "align_self": null,
            "border": null,
            "bottom": null,
            "display": null,
            "flex": null,
            "flex_flow": null,
            "grid_area": null,
            "grid_auto_columns": null,
            "grid_auto_flow": null,
            "grid_auto_rows": null,
            "grid_column": null,
            "grid_gap": null,
            "grid_row": null,
            "grid_template_areas": null,
            "grid_template_columns": null,
            "grid_template_rows": null,
            "height": null,
            "justify_content": null,
            "justify_items": null,
            "left": null,
            "margin": null,
            "max_height": null,
            "max_width": null,
            "min_height": null,
            "min_width": null,
            "object_fit": null,
            "object_position": null,
            "order": null,
            "overflow": null,
            "overflow_x": null,
            "overflow_y": null,
            "padding": null,
            "right": null,
            "top": null,
            "visibility": null,
            "width": null
          }
        },
        "bbbefdb3d996463f9a5a6eb715135a48": {
          "model_module": "@jupyter-widgets/controls",
          "model_name": "ProgressStyleModel",
          "model_module_version": "1.5.0",
          "state": {
            "_model_module": "@jupyter-widgets/controls",
            "_model_module_version": "1.5.0",
            "_model_name": "ProgressStyleModel",
            "_view_count": null,
            "_view_module": "@jupyter-widgets/base",
            "_view_module_version": "1.2.0",
            "_view_name": "StyleView",
            "bar_color": null,
            "description_width": ""
          }
        },
        "cdf0391c8c664a989af3a3809d050cb2": {
          "model_module": "@jupyter-widgets/base",
          "model_name": "LayoutModel",
          "model_module_version": "1.2.0",
          "state": {
            "_model_module": "@jupyter-widgets/base",
            "_model_module_version": "1.2.0",
            "_model_name": "LayoutModel",
            "_view_count": null,
            "_view_module": "@jupyter-widgets/base",
            "_view_module_version": "1.2.0",
            "_view_name": "LayoutView",
            "align_content": null,
            "align_items": null,
            "align_self": null,
            "border": null,
            "bottom": null,
            "display": null,
            "flex": null,
            "flex_flow": null,
            "grid_area": null,
            "grid_auto_columns": null,
            "grid_auto_flow": null,
            "grid_auto_rows": null,
            "grid_column": null,
            "grid_gap": null,
            "grid_row": null,
            "grid_template_areas": null,
            "grid_template_columns": null,
            "grid_template_rows": null,
            "height": null,
            "justify_content": null,
            "justify_items": null,
            "left": null,
            "margin": null,
            "max_height": null,
            "max_width": null,
            "min_height": null,
            "min_width": null,
            "object_fit": null,
            "object_position": null,
            "order": null,
            "overflow": null,
            "overflow_x": null,
            "overflow_y": null,
            "padding": null,
            "right": null,
            "top": null,
            "visibility": null,
            "width": null
          }
        },
        "9b30dacc121349b3a3375553e1ac495c": {
          "model_module": "@jupyter-widgets/controls",
          "model_name": "DescriptionStyleModel",
          "model_module_version": "1.5.0",
          "state": {
            "_model_module": "@jupyter-widgets/controls",
            "_model_module_version": "1.5.0",
            "_model_name": "DescriptionStyleModel",
            "_view_count": null,
            "_view_module": "@jupyter-widgets/base",
            "_view_module_version": "1.2.0",
            "_view_name": "StyleView",
            "description_width": ""
          }
        },
        "09b05bc945e348e5aa32e2ccedac9d74": {
          "model_module": "@jupyter-widgets/controls",
          "model_name": "HBoxModel",
          "model_module_version": "1.5.0",
          "state": {
            "_dom_classes": [],
            "_model_module": "@jupyter-widgets/controls",
            "_model_module_version": "1.5.0",
            "_model_name": "HBoxModel",
            "_view_count": null,
            "_view_module": "@jupyter-widgets/controls",
            "_view_module_version": "1.5.0",
            "_view_name": "HBoxView",
            "box_style": "",
            "children": [
              "IPY_MODEL_cafc461bdb5046aca6623e4d8ac0a5fc",
              "IPY_MODEL_9640ff4a3d3f417d82cd16be16400414",
              "IPY_MODEL_2d408c40b24f4c7ba8951f1bf0559c46"
            ],
            "layout": "IPY_MODEL_07e1adbd3158421595e90b1ae1307b7a"
          }
        },
        "cafc461bdb5046aca6623e4d8ac0a5fc": {
          "model_module": "@jupyter-widgets/controls",
          "model_name": "HTMLModel",
          "model_module_version": "1.5.0",
          "state": {
            "_dom_classes": [],
            "_model_module": "@jupyter-widgets/controls",
            "_model_module_version": "1.5.0",
            "_model_name": "HTMLModel",
            "_view_count": null,
            "_view_module": "@jupyter-widgets/controls",
            "_view_module_version": "1.5.0",
            "_view_name": "HTMLView",
            "description": "",
            "description_tooltip": null,
            "layout": "IPY_MODEL_4dc81f7182d7414cbd6cdbf5ce47941b",
            "placeholder": "​",
            "style": "IPY_MODEL_52ab03b1291c4adf9272b21902f50b12",
            "value": "100%"
          }
        },
        "9640ff4a3d3f417d82cd16be16400414": {
          "model_module": "@jupyter-widgets/controls",
          "model_name": "FloatProgressModel",
          "model_module_version": "1.5.0",
          "state": {
            "_dom_classes": [],
            "_model_module": "@jupyter-widgets/controls",
            "_model_module_version": "1.5.0",
            "_model_name": "FloatProgressModel",
            "_view_count": null,
            "_view_module": "@jupyter-widgets/controls",
            "_view_module_version": "1.5.0",
            "_view_name": "ProgressView",
            "bar_style": "success",
            "description": "",
            "description_tooltip": null,
            "layout": "IPY_MODEL_28115904b0f741b4835cda11d98583c4",
            "max": 5,
            "min": 0,
            "orientation": "horizontal",
            "style": "IPY_MODEL_608a27c6949648e89190d668b183fbab",
            "value": 5
          }
        },
        "2d408c40b24f4c7ba8951f1bf0559c46": {
          "model_module": "@jupyter-widgets/controls",
          "model_name": "HTMLModel",
          "model_module_version": "1.5.0",
          "state": {
            "_dom_classes": [],
            "_model_module": "@jupyter-widgets/controls",
            "_model_module_version": "1.5.0",
            "_model_name": "HTMLModel",
            "_view_count": null,
            "_view_module": "@jupyter-widgets/controls",
            "_view_module_version": "1.5.0",
            "_view_name": "HTMLView",
            "description": "",
            "description_tooltip": null,
            "layout": "IPY_MODEL_9dfa1a14806240589b22f3df9d9c2a8b",
            "placeholder": "​",
            "style": "IPY_MODEL_75d14641ea5b430890df882325324c4d",
            "value": " 5/5 [00:00&lt;00:00, 60.48it/s]"
          }
        },
        "07e1adbd3158421595e90b1ae1307b7a": {
          "model_module": "@jupyter-widgets/base",
          "model_name": "LayoutModel",
          "model_module_version": "1.2.0",
          "state": {
            "_model_module": "@jupyter-widgets/base",
            "_model_module_version": "1.2.0",
            "_model_name": "LayoutModel",
            "_view_count": null,
            "_view_module": "@jupyter-widgets/base",
            "_view_module_version": "1.2.0",
            "_view_name": "LayoutView",
            "align_content": null,
            "align_items": null,
            "align_self": null,
            "border": null,
            "bottom": null,
            "display": null,
            "flex": null,
            "flex_flow": null,
            "grid_area": null,
            "grid_auto_columns": null,
            "grid_auto_flow": null,
            "grid_auto_rows": null,
            "grid_column": null,
            "grid_gap": null,
            "grid_row": null,
            "grid_template_areas": null,
            "grid_template_columns": null,
            "grid_template_rows": null,
            "height": null,
            "justify_content": null,
            "justify_items": null,
            "left": null,
            "margin": null,
            "max_height": null,
            "max_width": null,
            "min_height": null,
            "min_width": null,
            "object_fit": null,
            "object_position": null,
            "order": null,
            "overflow": null,
            "overflow_x": null,
            "overflow_y": null,
            "padding": null,
            "right": null,
            "top": null,
            "visibility": null,
            "width": null
          }
        },
        "4dc81f7182d7414cbd6cdbf5ce47941b": {
          "model_module": "@jupyter-widgets/base",
          "model_name": "LayoutModel",
          "model_module_version": "1.2.0",
          "state": {
            "_model_module": "@jupyter-widgets/base",
            "_model_module_version": "1.2.0",
            "_model_name": "LayoutModel",
            "_view_count": null,
            "_view_module": "@jupyter-widgets/base",
            "_view_module_version": "1.2.0",
            "_view_name": "LayoutView",
            "align_content": null,
            "align_items": null,
            "align_self": null,
            "border": null,
            "bottom": null,
            "display": null,
            "flex": null,
            "flex_flow": null,
            "grid_area": null,
            "grid_auto_columns": null,
            "grid_auto_flow": null,
            "grid_auto_rows": null,
            "grid_column": null,
            "grid_gap": null,
            "grid_row": null,
            "grid_template_areas": null,
            "grid_template_columns": null,
            "grid_template_rows": null,
            "height": null,
            "justify_content": null,
            "justify_items": null,
            "left": null,
            "margin": null,
            "max_height": null,
            "max_width": null,
            "min_height": null,
            "min_width": null,
            "object_fit": null,
            "object_position": null,
            "order": null,
            "overflow": null,
            "overflow_x": null,
            "overflow_y": null,
            "padding": null,
            "right": null,
            "top": null,
            "visibility": null,
            "width": null
          }
        },
        "52ab03b1291c4adf9272b21902f50b12": {
          "model_module": "@jupyter-widgets/controls",
          "model_name": "DescriptionStyleModel",
          "model_module_version": "1.5.0",
          "state": {
            "_model_module": "@jupyter-widgets/controls",
            "_model_module_version": "1.5.0",
            "_model_name": "DescriptionStyleModel",
            "_view_count": null,
            "_view_module": "@jupyter-widgets/base",
            "_view_module_version": "1.2.0",
            "_view_name": "StyleView",
            "description_width": ""
          }
        },
        "28115904b0f741b4835cda11d98583c4": {
          "model_module": "@jupyter-widgets/base",
          "model_name": "LayoutModel",
          "model_module_version": "1.2.0",
          "state": {
            "_model_module": "@jupyter-widgets/base",
            "_model_module_version": "1.2.0",
            "_model_name": "LayoutModel",
            "_view_count": null,
            "_view_module": "@jupyter-widgets/base",
            "_view_module_version": "1.2.0",
            "_view_name": "LayoutView",
            "align_content": null,
            "align_items": null,
            "align_self": null,
            "border": null,
            "bottom": null,
            "display": null,
            "flex": null,
            "flex_flow": null,
            "grid_area": null,
            "grid_auto_columns": null,
            "grid_auto_flow": null,
            "grid_auto_rows": null,
            "grid_column": null,
            "grid_gap": null,
            "grid_row": null,
            "grid_template_areas": null,
            "grid_template_columns": null,
            "grid_template_rows": null,
            "height": null,
            "justify_content": null,
            "justify_items": null,
            "left": null,
            "margin": null,
            "max_height": null,
            "max_width": null,
            "min_height": null,
            "min_width": null,
            "object_fit": null,
            "object_position": null,
            "order": null,
            "overflow": null,
            "overflow_x": null,
            "overflow_y": null,
            "padding": null,
            "right": null,
            "top": null,
            "visibility": null,
            "width": null
          }
        },
        "608a27c6949648e89190d668b183fbab": {
          "model_module": "@jupyter-widgets/controls",
          "model_name": "ProgressStyleModel",
          "model_module_version": "1.5.0",
          "state": {
            "_model_module": "@jupyter-widgets/controls",
            "_model_module_version": "1.5.0",
            "_model_name": "ProgressStyleModel",
            "_view_count": null,
            "_view_module": "@jupyter-widgets/base",
            "_view_module_version": "1.2.0",
            "_view_name": "StyleView",
            "bar_color": null,
            "description_width": ""
          }
        },
        "9dfa1a14806240589b22f3df9d9c2a8b": {
          "model_module": "@jupyter-widgets/base",
          "model_name": "LayoutModel",
          "model_module_version": "1.2.0",
          "state": {
            "_model_module": "@jupyter-widgets/base",
            "_model_module_version": "1.2.0",
            "_model_name": "LayoutModel",
            "_view_count": null,
            "_view_module": "@jupyter-widgets/base",
            "_view_module_version": "1.2.0",
            "_view_name": "LayoutView",
            "align_content": null,
            "align_items": null,
            "align_self": null,
            "border": null,
            "bottom": null,
            "display": null,
            "flex": null,
            "flex_flow": null,
            "grid_area": null,
            "grid_auto_columns": null,
            "grid_auto_flow": null,
            "grid_auto_rows": null,
            "grid_column": null,
            "grid_gap": null,
            "grid_row": null,
            "grid_template_areas": null,
            "grid_template_columns": null,
            "grid_template_rows": null,
            "height": null,
            "justify_content": null,
            "justify_items": null,
            "left": null,
            "margin": null,
            "max_height": null,
            "max_width": null,
            "min_height": null,
            "min_width": null,
            "object_fit": null,
            "object_position": null,
            "order": null,
            "overflow": null,
            "overflow_x": null,
            "overflow_y": null,
            "padding": null,
            "right": null,
            "top": null,
            "visibility": null,
            "width": null
          }
        },
        "75d14641ea5b430890df882325324c4d": {
          "model_module": "@jupyter-widgets/controls",
          "model_name": "DescriptionStyleModel",
          "model_module_version": "1.5.0",
          "state": {
            "_model_module": "@jupyter-widgets/controls",
            "_model_module_version": "1.5.0",
            "_model_name": "DescriptionStyleModel",
            "_view_count": null,
            "_view_module": "@jupyter-widgets/base",
            "_view_module_version": "1.2.0",
            "_view_name": "StyleView",
            "description_width": ""
          }
        },
        "0e73a6caa77644b5b66e4abaa4eedc55": {
          "model_module": "@jupyter-widgets/controls",
          "model_name": "HBoxModel",
          "model_module_version": "1.5.0",
          "state": {
            "_dom_classes": [],
            "_model_module": "@jupyter-widgets/controls",
            "_model_module_version": "1.5.0",
            "_model_name": "HBoxModel",
            "_view_count": null,
            "_view_module": "@jupyter-widgets/controls",
            "_view_module_version": "1.5.0",
            "_view_name": "HBoxView",
            "box_style": "",
            "children": [
              "IPY_MODEL_1360e545e68e4ab58645b5465dc6a622",
              "IPY_MODEL_8dd2e5c6b0234d61bcc1f8eb3c42558c",
              "IPY_MODEL_ca99ffbf888849d5b4bf247d0e5904ba"
            ],
            "layout": "IPY_MODEL_c119950489a142528de89439f1ed08b5"
          }
        },
        "1360e545e68e4ab58645b5465dc6a622": {
          "model_module": "@jupyter-widgets/controls",
          "model_name": "HTMLModel",
          "model_module_version": "1.5.0",
          "state": {
            "_dom_classes": [],
            "_model_module": "@jupyter-widgets/controls",
            "_model_module_version": "1.5.0",
            "_model_name": "HTMLModel",
            "_view_count": null,
            "_view_module": "@jupyter-widgets/controls",
            "_view_module_version": "1.5.0",
            "_view_name": "HTMLView",
            "description": "",
            "description_tooltip": null,
            "layout": "IPY_MODEL_52422dd3f29d4b2096699f37b18f6eb3",
            "placeholder": "​",
            "style": "IPY_MODEL_8588a46d3e0d4b9b943989d0f1b562c2",
            "value": "100%"
          }
        },
        "8dd2e5c6b0234d61bcc1f8eb3c42558c": {
          "model_module": "@jupyter-widgets/controls",
          "model_name": "FloatProgressModel",
          "model_module_version": "1.5.0",
          "state": {
            "_dom_classes": [],
            "_model_module": "@jupyter-widgets/controls",
            "_model_module_version": "1.5.0",
            "_model_name": "FloatProgressModel",
            "_view_count": null,
            "_view_module": "@jupyter-widgets/controls",
            "_view_module_version": "1.5.0",
            "_view_name": "ProgressView",
            "bar_style": "success",
            "description": "",
            "description_tooltip": null,
            "layout": "IPY_MODEL_355c3c1e34d440c98b96f1e2e4aca565",
            "max": 5,
            "min": 0,
            "orientation": "horizontal",
            "style": "IPY_MODEL_e6c9cd846b0d4a3babda87bd1b3502c3",
            "value": 5
          }
        },
        "ca99ffbf888849d5b4bf247d0e5904ba": {
          "model_module": "@jupyter-widgets/controls",
          "model_name": "HTMLModel",
          "model_module_version": "1.5.0",
          "state": {
            "_dom_classes": [],
            "_model_module": "@jupyter-widgets/controls",
            "_model_module_version": "1.5.0",
            "_model_name": "HTMLModel",
            "_view_count": null,
            "_view_module": "@jupyter-widgets/controls",
            "_view_module_version": "1.5.0",
            "_view_name": "HTMLView",
            "description": "",
            "description_tooltip": null,
            "layout": "IPY_MODEL_d078a3278c0241c7a68c6d218fbb0615",
            "placeholder": "​",
            "style": "IPY_MODEL_0647cd081d934f71988128c74fb19b97",
            "value": " 5/5 [00:00&lt;00:00, 77.75it/s]"
          }
        },
        "c119950489a142528de89439f1ed08b5": {
          "model_module": "@jupyter-widgets/base",
          "model_name": "LayoutModel",
          "model_module_version": "1.2.0",
          "state": {
            "_model_module": "@jupyter-widgets/base",
            "_model_module_version": "1.2.0",
            "_model_name": "LayoutModel",
            "_view_count": null,
            "_view_module": "@jupyter-widgets/base",
            "_view_module_version": "1.2.0",
            "_view_name": "LayoutView",
            "align_content": null,
            "align_items": null,
            "align_self": null,
            "border": null,
            "bottom": null,
            "display": null,
            "flex": null,
            "flex_flow": null,
            "grid_area": null,
            "grid_auto_columns": null,
            "grid_auto_flow": null,
            "grid_auto_rows": null,
            "grid_column": null,
            "grid_gap": null,
            "grid_row": null,
            "grid_template_areas": null,
            "grid_template_columns": null,
            "grid_template_rows": null,
            "height": null,
            "justify_content": null,
            "justify_items": null,
            "left": null,
            "margin": null,
            "max_height": null,
            "max_width": null,
            "min_height": null,
            "min_width": null,
            "object_fit": null,
            "object_position": null,
            "order": null,
            "overflow": null,
            "overflow_x": null,
            "overflow_y": null,
            "padding": null,
            "right": null,
            "top": null,
            "visibility": null,
            "width": null
          }
        },
        "52422dd3f29d4b2096699f37b18f6eb3": {
          "model_module": "@jupyter-widgets/base",
          "model_name": "LayoutModel",
          "model_module_version": "1.2.0",
          "state": {
            "_model_module": "@jupyter-widgets/base",
            "_model_module_version": "1.2.0",
            "_model_name": "LayoutModel",
            "_view_count": null,
            "_view_module": "@jupyter-widgets/base",
            "_view_module_version": "1.2.0",
            "_view_name": "LayoutView",
            "align_content": null,
            "align_items": null,
            "align_self": null,
            "border": null,
            "bottom": null,
            "display": null,
            "flex": null,
            "flex_flow": null,
            "grid_area": null,
            "grid_auto_columns": null,
            "grid_auto_flow": null,
            "grid_auto_rows": null,
            "grid_column": null,
            "grid_gap": null,
            "grid_row": null,
            "grid_template_areas": null,
            "grid_template_columns": null,
            "grid_template_rows": null,
            "height": null,
            "justify_content": null,
            "justify_items": null,
            "left": null,
            "margin": null,
            "max_height": null,
            "max_width": null,
            "min_height": null,
            "min_width": null,
            "object_fit": null,
            "object_position": null,
            "order": null,
            "overflow": null,
            "overflow_x": null,
            "overflow_y": null,
            "padding": null,
            "right": null,
            "top": null,
            "visibility": null,
            "width": null
          }
        },
        "8588a46d3e0d4b9b943989d0f1b562c2": {
          "model_module": "@jupyter-widgets/controls",
          "model_name": "DescriptionStyleModel",
          "model_module_version": "1.5.0",
          "state": {
            "_model_module": "@jupyter-widgets/controls",
            "_model_module_version": "1.5.0",
            "_model_name": "DescriptionStyleModel",
            "_view_count": null,
            "_view_module": "@jupyter-widgets/base",
            "_view_module_version": "1.2.0",
            "_view_name": "StyleView",
            "description_width": ""
          }
        },
        "355c3c1e34d440c98b96f1e2e4aca565": {
          "model_module": "@jupyter-widgets/base",
          "model_name": "LayoutModel",
          "model_module_version": "1.2.0",
          "state": {
            "_model_module": "@jupyter-widgets/base",
            "_model_module_version": "1.2.0",
            "_model_name": "LayoutModel",
            "_view_count": null,
            "_view_module": "@jupyter-widgets/base",
            "_view_module_version": "1.2.0",
            "_view_name": "LayoutView",
            "align_content": null,
            "align_items": null,
            "align_self": null,
            "border": null,
            "bottom": null,
            "display": null,
            "flex": null,
            "flex_flow": null,
            "grid_area": null,
            "grid_auto_columns": null,
            "grid_auto_flow": null,
            "grid_auto_rows": null,
            "grid_column": null,
            "grid_gap": null,
            "grid_row": null,
            "grid_template_areas": null,
            "grid_template_columns": null,
            "grid_template_rows": null,
            "height": null,
            "justify_content": null,
            "justify_items": null,
            "left": null,
            "margin": null,
            "max_height": null,
            "max_width": null,
            "min_height": null,
            "min_width": null,
            "object_fit": null,
            "object_position": null,
            "order": null,
            "overflow": null,
            "overflow_x": null,
            "overflow_y": null,
            "padding": null,
            "right": null,
            "top": null,
            "visibility": null,
            "width": null
          }
        },
        "e6c9cd846b0d4a3babda87bd1b3502c3": {
          "model_module": "@jupyter-widgets/controls",
          "model_name": "ProgressStyleModel",
          "model_module_version": "1.5.0",
          "state": {
            "_model_module": "@jupyter-widgets/controls",
            "_model_module_version": "1.5.0",
            "_model_name": "ProgressStyleModel",
            "_view_count": null,
            "_view_module": "@jupyter-widgets/base",
            "_view_module_version": "1.2.0",
            "_view_name": "StyleView",
            "bar_color": null,
            "description_width": ""
          }
        },
        "d078a3278c0241c7a68c6d218fbb0615": {
          "model_module": "@jupyter-widgets/base",
          "model_name": "LayoutModel",
          "model_module_version": "1.2.0",
          "state": {
            "_model_module": "@jupyter-widgets/base",
            "_model_module_version": "1.2.0",
            "_model_name": "LayoutModel",
            "_view_count": null,
            "_view_module": "@jupyter-widgets/base",
            "_view_module_version": "1.2.0",
            "_view_name": "LayoutView",
            "align_content": null,
            "align_items": null,
            "align_self": null,
            "border": null,
            "bottom": null,
            "display": null,
            "flex": null,
            "flex_flow": null,
            "grid_area": null,
            "grid_auto_columns": null,
            "grid_auto_flow": null,
            "grid_auto_rows": null,
            "grid_column": null,
            "grid_gap": null,
            "grid_row": null,
            "grid_template_areas": null,
            "grid_template_columns": null,
            "grid_template_rows": null,
            "height": null,
            "justify_content": null,
            "justify_items": null,
            "left": null,
            "margin": null,
            "max_height": null,
            "max_width": null,
            "min_height": null,
            "min_width": null,
            "object_fit": null,
            "object_position": null,
            "order": null,
            "overflow": null,
            "overflow_x": null,
            "overflow_y": null,
            "padding": null,
            "right": null,
            "top": null,
            "visibility": null,
            "width": null
          }
        },
        "0647cd081d934f71988128c74fb19b97": {
          "model_module": "@jupyter-widgets/controls",
          "model_name": "DescriptionStyleModel",
          "model_module_version": "1.5.0",
          "state": {
            "_model_module": "@jupyter-widgets/controls",
            "_model_module_version": "1.5.0",
            "_model_name": "DescriptionStyleModel",
            "_view_count": null,
            "_view_module": "@jupyter-widgets/base",
            "_view_module_version": "1.2.0",
            "_view_name": "StyleView",
            "description_width": ""
          }
        },
        "9b7abdfd4789481ebfe8c24bfa9f6a89": {
          "model_module": "@jupyter-widgets/controls",
          "model_name": "HBoxModel",
          "model_module_version": "1.5.0",
          "state": {
            "_dom_classes": [],
            "_model_module": "@jupyter-widgets/controls",
            "_model_module_version": "1.5.0",
            "_model_name": "HBoxModel",
            "_view_count": null,
            "_view_module": "@jupyter-widgets/controls",
            "_view_module_version": "1.5.0",
            "_view_name": "HBoxView",
            "box_style": "",
            "children": [
              "IPY_MODEL_4a55e26e7a1a4717b4590a5134e4752b",
              "IPY_MODEL_df195b54f2374684a820d7c0c3de69b0",
              "IPY_MODEL_8190b5f2abc143ff97a2ed2584960278"
            ],
            "layout": "IPY_MODEL_1e63867967df4bb8b780daf990783fac"
          }
        },
        "4a55e26e7a1a4717b4590a5134e4752b": {
          "model_module": "@jupyter-widgets/controls",
          "model_name": "HTMLModel",
          "model_module_version": "1.5.0",
          "state": {
            "_dom_classes": [],
            "_model_module": "@jupyter-widgets/controls",
            "_model_module_version": "1.5.0",
            "_model_name": "HTMLModel",
            "_view_count": null,
            "_view_module": "@jupyter-widgets/controls",
            "_view_module_version": "1.5.0",
            "_view_name": "HTMLView",
            "description": "",
            "description_tooltip": null,
            "layout": "IPY_MODEL_f7bb5379f109441a9b5fe4f267343373",
            "placeholder": "​",
            "style": "IPY_MODEL_316ca04c96624463b150901675b3a246",
            "value": "100%"
          }
        },
        "df195b54f2374684a820d7c0c3de69b0": {
          "model_module": "@jupyter-widgets/controls",
          "model_name": "FloatProgressModel",
          "model_module_version": "1.5.0",
          "state": {
            "_dom_classes": [],
            "_model_module": "@jupyter-widgets/controls",
            "_model_module_version": "1.5.0",
            "_model_name": "FloatProgressModel",
            "_view_count": null,
            "_view_module": "@jupyter-widgets/controls",
            "_view_module_version": "1.5.0",
            "_view_name": "ProgressView",
            "bar_style": "success",
            "description": "",
            "description_tooltip": null,
            "layout": "IPY_MODEL_f4eff83be76c487e9638b0a0e38d1e0c",
            "max": 142,
            "min": 0,
            "orientation": "horizontal",
            "style": "IPY_MODEL_08c7fa1e61534915955ce3b490e1e4c0",
            "value": 142
          }
        },
        "8190b5f2abc143ff97a2ed2584960278": {
          "model_module": "@jupyter-widgets/controls",
          "model_name": "HTMLModel",
          "model_module_version": "1.5.0",
          "state": {
            "_dom_classes": [],
            "_model_module": "@jupyter-widgets/controls",
            "_model_module_version": "1.5.0",
            "_model_name": "HTMLModel",
            "_view_count": null,
            "_view_module": "@jupyter-widgets/controls",
            "_view_module_version": "1.5.0",
            "_view_name": "HTMLView",
            "description": "",
            "description_tooltip": null,
            "layout": "IPY_MODEL_30487e8833e14d548b287f722040f707",
            "placeholder": "​",
            "style": "IPY_MODEL_aadcababd0414340b9c4fc6780b9713d",
            "value": " 142/142 [00:00&lt;00:00, 2151.41it/s]"
          }
        },
        "1e63867967df4bb8b780daf990783fac": {
          "model_module": "@jupyter-widgets/base",
          "model_name": "LayoutModel",
          "model_module_version": "1.2.0",
          "state": {
            "_model_module": "@jupyter-widgets/base",
            "_model_module_version": "1.2.0",
            "_model_name": "LayoutModel",
            "_view_count": null,
            "_view_module": "@jupyter-widgets/base",
            "_view_module_version": "1.2.0",
            "_view_name": "LayoutView",
            "align_content": null,
            "align_items": null,
            "align_self": null,
            "border": null,
            "bottom": null,
            "display": null,
            "flex": null,
            "flex_flow": null,
            "grid_area": null,
            "grid_auto_columns": null,
            "grid_auto_flow": null,
            "grid_auto_rows": null,
            "grid_column": null,
            "grid_gap": null,
            "grid_row": null,
            "grid_template_areas": null,
            "grid_template_columns": null,
            "grid_template_rows": null,
            "height": null,
            "justify_content": null,
            "justify_items": null,
            "left": null,
            "margin": null,
            "max_height": null,
            "max_width": null,
            "min_height": null,
            "min_width": null,
            "object_fit": null,
            "object_position": null,
            "order": null,
            "overflow": null,
            "overflow_x": null,
            "overflow_y": null,
            "padding": null,
            "right": null,
            "top": null,
            "visibility": null,
            "width": null
          }
        },
        "f7bb5379f109441a9b5fe4f267343373": {
          "model_module": "@jupyter-widgets/base",
          "model_name": "LayoutModel",
          "model_module_version": "1.2.0",
          "state": {
            "_model_module": "@jupyter-widgets/base",
            "_model_module_version": "1.2.0",
            "_model_name": "LayoutModel",
            "_view_count": null,
            "_view_module": "@jupyter-widgets/base",
            "_view_module_version": "1.2.0",
            "_view_name": "LayoutView",
            "align_content": null,
            "align_items": null,
            "align_self": null,
            "border": null,
            "bottom": null,
            "display": null,
            "flex": null,
            "flex_flow": null,
            "grid_area": null,
            "grid_auto_columns": null,
            "grid_auto_flow": null,
            "grid_auto_rows": null,
            "grid_column": null,
            "grid_gap": null,
            "grid_row": null,
            "grid_template_areas": null,
            "grid_template_columns": null,
            "grid_template_rows": null,
            "height": null,
            "justify_content": null,
            "justify_items": null,
            "left": null,
            "margin": null,
            "max_height": null,
            "max_width": null,
            "min_height": null,
            "min_width": null,
            "object_fit": null,
            "object_position": null,
            "order": null,
            "overflow": null,
            "overflow_x": null,
            "overflow_y": null,
            "padding": null,
            "right": null,
            "top": null,
            "visibility": null,
            "width": null
          }
        },
        "316ca04c96624463b150901675b3a246": {
          "model_module": "@jupyter-widgets/controls",
          "model_name": "DescriptionStyleModel",
          "model_module_version": "1.5.0",
          "state": {
            "_model_module": "@jupyter-widgets/controls",
            "_model_module_version": "1.5.0",
            "_model_name": "DescriptionStyleModel",
            "_view_count": null,
            "_view_module": "@jupyter-widgets/base",
            "_view_module_version": "1.2.0",
            "_view_name": "StyleView",
            "description_width": ""
          }
        },
        "f4eff83be76c487e9638b0a0e38d1e0c": {
          "model_module": "@jupyter-widgets/base",
          "model_name": "LayoutModel",
          "model_module_version": "1.2.0",
          "state": {
            "_model_module": "@jupyter-widgets/base",
            "_model_module_version": "1.2.0",
            "_model_name": "LayoutModel",
            "_view_count": null,
            "_view_module": "@jupyter-widgets/base",
            "_view_module_version": "1.2.0",
            "_view_name": "LayoutView",
            "align_content": null,
            "align_items": null,
            "align_self": null,
            "border": null,
            "bottom": null,
            "display": null,
            "flex": null,
            "flex_flow": null,
            "grid_area": null,
            "grid_auto_columns": null,
            "grid_auto_flow": null,
            "grid_auto_rows": null,
            "grid_column": null,
            "grid_gap": null,
            "grid_row": null,
            "grid_template_areas": null,
            "grid_template_columns": null,
            "grid_template_rows": null,
            "height": null,
            "justify_content": null,
            "justify_items": null,
            "left": null,
            "margin": null,
            "max_height": null,
            "max_width": null,
            "min_height": null,
            "min_width": null,
            "object_fit": null,
            "object_position": null,
            "order": null,
            "overflow": null,
            "overflow_x": null,
            "overflow_y": null,
            "padding": null,
            "right": null,
            "top": null,
            "visibility": null,
            "width": null
          }
        },
        "08c7fa1e61534915955ce3b490e1e4c0": {
          "model_module": "@jupyter-widgets/controls",
          "model_name": "ProgressStyleModel",
          "model_module_version": "1.5.0",
          "state": {
            "_model_module": "@jupyter-widgets/controls",
            "_model_module_version": "1.5.0",
            "_model_name": "ProgressStyleModel",
            "_view_count": null,
            "_view_module": "@jupyter-widgets/base",
            "_view_module_version": "1.2.0",
            "_view_name": "StyleView",
            "bar_color": null,
            "description_width": ""
          }
        },
        "30487e8833e14d548b287f722040f707": {
          "model_module": "@jupyter-widgets/base",
          "model_name": "LayoutModel",
          "model_module_version": "1.2.0",
          "state": {
            "_model_module": "@jupyter-widgets/base",
            "_model_module_version": "1.2.0",
            "_model_name": "LayoutModel",
            "_view_count": null,
            "_view_module": "@jupyter-widgets/base",
            "_view_module_version": "1.2.0",
            "_view_name": "LayoutView",
            "align_content": null,
            "align_items": null,
            "align_self": null,
            "border": null,
            "bottom": null,
            "display": null,
            "flex": null,
            "flex_flow": null,
            "grid_area": null,
            "grid_auto_columns": null,
            "grid_auto_flow": null,
            "grid_auto_rows": null,
            "grid_column": null,
            "grid_gap": null,
            "grid_row": null,
            "grid_template_areas": null,
            "grid_template_columns": null,
            "grid_template_rows": null,
            "height": null,
            "justify_content": null,
            "justify_items": null,
            "left": null,
            "margin": null,
            "max_height": null,
            "max_width": null,
            "min_height": null,
            "min_width": null,
            "object_fit": null,
            "object_position": null,
            "order": null,
            "overflow": null,
            "overflow_x": null,
            "overflow_y": null,
            "padding": null,
            "right": null,
            "top": null,
            "visibility": null,
            "width": null
          }
        },
        "aadcababd0414340b9c4fc6780b9713d": {
          "model_module": "@jupyter-widgets/controls",
          "model_name": "DescriptionStyleModel",
          "model_module_version": "1.5.0",
          "state": {
            "_model_module": "@jupyter-widgets/controls",
            "_model_module_version": "1.5.0",
            "_model_name": "DescriptionStyleModel",
            "_view_count": null,
            "_view_module": "@jupyter-widgets/base",
            "_view_module_version": "1.2.0",
            "_view_name": "StyleView",
            "description_width": ""
          }
        }
      }
    }
  },
  "cells": [
    {
      "cell_type": "markdown",
      "metadata": {
        "id": "view-in-github",
        "colab_type": "text"
      },
      "source": [
        "<a href=\"https://colab.research.google.com/github/sreehari59/Polar-Embedding/blob/main/Polar_Embedding_Generator.ipynb\" target=\"_parent\"><img src=\"https://colab.research.google.com/assets/colab-badge.svg\" alt=\"Open In Colab\"/></a>"
      ]
    },
    {
      "cell_type": "code",
      "source": [
        "# Uncomment the below line for Google News\n",
        "# !pip install -U gensim==3.8.3 "
      ],
      "metadata": {
        "id": "PG7EFu2ejojt"
      },
      "execution_count": null,
      "outputs": []
    },
    {
      "cell_type": "code",
      "source": [
        "import gensim\n",
        "from numpy import linalg\n",
        "import numpy as np\n",
        "import pandas as pd\n",
        "from sklearn.metrics.pairwise import cosine_similarity\n",
        "from tqdm import tqdm_notebook as tqdm\n",
        "import time\n",
        "from random import shuffle\n",
        "import sys\n",
        "import nltk \n",
        "from nltk.corpus import wordnet \n",
        "import gc\n",
        "from collections import defaultdict\n",
        "import random\n",
        "import json\n",
        "import os\n",
        "\n",
        "from gensim.scripts.glove2word2vec import glove2word2vec\n",
        "from gensim.test.utils import datapath, get_tmpfile\n",
        "\n",
        "from gensim.test.utils import datapath\n",
        "\n",
        "# This is for the plotly subplots\n",
        "from plotly.subplots import make_subplots\n",
        "import plotly.graph_objects as go\n",
        "\n",
        "# This is to download csv file\n",
        "from google.colab import files\n",
        "\n",
        "import random\n",
        "import scipy\n",
        "\n",
        "\n",
        "!pip install ipython-autotime\n",
        "%load_ext autotime"
      ],
      "metadata": {
        "id": "xalZuMGOIbSJ",
        "colab": {
          "base_uri": "https://localhost:8080/"
        },
        "outputId": "83334812-89cf-4e01-a95d-912b803658d8"
      },
      "execution_count": 1,
      "outputs": [
        {
          "output_type": "stream",
          "name": "stdout",
          "text": [
            "Looking in indexes: https://pypi.org/simple, https://us-python.pkg.dev/colab-wheels/public/simple/\n",
            "Collecting ipython-autotime\n",
            "  Downloading ipython_autotime-0.3.1-py2.py3-none-any.whl (6.8 kB)\n",
            "Requirement already satisfied: ipython in /usr/local/lib/python3.7/dist-packages (from ipython-autotime) (5.5.0)\n",
            "Requirement already satisfied: prompt-toolkit<2.0.0,>=1.0.4 in /usr/local/lib/python3.7/dist-packages (from ipython->ipython-autotime) (1.0.18)\n",
            "Requirement already satisfied: setuptools>=18.5 in /usr/local/lib/python3.7/dist-packages (from ipython->ipython-autotime) (57.4.0)\n",
            "Requirement already satisfied: traitlets>=4.2 in /usr/local/lib/python3.7/dist-packages (from ipython->ipython-autotime) (5.1.1)\n",
            "Requirement already satisfied: pygments in /usr/local/lib/python3.7/dist-packages (from ipython->ipython-autotime) (2.6.1)\n",
            "Requirement already satisfied: pexpect in /usr/local/lib/python3.7/dist-packages (from ipython->ipython-autotime) (4.8.0)\n",
            "Requirement already satisfied: pickleshare in /usr/local/lib/python3.7/dist-packages (from ipython->ipython-autotime) (0.7.5)\n",
            "Requirement already satisfied: simplegeneric>0.8 in /usr/local/lib/python3.7/dist-packages (from ipython->ipython-autotime) (0.8.1)\n",
            "Requirement already satisfied: decorator in /usr/local/lib/python3.7/dist-packages (from ipython->ipython-autotime) (4.4.2)\n",
            "Requirement already satisfied: six>=1.9.0 in /usr/local/lib/python3.7/dist-packages (from prompt-toolkit<2.0.0,>=1.0.4->ipython->ipython-autotime) (1.15.0)\n",
            "Requirement already satisfied: wcwidth in /usr/local/lib/python3.7/dist-packages (from prompt-toolkit<2.0.0,>=1.0.4->ipython->ipython-autotime) (0.2.5)\n",
            "Requirement already satisfied: ptyprocess>=0.5 in /usr/local/lib/python3.7/dist-packages (from pexpect->ipython->ipython-autotime) (0.7.0)\n",
            "Installing collected packages: ipython-autotime\n",
            "Successfully installed ipython-autotime-0.3.1\n",
            "time: 2.07 ms (started: 2022-06-09 13:10:23 +00:00)\n"
          ]
        }
      ]
    },
    {
      "cell_type": "markdown",
      "source": [
        "**Run this cell only for Glove Wiki**"
      ],
      "metadata": {
        "id": "xHAZ2ZzRQqPN"
      }
    },
    {
      "cell_type": "code",
      "source": [
        "def unzipping_file():\n",
        "  !wget https://nlp.stanford.edu/data/glove.6B.zip\n",
        "  !unzip glove*.zip # When it is unzipped you can see the different set of dimension it can have that is 25d, 50d, 100d or 200d"
      ],
      "metadata": {
        "colab": {
          "base_uri": "https://localhost:8080/"
        },
        "id": "UdjMJPsQin5X",
        "outputId": "47480ae5-d0ec-4a37-aee1-c12a1488b12a"
      },
      "execution_count": 4,
      "outputs": [
        {
          "output_type": "stream",
          "name": "stdout",
          "text": [
            "time: 1.83 ms (started: 2022-06-09 13:11:59 +00:00)\n"
          ]
        }
      ]
    },
    {
      "cell_type": "markdown",
      "source": [
        "**Run this cell only for Google News**"
      ],
      "metadata": {
        "id": "EwqxJA1ejuHs"
      }
    },
    {
      "cell_type": "code",
      "source": [
        "# Uncomment below lines if running for google news\n",
        "# In file_path variable line give the filepath of Google news bin file\n",
        "#file_path = \"\"\n",
        "#model_gn = gensim.models.KeyedVectors.load_word2vec_format(file_path,binary=True)\n",
        "#current_model = model_gn"
      ],
      "metadata": {
        "colab": {
          "base_uri": "https://localhost:8080/"
        },
        "id": "WYnN2Bssjtpe",
        "outputId": "3293c9c8-d9d4-4e1b-b72f-214dbcbf42d3"
      },
      "execution_count": 5,
      "outputs": [
        {
          "output_type": "stream",
          "name": "stdout",
          "text": [
            "time: 1.83 ms (started: 2022-06-09 13:12:00 +00:00)\n"
          ]
        }
      ]
    },
    {
      "cell_type": "code",
      "source": [
        "def model_initialization(unzippedname, new_name):\n",
        "  model_glove = glove2word2vec(unzippedname,new_name)\n",
        "  model_glove = gensim.models.KeyedVectors.load_word2vec_format(new_name, binary=False)\n",
        "  return model_glove"
      ],
      "metadata": {
        "colab": {
          "base_uri": "https://localhost:8080/"
        },
        "id": "lSgm_BuJi1u2",
        "outputId": "4a3224fd-e1d2-4462-d0f6-aec3ce25c128"
      },
      "execution_count": 6,
      "outputs": [
        {
          "output_type": "stream",
          "name": "stdout",
          "text": [
            "time: 2.82 ms (started: 2022-06-09 13:12:00 +00:00)\n"
          ]
        }
      ]
    },
    {
      "cell_type": "code",
      "source": [
        "def generate_norm_embedding(model, output_path):\n",
        "    temp_file = open(output_path,'wb')\n",
        "    temp_file.write(str.encode(str(len(model.vocab))+' '+str(model.vector_size)+'\\n'))\n",
        "    \n",
        "    for each_word in tqdm(model.vocab):\n",
        "        temp_file.write(str.encode(each_word+' '))  \n",
        "        temp_file.write(model[each_word]/linalg.norm(model[each_word]))\n",
        "        temp_file.write(str.encode('\\n'))\n",
        "    \n",
        "    \n",
        "    temp_file.close()\n",
        "    return output_path"
      ],
      "metadata": {
        "colab": {
          "base_uri": "https://localhost:8080/"
        },
        "id": "4QDhOxMki1xK",
        "outputId": "0ee8f92d-9be7-4f8c-e85f-877d24ea26f6"
      },
      "execution_count": 7,
      "outputs": [
        {
          "output_type": "stream",
          "name": "stdout",
          "text": [
            "time: 16.8 ms (started: 2022-06-09 13:12:00 +00:00)\n"
          ]
        }
      ]
    },
    {
      "cell_type": "code",
      "source": [
        "def load_normalized_embedding(output_file_name):\n",
        "  return gensim.models.KeyedVectors.load_word2vec_format(output_file_name,binary=True)"
      ],
      "metadata": {
        "colab": {
          "base_uri": "https://localhost:8080/"
        },
        "id": "QCNWlFQ4j1BB",
        "outputId": "cba216b0-6e6c-42dc-ac6d-6564e0c5658e"
      },
      "execution_count": 8,
      "outputs": [
        {
          "output_type": "stream",
          "name": "stdout",
          "text": [
            "time: 2 ms (started: 2022-06-09 13:12:00 +00:00)\n"
          ]
        }
      ]
    },
    {
      "cell_type": "markdown",
      "source": [
        "**Loading the Antonym**"
      ],
      "metadata": {
        "id": "tjuehT_KlDNq"
      }
    },
    {
      "cell_type": "code",
      "source": [
        "def load_antonyms(list_new,current_model):\n",
        "  list_new= list(dict.fromkeys(list_new).keys())\n",
        "\n",
        "  similarity_matrix = defaultdict(list)\n",
        "  for each_pair in tqdm(list_new):\n",
        "      word1 = each_pair[0]\n",
        "      word2 = each_pair[1]\n",
        "      if word1 < word2:\n",
        "          similarity_matrix[word1].append(word2)\n",
        "      else:\n",
        "          similarity_matrix[word2].append(word1)\n",
        "\n",
        "  all_similarity = defaultdict(dict)\n",
        "  for each_key in tqdm(similarity_matrix):\n",
        "      for each_value in similarity_matrix[each_key]:\n",
        "  #         cosine_similarity([current_model[each_key]]\n",
        "          try:\n",
        "            all_similarity[each_key][each_value] = abs(cosine_similarity([current_model[each_key]],[current_model[each_value]])[0][0])\n",
        "          except:\n",
        "            print(\"The word is not in the vocabulary : \",each_key,\" \",each_value)\n",
        "\n",
        "  final_list = []\n",
        "  for index_counter, each_key in enumerate(tqdm(all_similarity)):\n",
        "  #     print(each_key,all_similarity[each_key])\n",
        "      listofTuples = sorted(all_similarity[each_key].items() ,  key=lambda x: x[1])\n",
        "  #     print(listofTuples)\n",
        "      final_list.append((each_key, listofTuples[0][0]))\n",
        "  print(len(final_list))\n",
        "\n",
        "  list_antonym = final_list\n",
        "  \n",
        "  return list_antonym"
      ],
      "metadata": {
        "colab": {
          "base_uri": "https://localhost:8080/"
        },
        "id": "GlVgY5XWklFf",
        "outputId": "78d7bb26-b922-494c-b083-3ab4d19d0283"
      },
      "execution_count": 9,
      "outputs": [
        {
          "output_type": "stream",
          "name": "stdout",
          "text": [
            "time: 27 ms (started: 2022-06-09 13:12:00 +00:00)\n"
          ]
        }
      ]
    },
    {
      "cell_type": "markdown",
      "source": [
        "**Find the antonym difference vectors**"
      ],
      "metadata": {
        "id": "j6CL60GP1k0_"
      }
    },
    {
      "cell_type": "code",
      "source": [
        "def antonym_difference_vector(list_antonym,current_model):\n",
        "  num_antonym  = len(list_antonym)\n",
        "  antonymy_vector = []\n",
        "  for each_word_pair in list_antonym:\n",
        "      antonymy_vector.append(current_model[each_word_pair[0]]- current_model[each_word_pair[1]])\n",
        "      \n",
        "  antonymy_vector = np.array(antonymy_vector)\n",
        "  print(antonymy_vector.shape)\n",
        "  print(antonymy_vector)\n",
        "  return antonymy_vector"
      ],
      "metadata": {
        "colab": {
          "base_uri": "https://localhost:8080/"
        },
        "id": "R7yjuU_V1boY",
        "outputId": "d6021348-ac87-4af9-e167-0731665f5e77"
      },
      "execution_count": 10,
      "outputs": [
        {
          "output_type": "stream",
          "name": "stdout",
          "text": [
            "time: 5.7 ms (started: 2022-06-09 13:12:00 +00:00)\n"
          ]
        }
      ]
    },
    {
      "cell_type": "code",
      "source": [
        "def generate_embedding_path(current_model, embedding_path, binary, antonym_vector, curr_dim,antonymy_vector):\n",
        "    curr_antonym_vector = antonymy_vector[antonym_vector[:curr_dim]]\n",
        "    curr_antonymy_vector_inverse = np.linalg.pinv(np.transpose(curr_antonym_vector))\n",
        "    new_embedding_dict = transform_to_antonym_space(current_model, embedding_path, binary,curr_antonymy_vector_inverse)\n",
        "\n",
        "    return new_embedding_dict"
      ],
      "metadata": {
        "colab": {
          "base_uri": "https://localhost:8080/"
        },
        "id": "Qje6gzz323Pt",
        "outputId": "968f6f0c-edba-4b0d-bdcb-008c7df506c0"
      },
      "execution_count": 11,
      "outputs": [
        {
          "output_type": "stream",
          "name": "stdout",
          "text": [
            "time: 4.17 ms (started: 2022-06-09 13:12:00 +00:00)\n"
          ]
        }
      ]
    },
    {
      "cell_type": "code",
      "source": [
        "def transform_to_antonym_space(current_model, output_file_path, binary, current_antonymy_vector_inverse):\n",
        "\n",
        "    temp_dict = dict()\n",
        "\n",
        "    embedding_size = current_antonymy_vector_inverse.shape[0]   ##CHANGE THIS ACCORDINGLY!!!\n",
        "    #print('New model size is',len(current_model), embedding_size)\n",
        "\n",
        "    temp_file = None\n",
        "    \n",
        "    if binary:\n",
        "        temp_file = open(output_file_path,'wb')\n",
        "        temp_file.write(str.encode(str(len(current_model))+' '+str(embedding_size)+'\\n'))\n",
        "    else:\n",
        "        temp_file = open(output_file_path,'w')\n",
        "        temp_file.write(str(len(current_model))+' '+str(embedding_size)+'\\n')\n",
        "\n",
        "    total_words = 0\n",
        "    for each_word in tqdm(current_model):\n",
        "        total_words += 1\n",
        "        if binary:\n",
        "            temp_file.write(str.encode(each_word+' '))\n",
        "        else:\n",
        "            temp_file.write(each_word+' ')\n",
        "\n",
        "        new_vector = np.matmul(current_antonymy_vector_inverse,current_model[each_word])\n",
        "\n",
        "        new_vector = new_vector/linalg.norm(new_vector)\n",
        "        temp_dict[each_word] = new_vector\n",
        "        \n",
        "        if binary:\n",
        "            temp_file.write(new_vector)\n",
        "            temp_file.write(str.encode('\\n'))\n",
        "        else:\n",
        "            temp_file.write(str(new_vector))\n",
        "            temp_file.write('\\n')\n",
        "\n",
        "\n",
        "    temp_file.close()\n",
        "    return temp_dict"
      ],
      "metadata": {
        "colab": {
          "base_uri": "https://localhost:8080/"
        },
        "id": "gRPHIto2-nmb",
        "outputId": "6034067f-be19-4725-df58-4b7e051dfdd9"
      },
      "execution_count": 12,
      "outputs": [
        {
          "output_type": "stream",
          "name": "stdout",
          "text": [
            "time: 28 ms (started: 2022-06-09 13:12:00 +00:00)\n"
          ]
        }
      ]
    },
    {
      "cell_type": "code",
      "source": [
        "def make_polar_dict(company_name, antonym, embedding, top_n = False, n = 10):\n",
        "  temp_dict = dict()\n",
        "  temp_polar = embedding[company_name]\n",
        "\n",
        "  if top_n:\n",
        "    idx = np.argsort([abs(x) for x in temp_polar])[-n:]\n",
        "    for i in idx:\n",
        "      print(antonym[i],temp_polar[i],'\\n')\n",
        "\n",
        "\n",
        "  if len(antonym) == len(temp_polar):\n",
        "    for a in range(len(antonym)):\n",
        "      temp_dict[antonym[a]] = temp_polar[a]\n",
        "    return temp_dict"
      ],
      "metadata": {
        "colab": {
          "base_uri": "https://localhost:8080/"
        },
        "id": "YSuobcrrQbHC",
        "outputId": "364cea24-cd8d-44b1-8dbf-2e6ad47d79c8"
      },
      "execution_count": 13,
      "outputs": [
        {
          "output_type": "stream",
          "name": "stdout",
          "text": [
            "time: 9.88 ms (started: 2022-06-09 13:12:00 +00:00)\n"
          ]
        }
      ]
    },
    {
      "cell_type": "code",
      "source": [
        "def download_csv_file(df,filename):\n",
        "  df.to_csv(filename)\n",
        "  files.download(filename)"
      ],
      "metadata": {
        "colab": {
          "base_uri": "https://localhost:8080/"
        },
        "id": "c7vyAQYjb1C3",
        "outputId": "b9267480-d7bf-426c-e6db-e2b7a6d1d5d2"
      },
      "execution_count": 14,
      "outputs": [
        {
          "output_type": "stream",
          "name": "stdout",
          "text": [
            "time: 2.05 ms (started: 2022-06-09 13:12:00 +00:00)\n"
          ]
        }
      ]
    },
    {
      "cell_type": "markdown",
      "source": [
        "**The below function will input the antonym pair from the user**"
      ],
      "metadata": {
        "id": "fNALrHuMat_N"
      }
    },
    {
      "cell_type": "code",
      "source": [
        "def user_antonym_input(list_new,user_list):\n",
        "  list_new.append(user_list)\n",
        "  return list_new"
      ],
      "metadata": {
        "id": "22ilbIPLai9Z",
        "colab": {
          "base_uri": "https://localhost:8080/"
        },
        "outputId": "d5374dc5-baa7-4719-97df-09c36664527c"
      },
      "execution_count": 15,
      "outputs": [
        {
          "output_type": "stream",
          "name": "stdout",
          "text": [
            "time: 1.94 ms (started: 2022-06-09 13:12:00 +00:00)\n"
          ]
        }
      ]
    },
    {
      "cell_type": "code",
      "source": [
        "def clear_tuple(tuples):\n",
        "  temp = list(tuples)\n",
        "  temp.clear()\n",
        "  tuples = tuple(temp)\n",
        "  return tuples"
      ],
      "metadata": {
        "colab": {
          "base_uri": "https://localhost:8080/"
        },
        "id": "Y5GgRVOEeNqB",
        "outputId": "64592269-1427-4c4f-e36b-5f2df664be0f"
      },
      "execution_count": 16,
      "outputs": [
        {
          "output_type": "stream",
          "name": "stdout",
          "text": [
            "time: 3.81 ms (started: 2022-06-09 13:12:00 +00:00)\n"
          ]
        }
      ]
    },
    {
      "cell_type": "markdown",
      "source": [
        "**Below cell is to create the random Word list**"
      ],
      "metadata": {
        "id": "nzVm7Nvvodyx"
      }
    },
    {
      "cell_type": "code",
      "source": [
        "def random_word_list(number_of_elements):  \n",
        "  list_antonym = []  \n",
        "  with open('../data/raw/Antonym_sets/LenciBenotto.val') as fp:  \n",
        "      for line in fp:\n",
        "          parts = line.split() # The line is split into 4 parts as there are 3 space in between\n",
        "          if parts[3]=='antonym': # Here we if the the 4th part that is parts[3] in the line is antonym then that line is selected\n",
        "              word1 = parts[0].split('-')[0]\n",
        "              word2 = parts[1].split('-')[0]\n",
        "              if word1 in current_model and word2 in current_model: # If both the words are there in the model then it is appended to the list\n",
        "                  list_antonym.append((word1.strip().lower(), word2.strip().lower()))\n",
        "  \n",
        "  return random.sample(list_antonym, number_of_elements)"
      ],
      "metadata": {
        "colab": {
          "base_uri": "https://localhost:8080/"
        },
        "id": "v3xNGAqDK9vc",
        "outputId": "39ffd979-f3f1-4bf9-d377-e642c465532a"
      },
      "execution_count": 17,
      "outputs": [
        {
          "output_type": "stream",
          "name": "stdout",
          "text": [
            "time: 14.5 ms (started: 2022-06-09 13:12:00 +00:00)\n"
          ]
        }
      ]
    },
    {
      "cell_type": "code",
      "source": [
        "def similar_word_to_give_antonym_pair(input_list,current_model):\n",
        "  new_similar_list= [] \n",
        "\n",
        "  for i in input_list:\n",
        "    antonym_pair = i\n",
        "    first_word = antonym_pair[0]\n",
        "    second_word = antonym_pair[1]\n",
        "\n",
        "    similar_word_list1 = current_model.similar_by_word(first_word)\n",
        "    similar_word_list2 = current_model.similar_by_word(second_word)  \n",
        "    \n",
        "    new_antonym_word1 = similar_word_list1[0][0]\n",
        "    new_antonym_word2 = similar_word_list2[0][0]   \n",
        "   \n",
        "    antonym_tuple = (new_antonym_word1,new_antonym_word2)\n",
        "    \n",
        "    new_similar_list.append(antonym_tuple)\n",
        "    clear_tuple(antonym_tuple)\n",
        "    \n",
        "  return new_similar_list"
      ],
      "metadata": {
        "colab": {
          "base_uri": "https://localhost:8080/"
        },
        "id": "5zFmQs2W8uTr",
        "outputId": "3d62b487-70a1-498c-be89-396dca00d5bb"
      },
      "execution_count": 18,
      "outputs": [
        {
          "output_type": "stream",
          "name": "stdout",
          "text": [
            "time: 11.4 ms (started: 2022-06-09 13:12:00 +00:00)\n"
          ]
        }
      ]
    },
    {
      "cell_type": "markdown",
      "source": [
        "**Below cell will load the Glove Wiki model and unzip the model**"
      ],
      "metadata": {
        "id": "EyxcRrHw1Z7A"
      }
    },
    {
      "cell_type": "code",
      "source": [
        "unzipping_file()\n",
        "model_glove = model_initialization('glove.6B.300d.txt','gensim_glove.6B.300d.txt')\n",
        "path = generate_norm_embedding(model_glove,'glove_norm_wiki.mod')\n",
        "current_model  = load_normalized_embedding(path)"
      ],
      "metadata": {
        "colab": {
          "base_uri": "https://localhost:8080/",
          "height": 483,
          "referenced_widgets": [
            "3b9e4c7b803548d78cc876ad5b2cdf0a",
            "aac7dd07c062431b90bc9aa3029eb79f",
            "4881c79990274e478d80a0b3ce8640fe",
            "a61c88a12d1d4884ae4f6d52ba75fa16",
            "e384923349e34fa2ac05b7dd1b6a6266",
            "1273b2b2a43744e69af796f65fd14884",
            "b963cdd930934a03994d5ff6e9ac74a2",
            "4bcdf8b6cda44377a1043a5c5e1da238",
            "5c251cde3de842aa8043dbfbd1f7789c",
            "cc929bfc01f3400e809b9c271ee674b3",
            "5c713011304e4859bc8d142595b57b55"
          ]
        },
        "id": "fihM-FC4-wW0",
        "outputId": "8399b0d2-b664-46bd-ddad-e0382cfc8cff"
      },
      "execution_count": 19,
      "outputs": [
        {
          "output_type": "stream",
          "name": "stdout",
          "text": [
            "--2022-06-09 13:12:00--  https://nlp.stanford.edu/data/glove.6B.zip\n",
            "Resolving nlp.stanford.edu (nlp.stanford.edu)... 171.64.67.140\n",
            "Connecting to nlp.stanford.edu (nlp.stanford.edu)|171.64.67.140|:443... connected.\n",
            "HTTP request sent, awaiting response... 301 Moved Permanently\n",
            "Location: http://downloads.cs.stanford.edu/nlp/data/glove.6B.zip [following]\n",
            "--2022-06-09 13:12:01--  http://downloads.cs.stanford.edu/nlp/data/glove.6B.zip\n",
            "Resolving downloads.cs.stanford.edu (downloads.cs.stanford.edu)... 171.64.64.22\n",
            "Connecting to downloads.cs.stanford.edu (downloads.cs.stanford.edu)|171.64.64.22|:80... connected.\n",
            "HTTP request sent, awaiting response... 200 OK\n",
            "Length: 862182613 (822M) [application/zip]\n",
            "Saving to: ‘glove.6B.zip’\n",
            "\n",
            "glove.6B.zip        100%[===================>] 822.24M  5.07MB/s    in 2m 40s  \n",
            "\n",
            "2022-06-09 13:14:41 (5.13 MB/s) - ‘glove.6B.zip’ saved [862182613/862182613]\n",
            "\n",
            "Archive:  glove.6B.zip\n",
            "  inflating: glove.6B.50d.txt        \n",
            "  inflating: glove.6B.100d.txt       \n",
            "  inflating: glove.6B.200d.txt       \n",
            "  inflating: glove.6B.300d.txt       \n"
          ]
        },
        {
          "output_type": "stream",
          "name": "stderr",
          "text": [
            "/usr/local/lib/python3.7/dist-packages/ipykernel_launcher.py:5: TqdmDeprecationWarning: This function will be removed in tqdm==5.0.0\n",
            "Please use `tqdm.notebook.tqdm` instead of `tqdm.tqdm_notebook`\n",
            "  \"\"\"\n"
          ]
        },
        {
          "output_type": "display_data",
          "data": {
            "text/plain": [
              "  0%|          | 0/400000 [00:00<?, ?it/s]"
            ],
            "application/vnd.jupyter.widget-view+json": {
              "version_major": 2,
              "version_minor": 0,
              "model_id": "3b9e4c7b803548d78cc876ad5b2cdf0a"
            }
          },
          "metadata": {}
        },
        {
          "output_type": "stream",
          "name": "stdout",
          "text": [
            "time: 4min 26s (started: 2022-06-09 13:12:00 +00:00)\n"
          ]
        }
      ]
    },
    {
      "cell_type": "markdown",
      "source": [
        "**Below cell will load the model trained on Google News and unzip the model**"
      ],
      "metadata": {
        "id": "0hYK00dIkSmF"
      }
    },
    {
      "cell_type": "code",
      "source": [
        "# Uncomment below lines if running for google news\n",
        "\n",
        "#model_glove = model_initialization('glove.6B.300d.txt','gensim_glove.6B.300d.txt')\n",
        "#path = generate_norm_embedding(model_glove,'glove_norm_wiki.mod')\n",
        "#current_model  = load_normalized_embedding(path)"
      ],
      "metadata": {
        "colab": {
          "base_uri": "https://localhost:8080/"
        },
        "id": "85y_cuuakSzC",
        "outputId": "8505540b-c70a-4ab9-b947-b4c10d13bbf9"
      },
      "execution_count": 20,
      "outputs": [
        {
          "output_type": "stream",
          "name": "stdout",
          "text": [
            "time: 2.88 ms (started: 2022-06-09 13:16:27 +00:00)\n"
          ]
        }
      ]
    },
    {
      "cell_type": "markdown",
      "source": [
        "**Random List**"
      ],
      "metadata": {
        "id": "0LoWegKw3Zs3"
      }
    },
    {
      "cell_type": "code",
      "source": [
        "list_powerdistance_random =[('make', 'break'), ('cameraman', 'playwright'), ('mystical', 'factual'), ('promotional', 'defamation'), ('iconic', 'unknown')]\n",
        "list_individualism_random = [('lop', 'secure'), ('shah', 'poor'), ('pneumatic', 'solid'), ('interpret', 'misinterpret'), ('confer', 'refuse')]\n",
        "list_masculinity_random = [('try', 'abstain'), ('fatalistic', 'freewill'), ('knowledgeable', 'uninformed'), ('confine', 'free'), ('fan', 'warm')]\n",
        "list_longterm_random = [('innovator', 'follower'), ('sensory', 'numb'), ('hedge', 'squander'), ('arachnid', 'serpent'), ('disclose', 'secrete')]\n",
        "list_indulgence_random = [('diagnose', 'sicken'), ('intercourse', 'disconnection'), ('sensory', 'sensorial'), ('emasculate', 'strengthen'), ('metropolitan', 'rural')]\n",
        "list_uncertainity_avoidance_random = [('stretcher', 'compressor'), ('amalgamate', 'separate'), ('caretaker', 'assailant'), ('taker', 'violator'), ('contaminate', 'sterilize')]"
      ],
      "metadata": {
        "colab": {
          "base_uri": "https://localhost:8080/"
        },
        "id": "5lB5LqhwPRmF",
        "outputId": "520e587d-cd6d-4c74-bb0a-d52860a9d3c5"
      },
      "execution_count": 21,
      "outputs": [
        {
          "output_type": "stream",
          "name": "stdout",
          "text": [
            "time: 10.8 ms (started: 2022-06-09 13:16:27 +00:00)\n"
          ]
        }
      ]
    },
    {
      "cell_type": "markdown",
      "source": [
        "**Human generated list**"
      ],
      "metadata": {
        "id": "eM3VEZ8d3b0L"
      }
    },
    {
      "cell_type": "code",
      "source": [
        "list_powerdistance =[('hierarchical','non-hierarchical'),('superior','equal'),('leader','subordinate'),('inequality','equality'),('autocrat','democrat')]\n",
        "list_individualism = [('individuality','community'),('self-interest','harmony'),('tasks','relationships'),('individual','groups'),('particularism','universalism')]\n",
        "list_masculinity = [('achievement', 'support'),('competitive', 'caring'),('assertive', 'submissive'),('ambitious', 'unambitious'),('sucess','cooperation')]\n",
        "list_longterm = [('pragmatic','normative'),('progress','preserve'),('adapt','conserve'),('developing','stable'),('advance','retain')]\n",
        "list_indulgence = [('fulfillment','restriction'),('satisfaction','limitation'),('liberty','moderation'),('expand','direct'),('freedom','regulation')]\n",
        "list_uncertainity_avoidance = [('clarity','complexity'),('clear','ambiguous'),('certain','uncertain'),('uniformity','diversity'),('agreement','variation')]\n"
      ],
      "metadata": {
        "id": "yJtIfsf0AHOH",
        "colab": {
          "base_uri": "https://localhost:8080/"
        },
        "outputId": "681474e2-1e34-4287-a2bb-2dd4127237b9"
      },
      "execution_count": 22,
      "outputs": [
        {
          "output_type": "stream",
          "name": "stdout",
          "text": [
            "time: 10.5 ms (started: 2022-06-09 13:16:27 +00:00)\n"
          ]
        }
      ]
    },
    {
      "cell_type": "markdown",
      "source": [
        "**The nearest pairs to Random list suggested by the pretrained model**"
      ],
      "metadata": {
        "id": "gJ-vMCAC3ye7"
      }
    },
    {
      "cell_type": "code",
      "source": [
        "similar_list_powerdistance_random = similar_word_to_give_antonym_pair(list_powerdistance_random,current_model)\n",
        "similar_list_individualism_random = similar_word_to_give_antonym_pair(list_individualism_random,current_model)\n",
        "similar_list_masculinity_random = similar_word_to_give_antonym_pair(list_masculinity_random,current_model)\n",
        "similar_list_longterm_random = similar_word_to_give_antonym_pair(list_longterm_random,current_model)\n",
        "similar_list_indulgence_random = similar_word_to_give_antonym_pair(list_indulgence_random,current_model)\n",
        "similar_list_uncertainity_avoidance_random = similar_word_to_give_antonym_pair(list_uncertainity_avoidance_random,current_model)"
      ],
      "metadata": {
        "id": "81PEUOr7B_X5",
        "colab": {
          "base_uri": "https://localhost:8080/"
        },
        "outputId": "0502377c-1f16-4f16-f851-9a0346ce09c0"
      },
      "execution_count": 23,
      "outputs": [
        {
          "output_type": "stream",
          "name": "stdout",
          "text": [
            "time: 5.16 s (started: 2022-06-09 13:16:27 +00:00)\n"
          ]
        }
      ]
    },
    {
      "cell_type": "markdown",
      "source": [
        "**The nearest pairs to human made list suggested by the pretrained model**"
      ],
      "metadata": {
        "id": "K0rBnee53fLj"
      }
    },
    {
      "cell_type": "code",
      "source": [
        "similar_list_powerdistance = similar_word_to_give_antonym_pair(list_powerdistance,current_model)\n",
        "similar_list_individualism = similar_word_to_give_antonym_pair(list_individualism,current_model)\n",
        "similar_list_masculinity = similar_word_to_give_antonym_pair(list_masculinity,current_model)\n",
        "similar_list_longterm = similar_word_to_give_antonym_pair(list_longterm,current_model)\n",
        "similar_list_indulgence = similar_word_to_give_antonym_pair(list_indulgence,current_model)\n",
        "similar_list_uncertainity_avoidance = similar_word_to_give_antonym_pair(list_uncertainity_avoidance,current_model)"
      ],
      "metadata": {
        "colab": {
          "base_uri": "https://localhost:8080/"
        },
        "id": "Z2-F6Esi3Wez",
        "outputId": "ae3bea12-6c27-451c-d3ee-12103920ce69"
      },
      "execution_count": 24,
      "outputs": [
        {
          "output_type": "stream",
          "name": "stdout",
          "text": [
            "time: 3.05 s (started: 2022-06-09 13:16:32 +00:00)\n"
          ]
        }
      ]
    },
    {
      "cell_type": "markdown",
      "source": [
        "**In the below cell give the list to create the polar embedding**\n"
      ],
      "metadata": {
        "id": "Q9iqrvGl11Zg"
      }
    },
    {
      "cell_type": "code",
      "source": [
        "# If we give list_masculinity then the polar embedding of the company and the 5 antonym pair in the list_masculinity will be considered\n",
        "list_new = list_masculinity"
      ],
      "metadata": {
        "id": "idn0kPwk2NWp",
        "colab": {
          "base_uri": "https://localhost:8080/"
        },
        "outputId": "d49bf353-497f-48b4-e4f4-c2f2de5c878a"
      },
      "execution_count": 25,
      "outputs": [
        {
          "output_type": "stream",
          "name": "stdout",
          "text": [
            "time: 6.91 ms (started: 2022-06-09 13:16:35 +00:00)\n"
          ]
        }
      ]
    },
    {
      "cell_type": "code",
      "source": [
        "list_antonym  = load_antonyms(list_new,current_model)\n",
        "len(list_new)\n",
        "antonymy_vector = antonym_difference_vector(list_antonym,current_model)"
      ],
      "metadata": {
        "id": "w_3PABMoATI0",
        "colab": {
          "base_uri": "https://localhost:8080/",
          "height": 477,
          "referenced_widgets": [
            "0adfd422f31d4abc95d64be577f22632",
            "1959c076964e4cdea79e06c3cc3ac883",
            "84a269ebfbd04b30998dc3ffd38dfc41",
            "b9d77dc0fbfc4e429d915e74f7f7f10d",
            "f2a0075641d34eb1b81ad56f89be6cdd",
            "8c70bd72e8ba40f6acdc395249acbca1",
            "e632c0369f41480b81887b1685fb500c",
            "96f47fdf1a4a49d6827d76824923bd2d",
            "bbbefdb3d996463f9a5a6eb715135a48",
            "cdf0391c8c664a989af3a3809d050cb2",
            "9b30dacc121349b3a3375553e1ac495c",
            "09b05bc945e348e5aa32e2ccedac9d74",
            "cafc461bdb5046aca6623e4d8ac0a5fc",
            "9640ff4a3d3f417d82cd16be16400414",
            "2d408c40b24f4c7ba8951f1bf0559c46",
            "07e1adbd3158421595e90b1ae1307b7a",
            "4dc81f7182d7414cbd6cdbf5ce47941b",
            "52ab03b1291c4adf9272b21902f50b12",
            "28115904b0f741b4835cda11d98583c4",
            "608a27c6949648e89190d668b183fbab",
            "9dfa1a14806240589b22f3df9d9c2a8b",
            "75d14641ea5b430890df882325324c4d",
            "0e73a6caa77644b5b66e4abaa4eedc55",
            "1360e545e68e4ab58645b5465dc6a622",
            "8dd2e5c6b0234d61bcc1f8eb3c42558c",
            "ca99ffbf888849d5b4bf247d0e5904ba",
            "c119950489a142528de89439f1ed08b5",
            "52422dd3f29d4b2096699f37b18f6eb3",
            "8588a46d3e0d4b9b943989d0f1b562c2",
            "355c3c1e34d440c98b96f1e2e4aca565",
            "e6c9cd846b0d4a3babda87bd1b3502c3",
            "d078a3278c0241c7a68c6d218fbb0615",
            "0647cd081d934f71988128c74fb19b97"
          ]
        },
        "outputId": "a3233b80-9637-4f59-b451-e7803136df53"
      },
      "execution_count": 26,
      "outputs": [
        {
          "output_type": "stream",
          "name": "stderr",
          "text": [
            "/usr/local/lib/python3.7/dist-packages/ipykernel_launcher.py:5: TqdmDeprecationWarning: This function will be removed in tqdm==5.0.0\n",
            "Please use `tqdm.notebook.tqdm` instead of `tqdm.tqdm_notebook`\n",
            "  \"\"\"\n"
          ]
        },
        {
          "output_type": "display_data",
          "data": {
            "text/plain": [
              "  0%|          | 0/5 [00:00<?, ?it/s]"
            ],
            "application/vnd.jupyter.widget-view+json": {
              "version_major": 2,
              "version_minor": 0,
              "model_id": "0adfd422f31d4abc95d64be577f22632"
            }
          },
          "metadata": {}
        },
        {
          "output_type": "stream",
          "name": "stderr",
          "text": [
            "/usr/local/lib/python3.7/dist-packages/ipykernel_launcher.py:14: TqdmDeprecationWarning: This function will be removed in tqdm==5.0.0\n",
            "Please use `tqdm.notebook.tqdm` instead of `tqdm.tqdm_notebook`\n",
            "  \n"
          ]
        },
        {
          "output_type": "display_data",
          "data": {
            "text/plain": [
              "  0%|          | 0/5 [00:00<?, ?it/s]"
            ],
            "application/vnd.jupyter.widget-view+json": {
              "version_major": 2,
              "version_minor": 0,
              "model_id": "09b05bc945e348e5aa32e2ccedac9d74"
            }
          },
          "metadata": {}
        },
        {
          "output_type": "stream",
          "name": "stderr",
          "text": [
            "/usr/local/lib/python3.7/dist-packages/ipykernel_launcher.py:23: TqdmDeprecationWarning: This function will be removed in tqdm==5.0.0\n",
            "Please use `tqdm.notebook.tqdm` instead of `tqdm.tqdm_notebook`\n"
          ]
        },
        {
          "output_type": "display_data",
          "data": {
            "text/plain": [
              "  0%|          | 0/5 [00:00<?, ?it/s]"
            ],
            "application/vnd.jupyter.widget-view+json": {
              "version_major": 2,
              "version_minor": 0,
              "model_id": "0e73a6caa77644b5b66e4abaa4eedc55"
            }
          },
          "metadata": {}
        },
        {
          "output_type": "stream",
          "name": "stdout",
          "text": [
            "5\n",
            "(5, 300)\n",
            "[[ 0.14758141  0.09032236  0.07620825 ...  0.12463442  0.00482126\n",
            "  -0.03302358]\n",
            " [-0.09652946 -0.07345466 -0.0032986  ...  0.12112679  0.01148236\n",
            "  -0.0293146 ]\n",
            " [-0.05397214  0.02136535 -0.00466404 ... -0.04937481 -0.06371355\n",
            "  -0.00237834]\n",
            " [ 0.03041583 -0.02709354  0.01676632 ... -0.02892689 -0.04289657\n",
            "   0.17347242]\n",
            " [-0.05428931 -0.04361981 -0.01984703 ... -0.08699577  0.01813235\n",
            "  -0.04817012]]\n",
            "time: 273 ms (started: 2022-06-09 13:16:35 +00:00)\n"
          ]
        }
      ]
    },
    {
      "cell_type": "markdown",
      "source": [
        "Reading the Fortune 500 companies.csv file"
      ],
      "metadata": {
        "id": "pJ6yENjak3dD"
      }
    },
    {
      "cell_type": "code",
      "source": [
        "company = pd.read_csv('../data/raw/International_Fortune_GloVe.csv',encoding= 'unicode_escape')\n",
        "name_list = company['0']"
      ],
      "metadata": {
        "id": "k5XwcedKBKgB",
        "colab": {
          "base_uri": "https://localhost:8080/"
        },
        "outputId": "3934b9b5-db36-4198-cf33-166fb899e010"
      },
      "execution_count": 29,
      "outputs": [
        {
          "output_type": "stream",
          "name": "stdout",
          "text": [
            "time: 245 ms (started: 2022-06-09 13:21:11 +00:00)\n"
          ]
        }
      ]
    },
    {
      "cell_type": "markdown",
      "source": [
        "**Below Cell will see the companies that is there in the vocabulary of the pretrained model**"
      ],
      "metadata": {
        "id": "FCPyx3STk_YR"
      }
    },
    {
      "cell_type": "code",
      "source": [
        "name_word_embedding = dict()\n",
        "new_name_list=[]\n",
        "for name in name_list:\n",
        "  try:\n",
        "    name_word_embedding[name] = current_model[name]\n",
        "    new_name_list.append(name)\n",
        "  except:\n",
        "    print(\"The company is not there: \",name)\n",
        "\n",
        "print(new_name_list)"
      ],
      "metadata": {
        "id": "hfxFI78gE_ew",
        "colab": {
          "base_uri": "https://localhost:8080/"
        },
        "outputId": "0f13a97e-22a5-44d1-80c7-cd4b37a1cb7e"
      },
      "execution_count": 30,
      "outputs": [
        {
          "output_type": "stream",
          "name": "stdout",
          "text": [
            "The company is not there:  jpmorganchase\n",
            "The company is not there:  generalmotors\n",
            "The company is not there:  fanniemae\n",
            "The company is not there:  bankofamerica\n",
            "The company is not there:  nestlÃ©\n",
            "The company is not there:  wellsfargo\n",
            "The company is not there:  generalelectric\n",
            "The company is not there:  sinopharm\n",
            "The company is not there:  freddiemac\n",
            "The company is not there:  waltdisney\n",
            "The company is not there:  engie\n",
            "The company is not there:  morganstanley\n",
            "The company is not there:  indianoil\n",
            "The company is not there:  telefÃ³nica\n",
            "The company is not there:  bestbuy\n",
            "The company is not there:  talanx\n",
            "The company is not there:  abbvie\n",
            "The company is not there:  americanexpress\n",
            "The company is not there:  deutschebank\n",
            "The company is not there:  tatamotors\n",
            "The company is not there:  l'orÃ©al\n",
            "The company is not there:  angloamerican\n",
            "The company is not there:  achmea\n",
            "The company is not there:  dollartree\n",
            "The company is not there:  riteaid\n",
            "['walmart', 'amazon', 'apple', 'volkswagen', 'mckesson', 'amerisourcebergen', 'bp', 'alphabet', 'exxonmobil', 'daimler', 'at&t', 'cigna', 'microsoft', 'glencore', 'allianz', 'kroger', 'homedepot', 'axa', 'anthem', 'mitsubishi', 'centene', 'comcast', 'itochu', 'chevron', 'target', 'citigroup', 'gazprom', 'facebook', 'sony', 'hitachi', 'carrefour', 'tesco', 'aeon', 'intel', 'humana', 'cofco', 'mitsui', 'enel', 'lukoil', 'sk', 'e.on', 'pepsico', 'albertsons', 'basf', 'fedex', 'metlife', 'siemens', 'sinochem', 'panasonic', 'aviva', 'marubeni', 'aegon', 'boeing', 'unilever', 'airbus', 'petrobras', 'hp', 'prudential', 'fortum', 'arcelormittal', 'sysco', 'jbs', 'ptt', 'vinci', 'kia', 'eni', 'kddi', 'novartis', 'renault', 'posco', 'bayer', 'orange', 'merck', 'pegatron', 'denso', 'allstate', 'pemex', 'accenture', 'sumitomo', 'glaxosmithkline', 'saint-gobain', 'sberbank', 'hanwha', 'continental', 'progressive', 'sanofi', 'petronas', 'nationwide', 'pfizer', 'caterpillar', 'tiaa', 'pertamina', 'bunge', 'fresenius', 'vale', 'acs', 'thyssenkrupp', 'bouygues', 'oracle', 'dow', 'iberdrola', 'nike', 'volvo', 'metro', 'usaa', 'chubb', 'xiaomi', 'deere', 'barclays', 'fujitsu', 'aisin', 'exelon', 'coca-cola', 'repsol', '3m', 'tjx', 'travelers', 'tesla', 'sap', 'abb', 'canon', 'enbridge', 'medtronic', 'toshiba', 'wistron', 'chs', 'nec', 'bridgestone', 'crh', 'jabil', 'linde', 'danone', 'centrica', 'subaru', 'astrazeneca', 'amgen', 'ericsson', 'netflix', 'nokia', 'synnex', 'holcim', 'flex']\n",
            "time: 41.7 ms (started: 2022-06-09 13:21:12 +00:00)\n"
          ]
        }
      ]
    },
    {
      "cell_type": "code",
      "source": [
        "random_antonym_vector = [i for i in range(len(antonymy_vector))]\n",
        "random.shuffle(random_antonym_vector)\n",
        "print(len(random_antonym_vector))\n",
        "name_new_embedding = generate_embedding_path(name_word_embedding, 'test_run',True ,random_antonym_vector,500,antonymy_vector)"
      ],
      "metadata": {
        "id": "7SWRW9DBFHj9",
        "colab": {
          "base_uri": "https://localhost:8080/",
          "height": 118,
          "referenced_widgets": [
            "9b7abdfd4789481ebfe8c24bfa9f6a89",
            "4a55e26e7a1a4717b4590a5134e4752b",
            "df195b54f2374684a820d7c0c3de69b0",
            "8190b5f2abc143ff97a2ed2584960278",
            "1e63867967df4bb8b780daf990783fac",
            "f7bb5379f109441a9b5fe4f267343373",
            "316ca04c96624463b150901675b3a246",
            "f4eff83be76c487e9638b0a0e38d1e0c",
            "08c7fa1e61534915955ce3b490e1e4c0",
            "30487e8833e14d548b287f722040f707",
            "aadcababd0414340b9c4fc6780b9713d"
          ]
        },
        "outputId": "4a547f41-a1e2-4cbf-d148-57460a1abf9b"
      },
      "execution_count": 31,
      "outputs": [
        {
          "output_type": "stream",
          "name": "stdout",
          "text": [
            "5\n"
          ]
        },
        {
          "output_type": "stream",
          "name": "stderr",
          "text": [
            "/usr/local/lib/python3.7/dist-packages/ipykernel_launcher.py:18: TqdmDeprecationWarning: This function will be removed in tqdm==5.0.0\n",
            "Please use `tqdm.notebook.tqdm` instead of `tqdm.tqdm_notebook`\n"
          ]
        },
        {
          "output_type": "display_data",
          "data": {
            "text/plain": [
              "  0%|          | 0/142 [00:00<?, ?it/s]"
            ],
            "application/vnd.jupyter.widget-view+json": {
              "version_major": 2,
              "version_minor": 0,
              "model_id": "9b7abdfd4789481ebfe8c24bfa9f6a89"
            }
          },
          "metadata": {}
        },
        {
          "output_type": "stream",
          "name": "stdout",
          "text": [
            "time: 135 ms (started: 2022-06-09 13:21:12 +00:00)\n"
          ]
        }
      ]
    },
    {
      "cell_type": "code",
      "source": [
        "antonym_500 = [list_antonym[x] for x in random_antonym_vector[:500]]"
      ],
      "metadata": {
        "id": "WxQws8sdQUHs",
        "colab": {
          "base_uri": "https://localhost:8080/"
        },
        "outputId": "8a353a19-5229-4ecf-b14e-9228d19dbfd8"
      },
      "execution_count": 32,
      "outputs": [
        {
          "output_type": "stream",
          "name": "stdout",
          "text": [
            "time: 4.13 ms (started: 2022-06-09 13:21:12 +00:00)\n"
          ]
        }
      ]
    },
    {
      "cell_type": "markdown",
      "source": [
        "**Polar Embedding -> DataFrame**"
      ],
      "metadata": {
        "id": "WkZaxo1PWEm2"
      }
    },
    {
      "cell_type": "code",
      "source": [
        "df = dict()\n",
        "for t in new_name_list:\n",
        "  df[t] = make_polar_dict(t, antonym_500, name_new_embedding)\n",
        "\n",
        "new_df = pd.DataFrame(df).transpose()\n",
        "\n",
        "\n",
        "# change columns to better read names\n",
        "new_columns = []\n",
        "\n",
        "for pair in antonym_500:\n",
        "  temp = pair[0]+''+pair[1]\n",
        "  new_columns.append(temp)\n",
        "\n",
        "new_df.columns = new_columns"
      ],
      "metadata": {
        "id": "rMoNXrceQo1e",
        "colab": {
          "base_uri": "https://localhost:8080/"
        },
        "outputId": "1509bd78-d139-4c77-c5a2-8cd6b823b109"
      },
      "execution_count": 33,
      "outputs": [
        {
          "output_type": "stream",
          "name": "stdout",
          "text": [
            "time: 63.2 ms (started: 2022-06-09 13:21:12 +00:00)\n"
          ]
        }
      ]
    },
    {
      "cell_type": "markdown",
      "source": [
        "**In the first run uncomment the cell below as the copy of new_df is made and it is into the concat_polar_embedding_df we concatinate the polar embedding**"
      ],
      "metadata": {
        "id": "_wConQfu2cr3"
      }
    },
    {
      "cell_type": "code",
      "source": [
        "concat_polar_embedding_df = new_df.copy()"
      ],
      "metadata": {
        "colab": {
          "base_uri": "https://localhost:8080/"
        },
        "id": "gXUjtLSH2a-A",
        "outputId": "889a9286-63e3-4f10-9717-1318b8534081"
      },
      "execution_count": 34,
      "outputs": [
        {
          "output_type": "stream",
          "name": "stdout",
          "text": [
            "time: 1.62 ms (started: 2022-06-09 13:21:12 +00:00)\n"
          ]
        }
      ]
    },
    {
      "cell_type": "markdown",
      "source": [
        "**In the second run onwards comment the previous cell and uncomment the lower cell**"
      ],
      "metadata": {
        "id": "xzvIGzN42wGt"
      }
    },
    {
      "cell_type": "code",
      "source": [
        "#concat_polar_embedding_df = concat_polar_embedding_df.join(new_df)"
      ],
      "metadata": {
        "id": "zyOUASOTMCW2",
        "colab": {
          "base_uri": "https://localhost:8080/"
        },
        "outputId": "93906533-df2a-4563-ee35-31e1c916811f"
      },
      "execution_count": 35,
      "outputs": [
        {
          "output_type": "stream",
          "name": "stdout",
          "text": [
            "time: 1.58 ms (started: 2022-06-09 13:21:12 +00:00)\n"
          ]
        }
      ]
    },
    {
      "cell_type": "markdown",
      "source": [
        "**Below cell is to download the file once it is ready**"
      ],
      "metadata": {
        "id": "OHKnE2Io26MC"
      }
    },
    {
      "cell_type": "code",
      "source": [
        "'''\n",
        "from google.colab import files\n",
        "concat_polar_embedding_df.to_csv('concat_polar_embedding_df.csv',header=True)\n",
        "files.download('concat_polar_embedding_df.csv')\n",
        "'''"
      ],
      "metadata": {
        "id": "os4AWluDh0Co",
        "colab": {
          "base_uri": "https://localhost:8080/",
          "height": 53
        },
        "outputId": "06f9d34b-9a84-4c2f-d36e-3a7160507fb2"
      },
      "execution_count": 36,
      "outputs": [
        {
          "output_type": "execute_result",
          "data": {
            "text/plain": [
              "\"\\nfrom google.colab import files\\nconcat_polar_embedding_df.to_csv('concat_polar_embedding_df.csv',header=True)\\nfiles.download('concat_polar_embedding_df.csv')\\n\""
            ],
            "application/vnd.google.colaboratory.intrinsic+json": {
              "type": "string"
            }
          },
          "metadata": {},
          "execution_count": 36
        },
        {
          "output_type": "stream",
          "name": "stdout",
          "text": [
            "time: 8.42 ms (started: 2022-06-09 13:21:12 +00:00)\n"
          ]
        }
      ]
    }
  ]
}