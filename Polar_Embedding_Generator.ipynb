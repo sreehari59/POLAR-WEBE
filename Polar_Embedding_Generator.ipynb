{
  "nbformat": 4,
  "nbformat_minor": 0,
  "metadata": {
    "colab": {
      "name": "Polar_Embedding_Generator.ipynb",
      "provenance": [],
      "collapsed_sections": [],
      "include_colab_link": true
    },
    "kernelspec": {
      "name": "python3",
      "display_name": "Python 3"
    },
    "language_info": {
      "name": "python"
    },
    "widgets": {
      "application/vnd.jupyter.widget-state+json": {
        "7316b21a85874c498fadca14c56c0a48": {
          "model_module": "@jupyter-widgets/controls",
          "model_name": "HBoxModel",
          "model_module_version": "1.5.0",
          "state": {
            "_dom_classes": [],
            "_model_module": "@jupyter-widgets/controls",
            "_model_module_version": "1.5.0",
            "_model_name": "HBoxModel",
            "_view_count": null,
            "_view_module": "@jupyter-widgets/controls",
            "_view_module_version": "1.5.0",
            "_view_name": "HBoxView",
            "box_style": "",
            "children": [
              "IPY_MODEL_91e9009edfd8470c8dff0249f1df7657",
              "IPY_MODEL_8dfb65ec8aca47c1b906f8416f0a0d32",
              "IPY_MODEL_5475539cdc6647f68cbd6f5dc05d26bb"
            ],
            "layout": "IPY_MODEL_c27256887c17404d87c660ed1c754f14"
          }
        },
        "91e9009edfd8470c8dff0249f1df7657": {
          "model_module": "@jupyter-widgets/controls",
          "model_name": "HTMLModel",
          "model_module_version": "1.5.0",
          "state": {
            "_dom_classes": [],
            "_model_module": "@jupyter-widgets/controls",
            "_model_module_version": "1.5.0",
            "_model_name": "HTMLModel",
            "_view_count": null,
            "_view_module": "@jupyter-widgets/controls",
            "_view_module_version": "1.5.0",
            "_view_name": "HTMLView",
            "description": "",
            "description_tooltip": null,
            "layout": "IPY_MODEL_15b0ef29248640c797817283d109c223",
            "placeholder": "​",
            "style": "IPY_MODEL_b46d944d7d7c476383e5d66a1540dcee",
            "value": "100%"
          }
        },
        "8dfb65ec8aca47c1b906f8416f0a0d32": {
          "model_module": "@jupyter-widgets/controls",
          "model_name": "FloatProgressModel",
          "model_module_version": "1.5.0",
          "state": {
            "_dom_classes": [],
            "_model_module": "@jupyter-widgets/controls",
            "_model_module_version": "1.5.0",
            "_model_name": "FloatProgressModel",
            "_view_count": null,
            "_view_module": "@jupyter-widgets/controls",
            "_view_module_version": "1.5.0",
            "_view_name": "ProgressView",
            "bar_style": "success",
            "description": "",
            "description_tooltip": null,
            "layout": "IPY_MODEL_0873a415178b439a94baa24feae0b295",
            "max": 400000,
            "min": 0,
            "orientation": "horizontal",
            "style": "IPY_MODEL_08271919bdb64fc9b63cd4306edf972f",
            "value": 400000
          }
        },
        "5475539cdc6647f68cbd6f5dc05d26bb": {
          "model_module": "@jupyter-widgets/controls",
          "model_name": "HTMLModel",
          "model_module_version": "1.5.0",
          "state": {
            "_dom_classes": [],
            "_model_module": "@jupyter-widgets/controls",
            "_model_module_version": "1.5.0",
            "_model_name": "HTMLModel",
            "_view_count": null,
            "_view_module": "@jupyter-widgets/controls",
            "_view_module_version": "1.5.0",
            "_view_name": "HTMLView",
            "description": "",
            "description_tooltip": null,
            "layout": "IPY_MODEL_d6953ba04b0b49b29ce946de79323da5",
            "placeholder": "​",
            "style": "IPY_MODEL_84597b3f99194a04b8524bbfdf239a69",
            "value": " 400000/400000 [00:07&lt;00:00, 53875.44it/s]"
          }
        },
        "c27256887c17404d87c660ed1c754f14": {
          "model_module": "@jupyter-widgets/base",
          "model_name": "LayoutModel",
          "model_module_version": "1.2.0",
          "state": {
            "_model_module": "@jupyter-widgets/base",
            "_model_module_version": "1.2.0",
            "_model_name": "LayoutModel",
            "_view_count": null,
            "_view_module": "@jupyter-widgets/base",
            "_view_module_version": "1.2.0",
            "_view_name": "LayoutView",
            "align_content": null,
            "align_items": null,
            "align_self": null,
            "border": null,
            "bottom": null,
            "display": null,
            "flex": null,
            "flex_flow": null,
            "grid_area": null,
            "grid_auto_columns": null,
            "grid_auto_flow": null,
            "grid_auto_rows": null,
            "grid_column": null,
            "grid_gap": null,
            "grid_row": null,
            "grid_template_areas": null,
            "grid_template_columns": null,
            "grid_template_rows": null,
            "height": null,
            "justify_content": null,
            "justify_items": null,
            "left": null,
            "margin": null,
            "max_height": null,
            "max_width": null,
            "min_height": null,
            "min_width": null,
            "object_fit": null,
            "object_position": null,
            "order": null,
            "overflow": null,
            "overflow_x": null,
            "overflow_y": null,
            "padding": null,
            "right": null,
            "top": null,
            "visibility": null,
            "width": null
          }
        },
        "15b0ef29248640c797817283d109c223": {
          "model_module": "@jupyter-widgets/base",
          "model_name": "LayoutModel",
          "model_module_version": "1.2.0",
          "state": {
            "_model_module": "@jupyter-widgets/base",
            "_model_module_version": "1.2.0",
            "_model_name": "LayoutModel",
            "_view_count": null,
            "_view_module": "@jupyter-widgets/base",
            "_view_module_version": "1.2.0",
            "_view_name": "LayoutView",
            "align_content": null,
            "align_items": null,
            "align_self": null,
            "border": null,
            "bottom": null,
            "display": null,
            "flex": null,
            "flex_flow": null,
            "grid_area": null,
            "grid_auto_columns": null,
            "grid_auto_flow": null,
            "grid_auto_rows": null,
            "grid_column": null,
            "grid_gap": null,
            "grid_row": null,
            "grid_template_areas": null,
            "grid_template_columns": null,
            "grid_template_rows": null,
            "height": null,
            "justify_content": null,
            "justify_items": null,
            "left": null,
            "margin": null,
            "max_height": null,
            "max_width": null,
            "min_height": null,
            "min_width": null,
            "object_fit": null,
            "object_position": null,
            "order": null,
            "overflow": null,
            "overflow_x": null,
            "overflow_y": null,
            "padding": null,
            "right": null,
            "top": null,
            "visibility": null,
            "width": null
          }
        },
        "b46d944d7d7c476383e5d66a1540dcee": {
          "model_module": "@jupyter-widgets/controls",
          "model_name": "DescriptionStyleModel",
          "model_module_version": "1.5.0",
          "state": {
            "_model_module": "@jupyter-widgets/controls",
            "_model_module_version": "1.5.0",
            "_model_name": "DescriptionStyleModel",
            "_view_count": null,
            "_view_module": "@jupyter-widgets/base",
            "_view_module_version": "1.2.0",
            "_view_name": "StyleView",
            "description_width": ""
          }
        },
        "0873a415178b439a94baa24feae0b295": {
          "model_module": "@jupyter-widgets/base",
          "model_name": "LayoutModel",
          "model_module_version": "1.2.0",
          "state": {
            "_model_module": "@jupyter-widgets/base",
            "_model_module_version": "1.2.0",
            "_model_name": "LayoutModel",
            "_view_count": null,
            "_view_module": "@jupyter-widgets/base",
            "_view_module_version": "1.2.0",
            "_view_name": "LayoutView",
            "align_content": null,
            "align_items": null,
            "align_self": null,
            "border": null,
            "bottom": null,
            "display": null,
            "flex": null,
            "flex_flow": null,
            "grid_area": null,
            "grid_auto_columns": null,
            "grid_auto_flow": null,
            "grid_auto_rows": null,
            "grid_column": null,
            "grid_gap": null,
            "grid_row": null,
            "grid_template_areas": null,
            "grid_template_columns": null,
            "grid_template_rows": null,
            "height": null,
            "justify_content": null,
            "justify_items": null,
            "left": null,
            "margin": null,
            "max_height": null,
            "max_width": null,
            "min_height": null,
            "min_width": null,
            "object_fit": null,
            "object_position": null,
            "order": null,
            "overflow": null,
            "overflow_x": null,
            "overflow_y": null,
            "padding": null,
            "right": null,
            "top": null,
            "visibility": null,
            "width": null
          }
        },
        "08271919bdb64fc9b63cd4306edf972f": {
          "model_module": "@jupyter-widgets/controls",
          "model_name": "ProgressStyleModel",
          "model_module_version": "1.5.0",
          "state": {
            "_model_module": "@jupyter-widgets/controls",
            "_model_module_version": "1.5.0",
            "_model_name": "ProgressStyleModel",
            "_view_count": null,
            "_view_module": "@jupyter-widgets/base",
            "_view_module_version": "1.2.0",
            "_view_name": "StyleView",
            "bar_color": null,
            "description_width": ""
          }
        },
        "d6953ba04b0b49b29ce946de79323da5": {
          "model_module": "@jupyter-widgets/base",
          "model_name": "LayoutModel",
          "model_module_version": "1.2.0",
          "state": {
            "_model_module": "@jupyter-widgets/base",
            "_model_module_version": "1.2.0",
            "_model_name": "LayoutModel",
            "_view_count": null,
            "_view_module": "@jupyter-widgets/base",
            "_view_module_version": "1.2.0",
            "_view_name": "LayoutView",
            "align_content": null,
            "align_items": null,
            "align_self": null,
            "border": null,
            "bottom": null,
            "display": null,
            "flex": null,
            "flex_flow": null,
            "grid_area": null,
            "grid_auto_columns": null,
            "grid_auto_flow": null,
            "grid_auto_rows": null,
            "grid_column": null,
            "grid_gap": null,
            "grid_row": null,
            "grid_template_areas": null,
            "grid_template_columns": null,
            "grid_template_rows": null,
            "height": null,
            "justify_content": null,
            "justify_items": null,
            "left": null,
            "margin": null,
            "max_height": null,
            "max_width": null,
            "min_height": null,
            "min_width": null,
            "object_fit": null,
            "object_position": null,
            "order": null,
            "overflow": null,
            "overflow_x": null,
            "overflow_y": null,
            "padding": null,
            "right": null,
            "top": null,
            "visibility": null,
            "width": null
          }
        },
        "84597b3f99194a04b8524bbfdf239a69": {
          "model_module": "@jupyter-widgets/controls",
          "model_name": "DescriptionStyleModel",
          "model_module_version": "1.5.0",
          "state": {
            "_model_module": "@jupyter-widgets/controls",
            "_model_module_version": "1.5.0",
            "_model_name": "DescriptionStyleModel",
            "_view_count": null,
            "_view_module": "@jupyter-widgets/base",
            "_view_module_version": "1.2.0",
            "_view_name": "StyleView",
            "description_width": ""
          }
        },
        "9949682ac2c64771a22bb9854b051470": {
          "model_module": "@jupyter-widgets/controls",
          "model_name": "HBoxModel",
          "model_module_version": "1.5.0",
          "state": {
            "_dom_classes": [],
            "_model_module": "@jupyter-widgets/controls",
            "_model_module_version": "1.5.0",
            "_model_name": "HBoxModel",
            "_view_count": null,
            "_view_module": "@jupyter-widgets/controls",
            "_view_module_version": "1.5.0",
            "_view_name": "HBoxView",
            "box_style": "",
            "children": [
              "IPY_MODEL_dec8138e66ab4a568d44f9b3b7f8b064",
              "IPY_MODEL_80bca869f6e7415294600c2f901a498b",
              "IPY_MODEL_919aafd04cfc4573be70205d98f84500"
            ],
            "layout": "IPY_MODEL_b1a07d50491444c6b0ae1a745138d545"
          }
        },
        "dec8138e66ab4a568d44f9b3b7f8b064": {
          "model_module": "@jupyter-widgets/controls",
          "model_name": "HTMLModel",
          "model_module_version": "1.5.0",
          "state": {
            "_dom_classes": [],
            "_model_module": "@jupyter-widgets/controls",
            "_model_module_version": "1.5.0",
            "_model_name": "HTMLModel",
            "_view_count": null,
            "_view_module": "@jupyter-widgets/controls",
            "_view_module_version": "1.5.0",
            "_view_name": "HTMLView",
            "description": "",
            "description_tooltip": null,
            "layout": "IPY_MODEL_14548c036b734e8a8f6b1dc52333dfe4",
            "placeholder": "​",
            "style": "IPY_MODEL_eceae9ff8ed54899adfb300b93d43a9b",
            "value": "100%"
          }
        },
        "80bca869f6e7415294600c2f901a498b": {
          "model_module": "@jupyter-widgets/controls",
          "model_name": "FloatProgressModel",
          "model_module_version": "1.5.0",
          "state": {
            "_dom_classes": [],
            "_model_module": "@jupyter-widgets/controls",
            "_model_module_version": "1.5.0",
            "_model_name": "FloatProgressModel",
            "_view_count": null,
            "_view_module": "@jupyter-widgets/controls",
            "_view_module_version": "1.5.0",
            "_view_name": "ProgressView",
            "bar_style": "success",
            "description": "",
            "description_tooltip": null,
            "layout": "IPY_MODEL_16fd5fd4abe64ffabea1638e6b2db9c0",
            "max": 5,
            "min": 0,
            "orientation": "horizontal",
            "style": "IPY_MODEL_0171b397f27a4ed1bc477736dc34dd83",
            "value": 5
          }
        },
        "919aafd04cfc4573be70205d98f84500": {
          "model_module": "@jupyter-widgets/controls",
          "model_name": "HTMLModel",
          "model_module_version": "1.5.0",
          "state": {
            "_dom_classes": [],
            "_model_module": "@jupyter-widgets/controls",
            "_model_module_version": "1.5.0",
            "_model_name": "HTMLModel",
            "_view_count": null,
            "_view_module": "@jupyter-widgets/controls",
            "_view_module_version": "1.5.0",
            "_view_name": "HTMLView",
            "description": "",
            "description_tooltip": null,
            "layout": "IPY_MODEL_eb76576f2b234d88bab87824a55e70b8",
            "placeholder": "​",
            "style": "IPY_MODEL_55e6172c4d5d4f7190160ef1f8755f22",
            "value": " 5/5 [00:00&lt;00:00, 60.65it/s]"
          }
        },
        "b1a07d50491444c6b0ae1a745138d545": {
          "model_module": "@jupyter-widgets/base",
          "model_name": "LayoutModel",
          "model_module_version": "1.2.0",
          "state": {
            "_model_module": "@jupyter-widgets/base",
            "_model_module_version": "1.2.0",
            "_model_name": "LayoutModel",
            "_view_count": null,
            "_view_module": "@jupyter-widgets/base",
            "_view_module_version": "1.2.0",
            "_view_name": "LayoutView",
            "align_content": null,
            "align_items": null,
            "align_self": null,
            "border": null,
            "bottom": null,
            "display": null,
            "flex": null,
            "flex_flow": null,
            "grid_area": null,
            "grid_auto_columns": null,
            "grid_auto_flow": null,
            "grid_auto_rows": null,
            "grid_column": null,
            "grid_gap": null,
            "grid_row": null,
            "grid_template_areas": null,
            "grid_template_columns": null,
            "grid_template_rows": null,
            "height": null,
            "justify_content": null,
            "justify_items": null,
            "left": null,
            "margin": null,
            "max_height": null,
            "max_width": null,
            "min_height": null,
            "min_width": null,
            "object_fit": null,
            "object_position": null,
            "order": null,
            "overflow": null,
            "overflow_x": null,
            "overflow_y": null,
            "padding": null,
            "right": null,
            "top": null,
            "visibility": null,
            "width": null
          }
        },
        "14548c036b734e8a8f6b1dc52333dfe4": {
          "model_module": "@jupyter-widgets/base",
          "model_name": "LayoutModel",
          "model_module_version": "1.2.0",
          "state": {
            "_model_module": "@jupyter-widgets/base",
            "_model_module_version": "1.2.0",
            "_model_name": "LayoutModel",
            "_view_count": null,
            "_view_module": "@jupyter-widgets/base",
            "_view_module_version": "1.2.0",
            "_view_name": "LayoutView",
            "align_content": null,
            "align_items": null,
            "align_self": null,
            "border": null,
            "bottom": null,
            "display": null,
            "flex": null,
            "flex_flow": null,
            "grid_area": null,
            "grid_auto_columns": null,
            "grid_auto_flow": null,
            "grid_auto_rows": null,
            "grid_column": null,
            "grid_gap": null,
            "grid_row": null,
            "grid_template_areas": null,
            "grid_template_columns": null,
            "grid_template_rows": null,
            "height": null,
            "justify_content": null,
            "justify_items": null,
            "left": null,
            "margin": null,
            "max_height": null,
            "max_width": null,
            "min_height": null,
            "min_width": null,
            "object_fit": null,
            "object_position": null,
            "order": null,
            "overflow": null,
            "overflow_x": null,
            "overflow_y": null,
            "padding": null,
            "right": null,
            "top": null,
            "visibility": null,
            "width": null
          }
        },
        "eceae9ff8ed54899adfb300b93d43a9b": {
          "model_module": "@jupyter-widgets/controls",
          "model_name": "DescriptionStyleModel",
          "model_module_version": "1.5.0",
          "state": {
            "_model_module": "@jupyter-widgets/controls",
            "_model_module_version": "1.5.0",
            "_model_name": "DescriptionStyleModel",
            "_view_count": null,
            "_view_module": "@jupyter-widgets/base",
            "_view_module_version": "1.2.0",
            "_view_name": "StyleView",
            "description_width": ""
          }
        },
        "16fd5fd4abe64ffabea1638e6b2db9c0": {
          "model_module": "@jupyter-widgets/base",
          "model_name": "LayoutModel",
          "model_module_version": "1.2.0",
          "state": {
            "_model_module": "@jupyter-widgets/base",
            "_model_module_version": "1.2.0",
            "_model_name": "LayoutModel",
            "_view_count": null,
            "_view_module": "@jupyter-widgets/base",
            "_view_module_version": "1.2.0",
            "_view_name": "LayoutView",
            "align_content": null,
            "align_items": null,
            "align_self": null,
            "border": null,
            "bottom": null,
            "display": null,
            "flex": null,
            "flex_flow": null,
            "grid_area": null,
            "grid_auto_columns": null,
            "grid_auto_flow": null,
            "grid_auto_rows": null,
            "grid_column": null,
            "grid_gap": null,
            "grid_row": null,
            "grid_template_areas": null,
            "grid_template_columns": null,
            "grid_template_rows": null,
            "height": null,
            "justify_content": null,
            "justify_items": null,
            "left": null,
            "margin": null,
            "max_height": null,
            "max_width": null,
            "min_height": null,
            "min_width": null,
            "object_fit": null,
            "object_position": null,
            "order": null,
            "overflow": null,
            "overflow_x": null,
            "overflow_y": null,
            "padding": null,
            "right": null,
            "top": null,
            "visibility": null,
            "width": null
          }
        },
        "0171b397f27a4ed1bc477736dc34dd83": {
          "model_module": "@jupyter-widgets/controls",
          "model_name": "ProgressStyleModel",
          "model_module_version": "1.5.0",
          "state": {
            "_model_module": "@jupyter-widgets/controls",
            "_model_module_version": "1.5.0",
            "_model_name": "ProgressStyleModel",
            "_view_count": null,
            "_view_module": "@jupyter-widgets/base",
            "_view_module_version": "1.2.0",
            "_view_name": "StyleView",
            "bar_color": null,
            "description_width": ""
          }
        },
        "eb76576f2b234d88bab87824a55e70b8": {
          "model_module": "@jupyter-widgets/base",
          "model_name": "LayoutModel",
          "model_module_version": "1.2.0",
          "state": {
            "_model_module": "@jupyter-widgets/base",
            "_model_module_version": "1.2.0",
            "_model_name": "LayoutModel",
            "_view_count": null,
            "_view_module": "@jupyter-widgets/base",
            "_view_module_version": "1.2.0",
            "_view_name": "LayoutView",
            "align_content": null,
            "align_items": null,
            "align_self": null,
            "border": null,
            "bottom": null,
            "display": null,
            "flex": null,
            "flex_flow": null,
            "grid_area": null,
            "grid_auto_columns": null,
            "grid_auto_flow": null,
            "grid_auto_rows": null,
            "grid_column": null,
            "grid_gap": null,
            "grid_row": null,
            "grid_template_areas": null,
            "grid_template_columns": null,
            "grid_template_rows": null,
            "height": null,
            "justify_content": null,
            "justify_items": null,
            "left": null,
            "margin": null,
            "max_height": null,
            "max_width": null,
            "min_height": null,
            "min_width": null,
            "object_fit": null,
            "object_position": null,
            "order": null,
            "overflow": null,
            "overflow_x": null,
            "overflow_y": null,
            "padding": null,
            "right": null,
            "top": null,
            "visibility": null,
            "width": null
          }
        },
        "55e6172c4d5d4f7190160ef1f8755f22": {
          "model_module": "@jupyter-widgets/controls",
          "model_name": "DescriptionStyleModel",
          "model_module_version": "1.5.0",
          "state": {
            "_model_module": "@jupyter-widgets/controls",
            "_model_module_version": "1.5.0",
            "_model_name": "DescriptionStyleModel",
            "_view_count": null,
            "_view_module": "@jupyter-widgets/base",
            "_view_module_version": "1.2.0",
            "_view_name": "StyleView",
            "description_width": ""
          }
        },
        "05b36e6bba344262ab2fbda770c01486": {
          "model_module": "@jupyter-widgets/controls",
          "model_name": "HBoxModel",
          "model_module_version": "1.5.0",
          "state": {
            "_dom_classes": [],
            "_model_module": "@jupyter-widgets/controls",
            "_model_module_version": "1.5.0",
            "_model_name": "HBoxModel",
            "_view_count": null,
            "_view_module": "@jupyter-widgets/controls",
            "_view_module_version": "1.5.0",
            "_view_name": "HBoxView",
            "box_style": "",
            "children": [
              "IPY_MODEL_781a292fb9b543b99683544a4c8c37b8",
              "IPY_MODEL_712156fbc7ed481f8f38dbf1894d71e6",
              "IPY_MODEL_160f4d00039c493cb0340c7a15595f81"
            ],
            "layout": "IPY_MODEL_b722a50732584afaafef9fd484c11755"
          }
        },
        "781a292fb9b543b99683544a4c8c37b8": {
          "model_module": "@jupyter-widgets/controls",
          "model_name": "HTMLModel",
          "model_module_version": "1.5.0",
          "state": {
            "_dom_classes": [],
            "_model_module": "@jupyter-widgets/controls",
            "_model_module_version": "1.5.0",
            "_model_name": "HTMLModel",
            "_view_count": null,
            "_view_module": "@jupyter-widgets/controls",
            "_view_module_version": "1.5.0",
            "_view_name": "HTMLView",
            "description": "",
            "description_tooltip": null,
            "layout": "IPY_MODEL_7690bdc5c1f44261bf211b6c37a293d1",
            "placeholder": "​",
            "style": "IPY_MODEL_7356f6e40ec24a7d807c237d00ee9dfd",
            "value": "100%"
          }
        },
        "712156fbc7ed481f8f38dbf1894d71e6": {
          "model_module": "@jupyter-widgets/controls",
          "model_name": "FloatProgressModel",
          "model_module_version": "1.5.0",
          "state": {
            "_dom_classes": [],
            "_model_module": "@jupyter-widgets/controls",
            "_model_module_version": "1.5.0",
            "_model_name": "FloatProgressModel",
            "_view_count": null,
            "_view_module": "@jupyter-widgets/controls",
            "_view_module_version": "1.5.0",
            "_view_name": "ProgressView",
            "bar_style": "success",
            "description": "",
            "description_tooltip": null,
            "layout": "IPY_MODEL_cdd235e8a0f6422f84b016d9df12f77d",
            "max": 5,
            "min": 0,
            "orientation": "horizontal",
            "style": "IPY_MODEL_e1864926b7cb4ef2949134f332bb381b",
            "value": 5
          }
        },
        "160f4d00039c493cb0340c7a15595f81": {
          "model_module": "@jupyter-widgets/controls",
          "model_name": "HTMLModel",
          "model_module_version": "1.5.0",
          "state": {
            "_dom_classes": [],
            "_model_module": "@jupyter-widgets/controls",
            "_model_module_version": "1.5.0",
            "_model_name": "HTMLModel",
            "_view_count": null,
            "_view_module": "@jupyter-widgets/controls",
            "_view_module_version": "1.5.0",
            "_view_name": "HTMLView",
            "description": "",
            "description_tooltip": null,
            "layout": "IPY_MODEL_224cd53d80164027a8cd4683282c9358",
            "placeholder": "​",
            "style": "IPY_MODEL_f4857ea8f1a54e6e8cd96c2b2a2f57eb",
            "value": " 5/5 [00:00&lt;00:00, 78.50it/s]"
          }
        },
        "b722a50732584afaafef9fd484c11755": {
          "model_module": "@jupyter-widgets/base",
          "model_name": "LayoutModel",
          "model_module_version": "1.2.0",
          "state": {
            "_model_module": "@jupyter-widgets/base",
            "_model_module_version": "1.2.0",
            "_model_name": "LayoutModel",
            "_view_count": null,
            "_view_module": "@jupyter-widgets/base",
            "_view_module_version": "1.2.0",
            "_view_name": "LayoutView",
            "align_content": null,
            "align_items": null,
            "align_self": null,
            "border": null,
            "bottom": null,
            "display": null,
            "flex": null,
            "flex_flow": null,
            "grid_area": null,
            "grid_auto_columns": null,
            "grid_auto_flow": null,
            "grid_auto_rows": null,
            "grid_column": null,
            "grid_gap": null,
            "grid_row": null,
            "grid_template_areas": null,
            "grid_template_columns": null,
            "grid_template_rows": null,
            "height": null,
            "justify_content": null,
            "justify_items": null,
            "left": null,
            "margin": null,
            "max_height": null,
            "max_width": null,
            "min_height": null,
            "min_width": null,
            "object_fit": null,
            "object_position": null,
            "order": null,
            "overflow": null,
            "overflow_x": null,
            "overflow_y": null,
            "padding": null,
            "right": null,
            "top": null,
            "visibility": null,
            "width": null
          }
        },
        "7690bdc5c1f44261bf211b6c37a293d1": {
          "model_module": "@jupyter-widgets/base",
          "model_name": "LayoutModel",
          "model_module_version": "1.2.0",
          "state": {
            "_model_module": "@jupyter-widgets/base",
            "_model_module_version": "1.2.0",
            "_model_name": "LayoutModel",
            "_view_count": null,
            "_view_module": "@jupyter-widgets/base",
            "_view_module_version": "1.2.0",
            "_view_name": "LayoutView",
            "align_content": null,
            "align_items": null,
            "align_self": null,
            "border": null,
            "bottom": null,
            "display": null,
            "flex": null,
            "flex_flow": null,
            "grid_area": null,
            "grid_auto_columns": null,
            "grid_auto_flow": null,
            "grid_auto_rows": null,
            "grid_column": null,
            "grid_gap": null,
            "grid_row": null,
            "grid_template_areas": null,
            "grid_template_columns": null,
            "grid_template_rows": null,
            "height": null,
            "justify_content": null,
            "justify_items": null,
            "left": null,
            "margin": null,
            "max_height": null,
            "max_width": null,
            "min_height": null,
            "min_width": null,
            "object_fit": null,
            "object_position": null,
            "order": null,
            "overflow": null,
            "overflow_x": null,
            "overflow_y": null,
            "padding": null,
            "right": null,
            "top": null,
            "visibility": null,
            "width": null
          }
        },
        "7356f6e40ec24a7d807c237d00ee9dfd": {
          "model_module": "@jupyter-widgets/controls",
          "model_name": "DescriptionStyleModel",
          "model_module_version": "1.5.0",
          "state": {
            "_model_module": "@jupyter-widgets/controls",
            "_model_module_version": "1.5.0",
            "_model_name": "DescriptionStyleModel",
            "_view_count": null,
            "_view_module": "@jupyter-widgets/base",
            "_view_module_version": "1.2.0",
            "_view_name": "StyleView",
            "description_width": ""
          }
        },
        "cdd235e8a0f6422f84b016d9df12f77d": {
          "model_module": "@jupyter-widgets/base",
          "model_name": "LayoutModel",
          "model_module_version": "1.2.0",
          "state": {
            "_model_module": "@jupyter-widgets/base",
            "_model_module_version": "1.2.0",
            "_model_name": "LayoutModel",
            "_view_count": null,
            "_view_module": "@jupyter-widgets/base",
            "_view_module_version": "1.2.0",
            "_view_name": "LayoutView",
            "align_content": null,
            "align_items": null,
            "align_self": null,
            "border": null,
            "bottom": null,
            "display": null,
            "flex": null,
            "flex_flow": null,
            "grid_area": null,
            "grid_auto_columns": null,
            "grid_auto_flow": null,
            "grid_auto_rows": null,
            "grid_column": null,
            "grid_gap": null,
            "grid_row": null,
            "grid_template_areas": null,
            "grid_template_columns": null,
            "grid_template_rows": null,
            "height": null,
            "justify_content": null,
            "justify_items": null,
            "left": null,
            "margin": null,
            "max_height": null,
            "max_width": null,
            "min_height": null,
            "min_width": null,
            "object_fit": null,
            "object_position": null,
            "order": null,
            "overflow": null,
            "overflow_x": null,
            "overflow_y": null,
            "padding": null,
            "right": null,
            "top": null,
            "visibility": null,
            "width": null
          }
        },
        "e1864926b7cb4ef2949134f332bb381b": {
          "model_module": "@jupyter-widgets/controls",
          "model_name": "ProgressStyleModel",
          "model_module_version": "1.5.0",
          "state": {
            "_model_module": "@jupyter-widgets/controls",
            "_model_module_version": "1.5.0",
            "_model_name": "ProgressStyleModel",
            "_view_count": null,
            "_view_module": "@jupyter-widgets/base",
            "_view_module_version": "1.2.0",
            "_view_name": "StyleView",
            "bar_color": null,
            "description_width": ""
          }
        },
        "224cd53d80164027a8cd4683282c9358": {
          "model_module": "@jupyter-widgets/base",
          "model_name": "LayoutModel",
          "model_module_version": "1.2.0",
          "state": {
            "_model_module": "@jupyter-widgets/base",
            "_model_module_version": "1.2.0",
            "_model_name": "LayoutModel",
            "_view_count": null,
            "_view_module": "@jupyter-widgets/base",
            "_view_module_version": "1.2.0",
            "_view_name": "LayoutView",
            "align_content": null,
            "align_items": null,
            "align_self": null,
            "border": null,
            "bottom": null,
            "display": null,
            "flex": null,
            "flex_flow": null,
            "grid_area": null,
            "grid_auto_columns": null,
            "grid_auto_flow": null,
            "grid_auto_rows": null,
            "grid_column": null,
            "grid_gap": null,
            "grid_row": null,
            "grid_template_areas": null,
            "grid_template_columns": null,
            "grid_template_rows": null,
            "height": null,
            "justify_content": null,
            "justify_items": null,
            "left": null,
            "margin": null,
            "max_height": null,
            "max_width": null,
            "min_height": null,
            "min_width": null,
            "object_fit": null,
            "object_position": null,
            "order": null,
            "overflow": null,
            "overflow_x": null,
            "overflow_y": null,
            "padding": null,
            "right": null,
            "top": null,
            "visibility": null,
            "width": null
          }
        },
        "f4857ea8f1a54e6e8cd96c2b2a2f57eb": {
          "model_module": "@jupyter-widgets/controls",
          "model_name": "DescriptionStyleModel",
          "model_module_version": "1.5.0",
          "state": {
            "_model_module": "@jupyter-widgets/controls",
            "_model_module_version": "1.5.0",
            "_model_name": "DescriptionStyleModel",
            "_view_count": null,
            "_view_module": "@jupyter-widgets/base",
            "_view_module_version": "1.2.0",
            "_view_name": "StyleView",
            "description_width": ""
          }
        },
        "de7f58eb55d74f71b6e8caaa5a3d78a8": {
          "model_module": "@jupyter-widgets/controls",
          "model_name": "HBoxModel",
          "model_module_version": "1.5.0",
          "state": {
            "_dom_classes": [],
            "_model_module": "@jupyter-widgets/controls",
            "_model_module_version": "1.5.0",
            "_model_name": "HBoxModel",
            "_view_count": null,
            "_view_module": "@jupyter-widgets/controls",
            "_view_module_version": "1.5.0",
            "_view_name": "HBoxView",
            "box_style": "",
            "children": [
              "IPY_MODEL_4cc417d45d0242229ab9949873739437",
              "IPY_MODEL_b17aa462468342a188d9f8433a9b4d71",
              "IPY_MODEL_7e3b3e7fdd164e6bb548090e98307dbf"
            ],
            "layout": "IPY_MODEL_a5e97121919a463491446db760a5875b"
          }
        },
        "4cc417d45d0242229ab9949873739437": {
          "model_module": "@jupyter-widgets/controls",
          "model_name": "HTMLModel",
          "model_module_version": "1.5.0",
          "state": {
            "_dom_classes": [],
            "_model_module": "@jupyter-widgets/controls",
            "_model_module_version": "1.5.0",
            "_model_name": "HTMLModel",
            "_view_count": null,
            "_view_module": "@jupyter-widgets/controls",
            "_view_module_version": "1.5.0",
            "_view_name": "HTMLView",
            "description": "",
            "description_tooltip": null,
            "layout": "IPY_MODEL_59648debbc88490f8d75cba835ea956b",
            "placeholder": "​",
            "style": "IPY_MODEL_bb62bcb6b771483e9812bb8aecc00e96",
            "value": "100%"
          }
        },
        "b17aa462468342a188d9f8433a9b4d71": {
          "model_module": "@jupyter-widgets/controls",
          "model_name": "FloatProgressModel",
          "model_module_version": "1.5.0",
          "state": {
            "_dom_classes": [],
            "_model_module": "@jupyter-widgets/controls",
            "_model_module_version": "1.5.0",
            "_model_name": "FloatProgressModel",
            "_view_count": null,
            "_view_module": "@jupyter-widgets/controls",
            "_view_module_version": "1.5.0",
            "_view_name": "ProgressView",
            "bar_style": "success",
            "description": "",
            "description_tooltip": null,
            "layout": "IPY_MODEL_d223fcd4d2da42879a04a9524c83d4cc",
            "max": 5,
            "min": 0,
            "orientation": "horizontal",
            "style": "IPY_MODEL_227c6536ac3742b2a9715e63d6d1b49c",
            "value": 5
          }
        },
        "7e3b3e7fdd164e6bb548090e98307dbf": {
          "model_module": "@jupyter-widgets/controls",
          "model_name": "HTMLModel",
          "model_module_version": "1.5.0",
          "state": {
            "_dom_classes": [],
            "_model_module": "@jupyter-widgets/controls",
            "_model_module_version": "1.5.0",
            "_model_name": "HTMLModel",
            "_view_count": null,
            "_view_module": "@jupyter-widgets/controls",
            "_view_module_version": "1.5.0",
            "_view_name": "HTMLView",
            "description": "",
            "description_tooltip": null,
            "layout": "IPY_MODEL_f200f0a944b54b9eab6c82eeb397bf08",
            "placeholder": "​",
            "style": "IPY_MODEL_a1cbe7e5924f47c8afd43a230c43795f",
            "value": " 5/5 [00:00&lt;00:00, 96.85it/s]"
          }
        },
        "a5e97121919a463491446db760a5875b": {
          "model_module": "@jupyter-widgets/base",
          "model_name": "LayoutModel",
          "model_module_version": "1.2.0",
          "state": {
            "_model_module": "@jupyter-widgets/base",
            "_model_module_version": "1.2.0",
            "_model_name": "LayoutModel",
            "_view_count": null,
            "_view_module": "@jupyter-widgets/base",
            "_view_module_version": "1.2.0",
            "_view_name": "LayoutView",
            "align_content": null,
            "align_items": null,
            "align_self": null,
            "border": null,
            "bottom": null,
            "display": null,
            "flex": null,
            "flex_flow": null,
            "grid_area": null,
            "grid_auto_columns": null,
            "grid_auto_flow": null,
            "grid_auto_rows": null,
            "grid_column": null,
            "grid_gap": null,
            "grid_row": null,
            "grid_template_areas": null,
            "grid_template_columns": null,
            "grid_template_rows": null,
            "height": null,
            "justify_content": null,
            "justify_items": null,
            "left": null,
            "margin": null,
            "max_height": null,
            "max_width": null,
            "min_height": null,
            "min_width": null,
            "object_fit": null,
            "object_position": null,
            "order": null,
            "overflow": null,
            "overflow_x": null,
            "overflow_y": null,
            "padding": null,
            "right": null,
            "top": null,
            "visibility": null,
            "width": null
          }
        },
        "59648debbc88490f8d75cba835ea956b": {
          "model_module": "@jupyter-widgets/base",
          "model_name": "LayoutModel",
          "model_module_version": "1.2.0",
          "state": {
            "_model_module": "@jupyter-widgets/base",
            "_model_module_version": "1.2.0",
            "_model_name": "LayoutModel",
            "_view_count": null,
            "_view_module": "@jupyter-widgets/base",
            "_view_module_version": "1.2.0",
            "_view_name": "LayoutView",
            "align_content": null,
            "align_items": null,
            "align_self": null,
            "border": null,
            "bottom": null,
            "display": null,
            "flex": null,
            "flex_flow": null,
            "grid_area": null,
            "grid_auto_columns": null,
            "grid_auto_flow": null,
            "grid_auto_rows": null,
            "grid_column": null,
            "grid_gap": null,
            "grid_row": null,
            "grid_template_areas": null,
            "grid_template_columns": null,
            "grid_template_rows": null,
            "height": null,
            "justify_content": null,
            "justify_items": null,
            "left": null,
            "margin": null,
            "max_height": null,
            "max_width": null,
            "min_height": null,
            "min_width": null,
            "object_fit": null,
            "object_position": null,
            "order": null,
            "overflow": null,
            "overflow_x": null,
            "overflow_y": null,
            "padding": null,
            "right": null,
            "top": null,
            "visibility": null,
            "width": null
          }
        },
        "bb62bcb6b771483e9812bb8aecc00e96": {
          "model_module": "@jupyter-widgets/controls",
          "model_name": "DescriptionStyleModel",
          "model_module_version": "1.5.0",
          "state": {
            "_model_module": "@jupyter-widgets/controls",
            "_model_module_version": "1.5.0",
            "_model_name": "DescriptionStyleModel",
            "_view_count": null,
            "_view_module": "@jupyter-widgets/base",
            "_view_module_version": "1.2.0",
            "_view_name": "StyleView",
            "description_width": ""
          }
        },
        "d223fcd4d2da42879a04a9524c83d4cc": {
          "model_module": "@jupyter-widgets/base",
          "model_name": "LayoutModel",
          "model_module_version": "1.2.0",
          "state": {
            "_model_module": "@jupyter-widgets/base",
            "_model_module_version": "1.2.0",
            "_model_name": "LayoutModel",
            "_view_count": null,
            "_view_module": "@jupyter-widgets/base",
            "_view_module_version": "1.2.0",
            "_view_name": "LayoutView",
            "align_content": null,
            "align_items": null,
            "align_self": null,
            "border": null,
            "bottom": null,
            "display": null,
            "flex": null,
            "flex_flow": null,
            "grid_area": null,
            "grid_auto_columns": null,
            "grid_auto_flow": null,
            "grid_auto_rows": null,
            "grid_column": null,
            "grid_gap": null,
            "grid_row": null,
            "grid_template_areas": null,
            "grid_template_columns": null,
            "grid_template_rows": null,
            "height": null,
            "justify_content": null,
            "justify_items": null,
            "left": null,
            "margin": null,
            "max_height": null,
            "max_width": null,
            "min_height": null,
            "min_width": null,
            "object_fit": null,
            "object_position": null,
            "order": null,
            "overflow": null,
            "overflow_x": null,
            "overflow_y": null,
            "padding": null,
            "right": null,
            "top": null,
            "visibility": null,
            "width": null
          }
        },
        "227c6536ac3742b2a9715e63d6d1b49c": {
          "model_module": "@jupyter-widgets/controls",
          "model_name": "ProgressStyleModel",
          "model_module_version": "1.5.0",
          "state": {
            "_model_module": "@jupyter-widgets/controls",
            "_model_module_version": "1.5.0",
            "_model_name": "ProgressStyleModel",
            "_view_count": null,
            "_view_module": "@jupyter-widgets/base",
            "_view_module_version": "1.2.0",
            "_view_name": "StyleView",
            "bar_color": null,
            "description_width": ""
          }
        },
        "f200f0a944b54b9eab6c82eeb397bf08": {
          "model_module": "@jupyter-widgets/base",
          "model_name": "LayoutModel",
          "model_module_version": "1.2.0",
          "state": {
            "_model_module": "@jupyter-widgets/base",
            "_model_module_version": "1.2.0",
            "_model_name": "LayoutModel",
            "_view_count": null,
            "_view_module": "@jupyter-widgets/base",
            "_view_module_version": "1.2.0",
            "_view_name": "LayoutView",
            "align_content": null,
            "align_items": null,
            "align_self": null,
            "border": null,
            "bottom": null,
            "display": null,
            "flex": null,
            "flex_flow": null,
            "grid_area": null,
            "grid_auto_columns": null,
            "grid_auto_flow": null,
            "grid_auto_rows": null,
            "grid_column": null,
            "grid_gap": null,
            "grid_row": null,
            "grid_template_areas": null,
            "grid_template_columns": null,
            "grid_template_rows": null,
            "height": null,
            "justify_content": null,
            "justify_items": null,
            "left": null,
            "margin": null,
            "max_height": null,
            "max_width": null,
            "min_height": null,
            "min_width": null,
            "object_fit": null,
            "object_position": null,
            "order": null,
            "overflow": null,
            "overflow_x": null,
            "overflow_y": null,
            "padding": null,
            "right": null,
            "top": null,
            "visibility": null,
            "width": null
          }
        },
        "a1cbe7e5924f47c8afd43a230c43795f": {
          "model_module": "@jupyter-widgets/controls",
          "model_name": "DescriptionStyleModel",
          "model_module_version": "1.5.0",
          "state": {
            "_model_module": "@jupyter-widgets/controls",
            "_model_module_version": "1.5.0",
            "_model_name": "DescriptionStyleModel",
            "_view_count": null,
            "_view_module": "@jupyter-widgets/base",
            "_view_module_version": "1.2.0",
            "_view_name": "StyleView",
            "description_width": ""
          }
        },
        "7f9a6d9dd0b6434a88e1d7f8bb38f6ef": {
          "model_module": "@jupyter-widgets/controls",
          "model_name": "HBoxModel",
          "model_module_version": "1.5.0",
          "state": {
            "_dom_classes": [],
            "_model_module": "@jupyter-widgets/controls",
            "_model_module_version": "1.5.0",
            "_model_name": "HBoxModel",
            "_view_count": null,
            "_view_module": "@jupyter-widgets/controls",
            "_view_module_version": "1.5.0",
            "_view_name": "HBoxView",
            "box_style": "",
            "children": [
              "IPY_MODEL_8729230d999a473397c7e9a11e11a067",
              "IPY_MODEL_d208064b98804de48661a68d4e7796fe",
              "IPY_MODEL_ff949c1f447047bf82dd1818671a0d99"
            ],
            "layout": "IPY_MODEL_0fc84d427e2f48b783544dad6e4d335a"
          }
        },
        "8729230d999a473397c7e9a11e11a067": {
          "model_module": "@jupyter-widgets/controls",
          "model_name": "HTMLModel",
          "model_module_version": "1.5.0",
          "state": {
            "_dom_classes": [],
            "_model_module": "@jupyter-widgets/controls",
            "_model_module_version": "1.5.0",
            "_model_name": "HTMLModel",
            "_view_count": null,
            "_view_module": "@jupyter-widgets/controls",
            "_view_module_version": "1.5.0",
            "_view_name": "HTMLView",
            "description": "",
            "description_tooltip": null,
            "layout": "IPY_MODEL_c2049e34628f415da3c46ade1ba0cb84",
            "placeholder": "​",
            "style": "IPY_MODEL_bdb335ee2418442aa322da3a224054f2",
            "value": "100%"
          }
        },
        "d208064b98804de48661a68d4e7796fe": {
          "model_module": "@jupyter-widgets/controls",
          "model_name": "FloatProgressModel",
          "model_module_version": "1.5.0",
          "state": {
            "_dom_classes": [],
            "_model_module": "@jupyter-widgets/controls",
            "_model_module_version": "1.5.0",
            "_model_name": "FloatProgressModel",
            "_view_count": null,
            "_view_module": "@jupyter-widgets/controls",
            "_view_module_version": "1.5.0",
            "_view_name": "ProgressView",
            "bar_style": "success",
            "description": "",
            "description_tooltip": null,
            "layout": "IPY_MODEL_1b8917678a6642088ade1176634e386e",
            "max": 142,
            "min": 0,
            "orientation": "horizontal",
            "style": "IPY_MODEL_297480939f7e432682950513116ed2b5",
            "value": 142
          }
        },
        "ff949c1f447047bf82dd1818671a0d99": {
          "model_module": "@jupyter-widgets/controls",
          "model_name": "HTMLModel",
          "model_module_version": "1.5.0",
          "state": {
            "_dom_classes": [],
            "_model_module": "@jupyter-widgets/controls",
            "_model_module_version": "1.5.0",
            "_model_name": "HTMLModel",
            "_view_count": null,
            "_view_module": "@jupyter-widgets/controls",
            "_view_module_version": "1.5.0",
            "_view_name": "HTMLView",
            "description": "",
            "description_tooltip": null,
            "layout": "IPY_MODEL_fa0465f3d74e4d57947918be4101c02e",
            "placeholder": "​",
            "style": "IPY_MODEL_87129ae0268d41e1912a8db9d8784126",
            "value": " 142/142 [00:00&lt;00:00,  9.24it/s]"
          }
        },
        "0fc84d427e2f48b783544dad6e4d335a": {
          "model_module": "@jupyter-widgets/base",
          "model_name": "LayoutModel",
          "model_module_version": "1.2.0",
          "state": {
            "_model_module": "@jupyter-widgets/base",
            "_model_module_version": "1.2.0",
            "_model_name": "LayoutModel",
            "_view_count": null,
            "_view_module": "@jupyter-widgets/base",
            "_view_module_version": "1.2.0",
            "_view_name": "LayoutView",
            "align_content": null,
            "align_items": null,
            "align_self": null,
            "border": null,
            "bottom": null,
            "display": null,
            "flex": null,
            "flex_flow": null,
            "grid_area": null,
            "grid_auto_columns": null,
            "grid_auto_flow": null,
            "grid_auto_rows": null,
            "grid_column": null,
            "grid_gap": null,
            "grid_row": null,
            "grid_template_areas": null,
            "grid_template_columns": null,
            "grid_template_rows": null,
            "height": null,
            "justify_content": null,
            "justify_items": null,
            "left": null,
            "margin": null,
            "max_height": null,
            "max_width": null,
            "min_height": null,
            "min_width": null,
            "object_fit": null,
            "object_position": null,
            "order": null,
            "overflow": null,
            "overflow_x": null,
            "overflow_y": null,
            "padding": null,
            "right": null,
            "top": null,
            "visibility": null,
            "width": null
          }
        },
        "c2049e34628f415da3c46ade1ba0cb84": {
          "model_module": "@jupyter-widgets/base",
          "model_name": "LayoutModel",
          "model_module_version": "1.2.0",
          "state": {
            "_model_module": "@jupyter-widgets/base",
            "_model_module_version": "1.2.0",
            "_model_name": "LayoutModel",
            "_view_count": null,
            "_view_module": "@jupyter-widgets/base",
            "_view_module_version": "1.2.0",
            "_view_name": "LayoutView",
            "align_content": null,
            "align_items": null,
            "align_self": null,
            "border": null,
            "bottom": null,
            "display": null,
            "flex": null,
            "flex_flow": null,
            "grid_area": null,
            "grid_auto_columns": null,
            "grid_auto_flow": null,
            "grid_auto_rows": null,
            "grid_column": null,
            "grid_gap": null,
            "grid_row": null,
            "grid_template_areas": null,
            "grid_template_columns": null,
            "grid_template_rows": null,
            "height": null,
            "justify_content": null,
            "justify_items": null,
            "left": null,
            "margin": null,
            "max_height": null,
            "max_width": null,
            "min_height": null,
            "min_width": null,
            "object_fit": null,
            "object_position": null,
            "order": null,
            "overflow": null,
            "overflow_x": null,
            "overflow_y": null,
            "padding": null,
            "right": null,
            "top": null,
            "visibility": null,
            "width": null
          }
        },
        "bdb335ee2418442aa322da3a224054f2": {
          "model_module": "@jupyter-widgets/controls",
          "model_name": "DescriptionStyleModel",
          "model_module_version": "1.5.0",
          "state": {
            "_model_module": "@jupyter-widgets/controls",
            "_model_module_version": "1.5.0",
            "_model_name": "DescriptionStyleModel",
            "_view_count": null,
            "_view_module": "@jupyter-widgets/base",
            "_view_module_version": "1.2.0",
            "_view_name": "StyleView",
            "description_width": ""
          }
        },
        "1b8917678a6642088ade1176634e386e": {
          "model_module": "@jupyter-widgets/base",
          "model_name": "LayoutModel",
          "model_module_version": "1.2.0",
          "state": {
            "_model_module": "@jupyter-widgets/base",
            "_model_module_version": "1.2.0",
            "_model_name": "LayoutModel",
            "_view_count": null,
            "_view_module": "@jupyter-widgets/base",
            "_view_module_version": "1.2.0",
            "_view_name": "LayoutView",
            "align_content": null,
            "align_items": null,
            "align_self": null,
            "border": null,
            "bottom": null,
            "display": null,
            "flex": null,
            "flex_flow": null,
            "grid_area": null,
            "grid_auto_columns": null,
            "grid_auto_flow": null,
            "grid_auto_rows": null,
            "grid_column": null,
            "grid_gap": null,
            "grid_row": null,
            "grid_template_areas": null,
            "grid_template_columns": null,
            "grid_template_rows": null,
            "height": null,
            "justify_content": null,
            "justify_items": null,
            "left": null,
            "margin": null,
            "max_height": null,
            "max_width": null,
            "min_height": null,
            "min_width": null,
            "object_fit": null,
            "object_position": null,
            "order": null,
            "overflow": null,
            "overflow_x": null,
            "overflow_y": null,
            "padding": null,
            "right": null,
            "top": null,
            "visibility": null,
            "width": null
          }
        },
        "297480939f7e432682950513116ed2b5": {
          "model_module": "@jupyter-widgets/controls",
          "model_name": "ProgressStyleModel",
          "model_module_version": "1.5.0",
          "state": {
            "_model_module": "@jupyter-widgets/controls",
            "_model_module_version": "1.5.0",
            "_model_name": "ProgressStyleModel",
            "_view_count": null,
            "_view_module": "@jupyter-widgets/base",
            "_view_module_version": "1.2.0",
            "_view_name": "StyleView",
            "bar_color": null,
            "description_width": ""
          }
        },
        "fa0465f3d74e4d57947918be4101c02e": {
          "model_module": "@jupyter-widgets/base",
          "model_name": "LayoutModel",
          "model_module_version": "1.2.0",
          "state": {
            "_model_module": "@jupyter-widgets/base",
            "_model_module_version": "1.2.0",
            "_model_name": "LayoutModel",
            "_view_count": null,
            "_view_module": "@jupyter-widgets/base",
            "_view_module_version": "1.2.0",
            "_view_name": "LayoutView",
            "align_content": null,
            "align_items": null,
            "align_self": null,
            "border": null,
            "bottom": null,
            "display": null,
            "flex": null,
            "flex_flow": null,
            "grid_area": null,
            "grid_auto_columns": null,
            "grid_auto_flow": null,
            "grid_auto_rows": null,
            "grid_column": null,
            "grid_gap": null,
            "grid_row": null,
            "grid_template_areas": null,
            "grid_template_columns": null,
            "grid_template_rows": null,
            "height": null,
            "justify_content": null,
            "justify_items": null,
            "left": null,
            "margin": null,
            "max_height": null,
            "max_width": null,
            "min_height": null,
            "min_width": null,
            "object_fit": null,
            "object_position": null,
            "order": null,
            "overflow": null,
            "overflow_x": null,
            "overflow_y": null,
            "padding": null,
            "right": null,
            "top": null,
            "visibility": null,
            "width": null
          }
        },
        "87129ae0268d41e1912a8db9d8784126": {
          "model_module": "@jupyter-widgets/controls",
          "model_name": "DescriptionStyleModel",
          "model_module_version": "1.5.0",
          "state": {
            "_model_module": "@jupyter-widgets/controls",
            "_model_module_version": "1.5.0",
            "_model_name": "DescriptionStyleModel",
            "_view_count": null,
            "_view_module": "@jupyter-widgets/base",
            "_view_module_version": "1.2.0",
            "_view_name": "StyleView",
            "description_width": ""
          }
        }
      }
    }
  },
  "cells": [
    {
      "cell_type": "markdown",
      "metadata": {
        "id": "view-in-github",
        "colab_type": "text"
      },
      "source": [
        "<a href=\"https://colab.research.google.com/github/sreehari59/Polar-Embedding/blob/main/Polar_Embedding_Generator.ipynb\" target=\"_parent\"><img src=\"https://colab.research.google.com/assets/colab-badge.svg\" alt=\"Open In Colab\"/></a>"
      ]
    },
    {
      "cell_type": "code",
      "execution_count": 1,
      "metadata": {
        "id": "WpXcGM_fgQkQ",
        "colab": {
          "base_uri": "https://localhost:8080/"
        },
        "outputId": "8a2f5d67-99f9-4e6e-fedf-faeff412b7e1"
      },
      "outputs": [
        {
          "output_type": "stream",
          "name": "stdout",
          "text": [
            "Mounted at /content/drive\n"
          ]
        }
      ],
      "source": [
        "# This is to load file from google drive\n",
        "from google.colab import drive\n",
        "drive.mount('/content/drive')\n"
      ]
    },
    {
      "cell_type": "code",
      "source": [
        "import gensim\n",
        "from numpy import linalg\n",
        "import numpy as np\n",
        "import pandas as pd\n",
        "from sklearn.metrics.pairwise import cosine_similarity\n",
        "from tqdm import tqdm_notebook as tqdm\n",
        "import time\n",
        "from random import shuffle\n",
        "import sys\n",
        "import nltk \n",
        "from nltk.corpus import wordnet \n",
        "import gc\n",
        "from collections import defaultdict\n",
        "import random\n",
        "import json\n",
        "import os\n",
        "\n",
        "from gensim.scripts.glove2word2vec import glove2word2vec\n",
        "from gensim.test.utils import datapath, get_tmpfile\n",
        "\n",
        "from gensim.test.utils import datapath\n",
        "\n",
        "# This is for the plotly subplots\n",
        "from plotly.subplots import make_subplots\n",
        "import plotly.graph_objects as go\n",
        "\n",
        "# This is to download csv file\n",
        "from google.colab import files\n",
        "\n",
        "import random\n",
        "import scipy\n",
        "\n",
        "\n",
        "!pip install ipython-autotime\n",
        "%load_ext autotime"
      ],
      "metadata": {
        "id": "xalZuMGOIbSJ",
        "colab": {
          "base_uri": "https://localhost:8080/"
        },
        "outputId": "639695e3-d0a4-4294-f5a3-95f867ef4452"
      },
      "execution_count": 2,
      "outputs": [
        {
          "output_type": "stream",
          "name": "stdout",
          "text": [
            "Looking in indexes: https://pypi.org/simple, https://us-python.pkg.dev/colab-wheels/public/simple/\n",
            "Collecting ipython-autotime\n",
            "  Downloading ipython_autotime-0.3.1-py2.py3-none-any.whl (6.8 kB)\n",
            "Requirement already satisfied: ipython in /usr/local/lib/python3.7/dist-packages (from ipython-autotime) (5.5.0)\n",
            "Requirement already satisfied: setuptools>=18.5 in /usr/local/lib/python3.7/dist-packages (from ipython->ipython-autotime) (57.4.0)\n",
            "Requirement already satisfied: simplegeneric>0.8 in /usr/local/lib/python3.7/dist-packages (from ipython->ipython-autotime) (0.8.1)\n",
            "Requirement already satisfied: pygments in /usr/local/lib/python3.7/dist-packages (from ipython->ipython-autotime) (2.6.1)\n",
            "Requirement already satisfied: traitlets>=4.2 in /usr/local/lib/python3.7/dist-packages (from ipython->ipython-autotime) (5.1.1)\n",
            "Requirement already satisfied: decorator in /usr/local/lib/python3.7/dist-packages (from ipython->ipython-autotime) (4.4.2)\n",
            "Requirement already satisfied: prompt-toolkit<2.0.0,>=1.0.4 in /usr/local/lib/python3.7/dist-packages (from ipython->ipython-autotime) (1.0.18)\n",
            "Requirement already satisfied: pexpect in /usr/local/lib/python3.7/dist-packages (from ipython->ipython-autotime) (4.8.0)\n",
            "Requirement already satisfied: pickleshare in /usr/local/lib/python3.7/dist-packages (from ipython->ipython-autotime) (0.7.5)\n",
            "Requirement already satisfied: six>=1.9.0 in /usr/local/lib/python3.7/dist-packages (from prompt-toolkit<2.0.0,>=1.0.4->ipython->ipython-autotime) (1.15.0)\n",
            "Requirement already satisfied: wcwidth in /usr/local/lib/python3.7/dist-packages (from prompt-toolkit<2.0.0,>=1.0.4->ipython->ipython-autotime) (0.2.5)\n",
            "Requirement already satisfied: ptyprocess>=0.5 in /usr/local/lib/python3.7/dist-packages (from pexpect->ipython->ipython-autotime) (0.7.0)\n",
            "Installing collected packages: ipython-autotime\n",
            "Successfully installed ipython-autotime-0.3.1\n",
            "time: 211 µs (started: 2022-06-02 04:11:25 +00:00)\n"
          ]
        }
      ]
    },
    {
      "cell_type": "code",
      "source": [
        "def unzipping_file():\n",
        "  !wget https://nlp.stanford.edu/data/glove.6B.zip\n",
        "  !unzip glove*.zip # When it is unzipped you can see the different set of dimension it can have that is 25d, 50d, 100d or 200d"
      ],
      "metadata": {
        "colab": {
          "base_uri": "https://localhost:8080/"
        },
        "id": "UdjMJPsQin5X",
        "outputId": "1968c1cd-ba41-4ee3-f3f1-d0de118f152a"
      },
      "execution_count": 3,
      "outputs": [
        {
          "output_type": "stream",
          "name": "stdout",
          "text": [
            "time: 2.18 ms (started: 2022-06-02 04:11:25 +00:00)\n"
          ]
        }
      ]
    },
    {
      "cell_type": "code",
      "source": [
        "def model_initialization(unzippedname, new_name):\n",
        "  model_glove = glove2word2vec(unzippedname,new_name)\n",
        "  model_glove = gensim.models.KeyedVectors.load_word2vec_format(new_name, binary=False)\n",
        "  return model_glove"
      ],
      "metadata": {
        "colab": {
          "base_uri": "https://localhost:8080/"
        },
        "id": "lSgm_BuJi1u2",
        "outputId": "ca4ddbb2-ef64-437b-a0b0-8ed57de152f9"
      },
      "execution_count": 4,
      "outputs": [
        {
          "output_type": "stream",
          "name": "stdout",
          "text": [
            "time: 3.28 ms (started: 2022-06-02 04:11:25 +00:00)\n"
          ]
        }
      ]
    },
    {
      "cell_type": "code",
      "source": [
        "def generate_norm_embedding(model, output_path):\n",
        "    temp_file = open(output_path,'wb')\n",
        "    temp_file.write(str.encode(str(len(model.vocab))+' '+str(model.vector_size)+'\\n'))\n",
        "    \n",
        "    for each_word in tqdm(model.vocab):\n",
        "        temp_file.write(str.encode(each_word+' '))  \n",
        "        temp_file.write(model[each_word]/linalg.norm(model[each_word]))\n",
        "        temp_file.write(str.encode('\\n'))\n",
        "    \n",
        "    \n",
        "    temp_file.close()\n",
        "    return output_path"
      ],
      "metadata": {
        "colab": {
          "base_uri": "https://localhost:8080/"
        },
        "id": "4QDhOxMki1xK",
        "outputId": "90281ccd-609a-414a-b53a-b27b235e8f92"
      },
      "execution_count": 5,
      "outputs": [
        {
          "output_type": "stream",
          "name": "stdout",
          "text": [
            "time: 9.62 ms (started: 2022-06-02 04:11:25 +00:00)\n"
          ]
        }
      ]
    },
    {
      "cell_type": "code",
      "source": [
        "def load_normalized_embedding(output_file_name):\n",
        "  return gensim.models.KeyedVectors.load_word2vec_format(output_file_name,binary=True)"
      ],
      "metadata": {
        "colab": {
          "base_uri": "https://localhost:8080/"
        },
        "id": "QCNWlFQ4j1BB",
        "outputId": "4b847e03-5f70-43f9-db7e-ed5d2f17cd05"
      },
      "execution_count": 6,
      "outputs": [
        {
          "output_type": "stream",
          "name": "stdout",
          "text": [
            "time: 1.65 ms (started: 2022-06-02 04:11:25 +00:00)\n"
          ]
        }
      ]
    },
    {
      "cell_type": "markdown",
      "source": [
        "**Loading the Antonym**"
      ],
      "metadata": {
        "id": "tjuehT_KlDNq"
      }
    },
    {
      "cell_type": "code",
      "source": [
        "def load_antonyms(list_new,current_model):\n",
        "  list_new= list(dict.fromkeys(list_new).keys())\n",
        "\n",
        "  similarity_matrix = defaultdict(list)\n",
        "  for each_pair in tqdm(list_new):\n",
        "      word1 = each_pair[0]\n",
        "      word2 = each_pair[1]\n",
        "      if word1 < word2:\n",
        "          similarity_matrix[word1].append(word2)\n",
        "      else:\n",
        "          similarity_matrix[word2].append(word1)\n",
        "\n",
        "  all_similarity = defaultdict(dict)\n",
        "  for each_key in tqdm(similarity_matrix):\n",
        "      for each_value in similarity_matrix[each_key]:\n",
        "  #         cosine_similarity([current_model[each_key]]\n",
        "          try:\n",
        "            all_similarity[each_key][each_value] = abs(cosine_similarity([current_model[each_key]],[current_model[each_value]])[0][0])\n",
        "          except:\n",
        "            print(\"The word is not in the vocabulary : \",each_key,\" \",each_value)\n",
        "\n",
        "  final_list = []\n",
        "  for index_counter, each_key in enumerate(tqdm(all_similarity)):\n",
        "  #     print(each_key,all_similarity[each_key])\n",
        "      listofTuples = sorted(all_similarity[each_key].items() ,  key=lambda x: x[1])\n",
        "  #     print(listofTuples)\n",
        "      final_list.append((each_key, listofTuples[0][0]))\n",
        "  print(len(final_list))\n",
        "\n",
        "  list_antonym = final_list\n",
        "  \n",
        "  return list_antonym"
      ],
      "metadata": {
        "colab": {
          "base_uri": "https://localhost:8080/"
        },
        "id": "GlVgY5XWklFf",
        "outputId": "a20574a7-265f-41ad-e409-97764b73f79f"
      },
      "execution_count": 7,
      "outputs": [
        {
          "output_type": "stream",
          "name": "stdout",
          "text": [
            "time: 25.8 ms (started: 2022-06-02 04:11:25 +00:00)\n"
          ]
        }
      ]
    },
    {
      "cell_type": "markdown",
      "source": [
        "**Find the antonym difference vectors**"
      ],
      "metadata": {
        "id": "j6CL60GP1k0_"
      }
    },
    {
      "cell_type": "code",
      "source": [
        "def antonym_difference_vector(list_antonym,current_model):\n",
        "  num_antonym  = len(list_antonym)\n",
        "  antonymy_vector = []\n",
        "  for each_word_pair in list_antonym:\n",
        "      antonymy_vector.append(current_model[each_word_pair[0]]- current_model[each_word_pair[1]])\n",
        "      \n",
        "  antonymy_vector = np.array(antonymy_vector)\n",
        "  print(antonymy_vector.shape)\n",
        "  print(antonymy_vector)\n",
        "  return antonymy_vector"
      ],
      "metadata": {
        "colab": {
          "base_uri": "https://localhost:8080/"
        },
        "id": "R7yjuU_V1boY",
        "outputId": "3d0a1da4-9f29-4937-a21d-36b7462089cc"
      },
      "execution_count": 8,
      "outputs": [
        {
          "output_type": "stream",
          "name": "stdout",
          "text": [
            "time: 6.42 ms (started: 2022-06-02 04:11:25 +00:00)\n"
          ]
        }
      ]
    },
    {
      "cell_type": "code",
      "source": [
        "def generate_embedding_path(current_model, embedding_path, binary, antonym_vector, curr_dim,antonymy_vector):\n",
        "    curr_antonym_vector = antonymy_vector[antonym_vector[:curr_dim]]\n",
        "    curr_antonymy_vector_inverse = np.linalg.pinv(np.transpose(curr_antonym_vector))\n",
        "    new_embedding_dict = transform_to_antonym_space(current_model, embedding_path, binary,curr_antonymy_vector_inverse)\n",
        "\n",
        "    return new_embedding_dict"
      ],
      "metadata": {
        "colab": {
          "base_uri": "https://localhost:8080/"
        },
        "id": "Qje6gzz323Pt",
        "outputId": "4e58e3a3-6368-4fb4-f12f-44fce7d62c63"
      },
      "execution_count": 9,
      "outputs": [
        {
          "output_type": "stream",
          "name": "stdout",
          "text": [
            "time: 4.53 ms (started: 2022-06-02 04:11:25 +00:00)\n"
          ]
        }
      ]
    },
    {
      "cell_type": "code",
      "source": [
        "def transform_to_antonym_space(current_model, output_file_path, binary, current_antonymy_vector_inverse):\n",
        "\n",
        "    temp_dict = dict()\n",
        "\n",
        "    embedding_size = current_antonymy_vector_inverse.shape[0]   ##CHANGE THIS ACCORDINGLY!!!\n",
        "    #print('New model size is',len(current_model), embedding_size)\n",
        "\n",
        "    temp_file = None\n",
        "    \n",
        "    if binary:\n",
        "        temp_file = open(output_file_path,'wb')\n",
        "        temp_file.write(str.encode(str(len(current_model))+' '+str(embedding_size)+'\\n'))\n",
        "    else:\n",
        "        temp_file = open(output_file_path,'w')\n",
        "        temp_file.write(str(len(current_model))+' '+str(embedding_size)+'\\n')\n",
        "\n",
        "    total_words = 0\n",
        "    for each_word in tqdm(current_model):\n",
        "        total_words += 1\n",
        "        if binary:\n",
        "            temp_file.write(str.encode(each_word+' '))\n",
        "        else:\n",
        "            temp_file.write(each_word+' ')\n",
        "\n",
        "        new_vector = np.matmul(current_antonymy_vector_inverse,current_model[each_word])\n",
        "\n",
        "        new_vector = new_vector/linalg.norm(new_vector)\n",
        "        temp_dict[each_word] = new_vector\n",
        "        \n",
        "        if binary:\n",
        "            temp_file.write(new_vector)\n",
        "            temp_file.write(str.encode('\\n'))\n",
        "        else:\n",
        "            temp_file.write(str(new_vector))\n",
        "            temp_file.write('\\n')\n",
        "\n",
        "\n",
        "    temp_file.close()\n",
        "    return temp_dict"
      ],
      "metadata": {
        "colab": {
          "base_uri": "https://localhost:8080/"
        },
        "id": "gRPHIto2-nmb",
        "outputId": "bc797c7d-6611-41d7-b76d-553eefe69a3d"
      },
      "execution_count": 10,
      "outputs": [
        {
          "output_type": "stream",
          "name": "stdout",
          "text": [
            "time: 27.5 ms (started: 2022-06-02 04:11:25 +00:00)\n"
          ]
        }
      ]
    },
    {
      "cell_type": "code",
      "source": [
        "def make_polar_dict(company_name, antonym, embedding, top_n = False, n = 10):\n",
        "  temp_dict = dict()\n",
        "  temp_polar = embedding[company_name]\n",
        "\n",
        "  if top_n:\n",
        "    idx = np.argsort([abs(x) for x in temp_polar])[-n:]\n",
        "    for i in idx:\n",
        "      print(antonym[i],temp_polar[i],'\\n')\n",
        "\n",
        "\n",
        "  if len(antonym) == len(temp_polar):\n",
        "    for a in range(len(antonym)):\n",
        "      temp_dict[antonym[a]] = temp_polar[a]\n",
        "    return temp_dict"
      ],
      "metadata": {
        "colab": {
          "base_uri": "https://localhost:8080/"
        },
        "id": "YSuobcrrQbHC",
        "outputId": "547f7caf-82ac-4af0-a764-f73957e6ecbd"
      },
      "execution_count": 11,
      "outputs": [
        {
          "output_type": "stream",
          "name": "stdout",
          "text": [
            "time: 9.76 ms (started: 2022-06-02 04:11:25 +00:00)\n"
          ]
        }
      ]
    },
    {
      "cell_type": "code",
      "source": [
        "def download_csv_file(df,filename):\n",
        "  df.to_csv(filename)\n",
        "  files.download(filename)"
      ],
      "metadata": {
        "colab": {
          "base_uri": "https://localhost:8080/"
        },
        "id": "c7vyAQYjb1C3",
        "outputId": "e46c4a8b-76d3-48ba-cd56-83fd8df36448"
      },
      "execution_count": 12,
      "outputs": [
        {
          "output_type": "stream",
          "name": "stdout",
          "text": [
            "time: 1.68 ms (started: 2022-06-02 04:11:25 +00:00)\n"
          ]
        }
      ]
    },
    {
      "cell_type": "markdown",
      "source": [
        "**The below function will input the antonym pair from the user**"
      ],
      "metadata": {
        "id": "fNALrHuMat_N"
      }
    },
    {
      "cell_type": "code",
      "source": [
        "def user_antonym_input(list_new,user_list):\n",
        "  list_new.append(user_list)\n",
        "  return list_new"
      ],
      "metadata": {
        "id": "22ilbIPLai9Z",
        "colab": {
          "base_uri": "https://localhost:8080/"
        },
        "outputId": "345dbc28-3f33-4bdb-9d3a-7af14d723fcd"
      },
      "execution_count": 13,
      "outputs": [
        {
          "output_type": "stream",
          "name": "stdout",
          "text": [
            "time: 1.9 ms (started: 2022-06-02 04:11:25 +00:00)\n"
          ]
        }
      ]
    },
    {
      "cell_type": "code",
      "source": [
        "def clear_tuple(tuples):\n",
        "  temp = list(tuples)\n",
        "  temp.clear()\n",
        "  tuples = tuple(temp)\n",
        "  return tuples"
      ],
      "metadata": {
        "colab": {
          "base_uri": "https://localhost:8080/"
        },
        "id": "Y5GgRVOEeNqB",
        "outputId": "86f6d86c-622b-48a2-e2bf-2d868e4613dd"
      },
      "execution_count": 15,
      "outputs": [
        {
          "output_type": "stream",
          "name": "stdout",
          "text": [
            "time: 2.95 ms (started: 2022-06-02 04:11:25 +00:00)\n"
          ]
        }
      ]
    },
    {
      "cell_type": "code",
      "source": [
        "def random_word_list(number_of_elements):  \n",
        "  list_antonym = []  \n",
        "  with open('/content/drive/MyDrive/LenciBenotto.val') as fp:\n",
        "      for line in fp:\n",
        "          parts = line.split() # The line is split into 4 parts as there are 3 space in between\n",
        "          if parts[3]=='antonym': # Here we if the the 4th part that is parts[3] in the line is antonym then that line is selected\n",
        "              word1 = parts[0].split('-')[0]\n",
        "              word2 = parts[1].split('-')[0]\n",
        "              if word1 in current_model and word2 in current_model: # If both the words are there in the model then it is appended to the list\n",
        "                  list_antonym.append((word1.strip().lower(), word2.strip().lower()))\n",
        "  \n",
        "  return random.sample(list_antonym, number_of_elements)"
      ],
      "metadata": {
        "colab": {
          "base_uri": "https://localhost:8080/"
        },
        "id": "v3xNGAqDK9vc",
        "outputId": "337aba06-1fd8-4669-9cf1-92f7b418291d"
      },
      "execution_count": 18,
      "outputs": [
        {
          "output_type": "stream",
          "name": "stdout",
          "text": [
            "time: 10.9 ms (started: 2022-06-02 04:11:25 +00:00)\n"
          ]
        }
      ]
    },
    {
      "cell_type": "code",
      "source": [
        "def similar_word_to_give_antonym_pair(input_list,current_model):\n",
        "  new_similar_list= [] \n",
        "\n",
        "  for i in input_list:\n",
        "    antonym_pair = i\n",
        "    first_word = antonym_pair[0]\n",
        "    second_word = antonym_pair[1]\n",
        "\n",
        "    similar_word_list1 = current_model.similar_by_word(first_word)\n",
        "    similar_word_list2 = current_model.similar_by_word(second_word)  \n",
        "    \n",
        "    new_antonym_word1 = similar_word_list1[0][0]\n",
        "    new_antonym_word2 = similar_word_list2[0][0]   \n",
        "   \n",
        "    antonym_tuple = (new_antonym_word1,new_antonym_word2)\n",
        "    \n",
        "    new_similar_list.append(antonym_tuple)\n",
        "    clear_tuple(antonym_tuple)\n",
        "    \n",
        "  return new_similar_list"
      ],
      "metadata": {
        "colab": {
          "base_uri": "https://localhost:8080/"
        },
        "id": "5zFmQs2W8uTr",
        "outputId": "b795c893-6918-4fae-f0d5-6258559f9241"
      },
      "execution_count": 19,
      "outputs": [
        {
          "output_type": "stream",
          "name": "stdout",
          "text": [
            "time: 11.9 ms (started: 2022-06-02 04:11:25 +00:00)\n"
          ]
        }
      ]
    },
    {
      "cell_type": "markdown",
      "source": [
        "**Below cell will load the model and unzip the model**"
      ],
      "metadata": {
        "id": "EyxcRrHw1Z7A"
      }
    },
    {
      "cell_type": "code",
      "source": [
        "unzipping_file()\n",
        "model_glove = model_initialization('glove.6B.300d.txt','gensim_glove.6B.300d.txt')\n",
        "path = generate_norm_embedding(model_glove,'glove_norm_wiki.mod')\n",
        "current_model  = load_normalized_embedding(path)"
      ],
      "metadata": {
        "colab": {
          "base_uri": "https://localhost:8080/",
          "height": 483,
          "referenced_widgets": [
            "7316b21a85874c498fadca14c56c0a48",
            "91e9009edfd8470c8dff0249f1df7657",
            "8dfb65ec8aca47c1b906f8416f0a0d32",
            "5475539cdc6647f68cbd6f5dc05d26bb",
            "c27256887c17404d87c660ed1c754f14",
            "15b0ef29248640c797817283d109c223",
            "b46d944d7d7c476383e5d66a1540dcee",
            "0873a415178b439a94baa24feae0b295",
            "08271919bdb64fc9b63cd4306edf972f",
            "d6953ba04b0b49b29ce946de79323da5",
            "84597b3f99194a04b8524bbfdf239a69"
          ]
        },
        "id": "fihM-FC4-wW0",
        "outputId": "f8798547-5fba-4232-e485-b9370afac498"
      },
      "execution_count": 20,
      "outputs": [
        {
          "output_type": "stream",
          "name": "stdout",
          "text": [
            "--2022-06-02 04:11:25--  https://nlp.stanford.edu/data/glove.6B.zip\n",
            "Resolving nlp.stanford.edu (nlp.stanford.edu)... 171.64.67.140\n",
            "Connecting to nlp.stanford.edu (nlp.stanford.edu)|171.64.67.140|:443... connected.\n",
            "HTTP request sent, awaiting response... 301 Moved Permanently\n",
            "Location: http://downloads.cs.stanford.edu/nlp/data/glove.6B.zip [following]\n",
            "--2022-06-02 04:11:26--  http://downloads.cs.stanford.edu/nlp/data/glove.6B.zip\n",
            "Resolving downloads.cs.stanford.edu (downloads.cs.stanford.edu)... 171.64.64.22\n",
            "Connecting to downloads.cs.stanford.edu (downloads.cs.stanford.edu)|171.64.64.22|:80... connected.\n",
            "HTTP request sent, awaiting response... 200 OK\n",
            "Length: 862182613 (822M) [application/zip]\n",
            "Saving to: ‘glove.6B.zip’\n",
            "\n",
            "glove.6B.zip        100%[===================>] 822.24M  5.09MB/s    in 2m 44s  \n",
            "\n",
            "2022-06-02 04:14:10 (5.00 MB/s) - ‘glove.6B.zip’ saved [862182613/862182613]\n",
            "\n",
            "Archive:  glove.6B.zip\n",
            "  inflating: glove.6B.50d.txt        \n",
            "  inflating: glove.6B.100d.txt       \n",
            "  inflating: glove.6B.200d.txt       \n",
            "  inflating: glove.6B.300d.txt       \n"
          ]
        },
        {
          "output_type": "stream",
          "name": "stderr",
          "text": [
            "/usr/local/lib/python3.7/dist-packages/ipykernel_launcher.py:5: TqdmDeprecationWarning: This function will be removed in tqdm==5.0.0\n",
            "Please use `tqdm.notebook.tqdm` instead of `tqdm.tqdm_notebook`\n",
            "  \"\"\"\n"
          ]
        },
        {
          "output_type": "display_data",
          "data": {
            "text/plain": [
              "  0%|          | 0/400000 [00:00<?, ?it/s]"
            ],
            "application/vnd.jupyter.widget-view+json": {
              "version_major": 2,
              "version_minor": 0,
              "model_id": "7316b21a85874c498fadca14c56c0a48"
            }
          },
          "metadata": {}
        },
        {
          "output_type": "stream",
          "name": "stdout",
          "text": [
            "time: 4min 31s (started: 2022-06-02 04:11:25 +00:00)\n"
          ]
        }
      ]
    },
    {
      "cell_type": "markdown",
      "source": [
        "**Random List**"
      ],
      "metadata": {
        "id": "0LoWegKw3Zs3"
      }
    },
    {
      "cell_type": "code",
      "source": [
        "list_powerdistance_random =[('make', 'break'), ('cameraman', 'playwright'), ('mystical', 'factual'), ('promotional', 'defamation'), ('iconic', 'unknown')]\n",
        "list_individualism_random = [('lop', 'secure'), ('shah', 'poor'), ('pneumatic', 'solid'), ('interpret', 'misinterpret'), ('confer', 'refuse')]\n",
        "list_masculinity_random = [('try', 'abstain'), ('fatalistic', 'freewill'), ('knowledgeable', 'uninformed'), ('confine', 'free'), ('fan', 'warm')]\n",
        "list_longterm_random = [('innovator', 'follower'), ('sensory', 'numb'), ('hedge', 'squander'), ('arachnid', 'serpent'), ('disclose', 'secrete')]\n",
        "list_indulgence_random = [('diagnose', 'sicken'), ('intercourse', 'disconnection'), ('sensory', 'sensorial'), ('emasculate', 'strengthen'), ('metropolitan', 'rural')]\n",
        "list_uncertainity_avoidance_random = [('stretcher', 'compressor'), ('amalgamate', 'separate'), ('caretaker', 'assailant'), ('taker', 'violator'), ('contaminate', 'sterilize')]"
      ],
      "metadata": {
        "colab": {
          "base_uri": "https://localhost:8080/"
        },
        "id": "5lB5LqhwPRmF",
        "outputId": "c691efdc-4a1e-4988-cdbb-0d874a547a9a"
      },
      "execution_count": 62,
      "outputs": [
        {
          "output_type": "stream",
          "name": "stdout",
          "text": [
            "time: 9.32 ms (started: 2022-06-02 05:24:50 +00:00)\n"
          ]
        }
      ]
    },
    {
      "cell_type": "markdown",
      "source": [
        "**Human generated list**"
      ],
      "metadata": {
        "id": "eM3VEZ8d3b0L"
      }
    },
    {
      "cell_type": "code",
      "source": [
        "list_powerdistance =[('hierarchical','non-hierarchical'),('superior','equal'),('leader','subordinate'),('inequality','equality'),('autocrat','democrat')]\n",
        "list_individualism = [('individuality','community'),('self-interest','harmony'),('tasks','relationships'),('individual','groups'),('particularism','universalism')]\n",
        "list_masculinity = [('achievement', 'support'),('competitive', 'caring'),('assertive', 'submissive'),('ambitious', 'unambitious'),('sucess','cooperation')]\n",
        "list_longterm = [('pragmatic','normative'),('progress','preserve'),('adapt','conserve'),('developing','stable'),('advance','retain')]\n",
        "list_indulgence = [('fulfillment','restriction'),('satisfaction','limitation'),('liberty','moderation'),('expand','direct'),('freedom','regulation')]\n",
        "list_uncertainity_avoidance = [('clarity','complexity'),('clear','ambiguous'),('certain','uncertain'),('uniformity','diversity'),('agreement','variation')]\n"
      ],
      "metadata": {
        "id": "yJtIfsf0AHOH",
        "colab": {
          "base_uri": "https://localhost:8080/"
        },
        "outputId": "ac541446-6148-4718-bac5-dc7a9bb0b42a"
      },
      "execution_count": 63,
      "outputs": [
        {
          "output_type": "stream",
          "name": "stdout",
          "text": [
            "time: 9.78 ms (started: 2022-06-02 05:24:50 +00:00)\n"
          ]
        }
      ]
    },
    {
      "cell_type": "markdown",
      "source": [
        "**The nearest pairs to Random list suggested by the pretrained model**"
      ],
      "metadata": {
        "id": "gJ-vMCAC3ye7"
      }
    },
    {
      "cell_type": "code",
      "source": [
        "similar_list_powerdistance_random = similar_word_to_give_antonym_pair(list_powerdistance_random,current_model)\n",
        "similar_list_individualism_random = similar_word_to_give_antonym_pair(list_individualism_random,current_model)\n",
        "similar_list_masculinity_random = similar_word_to_give_antonym_pair(list_masculinity_random,current_model)\n",
        "similar_list_longterm_random = similar_word_to_give_antonym_pair(list_longterm_random,current_model)\n",
        "similar_list_indulgence_random = similar_word_to_give_antonym_pair(list_indulgence_random,current_model)\n",
        "similar_list_uncertainity_avoidance_random = similar_word_to_give_antonym_pair(list_uncertainity_avoidance_random,current_model)"
      ],
      "metadata": {
        "id": "81PEUOr7B_X5",
        "colab": {
          "base_uri": "https://localhost:8080/"
        },
        "outputId": "360c6f2e-f908-4137-e1b2-10e331724be0"
      },
      "execution_count": 64,
      "outputs": [
        {
          "output_type": "stream",
          "name": "stdout",
          "text": [
            "time: 3.05 s (started: 2022-06-02 05:24:50 +00:00)\n"
          ]
        }
      ]
    },
    {
      "cell_type": "markdown",
      "source": [
        "**The nearest pairs to human made list suggested by the pretrained model**"
      ],
      "metadata": {
        "id": "K0rBnee53fLj"
      }
    },
    {
      "cell_type": "code",
      "source": [
        "similar_list_powerdistance = similar_word_to_give_antonym_pair(list_powerdistance,current_model)\n",
        "similar_list_individualism = similar_word_to_give_antonym_pair(list_individualism,current_model)\n",
        "similar_list_masculinity = similar_word_to_give_antonym_pair(list_masculinity,current_model)\n",
        "similar_list_longterm = similar_word_to_give_antonym_pair(list_longterm,current_model)\n",
        "similar_list_indulgence = similar_word_to_give_antonym_pair(list_indulgence,current_model)\n",
        "similar_list_uncertainity_avoidance = similar_word_to_give_antonym_pair(list_uncertainity_avoidance,current_model)"
      ],
      "metadata": {
        "colab": {
          "base_uri": "https://localhost:8080/"
        },
        "id": "Z2-F6Esi3Wez",
        "outputId": "7594834a-5b7c-425d-d34d-8c6157b35563"
      },
      "execution_count": 65,
      "outputs": [
        {
          "output_type": "stream",
          "name": "stdout",
          "text": [
            "time: 2.97 s (started: 2022-06-02 05:24:53 +00:00)\n"
          ]
        }
      ]
    },
    {
      "cell_type": "markdown",
      "source": [
        "**In the below cell give the list to create the polar embedding**"
      ],
      "metadata": {
        "id": "Q9iqrvGl11Zg"
      }
    },
    {
      "cell_type": "code",
      "source": [
        "list_new = list_masculinity"
      ],
      "metadata": {
        "id": "idn0kPwk2NWp",
        "colab": {
          "base_uri": "https://localhost:8080/"
        },
        "outputId": "6f65fc60-1b53-4173-bf6f-6e8812330829"
      },
      "execution_count": 66,
      "outputs": [
        {
          "output_type": "stream",
          "name": "stdout",
          "text": [
            "time: 2.07 ms (started: 2022-06-02 05:24:56 +00:00)\n"
          ]
        }
      ]
    },
    {
      "cell_type": "code",
      "source": [
        "list_antonym  = load_antonyms(list_new,current_model)\n",
        "len(list_new)\n",
        "antonymy_vector = antonym_difference_vector(list_antonym,current_model)"
      ],
      "metadata": {
        "id": "w_3PABMoATI0",
        "colab": {
          "base_uri": "https://localhost:8080/",
          "height": 477,
          "referenced_widgets": [
            "9949682ac2c64771a22bb9854b051470",
            "dec8138e66ab4a568d44f9b3b7f8b064",
            "80bca869f6e7415294600c2f901a498b",
            "919aafd04cfc4573be70205d98f84500",
            "b1a07d50491444c6b0ae1a745138d545",
            "14548c036b734e8a8f6b1dc52333dfe4",
            "eceae9ff8ed54899adfb300b93d43a9b",
            "16fd5fd4abe64ffabea1638e6b2db9c0",
            "0171b397f27a4ed1bc477736dc34dd83",
            "eb76576f2b234d88bab87824a55e70b8",
            "55e6172c4d5d4f7190160ef1f8755f22",
            "05b36e6bba344262ab2fbda770c01486",
            "781a292fb9b543b99683544a4c8c37b8",
            "712156fbc7ed481f8f38dbf1894d71e6",
            "160f4d00039c493cb0340c7a15595f81",
            "b722a50732584afaafef9fd484c11755",
            "7690bdc5c1f44261bf211b6c37a293d1",
            "7356f6e40ec24a7d807c237d00ee9dfd",
            "cdd235e8a0f6422f84b016d9df12f77d",
            "e1864926b7cb4ef2949134f332bb381b",
            "224cd53d80164027a8cd4683282c9358",
            "f4857ea8f1a54e6e8cd96c2b2a2f57eb",
            "de7f58eb55d74f71b6e8caaa5a3d78a8",
            "4cc417d45d0242229ab9949873739437",
            "b17aa462468342a188d9f8433a9b4d71",
            "7e3b3e7fdd164e6bb548090e98307dbf",
            "a5e97121919a463491446db760a5875b",
            "59648debbc88490f8d75cba835ea956b",
            "bb62bcb6b771483e9812bb8aecc00e96",
            "d223fcd4d2da42879a04a9524c83d4cc",
            "227c6536ac3742b2a9715e63d6d1b49c",
            "f200f0a944b54b9eab6c82eeb397bf08",
            "a1cbe7e5924f47c8afd43a230c43795f"
          ]
        },
        "outputId": "c3496a21-7e11-450f-823e-309b2ad7a351"
      },
      "execution_count": 67,
      "outputs": [
        {
          "output_type": "stream",
          "name": "stderr",
          "text": [
            "/usr/local/lib/python3.7/dist-packages/ipykernel_launcher.py:5: TqdmDeprecationWarning: This function will be removed in tqdm==5.0.0\n",
            "Please use `tqdm.notebook.tqdm` instead of `tqdm.tqdm_notebook`\n",
            "  \"\"\"\n"
          ]
        },
        {
          "output_type": "display_data",
          "data": {
            "text/plain": [
              "  0%|          | 0/5 [00:00<?, ?it/s]"
            ],
            "application/vnd.jupyter.widget-view+json": {
              "version_major": 2,
              "version_minor": 0,
              "model_id": "9949682ac2c64771a22bb9854b051470"
            }
          },
          "metadata": {}
        },
        {
          "output_type": "stream",
          "name": "stderr",
          "text": [
            "/usr/local/lib/python3.7/dist-packages/ipykernel_launcher.py:14: TqdmDeprecationWarning: This function will be removed in tqdm==5.0.0\n",
            "Please use `tqdm.notebook.tqdm` instead of `tqdm.tqdm_notebook`\n",
            "  \n"
          ]
        },
        {
          "output_type": "display_data",
          "data": {
            "text/plain": [
              "  0%|          | 0/5 [00:00<?, ?it/s]"
            ],
            "application/vnd.jupyter.widget-view+json": {
              "version_major": 2,
              "version_minor": 0,
              "model_id": "05b36e6bba344262ab2fbda770c01486"
            }
          },
          "metadata": {}
        },
        {
          "output_type": "stream",
          "name": "stderr",
          "text": [
            "/usr/local/lib/python3.7/dist-packages/ipykernel_launcher.py:23: TqdmDeprecationWarning: This function will be removed in tqdm==5.0.0\n",
            "Please use `tqdm.notebook.tqdm` instead of `tqdm.tqdm_notebook`\n"
          ]
        },
        {
          "output_type": "display_data",
          "data": {
            "text/plain": [
              "  0%|          | 0/5 [00:00<?, ?it/s]"
            ],
            "application/vnd.jupyter.widget-view+json": {
              "version_major": 2,
              "version_minor": 0,
              "model_id": "de7f58eb55d74f71b6e8caaa5a3d78a8"
            }
          },
          "metadata": {}
        },
        {
          "output_type": "stream",
          "name": "stdout",
          "text": [
            "5\n",
            "(5, 300)\n",
            "[[ 0.14758141  0.09032236  0.07620825 ...  0.12463442  0.00482126\n",
            "  -0.03302358]\n",
            " [-0.09652946 -0.07345466 -0.0032986  ...  0.12112679  0.01148236\n",
            "  -0.0293146 ]\n",
            " [-0.05397214  0.02136535 -0.00466404 ... -0.04937481 -0.06371355\n",
            "  -0.00237834]\n",
            " [ 0.03041583 -0.02709354  0.01676632 ... -0.02892689 -0.04289657\n",
            "   0.17347242]\n",
            " [-0.05428931 -0.04361981 -0.01984703 ... -0.08699577  0.01813235\n",
            "  -0.04817012]]\n",
            "time: 237 ms (started: 2022-06-02 05:24:56 +00:00)\n"
          ]
        }
      ]
    },
    {
      "cell_type": "code",
      "source": [
        "company = pd.read_csv('/content/drive/MyDrive/International_Fortune_GloVe.csv',encoding= 'unicode_escape')\n",
        "name_list = company['0']"
      ],
      "metadata": {
        "id": "k5XwcedKBKgB",
        "colab": {
          "base_uri": "https://localhost:8080/"
        },
        "outputId": "d706a27a-8ac4-44bb-edf7-10b4acce44e4"
      },
      "execution_count": 68,
      "outputs": [
        {
          "output_type": "stream",
          "name": "stdout",
          "text": [
            "time: 15.2 ms (started: 2022-06-02 05:24:57 +00:00)\n"
          ]
        }
      ]
    },
    {
      "cell_type": "code",
      "source": [
        "name_word_embedding = dict()\n",
        "new_name_list=[]\n",
        "for name in name_list:\n",
        "  try:\n",
        "    name_word_embedding[name] = current_model[name]\n",
        "    new_name_list.append(name)\n",
        "  except:\n",
        "    print(\"The company is not there: \",name)\n",
        "\n",
        "print(new_name_list)"
      ],
      "metadata": {
        "id": "hfxFI78gE_ew",
        "colab": {
          "base_uri": "https://localhost:8080/"
        },
        "outputId": "2d6bcd90-e89e-4d91-a827-8c1d62f6307c"
      },
      "execution_count": 69,
      "outputs": [
        {
          "output_type": "stream",
          "name": "stdout",
          "text": [
            "The company is not there:  jpmorganchase\n",
            "The company is not there:  generalmotors\n",
            "The company is not there:  fanniemae\n",
            "The company is not there:  bankofamerica\n",
            "The company is not there:  nestlÃ©\n",
            "The company is not there:  wellsfargo\n",
            "The company is not there:  generalelectric\n",
            "The company is not there:  sinopharm\n",
            "The company is not there:  freddiemac\n",
            "The company is not there:  waltdisney\n",
            "The company is not there:  engie\n",
            "The company is not there:  morganstanley\n",
            "The company is not there:  indianoil\n",
            "The company is not there:  telefÃ³nica\n",
            "The company is not there:  bestbuy\n",
            "The company is not there:  talanx\n",
            "The company is not there:  abbvie\n",
            "The company is not there:  americanexpress\n",
            "The company is not there:  deutschebank\n",
            "The company is not there:  tatamotors\n",
            "The company is not there:  l'orÃ©al\n",
            "The company is not there:  angloamerican\n",
            "The company is not there:  achmea\n",
            "The company is not there:  dollartree\n",
            "The company is not there:  riteaid\n",
            "['walmart', 'amazon', 'apple', 'volkswagen', 'mckesson', 'amerisourcebergen', 'bp', 'alphabet', 'exxonmobil', 'daimler', 'at&t', 'cigna', 'microsoft', 'glencore', 'allianz', 'kroger', 'homedepot', 'axa', 'anthem', 'mitsubishi', 'centene', 'comcast', 'itochu', 'chevron', 'target', 'citigroup', 'gazprom', 'facebook', 'sony', 'hitachi', 'carrefour', 'tesco', 'aeon', 'intel', 'humana', 'cofco', 'mitsui', 'enel', 'lukoil', 'sk', 'e.on', 'pepsico', 'albertsons', 'basf', 'fedex', 'metlife', 'siemens', 'sinochem', 'panasonic', 'aviva', 'marubeni', 'aegon', 'boeing', 'unilever', 'airbus', 'petrobras', 'hp', 'prudential', 'fortum', 'arcelormittal', 'sysco', 'jbs', 'ptt', 'vinci', 'kia', 'eni', 'kddi', 'novartis', 'renault', 'posco', 'bayer', 'orange', 'merck', 'pegatron', 'denso', 'allstate', 'pemex', 'accenture', 'sumitomo', 'glaxosmithkline', 'saint-gobain', 'sberbank', 'hanwha', 'continental', 'progressive', 'sanofi', 'petronas', 'nationwide', 'pfizer', 'caterpillar', 'tiaa', 'pertamina', 'bunge', 'fresenius', 'vale', 'acs', 'thyssenkrupp', 'bouygues', 'oracle', 'dow', 'iberdrola', 'nike', 'volvo', 'metro', 'usaa', 'chubb', 'xiaomi', 'deere', 'barclays', 'fujitsu', 'aisin', 'exelon', 'coca-cola', 'repsol', '3m', 'tjx', 'travelers', 'tesla', 'sap', 'abb', 'canon', 'enbridge', 'medtronic', 'toshiba', 'wistron', 'chs', 'nec', 'bridgestone', 'crh', 'jabil', 'linde', 'danone', 'centrica', 'subaru', 'astrazeneca', 'amgen', 'ericsson', 'netflix', 'nokia', 'synnex', 'holcim', 'flex']\n",
            "time: 24.3 ms (started: 2022-06-02 05:24:57 +00:00)\n"
          ]
        }
      ]
    },
    {
      "cell_type": "code",
      "source": [
        "random_antonym_vector = [i for i in range(len(antonymy_vector))]\n",
        "random.shuffle(random_antonym_vector)\n",
        "print(len(random_antonym_vector))\n",
        "name_new_embedding = generate_embedding_path(name_word_embedding, 'test_run',True ,random_antonym_vector,500,antonymy_vector)"
      ],
      "metadata": {
        "id": "7SWRW9DBFHj9",
        "colab": {
          "base_uri": "https://localhost:8080/",
          "height": 118,
          "referenced_widgets": [
            "7f9a6d9dd0b6434a88e1d7f8bb38f6ef",
            "8729230d999a473397c7e9a11e11a067",
            "d208064b98804de48661a68d4e7796fe",
            "ff949c1f447047bf82dd1818671a0d99",
            "0fc84d427e2f48b783544dad6e4d335a",
            "c2049e34628f415da3c46ade1ba0cb84",
            "bdb335ee2418442aa322da3a224054f2",
            "1b8917678a6642088ade1176634e386e",
            "297480939f7e432682950513116ed2b5",
            "fa0465f3d74e4d57947918be4101c02e",
            "87129ae0268d41e1912a8db9d8784126"
          ]
        },
        "outputId": "1d474708-2654-43ac-8c3a-57bbfb035e60"
      },
      "execution_count": 70,
      "outputs": [
        {
          "output_type": "stream",
          "name": "stderr",
          "text": [
            "/usr/local/lib/python3.7/dist-packages/ipykernel_launcher.py:18: TqdmDeprecationWarning: This function will be removed in tqdm==5.0.0\n",
            "Please use `tqdm.notebook.tqdm` instead of `tqdm.tqdm_notebook`\n"
          ]
        },
        {
          "output_type": "stream",
          "name": "stdout",
          "text": [
            "5\n"
          ]
        },
        {
          "output_type": "display_data",
          "data": {
            "text/plain": [
              "  0%|          | 0/142 [00:00<?, ?it/s]"
            ],
            "application/vnd.jupyter.widget-view+json": {
              "version_major": 2,
              "version_minor": 0,
              "model_id": "7f9a6d9dd0b6434a88e1d7f8bb38f6ef"
            }
          },
          "metadata": {}
        },
        {
          "output_type": "stream",
          "name": "stdout",
          "text": [
            "time: 136 ms (started: 2022-06-02 05:24:57 +00:00)\n"
          ]
        }
      ]
    },
    {
      "cell_type": "code",
      "source": [
        "antonym_500 = [list_antonym[x] for x in random_antonym_vector[:500]]"
      ],
      "metadata": {
        "id": "WxQws8sdQUHs",
        "colab": {
          "base_uri": "https://localhost:8080/"
        },
        "outputId": "dc54c0f4-04e2-41d9-acc4-53b08b09fbae"
      },
      "execution_count": 71,
      "outputs": [
        {
          "output_type": "stream",
          "name": "stdout",
          "text": [
            "time: 2.45 ms (started: 2022-06-02 05:24:57 +00:00)\n"
          ]
        }
      ]
    },
    {
      "cell_type": "markdown",
      "source": [
        "**Polar Embedding -> DataFrame**"
      ],
      "metadata": {
        "id": "WkZaxo1PWEm2"
      }
    },
    {
      "cell_type": "code",
      "source": [
        "df = dict()\n",
        "for t in new_name_list:\n",
        "  df[t] = make_polar_dict(t, antonym_500, name_new_embedding)\n",
        "\n",
        "new_df = pd.DataFrame(df).transpose()\n",
        "\n",
        "\n",
        "# change columns to better read names\n",
        "new_columns = []\n",
        "\n",
        "for pair in antonym_500:\n",
        "  temp = pair[0]+''+pair[1]\n",
        "  new_columns.append(temp)\n",
        "\n",
        "new_df.columns = new_columns"
      ],
      "metadata": {
        "id": "rMoNXrceQo1e",
        "colab": {
          "base_uri": "https://localhost:8080/"
        },
        "outputId": "5b632c8e-d26c-4c87-d17e-79a7fd9f595e"
      },
      "execution_count": 72,
      "outputs": [
        {
          "output_type": "stream",
          "name": "stdout",
          "text": [
            "time: 31.2 ms (started: 2022-06-02 05:24:57 +00:00)\n"
          ]
        }
      ]
    },
    {
      "cell_type": "markdown",
      "source": [
        "**In the first run uncomment the cell below as the copy of new_df is made and it is into the concat_polar_embedding_df we concatinate the polar embedding**"
      ],
      "metadata": {
        "id": "_wConQfu2cr3"
      }
    },
    {
      "cell_type": "code",
      "source": [
        "concat_polar_embedding_df = new_df.copy()"
      ],
      "metadata": {
        "colab": {
          "base_uri": "https://localhost:8080/"
        },
        "id": "gXUjtLSH2a-A",
        "outputId": "d02ca91a-0269-45e6-f28c-7dea877b79d5"
      },
      "execution_count": 73,
      "outputs": [
        {
          "output_type": "stream",
          "name": "stdout",
          "text": [
            "time: 1.6 ms (started: 2022-06-02 05:24:57 +00:00)\n"
          ]
        }
      ]
    },
    {
      "cell_type": "markdown",
      "source": [
        "**In the second run onwards comment the previous cell and uncomment the lower cell**"
      ],
      "metadata": {
        "id": "xzvIGzN42wGt"
      }
    },
    {
      "cell_type": "code",
      "source": [
        "#concat_polar_embedding_df = concat_polar_embedding_df.join(new_df)"
      ],
      "metadata": {
        "id": "zyOUASOTMCW2",
        "colab": {
          "base_uri": "https://localhost:8080/"
        },
        "outputId": "6817f2f8-99ab-4e00-c297-309fe7142efc"
      },
      "execution_count": 74,
      "outputs": [
        {
          "output_type": "stream",
          "name": "stdout",
          "text": [
            "time: 1.05 ms (started: 2022-06-02 05:24:57 +00:00)\n"
          ]
        }
      ]
    },
    {
      "cell_type": "markdown",
      "source": [
        "**Below cell is to download the file once it is ready**"
      ],
      "metadata": {
        "id": "OHKnE2Io26MC"
      }
    },
    {
      "cell_type": "code",
      "source": [
        "'''\n",
        "from google.colab import files\n",
        "concat_polar_embedding_df.to_csv('concat_polar_embedding_df.csv',header=True)\n",
        "files.download('concat_polar_embedding_df.csv')\n",
        "'''"
      ],
      "metadata": {
        "id": "os4AWluDh0Co",
        "colab": {
          "base_uri": "https://localhost:8080/",
          "height": 53
        },
        "outputId": "fc7595d9-6caa-41f6-ffe8-3308e6ac028c"
      },
      "execution_count": 75,
      "outputs": [
        {
          "output_type": "execute_result",
          "data": {
            "text/plain": [
              "\"\\nfrom google.colab import files\\nconcat_polar_embedding_df.to_csv('concat_polar_embedding_df.csv',header=True)\\nfiles.download('concat_polar_embedding_df.csv')\\n\""
            ],
            "application/vnd.google.colaboratory.intrinsic+json": {
              "type": "string"
            }
          },
          "metadata": {},
          "execution_count": 75
        },
        {
          "output_type": "stream",
          "name": "stdout",
          "text": [
            "time: 8.76 ms (started: 2022-06-02 05:24:57 +00:00)\n"
          ]
        }
      ]
    }
  ]
}