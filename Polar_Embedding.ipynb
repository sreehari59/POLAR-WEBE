{
  "cells": [
    {
      "cell_type": "markdown",
      "metadata": {
        "id": "view-in-github",
        "colab_type": "text"
      },
      "source": [
        "<a href=\"https://colab.research.google.com/github/sreehari59/Polar-Embedding/blob/main/Polar_Embedding.ipynb\" target=\"_parent\"><img src=\"https://colab.research.google.com/assets/colab-badge.svg\" alt=\"Open In Colab\"/></a>"
      ]
    },
    {
      "cell_type": "code",
      "execution_count": 1,
      "metadata": {
        "colab": {
          "base_uri": "https://localhost:8080/"
        },
        "id": "WpXcGM_fgQkQ",
        "outputId": "d4924c37-f625-49f1-d50a-f3842e1dd42d"
      },
      "outputs": [
        {
          "output_type": "stream",
          "name": "stdout",
          "text": [
            "Mounted at /content/drive\n",
            "Collecting ipython-autotime\n",
            "  Downloading ipython_autotime-0.3.1-py2.py3-none-any.whl (6.8 kB)\n",
            "Requirement already satisfied: ipython in /usr/local/lib/python3.7/dist-packages (from ipython-autotime) (5.5.0)\n",
            "Requirement already satisfied: prompt-toolkit<2.0.0,>=1.0.4 in /usr/local/lib/python3.7/dist-packages (from ipython->ipython-autotime) (1.0.18)\n",
            "Requirement already satisfied: pickleshare in /usr/local/lib/python3.7/dist-packages (from ipython->ipython-autotime) (0.7.5)\n",
            "Requirement already satisfied: pexpect in /usr/local/lib/python3.7/dist-packages (from ipython->ipython-autotime) (4.8.0)\n",
            "Requirement already satisfied: setuptools>=18.5 in /usr/local/lib/python3.7/dist-packages (from ipython->ipython-autotime) (57.4.0)\n",
            "Requirement already satisfied: simplegeneric>0.8 in /usr/local/lib/python3.7/dist-packages (from ipython->ipython-autotime) (0.8.1)\n",
            "Requirement already satisfied: decorator in /usr/local/lib/python3.7/dist-packages (from ipython->ipython-autotime) (4.4.2)\n",
            "Requirement already satisfied: pygments in /usr/local/lib/python3.7/dist-packages (from ipython->ipython-autotime) (2.6.1)\n",
            "Requirement already satisfied: traitlets>=4.2 in /usr/local/lib/python3.7/dist-packages (from ipython->ipython-autotime) (5.2.0)\n",
            "Requirement already satisfied: wcwidth in /usr/local/lib/python3.7/dist-packages (from prompt-toolkit<2.0.0,>=1.0.4->ipython->ipython-autotime) (0.2.5)\n",
            "Requirement already satisfied: six>=1.9.0 in /usr/local/lib/python3.7/dist-packages (from prompt-toolkit<2.0.0,>=1.0.4->ipython->ipython-autotime) (1.15.0)\n",
            "Requirement already satisfied: ptyprocess>=0.5 in /usr/local/lib/python3.7/dist-packages (from pexpect->ipython->ipython-autotime) (0.7.0)\n",
            "Installing collected packages: ipython-autotime\n",
            "Successfully installed ipython-autotime-0.3.1\n",
            "time: 1.12 ms (started: 2022-05-18 10:24:02 +00:00)\n"
          ]
        }
      ],
      "source": [
        "import gensim\n",
        "from numpy import linalg\n",
        "import numpy as np\n",
        "import pandas as pd\n",
        "from sklearn.metrics.pairwise import cosine_similarity\n",
        "from tqdm import tqdm_notebook as tqdm\n",
        "import time\n",
        "from random import shuffle\n",
        "import sys\n",
        "import nltk \n",
        "from nltk.corpus import wordnet \n",
        "import gc\n",
        "from collections import defaultdict\n",
        "import random\n",
        "import json\n",
        "import os\n",
        "\n",
        "from gensim.scripts.glove2word2vec import glove2word2vec\n",
        "from gensim.test.utils import datapath, get_tmpfile\n",
        "\n",
        "from gensim.test.utils import datapath\n",
        "\n",
        "# This is for the plotly subplots\n",
        "from plotly.subplots import make_subplots\n",
        "import plotly.graph_objects as go\n",
        "\n",
        "# This is to load file from google drive\n",
        "from google.colab import drive\n",
        "drive.mount('/content/drive')\n",
        "\n",
        "# This is to download csv file\n",
        "from google.colab import files\n",
        "\n",
        "import random\n",
        "import scipy\n",
        "\n",
        "\n",
        "!pip install ipython-autotime\n",
        "%load_ext autotime"
      ]
    },
    {
      "cell_type": "code",
      "execution_count": 2,
      "metadata": {
        "colab": {
          "base_uri": "https://localhost:8080/"
        },
        "id": "UdjMJPsQin5X",
        "outputId": "a4b31383-942d-4fd8-a5c1-0757d83cad7b"
      },
      "outputs": [
        {
          "output_type": "stream",
          "name": "stdout",
          "text": [
            "time: 3.26 ms (started: 2022-05-18 10:24:02 +00:00)\n"
          ]
        }
      ],
      "source": [
        "def unzipping_file():\n",
        "  !wget https://nlp.stanford.edu/data/glove.6B.zip\n",
        "  !unzip glove*.zip # When it is unzipped you can see the different set of dimension it can have that is 25d, 50d, 100d or 200d"
      ]
    },
    {
      "cell_type": "code",
      "execution_count": 3,
      "metadata": {
        "colab": {
          "base_uri": "https://localhost:8080/"
        },
        "id": "lSgm_BuJi1u2",
        "outputId": "63a37e1b-8ca2-4ef1-935c-2da74dc2c563"
      },
      "outputs": [
        {
          "output_type": "stream",
          "name": "stdout",
          "text": [
            "time: 4.06 ms (started: 2022-05-18 10:24:02 +00:00)\n"
          ]
        }
      ],
      "source": [
        "def model_initialization(unzippedname, new_name):\n",
        "  model_glove = glove2word2vec(unzippedname,new_name)\n",
        "  model_glove = gensim.models.KeyedVectors.load_word2vec_format(new_name, binary=False)\n",
        "  return model_glove"
      ]
    },
    {
      "cell_type": "code",
      "execution_count": 4,
      "metadata": {
        "colab": {
          "base_uri": "https://localhost:8080/"
        },
        "id": "4QDhOxMki1xK",
        "outputId": "303bf7e7-50ab-4bcb-d28f-2cbe5f802e32"
      },
      "outputs": [
        {
          "output_type": "stream",
          "name": "stdout",
          "text": [
            "time: 11.6 ms (started: 2022-05-18 10:24:02 +00:00)\n"
          ]
        }
      ],
      "source": [
        "def generate_norm_embedding(model, output_path):\n",
        "    temp_file = open(output_path,'wb')\n",
        "    temp_file.write(str.encode(str(len(model.vocab))+' '+str(model.vector_size)+'\\n'))\n",
        "    \n",
        "    for each_word in tqdm(model.vocab):\n",
        "        temp_file.write(str.encode(each_word+' '))  \n",
        "        temp_file.write(model[each_word]/linalg.norm(model[each_word]))\n",
        "        temp_file.write(str.encode('\\n'))\n",
        "    \n",
        "    \n",
        "    temp_file.close()\n",
        "    return output_path"
      ]
    },
    {
      "cell_type": "code",
      "execution_count": 5,
      "metadata": {
        "colab": {
          "base_uri": "https://localhost:8080/"
        },
        "id": "QCNWlFQ4j1BB",
        "outputId": "c0b2597b-9124-4d2e-e81d-015b72e9dff3"
      },
      "outputs": [
        {
          "output_type": "stream",
          "name": "stdout",
          "text": [
            "time: 1.6 ms (started: 2022-05-18 10:24:02 +00:00)\n"
          ]
        }
      ],
      "source": [
        "def load_normalized_embedding(output_file_name):\n",
        "  return gensim.models.KeyedVectors.load_word2vec_format(output_file_name,binary=True)"
      ]
    },
    {
      "cell_type": "markdown",
      "metadata": {
        "id": "tjuehT_KlDNq"
      },
      "source": [
        "**Loading the Antonym**"
      ]
    },
    {
      "cell_type": "code",
      "execution_count": 6,
      "metadata": {
        "colab": {
          "base_uri": "https://localhost:8080/"
        },
        "id": "GlVgY5XWklFf",
        "outputId": "2b7245ee-f9a7-4a85-841a-c740c84eb163"
      },
      "outputs": [
        {
          "output_type": "stream",
          "name": "stdout",
          "text": [
            "time: 20.5 ms (started: 2022-05-18 10:24:02 +00:00)\n"
          ]
        }
      ],
      "source": [
        "def load_antonyms(list_new,current_model):\n",
        "  list_new= list(dict.fromkeys(list_new).keys())\n",
        "\n",
        "  similarity_matrix = defaultdict(list)\n",
        "  for each_pair in tqdm(list_new):\n",
        "      word1 = each_pair[0]\n",
        "      word2 = each_pair[1]\n",
        "      if word1 < word2:\n",
        "          similarity_matrix[word1].append(word2)\n",
        "      else:\n",
        "          similarity_matrix[word2].append(word1)\n",
        "\n",
        "  all_similarity = defaultdict(dict)\n",
        "  for each_key in tqdm(similarity_matrix):\n",
        "      for each_value in similarity_matrix[each_key]:\n",
        "  #         cosine_similarity([current_model[each_key]]\n",
        "          try:\n",
        "            all_similarity[each_key][each_value] = abs(cosine_similarity([current_model[each_key]],[current_model[each_value]])[0][0])\n",
        "          except:\n",
        "            print(\"The word is not in the vocabulary : \",each_key,\" \",each_value)\n",
        "\n",
        "  final_list = []\n",
        "  for index_counter, each_key in enumerate(tqdm(all_similarity)):\n",
        "  #     print(each_key,all_similarity[each_key])\n",
        "      listofTuples = sorted(all_similarity[each_key].items() ,  key=lambda x: x[1])\n",
        "  #     print(listofTuples)\n",
        "      final_list.append((each_key, listofTuples[0][0]))\n",
        "  print(len(final_list))\n",
        "\n",
        "  list_antonym = final_list\n",
        "  \n",
        "  return list_antonym"
      ]
    },
    {
      "cell_type": "markdown",
      "metadata": {
        "id": "j6CL60GP1k0_"
      },
      "source": [
        "**Find the antonym difference vectors**"
      ]
    },
    {
      "cell_type": "code",
      "execution_count": 7,
      "metadata": {
        "colab": {
          "base_uri": "https://localhost:8080/"
        },
        "id": "R7yjuU_V1boY",
        "outputId": "621f0437-e5bc-4b11-fdc1-661428733ce1"
      },
      "outputs": [
        {
          "output_type": "stream",
          "name": "stdout",
          "text": [
            "time: 7.7 ms (started: 2022-05-18 10:24:02 +00:00)\n"
          ]
        }
      ],
      "source": [
        "def antonym_difference_vector(list_antonym,current_model):\n",
        "  num_antonym  = len(list_antonym)\n",
        "  antonymy_vector = []\n",
        "  for each_word_pair in list_antonym:\n",
        "      antonymy_vector.append(current_model[each_word_pair[0]]- current_model[each_word_pair[1]])\n",
        "      \n",
        "  antonymy_vector = np.array(antonymy_vector)\n",
        "  print(antonymy_vector.shape)\n",
        "  print(antonymy_vector)\n",
        "  return antonymy_vector"
      ]
    },
    {
      "cell_type": "code",
      "execution_count": 8,
      "metadata": {
        "colab": {
          "base_uri": "https://localhost:8080/"
        },
        "id": "Qje6gzz323Pt",
        "outputId": "4bf1c420-f898-435a-e155-8547292e78af"
      },
      "outputs": [
        {
          "output_type": "stream",
          "name": "stdout",
          "text": [
            "time: 5.09 ms (started: 2022-05-18 10:24:02 +00:00)\n"
          ]
        }
      ],
      "source": [
        "def generate_embedding_path(current_model, embedding_path, binary, antonym_vector, curr_dim,antonymy_vector):\n",
        "    curr_antonym_vector = antonymy_vector[antonym_vector[:curr_dim]]\n",
        "    curr_antonymy_vector_inverse = np.linalg.pinv(np.transpose(curr_antonym_vector))\n",
        "    new_embedding_dict = transform_to_antonym_space(current_model, embedding_path, binary,curr_antonymy_vector_inverse)\n",
        "\n",
        "    return new_embedding_dict"
      ]
    },
    {
      "cell_type": "code",
      "execution_count": 9,
      "metadata": {
        "colab": {
          "base_uri": "https://localhost:8080/"
        },
        "id": "gRPHIto2-nmb",
        "outputId": "1468bed2-8c1b-44c4-e395-42d4189dd012"
      },
      "outputs": [
        {
          "output_type": "stream",
          "name": "stdout",
          "text": [
            "time: 24.9 ms (started: 2022-05-18 10:24:02 +00:00)\n"
          ]
        }
      ],
      "source": [
        "def transform_to_antonym_space(current_model, output_file_path, binary, current_antonymy_vector_inverse):\n",
        "\n",
        "    temp_dict = dict()\n",
        "\n",
        "    embedding_size = current_antonymy_vector_inverse.shape[0]   ##CHANGE THIS ACCORDINGLY!!!\n",
        "    #print('New model size is',len(current_model), embedding_size)\n",
        "\n",
        "    temp_file = None\n",
        "    \n",
        "    if binary:\n",
        "        temp_file = open(output_file_path,'wb')\n",
        "        temp_file.write(str.encode(str(len(current_model))+' '+str(embedding_size)+'\\n'))\n",
        "    else:\n",
        "        temp_file = open(output_file_path,'w')\n",
        "        temp_file.write(str(len(current_model))+' '+str(embedding_size)+'\\n')\n",
        "\n",
        "    total_words = 0\n",
        "    for each_word in tqdm(current_model):\n",
        "        total_words += 1\n",
        "        if binary:\n",
        "            temp_file.write(str.encode(each_word+' '))\n",
        "        else:\n",
        "            temp_file.write(each_word+' ')\n",
        "\n",
        "        new_vector = np.matmul(current_antonymy_vector_inverse,current_model[each_word])\n",
        "\n",
        "        new_vector = new_vector/linalg.norm(new_vector)\n",
        "        temp_dict[each_word] = new_vector\n",
        "        \n",
        "        if binary:\n",
        "            temp_file.write(new_vector)\n",
        "            temp_file.write(str.encode('\\n'))\n",
        "        else:\n",
        "            temp_file.write(str(new_vector))\n",
        "            temp_file.write('\\n')\n",
        "\n",
        "\n",
        "    temp_file.close()\n",
        "    return temp_dict"
      ]
    },
    {
      "cell_type": "code",
      "execution_count": 10,
      "metadata": {
        "colab": {
          "base_uri": "https://localhost:8080/"
        },
        "id": "YSuobcrrQbHC",
        "outputId": "6ee09ca2-8759-4441-cf00-12401f59cde4"
      },
      "outputs": [
        {
          "output_type": "stream",
          "name": "stdout",
          "text": [
            "time: 6.81 ms (started: 2022-05-18 10:24:02 +00:00)\n"
          ]
        }
      ],
      "source": [
        "def make_polar_dict(company_name, antonym, embedding, top_n = False, n = 10):\n",
        "  temp_dict = dict()\n",
        "  temp_polar = embedding[company_name]\n",
        "\n",
        "  if top_n:\n",
        "    idx = np.argsort([abs(x) for x in temp_polar])[-n:]\n",
        "    for i in idx:\n",
        "      print(antonym[i],temp_polar[i],'\\n')\n",
        "\n",
        "\n",
        "  if len(antonym) == len(temp_polar):\n",
        "    for a in range(len(antonym)):\n",
        "      temp_dict[antonym[a]] = temp_polar[a]\n",
        "    return temp_dict"
      ]
    },
    {
      "cell_type": "code",
      "execution_count": 11,
      "metadata": {
        "colab": {
          "base_uri": "https://localhost:8080/"
        },
        "id": "c7vyAQYjb1C3",
        "outputId": "98cdbd4e-8296-4f62-ea1a-da46c3d40c12"
      },
      "outputs": [
        {
          "output_type": "stream",
          "name": "stdout",
          "text": [
            "time: 1.66 ms (started: 2022-05-18 10:24:02 +00:00)\n"
          ]
        }
      ],
      "source": [
        "def download_csv_file(df,filename):\n",
        "  df.to_csv(filename)\n",
        "  files.download(filename)"
      ]
    },
    {
      "cell_type": "markdown",
      "metadata": {
        "id": "fNALrHuMat_N"
      },
      "source": [
        "**The below function will input the antonym pair from the user**"
      ]
    },
    {
      "cell_type": "code",
      "execution_count": 12,
      "metadata": {
        "colab": {
          "base_uri": "https://localhost:8080/"
        },
        "id": "22ilbIPLai9Z",
        "outputId": "a1d7e7c7-e63f-4b47-c727-94a281bdef58"
      },
      "outputs": [
        {
          "output_type": "stream",
          "name": "stdout",
          "text": [
            "time: 1.36 ms (started: 2022-05-18 10:24:02 +00:00)\n"
          ]
        }
      ],
      "source": [
        "def user_antonym_input(list_new,user_list):\n",
        "  list_new.append(user_list)\n",
        "  return list_new"
      ]
    },
    {
      "cell_type": "markdown",
      "metadata": {
        "id": "ym2DkBB6fdtv"
      },
      "source": [
        "**The below function will find words simliar to the given antonym pair**"
      ]
    },
    {
      "cell_type": "code",
      "execution_count": 13,
      "metadata": {
        "colab": {
          "base_uri": "https://localhost:8080/"
        },
        "id": "I5JkAeyFbAnH",
        "outputId": "9d4d5824-f5b9-4ced-fa95-71244c4ef5bb"
      },
      "outputs": [
        {
          "output_type": "stream",
          "name": "stdout",
          "text": [
            "time: 11.5 ms (started: 2022-05-18 10:24:02 +00:00)\n"
          ]
        }
      ],
      "source": [
        "def similar_antonym_pair(list_new,antonym_pair,current_model):\n",
        "  first_word = antonym_pair.split(\"-\")[0]\n",
        "  second_word = antonym_pair.split(\"-\")[1]\n",
        "\n",
        "  similar_word_list1 = current_model.similar_by_word(first_word)\n",
        "  similar_word_list2 = current_model.similar_by_word(second_word)\n",
        "  for i in range(0,5):\n",
        "    \n",
        "    new_antonym_word1 = similar_word_list1[i][0]\n",
        "    new_antonym_word2 = similar_word_list2[i][0]   \n",
        "   \n",
        "    antonym_tuple = (new_antonym_word1,new_antonym_word2)\n",
        "    \n",
        "    list_new.append(antonym_tuple)\n",
        "    clear_tuple(antonym_tuple)\n",
        "    \n",
        "  return list_new"
      ]
    },
    {
      "cell_type": "code",
      "execution_count": 14,
      "metadata": {
        "colab": {
          "base_uri": "https://localhost:8080/"
        },
        "id": "Y5GgRVOEeNqB",
        "outputId": "ccc957be-48fb-4a45-bab2-41505cb7f344"
      },
      "outputs": [
        {
          "output_type": "stream",
          "name": "stdout",
          "text": [
            "time: 2.16 ms (started: 2022-05-18 10:24:02 +00:00)\n"
          ]
        }
      ],
      "source": [
        "def clear_tuple(tuples):\n",
        "  temp = list(tuples)\n",
        "  temp.clear()\n",
        "  tuples = tuple(temp)\n",
        "  return tuples"
      ]
    },
    {
      "cell_type": "code",
      "execution_count": 15,
      "metadata": {
        "colab": {
          "base_uri": "https://localhost:8080/"
        },
        "id": "BUHwBcTB1jKt",
        "outputId": "b2121ac4-9986-462f-e917-ae5436c3e051"
      },
      "outputs": [
        {
          "output_type": "stream",
          "name": "stdout",
          "text": [
            "time: 6.1 ms (started: 2022-05-18 10:24:02 +00:00)\n"
          ]
        }
      ],
      "source": [
        "def polar_list(list):\n",
        "  \n",
        "  right_polar_list = []\n",
        "  left_polar_list = []\n",
        "  for i in range(0,len(list)):\n",
        "    \n",
        "    right_polar_list.append(list[i][0])\n",
        "    left_polar_list.append(list[i][1])\n",
        "\n",
        "  print(\"right_polar_list \",right_polar_list)\n",
        "  print(\"left_polar_list \" ,left_polar_list)\n",
        "  return right_polar_list,left_polar_list\n",
        "\n"
      ]
    },
    {
      "cell_type": "markdown",
      "metadata": {
        "id": "fW63zxKt8KTX"
      },
      "source": [
        "**The below function will create an alphabetical list just like columns of polar embeddings**"
      ]
    },
    {
      "cell_type": "code",
      "execution_count": 16,
      "metadata": {
        "colab": {
          "base_uri": "https://localhost:8080/"
        },
        "id": "bgv1f_R56YMS",
        "outputId": "ae866f31-0071-4ada-b2ac-a10bf26ef1f2"
      },
      "outputs": [
        {
          "output_type": "stream",
          "name": "stdout",
          "text": [
            "time: 7.63 ms (started: 2022-05-18 10:24:02 +00:00)\n"
          ]
        }
      ],
      "source": [
        "def alphabetical_list_creation(list):\n",
        "  new_list = []\n",
        "  \n",
        "  for i in range(0,len(list)):\n",
        "    \n",
        "    if list[i][0] < list[i][1]:\n",
        "      val = list[i][0]+\"-\"+list[i][1]\n",
        "      new_list.append(val)\n",
        "      \n",
        "    else:\n",
        "      val = list[i][1]+\"-\"+list[i][0]\n",
        "      new_list.append(val)\n",
        "      \n",
        "  return new_list"
      ]
    },
    {
      "cell_type": "code",
      "source": [
        "def append_to_list(list_source,list_target):\n",
        "  for i in list_source:\n",
        "    list_target.append(i)\n",
        "  return list_target"
      ],
      "metadata": {
        "colab": {
          "base_uri": "https://localhost:8080/"
        },
        "id": "lmXe--ngsEmV",
        "outputId": "5068324f-c0fe-4471-f92f-4e8de058600d"
      },
      "execution_count": 17,
      "outputs": [
        {
          "output_type": "stream",
          "name": "stdout",
          "text": [
            "time: 1.69 ms (started: 2022-05-18 10:24:02 +00:00)\n"
          ]
        }
      ]
    },
    {
      "cell_type": "code",
      "execution_count": 18,
      "metadata": {
        "colab": {
          "base_uri": "https://localhost:8080/",
          "height": 483,
          "referenced_widgets": [
            "afe83582fdc2421baec5ce5a34955343",
            "47aff8604bef4ea489ec1d865980fff5",
            "674b2697743e4e26bb5578c4acc06adf",
            "e3e0a26bd8804363b01a4fe9e53f5ba5",
            "b2329340978d425a9ea9511d3cea6a72",
            "d0d277f1f1aa4ef58876c2c9049f3021",
            "0523152a842b42969c67c276b1c2778f",
            "caf458b536a0401e8bd0c2343023719c",
            "3e69165958dc4bd8831236fdbbe11e5f",
            "2290e6c81ba84ae09dc3a6718061f9c9",
            "742b0959b28745879d32b74b10ad2390"
          ]
        },
        "id": "fihM-FC4-wW0",
        "outputId": "7e48375c-7f05-4463-c82e-7f26e1a1f9c2"
      },
      "outputs": [
        {
          "output_type": "stream",
          "name": "stdout",
          "text": [
            "--2022-05-18 10:24:03--  https://nlp.stanford.edu/data/glove.6B.zip\n",
            "Resolving nlp.stanford.edu (nlp.stanford.edu)... 171.64.67.140\n",
            "Connecting to nlp.stanford.edu (nlp.stanford.edu)|171.64.67.140|:443... connected.\n",
            "HTTP request sent, awaiting response... 301 Moved Permanently\n",
            "Location: http://downloads.cs.stanford.edu/nlp/data/glove.6B.zip [following]\n",
            "--2022-05-18 10:24:03--  http://downloads.cs.stanford.edu/nlp/data/glove.6B.zip\n",
            "Resolving downloads.cs.stanford.edu (downloads.cs.stanford.edu)... 171.64.64.22\n",
            "Connecting to downloads.cs.stanford.edu (downloads.cs.stanford.edu)|171.64.64.22|:80... connected.\n",
            "HTTP request sent, awaiting response... 200 OK\n",
            "Length: 862182613 (822M) [application/zip]\n",
            "Saving to: ‘glove.6B.zip’\n",
            "\n",
            "glove.6B.zip        100%[===================>] 822.24M  5.25MB/s    in 2m 39s  \n",
            "\n",
            "2022-05-18 10:26:42 (5.16 MB/s) - ‘glove.6B.zip’ saved [862182613/862182613]\n",
            "\n",
            "Archive:  glove.6B.zip\n",
            "  inflating: glove.6B.50d.txt        \n",
            "  inflating: glove.6B.100d.txt       \n",
            "  inflating: glove.6B.200d.txt       \n",
            "  inflating: glove.6B.300d.txt       \n"
          ]
        },
        {
          "output_type": "stream",
          "name": "stderr",
          "text": [
            "/usr/local/lib/python3.7/dist-packages/ipykernel_launcher.py:5: TqdmDeprecationWarning: This function will be removed in tqdm==5.0.0\n",
            "Please use `tqdm.notebook.tqdm` instead of `tqdm.tqdm_notebook`\n",
            "  \"\"\"\n"
          ]
        },
        {
          "output_type": "display_data",
          "data": {
            "text/plain": [
              "  0%|          | 0/400000 [00:00<?, ?it/s]"
            ],
            "application/vnd.jupyter.widget-view+json": {
              "version_major": 2,
              "version_minor": 0,
              "model_id": "afe83582fdc2421baec5ce5a34955343"
            }
          },
          "metadata": {}
        },
        {
          "output_type": "stream",
          "name": "stdout",
          "text": [
            "time: 4min 21s (started: 2022-05-18 10:24:03 +00:00)\n"
          ]
        }
      ],
      "source": [
        "unzipping_file()\n",
        "model_glove = model_initialization('glove.6B.300d.txt','gensim_glove.6B.300d.txt')\n",
        "path = generate_norm_embedding(model_glove,'glove_norm_wiki.mod')\n",
        "current_model  = load_normalized_embedding(path)"
      ]
    },
    {
      "cell_type": "code",
      "execution_count": 19,
      "metadata": {
        "id": "yJtIfsf0AHOH",
        "colab": {
          "base_uri": "https://localhost:8080/"
        },
        "outputId": "95789133-2cb3-49bd-f785-6137fe8c117f"
      },
      "outputs": [
        {
          "output_type": "stream",
          "name": "stdout",
          "text": [
            "[('achievements', 'loving'), ('accomplishment', 'nurturing'), ('excellence', 'cared'), ('accomplishments', 'care'), ('award', 'sick')]\n",
            "time: 1.31 s (started: 2022-05-18 10:28:24 +00:00)\n"
          ]
        }
      ],
      "source": [
        "'''('individualism', 'collectivism'),\n",
        "('long-term', 'short-term'),\n",
        "('indulgence', 'restraint'),'''\n",
        "\n",
        "individual_list= [('masculinity', 'femininity')]\n",
        "\n",
        "human_code_list = [('achievement', 'support'),\n",
        "           ('competitive', 'caring'),\n",
        "           ('assertive', 'submissive'),\n",
        "           ('ambitious', 'unambitious'),\n",
        "           ('sucess','cooperation')\n",
        "           ]\n",
        "\n",
        "similar_antonym_pair_list = []\n",
        "similar_antonym_pair_list = similar_antonym_pair(similar_antonym_pair_list,'achievement-caring',current_model)\n",
        "print(similar_antonym_pair_list)"
      ]
    },
    {
      "cell_type": "code",
      "execution_count": 20,
      "metadata": {
        "id": "idn0kPwk2NWp",
        "colab": {
          "base_uri": "https://localhost:8080/",
          "height": 53
        },
        "outputId": "60f791a1-a959-4952-ba59-b4d9a0b93b62"
      },
      "outputs": [
        {
          "output_type": "execute_result",
          "data": {
            "text/plain": [
              "'\\nlist_new = human_code_list\\nright_polar_list,left_polar_list = polar_list(list_new)\\ninput_list = alphabetical_list_creation(list_new)\\n'"
            ],
            "application/vnd.google.colaboratory.intrinsic+json": {
              "type": "string"
            }
          },
          "metadata": {},
          "execution_count": 20
        },
        {
          "output_type": "stream",
          "name": "stdout",
          "text": [
            "time: 7.77 ms (started: 2022-05-18 10:28:25 +00:00)\n"
          ]
        }
      ],
      "source": [
        "'''\n",
        "list_new = human_code_list\n",
        "right_polar_list,left_polar_list = polar_list(list_new)\n",
        "input_list = alphabetical_list_creation(list_new)\n",
        "'''"
      ]
    },
    {
      "cell_type": "code",
      "execution_count": 21,
      "metadata": {
        "id": "ncSiEpc1SQvl",
        "colab": {
          "base_uri": "https://localhost:8080/"
        },
        "outputId": "61c3a7e5-f2ef-4096-a356-3a11f52cd8bc"
      },
      "outputs": [
        {
          "output_type": "stream",
          "name": "stdout",
          "text": [
            "right_polar_list  ['achievement', 'competitive', 'assertive', 'ambitious', 'sucess']\n",
            "left_polar_list  ['support', 'caring', 'submissive', 'unambitious', 'cooperation']\n",
            "right_polar_list  ['masculinity']\n",
            "left_polar_list  ['femininity']\n",
            "right_polar_list  ['achievements', 'accomplishment', 'excellence', 'accomplishments', 'award']\n",
            "left_polar_list  ['loving', 'nurturing', 'cared', 'care', 'sick']\n",
            "time: 16.1 ms (started: 2022-05-18 10:28:25 +00:00)\n"
          ]
        }
      ],
      "source": [
        "list_new = []\n",
        "list_new = append_to_list(human_code_list,list_new)\n",
        "list_new = append_to_list(individual_list,list_new)\n",
        "list_new = append_to_list(similar_antonym_pair_list,list_new)\n",
        "\n",
        "\n",
        "right_polar_list_human,left_polar_list_human = polar_list(human_code_list)\n",
        "right_polar_list_individual,left_polar_list_individual = polar_list(individual_list)\n",
        "right_polar_list_similar,left_polar_list_similar = polar_list(similar_antonym_pair_list)\n",
        "\n",
        "input_list_human = alphabetical_list_creation(human_code_list)\n",
        "input_list_individual = alphabetical_list_creation(individual_list)\n",
        "input_list_similar = alphabetical_list_creation(similar_antonym_pair_list)"
      ]
    },
    {
      "cell_type": "code",
      "execution_count": 22,
      "metadata": {
        "id": "xjcrbz04tg3M",
        "colab": {
          "base_uri": "https://localhost:8080/"
        },
        "outputId": "fe238f9d-d53d-473b-cbd0-6b9c1ff15581"
      },
      "outputs": [
        {
          "output_type": "stream",
          "name": "stdout",
          "text": [
            "[('achievement', 'support'), ('competitive', 'caring'), ('assertive', 'submissive'), ('ambitious', 'unambitious'), ('sucess', 'cooperation'), ('masculinity', 'femininity'), ('achievements', 'loving'), ('accomplishment', 'nurturing'), ('excellence', 'cared'), ('accomplishments', 'care'), ('award', 'sick')]\n",
            "time: 1.41 ms (started: 2022-05-18 10:28:25 +00:00)\n"
          ]
        }
      ],
      "source": [
        "len(list_new)\n",
        "print(list_new)\n",
        "l = list_new"
      ]
    },
    {
      "cell_type": "code",
      "execution_count": 23,
      "metadata": {
        "id": "w_3PABMoATI0",
        "colab": {
          "base_uri": "https://localhost:8080/",
          "height": 529,
          "referenced_widgets": [
            "2461b76f50c5428da5484e610f063e05",
            "a5c8a66a02f64ff187c8d9b4254ba639",
            "d40d595a67bf4a17b91209aff4104e41",
            "ffea567122f449f6a7fd7dc536cf169b",
            "cf19cef1052f4bd4994b78b1a8d8eba8",
            "340fd8afb8ac4a818157727177ff1fa9",
            "43a3204f1ddb476590218ad38aab7834",
            "9ac3448f1a2645908f77532edbdcb254",
            "5afe7092276245d38d219279f91a3dfd",
            "d2ad4ec6607f418babd889f44609b7a8",
            "17ef2ea1d7c7403aa040ad9c08a45d98",
            "b9ebf0b714354c0088d31d86f9a8f6e9",
            "32f9a92af5044e6da0b4db4e0768337f",
            "d306b8f5c4a7422da90aa4f604686fd8",
            "60b7db34dbdc4b61bfc9c114d83030c0",
            "a9a885fc5a2d407ca0f06e05e5334b66",
            "74dcae5a40054e5faee3afbe751e4489",
            "3f861a2e08f74f9c9cdb7a5201a8af1a",
            "1cf71e4b11dc4545a3617808cef0eee6",
            "5af18ad22c89463c82acf6dcb1307670",
            "fc6ddca607bc4e05bc3ea6ab1e353227",
            "5eb1ade7b174491e883c3d1887bcd1f7",
            "5c1931ff7e2844dc8d8e8eb3c995beca",
            "09fde1f286984230b5996aa52026f896",
            "c121396a8ac045b4a5c7279bae106dea",
            "c18df6cf5d014f26bb34e084cf9acdf8",
            "410d01de32e24ccfb652e0d563e96212",
            "2b038cb831d24b57b550066eab8fb17f",
            "d4add83e74ba473e9ca811e3e5f3871f",
            "d19b846e31264ad1ac89a67126317a34",
            "a0c15e66353c404aab2b21f59c281269",
            "1c7649644bb14218a21bb4e9eb4e3f0f",
            "97172d2b69eb4cf0921cbfa3b1b749a6"
          ]
        },
        "outputId": "1642861c-12fe-458f-e832-0a6982a79c14"
      },
      "outputs": [
        {
          "output_type": "stream",
          "name": "stderr",
          "text": [
            "/usr/local/lib/python3.7/dist-packages/ipykernel_launcher.py:5: TqdmDeprecationWarning: This function will be removed in tqdm==5.0.0\n",
            "Please use `tqdm.notebook.tqdm` instead of `tqdm.tqdm_notebook`\n",
            "  \"\"\"\n"
          ]
        },
        {
          "output_type": "display_data",
          "data": {
            "text/plain": [
              "  0%|          | 0/11 [00:00<?, ?it/s]"
            ],
            "application/vnd.jupyter.widget-view+json": {
              "version_major": 2,
              "version_minor": 0,
              "model_id": "2461b76f50c5428da5484e610f063e05"
            }
          },
          "metadata": {}
        },
        {
          "output_type": "stream",
          "name": "stderr",
          "text": [
            "/usr/local/lib/python3.7/dist-packages/ipykernel_launcher.py:14: TqdmDeprecationWarning: This function will be removed in tqdm==5.0.0\n",
            "Please use `tqdm.notebook.tqdm` instead of `tqdm.tqdm_notebook`\n",
            "  \n"
          ]
        },
        {
          "output_type": "display_data",
          "data": {
            "text/plain": [
              "  0%|          | 0/11 [00:00<?, ?it/s]"
            ],
            "application/vnd.jupyter.widget-view+json": {
              "version_major": 2,
              "version_minor": 0,
              "model_id": "b9ebf0b714354c0088d31d86f9a8f6e9"
            }
          },
          "metadata": {}
        },
        {
          "output_type": "stream",
          "name": "stderr",
          "text": [
            "/usr/local/lib/python3.7/dist-packages/ipykernel_launcher.py:23: TqdmDeprecationWarning: This function will be removed in tqdm==5.0.0\n",
            "Please use `tqdm.notebook.tqdm` instead of `tqdm.tqdm_notebook`\n"
          ]
        },
        {
          "output_type": "display_data",
          "data": {
            "text/plain": [
              "  0%|          | 0/11 [00:00<?, ?it/s]"
            ],
            "application/vnd.jupyter.widget-view+json": {
              "version_major": 2,
              "version_minor": 0,
              "model_id": "5c1931ff7e2844dc8d8e8eb3c995beca"
            }
          },
          "metadata": {}
        },
        {
          "output_type": "stream",
          "name": "stdout",
          "text": [
            "11\n",
            "(11, 300)\n",
            "[[ 0.14758141  0.09032236  0.07620825 ...  0.12463442  0.00482126\n",
            "  -0.03302358]\n",
            " [-0.09652946 -0.07345466 -0.0032986  ...  0.12112679  0.01148236\n",
            "  -0.0293146 ]\n",
            " [-0.05397214  0.02136535 -0.00466404 ... -0.04937481 -0.06371355\n",
            "  -0.00237834]\n",
            " ...\n",
            " [-0.06384815 -0.01095766 -0.03317862 ... -0.0470635   0.02752064\n",
            "   0.20781796]\n",
            " [ 0.1412645   0.05812078  0.04715796 ...  0.00923945 -0.05385769\n",
            "  -0.00068682]\n",
            " [ 0.04169678  0.03787248  0.00710806 ...  0.11259942 -0.03035405\n",
            "  -0.05903954]]\n",
            "time: 207 ms (started: 2022-05-18 10:28:25 +00:00)\n"
          ]
        }
      ],
      "source": [
        "list_antonym  = load_antonyms(l,current_model)\n",
        "len(list_new)\n",
        "antonymy_vector = antonym_difference_vector(list_antonym,current_model)"
      ]
    },
    {
      "cell_type": "markdown",
      "metadata": {
        "id": "WgFeUujiKpsp"
      },
      "source": [
        "**Below function will read the comapny name and make the word embeddings**"
      ]
    },
    {
      "cell_type": "code",
      "execution_count": 24,
      "metadata": {
        "id": "SAO2Zh96KGTB",
        "colab": {
          "base_uri": "https://localhost:8080/"
        },
        "outputId": "e3b15e27-a18e-4038-c4f0-ee80ad11cc12"
      },
      "outputs": [
        {
          "output_type": "stream",
          "name": "stdout",
          "text": [
            "time: 6.93 ms (started: 2022-05-18 10:28:25 +00:00)\n"
          ]
        }
      ],
      "source": [
        "def read_company_make_word_embedding(file_path,current_model):\n",
        "  company = pd.read_csv(file_path,encoding= 'unicode_escape')\n",
        "  name_list = company['0']\n",
        "  name_word_embedding = dict()\n",
        "  new_name_list=[]\n",
        "  for name in name_list:\n",
        "    try:\n",
        "      name_word_embedding[name] = current_model[name]\n",
        "      new_name_list.append(name)\n",
        "    except:\n",
        "      print(\"The company is not there: \",name)\n",
        "  return new_name_list,name_word_embedding"
      ]
    },
    {
      "cell_type": "code",
      "execution_count": 25,
      "metadata": {
        "id": "fsWgwffRK18R",
        "colab": {
          "base_uri": "https://localhost:8080/"
        },
        "outputId": "dfaa6d2b-b245-4058-cf5f-2b968fc831c2"
      },
      "outputs": [
        {
          "output_type": "stream",
          "name": "stdout",
          "text": [
            "The company is not there:  jpmorganchase\n",
            "The company is not there:  generalmotors\n",
            "The company is not there:  fanniemae\n",
            "The company is not there:  bankofamerica\n",
            "The company is not there:  nestlÃ©\n",
            "The company is not there:  wellsfargo\n",
            "The company is not there:  generalelectric\n",
            "The company is not there:  sinopharm\n",
            "The company is not there:  freddiemac\n",
            "The company is not there:  waltdisney\n",
            "The company is not there:  engie\n",
            "The company is not there:  morganstanley\n",
            "The company is not there:  indianoil\n",
            "The company is not there:  telefÃ³nica\n",
            "The company is not there:  bestbuy\n",
            "The company is not there:  talanx\n",
            "The company is not there:  abbvie\n",
            "The company is not there:  americanexpress\n",
            "The company is not there:  deutschebank\n",
            "The company is not there:  tatamotors\n",
            "The company is not there:  l'orÃ©al\n",
            "The company is not there:  angloamerican\n",
            "The company is not there:  achmea\n",
            "The company is not there:  dollartree\n",
            "The company is not there:  riteaid\n",
            "time: 422 ms (started: 2022-05-18 10:28:25 +00:00)\n"
          ]
        }
      ],
      "source": [
        "new_name_list,name_word_embedding = read_company_make_word_embedding(\"/content/drive/MyDrive/International_Fortune_GloVe.csv\",current_model)"
      ]
    },
    {
      "cell_type": "code",
      "execution_count": 26,
      "metadata": {
        "id": "7SWRW9DBFHj9",
        "colab": {
          "base_uri": "https://localhost:8080/",
          "height": 118,
          "referenced_widgets": [
            "e57980da318445ddb3a14913d3830992",
            "30fe56003f804472a5fb27d98792e1fd",
            "25937787a74048ef93c5e3c769d4dc07",
            "bd329f2556e841268e47961d282fe5bb",
            "849e955e159c49888b1b4aa487c70d89",
            "a71fa9e840e148b4b4ce152138354a6e",
            "1ec82773057e4b35b79931e10a6979fb",
            "34fb0d5677274632ad71d6c2c5691867",
            "a2f8f046c47249649ef27e42ad536bda",
            "b9e9cc9e851441449c9ff25091bcae4c",
            "d65fe6c083e8401daeaf5a722d730da3"
          ]
        },
        "outputId": "7689b2e3-66eb-4124-ef84-b7e51e7ed26b"
      },
      "outputs": [
        {
          "output_type": "stream",
          "name": "stdout",
          "text": [
            "11\n"
          ]
        },
        {
          "output_type": "stream",
          "name": "stderr",
          "text": [
            "/usr/local/lib/python3.7/dist-packages/ipykernel_launcher.py:18: TqdmDeprecationWarning: This function will be removed in tqdm==5.0.0\n",
            "Please use `tqdm.notebook.tqdm` instead of `tqdm.tqdm_notebook`\n"
          ]
        },
        {
          "output_type": "display_data",
          "data": {
            "text/plain": [
              "  0%|          | 0/142 [00:00<?, ?it/s]"
            ],
            "application/vnd.jupyter.widget-view+json": {
              "version_major": 2,
              "version_minor": 0,
              "model_id": "e57980da318445ddb3a14913d3830992"
            }
          },
          "metadata": {}
        },
        {
          "output_type": "stream",
          "name": "stdout",
          "text": [
            "time: 74.1 ms (started: 2022-05-18 10:28:26 +00:00)\n"
          ]
        }
      ],
      "source": [
        "random_antonym_vector = [i for i in range(len(antonymy_vector))]\n",
        "random.shuffle(random_antonym_vector)\n",
        "print(len(random_antonym_vector))\n",
        "name_new_embedding = generate_embedding_path(name_word_embedding, 'test_run',True ,random_antonym_vector,500,antonymy_vector)"
      ]
    },
    {
      "cell_type": "code",
      "execution_count": 27,
      "metadata": {
        "id": "WxQws8sdQUHs",
        "colab": {
          "base_uri": "https://localhost:8080/"
        },
        "outputId": "11dd6324-de53-4877-d493-b74b17997f4a"
      },
      "outputs": [
        {
          "output_type": "stream",
          "name": "stdout",
          "text": [
            "time: 1.15 ms (started: 2022-05-18 10:28:26 +00:00)\n"
          ]
        }
      ],
      "source": [
        "antonym_500 = [list_antonym[x] for x in random_antonym_vector[:500]]"
      ]
    },
    {
      "cell_type": "markdown",
      "metadata": {
        "id": "WkZaxo1PWEm2"
      },
      "source": [
        "**Polar Embedding -> DataFrame**"
      ]
    },
    {
      "cell_type": "code",
      "execution_count": 28,
      "metadata": {
        "id": "GY7DrZmULdME",
        "colab": {
          "base_uri": "https://localhost:8080/"
        },
        "outputId": "b4d1ca16-fbbb-4e53-966a-660734282d63"
      },
      "outputs": [
        {
          "output_type": "stream",
          "name": "stdout",
          "text": [
            "time: 8.45 ms (started: 2022-05-18 10:28:26 +00:00)\n"
          ]
        }
      ],
      "source": [
        "def polar_embedding_to_df(new_name_list, name_new_embedding, antonym_500):\n",
        "  df = dict()\n",
        "  for t in new_name_list:\n",
        "    df[t] = make_polar_dict(t, antonym_500, name_new_embedding)\n",
        "\n",
        "  new_df = pd.DataFrame(df).transpose()\n",
        "\n",
        "\n",
        "  # change columns to better read names\n",
        "  new_columns = []\n",
        "\n",
        "  for pair in antonym_500:\n",
        "    temp = pair[0]+''+pair[1]\n",
        "    new_columns.append(temp)\n",
        "\n",
        "  new_df.columns = new_columns\n",
        "\n",
        "  return new_df"
      ]
    },
    {
      "cell_type": "code",
      "execution_count": 29,
      "metadata": {
        "id": "0IaPxlw3fRlD",
        "colab": {
          "base_uri": "https://localhost:8080/",
          "height": 287
        },
        "outputId": "990677b5-6ced-4355-fdaf-23d981c0d197"
      },
      "outputs": [
        {
          "output_type": "execute_result",
          "data": {
            "text/plain": [
              "            femininitymasculinity  accomplishmentscare  caredexcellence  \\\n",
              "walmart                  0.323859            -0.409291        -0.154279   \n",
              "amazon                  -0.214058            -0.465434         0.115638   \n",
              "apple                    0.894318            -0.064865        -0.075543   \n",
              "volkswagen               0.181007            -0.013113        -0.089689   \n",
              "mckesson                -0.066702            -0.477492        -0.084452   \n",
              "\n",
              "            achievementsupport  ambitiousunambitious  awardsick  \\\n",
              "walmart               0.113478             -0.468488  -0.122194   \n",
              "amazon               -0.237232              0.489317   0.437165   \n",
              "apple                -0.160309              0.347345   0.062112   \n",
              "volkswagen           -0.300911              0.251356  -0.102368   \n",
              "mckesson              0.148722             -0.501065   0.081168   \n",
              "\n",
              "            cooperationsucess  assertivesubmissive  accomplishmentnurturing  \\\n",
              "walmart             -0.338505             0.050837                -0.213582   \n",
              "amazon               0.117355            -0.250869                -0.206809   \n",
              "apple               -0.051296             0.108549                -0.084950   \n",
              "volkswagen           0.213006            -0.589250                 0.177710   \n",
              "mckesson            -0.248889             0.396732                 0.459977   \n",
              "\n",
              "            achievementsloving  caringcompetitive  \n",
              "walmart               0.109001          -0.530883  \n",
              "amazon                0.331396          -0.089745  \n",
              "apple                -0.005832          -0.135689  \n",
              "volkswagen            0.091597          -0.601877  \n",
              "mckesson             -0.063924           0.213635  "
            ],
            "text/html": [
              "\n",
              "  <div id=\"df-6bf190c8-0996-4113-ac47-7b3fa005af72\">\n",
              "    <div class=\"colab-df-container\">\n",
              "      <div>\n",
              "<style scoped>\n",
              "    .dataframe tbody tr th:only-of-type {\n",
              "        vertical-align: middle;\n",
              "    }\n",
              "\n",
              "    .dataframe tbody tr th {\n",
              "        vertical-align: top;\n",
              "    }\n",
              "\n",
              "    .dataframe thead th {\n",
              "        text-align: right;\n",
              "    }\n",
              "</style>\n",
              "<table border=\"1\" class=\"dataframe\">\n",
              "  <thead>\n",
              "    <tr style=\"text-align: right;\">\n",
              "      <th></th>\n",
              "      <th>femininitymasculinity</th>\n",
              "      <th>accomplishmentscare</th>\n",
              "      <th>caredexcellence</th>\n",
              "      <th>achievementsupport</th>\n",
              "      <th>ambitiousunambitious</th>\n",
              "      <th>awardsick</th>\n",
              "      <th>cooperationsucess</th>\n",
              "      <th>assertivesubmissive</th>\n",
              "      <th>accomplishmentnurturing</th>\n",
              "      <th>achievementsloving</th>\n",
              "      <th>caringcompetitive</th>\n",
              "    </tr>\n",
              "  </thead>\n",
              "  <tbody>\n",
              "    <tr>\n",
              "      <th>walmart</th>\n",
              "      <td>0.323859</td>\n",
              "      <td>-0.409291</td>\n",
              "      <td>-0.154279</td>\n",
              "      <td>0.113478</td>\n",
              "      <td>-0.468488</td>\n",
              "      <td>-0.122194</td>\n",
              "      <td>-0.338505</td>\n",
              "      <td>0.050837</td>\n",
              "      <td>-0.213582</td>\n",
              "      <td>0.109001</td>\n",
              "      <td>-0.530883</td>\n",
              "    </tr>\n",
              "    <tr>\n",
              "      <th>amazon</th>\n",
              "      <td>-0.214058</td>\n",
              "      <td>-0.465434</td>\n",
              "      <td>0.115638</td>\n",
              "      <td>-0.237232</td>\n",
              "      <td>0.489317</td>\n",
              "      <td>0.437165</td>\n",
              "      <td>0.117355</td>\n",
              "      <td>-0.250869</td>\n",
              "      <td>-0.206809</td>\n",
              "      <td>0.331396</td>\n",
              "      <td>-0.089745</td>\n",
              "    </tr>\n",
              "    <tr>\n",
              "      <th>apple</th>\n",
              "      <td>0.894318</td>\n",
              "      <td>-0.064865</td>\n",
              "      <td>-0.075543</td>\n",
              "      <td>-0.160309</td>\n",
              "      <td>0.347345</td>\n",
              "      <td>0.062112</td>\n",
              "      <td>-0.051296</td>\n",
              "      <td>0.108549</td>\n",
              "      <td>-0.084950</td>\n",
              "      <td>-0.005832</td>\n",
              "      <td>-0.135689</td>\n",
              "    </tr>\n",
              "    <tr>\n",
              "      <th>volkswagen</th>\n",
              "      <td>0.181007</td>\n",
              "      <td>-0.013113</td>\n",
              "      <td>-0.089689</td>\n",
              "      <td>-0.300911</td>\n",
              "      <td>0.251356</td>\n",
              "      <td>-0.102368</td>\n",
              "      <td>0.213006</td>\n",
              "      <td>-0.589250</td>\n",
              "      <td>0.177710</td>\n",
              "      <td>0.091597</td>\n",
              "      <td>-0.601877</td>\n",
              "    </tr>\n",
              "    <tr>\n",
              "      <th>mckesson</th>\n",
              "      <td>-0.066702</td>\n",
              "      <td>-0.477492</td>\n",
              "      <td>-0.084452</td>\n",
              "      <td>0.148722</td>\n",
              "      <td>-0.501065</td>\n",
              "      <td>0.081168</td>\n",
              "      <td>-0.248889</td>\n",
              "      <td>0.396732</td>\n",
              "      <td>0.459977</td>\n",
              "      <td>-0.063924</td>\n",
              "      <td>0.213635</td>\n",
              "    </tr>\n",
              "  </tbody>\n",
              "</table>\n",
              "</div>\n",
              "      <button class=\"colab-df-convert\" onclick=\"convertToInteractive('df-6bf190c8-0996-4113-ac47-7b3fa005af72')\"\n",
              "              title=\"Convert this dataframe to an interactive table.\"\n",
              "              style=\"display:none;\">\n",
              "        \n",
              "  <svg xmlns=\"http://www.w3.org/2000/svg\" height=\"24px\"viewBox=\"0 0 24 24\"\n",
              "       width=\"24px\">\n",
              "    <path d=\"M0 0h24v24H0V0z\" fill=\"none\"/>\n",
              "    <path d=\"M18.56 5.44l.94 2.06.94-2.06 2.06-.94-2.06-.94-.94-2.06-.94 2.06-2.06.94zm-11 1L8.5 8.5l.94-2.06 2.06-.94-2.06-.94L8.5 2.5l-.94 2.06-2.06.94zm10 10l.94 2.06.94-2.06 2.06-.94-2.06-.94-.94-2.06-.94 2.06-2.06.94z\"/><path d=\"M17.41 7.96l-1.37-1.37c-.4-.4-.92-.59-1.43-.59-.52 0-1.04.2-1.43.59L10.3 9.45l-7.72 7.72c-.78.78-.78 2.05 0 2.83L4 21.41c.39.39.9.59 1.41.59.51 0 1.02-.2 1.41-.59l7.78-7.78 2.81-2.81c.8-.78.8-2.07 0-2.86zM5.41 20L4 18.59l7.72-7.72 1.47 1.35L5.41 20z\"/>\n",
              "  </svg>\n",
              "      </button>\n",
              "      \n",
              "  <style>\n",
              "    .colab-df-container {\n",
              "      display:flex;\n",
              "      flex-wrap:wrap;\n",
              "      gap: 12px;\n",
              "    }\n",
              "\n",
              "    .colab-df-convert {\n",
              "      background-color: #E8F0FE;\n",
              "      border: none;\n",
              "      border-radius: 50%;\n",
              "      cursor: pointer;\n",
              "      display: none;\n",
              "      fill: #1967D2;\n",
              "      height: 32px;\n",
              "      padding: 0 0 0 0;\n",
              "      width: 32px;\n",
              "    }\n",
              "\n",
              "    .colab-df-convert:hover {\n",
              "      background-color: #E2EBFA;\n",
              "      box-shadow: 0px 1px 2px rgba(60, 64, 67, 0.3), 0px 1px 3px 1px rgba(60, 64, 67, 0.15);\n",
              "      fill: #174EA6;\n",
              "    }\n",
              "\n",
              "    [theme=dark] .colab-df-convert {\n",
              "      background-color: #3B4455;\n",
              "      fill: #D2E3FC;\n",
              "    }\n",
              "\n",
              "    [theme=dark] .colab-df-convert:hover {\n",
              "      background-color: #434B5C;\n",
              "      box-shadow: 0px 1px 3px 1px rgba(0, 0, 0, 0.15);\n",
              "      filter: drop-shadow(0px 1px 2px rgba(0, 0, 0, 0.3));\n",
              "      fill: #FFFFFF;\n",
              "    }\n",
              "  </style>\n",
              "\n",
              "      <script>\n",
              "        const buttonEl =\n",
              "          document.querySelector('#df-6bf190c8-0996-4113-ac47-7b3fa005af72 button.colab-df-convert');\n",
              "        buttonEl.style.display =\n",
              "          google.colab.kernel.accessAllowed ? 'block' : 'none';\n",
              "\n",
              "        async function convertToInteractive(key) {\n",
              "          const element = document.querySelector('#df-6bf190c8-0996-4113-ac47-7b3fa005af72');\n",
              "          const dataTable =\n",
              "            await google.colab.kernel.invokeFunction('convertToInteractive',\n",
              "                                                     [key], {});\n",
              "          if (!dataTable) return;\n",
              "\n",
              "          const docLinkHtml = 'Like what you see? Visit the ' +\n",
              "            '<a target=\"_blank\" href=https://colab.research.google.com/notebooks/data_table.ipynb>data table notebook</a>'\n",
              "            + ' to learn more about interactive tables.';\n",
              "          element.innerHTML = '';\n",
              "          dataTable['output_type'] = 'display_data';\n",
              "          await google.colab.output.renderOutput(dataTable, element);\n",
              "          const docLink = document.createElement('div');\n",
              "          docLink.innerHTML = docLinkHtml;\n",
              "          element.appendChild(docLink);\n",
              "        }\n",
              "      </script>\n",
              "    </div>\n",
              "  </div>\n",
              "  "
            ]
          },
          "metadata": {},
          "execution_count": 29
        },
        {
          "output_type": "stream",
          "name": "stdout",
          "text": [
            "time: 63.5 ms (started: 2022-05-18 10:28:26 +00:00)\n"
          ]
        }
      ],
      "source": [
        "new_df = polar_embedding_to_df(new_name_list, name_new_embedding, antonym_500)\n",
        "new_df.head()"
      ]
    },
    {
      "cell_type": "code",
      "execution_count": 30,
      "metadata": {
        "id": "WWMc_XISqtxF",
        "colab": {
          "base_uri": "https://localhost:8080/"
        },
        "outputId": "ee076352-878b-4656-a758-ebef56da5708"
      },
      "outputs": [
        {
          "output_type": "stream",
          "name": "stdout",
          "text": [
            "time: 423 ms (started: 2022-05-18 10:28:26 +00:00)\n"
          ]
        }
      ],
      "source": [
        "fortune_500_company = pd.read_csv('/content/drive/MyDrive/Fortune Global 500 companies.csv',encoding= 'unicode_escape')\n",
        "fortune_500_company['Company'] = fortune_500_company['Company'].str.lower()\n",
        "fortune_500_company['Company'] = fortune_500_company['Company'].str.replace(\" \",\"\")\n"
      ]
    },
    {
      "cell_type": "code",
      "execution_count": 31,
      "metadata": {
        "id": "nBc9_F_hYUX5",
        "colab": {
          "base_uri": "https://localhost:8080/"
        },
        "outputId": "166e7d41-57f9-422b-ea80-18c9e41c3b96"
      },
      "outputs": [
        {
          "output_type": "stream",
          "name": "stdout",
          "text": [
            "time: 11.6 ms (started: 2022-05-18 10:28:27 +00:00)\n"
          ]
        }
      ],
      "source": [
        "polar_embedding = pd.merge(fortune_500_company,new_df,how=\"right\",left_on=\"Company\",right_on=new_df.index)"
      ]
    },
    {
      "cell_type": "code",
      "execution_count": 32,
      "metadata": {
        "id": "2LNDZJizi9UW",
        "colab": {
          "base_uri": "https://localhost:8080/",
          "height": 505
        },
        "outputId": "5f97ba4d-8891-43b4-a5cd-174ce351fa37"
      },
      "outputs": [
        {
          "output_type": "execute_result",
          "data": {
            "text/plain": [
              "        Company     Location  femininitymasculinity  accomplishmentscare  \\\n",
              "0       walmart          USA               0.323859            -0.409291   \n",
              "1        amazon          USA              -0.214058            -0.465434   \n",
              "2         apple          USA               0.894318            -0.064865   \n",
              "3    volkswagen      Germany               0.181007            -0.013113   \n",
              "4      mckesson          USA              -0.066702            -0.477492   \n",
              "..          ...          ...                    ...                  ...   \n",
              "137     netflix          USA               0.189181            -0.404349   \n",
              "138       nokia      Finland               0.648631            -0.330652   \n",
              "139      synnex          USA              -0.155744             0.577083   \n",
              "140      holcim  Switzerland               0.011019            -0.038530   \n",
              "141        flex    Singapore              -0.092732             0.213378   \n",
              "\n",
              "     caredexcellence  achievementsupport  ambitiousunambitious  awardsick  \\\n",
              "0          -0.154279            0.113478             -0.468488  -0.122194   \n",
              "1           0.115638           -0.237232              0.489317   0.437165   \n",
              "2          -0.075543           -0.160309              0.347345   0.062112   \n",
              "3          -0.089689           -0.300911              0.251356  -0.102368   \n",
              "4          -0.084452            0.148722             -0.501065   0.081168   \n",
              "..               ...                 ...                   ...        ...   \n",
              "137         0.215875           -0.200268             -0.515250   0.419809   \n",
              "138        -0.112701           -0.370137             -0.025365   0.264312   \n",
              "139        -0.161079            0.415252             -0.441179  -0.200392   \n",
              "140        -0.090855            0.284851             -0.609109   0.469578   \n",
              "141        -0.293665           -0.484055             -0.077608  -0.301794   \n",
              "\n",
              "     cooperationsucess  assertivesubmissive  accomplishmentnurturing  \\\n",
              "0            -0.338505             0.050837                -0.213582   \n",
              "1             0.117355            -0.250869                -0.206809   \n",
              "2            -0.051296             0.108549                -0.084950   \n",
              "3             0.213006            -0.589250                 0.177710   \n",
              "4            -0.248889             0.396732                 0.459977   \n",
              "..                 ...                  ...                      ...   \n",
              "137          -0.262368             0.202906                 0.160013   \n",
              "138           0.070123            -0.046879                -0.101494   \n",
              "139          -0.217498             0.171978                -0.209694   \n",
              "140          -0.113714            -0.038407                -0.530354   \n",
              "141          -0.006960             0.394702                -0.097384   \n",
              "\n",
              "     achievementsloving  caringcompetitive  \n",
              "0              0.109001          -0.530883  \n",
              "1              0.331396          -0.089745  \n",
              "2             -0.005832          -0.135689  \n",
              "3              0.091597          -0.601877  \n",
              "4             -0.063924           0.213635  \n",
              "..                  ...                ...  \n",
              "137            0.223811          -0.294240  \n",
              "138            0.358362          -0.322337  \n",
              "139           -0.297251           0.018199  \n",
              "140            0.142827          -0.037423  \n",
              "141           -0.233865          -0.555162  \n",
              "\n",
              "[142 rows x 13 columns]"
            ],
            "text/html": [
              "\n",
              "  <div id=\"df-e7c24e17-d7c3-402c-805d-60d4fb1f025c\">\n",
              "    <div class=\"colab-df-container\">\n",
              "      <div>\n",
              "<style scoped>\n",
              "    .dataframe tbody tr th:only-of-type {\n",
              "        vertical-align: middle;\n",
              "    }\n",
              "\n",
              "    .dataframe tbody tr th {\n",
              "        vertical-align: top;\n",
              "    }\n",
              "\n",
              "    .dataframe thead th {\n",
              "        text-align: right;\n",
              "    }\n",
              "</style>\n",
              "<table border=\"1\" class=\"dataframe\">\n",
              "  <thead>\n",
              "    <tr style=\"text-align: right;\">\n",
              "      <th></th>\n",
              "      <th>Company</th>\n",
              "      <th>Location</th>\n",
              "      <th>femininitymasculinity</th>\n",
              "      <th>accomplishmentscare</th>\n",
              "      <th>caredexcellence</th>\n",
              "      <th>achievementsupport</th>\n",
              "      <th>ambitiousunambitious</th>\n",
              "      <th>awardsick</th>\n",
              "      <th>cooperationsucess</th>\n",
              "      <th>assertivesubmissive</th>\n",
              "      <th>accomplishmentnurturing</th>\n",
              "      <th>achievementsloving</th>\n",
              "      <th>caringcompetitive</th>\n",
              "    </tr>\n",
              "  </thead>\n",
              "  <tbody>\n",
              "    <tr>\n",
              "      <th>0</th>\n",
              "      <td>walmart</td>\n",
              "      <td>USA</td>\n",
              "      <td>0.323859</td>\n",
              "      <td>-0.409291</td>\n",
              "      <td>-0.154279</td>\n",
              "      <td>0.113478</td>\n",
              "      <td>-0.468488</td>\n",
              "      <td>-0.122194</td>\n",
              "      <td>-0.338505</td>\n",
              "      <td>0.050837</td>\n",
              "      <td>-0.213582</td>\n",
              "      <td>0.109001</td>\n",
              "      <td>-0.530883</td>\n",
              "    </tr>\n",
              "    <tr>\n",
              "      <th>1</th>\n",
              "      <td>amazon</td>\n",
              "      <td>USA</td>\n",
              "      <td>-0.214058</td>\n",
              "      <td>-0.465434</td>\n",
              "      <td>0.115638</td>\n",
              "      <td>-0.237232</td>\n",
              "      <td>0.489317</td>\n",
              "      <td>0.437165</td>\n",
              "      <td>0.117355</td>\n",
              "      <td>-0.250869</td>\n",
              "      <td>-0.206809</td>\n",
              "      <td>0.331396</td>\n",
              "      <td>-0.089745</td>\n",
              "    </tr>\n",
              "    <tr>\n",
              "      <th>2</th>\n",
              "      <td>apple</td>\n",
              "      <td>USA</td>\n",
              "      <td>0.894318</td>\n",
              "      <td>-0.064865</td>\n",
              "      <td>-0.075543</td>\n",
              "      <td>-0.160309</td>\n",
              "      <td>0.347345</td>\n",
              "      <td>0.062112</td>\n",
              "      <td>-0.051296</td>\n",
              "      <td>0.108549</td>\n",
              "      <td>-0.084950</td>\n",
              "      <td>-0.005832</td>\n",
              "      <td>-0.135689</td>\n",
              "    </tr>\n",
              "    <tr>\n",
              "      <th>3</th>\n",
              "      <td>volkswagen</td>\n",
              "      <td>Germany</td>\n",
              "      <td>0.181007</td>\n",
              "      <td>-0.013113</td>\n",
              "      <td>-0.089689</td>\n",
              "      <td>-0.300911</td>\n",
              "      <td>0.251356</td>\n",
              "      <td>-0.102368</td>\n",
              "      <td>0.213006</td>\n",
              "      <td>-0.589250</td>\n",
              "      <td>0.177710</td>\n",
              "      <td>0.091597</td>\n",
              "      <td>-0.601877</td>\n",
              "    </tr>\n",
              "    <tr>\n",
              "      <th>4</th>\n",
              "      <td>mckesson</td>\n",
              "      <td>USA</td>\n",
              "      <td>-0.066702</td>\n",
              "      <td>-0.477492</td>\n",
              "      <td>-0.084452</td>\n",
              "      <td>0.148722</td>\n",
              "      <td>-0.501065</td>\n",
              "      <td>0.081168</td>\n",
              "      <td>-0.248889</td>\n",
              "      <td>0.396732</td>\n",
              "      <td>0.459977</td>\n",
              "      <td>-0.063924</td>\n",
              "      <td>0.213635</td>\n",
              "    </tr>\n",
              "    <tr>\n",
              "      <th>...</th>\n",
              "      <td>...</td>\n",
              "      <td>...</td>\n",
              "      <td>...</td>\n",
              "      <td>...</td>\n",
              "      <td>...</td>\n",
              "      <td>...</td>\n",
              "      <td>...</td>\n",
              "      <td>...</td>\n",
              "      <td>...</td>\n",
              "      <td>...</td>\n",
              "      <td>...</td>\n",
              "      <td>...</td>\n",
              "      <td>...</td>\n",
              "    </tr>\n",
              "    <tr>\n",
              "      <th>137</th>\n",
              "      <td>netflix</td>\n",
              "      <td>USA</td>\n",
              "      <td>0.189181</td>\n",
              "      <td>-0.404349</td>\n",
              "      <td>0.215875</td>\n",
              "      <td>-0.200268</td>\n",
              "      <td>-0.515250</td>\n",
              "      <td>0.419809</td>\n",
              "      <td>-0.262368</td>\n",
              "      <td>0.202906</td>\n",
              "      <td>0.160013</td>\n",
              "      <td>0.223811</td>\n",
              "      <td>-0.294240</td>\n",
              "    </tr>\n",
              "    <tr>\n",
              "      <th>138</th>\n",
              "      <td>nokia</td>\n",
              "      <td>Finland</td>\n",
              "      <td>0.648631</td>\n",
              "      <td>-0.330652</td>\n",
              "      <td>-0.112701</td>\n",
              "      <td>-0.370137</td>\n",
              "      <td>-0.025365</td>\n",
              "      <td>0.264312</td>\n",
              "      <td>0.070123</td>\n",
              "      <td>-0.046879</td>\n",
              "      <td>-0.101494</td>\n",
              "      <td>0.358362</td>\n",
              "      <td>-0.322337</td>\n",
              "    </tr>\n",
              "    <tr>\n",
              "      <th>139</th>\n",
              "      <td>synnex</td>\n",
              "      <td>USA</td>\n",
              "      <td>-0.155744</td>\n",
              "      <td>0.577083</td>\n",
              "      <td>-0.161079</td>\n",
              "      <td>0.415252</td>\n",
              "      <td>-0.441179</td>\n",
              "      <td>-0.200392</td>\n",
              "      <td>-0.217498</td>\n",
              "      <td>0.171978</td>\n",
              "      <td>-0.209694</td>\n",
              "      <td>-0.297251</td>\n",
              "      <td>0.018199</td>\n",
              "    </tr>\n",
              "    <tr>\n",
              "      <th>140</th>\n",
              "      <td>holcim</td>\n",
              "      <td>Switzerland</td>\n",
              "      <td>0.011019</td>\n",
              "      <td>-0.038530</td>\n",
              "      <td>-0.090855</td>\n",
              "      <td>0.284851</td>\n",
              "      <td>-0.609109</td>\n",
              "      <td>0.469578</td>\n",
              "      <td>-0.113714</td>\n",
              "      <td>-0.038407</td>\n",
              "      <td>-0.530354</td>\n",
              "      <td>0.142827</td>\n",
              "      <td>-0.037423</td>\n",
              "    </tr>\n",
              "    <tr>\n",
              "      <th>141</th>\n",
              "      <td>flex</td>\n",
              "      <td>Singapore</td>\n",
              "      <td>-0.092732</td>\n",
              "      <td>0.213378</td>\n",
              "      <td>-0.293665</td>\n",
              "      <td>-0.484055</td>\n",
              "      <td>-0.077608</td>\n",
              "      <td>-0.301794</td>\n",
              "      <td>-0.006960</td>\n",
              "      <td>0.394702</td>\n",
              "      <td>-0.097384</td>\n",
              "      <td>-0.233865</td>\n",
              "      <td>-0.555162</td>\n",
              "    </tr>\n",
              "  </tbody>\n",
              "</table>\n",
              "<p>142 rows × 13 columns</p>\n",
              "</div>\n",
              "      <button class=\"colab-df-convert\" onclick=\"convertToInteractive('df-e7c24e17-d7c3-402c-805d-60d4fb1f025c')\"\n",
              "              title=\"Convert this dataframe to an interactive table.\"\n",
              "              style=\"display:none;\">\n",
              "        \n",
              "  <svg xmlns=\"http://www.w3.org/2000/svg\" height=\"24px\"viewBox=\"0 0 24 24\"\n",
              "       width=\"24px\">\n",
              "    <path d=\"M0 0h24v24H0V0z\" fill=\"none\"/>\n",
              "    <path d=\"M18.56 5.44l.94 2.06.94-2.06 2.06-.94-2.06-.94-.94-2.06-.94 2.06-2.06.94zm-11 1L8.5 8.5l.94-2.06 2.06-.94-2.06-.94L8.5 2.5l-.94 2.06-2.06.94zm10 10l.94 2.06.94-2.06 2.06-.94-2.06-.94-.94-2.06-.94 2.06-2.06.94z\"/><path d=\"M17.41 7.96l-1.37-1.37c-.4-.4-.92-.59-1.43-.59-.52 0-1.04.2-1.43.59L10.3 9.45l-7.72 7.72c-.78.78-.78 2.05 0 2.83L4 21.41c.39.39.9.59 1.41.59.51 0 1.02-.2 1.41-.59l7.78-7.78 2.81-2.81c.8-.78.8-2.07 0-2.86zM5.41 20L4 18.59l7.72-7.72 1.47 1.35L5.41 20z\"/>\n",
              "  </svg>\n",
              "      </button>\n",
              "      \n",
              "  <style>\n",
              "    .colab-df-container {\n",
              "      display:flex;\n",
              "      flex-wrap:wrap;\n",
              "      gap: 12px;\n",
              "    }\n",
              "\n",
              "    .colab-df-convert {\n",
              "      background-color: #E8F0FE;\n",
              "      border: none;\n",
              "      border-radius: 50%;\n",
              "      cursor: pointer;\n",
              "      display: none;\n",
              "      fill: #1967D2;\n",
              "      height: 32px;\n",
              "      padding: 0 0 0 0;\n",
              "      width: 32px;\n",
              "    }\n",
              "\n",
              "    .colab-df-convert:hover {\n",
              "      background-color: #E2EBFA;\n",
              "      box-shadow: 0px 1px 2px rgba(60, 64, 67, 0.3), 0px 1px 3px 1px rgba(60, 64, 67, 0.15);\n",
              "      fill: #174EA6;\n",
              "    }\n",
              "\n",
              "    [theme=dark] .colab-df-convert {\n",
              "      background-color: #3B4455;\n",
              "      fill: #D2E3FC;\n",
              "    }\n",
              "\n",
              "    [theme=dark] .colab-df-convert:hover {\n",
              "      background-color: #434B5C;\n",
              "      box-shadow: 0px 1px 3px 1px rgba(0, 0, 0, 0.15);\n",
              "      filter: drop-shadow(0px 1px 2px rgba(0, 0, 0, 0.3));\n",
              "      fill: #FFFFFF;\n",
              "    }\n",
              "  </style>\n",
              "\n",
              "      <script>\n",
              "        const buttonEl =\n",
              "          document.querySelector('#df-e7c24e17-d7c3-402c-805d-60d4fb1f025c button.colab-df-convert');\n",
              "        buttonEl.style.display =\n",
              "          google.colab.kernel.accessAllowed ? 'block' : 'none';\n",
              "\n",
              "        async function convertToInteractive(key) {\n",
              "          const element = document.querySelector('#df-e7c24e17-d7c3-402c-805d-60d4fb1f025c');\n",
              "          const dataTable =\n",
              "            await google.colab.kernel.invokeFunction('convertToInteractive',\n",
              "                                                     [key], {});\n",
              "          if (!dataTable) return;\n",
              "\n",
              "          const docLinkHtml = 'Like what you see? Visit the ' +\n",
              "            '<a target=\"_blank\" href=https://colab.research.google.com/notebooks/data_table.ipynb>data table notebook</a>'\n",
              "            + ' to learn more about interactive tables.';\n",
              "          element.innerHTML = '';\n",
              "          dataTable['output_type'] = 'display_data';\n",
              "          await google.colab.output.renderOutput(dataTable, element);\n",
              "          const docLink = document.createElement('div');\n",
              "          docLink.innerHTML = docLinkHtml;\n",
              "          element.appendChild(docLink);\n",
              "        }\n",
              "      </script>\n",
              "    </div>\n",
              "  </div>\n",
              "  "
            ]
          },
          "metadata": {},
          "execution_count": 32
        },
        {
          "output_type": "stream",
          "name": "stdout",
          "text": [
            "time: 27.3 ms (started: 2022-05-18 10:28:27 +00:00)\n"
          ]
        }
      ],
      "source": [
        "polar_embedding.drop(['Rank'],axis=1)"
      ]
    },
    {
      "cell_type": "code",
      "execution_count": 33,
      "metadata": {
        "id": "vPj78qqcnH8O",
        "colab": {
          "base_uri": "https://localhost:8080/"
        },
        "outputId": "693c3902-08a3-4178-f62d-7f7354bbee32"
      },
      "outputs": [
        {
          "output_type": "stream",
          "name": "stdout",
          "text": [
            "   Country  Total Count\n",
            "0      USA           52\n",
            "1    Japan           18\n",
            "2  Germany           12\n",
            "3  Britain           10\n",
            "4   France            9\n",
            "time: 4.33 ms (started: 2022-05-18 10:28:27 +00:00)\n"
          ]
        }
      ],
      "source": [
        "# This will find the total number of companies in our data frame based on Location\n",
        "total_company_list_based_on_loc = polar_embedding['Location'].value_counts()\n",
        "total_company_count_df = pd.DataFrame({'Country':total_company_list_based_on_loc.index, 'Total Count':total_company_list_based_on_loc.values})\n",
        "print(total_company_count_df.head())\n"
      ]
    },
    {
      "cell_type": "code",
      "execution_count": 36,
      "metadata": {
        "id": "emMjmvbLUaIg",
        "colab": {
          "base_uri": "https://localhost:8080/"
        },
        "outputId": "0a81bf9a-794a-4202-ecc3-7bc239f6722b"
      },
      "outputs": [
        {
          "output_type": "stream",
          "name": "stdout",
          "text": [
            "time: 25.7 ms (started: 2022-05-18 10:30:16 +00:00)\n"
          ]
        }
      ],
      "source": [
        "def company_count(company_df,input_list,polar_embedding):  \n",
        "\n",
        "  # we then find the number of companies grouped on the basis of location\n",
        "  for i in input_list:\n",
        "    print(i)\n",
        "    j = i.replace(\"-\",\"\")\n",
        "    subset_df2 = polar_embedding[polar_embedding[j] < 0]\n",
        "    company_inclined_to_left_polar_df1 = subset_df2['Location'].value_counts()\n",
        "    left_polar = i.split(\"-\")[0]\n",
        "    company_inclined_to_left_polar_df1 = pd.DataFrame({'Country':company_inclined_to_left_polar_df1.index, left_polar :company_inclined_to_left_polar_df1.values})\n",
        "    company_df=pd.merge(company_df, company_inclined_to_left_polar_df1, how='left',on='Country')    \n",
        "    company_df[left_polar] = round( company_df[left_polar] / company_df.iloc[:,1] * 100)\n",
        "\n",
        "    subset_df1 = polar_embedding[polar_embedding[j] > 0]\n",
        "    company_inclined_to_right_polar_df1 = subset_df1['Location'].value_counts()\n",
        "    right_polar = i.split(\"-\")[1]\n",
        "    company_inclined_to_right_polar_df1 = pd.DataFrame({'Country':company_inclined_to_right_polar_df1.index, right_polar :company_inclined_to_right_polar_df1.values})\n",
        "    company_df=pd.merge(company_df, company_inclined_to_right_polar_df1, how='left',on='Country')    \n",
        "    company_df[right_polar] = round( company_df[right_polar] / company_df.iloc[:,1] * 100)\n",
        "\n",
        "\n",
        "  company_df = company_df.fillna(0)\n",
        "\n",
        "  # We are considering only the countries if the numberof companies in the country is over 3\n",
        "  company_df = company_df[company_df['Total Count'] > 3]\n",
        "\n",
        "  return company_df"
      ]
    },
    {
      "cell_type": "code",
      "execution_count": 37,
      "metadata": {
        "id": "bzONmmS1U_FR",
        "colab": {
          "base_uri": "https://localhost:8080/"
        },
        "outputId": "427e3084-fcb8-4b4b-9c9a-705c8c89a179"
      },
      "outputs": [
        {
          "output_type": "stream",
          "name": "stdout",
          "text": [
            "achievement-support\n",
            "caring-competitive\n",
            "assertive-submissive\n",
            "ambitious-unambitious\n",
            "cooperation-sucess\n",
            "femininity-masculinity\n",
            "achievements-loving\n",
            "accomplishment-nurturing\n",
            "cared-excellence\n",
            "accomplishments-care\n",
            "award-sick\n",
            "   Country  Total Count  achievement  support  caring  competitive  assertive  \\\n",
            "0      USA           52         63.0     37.0    65.0         35.0       44.0   \n",
            "1    Japan           18         67.0     33.0    78.0         22.0       78.0   \n",
            "2  Germany           12         58.0     42.0    75.0         25.0       67.0   \n",
            "3  Britain           10         50.0     50.0    90.0         10.0       50.0   \n",
            "4   France            9         56.0     44.0    78.0         22.0       44.0   \n",
            "\n",
            "   submissive  ambitious  unambitious  ...  achievements  loving  \\\n",
            "0        56.0       62.0         38.0  ...          35.0    65.0   \n",
            "1        22.0       44.0         56.0  ...          44.0    56.0   \n",
            "2        33.0       50.0         50.0  ...          17.0    83.0   \n",
            "3        50.0       90.0         10.0  ...           0.0   100.0   \n",
            "4        56.0       67.0         33.0  ...          44.0    56.0   \n",
            "\n",
            "   accomplishment  nurturing  cared  excellence  accomplishments  care  award  \\\n",
            "0            50.0       50.0   67.0        33.0             75.0  25.0   60.0   \n",
            "1            56.0       44.0   78.0        22.0             50.0  50.0   44.0   \n",
            "2            25.0       75.0   75.0        25.0             75.0  25.0   67.0   \n",
            "3            70.0       30.0   70.0        30.0             90.0  10.0   40.0   \n",
            "4            56.0       44.0   67.0        33.0             67.0  33.0   11.0   \n",
            "\n",
            "   sick  \n",
            "0  40.0  \n",
            "1  56.0  \n",
            "2  33.0  \n",
            "3  60.0  \n",
            "4  89.0  \n",
            "\n",
            "[5 rows x 24 columns]\n",
            "time: 113 ms (started: 2022-05-18 10:30:20 +00:00)\n"
          ]
        }
      ],
      "source": [
        "company_df=total_company_count_df.copy()\n",
        "\n",
        "company_df = company_count(company_df,input_list_human,polar_embedding)\n",
        "company_df = company_count(company_df,input_list_individual,polar_embedding)\n",
        "company_df = company_count(company_df,input_list_similar,polar_embedding)\n",
        "\n",
        "print(company_df.head())"
      ]
    },
    {
      "cell_type": "code",
      "source": [
        "def polar_ranking(polar_list,total_score,ranking,company_df):\n",
        "  total_sum=0\n",
        "  total_sum_list=[]\n",
        "  polar_ranking_list = []\n",
        "  polar_index=0\n",
        "  for index,row in company_df.iterrows():  \n",
        "    \n",
        "    for i in polar_list:\n",
        "      \n",
        "      total_sum = total_sum + (row[i])\n",
        "    #print(company_df.iloc[index,2:])  \n",
        "    total_sum_list.append(total_sum/len(polar_list))\n",
        "    polar_ranking_list.append(index+1)\n",
        "    total_sum = 0\n",
        "\n",
        "  company_df[total_score] = total_sum_list\n",
        "  company_df= company_df.sort_values(by=[total_score],ascending=False)\n",
        "  company_df[ranking] = polar_ranking_list\n",
        "\n",
        "  return company_df"
      ],
      "metadata": {
        "colab": {
          "base_uri": "https://localhost:8080/"
        },
        "id": "WFZOspULuVHb",
        "outputId": "af592079-6a22-45af-a31e-974a03d02796"
      },
      "execution_count": 41,
      "outputs": [
        {
          "output_type": "stream",
          "name": "stdout",
          "text": [
            "time: 20.1 ms (started: 2022-05-18 10:37:10 +00:00)\n"
          ]
        }
      ]
    },
    {
      "cell_type": "code",
      "source": [
        "company_df = polar_ranking(right_polar_list_human,\"Total Score Human\",\"Polar Rank H\",company_df)\n",
        "company_df = polar_ranking(right_polar_list_individual,\"Total Score Individual\",\"Polar Rank I\",company_df)\n",
        "company_df = polar_ranking(right_polar_list_similar,\"Total Score Similar\",\"Polar Rank S\",company_df)"
      ],
      "metadata": {
        "colab": {
          "base_uri": "https://localhost:8080/"
        },
        "id": "JKwfAR0wu8NL",
        "outputId": "a1533fc4-47cc-416d-b9c3-5e23957fa47f"
      },
      "execution_count": 42,
      "outputs": [
        {
          "output_type": "stream",
          "name": "stdout",
          "text": [
            "time: 14.4 ms (started: 2022-05-18 10:37:12 +00:00)\n"
          ]
        }
      ]
    },
    {
      "cell_type": "code",
      "execution_count": 77,
      "metadata": {
        "id": "KHyYbV8tqbQP",
        "colab": {
          "base_uri": "https://localhost:8080/",
          "height": 286
        },
        "outputId": "b1af0700-104b-44d2-c615-437c6f947c4a"
      },
      "outputs": [
        {
          "output_type": "execute_result",
          "data": {
            "text/plain": [
              "       Country  Total Count   sick  Total Score Human  Polar Rank H  \\\n",
              "6  South Korea            4  100.0               70.0             1   \n",
              "0          USA           52   40.0               47.4             5   \n",
              "5  Switzerland            5   60.0               44.0             6   \n",
              "3      Britain           10   60.0               42.0             7   \n",
              "1        Japan           18   56.0               50.0             3   \n",
              "4       France            9   89.0               49.0             4   \n",
              "2      Germany           12   33.0               55.0             2   \n",
              "\n",
              "   Total Score Individual  Polar Rank I  Total Score Similar  Polar Rank S  \n",
              "6                    50.0             1                 55.0             5  \n",
              "0                    75.0             2                 50.6             3  \n",
              "5                    40.0             6                 48.0             1  \n",
              "3                    70.0             5                 46.0             4  \n",
              "1                    39.0             4                 43.2             7  \n",
              "4                    89.0             7                 42.2             6  \n",
              "2                    83.0             3                 41.8             2  "
            ],
            "text/html": [
              "\n",
              "  <div id=\"df-1e32c9bf-542f-4374-b946-c885b4c5c975\">\n",
              "    <div class=\"colab-df-container\">\n",
              "      <div>\n",
              "<style scoped>\n",
              "    .dataframe tbody tr th:only-of-type {\n",
              "        vertical-align: middle;\n",
              "    }\n",
              "\n",
              "    .dataframe tbody tr th {\n",
              "        vertical-align: top;\n",
              "    }\n",
              "\n",
              "    .dataframe thead th {\n",
              "        text-align: right;\n",
              "    }\n",
              "</style>\n",
              "<table border=\"1\" class=\"dataframe\">\n",
              "  <thead>\n",
              "    <tr style=\"text-align: right;\">\n",
              "      <th></th>\n",
              "      <th>Country</th>\n",
              "      <th>Total Count</th>\n",
              "      <th>sick</th>\n",
              "      <th>Total Score Human</th>\n",
              "      <th>Polar Rank H</th>\n",
              "      <th>Total Score Individual</th>\n",
              "      <th>Polar Rank I</th>\n",
              "      <th>Total Score Similar</th>\n",
              "      <th>Polar Rank S</th>\n",
              "    </tr>\n",
              "  </thead>\n",
              "  <tbody>\n",
              "    <tr>\n",
              "      <th>6</th>\n",
              "      <td>South Korea</td>\n",
              "      <td>4</td>\n",
              "      <td>100.0</td>\n",
              "      <td>70.0</td>\n",
              "      <td>1</td>\n",
              "      <td>50.0</td>\n",
              "      <td>1</td>\n",
              "      <td>55.0</td>\n",
              "      <td>5</td>\n",
              "    </tr>\n",
              "    <tr>\n",
              "      <th>0</th>\n",
              "      <td>USA</td>\n",
              "      <td>52</td>\n",
              "      <td>40.0</td>\n",
              "      <td>47.4</td>\n",
              "      <td>5</td>\n",
              "      <td>75.0</td>\n",
              "      <td>2</td>\n",
              "      <td>50.6</td>\n",
              "      <td>3</td>\n",
              "    </tr>\n",
              "    <tr>\n",
              "      <th>5</th>\n",
              "      <td>Switzerland</td>\n",
              "      <td>5</td>\n",
              "      <td>60.0</td>\n",
              "      <td>44.0</td>\n",
              "      <td>6</td>\n",
              "      <td>40.0</td>\n",
              "      <td>6</td>\n",
              "      <td>48.0</td>\n",
              "      <td>1</td>\n",
              "    </tr>\n",
              "    <tr>\n",
              "      <th>3</th>\n",
              "      <td>Britain</td>\n",
              "      <td>10</td>\n",
              "      <td>60.0</td>\n",
              "      <td>42.0</td>\n",
              "      <td>7</td>\n",
              "      <td>70.0</td>\n",
              "      <td>5</td>\n",
              "      <td>46.0</td>\n",
              "      <td>4</td>\n",
              "    </tr>\n",
              "    <tr>\n",
              "      <th>1</th>\n",
              "      <td>Japan</td>\n",
              "      <td>18</td>\n",
              "      <td>56.0</td>\n",
              "      <td>50.0</td>\n",
              "      <td>3</td>\n",
              "      <td>39.0</td>\n",
              "      <td>4</td>\n",
              "      <td>43.2</td>\n",
              "      <td>7</td>\n",
              "    </tr>\n",
              "    <tr>\n",
              "      <th>4</th>\n",
              "      <td>France</td>\n",
              "      <td>9</td>\n",
              "      <td>89.0</td>\n",
              "      <td>49.0</td>\n",
              "      <td>4</td>\n",
              "      <td>89.0</td>\n",
              "      <td>7</td>\n",
              "      <td>42.2</td>\n",
              "      <td>6</td>\n",
              "    </tr>\n",
              "    <tr>\n",
              "      <th>2</th>\n",
              "      <td>Germany</td>\n",
              "      <td>12</td>\n",
              "      <td>33.0</td>\n",
              "      <td>55.0</td>\n",
              "      <td>2</td>\n",
              "      <td>83.0</td>\n",
              "      <td>3</td>\n",
              "      <td>41.8</td>\n",
              "      <td>2</td>\n",
              "    </tr>\n",
              "  </tbody>\n",
              "</table>\n",
              "</div>\n",
              "      <button class=\"colab-df-convert\" onclick=\"convertToInteractive('df-1e32c9bf-542f-4374-b946-c885b4c5c975')\"\n",
              "              title=\"Convert this dataframe to an interactive table.\"\n",
              "              style=\"display:none;\">\n",
              "        \n",
              "  <svg xmlns=\"http://www.w3.org/2000/svg\" height=\"24px\"viewBox=\"0 0 24 24\"\n",
              "       width=\"24px\">\n",
              "    <path d=\"M0 0h24v24H0V0z\" fill=\"none\"/>\n",
              "    <path d=\"M18.56 5.44l.94 2.06.94-2.06 2.06-.94-2.06-.94-.94-2.06-.94 2.06-2.06.94zm-11 1L8.5 8.5l.94-2.06 2.06-.94-2.06-.94L8.5 2.5l-.94 2.06-2.06.94zm10 10l.94 2.06.94-2.06 2.06-.94-2.06-.94-.94-2.06-.94 2.06-2.06.94z\"/><path d=\"M17.41 7.96l-1.37-1.37c-.4-.4-.92-.59-1.43-.59-.52 0-1.04.2-1.43.59L10.3 9.45l-7.72 7.72c-.78.78-.78 2.05 0 2.83L4 21.41c.39.39.9.59 1.41.59.51 0 1.02-.2 1.41-.59l7.78-7.78 2.81-2.81c.8-.78.8-2.07 0-2.86zM5.41 20L4 18.59l7.72-7.72 1.47 1.35L5.41 20z\"/>\n",
              "  </svg>\n",
              "      </button>\n",
              "      \n",
              "  <style>\n",
              "    .colab-df-container {\n",
              "      display:flex;\n",
              "      flex-wrap:wrap;\n",
              "      gap: 12px;\n",
              "    }\n",
              "\n",
              "    .colab-df-convert {\n",
              "      background-color: #E8F0FE;\n",
              "      border: none;\n",
              "      border-radius: 50%;\n",
              "      cursor: pointer;\n",
              "      display: none;\n",
              "      fill: #1967D2;\n",
              "      height: 32px;\n",
              "      padding: 0 0 0 0;\n",
              "      width: 32px;\n",
              "    }\n",
              "\n",
              "    .colab-df-convert:hover {\n",
              "      background-color: #E2EBFA;\n",
              "      box-shadow: 0px 1px 2px rgba(60, 64, 67, 0.3), 0px 1px 3px 1px rgba(60, 64, 67, 0.15);\n",
              "      fill: #174EA6;\n",
              "    }\n",
              "\n",
              "    [theme=dark] .colab-df-convert {\n",
              "      background-color: #3B4455;\n",
              "      fill: #D2E3FC;\n",
              "    }\n",
              "\n",
              "    [theme=dark] .colab-df-convert:hover {\n",
              "      background-color: #434B5C;\n",
              "      box-shadow: 0px 1px 3px 1px rgba(0, 0, 0, 0.15);\n",
              "      filter: drop-shadow(0px 1px 2px rgba(0, 0, 0, 0.3));\n",
              "      fill: #FFFFFF;\n",
              "    }\n",
              "  </style>\n",
              "\n",
              "      <script>\n",
              "        const buttonEl =\n",
              "          document.querySelector('#df-1e32c9bf-542f-4374-b946-c885b4c5c975 button.colab-df-convert');\n",
              "        buttonEl.style.display =\n",
              "          google.colab.kernel.accessAllowed ? 'block' : 'none';\n",
              "\n",
              "        async function convertToInteractive(key) {\n",
              "          const element = document.querySelector('#df-1e32c9bf-542f-4374-b946-c885b4c5c975');\n",
              "          const dataTable =\n",
              "            await google.colab.kernel.invokeFunction('convertToInteractive',\n",
              "                                                     [key], {});\n",
              "          if (!dataTable) return;\n",
              "\n",
              "          const docLinkHtml = 'Like what you see? Visit the ' +\n",
              "            '<a target=\"_blank\" href=https://colab.research.google.com/notebooks/data_table.ipynb>data table notebook</a>'\n",
              "            + ' to learn more about interactive tables.';\n",
              "          element.innerHTML = '';\n",
              "          dataTable['output_type'] = 'display_data';\n",
              "          await google.colab.output.renderOutput(dataTable, element);\n",
              "          const docLink = document.createElement('div');\n",
              "          docLink.innerHTML = docLinkHtml;\n",
              "          element.appendChild(docLink);\n",
              "        }\n",
              "      </script>\n",
              "    </div>\n",
              "  </div>\n",
              "  "
            ]
          },
          "metadata": {},
          "execution_count": 77
        },
        {
          "output_type": "stream",
          "name": "stdout",
          "text": [
            "time: 17.2 ms (started: 2022-05-18 11:15:51 +00:00)\n"
          ]
        }
      ],
      "source": [
        "company_df.drop(company_df.iloc[:, ], axis = 1, inplace = True)\n",
        "company_df.head(7)"
      ]
    },
    {
      "cell_type": "code",
      "execution_count": null,
      "metadata": {
        "id": "IO8D-JW9rNBq"
      },
      "outputs": [],
      "source": [
        "hofstede_df = pd.read_csv(\"/content/drive/MyDrive/Polar Embedding/Hofstede 6 dimensions.csv\",sep=\";\")\n",
        "hofstede_df=hofstede_df[hofstede_df.iloc[:,:]!=\"#NULL!\" ]\n",
        "hofstede_df.dropna(axis=0)"
      ]
    },
    {
      "cell_type": "code",
      "execution_count": null,
      "metadata": {
        "id": "VE9jju7fsytB"
      },
      "outputs": [],
      "source": [
        "def percentage_difference(hofstede_dimension):\n",
        "\n",
        "  for index,row in hofstede_df.iterrows():\n",
        "    if row['Country'] == country_name:\n",
        "      hofstede_dimension_value = int(row[hofstede_dimension])\n",
        "    elif row['ctr'] == country_name:\n",
        "      hofstede_dimension_value = int(row[hofstede_dimension])\n",
        "  \n",
        "  mean_value = total_sum/len(polar_list)\n",
        "  if hofstede_dimension_value > mean_value:\n",
        "    print(\"% difference\",hofstede_dimension_value - mean_value )\n",
        "  else:\n",
        "    print(\"% difference\",mean_value - hofstede_dimension_value )"
      ]
    },
    {
      "cell_type": "code",
      "execution_count": 78,
      "metadata": {
        "id": "c5dDgS6ZjG4R",
        "colab": {
          "base_uri": "https://localhost:8080/",
          "height": 382
        },
        "outputId": "f57de6ce-663a-45d9-b037-7d72414e140d"
      },
      "outputs": [
        {
          "output_type": "execute_result",
          "data": {
            "text/plain": [
              "       Country  Total Count   sick  Total Score Human  Polar Rank H  \\\n",
              "0  South Korea            4  100.0               70.0             1   \n",
              "1          USA           52   40.0               47.4             5   \n",
              "2  Switzerland            5   60.0               44.0             6   \n",
              "3      Britain           10   60.0               42.0             7   \n",
              "4        Japan           18   56.0               50.0             3   \n",
              "5       France            9   89.0               49.0             4   \n",
              "6      Germany           12   33.0               55.0             2   \n",
              "\n",
              "   Total Score Individual  Polar Rank I  Total Score Similar  Polar Rank S  \\\n",
              "0                    50.0             1                 55.0             5   \n",
              "1                    75.0             2                 50.6             3   \n",
              "2                    40.0             6                 48.0             1   \n",
              "3                    70.0             5                 46.0             4   \n",
              "4                    39.0             4                 43.2             7   \n",
              "5                    89.0             7                 42.2             6   \n",
              "6                    83.0             3                 41.8             2   \n",
              "\n",
              "   ctr Power distance index Individualism index Masculinity index  \\\n",
              "0  KOR                   60                  18                39   \n",
              "1  USA                   40                  91                62   \n",
              "2  SWI                   34                  68                70   \n",
              "3  GBR                   35                  89                66   \n",
              "4  JPN                   54                  46                95   \n",
              "5  FRA                   68                  71                43   \n",
              "6  GER                   35                  67                66   \n",
              "\n",
              "  Uncertainty avoidance index Long term orientation index Indulgence index  \n",
              "0                          85                         100               29  \n",
              "1                          46                          26               68  \n",
              "2                          58                          74               66  \n",
              "3                          35                          51               69  \n",
              "4                          92                          88               42  \n",
              "5                          86                          63               48  \n",
              "6                          65                          83               40  "
            ],
            "text/html": [
              "\n",
              "  <div id=\"df-e99c4cdf-b68b-4d53-8a03-c6f6e2b9f83f\">\n",
              "    <div class=\"colab-df-container\">\n",
              "      <div>\n",
              "<style scoped>\n",
              "    .dataframe tbody tr th:only-of-type {\n",
              "        vertical-align: middle;\n",
              "    }\n",
              "\n",
              "    .dataframe tbody tr th {\n",
              "        vertical-align: top;\n",
              "    }\n",
              "\n",
              "    .dataframe thead th {\n",
              "        text-align: right;\n",
              "    }\n",
              "</style>\n",
              "<table border=\"1\" class=\"dataframe\">\n",
              "  <thead>\n",
              "    <tr style=\"text-align: right;\">\n",
              "      <th></th>\n",
              "      <th>Country</th>\n",
              "      <th>Total Count</th>\n",
              "      <th>sick</th>\n",
              "      <th>Total Score Human</th>\n",
              "      <th>Polar Rank H</th>\n",
              "      <th>Total Score Individual</th>\n",
              "      <th>Polar Rank I</th>\n",
              "      <th>Total Score Similar</th>\n",
              "      <th>Polar Rank S</th>\n",
              "      <th>ctr</th>\n",
              "      <th>Power distance index</th>\n",
              "      <th>Individualism index</th>\n",
              "      <th>Masculinity index</th>\n",
              "      <th>Uncertainty avoidance index</th>\n",
              "      <th>Long term orientation index</th>\n",
              "      <th>Indulgence index</th>\n",
              "    </tr>\n",
              "  </thead>\n",
              "  <tbody>\n",
              "    <tr>\n",
              "      <th>0</th>\n",
              "      <td>South Korea</td>\n",
              "      <td>4</td>\n",
              "      <td>100.0</td>\n",
              "      <td>70.0</td>\n",
              "      <td>1</td>\n",
              "      <td>50.0</td>\n",
              "      <td>1</td>\n",
              "      <td>55.0</td>\n",
              "      <td>5</td>\n",
              "      <td>KOR</td>\n",
              "      <td>60</td>\n",
              "      <td>18</td>\n",
              "      <td>39</td>\n",
              "      <td>85</td>\n",
              "      <td>100</td>\n",
              "      <td>29</td>\n",
              "    </tr>\n",
              "    <tr>\n",
              "      <th>1</th>\n",
              "      <td>USA</td>\n",
              "      <td>52</td>\n",
              "      <td>40.0</td>\n",
              "      <td>47.4</td>\n",
              "      <td>5</td>\n",
              "      <td>75.0</td>\n",
              "      <td>2</td>\n",
              "      <td>50.6</td>\n",
              "      <td>3</td>\n",
              "      <td>USA</td>\n",
              "      <td>40</td>\n",
              "      <td>91</td>\n",
              "      <td>62</td>\n",
              "      <td>46</td>\n",
              "      <td>26</td>\n",
              "      <td>68</td>\n",
              "    </tr>\n",
              "    <tr>\n",
              "      <th>2</th>\n",
              "      <td>Switzerland</td>\n",
              "      <td>5</td>\n",
              "      <td>60.0</td>\n",
              "      <td>44.0</td>\n",
              "      <td>6</td>\n",
              "      <td>40.0</td>\n",
              "      <td>6</td>\n",
              "      <td>48.0</td>\n",
              "      <td>1</td>\n",
              "      <td>SWI</td>\n",
              "      <td>34</td>\n",
              "      <td>68</td>\n",
              "      <td>70</td>\n",
              "      <td>58</td>\n",
              "      <td>74</td>\n",
              "      <td>66</td>\n",
              "    </tr>\n",
              "    <tr>\n",
              "      <th>3</th>\n",
              "      <td>Britain</td>\n",
              "      <td>10</td>\n",
              "      <td>60.0</td>\n",
              "      <td>42.0</td>\n",
              "      <td>7</td>\n",
              "      <td>70.0</td>\n",
              "      <td>5</td>\n",
              "      <td>46.0</td>\n",
              "      <td>4</td>\n",
              "      <td>GBR</td>\n",
              "      <td>35</td>\n",
              "      <td>89</td>\n",
              "      <td>66</td>\n",
              "      <td>35</td>\n",
              "      <td>51</td>\n",
              "      <td>69</td>\n",
              "    </tr>\n",
              "    <tr>\n",
              "      <th>4</th>\n",
              "      <td>Japan</td>\n",
              "      <td>18</td>\n",
              "      <td>56.0</td>\n",
              "      <td>50.0</td>\n",
              "      <td>3</td>\n",
              "      <td>39.0</td>\n",
              "      <td>4</td>\n",
              "      <td>43.2</td>\n",
              "      <td>7</td>\n",
              "      <td>JPN</td>\n",
              "      <td>54</td>\n",
              "      <td>46</td>\n",
              "      <td>95</td>\n",
              "      <td>92</td>\n",
              "      <td>88</td>\n",
              "      <td>42</td>\n",
              "    </tr>\n",
              "    <tr>\n",
              "      <th>5</th>\n",
              "      <td>France</td>\n",
              "      <td>9</td>\n",
              "      <td>89.0</td>\n",
              "      <td>49.0</td>\n",
              "      <td>4</td>\n",
              "      <td>89.0</td>\n",
              "      <td>7</td>\n",
              "      <td>42.2</td>\n",
              "      <td>6</td>\n",
              "      <td>FRA</td>\n",
              "      <td>68</td>\n",
              "      <td>71</td>\n",
              "      <td>43</td>\n",
              "      <td>86</td>\n",
              "      <td>63</td>\n",
              "      <td>48</td>\n",
              "    </tr>\n",
              "    <tr>\n",
              "      <th>6</th>\n",
              "      <td>Germany</td>\n",
              "      <td>12</td>\n",
              "      <td>33.0</td>\n",
              "      <td>55.0</td>\n",
              "      <td>2</td>\n",
              "      <td>83.0</td>\n",
              "      <td>3</td>\n",
              "      <td>41.8</td>\n",
              "      <td>2</td>\n",
              "      <td>GER</td>\n",
              "      <td>35</td>\n",
              "      <td>67</td>\n",
              "      <td>66</td>\n",
              "      <td>65</td>\n",
              "      <td>83</td>\n",
              "      <td>40</td>\n",
              "    </tr>\n",
              "  </tbody>\n",
              "</table>\n",
              "</div>\n",
              "      <button class=\"colab-df-convert\" onclick=\"convertToInteractive('df-e99c4cdf-b68b-4d53-8a03-c6f6e2b9f83f')\"\n",
              "              title=\"Convert this dataframe to an interactive table.\"\n",
              "              style=\"display:none;\">\n",
              "        \n",
              "  <svg xmlns=\"http://www.w3.org/2000/svg\" height=\"24px\"viewBox=\"0 0 24 24\"\n",
              "       width=\"24px\">\n",
              "    <path d=\"M0 0h24v24H0V0z\" fill=\"none\"/>\n",
              "    <path d=\"M18.56 5.44l.94 2.06.94-2.06 2.06-.94-2.06-.94-.94-2.06-.94 2.06-2.06.94zm-11 1L8.5 8.5l.94-2.06 2.06-.94-2.06-.94L8.5 2.5l-.94 2.06-2.06.94zm10 10l.94 2.06.94-2.06 2.06-.94-2.06-.94-.94-2.06-.94 2.06-2.06.94z\"/><path d=\"M17.41 7.96l-1.37-1.37c-.4-.4-.92-.59-1.43-.59-.52 0-1.04.2-1.43.59L10.3 9.45l-7.72 7.72c-.78.78-.78 2.05 0 2.83L4 21.41c.39.39.9.59 1.41.59.51 0 1.02-.2 1.41-.59l7.78-7.78 2.81-2.81c.8-.78.8-2.07 0-2.86zM5.41 20L4 18.59l7.72-7.72 1.47 1.35L5.41 20z\"/>\n",
              "  </svg>\n",
              "      </button>\n",
              "      \n",
              "  <style>\n",
              "    .colab-df-container {\n",
              "      display:flex;\n",
              "      flex-wrap:wrap;\n",
              "      gap: 12px;\n",
              "    }\n",
              "\n",
              "    .colab-df-convert {\n",
              "      background-color: #E8F0FE;\n",
              "      border: none;\n",
              "      border-radius: 50%;\n",
              "      cursor: pointer;\n",
              "      display: none;\n",
              "      fill: #1967D2;\n",
              "      height: 32px;\n",
              "      padding: 0 0 0 0;\n",
              "      width: 32px;\n",
              "    }\n",
              "\n",
              "    .colab-df-convert:hover {\n",
              "      background-color: #E2EBFA;\n",
              "      box-shadow: 0px 1px 2px rgba(60, 64, 67, 0.3), 0px 1px 3px 1px rgba(60, 64, 67, 0.15);\n",
              "      fill: #174EA6;\n",
              "    }\n",
              "\n",
              "    [theme=dark] .colab-df-convert {\n",
              "      background-color: #3B4455;\n",
              "      fill: #D2E3FC;\n",
              "    }\n",
              "\n",
              "    [theme=dark] .colab-df-convert:hover {\n",
              "      background-color: #434B5C;\n",
              "      box-shadow: 0px 1px 3px 1px rgba(0, 0, 0, 0.15);\n",
              "      filter: drop-shadow(0px 1px 2px rgba(0, 0, 0, 0.3));\n",
              "      fill: #FFFFFF;\n",
              "    }\n",
              "  </style>\n",
              "\n",
              "      <script>\n",
              "        const buttonEl =\n",
              "          document.querySelector('#df-e99c4cdf-b68b-4d53-8a03-c6f6e2b9f83f button.colab-df-convert');\n",
              "        buttonEl.style.display =\n",
              "          google.colab.kernel.accessAllowed ? 'block' : 'none';\n",
              "\n",
              "        async function convertToInteractive(key) {\n",
              "          const element = document.querySelector('#df-e99c4cdf-b68b-4d53-8a03-c6f6e2b9f83f');\n",
              "          const dataTable =\n",
              "            await google.colab.kernel.invokeFunction('convertToInteractive',\n",
              "                                                     [key], {});\n",
              "          if (!dataTable) return;\n",
              "\n",
              "          const docLinkHtml = 'Like what you see? Visit the ' +\n",
              "            '<a target=\"_blank\" href=https://colab.research.google.com/notebooks/data_table.ipynb>data table notebook</a>'\n",
              "            + ' to learn more about interactive tables.';\n",
              "          element.innerHTML = '';\n",
              "          dataTable['output_type'] = 'display_data';\n",
              "          await google.colab.output.renderOutput(dataTable, element);\n",
              "          const docLink = document.createElement('div');\n",
              "          docLink.innerHTML = docLinkHtml;\n",
              "          element.appendChild(docLink);\n",
              "        }\n",
              "      </script>\n",
              "    </div>\n",
              "  </div>\n",
              "  "
            ]
          },
          "metadata": {},
          "execution_count": 78
        },
        {
          "output_type": "stream",
          "name": "stdout",
          "text": [
            "time: 23.3 ms (started: 2022-05-18 11:16:17 +00:00)\n"
          ]
        }
      ],
      "source": [
        "merged_df = pd.merge(company_df, hofstede_df, how='left',on='Country')\n",
        "merged_df.head(10)"
      ]
    },
    {
      "cell_type": "code",
      "execution_count": 64,
      "metadata": {
        "id": "4jDmU0aquwR2",
        "colab": {
          "base_uri": "https://localhost:8080/"
        },
        "outputId": "74836f3b-d407-457a-fa74-7257993b3ad6"
      },
      "outputs": [
        {
          "output_type": "stream",
          "name": "stdout",
          "text": [
            "[1, 2, 3, 4, 5, 6, 7]\n",
            "time: 10.6 ms (started: 2022-05-18 11:03:30 +00:00)\n"
          ]
        }
      ],
      "source": [
        "ranking_list = []\n",
        "for i in range(1,len(merged_df['Masculinity index'])+1):\n",
        "  ranking_list.append(i)\n",
        "\n",
        "print(ranking_list)"
      ]
    },
    {
      "cell_type": "code",
      "source": [
        "merged_df= merged_df.sort_values(by=['Masculinity index'],ascending=False)\n",
        "merged_df['Masculinity Ranking'] = ranking_list\n",
        "merged_df.head(10)"
      ],
      "metadata": {
        "colab": {
          "base_uri": "https://localhost:8080/",
          "height": 382
        },
        "id": "ImAUwXMK0n9x",
        "outputId": "a8e59ec8-552c-41c4-926d-3eba290b8a83"
      },
      "execution_count": 79,
      "outputs": [
        {
          "output_type": "execute_result",
          "data": {
            "text/plain": [
              "       Country  Total Count   sick  Total Score Human  Polar Rank H  \\\n",
              "4        Japan           18   56.0               50.0             3   \n",
              "2  Switzerland            5   60.0               44.0             6   \n",
              "3      Britain           10   60.0               42.0             7   \n",
              "6      Germany           12   33.0               55.0             2   \n",
              "1          USA           52   40.0               47.4             5   \n",
              "5       France            9   89.0               49.0             4   \n",
              "0  South Korea            4  100.0               70.0             1   \n",
              "\n",
              "   Total Score Individual  Polar Rank I  Total Score Similar  Polar Rank S  \\\n",
              "4                    39.0             4                 43.2             7   \n",
              "2                    40.0             6                 48.0             1   \n",
              "3                    70.0             5                 46.0             4   \n",
              "6                    83.0             3                 41.8             2   \n",
              "1                    75.0             2                 50.6             3   \n",
              "5                    89.0             7                 42.2             6   \n",
              "0                    50.0             1                 55.0             5   \n",
              "\n",
              "   ctr Power distance index Individualism index Masculinity index  \\\n",
              "4  JPN                   54                  46                95   \n",
              "2  SWI                   34                  68                70   \n",
              "3  GBR                   35                  89                66   \n",
              "6  GER                   35                  67                66   \n",
              "1  USA                   40                  91                62   \n",
              "5  FRA                   68                  71                43   \n",
              "0  KOR                   60                  18                39   \n",
              "\n",
              "  Uncertainty avoidance index Long term orientation index Indulgence index  \\\n",
              "4                          92                          88               42   \n",
              "2                          58                          74               66   \n",
              "3                          35                          51               69   \n",
              "6                          65                          83               40   \n",
              "1                          46                          26               68   \n",
              "5                          86                          63               48   \n",
              "0                          85                         100               29   \n",
              "\n",
              "   Masculinity Ranking  \n",
              "4                    1  \n",
              "2                    2  \n",
              "3                    3  \n",
              "6                    4  \n",
              "1                    5  \n",
              "5                    6  \n",
              "0                    7  "
            ],
            "text/html": [
              "\n",
              "  <div id=\"df-6a146b22-ff3f-4086-9629-e9189a195d15\">\n",
              "    <div class=\"colab-df-container\">\n",
              "      <div>\n",
              "<style scoped>\n",
              "    .dataframe tbody tr th:only-of-type {\n",
              "        vertical-align: middle;\n",
              "    }\n",
              "\n",
              "    .dataframe tbody tr th {\n",
              "        vertical-align: top;\n",
              "    }\n",
              "\n",
              "    .dataframe thead th {\n",
              "        text-align: right;\n",
              "    }\n",
              "</style>\n",
              "<table border=\"1\" class=\"dataframe\">\n",
              "  <thead>\n",
              "    <tr style=\"text-align: right;\">\n",
              "      <th></th>\n",
              "      <th>Country</th>\n",
              "      <th>Total Count</th>\n",
              "      <th>sick</th>\n",
              "      <th>Total Score Human</th>\n",
              "      <th>Polar Rank H</th>\n",
              "      <th>Total Score Individual</th>\n",
              "      <th>Polar Rank I</th>\n",
              "      <th>Total Score Similar</th>\n",
              "      <th>Polar Rank S</th>\n",
              "      <th>ctr</th>\n",
              "      <th>Power distance index</th>\n",
              "      <th>Individualism index</th>\n",
              "      <th>Masculinity index</th>\n",
              "      <th>Uncertainty avoidance index</th>\n",
              "      <th>Long term orientation index</th>\n",
              "      <th>Indulgence index</th>\n",
              "      <th>Masculinity Ranking</th>\n",
              "    </tr>\n",
              "  </thead>\n",
              "  <tbody>\n",
              "    <tr>\n",
              "      <th>4</th>\n",
              "      <td>Japan</td>\n",
              "      <td>18</td>\n",
              "      <td>56.0</td>\n",
              "      <td>50.0</td>\n",
              "      <td>3</td>\n",
              "      <td>39.0</td>\n",
              "      <td>4</td>\n",
              "      <td>43.2</td>\n",
              "      <td>7</td>\n",
              "      <td>JPN</td>\n",
              "      <td>54</td>\n",
              "      <td>46</td>\n",
              "      <td>95</td>\n",
              "      <td>92</td>\n",
              "      <td>88</td>\n",
              "      <td>42</td>\n",
              "      <td>1</td>\n",
              "    </tr>\n",
              "    <tr>\n",
              "      <th>2</th>\n",
              "      <td>Switzerland</td>\n",
              "      <td>5</td>\n",
              "      <td>60.0</td>\n",
              "      <td>44.0</td>\n",
              "      <td>6</td>\n",
              "      <td>40.0</td>\n",
              "      <td>6</td>\n",
              "      <td>48.0</td>\n",
              "      <td>1</td>\n",
              "      <td>SWI</td>\n",
              "      <td>34</td>\n",
              "      <td>68</td>\n",
              "      <td>70</td>\n",
              "      <td>58</td>\n",
              "      <td>74</td>\n",
              "      <td>66</td>\n",
              "      <td>2</td>\n",
              "    </tr>\n",
              "    <tr>\n",
              "      <th>3</th>\n",
              "      <td>Britain</td>\n",
              "      <td>10</td>\n",
              "      <td>60.0</td>\n",
              "      <td>42.0</td>\n",
              "      <td>7</td>\n",
              "      <td>70.0</td>\n",
              "      <td>5</td>\n",
              "      <td>46.0</td>\n",
              "      <td>4</td>\n",
              "      <td>GBR</td>\n",
              "      <td>35</td>\n",
              "      <td>89</td>\n",
              "      <td>66</td>\n",
              "      <td>35</td>\n",
              "      <td>51</td>\n",
              "      <td>69</td>\n",
              "      <td>3</td>\n",
              "    </tr>\n",
              "    <tr>\n",
              "      <th>6</th>\n",
              "      <td>Germany</td>\n",
              "      <td>12</td>\n",
              "      <td>33.0</td>\n",
              "      <td>55.0</td>\n",
              "      <td>2</td>\n",
              "      <td>83.0</td>\n",
              "      <td>3</td>\n",
              "      <td>41.8</td>\n",
              "      <td>2</td>\n",
              "      <td>GER</td>\n",
              "      <td>35</td>\n",
              "      <td>67</td>\n",
              "      <td>66</td>\n",
              "      <td>65</td>\n",
              "      <td>83</td>\n",
              "      <td>40</td>\n",
              "      <td>4</td>\n",
              "    </tr>\n",
              "    <tr>\n",
              "      <th>1</th>\n",
              "      <td>USA</td>\n",
              "      <td>52</td>\n",
              "      <td>40.0</td>\n",
              "      <td>47.4</td>\n",
              "      <td>5</td>\n",
              "      <td>75.0</td>\n",
              "      <td>2</td>\n",
              "      <td>50.6</td>\n",
              "      <td>3</td>\n",
              "      <td>USA</td>\n",
              "      <td>40</td>\n",
              "      <td>91</td>\n",
              "      <td>62</td>\n",
              "      <td>46</td>\n",
              "      <td>26</td>\n",
              "      <td>68</td>\n",
              "      <td>5</td>\n",
              "    </tr>\n",
              "    <tr>\n",
              "      <th>5</th>\n",
              "      <td>France</td>\n",
              "      <td>9</td>\n",
              "      <td>89.0</td>\n",
              "      <td>49.0</td>\n",
              "      <td>4</td>\n",
              "      <td>89.0</td>\n",
              "      <td>7</td>\n",
              "      <td>42.2</td>\n",
              "      <td>6</td>\n",
              "      <td>FRA</td>\n",
              "      <td>68</td>\n",
              "      <td>71</td>\n",
              "      <td>43</td>\n",
              "      <td>86</td>\n",
              "      <td>63</td>\n",
              "      <td>48</td>\n",
              "      <td>6</td>\n",
              "    </tr>\n",
              "    <tr>\n",
              "      <th>0</th>\n",
              "      <td>South Korea</td>\n",
              "      <td>4</td>\n",
              "      <td>100.0</td>\n",
              "      <td>70.0</td>\n",
              "      <td>1</td>\n",
              "      <td>50.0</td>\n",
              "      <td>1</td>\n",
              "      <td>55.0</td>\n",
              "      <td>5</td>\n",
              "      <td>KOR</td>\n",
              "      <td>60</td>\n",
              "      <td>18</td>\n",
              "      <td>39</td>\n",
              "      <td>85</td>\n",
              "      <td>100</td>\n",
              "      <td>29</td>\n",
              "      <td>7</td>\n",
              "    </tr>\n",
              "  </tbody>\n",
              "</table>\n",
              "</div>\n",
              "      <button class=\"colab-df-convert\" onclick=\"convertToInteractive('df-6a146b22-ff3f-4086-9629-e9189a195d15')\"\n",
              "              title=\"Convert this dataframe to an interactive table.\"\n",
              "              style=\"display:none;\">\n",
              "        \n",
              "  <svg xmlns=\"http://www.w3.org/2000/svg\" height=\"24px\"viewBox=\"0 0 24 24\"\n",
              "       width=\"24px\">\n",
              "    <path d=\"M0 0h24v24H0V0z\" fill=\"none\"/>\n",
              "    <path d=\"M18.56 5.44l.94 2.06.94-2.06 2.06-.94-2.06-.94-.94-2.06-.94 2.06-2.06.94zm-11 1L8.5 8.5l.94-2.06 2.06-.94-2.06-.94L8.5 2.5l-.94 2.06-2.06.94zm10 10l.94 2.06.94-2.06 2.06-.94-2.06-.94-.94-2.06-.94 2.06-2.06.94z\"/><path d=\"M17.41 7.96l-1.37-1.37c-.4-.4-.92-.59-1.43-.59-.52 0-1.04.2-1.43.59L10.3 9.45l-7.72 7.72c-.78.78-.78 2.05 0 2.83L4 21.41c.39.39.9.59 1.41.59.51 0 1.02-.2 1.41-.59l7.78-7.78 2.81-2.81c.8-.78.8-2.07 0-2.86zM5.41 20L4 18.59l7.72-7.72 1.47 1.35L5.41 20z\"/>\n",
              "  </svg>\n",
              "      </button>\n",
              "      \n",
              "  <style>\n",
              "    .colab-df-container {\n",
              "      display:flex;\n",
              "      flex-wrap:wrap;\n",
              "      gap: 12px;\n",
              "    }\n",
              "\n",
              "    .colab-df-convert {\n",
              "      background-color: #E8F0FE;\n",
              "      border: none;\n",
              "      border-radius: 50%;\n",
              "      cursor: pointer;\n",
              "      display: none;\n",
              "      fill: #1967D2;\n",
              "      height: 32px;\n",
              "      padding: 0 0 0 0;\n",
              "      width: 32px;\n",
              "    }\n",
              "\n",
              "    .colab-df-convert:hover {\n",
              "      background-color: #E2EBFA;\n",
              "      box-shadow: 0px 1px 2px rgba(60, 64, 67, 0.3), 0px 1px 3px 1px rgba(60, 64, 67, 0.15);\n",
              "      fill: #174EA6;\n",
              "    }\n",
              "\n",
              "    [theme=dark] .colab-df-convert {\n",
              "      background-color: #3B4455;\n",
              "      fill: #D2E3FC;\n",
              "    }\n",
              "\n",
              "    [theme=dark] .colab-df-convert:hover {\n",
              "      background-color: #434B5C;\n",
              "      box-shadow: 0px 1px 3px 1px rgba(0, 0, 0, 0.15);\n",
              "      filter: drop-shadow(0px 1px 2px rgba(0, 0, 0, 0.3));\n",
              "      fill: #FFFFFF;\n",
              "    }\n",
              "  </style>\n",
              "\n",
              "      <script>\n",
              "        const buttonEl =\n",
              "          document.querySelector('#df-6a146b22-ff3f-4086-9629-e9189a195d15 button.colab-df-convert');\n",
              "        buttonEl.style.display =\n",
              "          google.colab.kernel.accessAllowed ? 'block' : 'none';\n",
              "\n",
              "        async function convertToInteractive(key) {\n",
              "          const element = document.querySelector('#df-6a146b22-ff3f-4086-9629-e9189a195d15');\n",
              "          const dataTable =\n",
              "            await google.colab.kernel.invokeFunction('convertToInteractive',\n",
              "                                                     [key], {});\n",
              "          if (!dataTable) return;\n",
              "\n",
              "          const docLinkHtml = 'Like what you see? Visit the ' +\n",
              "            '<a target=\"_blank\" href=https://colab.research.google.com/notebooks/data_table.ipynb>data table notebook</a>'\n",
              "            + ' to learn more about interactive tables.';\n",
              "          element.innerHTML = '';\n",
              "          dataTable['output_type'] = 'display_data';\n",
              "          await google.colab.output.renderOutput(dataTable, element);\n",
              "          const docLink = document.createElement('div');\n",
              "          docLink.innerHTML = docLinkHtml;\n",
              "          element.appendChild(docLink);\n",
              "        }\n",
              "      </script>\n",
              "    </div>\n",
              "  </div>\n",
              "  "
            ]
          },
          "metadata": {},
          "execution_count": 79
        },
        {
          "output_type": "stream",
          "name": "stdout",
          "text": [
            "time: 21 ms (started: 2022-05-18 11:17:46 +00:00)\n"
          ]
        }
      ]
    },
    {
      "cell_type": "code",
      "execution_count": 68,
      "metadata": {
        "id": "fH163p2tu6zV",
        "colab": {
          "base_uri": "https://localhost:8080/",
          "height": 314
        },
        "outputId": "129ddb9a-ddd8-49ec-d573-92a06bf081a6"
      },
      "outputs": [
        {
          "output_type": "execute_result",
          "data": {
            "text/plain": [
              "<matplotlib.axes._subplots.AxesSubplot at 0x7f15d244e190>"
            ]
          },
          "metadata": {},
          "execution_count": 68
        },
        {
          "output_type": "display_data",
          "data": {
            "text/plain": [
              "<Figure size 432x288 with 1 Axes>"
            ],
            "image/png": "[encoded data removed]"
          },
          "metadata": {
            "needs_background": "light"
          }
        },
        {
          "output_type": "stream",
          "name": "stdout",
          "text": [
            "time: 397 ms (started: 2022-05-18 11:05:00 +00:00)\n"
          ]
        }
      ],
      "source": [
        "import seaborn as sns\n",
        "\n",
        "sns.regplot(x=merged_df[\"Masculinity Ranking\"], y=merged_df[\"Polar Rank H\"])"
      ]
    },
    {
      "cell_type": "code",
      "source": [
        "sns.regplot(x=merged_df[\"Masculinity Ranking\"], y=merged_df[\"Polar Rank I\"])"
      ],
      "metadata": {
        "colab": {
          "base_uri": "https://localhost:8080/",
          "height": 314
        },
        "id": "SyxQEVlt14_R",
        "outputId": "a9945d6a-ae76-4eba-af59-6b48fdc82019"
      },
      "execution_count": 69,
      "outputs": [
        {
          "output_type": "execute_result",
          "data": {
            "text/plain": [
              "<matplotlib.axes._subplots.AxesSubplot at 0x7f15d2a75f90>"
            ]
          },
          "metadata": {},
          "execution_count": 69
        },
        {
          "output_type": "display_data",
          "data": {
            "text/plain": [
              "<Figure size 432x288 with 1 Axes>"
            ],
            "image/png": "[encoded data removed]"
          },
          "metadata": {
            "needs_background": "light"
          }
        },
        {
          "output_type": "stream",
          "name": "stdout",
          "text": [
            "time: 244 ms (started: 2022-05-18 11:05:07 +00:00)\n"
          ]
        }
      ]
    },
    {
      "cell_type": "code",
      "source": [
        "sns.regplot(x=merged_df[\"Masculinity Ranking\"], y=merged_df[\"Polar Rank S\"])"
      ],
      "metadata": {
        "colab": {
          "base_uri": "https://localhost:8080/",
          "height": 314
        },
        "id": "w94wDhSa15LO",
        "outputId": "deeb8858-8855-40ca-b04e-8047ba33407e"
      },
      "execution_count": 70,
      "outputs": [
        {
          "output_type": "execute_result",
          "data": {
            "text/plain": [
              "<matplotlib.axes._subplots.AxesSubplot at 0x7f15d28e0250>"
            ]
          },
          "metadata": {},
          "execution_count": 70
        },
        {
          "output_type": "display_data",
          "data": {
            "text/plain": [
              "<Figure size 432x288 with 1 Axes>"
            ],
            "image/png": "[encoded data removed]"
          },
          "metadata": {
            "needs_background": "light"
          }
        },
        {
          "output_type": "stream",
          "name": "stdout",
          "text": [
            "time: 251 ms (started: 2022-05-18 11:05:12 +00:00)\n"
          ]
        }
      ]
    },
    {
      "cell_type": "code",
      "source": [
        "from sklearn.metrics import mean_absolute_error\n",
        "\n",
        "mae = []\n",
        "mae.append(mean_absolute_error(merged_df[\"Masculinity Ranking\"], merged_df[\"Polar Rank H\"]))\n",
        "mae.append(mean_absolute_error(merged_df[\"Masculinity Ranking\"], merged_df[\"Polar Rank I\"]))\n",
        "mae.append(mean_absolute_error(merged_df[\"Masculinity Ranking\"], merged_df[\"Polar Rank S\"]))"
      ],
      "metadata": {
        "colab": {
          "base_uri": "https://localhost:8080/"
        },
        "id": "DPIG6q0e6Ce3",
        "outputId": "efcf5987-fe97-4c8f-e709-4ed251eafd43"
      },
      "execution_count": 81,
      "outputs": [
        {
          "output_type": "stream",
          "name": "stdout",
          "text": [
            "time: 13.5 ms (started: 2022-05-18 11:24:07 +00:00)\n"
          ]
        }
      ]
    },
    {
      "cell_type": "code",
      "source": [
        "correlation = []\n",
        "correlation.append(merged_df[\"Polar Rank H\"].corr(merged_df[\"Masculinity Ranking\"]))\n",
        "correlation.append(merged_df[\"Polar Rank I\"].corr(merged_df[\"Masculinity Ranking\"]))\n",
        "correlation.append(merged_df[\"Polar Rank S\"].corr(merged_df[\"Masculinity Ranking\"]))"
      ],
      "metadata": {
        "colab": {
          "base_uri": "https://localhost:8080/"
        },
        "id": "G1pwiRww6UgF",
        "outputId": "67d43bc7-42d6-4dfc-b4fa-94ee5e3425f8"
      },
      "execution_count": 86,
      "outputs": [
        {
          "output_type": "stream",
          "name": "stdout",
          "text": [
            "time: 4.56 ms (started: 2022-05-18 11:30:03 +00:00)\n"
          ]
        }
      ]
    },
    {
      "cell_type": "code",
      "source": [
        "eval_data = {\"Mean Absolute Error\" : mae,\n",
        "             \"Correlation\" : correlation}\n",
        "\n",
        "eval_df = pd.DataFrame(eval_data, index =[\"Human Made List\", \"Individual List\", \"Similar List\"])\n",
        "eval_df.head()"
      ],
      "metadata": {
        "colab": {
          "base_uri": "https://localhost:8080/",
          "height": 161
        },
        "id": "DiqIzRA96TRu",
        "outputId": "8a5622ad-efe1-47eb-b1f3-ffc77e8c28e8"
      },
      "execution_count": 88,
      "outputs": [
        {
          "output_type": "execute_result",
          "data": {
            "text/plain": [
              "                 Mean Absolute Error  Correlation\n",
              "Human Made List             2.857143    -0.428571\n",
              "Individual List             2.857143    -0.357143\n",
              "Similar List                2.000000     0.107143"
            ],
            "text/html": [
              "\n",
              "  <div id=\"df-736b6d5b-1f9c-446c-b98c-be145fe4ef2c\">\n",
              "    <div class=\"colab-df-container\">\n",
              "      <div>\n",
              "<style scoped>\n",
              "    .dataframe tbody tr th:only-of-type {\n",
              "        vertical-align: middle;\n",
              "    }\n",
              "\n",
              "    .dataframe tbody tr th {\n",
              "        vertical-align: top;\n",
              "    }\n",
              "\n",
              "    .dataframe thead th {\n",
              "        text-align: right;\n",
              "    }\n",
              "</style>\n",
              "<table border=\"1\" class=\"dataframe\">\n",
              "  <thead>\n",
              "    <tr style=\"text-align: right;\">\n",
              "      <th></th>\n",
              "      <th>Mean Absolute Error</th>\n",
              "      <th>Correlation</th>\n",
              "    </tr>\n",
              "  </thead>\n",
              "  <tbody>\n",
              "    <tr>\n",
              "      <th>Human Made List</th>\n",
              "      <td>2.857143</td>\n",
              "      <td>-0.428571</td>\n",
              "    </tr>\n",
              "    <tr>\n",
              "      <th>Individual List</th>\n",
              "      <td>2.857143</td>\n",
              "      <td>-0.357143</td>\n",
              "    </tr>\n",
              "    <tr>\n",
              "      <th>Similar List</th>\n",
              "      <td>2.000000</td>\n",
              "      <td>0.107143</td>\n",
              "    </tr>\n",
              "  </tbody>\n",
              "</table>\n",
              "</div>\n",
              "      <button class=\"colab-df-convert\" onclick=\"convertToInteractive('df-736b6d5b-1f9c-446c-b98c-be145fe4ef2c')\"\n",
              "              title=\"Convert this dataframe to an interactive table.\"\n",
              "              style=\"display:none;\">\n",
              "        \n",
              "  <svg xmlns=\"http://www.w3.org/2000/svg\" height=\"24px\"viewBox=\"0 0 24 24\"\n",
              "       width=\"24px\">\n",
              "    <path d=\"M0 0h24v24H0V0z\" fill=\"none\"/>\n",
              "    <path d=\"M18.56 5.44l.94 2.06.94-2.06 2.06-.94-2.06-.94-.94-2.06-.94 2.06-2.06.94zm-11 1L8.5 8.5l.94-2.06 2.06-.94-2.06-.94L8.5 2.5l-.94 2.06-2.06.94zm10 10l.94 2.06.94-2.06 2.06-.94-2.06-.94-.94-2.06-.94 2.06-2.06.94z\"/><path d=\"M17.41 7.96l-1.37-1.37c-.4-.4-.92-.59-1.43-.59-.52 0-1.04.2-1.43.59L10.3 9.45l-7.72 7.72c-.78.78-.78 2.05 0 2.83L4 21.41c.39.39.9.59 1.41.59.51 0 1.02-.2 1.41-.59l7.78-7.78 2.81-2.81c.8-.78.8-2.07 0-2.86zM5.41 20L4 18.59l7.72-7.72 1.47 1.35L5.41 20z\"/>\n",
              "  </svg>\n",
              "      </button>\n",
              "      \n",
              "  <style>\n",
              "    .colab-df-container {\n",
              "      display:flex;\n",
              "      flex-wrap:wrap;\n",
              "      gap: 12px;\n",
              "    }\n",
              "\n",
              "    .colab-df-convert {\n",
              "      background-color: #E8F0FE;\n",
              "      border: none;\n",
              "      border-radius: 50%;\n",
              "      cursor: pointer;\n",
              "      display: none;\n",
              "      fill: #1967D2;\n",
              "      height: 32px;\n",
              "      padding: 0 0 0 0;\n",
              "      width: 32px;\n",
              "    }\n",
              "\n",
              "    .colab-df-convert:hover {\n",
              "      background-color: #E2EBFA;\n",
              "      box-shadow: 0px 1px 2px rgba(60, 64, 67, 0.3), 0px 1px 3px 1px rgba(60, 64, 67, 0.15);\n",
              "      fill: #174EA6;\n",
              "    }\n",
              "\n",
              "    [theme=dark] .colab-df-convert {\n",
              "      background-color: #3B4455;\n",
              "      fill: #D2E3FC;\n",
              "    }\n",
              "\n",
              "    [theme=dark] .colab-df-convert:hover {\n",
              "      background-color: #434B5C;\n",
              "      box-shadow: 0px 1px 3px 1px rgba(0, 0, 0, 0.15);\n",
              "      filter: drop-shadow(0px 1px 2px rgba(0, 0, 0, 0.3));\n",
              "      fill: #FFFFFF;\n",
              "    }\n",
              "  </style>\n",
              "\n",
              "      <script>\n",
              "        const buttonEl =\n",
              "          document.querySelector('#df-736b6d5b-1f9c-446c-b98c-be145fe4ef2c button.colab-df-convert');\n",
              "        buttonEl.style.display =\n",
              "          google.colab.kernel.accessAllowed ? 'block' : 'none';\n",
              "\n",
              "        async function convertToInteractive(key) {\n",
              "          const element = document.querySelector('#df-736b6d5b-1f9c-446c-b98c-be145fe4ef2c');\n",
              "          const dataTable =\n",
              "            await google.colab.kernel.invokeFunction('convertToInteractive',\n",
              "                                                     [key], {});\n",
              "          if (!dataTable) return;\n",
              "\n",
              "          const docLinkHtml = 'Like what you see? Visit the ' +\n",
              "            '<a target=\"_blank\" href=https://colab.research.google.com/notebooks/data_table.ipynb>data table notebook</a>'\n",
              "            + ' to learn more about interactive tables.';\n",
              "          element.innerHTML = '';\n",
              "          dataTable['output_type'] = 'display_data';\n",
              "          await google.colab.output.renderOutput(dataTable, element);\n",
              "          const docLink = document.createElement('div');\n",
              "          docLink.innerHTML = docLinkHtml;\n",
              "          element.appendChild(docLink);\n",
              "        }\n",
              "      </script>\n",
              "    </div>\n",
              "  </div>\n",
              "  "
            ]
          },
          "metadata": {},
          "execution_count": 88
        },
        {
          "output_type": "stream",
          "name": "stdout",
          "text": [
            "time: 24.9 ms (started: 2022-05-18 11:30:48 +00:00)\n"
          ]
        }
      ]
    }
  ],
  "metadata": {
    "colab": {
      "collapsed_sections": [],
      "name": "Polar Embedding.ipynb",
      "provenance": [],
      "authorship_tag": "ABX9TyOe07KsBAXBHsOD7W2zfu88",
      "include_colab_link": true
    },
    "kernelspec": {
      "display_name": "Python 3",
      "name": "python3"
    },
    "language_info": {
      "name": "python"
    },
    "widgets": {
      "application/vnd.jupyter.widget-state+json": {
        "afe83582fdc2421baec5ce5a34955343": {
          "model_module": "@jupyter-widgets/controls",
          "model_name": "HBoxModel",
          "model_module_version": "1.5.0",
          "state": {
            "_dom_classes": [],
            "_model_module": "@jupyter-widgets/controls",
            "_model_module_version": "1.5.0",
            "_model_name": "HBoxModel",
            "_view_count": null,
            "_view_module": "@jupyter-widgets/controls",
            "_view_module_version": "1.5.0",
            "_view_name": "HBoxView",
            "box_style": "",
            "children": [
              "IPY_MODEL_47aff8604bef4ea489ec1d865980fff5",
              "IPY_MODEL_674b2697743e4e26bb5578c4acc06adf",
              "IPY_MODEL_e3e0a26bd8804363b01a4fe9e53f5ba5"
            ],
            "layout": "IPY_MODEL_b2329340978d425a9ea9511d3cea6a72"
          }
        },
        "47aff8604bef4ea489ec1d865980fff5": {
          "model_module": "@jupyter-widgets/controls",
          "model_name": "HTMLModel",
          "model_module_version": "1.5.0",
          "state": {
            "_dom_classes": [],
            "_model_module": "@jupyter-widgets/controls",
            "_model_module_version": "1.5.0",
            "_model_name": "HTMLModel",
            "_view_count": null,
            "_view_module": "@jupyter-widgets/controls",
            "_view_module_version": "1.5.0",
            "_view_name": "HTMLView",
            "description": "",
            "description_tooltip": null,
            "layout": "IPY_MODEL_d0d277f1f1aa4ef58876c2c9049f3021",
            "placeholder": "​",
            "style": "IPY_MODEL_0523152a842b42969c67c276b1c2778f",
            "value": "100%"
          }
        },
        "674b2697743e4e26bb5578c4acc06adf": {
          "model_module": "@jupyter-widgets/controls",
          "model_name": "FloatProgressModel",
          "model_module_version": "1.5.0",
          "state": {
            "_dom_classes": [],
            "_model_module": "@jupyter-widgets/controls",
            "_model_module_version": "1.5.0",
            "_model_name": "FloatProgressModel",
            "_view_count": null,
            "_view_module": "@jupyter-widgets/controls",
            "_view_module_version": "1.5.0",
            "_view_name": "ProgressView",
            "bar_style": "success",
            "description": "",
            "description_tooltip": null,
            "layout": "IPY_MODEL_caf458b536a0401e8bd0c2343023719c",
            "max": 400000,
            "min": 0,
            "orientation": "horizontal",
            "style": "IPY_MODEL_3e69165958dc4bd8831236fdbbe11e5f",
            "value": 400000
          }
        },
        "e3e0a26bd8804363b01a4fe9e53f5ba5": {
          "model_module": "@jupyter-widgets/controls",
          "model_name": "HTMLModel",
          "model_module_version": "1.5.0",
          "state": {
            "_dom_classes": [],
            "_model_module": "@jupyter-widgets/controls",
            "_model_module_version": "1.5.0",
            "_model_name": "HTMLModel",
            "_view_count": null,
            "_view_module": "@jupyter-widgets/controls",
            "_view_module_version": "1.5.0",
            "_view_name": "HTMLView",
            "description": "",
            "description_tooltip": null,
            "layout": "IPY_MODEL_2290e6c81ba84ae09dc3a6718061f9c9",
            "placeholder": "​",
            "style": "IPY_MODEL_742b0959b28745879d32b74b10ad2390",
            "value": " 400000/400000 [00:06&lt;00:00, 59067.94it/s]"
          }
        },
        "b2329340978d425a9ea9511d3cea6a72": {
          "model_module": "@jupyter-widgets/base",
          "model_name": "LayoutModel",
          "model_module_version": "1.2.0",
          "state": {
            "_model_module": "@jupyter-widgets/base",
            "_model_module_version": "1.2.0",
            "_model_name": "LayoutModel",
            "_view_count": null,
            "_view_module": "@jupyter-widgets/base",
            "_view_module_version": "1.2.0",
            "_view_name": "LayoutView",
            "align_content": null,
            "align_items": null,
            "align_self": null,
            "border": null,
            "bottom": null,
            "display": null,
            "flex": null,
            "flex_flow": null,
            "grid_area": null,
            "grid_auto_columns": null,
            "grid_auto_flow": null,
            "grid_auto_rows": null,
            "grid_column": null,
            "grid_gap": null,
            "grid_row": null,
            "grid_template_areas": null,
            "grid_template_columns": null,
            "grid_template_rows": null,
            "height": null,
            "justify_content": null,
            "justify_items": null,
            "left": null,
            "margin": null,
            "max_height": null,
            "max_width": null,
            "min_height": null,
            "min_width": null,
            "object_fit": null,
            "object_position": null,
            "order": null,
            "overflow": null,
            "overflow_x": null,
            "overflow_y": null,
            "padding": null,
            "right": null,
            "top": null,
            "visibility": null,
            "width": null
          }
        },
        "d0d277f1f1aa4ef58876c2c9049f3021": {
          "model_module": "@jupyter-widgets/base",
          "model_name": "LayoutModel",
          "model_module_version": "1.2.0",
          "state": {
            "_model_module": "@jupyter-widgets/base",
            "_model_module_version": "1.2.0",
            "_model_name": "LayoutModel",
            "_view_count": null,
            "_view_module": "@jupyter-widgets/base",
            "_view_module_version": "1.2.0",
            "_view_name": "LayoutView",
            "align_content": null,
            "align_items": null,
            "align_self": null,
            "border": null,
            "bottom": null,
            "display": null,
            "flex": null,
            "flex_flow": null,
            "grid_area": null,
            "grid_auto_columns": null,
            "grid_auto_flow": null,
            "grid_auto_rows": null,
            "grid_column": null,
            "grid_gap": null,
            "grid_row": null,
            "grid_template_areas": null,
            "grid_template_columns": null,
            "grid_template_rows": null,
            "height": null,
            "justify_content": null,
            "justify_items": null,
            "left": null,
            "margin": null,
            "max_height": null,
            "max_width": null,
            "min_height": null,
            "min_width": null,
            "object_fit": null,
            "object_position": null,
            "order": null,
            "overflow": null,
            "overflow_x": null,
            "overflow_y": null,
            "padding": null,
            "right": null,
            "top": null,
            "visibility": null,
            "width": null
          }
        },
        "0523152a842b42969c67c276b1c2778f": {
          "model_module": "@jupyter-widgets/controls",
          "model_name": "DescriptionStyleModel",
          "model_module_version": "1.5.0",
          "state": {
            "_model_module": "@jupyter-widgets/controls",
            "_model_module_version": "1.5.0",
            "_model_name": "DescriptionStyleModel",
            "_view_count": null,
            "_view_module": "@jupyter-widgets/base",
            "_view_module_version": "1.2.0",
            "_view_name": "StyleView",
            "description_width": ""
          }
        },
        "caf458b536a0401e8bd0c2343023719c": {
          "model_module": "@jupyter-widgets/base",
          "model_name": "LayoutModel",
          "model_module_version": "1.2.0",
          "state": {
            "_model_module": "@jupyter-widgets/base",
            "_model_module_version": "1.2.0",
            "_model_name": "LayoutModel",
            "_view_count": null,
            "_view_module": "@jupyter-widgets/base",
            "_view_module_version": "1.2.0",
            "_view_name": "LayoutView",
            "align_content": null,
            "align_items": null,
            "align_self": null,
            "border": null,
            "bottom": null,
            "display": null,
            "flex": null,
            "flex_flow": null,
            "grid_area": null,
            "grid_auto_columns": null,
            "grid_auto_flow": null,
            "grid_auto_rows": null,
            "grid_column": null,
            "grid_gap": null,
            "grid_row": null,
            "grid_template_areas": null,
            "grid_template_columns": null,
            "grid_template_rows": null,
            "height": null,
            "justify_content": null,
            "justify_items": null,
            "left": null,
            "margin": null,
            "max_height": null,
            "max_width": null,
            "min_height": null,
            "min_width": null,
            "object_fit": null,
            "object_position": null,
            "order": null,
            "overflow": null,
            "overflow_x": null,
            "overflow_y": null,
            "padding": null,
            "right": null,
            "top": null,
            "visibility": null,
            "width": null
          }
        },
        "3e69165958dc4bd8831236fdbbe11e5f": {
          "model_module": "@jupyter-widgets/controls",
          "model_name": "ProgressStyleModel",
          "model_module_version": "1.5.0",
          "state": {
            "_model_module": "@jupyter-widgets/controls",
            "_model_module_version": "1.5.0",
            "_model_name": "ProgressStyleModel",
            "_view_count": null,
            "_view_module": "@jupyter-widgets/base",
            "_view_module_version": "1.2.0",
            "_view_name": "StyleView",
            "bar_color": null,
            "description_width": ""
          }
        },
        "2290e6c81ba84ae09dc3a6718061f9c9": {
          "model_module": "@jupyter-widgets/base",
          "model_name": "LayoutModel",
          "model_module_version": "1.2.0",
          "state": {
            "_model_module": "@jupyter-widgets/base",
            "_model_module_version": "1.2.0",
            "_model_name": "LayoutModel",
            "_view_count": null,
            "_view_module": "@jupyter-widgets/base",
            "_view_module_version": "1.2.0",
            "_view_name": "LayoutView",
            "align_content": null,
            "align_items": null,
            "align_self": null,
            "border": null,
            "bottom": null,
            "display": null,
            "flex": null,
            "flex_flow": null,
            "grid_area": null,
            "grid_auto_columns": null,
            "grid_auto_flow": null,
            "grid_auto_rows": null,
            "grid_column": null,
            "grid_gap": null,
            "grid_row": null,
            "grid_template_areas": null,
            "grid_template_columns": null,
            "grid_template_rows": null,
            "height": null,
            "justify_content": null,
            "justify_items": null,
            "left": null,
            "margin": null,
            "max_height": null,
            "max_width": null,
            "min_height": null,
            "min_width": null,
            "object_fit": null,
            "object_position": null,
            "order": null,
            "overflow": null,
            "overflow_x": null,
            "overflow_y": null,
            "padding": null,
            "right": null,
            "top": null,
            "visibility": null,
            "width": null
          }
        },
        "742b0959b28745879d32b74b10ad2390": {
          "model_module": "@jupyter-widgets/controls",
          "model_name": "DescriptionStyleModel",
          "model_module_version": "1.5.0",
          "state": {
            "_model_module": "@jupyter-widgets/controls",
            "_model_module_version": "1.5.0",
            "_model_name": "DescriptionStyleModel",
            "_view_count": null,
            "_view_module": "@jupyter-widgets/base",
            "_view_module_version": "1.2.0",
            "_view_name": "StyleView",
            "description_width": ""
          }
        },
        "2461b76f50c5428da5484e610f063e05": {
          "model_module": "@jupyter-widgets/controls",
          "model_name": "HBoxModel",
          "model_module_version": "1.5.0",
          "state": {
            "_dom_classes": [],
            "_model_module": "@jupyter-widgets/controls",
            "_model_module_version": "1.5.0",
            "_model_name": "HBoxModel",
            "_view_count": null,
            "_view_module": "@jupyter-widgets/controls",
            "_view_module_version": "1.5.0",
            "_view_name": "HBoxView",
            "box_style": "",
            "children": [
              "IPY_MODEL_a5c8a66a02f64ff187c8d9b4254ba639",
              "IPY_MODEL_d40d595a67bf4a17b91209aff4104e41",
              "IPY_MODEL_ffea567122f449f6a7fd7dc536cf169b"
            ],
            "layout": "IPY_MODEL_cf19cef1052f4bd4994b78b1a8d8eba8"
          }
        },
        "a5c8a66a02f64ff187c8d9b4254ba639": {
          "model_module": "@jupyter-widgets/controls",
          "model_name": "HTMLModel",
          "model_module_version": "1.5.0",
          "state": {
            "_dom_classes": [],
            "_model_module": "@jupyter-widgets/controls",
            "_model_module_version": "1.5.0",
            "_model_name": "HTMLModel",
            "_view_count": null,
            "_view_module": "@jupyter-widgets/controls",
            "_view_module_version": "1.5.0",
            "_view_name": "HTMLView",
            "description": "",
            "description_tooltip": null,
            "layout": "IPY_MODEL_340fd8afb8ac4a818157727177ff1fa9",
            "placeholder": "​",
            "style": "IPY_MODEL_43a3204f1ddb476590218ad38aab7834",
            "value": "100%"
          }
        },
        "d40d595a67bf4a17b91209aff4104e41": {
          "model_module": "@jupyter-widgets/controls",
          "model_name": "FloatProgressModel",
          "model_module_version": "1.5.0",
          "state": {
            "_dom_classes": [],
            "_model_module": "@jupyter-widgets/controls",
            "_model_module_version": "1.5.0",
            "_model_name": "FloatProgressModel",
            "_view_count": null,
            "_view_module": "@jupyter-widgets/controls",
            "_view_module_version": "1.5.0",
            "_view_name": "ProgressView",
            "bar_style": "success",
            "description": "",
            "description_tooltip": null,
            "layout": "IPY_MODEL_9ac3448f1a2645908f77532edbdcb254",
            "max": 11,
            "min": 0,
            "orientation": "horizontal",
            "style": "IPY_MODEL_5afe7092276245d38d219279f91a3dfd",
            "value": 11
          }
        },
        "ffea567122f449f6a7fd7dc536cf169b": {
          "model_module": "@jupyter-widgets/controls",
          "model_name": "HTMLModel",
          "model_module_version": "1.5.0",
          "state": {
            "_dom_classes": [],
            "_model_module": "@jupyter-widgets/controls",
            "_model_module_version": "1.5.0",
            "_model_name": "HTMLModel",
            "_view_count": null,
            "_view_module": "@jupyter-widgets/controls",
            "_view_module_version": "1.5.0",
            "_view_name": "HTMLView",
            "description": "",
            "description_tooltip": null,
            "layout": "IPY_MODEL_d2ad4ec6607f418babd889f44609b7a8",
            "placeholder": "​",
            "style": "IPY_MODEL_17ef2ea1d7c7403aa040ad9c08a45d98",
            "value": " 11/11 [00:00&lt;00:00, 178.68it/s]"
          }
        },
        "cf19cef1052f4bd4994b78b1a8d8eba8": {
          "model_module": "@jupyter-widgets/base",
          "model_name": "LayoutModel",
          "model_module_version": "1.2.0",
          "state": {
            "_model_module": "@jupyter-widgets/base",
            "_model_module_version": "1.2.0",
            "_model_name": "LayoutModel",
            "_view_count": null,
            "_view_module": "@jupyter-widgets/base",
            "_view_module_version": "1.2.0",
            "_view_name": "LayoutView",
            "align_content": null,
            "align_items": null,
            "align_self": null,
            "border": null,
            "bottom": null,
            "display": null,
            "flex": null,
            "flex_flow": null,
            "grid_area": null,
            "grid_auto_columns": null,
            "grid_auto_flow": null,
            "grid_auto_rows": null,
            "grid_column": null,
            "grid_gap": null,
            "grid_row": null,
            "grid_template_areas": null,
            "grid_template_columns": null,
            "grid_template_rows": null,
            "height": null,
            "justify_content": null,
            "justify_items": null,
            "left": null,
            "margin": null,
            "max_height": null,
            "max_width": null,
            "min_height": null,
            "min_width": null,
            "object_fit": null,
            "object_position": null,
            "order": null,
            "overflow": null,
            "overflow_x": null,
            "overflow_y": null,
            "padding": null,
            "right": null,
            "top": null,
            "visibility": null,
            "width": null
          }
        },
        "340fd8afb8ac4a818157727177ff1fa9": {
          "model_module": "@jupyter-widgets/base",
          "model_name": "LayoutModel",
          "model_module_version": "1.2.0",
          "state": {
            "_model_module": "@jupyter-widgets/base",
            "_model_module_version": "1.2.0",
            "_model_name": "LayoutModel",
            "_view_count": null,
            "_view_module": "@jupyter-widgets/base",
            "_view_module_version": "1.2.0",
            "_view_name": "LayoutView",
            "align_content": null,
            "align_items": null,
            "align_self": null,
            "border": null,
            "bottom": null,
            "display": null,
            "flex": null,
            "flex_flow": null,
            "grid_area": null,
            "grid_auto_columns": null,
            "grid_auto_flow": null,
            "grid_auto_rows": null,
            "grid_column": null,
            "grid_gap": null,
            "grid_row": null,
            "grid_template_areas": null,
            "grid_template_columns": null,
            "grid_template_rows": null,
            "height": null,
            "justify_content": null,
            "justify_items": null,
            "left": null,
            "margin": null,
            "max_height": null,
            "max_width": null,
            "min_height": null,
            "min_width": null,
            "object_fit": null,
            "object_position": null,
            "order": null,
            "overflow": null,
            "overflow_x": null,
            "overflow_y": null,
            "padding": null,
            "right": null,
            "top": null,
            "visibility": null,
            "width": null
          }
        },
        "43a3204f1ddb476590218ad38aab7834": {
          "model_module": "@jupyter-widgets/controls",
          "model_name": "DescriptionStyleModel",
          "model_module_version": "1.5.0",
          "state": {
            "_model_module": "@jupyter-widgets/controls",
            "_model_module_version": "1.5.0",
            "_model_name": "DescriptionStyleModel",
            "_view_count": null,
            "_view_module": "@jupyter-widgets/base",
            "_view_module_version": "1.2.0",
            "_view_name": "StyleView",
            "description_width": ""
          }
        },
        "9ac3448f1a2645908f77532edbdcb254": {
          "model_module": "@jupyter-widgets/base",
          "model_name": "LayoutModel",
          "model_module_version": "1.2.0",
          "state": {
            "_model_module": "@jupyter-widgets/base",
            "_model_module_version": "1.2.0",
            "_model_name": "LayoutModel",
            "_view_count": null,
            "_view_module": "@jupyter-widgets/base",
            "_view_module_version": "1.2.0",
            "_view_name": "LayoutView",
            "align_content": null,
            "align_items": null,
            "align_self": null,
            "border": null,
            "bottom": null,
            "display": null,
            "flex": null,
            "flex_flow": null,
            "grid_area": null,
            "grid_auto_columns": null,
            "grid_auto_flow": null,
            "grid_auto_rows": null,
            "grid_column": null,
            "grid_gap": null,
            "grid_row": null,
            "grid_template_areas": null,
            "grid_template_columns": null,
            "grid_template_rows": null,
            "height": null,
            "justify_content": null,
            "justify_items": null,
            "left": null,
            "margin": null,
            "max_height": null,
            "max_width": null,
            "min_height": null,
            "min_width": null,
            "object_fit": null,
            "object_position": null,
            "order": null,
            "overflow": null,
            "overflow_x": null,
            "overflow_y": null,
            "padding": null,
            "right": null,
            "top": null,
            "visibility": null,
            "width": null
          }
        },
        "5afe7092276245d38d219279f91a3dfd": {
          "model_module": "@jupyter-widgets/controls",
          "model_name": "ProgressStyleModel",
          "model_module_version": "1.5.0",
          "state": {
            "_model_module": "@jupyter-widgets/controls",
            "_model_module_version": "1.5.0",
            "_model_name": "ProgressStyleModel",
            "_view_count": null,
            "_view_module": "@jupyter-widgets/base",
            "_view_module_version": "1.2.0",
            "_view_name": "StyleView",
            "bar_color": null,
            "description_width": ""
          }
        },
        "d2ad4ec6607f418babd889f44609b7a8": {
          "model_module": "@jupyter-widgets/base",
          "model_name": "LayoutModel",
          "model_module_version": "1.2.0",
          "state": {
            "_model_module": "@jupyter-widgets/base",
            "_model_module_version": "1.2.0",
            "_model_name": "LayoutModel",
            "_view_count": null,
            "_view_module": "@jupyter-widgets/base",
            "_view_module_version": "1.2.0",
            "_view_name": "LayoutView",
            "align_content": null,
            "align_items": null,
            "align_self": null,
            "border": null,
            "bottom": null,
            "display": null,
            "flex": null,
            "flex_flow": null,
            "grid_area": null,
            "grid_auto_columns": null,
            "grid_auto_flow": null,
            "grid_auto_rows": null,
            "grid_column": null,
            "grid_gap": null,
            "grid_row": null,
            "grid_template_areas": null,
            "grid_template_columns": null,
            "grid_template_rows": null,
            "height": null,
            "justify_content": null,
            "justify_items": null,
            "left": null,
            "margin": null,
            "max_height": null,
            "max_width": null,
            "min_height": null,
            "min_width": null,
            "object_fit": null,
            "object_position": null,
            "order": null,
            "overflow": null,
            "overflow_x": null,
            "overflow_y": null,
            "padding": null,
            "right": null,
            "top": null,
            "visibility": null,
            "width": null
          }
        },
        "17ef2ea1d7c7403aa040ad9c08a45d98": {
          "model_module": "@jupyter-widgets/controls",
          "model_name": "DescriptionStyleModel",
          "model_module_version": "1.5.0",
          "state": {
            "_model_module": "@jupyter-widgets/controls",
            "_model_module_version": "1.5.0",
            "_model_name": "DescriptionStyleModel",
            "_view_count": null,
            "_view_module": "@jupyter-widgets/base",
            "_view_module_version": "1.2.0",
            "_view_name": "StyleView",
            "description_width": ""
          }
        },
        "b9ebf0b714354c0088d31d86f9a8f6e9": {
          "model_module": "@jupyter-widgets/controls",
          "model_name": "HBoxModel",
          "model_module_version": "1.5.0",
          "state": {
            "_dom_classes": [],
            "_model_module": "@jupyter-widgets/controls",
            "_model_module_version": "1.5.0",
            "_model_name": "HBoxModel",
            "_view_count": null,
            "_view_module": "@jupyter-widgets/controls",
            "_view_module_version": "1.5.0",
            "_view_name": "HBoxView",
            "box_style": "",
            "children": [
              "IPY_MODEL_32f9a92af5044e6da0b4db4e0768337f",
              "IPY_MODEL_d306b8f5c4a7422da90aa4f604686fd8",
              "IPY_MODEL_60b7db34dbdc4b61bfc9c114d83030c0"
            ],
            "layout": "IPY_MODEL_a9a885fc5a2d407ca0f06e05e5334b66"
          }
        },
        "32f9a92af5044e6da0b4db4e0768337f": {
          "model_module": "@jupyter-widgets/controls",
          "model_name": "HTMLModel",
          "model_module_version": "1.5.0",
          "state": {
            "_dom_classes": [],
            "_model_module": "@jupyter-widgets/controls",
            "_model_module_version": "1.5.0",
            "_model_name": "HTMLModel",
            "_view_count": null,
            "_view_module": "@jupyter-widgets/controls",
            "_view_module_version": "1.5.0",
            "_view_name": "HTMLView",
            "description": "",
            "description_tooltip": null,
            "layout": "IPY_MODEL_74dcae5a40054e5faee3afbe751e4489",
            "placeholder": "​",
            "style": "IPY_MODEL_3f861a2e08f74f9c9cdb7a5201a8af1a",
            "value": "100%"
          }
        },
        "d306b8f5c4a7422da90aa4f604686fd8": {
          "model_module": "@jupyter-widgets/controls",
          "model_name": "FloatProgressModel",
          "model_module_version": "1.5.0",
          "state": {
            "_dom_classes": [],
            "_model_module": "@jupyter-widgets/controls",
            "_model_module_version": "1.5.0",
            "_model_name": "FloatProgressModel",
            "_view_count": null,
            "_view_module": "@jupyter-widgets/controls",
            "_view_module_version": "1.5.0",
            "_view_name": "ProgressView",
            "bar_style": "success",
            "description": "",
            "description_tooltip": null,
            "layout": "IPY_MODEL_1cf71e4b11dc4545a3617808cef0eee6",
            "max": 11,
            "min": 0,
            "orientation": "horizontal",
            "style": "IPY_MODEL_5af18ad22c89463c82acf6dcb1307670",
            "value": 11
          }
        },
        "60b7db34dbdc4b61bfc9c114d83030c0": {
          "model_module": "@jupyter-widgets/controls",
          "model_name": "HTMLModel",
          "model_module_version": "1.5.0",
          "state": {
            "_dom_classes": [],
            "_model_module": "@jupyter-widgets/controls",
            "_model_module_version": "1.5.0",
            "_model_name": "HTMLModel",
            "_view_count": null,
            "_view_module": "@jupyter-widgets/controls",
            "_view_module_version": "1.5.0",
            "_view_name": "HTMLView",
            "description": "",
            "description_tooltip": null,
            "layout": "IPY_MODEL_fc6ddca607bc4e05bc3ea6ab1e353227",
            "placeholder": "​",
            "style": "IPY_MODEL_5eb1ade7b174491e883c3d1887bcd1f7",
            "value": " 11/11 [00:00&lt;00:00, 145.10it/s]"
          }
        },
        "a9a885fc5a2d407ca0f06e05e5334b66": {
          "model_module": "@jupyter-widgets/base",
          "model_name": "LayoutModel",
          "model_module_version": "1.2.0",
          "state": {
            "_model_module": "@jupyter-widgets/base",
            "_model_module_version": "1.2.0",
            "_model_name": "LayoutModel",
            "_view_count": null,
            "_view_module": "@jupyter-widgets/base",
            "_view_module_version": "1.2.0",
            "_view_name": "LayoutView",
            "align_content": null,
            "align_items": null,
            "align_self": null,
            "border": null,
            "bottom": null,
            "display": null,
            "flex": null,
            "flex_flow": null,
            "grid_area": null,
            "grid_auto_columns": null,
            "grid_auto_flow": null,
            "grid_auto_rows": null,
            "grid_column": null,
            "grid_gap": null,
            "grid_row": null,
            "grid_template_areas": null,
            "grid_template_columns": null,
            "grid_template_rows": null,
            "height": null,
            "justify_content": null,
            "justify_items": null,
            "left": null,
            "margin": null,
            "max_height": null,
            "max_width": null,
            "min_height": null,
            "min_width": null,
            "object_fit": null,
            "object_position": null,
            "order": null,
            "overflow": null,
            "overflow_x": null,
            "overflow_y": null,
            "padding": null,
            "right": null,
            "top": null,
            "visibility": null,
            "width": null
          }
        },
        "74dcae5a40054e5faee3afbe751e4489": {
          "model_module": "@jupyter-widgets/base",
          "model_name": "LayoutModel",
          "model_module_version": "1.2.0",
          "state": {
            "_model_module": "@jupyter-widgets/base",
            "_model_module_version": "1.2.0",
            "_model_name": "LayoutModel",
            "_view_count": null,
            "_view_module": "@jupyter-widgets/base",
            "_view_module_version": "1.2.0",
            "_view_name": "LayoutView",
            "align_content": null,
            "align_items": null,
            "align_self": null,
            "border": null,
            "bottom": null,
            "display": null,
            "flex": null,
            "flex_flow": null,
            "grid_area": null,
            "grid_auto_columns": null,
            "grid_auto_flow": null,
            "grid_auto_rows": null,
            "grid_column": null,
            "grid_gap": null,
            "grid_row": null,
            "grid_template_areas": null,
            "grid_template_columns": null,
            "grid_template_rows": null,
            "height": null,
            "justify_content": null,
            "justify_items": null,
            "left": null,
            "margin": null,
            "max_height": null,
            "max_width": null,
            "min_height": null,
            "min_width": null,
            "object_fit": null,
            "object_position": null,
            "order": null,
            "overflow": null,
            "overflow_x": null,
            "overflow_y": null,
            "padding": null,
            "right": null,
            "top": null,
            "visibility": null,
            "width": null
          }
        },
        "3f861a2e08f74f9c9cdb7a5201a8af1a": {
          "model_module": "@jupyter-widgets/controls",
          "model_name": "DescriptionStyleModel",
          "model_module_version": "1.5.0",
          "state": {
            "_model_module": "@jupyter-widgets/controls",
            "_model_module_version": "1.5.0",
            "_model_name": "DescriptionStyleModel",
            "_view_count": null,
            "_view_module": "@jupyter-widgets/base",
            "_view_module_version": "1.2.0",
            "_view_name": "StyleView",
            "description_width": ""
          }
        },
        "1cf71e4b11dc4545a3617808cef0eee6": {
          "model_module": "@jupyter-widgets/base",
          "model_name": "LayoutModel",
          "model_module_version": "1.2.0",
          "state": {
            "_model_module": "@jupyter-widgets/base",
            "_model_module_version": "1.2.0",
            "_model_name": "LayoutModel",
            "_view_count": null,
            "_view_module": "@jupyter-widgets/base",
            "_view_module_version": "1.2.0",
            "_view_name": "LayoutView",
            "align_content": null,
            "align_items": null,
            "align_self": null,
            "border": null,
            "bottom": null,
            "display": null,
            "flex": null,
            "flex_flow": null,
            "grid_area": null,
            "grid_auto_columns": null,
            "grid_auto_flow": null,
            "grid_auto_rows": null,
            "grid_column": null,
            "grid_gap": null,
            "grid_row": null,
            "grid_template_areas": null,
            "grid_template_columns": null,
            "grid_template_rows": null,
            "height": null,
            "justify_content": null,
            "justify_items": null,
            "left": null,
            "margin": null,
            "max_height": null,
            "max_width": null,
            "min_height": null,
            "min_width": null,
            "object_fit": null,
            "object_position": null,
            "order": null,
            "overflow": null,
            "overflow_x": null,
            "overflow_y": null,
            "padding": null,
            "right": null,
            "top": null,
            "visibility": null,
            "width": null
          }
        },
        "5af18ad22c89463c82acf6dcb1307670": {
          "model_module": "@jupyter-widgets/controls",
          "model_name": "ProgressStyleModel",
          "model_module_version": "1.5.0",
          "state": {
            "_model_module": "@jupyter-widgets/controls",
            "_model_module_version": "1.5.0",
            "_model_name": "ProgressStyleModel",
            "_view_count": null,
            "_view_module": "@jupyter-widgets/base",
            "_view_module_version": "1.2.0",
            "_view_name": "StyleView",
            "bar_color": null,
            "description_width": ""
          }
        },
        "fc6ddca607bc4e05bc3ea6ab1e353227": {
          "model_module": "@jupyter-widgets/base",
          "model_name": "LayoutModel",
          "model_module_version": "1.2.0",
          "state": {
            "_model_module": "@jupyter-widgets/base",
            "_model_module_version": "1.2.0",
            "_model_name": "LayoutModel",
            "_view_count": null,
            "_view_module": "@jupyter-widgets/base",
            "_view_module_version": "1.2.0",
            "_view_name": "LayoutView",
            "align_content": null,
            "align_items": null,
            "align_self": null,
            "border": null,
            "bottom": null,
            "display": null,
            "flex": null,
            "flex_flow": null,
            "grid_area": null,
            "grid_auto_columns": null,
            "grid_auto_flow": null,
            "grid_auto_rows": null,
            "grid_column": null,
            "grid_gap": null,
            "grid_row": null,
            "grid_template_areas": null,
            "grid_template_columns": null,
            "grid_template_rows": null,
            "height": null,
            "justify_content": null,
            "justify_items": null,
            "left": null,
            "margin": null,
            "max_height": null,
            "max_width": null,
            "min_height": null,
            "min_width": null,
            "object_fit": null,
            "object_position": null,
            "order": null,
            "overflow": null,
            "overflow_x": null,
            "overflow_y": null,
            "padding": null,
            "right": null,
            "top": null,
            "visibility": null,
            "width": null
          }
        },
        "5eb1ade7b174491e883c3d1887bcd1f7": {
          "model_module": "@jupyter-widgets/controls",
          "model_name": "DescriptionStyleModel",
          "model_module_version": "1.5.0",
          "state": {
            "_model_module": "@jupyter-widgets/controls",
            "_model_module_version": "1.5.0",
            "_model_name": "DescriptionStyleModel",
            "_view_count": null,
            "_view_module": "@jupyter-widgets/base",
            "_view_module_version": "1.2.0",
            "_view_name": "StyleView",
            "description_width": ""
          }
        },
        "5c1931ff7e2844dc8d8e8eb3c995beca": {
          "model_module": "@jupyter-widgets/controls",
          "model_name": "HBoxModel",
          "model_module_version": "1.5.0",
          "state": {
            "_dom_classes": [],
            "_model_module": "@jupyter-widgets/controls",
            "_model_module_version": "1.5.0",
            "_model_name": "HBoxModel",
            "_view_count": null,
            "_view_module": "@jupyter-widgets/controls",
            "_view_module_version": "1.5.0",
            "_view_name": "HBoxView",
            "box_style": "",
            "children": [
              "IPY_MODEL_09fde1f286984230b5996aa52026f896",
              "IPY_MODEL_c121396a8ac045b4a5c7279bae106dea",
              "IPY_MODEL_c18df6cf5d014f26bb34e084cf9acdf8"
            ],
            "layout": "IPY_MODEL_410d01de32e24ccfb652e0d563e96212"
          }
        },
        "09fde1f286984230b5996aa52026f896": {
          "model_module": "@jupyter-widgets/controls",
          "model_name": "HTMLModel",
          "model_module_version": "1.5.0",
          "state": {
            "_dom_classes": [],
            "_model_module": "@jupyter-widgets/controls",
            "_model_module_version": "1.5.0",
            "_model_name": "HTMLModel",
            "_view_count": null,
            "_view_module": "@jupyter-widgets/controls",
            "_view_module_version": "1.5.0",
            "_view_name": "HTMLView",
            "description": "",
            "description_tooltip": null,
            "layout": "IPY_MODEL_2b038cb831d24b57b550066eab8fb17f",
            "placeholder": "​",
            "style": "IPY_MODEL_d4add83e74ba473e9ca811e3e5f3871f",
            "value": "100%"
          }
        },
        "c121396a8ac045b4a5c7279bae106dea": {
          "model_module": "@jupyter-widgets/controls",
          "model_name": "FloatProgressModel",
          "model_module_version": "1.5.0",
          "state": {
            "_dom_classes": [],
            "_model_module": "@jupyter-widgets/controls",
            "_model_module_version": "1.5.0",
            "_model_name": "FloatProgressModel",
            "_view_count": null,
            "_view_module": "@jupyter-widgets/controls",
            "_view_module_version": "1.5.0",
            "_view_name": "ProgressView",
            "bar_style": "success",
            "description": "",
            "description_tooltip": null,
            "layout": "IPY_MODEL_d19b846e31264ad1ac89a67126317a34",
            "max": 11,
            "min": 0,
            "orientation": "horizontal",
            "style": "IPY_MODEL_a0c15e66353c404aab2b21f59c281269",
            "value": 11
          }
        },
        "c18df6cf5d014f26bb34e084cf9acdf8": {
          "model_module": "@jupyter-widgets/controls",
          "model_name": "HTMLModel",
          "model_module_version": "1.5.0",
          "state": {
            "_dom_classes": [],
            "_model_module": "@jupyter-widgets/controls",
            "_model_module_version": "1.5.0",
            "_model_name": "HTMLModel",
            "_view_count": null,
            "_view_module": "@jupyter-widgets/controls",
            "_view_module_version": "1.5.0",
            "_view_name": "HTMLView",
            "description": "",
            "description_tooltip": null,
            "layout": "IPY_MODEL_1c7649644bb14218a21bb4e9eb4e3f0f",
            "placeholder": "​",
            "style": "IPY_MODEL_97172d2b69eb4cf0921cbfa3b1b749a6",
            "value": " 11/11 [00:00&lt;00:00, 226.58it/s]"
          }
        },
        "410d01de32e24ccfb652e0d563e96212": {
          "model_module": "@jupyter-widgets/base",
          "model_name": "LayoutModel",
          "model_module_version": "1.2.0",
          "state": {
            "_model_module": "@jupyter-widgets/base",
            "_model_module_version": "1.2.0",
            "_model_name": "LayoutModel",
            "_view_count": null,
            "_view_module": "@jupyter-widgets/base",
            "_view_module_version": "1.2.0",
            "_view_name": "LayoutView",
            "align_content": null,
            "align_items": null,
            "align_self": null,
            "border": null,
            "bottom": null,
            "display": null,
            "flex": null,
            "flex_flow": null,
            "grid_area": null,
            "grid_auto_columns": null,
            "grid_auto_flow": null,
            "grid_auto_rows": null,
            "grid_column": null,
            "grid_gap": null,
            "grid_row": null,
            "grid_template_areas": null,
            "grid_template_columns": null,
            "grid_template_rows": null,
            "height": null,
            "justify_content": null,
            "justify_items": null,
            "left": null,
            "margin": null,
            "max_height": null,
            "max_width": null,
            "min_height": null,
            "min_width": null,
            "object_fit": null,
            "object_position": null,
            "order": null,
            "overflow": null,
            "overflow_x": null,
            "overflow_y": null,
            "padding": null,
            "right": null,
            "top": null,
            "visibility": null,
            "width": null
          }
        },
        "2b038cb831d24b57b550066eab8fb17f": {
          "model_module": "@jupyter-widgets/base",
          "model_name": "LayoutModel",
          "model_module_version": "1.2.0",
          "state": {
            "_model_module": "@jupyter-widgets/base",
            "_model_module_version": "1.2.0",
            "_model_name": "LayoutModel",
            "_view_count": null,
            "_view_module": "@jupyter-widgets/base",
            "_view_module_version": "1.2.0",
            "_view_name": "LayoutView",
            "align_content": null,
            "align_items": null,
            "align_self": null,
            "border": null,
            "bottom": null,
            "display": null,
            "flex": null,
            "flex_flow": null,
            "grid_area": null,
            "grid_auto_columns": null,
            "grid_auto_flow": null,
            "grid_auto_rows": null,
            "grid_column": null,
            "grid_gap": null,
            "grid_row": null,
            "grid_template_areas": null,
            "grid_template_columns": null,
            "grid_template_rows": null,
            "height": null,
            "justify_content": null,
            "justify_items": null,
            "left": null,
            "margin": null,
            "max_height": null,
            "max_width": null,
            "min_height": null,
            "min_width": null,
            "object_fit": null,
            "object_position": null,
            "order": null,
            "overflow": null,
            "overflow_x": null,
            "overflow_y": null,
            "padding": null,
            "right": null,
            "top": null,
            "visibility": null,
            "width": null
          }
        },
        "d4add83e74ba473e9ca811e3e5f3871f": {
          "model_module": "@jupyter-widgets/controls",
          "model_name": "DescriptionStyleModel",
          "model_module_version": "1.5.0",
          "state": {
            "_model_module": "@jupyter-widgets/controls",
            "_model_module_version": "1.5.0",
            "_model_name": "DescriptionStyleModel",
            "_view_count": null,
            "_view_module": "@jupyter-widgets/base",
            "_view_module_version": "1.2.0",
            "_view_name": "StyleView",
            "description_width": ""
          }
        },
        "d19b846e31264ad1ac89a67126317a34": {
          "model_module": "@jupyter-widgets/base",
          "model_name": "LayoutModel",
          "model_module_version": "1.2.0",
          "state": {
            "_model_module": "@jupyter-widgets/base",
            "_model_module_version": "1.2.0",
            "_model_name": "LayoutModel",
            "_view_count": null,
            "_view_module": "@jupyter-widgets/base",
            "_view_module_version": "1.2.0",
            "_view_name": "LayoutView",
            "align_content": null,
            "align_items": null,
            "align_self": null,
            "border": null,
            "bottom": null,
            "display": null,
            "flex": null,
            "flex_flow": null,
            "grid_area": null,
            "grid_auto_columns": null,
            "grid_auto_flow": null,
            "grid_auto_rows": null,
            "grid_column": null,
            "grid_gap": null,
            "grid_row": null,
            "grid_template_areas": null,
            "grid_template_columns": null,
            "grid_template_rows": null,
            "height": null,
            "justify_content": null,
            "justify_items": null,
            "left": null,
            "margin": null,
            "max_height": null,
            "max_width": null,
            "min_height": null,
            "min_width": null,
            "object_fit": null,
            "object_position": null,
            "order": null,
            "overflow": null,
            "overflow_x": null,
            "overflow_y": null,
            "padding": null,
            "right": null,
            "top": null,
            "visibility": null,
            "width": null
          }
        },
        "a0c15e66353c404aab2b21f59c281269": {
          "model_module": "@jupyter-widgets/controls",
          "model_name": "ProgressStyleModel",
          "model_module_version": "1.5.0",
          "state": {
            "_model_module": "@jupyter-widgets/controls",
            "_model_module_version": "1.5.0",
            "_model_name": "ProgressStyleModel",
            "_view_count": null,
            "_view_module": "@jupyter-widgets/base",
            "_view_module_version": "1.2.0",
            "_view_name": "StyleView",
            "bar_color": null,
            "description_width": ""
          }
        },
        "1c7649644bb14218a21bb4e9eb4e3f0f": {
          "model_module": "@jupyter-widgets/base",
          "model_name": "LayoutModel",
          "model_module_version": "1.2.0",
          "state": {
            "_model_module": "@jupyter-widgets/base",
            "_model_module_version": "1.2.0",
            "_model_name": "LayoutModel",
            "_view_count": null,
            "_view_module": "@jupyter-widgets/base",
            "_view_module_version": "1.2.0",
            "_view_name": "LayoutView",
            "align_content": null,
            "align_items": null,
            "align_self": null,
            "border": null,
            "bottom": null,
            "display": null,
            "flex": null,
            "flex_flow": null,
            "grid_area": null,
            "grid_auto_columns": null,
            "grid_auto_flow": null,
            "grid_auto_rows": null,
            "grid_column": null,
            "grid_gap": null,
            "grid_row": null,
            "grid_template_areas": null,
            "grid_template_columns": null,
            "grid_template_rows": null,
            "height": null,
            "justify_content": null,
            "justify_items": null,
            "left": null,
            "margin": null,
            "max_height": null,
            "max_width": null,
            "min_height": null,
            "min_width": null,
            "object_fit": null,
            "object_position": null,
            "order": null,
            "overflow": null,
            "overflow_x": null,
            "overflow_y": null,
            "padding": null,
            "right": null,
            "top": null,
            "visibility": null,
            "width": null
          }
        },
        "97172d2b69eb4cf0921cbfa3b1b749a6": {
          "model_module": "@jupyter-widgets/controls",
          "model_name": "DescriptionStyleModel",
          "model_module_version": "1.5.0",
          "state": {
            "_model_module": "@jupyter-widgets/controls",
            "_model_module_version": "1.5.0",
            "_model_name": "DescriptionStyleModel",
            "_view_count": null,
            "_view_module": "@jupyter-widgets/base",
            "_view_module_version": "1.2.0",
            "_view_name": "StyleView",
            "description_width": ""
          }
        },
        "e57980da318445ddb3a14913d3830992": {
          "model_module": "@jupyter-widgets/controls",
          "model_name": "HBoxModel",
          "model_module_version": "1.5.0",
          "state": {
            "_dom_classes": [],
            "_model_module": "@jupyter-widgets/controls",
            "_model_module_version": "1.5.0",
            "_model_name": "HBoxModel",
            "_view_count": null,
            "_view_module": "@jupyter-widgets/controls",
            "_view_module_version": "1.5.0",
            "_view_name": "HBoxView",
            "box_style": "",
            "children": [
              "IPY_MODEL_30fe56003f804472a5fb27d98792e1fd",
              "IPY_MODEL_25937787a74048ef93c5e3c769d4dc07",
              "IPY_MODEL_bd329f2556e841268e47961d282fe5bb"
            ],
            "layout": "IPY_MODEL_849e955e159c49888b1b4aa487c70d89"
          }
        },
        "30fe56003f804472a5fb27d98792e1fd": {
          "model_module": "@jupyter-widgets/controls",
          "model_name": "HTMLModel",
          "model_module_version": "1.5.0",
          "state": {
            "_dom_classes": [],
            "_model_module": "@jupyter-widgets/controls",
            "_model_module_version": "1.5.0",
            "_model_name": "HTMLModel",
            "_view_count": null,
            "_view_module": "@jupyter-widgets/controls",
            "_view_module_version": "1.5.0",
            "_view_name": "HTMLView",
            "description": "",
            "description_tooltip": null,
            "layout": "IPY_MODEL_a71fa9e840e148b4b4ce152138354a6e",
            "placeholder": "​",
            "style": "IPY_MODEL_1ec82773057e4b35b79931e10a6979fb",
            "value": "100%"
          }
        },
        "25937787a74048ef93c5e3c769d4dc07": {
          "model_module": "@jupyter-widgets/controls",
          "model_name": "FloatProgressModel",
          "model_module_version": "1.5.0",
          "state": {
            "_dom_classes": [],
            "_model_module": "@jupyter-widgets/controls",
            "_model_module_version": "1.5.0",
            "_model_name": "FloatProgressModel",
            "_view_count": null,
            "_view_module": "@jupyter-widgets/controls",
            "_view_module_version": "1.5.0",
            "_view_name": "ProgressView",
            "bar_style": "success",
            "description": "",
            "description_tooltip": null,
            "layout": "IPY_MODEL_34fb0d5677274632ad71d6c2c5691867",
            "max": 142,
            "min": 0,
            "orientation": "horizontal",
            "style": "IPY_MODEL_a2f8f046c47249649ef27e42ad536bda",
            "value": 142
          }
        },
        "bd329f2556e841268e47961d282fe5bb": {
          "model_module": "@jupyter-widgets/controls",
          "model_name": "HTMLModel",
          "model_module_version": "1.5.0",
          "state": {
            "_dom_classes": [],
            "_model_module": "@jupyter-widgets/controls",
            "_model_module_version": "1.5.0",
            "_model_name": "HTMLModel",
            "_view_count": null,
            "_view_module": "@jupyter-widgets/controls",
            "_view_module_version": "1.5.0",
            "_view_name": "HTMLView",
            "description": "",
            "description_tooltip": null,
            "layout": "IPY_MODEL_b9e9cc9e851441449c9ff25091bcae4c",
            "placeholder": "​",
            "style": "IPY_MODEL_d65fe6c083e8401daeaf5a722d730da3",
            "value": " 142/142 [00:00&lt;00:00, 3944.34it/s]"
          }
        },
        "849e955e159c49888b1b4aa487c70d89": {
          "model_module": "@jupyter-widgets/base",
          "model_name": "LayoutModel",
          "model_module_version": "1.2.0",
          "state": {
            "_model_module": "@jupyter-widgets/base",
            "_model_module_version": "1.2.0",
            "_model_name": "LayoutModel",
            "_view_count": null,
            "_view_module": "@jupyter-widgets/base",
            "_view_module_version": "1.2.0",
            "_view_name": "LayoutView",
            "align_content": null,
            "align_items": null,
            "align_self": null,
            "border": null,
            "bottom": null,
            "display": null,
            "flex": null,
            "flex_flow": null,
            "grid_area": null,
            "grid_auto_columns": null,
            "grid_auto_flow": null,
            "grid_auto_rows": null,
            "grid_column": null,
            "grid_gap": null,
            "grid_row": null,
            "grid_template_areas": null,
            "grid_template_columns": null,
            "grid_template_rows": null,
            "height": null,
            "justify_content": null,
            "justify_items": null,
            "left": null,
            "margin": null,
            "max_height": null,
            "max_width": null,
            "min_height": null,
            "min_width": null,
            "object_fit": null,
            "object_position": null,
            "order": null,
            "overflow": null,
            "overflow_x": null,
            "overflow_y": null,
            "padding": null,
            "right": null,
            "top": null,
            "visibility": null,
            "width": null
          }
        },
        "a71fa9e840e148b4b4ce152138354a6e": {
          "model_module": "@jupyter-widgets/base",
          "model_name": "LayoutModel",
          "model_module_version": "1.2.0",
          "state": {
            "_model_module": "@jupyter-widgets/base",
            "_model_module_version": "1.2.0",
            "_model_name": "LayoutModel",
            "_view_count": null,
            "_view_module": "@jupyter-widgets/base",
            "_view_module_version": "1.2.0",
            "_view_name": "LayoutView",
            "align_content": null,
            "align_items": null,
            "align_self": null,
            "border": null,
            "bottom": null,
            "display": null,
            "flex": null,
            "flex_flow": null,
            "grid_area": null,
            "grid_auto_columns": null,
            "grid_auto_flow": null,
            "grid_auto_rows": null,
            "grid_column": null,
            "grid_gap": null,
            "grid_row": null,
            "grid_template_areas": null,
            "grid_template_columns": null,
            "grid_template_rows": null,
            "height": null,
            "justify_content": null,
            "justify_items": null,
            "left": null,
            "margin": null,
            "max_height": null,
            "max_width": null,
            "min_height": null,
            "min_width": null,
            "object_fit": null,
            "object_position": null,
            "order": null,
            "overflow": null,
            "overflow_x": null,
            "overflow_y": null,
            "padding": null,
            "right": null,
            "top": null,
            "visibility": null,
            "width": null
          }
        },
        "1ec82773057e4b35b79931e10a6979fb": {
          "model_module": "@jupyter-widgets/controls",
          "model_name": "DescriptionStyleModel",
          "model_module_version": "1.5.0",
          "state": {
            "_model_module": "@jupyter-widgets/controls",
            "_model_module_version": "1.5.0",
            "_model_name": "DescriptionStyleModel",
            "_view_count": null,
            "_view_module": "@jupyter-widgets/base",
            "_view_module_version": "1.2.0",
            "_view_name": "StyleView",
            "description_width": ""
          }
        },
        "34fb0d5677274632ad71d6c2c5691867": {
          "model_module": "@jupyter-widgets/base",
          "model_name": "LayoutModel",
          "model_module_version": "1.2.0",
          "state": {
            "_model_module": "@jupyter-widgets/base",
            "_model_module_version": "1.2.0",
            "_model_name": "LayoutModel",
            "_view_count": null,
            "_view_module": "@jupyter-widgets/base",
            "_view_module_version": "1.2.0",
            "_view_name": "LayoutView",
            "align_content": null,
            "align_items": null,
            "align_self": null,
            "border": null,
            "bottom": null,
            "display": null,
            "flex": null,
            "flex_flow": null,
            "grid_area": null,
            "grid_auto_columns": null,
            "grid_auto_flow": null,
            "grid_auto_rows": null,
            "grid_column": null,
            "grid_gap": null,
            "grid_row": null,
            "grid_template_areas": null,
            "grid_template_columns": null,
            "grid_template_rows": null,
            "height": null,
            "justify_content": null,
            "justify_items": null,
            "left": null,
            "margin": null,
            "max_height": null,
            "max_width": null,
            "min_height": null,
            "min_width": null,
            "object_fit": null,
            "object_position": null,
            "order": null,
            "overflow": null,
            "overflow_x": null,
            "overflow_y": null,
            "padding": null,
            "right": null,
            "top": null,
            "visibility": null,
            "width": null
          }
        },
        "a2f8f046c47249649ef27e42ad536bda": {
          "model_module": "@jupyter-widgets/controls",
          "model_name": "ProgressStyleModel",
          "model_module_version": "1.5.0",
          "state": {
            "_model_module": "@jupyter-widgets/controls",
            "_model_module_version": "1.5.0",
            "_model_name": "ProgressStyleModel",
            "_view_count": null,
            "_view_module": "@jupyter-widgets/base",
            "_view_module_version": "1.2.0",
            "_view_name": "StyleView",
            "bar_color": null,
            "description_width": ""
          }
        },
        "b9e9cc9e851441449c9ff25091bcae4c": {
          "model_module": "@jupyter-widgets/base",
          "model_name": "LayoutModel",
          "model_module_version": "1.2.0",
          "state": {
            "_model_module": "@jupyter-widgets/base",
            "_model_module_version": "1.2.0",
            "_model_name": "LayoutModel",
            "_view_count": null,
            "_view_module": "@jupyter-widgets/base",
            "_view_module_version": "1.2.0",
            "_view_name": "LayoutView",
            "align_content": null,
            "align_items": null,
            "align_self": null,
            "border": null,
            "bottom": null,
            "display": null,
            "flex": null,
            "flex_flow": null,
            "grid_area": null,
            "grid_auto_columns": null,
            "grid_auto_flow": null,
            "grid_auto_rows": null,
            "grid_column": null,
            "grid_gap": null,
            "grid_row": null,
            "grid_template_areas": null,
            "grid_template_columns": null,
            "grid_template_rows": null,
            "height": null,
            "justify_content": null,
            "justify_items": null,
            "left": null,
            "margin": null,
            "max_height": null,
            "max_width": null,
            "min_height": null,
            "min_width": null,
            "object_fit": null,
            "object_position": null,
            "order": null,
            "overflow": null,
            "overflow_x": null,
            "overflow_y": null,
            "padding": null,
            "right": null,
            "top": null,
            "visibility": null,
            "width": null
          }
        },
        "d65fe6c083e8401daeaf5a722d730da3": {
          "model_module": "@jupyter-widgets/controls",
          "model_name": "DescriptionStyleModel",
          "model_module_version": "1.5.0",
          "state": {
            "_model_module": "@jupyter-widgets/controls",
            "_model_module_version": "1.5.0",
            "_model_name": "DescriptionStyleModel",
            "_view_count": null,
            "_view_module": "@jupyter-widgets/base",
            "_view_module_version": "1.2.0",
            "_view_name": "StyleView",
            "description_width": ""
          }
        }
      }
    }
  },
  "nbformat": 4,
  "nbformat_minor": 0
}