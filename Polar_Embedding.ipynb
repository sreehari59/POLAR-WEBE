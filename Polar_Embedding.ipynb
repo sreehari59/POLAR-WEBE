{
  "nbformat": 4,
  "nbformat_minor": 0,
  "metadata": {
    "colab": {
      "name": "Polar Embedding.ipynb",
      "provenance": [],
      "collapsed_sections": [],
      "authorship_tag": "ABX9TyPprmFS9jp6qs9NDAhkGQfW",
      "include_colab_link": true
    },
    "kernelspec": {
      "name": "python3",
      "display_name": "Python 3"
    },
    "language_info": {
      "name": "python"
    },
    "widgets": {
      "application/vnd.jupyter.widget-state+json": {
        "960857c44d17471aa8233f323278be2d": {
          "model_module": "@jupyter-widgets/controls",
          "model_name": "HBoxModel",
          "model_module_version": "1.5.0",
          "state": {
            "_dom_classes": [],
            "_model_module": "@jupyter-widgets/controls",
            "_model_module_version": "1.5.0",
            "_model_name": "HBoxModel",
            "_view_count": null,
            "_view_module": "@jupyter-widgets/controls",
            "_view_module_version": "1.5.0",
            "_view_name": "HBoxView",
            "box_style": "",
            "children": [
              "IPY_MODEL_1d2294a3b2b04744b7157d15c52bad69",
              "IPY_MODEL_f3eefeef840c4fe0925ea06a5c8b72c8",
              "IPY_MODEL_48fe10c4d8ec4bd7af7b3bed8affe4b2"
            ],
            "layout": "IPY_MODEL_75b9890bace54876877e1e5a730f0b84"
          }
        },
        "1d2294a3b2b04744b7157d15c52bad69": {
          "model_module": "@jupyter-widgets/controls",
          "model_name": "HTMLModel",
          "model_module_version": "1.5.0",
          "state": {
            "_dom_classes": [],
            "_model_module": "@jupyter-widgets/controls",
            "_model_module_version": "1.5.0",
            "_model_name": "HTMLModel",
            "_view_count": null,
            "_view_module": "@jupyter-widgets/controls",
            "_view_module_version": "1.5.0",
            "_view_name": "HTMLView",
            "description": "",
            "description_tooltip": null,
            "layout": "IPY_MODEL_23cbec8d6b0c474e9f582fd1ca0339bc",
            "placeholder": "​",
            "style": "IPY_MODEL_1a79938bf97e4e8f9f066e53206dce36",
            "value": "100%"
          }
        },
        "f3eefeef840c4fe0925ea06a5c8b72c8": {
          "model_module": "@jupyter-widgets/controls",
          "model_name": "FloatProgressModel",
          "model_module_version": "1.5.0",
          "state": {
            "_dom_classes": [],
            "_model_module": "@jupyter-widgets/controls",
            "_model_module_version": "1.5.0",
            "_model_name": "FloatProgressModel",
            "_view_count": null,
            "_view_module": "@jupyter-widgets/controls",
            "_view_module_version": "1.5.0",
            "_view_name": "ProgressView",
            "bar_style": "success",
            "description": "",
            "description_tooltip": null,
            "layout": "IPY_MODEL_d3d81041bacb4674a86cc792f4fab7da",
            "max": 400000,
            "min": 0,
            "orientation": "horizontal",
            "style": "IPY_MODEL_e20bf630b4f747f39f18342d9a170e17",
            "value": 400000
          }
        },
        "48fe10c4d8ec4bd7af7b3bed8affe4b2": {
          "model_module": "@jupyter-widgets/controls",
          "model_name": "HTMLModel",
          "model_module_version": "1.5.0",
          "state": {
            "_dom_classes": [],
            "_model_module": "@jupyter-widgets/controls",
            "_model_module_version": "1.5.0",
            "_model_name": "HTMLModel",
            "_view_count": null,
            "_view_module": "@jupyter-widgets/controls",
            "_view_module_version": "1.5.0",
            "_view_name": "HTMLView",
            "description": "",
            "description_tooltip": null,
            "layout": "IPY_MODEL_d1f3a5b408d64d97a39feb45bb477dc8",
            "placeholder": "​",
            "style": "IPY_MODEL_e455ce1cb0cf43e8a1fb2a2faecc66f8",
            "value": " 400000/400000 [00:08&lt;00:00, 49203.66it/s]"
          }
        },
        "75b9890bace54876877e1e5a730f0b84": {
          "model_module": "@jupyter-widgets/base",
          "model_name": "LayoutModel",
          "model_module_version": "1.2.0",
          "state": {
            "_model_module": "@jupyter-widgets/base",
            "_model_module_version": "1.2.0",
            "_model_name": "LayoutModel",
            "_view_count": null,
            "_view_module": "@jupyter-widgets/base",
            "_view_module_version": "1.2.0",
            "_view_name": "LayoutView",
            "align_content": null,
            "align_items": null,
            "align_self": null,
            "border": null,
            "bottom": null,
            "display": null,
            "flex": null,
            "flex_flow": null,
            "grid_area": null,
            "grid_auto_columns": null,
            "grid_auto_flow": null,
            "grid_auto_rows": null,
            "grid_column": null,
            "grid_gap": null,
            "grid_row": null,
            "grid_template_areas": null,
            "grid_template_columns": null,
            "grid_template_rows": null,
            "height": null,
            "justify_content": null,
            "justify_items": null,
            "left": null,
            "margin": null,
            "max_height": null,
            "max_width": null,
            "min_height": null,
            "min_width": null,
            "object_fit": null,
            "object_position": null,
            "order": null,
            "overflow": null,
            "overflow_x": null,
            "overflow_y": null,
            "padding": null,
            "right": null,
            "top": null,
            "visibility": null,
            "width": null
          }
        },
        "23cbec8d6b0c474e9f582fd1ca0339bc": {
          "model_module": "@jupyter-widgets/base",
          "model_name": "LayoutModel",
          "model_module_version": "1.2.0",
          "state": {
            "_model_module": "@jupyter-widgets/base",
            "_model_module_version": "1.2.0",
            "_model_name": "LayoutModel",
            "_view_count": null,
            "_view_module": "@jupyter-widgets/base",
            "_view_module_version": "1.2.0",
            "_view_name": "LayoutView",
            "align_content": null,
            "align_items": null,
            "align_self": null,
            "border": null,
            "bottom": null,
            "display": null,
            "flex": null,
            "flex_flow": null,
            "grid_area": null,
            "grid_auto_columns": null,
            "grid_auto_flow": null,
            "grid_auto_rows": null,
            "grid_column": null,
            "grid_gap": null,
            "grid_row": null,
            "grid_template_areas": null,
            "grid_template_columns": null,
            "grid_template_rows": null,
            "height": null,
            "justify_content": null,
            "justify_items": null,
            "left": null,
            "margin": null,
            "max_height": null,
            "max_width": null,
            "min_height": null,
            "min_width": null,
            "object_fit": null,
            "object_position": null,
            "order": null,
            "overflow": null,
            "overflow_x": null,
            "overflow_y": null,
            "padding": null,
            "right": null,
            "top": null,
            "visibility": null,
            "width": null
          }
        },
        "1a79938bf97e4e8f9f066e53206dce36": {
          "model_module": "@jupyter-widgets/controls",
          "model_name": "DescriptionStyleModel",
          "model_module_version": "1.5.0",
          "state": {
            "_model_module": "@jupyter-widgets/controls",
            "_model_module_version": "1.5.0",
            "_model_name": "DescriptionStyleModel",
            "_view_count": null,
            "_view_module": "@jupyter-widgets/base",
            "_view_module_version": "1.2.0",
            "_view_name": "StyleView",
            "description_width": ""
          }
        },
        "d3d81041bacb4674a86cc792f4fab7da": {
          "model_module": "@jupyter-widgets/base",
          "model_name": "LayoutModel",
          "model_module_version": "1.2.0",
          "state": {
            "_model_module": "@jupyter-widgets/base",
            "_model_module_version": "1.2.0",
            "_model_name": "LayoutModel",
            "_view_count": null,
            "_view_module": "@jupyter-widgets/base",
            "_view_module_version": "1.2.0",
            "_view_name": "LayoutView",
            "align_content": null,
            "align_items": null,
            "align_self": null,
            "border": null,
            "bottom": null,
            "display": null,
            "flex": null,
            "flex_flow": null,
            "grid_area": null,
            "grid_auto_columns": null,
            "grid_auto_flow": null,
            "grid_auto_rows": null,
            "grid_column": null,
            "grid_gap": null,
            "grid_row": null,
            "grid_template_areas": null,
            "grid_template_columns": null,
            "grid_template_rows": null,
            "height": null,
            "justify_content": null,
            "justify_items": null,
            "left": null,
            "margin": null,
            "max_height": null,
            "max_width": null,
            "min_height": null,
            "min_width": null,
            "object_fit": null,
            "object_position": null,
            "order": null,
            "overflow": null,
            "overflow_x": null,
            "overflow_y": null,
            "padding": null,
            "right": null,
            "top": null,
            "visibility": null,
            "width": null
          }
        },
        "e20bf630b4f747f39f18342d9a170e17": {
          "model_module": "@jupyter-widgets/controls",
          "model_name": "ProgressStyleModel",
          "model_module_version": "1.5.0",
          "state": {
            "_model_module": "@jupyter-widgets/controls",
            "_model_module_version": "1.5.0",
            "_model_name": "ProgressStyleModel",
            "_view_count": null,
            "_view_module": "@jupyter-widgets/base",
            "_view_module_version": "1.2.0",
            "_view_name": "StyleView",
            "bar_color": null,
            "description_width": ""
          }
        },
        "d1f3a5b408d64d97a39feb45bb477dc8": {
          "model_module": "@jupyter-widgets/base",
          "model_name": "LayoutModel",
          "model_module_version": "1.2.0",
          "state": {
            "_model_module": "@jupyter-widgets/base",
            "_model_module_version": "1.2.0",
            "_model_name": "LayoutModel",
            "_view_count": null,
            "_view_module": "@jupyter-widgets/base",
            "_view_module_version": "1.2.0",
            "_view_name": "LayoutView",
            "align_content": null,
            "align_items": null,
            "align_self": null,
            "border": null,
            "bottom": null,
            "display": null,
            "flex": null,
            "flex_flow": null,
            "grid_area": null,
            "grid_auto_columns": null,
            "grid_auto_flow": null,
            "grid_auto_rows": null,
            "grid_column": null,
            "grid_gap": null,
            "grid_row": null,
            "grid_template_areas": null,
            "grid_template_columns": null,
            "grid_template_rows": null,
            "height": null,
            "justify_content": null,
            "justify_items": null,
            "left": null,
            "margin": null,
            "max_height": null,
            "max_width": null,
            "min_height": null,
            "min_width": null,
            "object_fit": null,
            "object_position": null,
            "order": null,
            "overflow": null,
            "overflow_x": null,
            "overflow_y": null,
            "padding": null,
            "right": null,
            "top": null,
            "visibility": null,
            "width": null
          }
        },
        "e455ce1cb0cf43e8a1fb2a2faecc66f8": {
          "model_module": "@jupyter-widgets/controls",
          "model_name": "DescriptionStyleModel",
          "model_module_version": "1.5.0",
          "state": {
            "_model_module": "@jupyter-widgets/controls",
            "_model_module_version": "1.5.0",
            "_model_name": "DescriptionStyleModel",
            "_view_count": null,
            "_view_module": "@jupyter-widgets/base",
            "_view_module_version": "1.2.0",
            "_view_name": "StyleView",
            "description_width": ""
          }
        },
        "7ad374cb5427421fb91503945efe9164": {
          "model_module": "@jupyter-widgets/controls",
          "model_name": "HBoxModel",
          "model_module_version": "1.5.0",
          "state": {
            "_dom_classes": [],
            "_model_module": "@jupyter-widgets/controls",
            "_model_module_version": "1.5.0",
            "_model_name": "HBoxModel",
            "_view_count": null,
            "_view_module": "@jupyter-widgets/controls",
            "_view_module_version": "1.5.0",
            "_view_name": "HBoxView",
            "box_style": "",
            "children": [
              "IPY_MODEL_ef7068d70f4947d2b61451d94df2c0e0",
              "IPY_MODEL_b6b80dde76c8482e88e119372219ef36",
              "IPY_MODEL_e0f0cebd56ad430591d3f6ed830e0400"
            ],
            "layout": "IPY_MODEL_8fd70c8701064db3bd9b3793f1178f9a"
          }
        },
        "ef7068d70f4947d2b61451d94df2c0e0": {
          "model_module": "@jupyter-widgets/controls",
          "model_name": "HTMLModel",
          "model_module_version": "1.5.0",
          "state": {
            "_dom_classes": [],
            "_model_module": "@jupyter-widgets/controls",
            "_model_module_version": "1.5.0",
            "_model_name": "HTMLModel",
            "_view_count": null,
            "_view_module": "@jupyter-widgets/controls",
            "_view_module_version": "1.5.0",
            "_view_name": "HTMLView",
            "description": "",
            "description_tooltip": null,
            "layout": "IPY_MODEL_10be09d60a4d4037aef9ce67b14ff74e",
            "placeholder": "​",
            "style": "IPY_MODEL_2397795add444cc49ad0bc46ce132886",
            "value": "100%"
          }
        },
        "b6b80dde76c8482e88e119372219ef36": {
          "model_module": "@jupyter-widgets/controls",
          "model_name": "FloatProgressModel",
          "model_module_version": "1.5.0",
          "state": {
            "_dom_classes": [],
            "_model_module": "@jupyter-widgets/controls",
            "_model_module_version": "1.5.0",
            "_model_name": "FloatProgressModel",
            "_view_count": null,
            "_view_module": "@jupyter-widgets/controls",
            "_view_module_version": "1.5.0",
            "_view_name": "ProgressView",
            "bar_style": "success",
            "description": "",
            "description_tooltip": null,
            "layout": "IPY_MODEL_ce583ee9b65f46c5a6b1ce45c6db9347",
            "max": 10,
            "min": 0,
            "orientation": "horizontal",
            "style": "IPY_MODEL_12729b11770c4d5e888fee92ed1a831e",
            "value": 10
          }
        },
        "e0f0cebd56ad430591d3f6ed830e0400": {
          "model_module": "@jupyter-widgets/controls",
          "model_name": "HTMLModel",
          "model_module_version": "1.5.0",
          "state": {
            "_dom_classes": [],
            "_model_module": "@jupyter-widgets/controls",
            "_model_module_version": "1.5.0",
            "_model_name": "HTMLModel",
            "_view_count": null,
            "_view_module": "@jupyter-widgets/controls",
            "_view_module_version": "1.5.0",
            "_view_name": "HTMLView",
            "description": "",
            "description_tooltip": null,
            "layout": "IPY_MODEL_44bdfd3eb21749b0a94eb7f45f31e77c",
            "placeholder": "​",
            "style": "IPY_MODEL_c5f92ef354dc4e4f8ac4981261059473",
            "value": " 10/10 [00:00&lt;00:00, 245.30it/s]"
          }
        },
        "8fd70c8701064db3bd9b3793f1178f9a": {
          "model_module": "@jupyter-widgets/base",
          "model_name": "LayoutModel",
          "model_module_version": "1.2.0",
          "state": {
            "_model_module": "@jupyter-widgets/base",
            "_model_module_version": "1.2.0",
            "_model_name": "LayoutModel",
            "_view_count": null,
            "_view_module": "@jupyter-widgets/base",
            "_view_module_version": "1.2.0",
            "_view_name": "LayoutView",
            "align_content": null,
            "align_items": null,
            "align_self": null,
            "border": null,
            "bottom": null,
            "display": null,
            "flex": null,
            "flex_flow": null,
            "grid_area": null,
            "grid_auto_columns": null,
            "grid_auto_flow": null,
            "grid_auto_rows": null,
            "grid_column": null,
            "grid_gap": null,
            "grid_row": null,
            "grid_template_areas": null,
            "grid_template_columns": null,
            "grid_template_rows": null,
            "height": null,
            "justify_content": null,
            "justify_items": null,
            "left": null,
            "margin": null,
            "max_height": null,
            "max_width": null,
            "min_height": null,
            "min_width": null,
            "object_fit": null,
            "object_position": null,
            "order": null,
            "overflow": null,
            "overflow_x": null,
            "overflow_y": null,
            "padding": null,
            "right": null,
            "top": null,
            "visibility": null,
            "width": null
          }
        },
        "10be09d60a4d4037aef9ce67b14ff74e": {
          "model_module": "@jupyter-widgets/base",
          "model_name": "LayoutModel",
          "model_module_version": "1.2.0",
          "state": {
            "_model_module": "@jupyter-widgets/base",
            "_model_module_version": "1.2.0",
            "_model_name": "LayoutModel",
            "_view_count": null,
            "_view_module": "@jupyter-widgets/base",
            "_view_module_version": "1.2.0",
            "_view_name": "LayoutView",
            "align_content": null,
            "align_items": null,
            "align_self": null,
            "border": null,
            "bottom": null,
            "display": null,
            "flex": null,
            "flex_flow": null,
            "grid_area": null,
            "grid_auto_columns": null,
            "grid_auto_flow": null,
            "grid_auto_rows": null,
            "grid_column": null,
            "grid_gap": null,
            "grid_row": null,
            "grid_template_areas": null,
            "grid_template_columns": null,
            "grid_template_rows": null,
            "height": null,
            "justify_content": null,
            "justify_items": null,
            "left": null,
            "margin": null,
            "max_height": null,
            "max_width": null,
            "min_height": null,
            "min_width": null,
            "object_fit": null,
            "object_position": null,
            "order": null,
            "overflow": null,
            "overflow_x": null,
            "overflow_y": null,
            "padding": null,
            "right": null,
            "top": null,
            "visibility": null,
            "width": null
          }
        },
        "2397795add444cc49ad0bc46ce132886": {
          "model_module": "@jupyter-widgets/controls",
          "model_name": "DescriptionStyleModel",
          "model_module_version": "1.5.0",
          "state": {
            "_model_module": "@jupyter-widgets/controls",
            "_model_module_version": "1.5.0",
            "_model_name": "DescriptionStyleModel",
            "_view_count": null,
            "_view_module": "@jupyter-widgets/base",
            "_view_module_version": "1.2.0",
            "_view_name": "StyleView",
            "description_width": ""
          }
        },
        "ce583ee9b65f46c5a6b1ce45c6db9347": {
          "model_module": "@jupyter-widgets/base",
          "model_name": "LayoutModel",
          "model_module_version": "1.2.0",
          "state": {
            "_model_module": "@jupyter-widgets/base",
            "_model_module_version": "1.2.0",
            "_model_name": "LayoutModel",
            "_view_count": null,
            "_view_module": "@jupyter-widgets/base",
            "_view_module_version": "1.2.0",
            "_view_name": "LayoutView",
            "align_content": null,
            "align_items": null,
            "align_self": null,
            "border": null,
            "bottom": null,
            "display": null,
            "flex": null,
            "flex_flow": null,
            "grid_area": null,
            "grid_auto_columns": null,
            "grid_auto_flow": null,
            "grid_auto_rows": null,
            "grid_column": null,
            "grid_gap": null,
            "grid_row": null,
            "grid_template_areas": null,
            "grid_template_columns": null,
            "grid_template_rows": null,
            "height": null,
            "justify_content": null,
            "justify_items": null,
            "left": null,
            "margin": null,
            "max_height": null,
            "max_width": null,
            "min_height": null,
            "min_width": null,
            "object_fit": null,
            "object_position": null,
            "order": null,
            "overflow": null,
            "overflow_x": null,
            "overflow_y": null,
            "padding": null,
            "right": null,
            "top": null,
            "visibility": null,
            "width": null
          }
        },
        "12729b11770c4d5e888fee92ed1a831e": {
          "model_module": "@jupyter-widgets/controls",
          "model_name": "ProgressStyleModel",
          "model_module_version": "1.5.0",
          "state": {
            "_model_module": "@jupyter-widgets/controls",
            "_model_module_version": "1.5.0",
            "_model_name": "ProgressStyleModel",
            "_view_count": null,
            "_view_module": "@jupyter-widgets/base",
            "_view_module_version": "1.2.0",
            "_view_name": "StyleView",
            "bar_color": null,
            "description_width": ""
          }
        },
        "44bdfd3eb21749b0a94eb7f45f31e77c": {
          "model_module": "@jupyter-widgets/base",
          "model_name": "LayoutModel",
          "model_module_version": "1.2.0",
          "state": {
            "_model_module": "@jupyter-widgets/base",
            "_model_module_version": "1.2.0",
            "_model_name": "LayoutModel",
            "_view_count": null,
            "_view_module": "@jupyter-widgets/base",
            "_view_module_version": "1.2.0",
            "_view_name": "LayoutView",
            "align_content": null,
            "align_items": null,
            "align_self": null,
            "border": null,
            "bottom": null,
            "display": null,
            "flex": null,
            "flex_flow": null,
            "grid_area": null,
            "grid_auto_columns": null,
            "grid_auto_flow": null,
            "grid_auto_rows": null,
            "grid_column": null,
            "grid_gap": null,
            "grid_row": null,
            "grid_template_areas": null,
            "grid_template_columns": null,
            "grid_template_rows": null,
            "height": null,
            "justify_content": null,
            "justify_items": null,
            "left": null,
            "margin": null,
            "max_height": null,
            "max_width": null,
            "min_height": null,
            "min_width": null,
            "object_fit": null,
            "object_position": null,
            "order": null,
            "overflow": null,
            "overflow_x": null,
            "overflow_y": null,
            "padding": null,
            "right": null,
            "top": null,
            "visibility": null,
            "width": null
          }
        },
        "c5f92ef354dc4e4f8ac4981261059473": {
          "model_module": "@jupyter-widgets/controls",
          "model_name": "DescriptionStyleModel",
          "model_module_version": "1.5.0",
          "state": {
            "_model_module": "@jupyter-widgets/controls",
            "_model_module_version": "1.5.0",
            "_model_name": "DescriptionStyleModel",
            "_view_count": null,
            "_view_module": "@jupyter-widgets/base",
            "_view_module_version": "1.2.0",
            "_view_name": "StyleView",
            "description_width": ""
          }
        },
        "0a189bb1f9d5466f8f93f799069b8109": {
          "model_module": "@jupyter-widgets/controls",
          "model_name": "HBoxModel",
          "model_module_version": "1.5.0",
          "state": {
            "_dom_classes": [],
            "_model_module": "@jupyter-widgets/controls",
            "_model_module_version": "1.5.0",
            "_model_name": "HBoxModel",
            "_view_count": null,
            "_view_module": "@jupyter-widgets/controls",
            "_view_module_version": "1.5.0",
            "_view_name": "HBoxView",
            "box_style": "",
            "children": [
              "IPY_MODEL_c33c2ba1ab9441fdbf94b26884f69b8b",
              "IPY_MODEL_7594d0a6ce7849179aefcd56c68fb2cd",
              "IPY_MODEL_03b88b9c4df147679377a7993bf8009f"
            ],
            "layout": "IPY_MODEL_62ef5c8a9eda4b47851833e6ec1ec147"
          }
        },
        "c33c2ba1ab9441fdbf94b26884f69b8b": {
          "model_module": "@jupyter-widgets/controls",
          "model_name": "HTMLModel",
          "model_module_version": "1.5.0",
          "state": {
            "_dom_classes": [],
            "_model_module": "@jupyter-widgets/controls",
            "_model_module_version": "1.5.0",
            "_model_name": "HTMLModel",
            "_view_count": null,
            "_view_module": "@jupyter-widgets/controls",
            "_view_module_version": "1.5.0",
            "_view_name": "HTMLView",
            "description": "",
            "description_tooltip": null,
            "layout": "IPY_MODEL_988a70b94b8548c69cb5b523ba945c34",
            "placeholder": "​",
            "style": "IPY_MODEL_d90ebbac9682485d90a67e899a44b233",
            "value": "100%"
          }
        },
        "7594d0a6ce7849179aefcd56c68fb2cd": {
          "model_module": "@jupyter-widgets/controls",
          "model_name": "FloatProgressModel",
          "model_module_version": "1.5.0",
          "state": {
            "_dom_classes": [],
            "_model_module": "@jupyter-widgets/controls",
            "_model_module_version": "1.5.0",
            "_model_name": "FloatProgressModel",
            "_view_count": null,
            "_view_module": "@jupyter-widgets/controls",
            "_view_module_version": "1.5.0",
            "_view_name": "ProgressView",
            "bar_style": "success",
            "description": "",
            "description_tooltip": null,
            "layout": "IPY_MODEL_cd4b72916d884d3481cd759dc8f17749",
            "max": 10,
            "min": 0,
            "orientation": "horizontal",
            "style": "IPY_MODEL_a565b52c03cf4f258b000a44d5b66f4d",
            "value": 10
          }
        },
        "03b88b9c4df147679377a7993bf8009f": {
          "model_module": "@jupyter-widgets/controls",
          "model_name": "HTMLModel",
          "model_module_version": "1.5.0",
          "state": {
            "_dom_classes": [],
            "_model_module": "@jupyter-widgets/controls",
            "_model_module_version": "1.5.0",
            "_model_name": "HTMLModel",
            "_view_count": null,
            "_view_module": "@jupyter-widgets/controls",
            "_view_module_version": "1.5.0",
            "_view_name": "HTMLView",
            "description": "",
            "description_tooltip": null,
            "layout": "IPY_MODEL_c216b221cb1045de94e64e7377c7bbc1",
            "placeholder": "​",
            "style": "IPY_MODEL_ea90368f552f4470a4fd3f97a8270d1f",
            "value": " 10/10 [00:00&lt;00:00, 137.54it/s]"
          }
        },
        "62ef5c8a9eda4b47851833e6ec1ec147": {
          "model_module": "@jupyter-widgets/base",
          "model_name": "LayoutModel",
          "model_module_version": "1.2.0",
          "state": {
            "_model_module": "@jupyter-widgets/base",
            "_model_module_version": "1.2.0",
            "_model_name": "LayoutModel",
            "_view_count": null,
            "_view_module": "@jupyter-widgets/base",
            "_view_module_version": "1.2.0",
            "_view_name": "LayoutView",
            "align_content": null,
            "align_items": null,
            "align_self": null,
            "border": null,
            "bottom": null,
            "display": null,
            "flex": null,
            "flex_flow": null,
            "grid_area": null,
            "grid_auto_columns": null,
            "grid_auto_flow": null,
            "grid_auto_rows": null,
            "grid_column": null,
            "grid_gap": null,
            "grid_row": null,
            "grid_template_areas": null,
            "grid_template_columns": null,
            "grid_template_rows": null,
            "height": null,
            "justify_content": null,
            "justify_items": null,
            "left": null,
            "margin": null,
            "max_height": null,
            "max_width": null,
            "min_height": null,
            "min_width": null,
            "object_fit": null,
            "object_position": null,
            "order": null,
            "overflow": null,
            "overflow_x": null,
            "overflow_y": null,
            "padding": null,
            "right": null,
            "top": null,
            "visibility": null,
            "width": null
          }
        },
        "988a70b94b8548c69cb5b523ba945c34": {
          "model_module": "@jupyter-widgets/base",
          "model_name": "LayoutModel",
          "model_module_version": "1.2.0",
          "state": {
            "_model_module": "@jupyter-widgets/base",
            "_model_module_version": "1.2.0",
            "_model_name": "LayoutModel",
            "_view_count": null,
            "_view_module": "@jupyter-widgets/base",
            "_view_module_version": "1.2.0",
            "_view_name": "LayoutView",
            "align_content": null,
            "align_items": null,
            "align_self": null,
            "border": null,
            "bottom": null,
            "display": null,
            "flex": null,
            "flex_flow": null,
            "grid_area": null,
            "grid_auto_columns": null,
            "grid_auto_flow": null,
            "grid_auto_rows": null,
            "grid_column": null,
            "grid_gap": null,
            "grid_row": null,
            "grid_template_areas": null,
            "grid_template_columns": null,
            "grid_template_rows": null,
            "height": null,
            "justify_content": null,
            "justify_items": null,
            "left": null,
            "margin": null,
            "max_height": null,
            "max_width": null,
            "min_height": null,
            "min_width": null,
            "object_fit": null,
            "object_position": null,
            "order": null,
            "overflow": null,
            "overflow_x": null,
            "overflow_y": null,
            "padding": null,
            "right": null,
            "top": null,
            "visibility": null,
            "width": null
          }
        },
        "d90ebbac9682485d90a67e899a44b233": {
          "model_module": "@jupyter-widgets/controls",
          "model_name": "DescriptionStyleModel",
          "model_module_version": "1.5.0",
          "state": {
            "_model_module": "@jupyter-widgets/controls",
            "_model_module_version": "1.5.0",
            "_model_name": "DescriptionStyleModel",
            "_view_count": null,
            "_view_module": "@jupyter-widgets/base",
            "_view_module_version": "1.2.0",
            "_view_name": "StyleView",
            "description_width": ""
          }
        },
        "cd4b72916d884d3481cd759dc8f17749": {
          "model_module": "@jupyter-widgets/base",
          "model_name": "LayoutModel",
          "model_module_version": "1.2.0",
          "state": {
            "_model_module": "@jupyter-widgets/base",
            "_model_module_version": "1.2.0",
            "_model_name": "LayoutModel",
            "_view_count": null,
            "_view_module": "@jupyter-widgets/base",
            "_view_module_version": "1.2.0",
            "_view_name": "LayoutView",
            "align_content": null,
            "align_items": null,
            "align_self": null,
            "border": null,
            "bottom": null,
            "display": null,
            "flex": null,
            "flex_flow": null,
            "grid_area": null,
            "grid_auto_columns": null,
            "grid_auto_flow": null,
            "grid_auto_rows": null,
            "grid_column": null,
            "grid_gap": null,
            "grid_row": null,
            "grid_template_areas": null,
            "grid_template_columns": null,
            "grid_template_rows": null,
            "height": null,
            "justify_content": null,
            "justify_items": null,
            "left": null,
            "margin": null,
            "max_height": null,
            "max_width": null,
            "min_height": null,
            "min_width": null,
            "object_fit": null,
            "object_position": null,
            "order": null,
            "overflow": null,
            "overflow_x": null,
            "overflow_y": null,
            "padding": null,
            "right": null,
            "top": null,
            "visibility": null,
            "width": null
          }
        },
        "a565b52c03cf4f258b000a44d5b66f4d": {
          "model_module": "@jupyter-widgets/controls",
          "model_name": "ProgressStyleModel",
          "model_module_version": "1.5.0",
          "state": {
            "_model_module": "@jupyter-widgets/controls",
            "_model_module_version": "1.5.0",
            "_model_name": "ProgressStyleModel",
            "_view_count": null,
            "_view_module": "@jupyter-widgets/base",
            "_view_module_version": "1.2.0",
            "_view_name": "StyleView",
            "bar_color": null,
            "description_width": ""
          }
        },
        "c216b221cb1045de94e64e7377c7bbc1": {
          "model_module": "@jupyter-widgets/base",
          "model_name": "LayoutModel",
          "model_module_version": "1.2.0",
          "state": {
            "_model_module": "@jupyter-widgets/base",
            "_model_module_version": "1.2.0",
            "_model_name": "LayoutModel",
            "_view_count": null,
            "_view_module": "@jupyter-widgets/base",
            "_view_module_version": "1.2.0",
            "_view_name": "LayoutView",
            "align_content": null,
            "align_items": null,
            "align_self": null,
            "border": null,
            "bottom": null,
            "display": null,
            "flex": null,
            "flex_flow": null,
            "grid_area": null,
            "grid_auto_columns": null,
            "grid_auto_flow": null,
            "grid_auto_rows": null,
            "grid_column": null,
            "grid_gap": null,
            "grid_row": null,
            "grid_template_areas": null,
            "grid_template_columns": null,
            "grid_template_rows": null,
            "height": null,
            "justify_content": null,
            "justify_items": null,
            "left": null,
            "margin": null,
            "max_height": null,
            "max_width": null,
            "min_height": null,
            "min_width": null,
            "object_fit": null,
            "object_position": null,
            "order": null,
            "overflow": null,
            "overflow_x": null,
            "overflow_y": null,
            "padding": null,
            "right": null,
            "top": null,
            "visibility": null,
            "width": null
          }
        },
        "ea90368f552f4470a4fd3f97a8270d1f": {
          "model_module": "@jupyter-widgets/controls",
          "model_name": "DescriptionStyleModel",
          "model_module_version": "1.5.0",
          "state": {
            "_model_module": "@jupyter-widgets/controls",
            "_model_module_version": "1.5.0",
            "_model_name": "DescriptionStyleModel",
            "_view_count": null,
            "_view_module": "@jupyter-widgets/base",
            "_view_module_version": "1.2.0",
            "_view_name": "StyleView",
            "description_width": ""
          }
        },
        "0b2d11c7ddbe478b9e18443422780f95": {
          "model_module": "@jupyter-widgets/controls",
          "model_name": "HBoxModel",
          "model_module_version": "1.5.0",
          "state": {
            "_dom_classes": [],
            "_model_module": "@jupyter-widgets/controls",
            "_model_module_version": "1.5.0",
            "_model_name": "HBoxModel",
            "_view_count": null,
            "_view_module": "@jupyter-widgets/controls",
            "_view_module_version": "1.5.0",
            "_view_name": "HBoxView",
            "box_style": "",
            "children": [
              "IPY_MODEL_1993c0755200487893b8b2d95f1e9301",
              "IPY_MODEL_14bdbc73008f4d4eaae0a4ea7000ca76",
              "IPY_MODEL_5322f04b088e400983e391bf40a67204"
            ],
            "layout": "IPY_MODEL_81f11b6883b547a38b9078a96fb4b0c6"
          }
        },
        "1993c0755200487893b8b2d95f1e9301": {
          "model_module": "@jupyter-widgets/controls",
          "model_name": "HTMLModel",
          "model_module_version": "1.5.0",
          "state": {
            "_dom_classes": [],
            "_model_module": "@jupyter-widgets/controls",
            "_model_module_version": "1.5.0",
            "_model_name": "HTMLModel",
            "_view_count": null,
            "_view_module": "@jupyter-widgets/controls",
            "_view_module_version": "1.5.0",
            "_view_name": "HTMLView",
            "description": "",
            "description_tooltip": null,
            "layout": "IPY_MODEL_6061bfd826314ee9950badcf8a86eb15",
            "placeholder": "​",
            "style": "IPY_MODEL_e61d284fd4c349f187afb190cccbc123",
            "value": "100%"
          }
        },
        "14bdbc73008f4d4eaae0a4ea7000ca76": {
          "model_module": "@jupyter-widgets/controls",
          "model_name": "FloatProgressModel",
          "model_module_version": "1.5.0",
          "state": {
            "_dom_classes": [],
            "_model_module": "@jupyter-widgets/controls",
            "_model_module_version": "1.5.0",
            "_model_name": "FloatProgressModel",
            "_view_count": null,
            "_view_module": "@jupyter-widgets/controls",
            "_view_module_version": "1.5.0",
            "_view_name": "ProgressView",
            "bar_style": "success",
            "description": "",
            "description_tooltip": null,
            "layout": "IPY_MODEL_c4fc1bd6fc22496faf887a4a29ed8258",
            "max": 10,
            "min": 0,
            "orientation": "horizontal",
            "style": "IPY_MODEL_e0fbc170156b42eab40fa19baadf8c96",
            "value": 10
          }
        },
        "5322f04b088e400983e391bf40a67204": {
          "model_module": "@jupyter-widgets/controls",
          "model_name": "HTMLModel",
          "model_module_version": "1.5.0",
          "state": {
            "_dom_classes": [],
            "_model_module": "@jupyter-widgets/controls",
            "_model_module_version": "1.5.0",
            "_model_name": "HTMLModel",
            "_view_count": null,
            "_view_module": "@jupyter-widgets/controls",
            "_view_module_version": "1.5.0",
            "_view_name": "HTMLView",
            "description": "",
            "description_tooltip": null,
            "layout": "IPY_MODEL_335dda407a86425ab1c993d48ab44565",
            "placeholder": "​",
            "style": "IPY_MODEL_d2f6521b590f4081891ffa494e91de4d",
            "value": " 10/10 [00:00&lt;00:00, 192.95it/s]"
          }
        },
        "81f11b6883b547a38b9078a96fb4b0c6": {
          "model_module": "@jupyter-widgets/base",
          "model_name": "LayoutModel",
          "model_module_version": "1.2.0",
          "state": {
            "_model_module": "@jupyter-widgets/base",
            "_model_module_version": "1.2.0",
            "_model_name": "LayoutModel",
            "_view_count": null,
            "_view_module": "@jupyter-widgets/base",
            "_view_module_version": "1.2.0",
            "_view_name": "LayoutView",
            "align_content": null,
            "align_items": null,
            "align_self": null,
            "border": null,
            "bottom": null,
            "display": null,
            "flex": null,
            "flex_flow": null,
            "grid_area": null,
            "grid_auto_columns": null,
            "grid_auto_flow": null,
            "grid_auto_rows": null,
            "grid_column": null,
            "grid_gap": null,
            "grid_row": null,
            "grid_template_areas": null,
            "grid_template_columns": null,
            "grid_template_rows": null,
            "height": null,
            "justify_content": null,
            "justify_items": null,
            "left": null,
            "margin": null,
            "max_height": null,
            "max_width": null,
            "min_height": null,
            "min_width": null,
            "object_fit": null,
            "object_position": null,
            "order": null,
            "overflow": null,
            "overflow_x": null,
            "overflow_y": null,
            "padding": null,
            "right": null,
            "top": null,
            "visibility": null,
            "width": null
          }
        },
        "6061bfd826314ee9950badcf8a86eb15": {
          "model_module": "@jupyter-widgets/base",
          "model_name": "LayoutModel",
          "model_module_version": "1.2.0",
          "state": {
            "_model_module": "@jupyter-widgets/base",
            "_model_module_version": "1.2.0",
            "_model_name": "LayoutModel",
            "_view_count": null,
            "_view_module": "@jupyter-widgets/base",
            "_view_module_version": "1.2.0",
            "_view_name": "LayoutView",
            "align_content": null,
            "align_items": null,
            "align_self": null,
            "border": null,
            "bottom": null,
            "display": null,
            "flex": null,
            "flex_flow": null,
            "grid_area": null,
            "grid_auto_columns": null,
            "grid_auto_flow": null,
            "grid_auto_rows": null,
            "grid_column": null,
            "grid_gap": null,
            "grid_row": null,
            "grid_template_areas": null,
            "grid_template_columns": null,
            "grid_template_rows": null,
            "height": null,
            "justify_content": null,
            "justify_items": null,
            "left": null,
            "margin": null,
            "max_height": null,
            "max_width": null,
            "min_height": null,
            "min_width": null,
            "object_fit": null,
            "object_position": null,
            "order": null,
            "overflow": null,
            "overflow_x": null,
            "overflow_y": null,
            "padding": null,
            "right": null,
            "top": null,
            "visibility": null,
            "width": null
          }
        },
        "e61d284fd4c349f187afb190cccbc123": {
          "model_module": "@jupyter-widgets/controls",
          "model_name": "DescriptionStyleModel",
          "model_module_version": "1.5.0",
          "state": {
            "_model_module": "@jupyter-widgets/controls",
            "_model_module_version": "1.5.0",
            "_model_name": "DescriptionStyleModel",
            "_view_count": null,
            "_view_module": "@jupyter-widgets/base",
            "_view_module_version": "1.2.0",
            "_view_name": "StyleView",
            "description_width": ""
          }
        },
        "c4fc1bd6fc22496faf887a4a29ed8258": {
          "model_module": "@jupyter-widgets/base",
          "model_name": "LayoutModel",
          "model_module_version": "1.2.0",
          "state": {
            "_model_module": "@jupyter-widgets/base",
            "_model_module_version": "1.2.0",
            "_model_name": "LayoutModel",
            "_view_count": null,
            "_view_module": "@jupyter-widgets/base",
            "_view_module_version": "1.2.0",
            "_view_name": "LayoutView",
            "align_content": null,
            "align_items": null,
            "align_self": null,
            "border": null,
            "bottom": null,
            "display": null,
            "flex": null,
            "flex_flow": null,
            "grid_area": null,
            "grid_auto_columns": null,
            "grid_auto_flow": null,
            "grid_auto_rows": null,
            "grid_column": null,
            "grid_gap": null,
            "grid_row": null,
            "grid_template_areas": null,
            "grid_template_columns": null,
            "grid_template_rows": null,
            "height": null,
            "justify_content": null,
            "justify_items": null,
            "left": null,
            "margin": null,
            "max_height": null,
            "max_width": null,
            "min_height": null,
            "min_width": null,
            "object_fit": null,
            "object_position": null,
            "order": null,
            "overflow": null,
            "overflow_x": null,
            "overflow_y": null,
            "padding": null,
            "right": null,
            "top": null,
            "visibility": null,
            "width": null
          }
        },
        "e0fbc170156b42eab40fa19baadf8c96": {
          "model_module": "@jupyter-widgets/controls",
          "model_name": "ProgressStyleModel",
          "model_module_version": "1.5.0",
          "state": {
            "_model_module": "@jupyter-widgets/controls",
            "_model_module_version": "1.5.0",
            "_model_name": "ProgressStyleModel",
            "_view_count": null,
            "_view_module": "@jupyter-widgets/base",
            "_view_module_version": "1.2.0",
            "_view_name": "StyleView",
            "bar_color": null,
            "description_width": ""
          }
        },
        "335dda407a86425ab1c993d48ab44565": {
          "model_module": "@jupyter-widgets/base",
          "model_name": "LayoutModel",
          "model_module_version": "1.2.0",
          "state": {
            "_model_module": "@jupyter-widgets/base",
            "_model_module_version": "1.2.0",
            "_model_name": "LayoutModel",
            "_view_count": null,
            "_view_module": "@jupyter-widgets/base",
            "_view_module_version": "1.2.0",
            "_view_name": "LayoutView",
            "align_content": null,
            "align_items": null,
            "align_self": null,
            "border": null,
            "bottom": null,
            "display": null,
            "flex": null,
            "flex_flow": null,
            "grid_area": null,
            "grid_auto_columns": null,
            "grid_auto_flow": null,
            "grid_auto_rows": null,
            "grid_column": null,
            "grid_gap": null,
            "grid_row": null,
            "grid_template_areas": null,
            "grid_template_columns": null,
            "grid_template_rows": null,
            "height": null,
            "justify_content": null,
            "justify_items": null,
            "left": null,
            "margin": null,
            "max_height": null,
            "max_width": null,
            "min_height": null,
            "min_width": null,
            "object_fit": null,
            "object_position": null,
            "order": null,
            "overflow": null,
            "overflow_x": null,
            "overflow_y": null,
            "padding": null,
            "right": null,
            "top": null,
            "visibility": null,
            "width": null
          }
        },
        "d2f6521b590f4081891ffa494e91de4d": {
          "model_module": "@jupyter-widgets/controls",
          "model_name": "DescriptionStyleModel",
          "model_module_version": "1.5.0",
          "state": {
            "_model_module": "@jupyter-widgets/controls",
            "_model_module_version": "1.5.0",
            "_model_name": "DescriptionStyleModel",
            "_view_count": null,
            "_view_module": "@jupyter-widgets/base",
            "_view_module_version": "1.2.0",
            "_view_name": "StyleView",
            "description_width": ""
          }
        },
        "83a82b54f8c443d3b6895f616d236e92": {
          "model_module": "@jupyter-widgets/controls",
          "model_name": "HBoxModel",
          "model_module_version": "1.5.0",
          "state": {
            "_dom_classes": [],
            "_model_module": "@jupyter-widgets/controls",
            "_model_module_version": "1.5.0",
            "_model_name": "HBoxModel",
            "_view_count": null,
            "_view_module": "@jupyter-widgets/controls",
            "_view_module_version": "1.5.0",
            "_view_name": "HBoxView",
            "box_style": "",
            "children": [
              "IPY_MODEL_d6d86809d4334423814d1c04027c0684",
              "IPY_MODEL_68312a08d24340f880f0745bd707f9a1",
              "IPY_MODEL_8d08005e6d4e479cb08b273972bc68c0"
            ],
            "layout": "IPY_MODEL_9e5e465ab0584b6792dc77c7382051b1"
          }
        },
        "d6d86809d4334423814d1c04027c0684": {
          "model_module": "@jupyter-widgets/controls",
          "model_name": "HTMLModel",
          "model_module_version": "1.5.0",
          "state": {
            "_dom_classes": [],
            "_model_module": "@jupyter-widgets/controls",
            "_model_module_version": "1.5.0",
            "_model_name": "HTMLModel",
            "_view_count": null,
            "_view_module": "@jupyter-widgets/controls",
            "_view_module_version": "1.5.0",
            "_view_name": "HTMLView",
            "description": "",
            "description_tooltip": null,
            "layout": "IPY_MODEL_6fe71b1cfbda40cb9d45d618c99af77f",
            "placeholder": "​",
            "style": "IPY_MODEL_31b0b8ccf3f747b9af5c8f78d8b69bb9",
            "value": "100%"
          }
        },
        "68312a08d24340f880f0745bd707f9a1": {
          "model_module": "@jupyter-widgets/controls",
          "model_name": "FloatProgressModel",
          "model_module_version": "1.5.0",
          "state": {
            "_dom_classes": [],
            "_model_module": "@jupyter-widgets/controls",
            "_model_module_version": "1.5.0",
            "_model_name": "FloatProgressModel",
            "_view_count": null,
            "_view_module": "@jupyter-widgets/controls",
            "_view_module_version": "1.5.0",
            "_view_name": "ProgressView",
            "bar_style": "success",
            "description": "",
            "description_tooltip": null,
            "layout": "IPY_MODEL_706fddda79634b06b55bcff9a50211d4",
            "max": 142,
            "min": 0,
            "orientation": "horizontal",
            "style": "IPY_MODEL_2c802eb145d14490af6aeaf3d7699127",
            "value": 142
          }
        },
        "8d08005e6d4e479cb08b273972bc68c0": {
          "model_module": "@jupyter-widgets/controls",
          "model_name": "HTMLModel",
          "model_module_version": "1.5.0",
          "state": {
            "_dom_classes": [],
            "_model_module": "@jupyter-widgets/controls",
            "_model_module_version": "1.5.0",
            "_model_name": "HTMLModel",
            "_view_count": null,
            "_view_module": "@jupyter-widgets/controls",
            "_view_module_version": "1.5.0",
            "_view_name": "HTMLView",
            "description": "",
            "description_tooltip": null,
            "layout": "IPY_MODEL_64aaff300120426290e33de49c1e1fec",
            "placeholder": "​",
            "style": "IPY_MODEL_70f674b16c1447babf5686b221e81cbe",
            "value": " 142/142 [00:00&lt;00:00, 3128.19it/s]"
          }
        },
        "9e5e465ab0584b6792dc77c7382051b1": {
          "model_module": "@jupyter-widgets/base",
          "model_name": "LayoutModel",
          "model_module_version": "1.2.0",
          "state": {
            "_model_module": "@jupyter-widgets/base",
            "_model_module_version": "1.2.0",
            "_model_name": "LayoutModel",
            "_view_count": null,
            "_view_module": "@jupyter-widgets/base",
            "_view_module_version": "1.2.0",
            "_view_name": "LayoutView",
            "align_content": null,
            "align_items": null,
            "align_self": null,
            "border": null,
            "bottom": null,
            "display": null,
            "flex": null,
            "flex_flow": null,
            "grid_area": null,
            "grid_auto_columns": null,
            "grid_auto_flow": null,
            "grid_auto_rows": null,
            "grid_column": null,
            "grid_gap": null,
            "grid_row": null,
            "grid_template_areas": null,
            "grid_template_columns": null,
            "grid_template_rows": null,
            "height": null,
            "justify_content": null,
            "justify_items": null,
            "left": null,
            "margin": null,
            "max_height": null,
            "max_width": null,
            "min_height": null,
            "min_width": null,
            "object_fit": null,
            "object_position": null,
            "order": null,
            "overflow": null,
            "overflow_x": null,
            "overflow_y": null,
            "padding": null,
            "right": null,
            "top": null,
            "visibility": null,
            "width": null
          }
        },
        "6fe71b1cfbda40cb9d45d618c99af77f": {
          "model_module": "@jupyter-widgets/base",
          "model_name": "LayoutModel",
          "model_module_version": "1.2.0",
          "state": {
            "_model_module": "@jupyter-widgets/base",
            "_model_module_version": "1.2.0",
            "_model_name": "LayoutModel",
            "_view_count": null,
            "_view_module": "@jupyter-widgets/base",
            "_view_module_version": "1.2.0",
            "_view_name": "LayoutView",
            "align_content": null,
            "align_items": null,
            "align_self": null,
            "border": null,
            "bottom": null,
            "display": null,
            "flex": null,
            "flex_flow": null,
            "grid_area": null,
            "grid_auto_columns": null,
            "grid_auto_flow": null,
            "grid_auto_rows": null,
            "grid_column": null,
            "grid_gap": null,
            "grid_row": null,
            "grid_template_areas": null,
            "grid_template_columns": null,
            "grid_template_rows": null,
            "height": null,
            "justify_content": null,
            "justify_items": null,
            "left": null,
            "margin": null,
            "max_height": null,
            "max_width": null,
            "min_height": null,
            "min_width": null,
            "object_fit": null,
            "object_position": null,
            "order": null,
            "overflow": null,
            "overflow_x": null,
            "overflow_y": null,
            "padding": null,
            "right": null,
            "top": null,
            "visibility": null,
            "width": null
          }
        },
        "31b0b8ccf3f747b9af5c8f78d8b69bb9": {
          "model_module": "@jupyter-widgets/controls",
          "model_name": "DescriptionStyleModel",
          "model_module_version": "1.5.0",
          "state": {
            "_model_module": "@jupyter-widgets/controls",
            "_model_module_version": "1.5.0",
            "_model_name": "DescriptionStyleModel",
            "_view_count": null,
            "_view_module": "@jupyter-widgets/base",
            "_view_module_version": "1.2.0",
            "_view_name": "StyleView",
            "description_width": ""
          }
        },
        "706fddda79634b06b55bcff9a50211d4": {
          "model_module": "@jupyter-widgets/base",
          "model_name": "LayoutModel",
          "model_module_version": "1.2.0",
          "state": {
            "_model_module": "@jupyter-widgets/base",
            "_model_module_version": "1.2.0",
            "_model_name": "LayoutModel",
            "_view_count": null,
            "_view_module": "@jupyter-widgets/base",
            "_view_module_version": "1.2.0",
            "_view_name": "LayoutView",
            "align_content": null,
            "align_items": null,
            "align_self": null,
            "border": null,
            "bottom": null,
            "display": null,
            "flex": null,
            "flex_flow": null,
            "grid_area": null,
            "grid_auto_columns": null,
            "grid_auto_flow": null,
            "grid_auto_rows": null,
            "grid_column": null,
            "grid_gap": null,
            "grid_row": null,
            "grid_template_areas": null,
            "grid_template_columns": null,
            "grid_template_rows": null,
            "height": null,
            "justify_content": null,
            "justify_items": null,
            "left": null,
            "margin": null,
            "max_height": null,
            "max_width": null,
            "min_height": null,
            "min_width": null,
            "object_fit": null,
            "object_position": null,
            "order": null,
            "overflow": null,
            "overflow_x": null,
            "overflow_y": null,
            "padding": null,
            "right": null,
            "top": null,
            "visibility": null,
            "width": null
          }
        },
        "2c802eb145d14490af6aeaf3d7699127": {
          "model_module": "@jupyter-widgets/controls",
          "model_name": "ProgressStyleModel",
          "model_module_version": "1.5.0",
          "state": {
            "_model_module": "@jupyter-widgets/controls",
            "_model_module_version": "1.5.0",
            "_model_name": "ProgressStyleModel",
            "_view_count": null,
            "_view_module": "@jupyter-widgets/base",
            "_view_module_version": "1.2.0",
            "_view_name": "StyleView",
            "bar_color": null,
            "description_width": ""
          }
        },
        "64aaff300120426290e33de49c1e1fec": {
          "model_module": "@jupyter-widgets/base",
          "model_name": "LayoutModel",
          "model_module_version": "1.2.0",
          "state": {
            "_model_module": "@jupyter-widgets/base",
            "_model_module_version": "1.2.0",
            "_model_name": "LayoutModel",
            "_view_count": null,
            "_view_module": "@jupyter-widgets/base",
            "_view_module_version": "1.2.0",
            "_view_name": "LayoutView",
            "align_content": null,
            "align_items": null,
            "align_self": null,
            "border": null,
            "bottom": null,
            "display": null,
            "flex": null,
            "flex_flow": null,
            "grid_area": null,
            "grid_auto_columns": null,
            "grid_auto_flow": null,
            "grid_auto_rows": null,
            "grid_column": null,
            "grid_gap": null,
            "grid_row": null,
            "grid_template_areas": null,
            "grid_template_columns": null,
            "grid_template_rows": null,
            "height": null,
            "justify_content": null,
            "justify_items": null,
            "left": null,
            "margin": null,
            "max_height": null,
            "max_width": null,
            "min_height": null,
            "min_width": null,
            "object_fit": null,
            "object_position": null,
            "order": null,
            "overflow": null,
            "overflow_x": null,
            "overflow_y": null,
            "padding": null,
            "right": null,
            "top": null,
            "visibility": null,
            "width": null
          }
        },
        "70f674b16c1447babf5686b221e81cbe": {
          "model_module": "@jupyter-widgets/controls",
          "model_name": "DescriptionStyleModel",
          "model_module_version": "1.5.0",
          "state": {
            "_model_module": "@jupyter-widgets/controls",
            "_model_module_version": "1.5.0",
            "_model_name": "DescriptionStyleModel",
            "_view_count": null,
            "_view_module": "@jupyter-widgets/base",
            "_view_module_version": "1.2.0",
            "_view_name": "StyleView",
            "description_width": ""
          }
        }
      }
    }
  },
  "cells": [
    {
      "cell_type": "markdown",
      "metadata": {
        "id": "view-in-github",
        "colab_type": "text"
      },
      "source": [
        "<a href=\"https://colab.research.google.com/github/sreehari59/Polar-Embedding/blob/main/Polar_Embedding.ipynb\" target=\"_parent\"><img src=\"https://colab.research.google.com/assets/colab-badge.svg\" alt=\"Open In Colab\"/></a>"
      ]
    },
    {
      "cell_type": "code",
      "execution_count": 1,
      "metadata": {
        "id": "WpXcGM_fgQkQ",
        "colab": {
          "base_uri": "https://localhost:8080/"
        },
        "outputId": "94c49c03-68dc-4394-a97b-95b551cb31ba"
      },
      "outputs": [
        {
          "output_type": "stream",
          "name": "stdout",
          "text": [
            "Mounted at /content/drive\n",
            "Collecting ipython-autotime\n",
            "  Downloading ipython_autotime-0.3.1-py2.py3-none-any.whl (6.8 kB)\n",
            "Requirement already satisfied: ipython in /usr/local/lib/python3.7/dist-packages (from ipython-autotime) (5.5.0)\n",
            "Requirement already satisfied: pexpect in /usr/local/lib/python3.7/dist-packages (from ipython->ipython-autotime) (4.8.0)\n",
            "Requirement already satisfied: simplegeneric>0.8 in /usr/local/lib/python3.7/dist-packages (from ipython->ipython-autotime) (0.8.1)\n",
            "Requirement already satisfied: setuptools>=18.5 in /usr/local/lib/python3.7/dist-packages (from ipython->ipython-autotime) (57.4.0)\n",
            "Requirement already satisfied: decorator in /usr/local/lib/python3.7/dist-packages (from ipython->ipython-autotime) (4.4.2)\n",
            "Requirement already satisfied: prompt-toolkit<2.0.0,>=1.0.4 in /usr/local/lib/python3.7/dist-packages (from ipython->ipython-autotime) (1.0.18)\n",
            "Requirement already satisfied: traitlets>=4.2 in /usr/local/lib/python3.7/dist-packages (from ipython->ipython-autotime) (5.1.1)\n",
            "Requirement already satisfied: pickleshare in /usr/local/lib/python3.7/dist-packages (from ipython->ipython-autotime) (0.7.5)\n",
            "Requirement already satisfied: pygments in /usr/local/lib/python3.7/dist-packages (from ipython->ipython-autotime) (2.6.1)\n",
            "Requirement already satisfied: six>=1.9.0 in /usr/local/lib/python3.7/dist-packages (from prompt-toolkit<2.0.0,>=1.0.4->ipython->ipython-autotime) (1.15.0)\n",
            "Requirement already satisfied: wcwidth in /usr/local/lib/python3.7/dist-packages (from prompt-toolkit<2.0.0,>=1.0.4->ipython->ipython-autotime) (0.2.5)\n",
            "Requirement already satisfied: ptyprocess>=0.5 in /usr/local/lib/python3.7/dist-packages (from pexpect->ipython->ipython-autotime) (0.7.0)\n",
            "Installing collected packages: ipython-autotime\n",
            "Successfully installed ipython-autotime-0.3.1\n",
            "time: 5.31 ms (started: 2022-05-11 23:01:58 +00:00)\n"
          ]
        }
      ],
      "source": [
        "import gensim\n",
        "from numpy import linalg\n",
        "import numpy as np\n",
        "import pandas as pd\n",
        "from sklearn.metrics.pairwise import cosine_similarity\n",
        "from tqdm import tqdm_notebook as tqdm\n",
        "import time\n",
        "from random import shuffle\n",
        "import sys\n",
        "import nltk \n",
        "from nltk.corpus import wordnet \n",
        "import gc\n",
        "from collections import defaultdict\n",
        "import random\n",
        "import json\n",
        "import os\n",
        "\n",
        "from gensim.scripts.glove2word2vec import glove2word2vec\n",
        "from gensim.test.utils import datapath, get_tmpfile\n",
        "\n",
        "from gensim.test.utils import datapath\n",
        "\n",
        "# This is for the plotly subplots\n",
        "from plotly.subplots import make_subplots\n",
        "import plotly.graph_objects as go\n",
        "\n",
        "# This is to load file from google drive\n",
        "from google.colab import drive\n",
        "drive.mount('/content/drive')\n",
        "\n",
        "# This is to download csv file\n",
        "from google.colab import files\n",
        "\n",
        "import random\n",
        "import scipy\n",
        "\n",
        "\n",
        "!pip install ipython-autotime\n",
        "%load_ext autotime"
      ]
    },
    {
      "cell_type": "code",
      "source": [
        "def unzipping_file():\n",
        "  !wget https://nlp.stanford.edu/data/glove.6B.zip\n",
        "  !unzip glove*.zip # When it is unzipped you can see the different set of dimension it can have that is 25d, 50d, 100d or 200d"
      ],
      "metadata": {
        "colab": {
          "base_uri": "https://localhost:8080/"
        },
        "id": "UdjMJPsQin5X",
        "outputId": "1e57cb35-b1b8-435f-b1f5-70377a1002fb"
      },
      "execution_count": 2,
      "outputs": [
        {
          "output_type": "stream",
          "name": "stdout",
          "text": [
            "time: 3.11 ms (started: 2022-05-11 23:01:58 +00:00)\n"
          ]
        }
      ]
    },
    {
      "cell_type": "code",
      "source": [
        "def model_initialization(unzippedname, new_name):\n",
        "  model_glove = glove2word2vec(unzippedname,new_name)\n",
        "  model_glove = gensim.models.KeyedVectors.load_word2vec_format(new_name, binary=False)\n",
        "  return model_glove"
      ],
      "metadata": {
        "colab": {
          "base_uri": "https://localhost:8080/"
        },
        "id": "lSgm_BuJi1u2",
        "outputId": "5f62cef1-df4f-4397-a77b-a1db65c7971e"
      },
      "execution_count": 3,
      "outputs": [
        {
          "output_type": "stream",
          "name": "stdout",
          "text": [
            "time: 4.71 ms (started: 2022-05-11 23:01:58 +00:00)\n"
          ]
        }
      ]
    },
    {
      "cell_type": "code",
      "source": [
        "def generate_norm_embedding(model, output_path):\n",
        "    temp_file = open(output_path,'wb')\n",
        "    temp_file.write(str.encode(str(len(model.vocab))+' '+str(model.vector_size)+'\\n'))\n",
        "    \n",
        "    for each_word in tqdm(model.vocab):\n",
        "        temp_file.write(str.encode(each_word+' '))  \n",
        "        temp_file.write(model[each_word]/linalg.norm(model[each_word]))\n",
        "        temp_file.write(str.encode('\\n'))\n",
        "    \n",
        "    \n",
        "    temp_file.close()\n",
        "    return output_path"
      ],
      "metadata": {
        "colab": {
          "base_uri": "https://localhost:8080/"
        },
        "id": "4QDhOxMki1xK",
        "outputId": "1a1c8dfc-4020-4820-8d70-4091a7d9dc4e"
      },
      "execution_count": 4,
      "outputs": [
        {
          "output_type": "stream",
          "name": "stdout",
          "text": [
            "time: 10.8 ms (started: 2022-05-11 23:01:58 +00:00)\n"
          ]
        }
      ]
    },
    {
      "cell_type": "code",
      "source": [
        "def load_normalized_embedding(output_file_name):\n",
        "  return gensim.models.KeyedVectors.load_word2vec_format(output_file_name,binary=True)"
      ],
      "metadata": {
        "colab": {
          "base_uri": "https://localhost:8080/"
        },
        "id": "QCNWlFQ4j1BB",
        "outputId": "c124d095-f653-410e-9c8d-7432a8a7fd5e"
      },
      "execution_count": 5,
      "outputs": [
        {
          "output_type": "stream",
          "name": "stdout",
          "text": [
            "time: 1.77 ms (started: 2022-05-11 23:01:58 +00:00)\n"
          ]
        }
      ]
    },
    {
      "cell_type": "markdown",
      "source": [
        "**Loading the Antonym**"
      ],
      "metadata": {
        "id": "tjuehT_KlDNq"
      }
    },
    {
      "cell_type": "code",
      "source": [
        "def load_antonyms(list_new,current_model):\n",
        "  list_new= list(dict.fromkeys(list_new).keys())\n",
        "\n",
        "  similarity_matrix = defaultdict(list)\n",
        "  for each_pair in tqdm(list_new):\n",
        "      word1 = each_pair[0]\n",
        "      word2 = each_pair[1]\n",
        "      if word1 < word2:\n",
        "          similarity_matrix[word1].append(word2)\n",
        "      else:\n",
        "          similarity_matrix[word2].append(word1)\n",
        "\n",
        "  all_similarity = defaultdict(dict)\n",
        "  for each_key in tqdm(similarity_matrix):\n",
        "      for each_value in similarity_matrix[each_key]:\n",
        "  #         cosine_similarity([current_model[each_key]]\n",
        "          try:\n",
        "            all_similarity[each_key][each_value] = abs(cosine_similarity([current_model[each_key]],[current_model[each_value]])[0][0])\n",
        "          except:\n",
        "            print(\"The word is not in the vocabulary : \",each_key,\" \",each_value)\n",
        "\n",
        "  final_list = []\n",
        "  for index_counter, each_key in enumerate(tqdm(all_similarity)):\n",
        "  #     print(each_key,all_similarity[each_key])\n",
        "      listofTuples = sorted(all_similarity[each_key].items() ,  key=lambda x: x[1])\n",
        "  #     print(listofTuples)\n",
        "      final_list.append((each_key, listofTuples[0][0]))\n",
        "  print(len(final_list))\n",
        "\n",
        "  list_antonym = final_list\n",
        "  \n",
        "  return list_antonym"
      ],
      "metadata": {
        "colab": {
          "base_uri": "https://localhost:8080/"
        },
        "id": "GlVgY5XWklFf",
        "outputId": "49f8c00a-f968-4acf-a5f4-37546f47d7ce"
      },
      "execution_count": 6,
      "outputs": [
        {
          "output_type": "stream",
          "name": "stdout",
          "text": [
            "time: 38.1 ms (started: 2022-05-11 23:01:58 +00:00)\n"
          ]
        }
      ]
    },
    {
      "cell_type": "markdown",
      "source": [
        "**Find the antonym difference vectors**"
      ],
      "metadata": {
        "id": "j6CL60GP1k0_"
      }
    },
    {
      "cell_type": "code",
      "source": [
        "def antonym_difference_vector(list_antonym,current_model):\n",
        "  num_antonym  = len(list_antonym)\n",
        "  antonymy_vector = []\n",
        "  for each_word_pair in list_antonym:\n",
        "      antonymy_vector.append(current_model[each_word_pair[0]]- current_model[each_word_pair[1]])\n",
        "      \n",
        "  antonymy_vector = np.array(antonymy_vector)\n",
        "  print(antonymy_vector.shape)\n",
        "  print(antonymy_vector)\n",
        "  return antonymy_vector"
      ],
      "metadata": {
        "colab": {
          "base_uri": "https://localhost:8080/"
        },
        "id": "R7yjuU_V1boY",
        "outputId": "fec984bd-0dfb-4a46-f083-a04aa56769cf"
      },
      "execution_count": 7,
      "outputs": [
        {
          "output_type": "stream",
          "name": "stdout",
          "text": [
            "time: 7.04 ms (started: 2022-05-11 23:01:58 +00:00)\n"
          ]
        }
      ]
    },
    {
      "cell_type": "code",
      "source": [
        "def generate_embedding_path(current_model, embedding_path, binary, antonym_vector, curr_dim,antonymy_vector):\n",
        "    curr_antonym_vector = antonymy_vector[antonym_vector[:curr_dim]]\n",
        "    curr_antonymy_vector_inverse = np.linalg.pinv(np.transpose(curr_antonym_vector))\n",
        "    new_embedding_dict = transform_to_antonym_space(current_model, embedding_path, binary,curr_antonymy_vector_inverse)\n",
        "\n",
        "    return new_embedding_dict"
      ],
      "metadata": {
        "colab": {
          "base_uri": "https://localhost:8080/"
        },
        "id": "Qje6gzz323Pt",
        "outputId": "de7bdd7f-211c-4651-c236-e71257d361d0"
      },
      "execution_count": 8,
      "outputs": [
        {
          "output_type": "stream",
          "name": "stdout",
          "text": [
            "time: 4.19 ms (started: 2022-05-11 23:01:58 +00:00)\n"
          ]
        }
      ]
    },
    {
      "cell_type": "code",
      "source": [
        "def transform_to_antonym_space(current_model, output_file_path, binary, current_antonymy_vector_inverse):\n",
        "\n",
        "    temp_dict = dict()\n",
        "\n",
        "    embedding_size = current_antonymy_vector_inverse.shape[0]   ##CHANGE THIS ACCORDINGLY!!!\n",
        "    #print('New model size is',len(current_model), embedding_size)\n",
        "\n",
        "    temp_file = None\n",
        "    \n",
        "    if binary:\n",
        "        temp_file = open(output_file_path,'wb')\n",
        "        temp_file.write(str.encode(str(len(current_model))+' '+str(embedding_size)+'\\n'))\n",
        "    else:\n",
        "        temp_file = open(output_file_path,'w')\n",
        "        temp_file.write(str(len(current_model))+' '+str(embedding_size)+'\\n')\n",
        "\n",
        "    total_words = 0\n",
        "    for each_word in tqdm(current_model):\n",
        "        total_words += 1\n",
        "        if binary:\n",
        "            temp_file.write(str.encode(each_word+' '))\n",
        "        else:\n",
        "            temp_file.write(each_word+' ')\n",
        "\n",
        "        new_vector = np.matmul(current_antonymy_vector_inverse,current_model[each_word])\n",
        "\n",
        "        new_vector = new_vector/linalg.norm(new_vector)\n",
        "        temp_dict[each_word] = new_vector\n",
        "        \n",
        "        if binary:\n",
        "            temp_file.write(new_vector)\n",
        "            temp_file.write(str.encode('\\n'))\n",
        "        else:\n",
        "            temp_file.write(str(new_vector))\n",
        "            temp_file.write('\\n')\n",
        "\n",
        "\n",
        "    temp_file.close()\n",
        "    return temp_dict"
      ],
      "metadata": {
        "colab": {
          "base_uri": "https://localhost:8080/"
        },
        "id": "gRPHIto2-nmb",
        "outputId": "13153dbd-dc97-417b-f0e9-28d5b05b2ca8"
      },
      "execution_count": 9,
      "outputs": [
        {
          "output_type": "stream",
          "name": "stdout",
          "text": [
            "time: 29.8 ms (started: 2022-05-11 23:01:58 +00:00)\n"
          ]
        }
      ]
    },
    {
      "cell_type": "code",
      "source": [
        "def make_polar_dict(company_name, antonym, embedding, top_n = False, n = 10):\n",
        "  temp_dict = dict()\n",
        "  temp_polar = embedding[company_name]\n",
        "\n",
        "  if top_n:\n",
        "    idx = np.argsort([abs(x) for x in temp_polar])[-n:]\n",
        "    for i in idx:\n",
        "      print(antonym[i],temp_polar[i],'\\n')\n",
        "\n",
        "\n",
        "  if len(antonym) == len(temp_polar):\n",
        "    for a in range(len(antonym)):\n",
        "      temp_dict[antonym[a]] = temp_polar[a]\n",
        "    return temp_dict"
      ],
      "metadata": {
        "colab": {
          "base_uri": "https://localhost:8080/"
        },
        "id": "YSuobcrrQbHC",
        "outputId": "13bd5e7f-1ada-4cc7-bcc8-cad0856e74a2"
      },
      "execution_count": 10,
      "outputs": [
        {
          "output_type": "stream",
          "name": "stdout",
          "text": [
            "time: 8.68 ms (started: 2022-05-11 23:01:58 +00:00)\n"
          ]
        }
      ]
    },
    {
      "cell_type": "code",
      "source": [
        "def download_csv_file(df,filename):\n",
        "  df.to_csv(filename)\n",
        "  files.download(filename)"
      ],
      "metadata": {
        "colab": {
          "base_uri": "https://localhost:8080/"
        },
        "id": "c7vyAQYjb1C3",
        "outputId": "257d965c-d7ff-4ada-fd0a-f96f098d7d3a"
      },
      "execution_count": 11,
      "outputs": [
        {
          "output_type": "stream",
          "name": "stdout",
          "text": [
            "time: 1.79 ms (started: 2022-05-11 23:01:58 +00:00)\n"
          ]
        }
      ]
    },
    {
      "cell_type": "markdown",
      "source": [
        "**The below function will input the antonym pair from the user**"
      ],
      "metadata": {
        "id": "fNALrHuMat_N"
      }
    },
    {
      "cell_type": "code",
      "source": [
        "def user_antonym_input(list_new,user_list):\n",
        "  list_new.append(user_list)\n",
        "  return list_new"
      ],
      "metadata": {
        "id": "22ilbIPLai9Z"
      },
      "execution_count": null,
      "outputs": []
    },
    {
      "cell_type": "markdown",
      "source": [
        "**The below function will find words simliar to the given antonym pair**"
      ],
      "metadata": {
        "id": "ym2DkBB6fdtv"
      }
    },
    {
      "cell_type": "code",
      "source": [
        "def similar_antonym_pair(list_new,antonym_pair,current_model):\n",
        "  first_word = antonym_pair.split(\"-\")[0]\n",
        "  second_word = antonym_pair.split(\"-\")[1]\n",
        "\n",
        "  similar_word_list1 = current_model.similar_by_word(first_word)\n",
        "  similar_word_list2 = current_model.similar_by_word(second_word)\n",
        "  for i in range(0,5):\n",
        "    \n",
        "    new_antonym_word1 = similar_word_list1[i][0]\n",
        "    new_antonym_word2 = similar_word_list2[i][0]   \n",
        "   \n",
        "    antonym_tuple = (new_antonym_word1,new_antonym_word2)\n",
        "    \n",
        "    list_new.append(antonym_tuple)\n",
        "    clear_tuple(antonym_tuple)\n",
        "    \n",
        "  return list_new"
      ],
      "metadata": {
        "colab": {
          "base_uri": "https://localhost:8080/"
        },
        "id": "I5JkAeyFbAnH",
        "outputId": "5550618c-baf1-4215-ff71-ed166de9297d"
      },
      "execution_count": 47,
      "outputs": [
        {
          "output_type": "stream",
          "name": "stdout",
          "text": [
            "time: 12.7 ms (started: 2022-05-11 23:38:36 +00:00)\n"
          ]
        }
      ]
    },
    {
      "cell_type": "code",
      "source": [
        "def clear_tuple(tuples):\n",
        "  temp = list(tuples)\n",
        "  temp.clear()\n",
        "  tuples = tuple(temp)\n",
        "  return tuples"
      ],
      "metadata": {
        "colab": {
          "base_uri": "https://localhost:8080/"
        },
        "id": "Y5GgRVOEeNqB",
        "outputId": "ff155e37-bf5f-4377-dd42-f496bb1525e1"
      },
      "execution_count": 35,
      "outputs": [
        {
          "output_type": "stream",
          "name": "stdout",
          "text": [
            "time: 2 ms (started: 2022-05-11 23:35:06 +00:00)\n"
          ]
        }
      ]
    },
    {
      "cell_type": "code",
      "source": [
        "unzipping_file()\n",
        "model_glove = model_initialization('glove.6B.300d.txt','gensim_glove.6B.300d.txt')\n",
        "path = generate_norm_embedding(model_glove,'glove_norm_wiki.mod')\n",
        "current_model  = load_normalized_embedding(path)"
      ],
      "metadata": {
        "colab": {
          "base_uri": "https://localhost:8080/",
          "height": 483,
          "referenced_widgets": [
            "960857c44d17471aa8233f323278be2d",
            "1d2294a3b2b04744b7157d15c52bad69",
            "f3eefeef840c4fe0925ea06a5c8b72c8",
            "48fe10c4d8ec4bd7af7b3bed8affe4b2",
            "75b9890bace54876877e1e5a730f0b84",
            "23cbec8d6b0c474e9f582fd1ca0339bc",
            "1a79938bf97e4e8f9f066e53206dce36",
            "d3d81041bacb4674a86cc792f4fab7da",
            "e20bf630b4f747f39f18342d9a170e17",
            "d1f3a5b408d64d97a39feb45bb477dc8",
            "e455ce1cb0cf43e8a1fb2a2faecc66f8"
          ]
        },
        "id": "fihM-FC4-wW0",
        "outputId": "d03d06a6-9296-4b3d-e00b-7cf2810a1666"
      },
      "execution_count": 12,
      "outputs": [
        {
          "output_type": "stream",
          "name": "stdout",
          "text": [
            "--2022-05-11 23:01:58--  https://nlp.stanford.edu/data/glove.6B.zip\n",
            "Resolving nlp.stanford.edu (nlp.stanford.edu)... 171.64.67.140\n",
            "Connecting to nlp.stanford.edu (nlp.stanford.edu)|171.64.67.140|:443... connected.\n",
            "HTTP request sent, awaiting response... 301 Moved Permanently\n",
            "Location: http://downloads.cs.stanford.edu/nlp/data/glove.6B.zip [following]\n",
            "--2022-05-11 23:01:58--  http://downloads.cs.stanford.edu/nlp/data/glove.6B.zip\n",
            "Resolving downloads.cs.stanford.edu (downloads.cs.stanford.edu)... 171.64.64.22\n",
            "Connecting to downloads.cs.stanford.edu (downloads.cs.stanford.edu)|171.64.64.22|:80... connected.\n",
            "HTTP request sent, awaiting response... 200 OK\n",
            "Length: 862182613 (822M) [application/zip]\n",
            "Saving to: ‘glove.6B.zip’\n",
            "\n",
            "glove.6B.zip        100%[===================>] 822.24M  5.18MB/s    in 2m 39s  \n",
            "\n",
            "2022-05-11 23:04:38 (5.16 MB/s) - ‘glove.6B.zip’ saved [862182613/862182613]\n",
            "\n",
            "Archive:  glove.6B.zip\n",
            "  inflating: glove.6B.50d.txt        \n",
            "  inflating: glove.6B.100d.txt       \n",
            "  inflating: glove.6B.200d.txt       \n",
            "  inflating: glove.6B.300d.txt       \n"
          ]
        },
        {
          "output_type": "stream",
          "name": "stderr",
          "text": [
            "/usr/local/lib/python3.7/dist-packages/ipykernel_launcher.py:5: TqdmDeprecationWarning: This function will be removed in tqdm==5.0.0\n",
            "Please use `tqdm.notebook.tqdm` instead of `tqdm.tqdm_notebook`\n",
            "  \"\"\"\n"
          ]
        },
        {
          "output_type": "display_data",
          "data": {
            "text/plain": [
              "  0%|          | 0/400000 [00:00<?, ?it/s]"
            ],
            "application/vnd.jupyter.widget-view+json": {
              "version_major": 2,
              "version_minor": 0,
              "model_id": "960857c44d17471aa8233f323278be2d"
            }
          },
          "metadata": {}
        },
        {
          "output_type": "stream",
          "name": "stdout",
          "text": [
            "time: 4min 26s (started: 2022-05-11 23:01:58 +00:00)\n"
          ]
        }
      ]
    },
    {
      "cell_type": "code",
      "source": [
        "list_new= [('product', 'service'),\n",
        "('essential', 'luxury'),\n",
        "('technical', 'natural'),\n",
        "('renewable', 'nonrenewable'),\n",
        "('advertising', 'rumour'), \n",
        "('lease', 'sell'), \n",
        "('tangible', 'intangible'), \n",
        "('demand', 'supply'),\n",
        "('child', 'childless'),\n",
        "('remote', 'physical')]"
      ],
      "metadata": {
        "colab": {
          "base_uri": "https://localhost:8080/"
        },
        "id": "yJtIfsf0AHOH",
        "outputId": "7e867a78-e1e1-46f3-802e-3df760c654de"
      },
      "execution_count": 13,
      "outputs": [
        {
          "output_type": "stream",
          "name": "stdout",
          "text": [
            "time: 5.48 ms (started: 2022-05-11 23:06:25 +00:00)\n"
          ]
        }
      ]
    },
    {
      "cell_type": "code",
      "source": [
        "list_antonym  = load_antonyms(list_new,current_model)"
      ],
      "metadata": {
        "id": "w_3PABMoATI0",
        "colab": {
          "base_uri": "https://localhost:8080/",
          "height": 287,
          "referenced_widgets": [
            "7ad374cb5427421fb91503945efe9164",
            "ef7068d70f4947d2b61451d94df2c0e0",
            "b6b80dde76c8482e88e119372219ef36",
            "e0f0cebd56ad430591d3f6ed830e0400",
            "8fd70c8701064db3bd9b3793f1178f9a",
            "10be09d60a4d4037aef9ce67b14ff74e",
            "2397795add444cc49ad0bc46ce132886",
            "ce583ee9b65f46c5a6b1ce45c6db9347",
            "12729b11770c4d5e888fee92ed1a831e",
            "44bdfd3eb21749b0a94eb7f45f31e77c",
            "c5f92ef354dc4e4f8ac4981261059473",
            "0a189bb1f9d5466f8f93f799069b8109",
            "c33c2ba1ab9441fdbf94b26884f69b8b",
            "7594d0a6ce7849179aefcd56c68fb2cd",
            "03b88b9c4df147679377a7993bf8009f",
            "62ef5c8a9eda4b47851833e6ec1ec147",
            "988a70b94b8548c69cb5b523ba945c34",
            "d90ebbac9682485d90a67e899a44b233",
            "cd4b72916d884d3481cd759dc8f17749",
            "a565b52c03cf4f258b000a44d5b66f4d",
            "c216b221cb1045de94e64e7377c7bbc1",
            "ea90368f552f4470a4fd3f97a8270d1f",
            "0b2d11c7ddbe478b9e18443422780f95",
            "1993c0755200487893b8b2d95f1e9301",
            "14bdbc73008f4d4eaae0a4ea7000ca76",
            "5322f04b088e400983e391bf40a67204",
            "81f11b6883b547a38b9078a96fb4b0c6",
            "6061bfd826314ee9950badcf8a86eb15",
            "e61d284fd4c349f187afb190cccbc123",
            "c4fc1bd6fc22496faf887a4a29ed8258",
            "e0fbc170156b42eab40fa19baadf8c96",
            "335dda407a86425ab1c993d48ab44565",
            "d2f6521b590f4081891ffa494e91de4d"
          ]
        },
        "outputId": "f61d30ee-1965-48b3-e5af-cf1707e81ab4"
      },
      "execution_count": 14,
      "outputs": [
        {
          "output_type": "stream",
          "name": "stderr",
          "text": [
            "/usr/local/lib/python3.7/dist-packages/ipykernel_launcher.py:5: TqdmDeprecationWarning: This function will be removed in tqdm==5.0.0\n",
            "Please use `tqdm.notebook.tqdm` instead of `tqdm.tqdm_notebook`\n",
            "  \"\"\"\n"
          ]
        },
        {
          "output_type": "display_data",
          "data": {
            "text/plain": [
              "  0%|          | 0/10 [00:00<?, ?it/s]"
            ],
            "application/vnd.jupyter.widget-view+json": {
              "version_major": 2,
              "version_minor": 0,
              "model_id": "7ad374cb5427421fb91503945efe9164"
            }
          },
          "metadata": {}
        },
        {
          "output_type": "stream",
          "name": "stderr",
          "text": [
            "/usr/local/lib/python3.7/dist-packages/ipykernel_launcher.py:14: TqdmDeprecationWarning: This function will be removed in tqdm==5.0.0\n",
            "Please use `tqdm.notebook.tqdm` instead of `tqdm.tqdm_notebook`\n",
            "  \n"
          ]
        },
        {
          "output_type": "display_data",
          "data": {
            "text/plain": [
              "  0%|          | 0/10 [00:00<?, ?it/s]"
            ],
            "application/vnd.jupyter.widget-view+json": {
              "version_major": 2,
              "version_minor": 0,
              "model_id": "0a189bb1f9d5466f8f93f799069b8109"
            }
          },
          "metadata": {}
        },
        {
          "output_type": "stream",
          "name": "stderr",
          "text": [
            "/usr/local/lib/python3.7/dist-packages/ipykernel_launcher.py:23: TqdmDeprecationWarning: This function will be removed in tqdm==5.0.0\n",
            "Please use `tqdm.notebook.tqdm` instead of `tqdm.tqdm_notebook`\n"
          ]
        },
        {
          "output_type": "display_data",
          "data": {
            "text/plain": [
              "  0%|          | 0/10 [00:00<?, ?it/s]"
            ],
            "application/vnd.jupyter.widget-view+json": {
              "version_major": 2,
              "version_minor": 0,
              "model_id": "0b2d11c7ddbe478b9e18443422780f95"
            }
          },
          "metadata": {}
        },
        {
          "output_type": "stream",
          "name": "stdout",
          "text": [
            "10\n",
            "time: 193 ms (started: 2022-05-11 23:06:25 +00:00)\n"
          ]
        }
      ]
    },
    {
      "cell_type": "code",
      "source": [
        "antonymy_vector = antonym_difference_vector(list_antonym,current_model)\n",
        "print(antonymy_vector)"
      ],
      "metadata": {
        "id": "M-v_YTr_AgBV",
        "colab": {
          "base_uri": "https://localhost:8080/"
        },
        "outputId": "dc7463db-d4d7-4e8c-e963-1f78c05d5a34"
      },
      "execution_count": 15,
      "outputs": [
        {
          "output_type": "stream",
          "name": "stdout",
          "text": [
            "(10, 300)\n",
            "[[ 0.12007222  0.18291782 -0.01045436 ...  0.00340314 -0.04040879\n",
            "   0.04456742]\n",
            " [-0.05503665 -0.09060876 -0.00170645 ... -0.10382904 -0.16571268\n",
            "  -0.05653016]\n",
            " [-0.0209384   0.0909104  -0.00575457 ... -0.02009975  0.02040304\n",
            "   0.17290717]\n",
            " ...\n",
            " [ 0.01087348 -0.01034411 -0.03145081 ...  0.03090873  0.03611581\n",
            "  -0.02737074]\n",
            " [-0.00376742 -0.00955552 -0.10660151 ... -0.01117709 -0.08223383\n",
            "  -0.01124656]\n",
            " [ 0.08622979  0.03551516 -0.04093393 ... -0.00040361  0.0736662\n",
            "  -0.09048237]]\n",
            "[[ 0.12007222  0.18291782 -0.01045436 ...  0.00340314 -0.04040879\n",
            "   0.04456742]\n",
            " [-0.05503665 -0.09060876 -0.00170645 ... -0.10382904 -0.16571268\n",
            "  -0.05653016]\n",
            " [-0.0209384   0.0909104  -0.00575457 ... -0.02009975  0.02040304\n",
            "   0.17290717]\n",
            " ...\n",
            " [ 0.01087348 -0.01034411 -0.03145081 ...  0.03090873  0.03611581\n",
            "  -0.02737074]\n",
            " [-0.00376742 -0.00955552 -0.10660151 ... -0.01117709 -0.08223383\n",
            "  -0.01124656]\n",
            " [ 0.08622979  0.03551516 -0.04093393 ... -0.00040361  0.0736662\n",
            "  -0.09048237]]\n",
            "time: 7 ms (started: 2022-05-11 23:06:25 +00:00)\n"
          ]
        }
      ]
    },
    {
      "cell_type": "code",
      "source": [
        "company = pd.read_csv('/content/drive/MyDrive/International_Fortune_GloVe.csv',encoding= 'unicode_escape')\n",
        "name_list = company['0']"
      ],
      "metadata": {
        "colab": {
          "base_uri": "https://localhost:8080/"
        },
        "id": "k5XwcedKBKgB",
        "outputId": "ecd46b35-f63e-4ba5-d66f-e44353b43baa"
      },
      "execution_count": 16,
      "outputs": [
        {
          "output_type": "stream",
          "name": "stdout",
          "text": [
            "time: 305 ms (started: 2022-05-11 23:06:25 +00:00)\n"
          ]
        }
      ]
    },
    {
      "cell_type": "code",
      "source": [
        "name_word_embedding = dict()\n",
        "new_name_list=[]\n",
        "for name in name_list:\n",
        "  try:\n",
        "    name_word_embedding[name] = current_model[name]\n",
        "    new_name_list.append(name)\n",
        "  except:\n",
        "    print(\"The company is not there: \",name)\n",
        "\n",
        "print(new_name_list)"
      ],
      "metadata": {
        "id": "hfxFI78gE_ew",
        "colab": {
          "base_uri": "https://localhost:8080/"
        },
        "outputId": "80e4741b-edc1-41cd-bed8-bfe5e55bde29"
      },
      "execution_count": 17,
      "outputs": [
        {
          "output_type": "stream",
          "name": "stdout",
          "text": [
            "The company is not there:  jpmorganchase\n",
            "The company is not there:  generalmotors\n",
            "The company is not there:  fanniemae\n",
            "The company is not there:  bankofamerica\n",
            "The company is not there:  nestlÃ©\n",
            "The company is not there:  wellsfargo\n",
            "The company is not there:  generalelectric\n",
            "The company is not there:  sinopharm\n",
            "The company is not there:  freddiemac\n",
            "The company is not there:  waltdisney\n",
            "The company is not there:  engie\n",
            "The company is not there:  morganstanley\n",
            "The company is not there:  indianoil\n",
            "The company is not there:  telefÃ³nica\n",
            "The company is not there:  bestbuy\n",
            "The company is not there:  talanx\n",
            "The company is not there:  abbvie\n",
            "The company is not there:  americanexpress\n",
            "The company is not there:  deutschebank\n",
            "The company is not there:  tatamotors\n",
            "The company is not there:  l'orÃ©al\n",
            "The company is not there:  angloamerican\n",
            "The company is not there:  achmea\n",
            "The company is not there:  dollartree\n",
            "The company is not there:  riteaid\n",
            "['walmart', 'amazon', 'apple', 'volkswagen', 'mckesson', 'amerisourcebergen', 'bp', 'alphabet', 'exxonmobil', 'daimler', 'at&t', 'cigna', 'microsoft', 'glencore', 'allianz', 'kroger', 'homedepot', 'axa', 'anthem', 'mitsubishi', 'centene', 'comcast', 'itochu', 'chevron', 'target', 'citigroup', 'gazprom', 'facebook', 'sony', 'hitachi', 'carrefour', 'tesco', 'aeon', 'intel', 'humana', 'cofco', 'mitsui', 'enel', 'lukoil', 'sk', 'e.on', 'pepsico', 'albertsons', 'basf', 'fedex', 'metlife', 'siemens', 'sinochem', 'panasonic', 'aviva', 'marubeni', 'aegon', 'boeing', 'unilever', 'airbus', 'petrobras', 'hp', 'prudential', 'fortum', 'arcelormittal', 'sysco', 'jbs', 'ptt', 'vinci', 'kia', 'eni', 'kddi', 'novartis', 'renault', 'posco', 'bayer', 'orange', 'merck', 'pegatron', 'denso', 'allstate', 'pemex', 'accenture', 'sumitomo', 'glaxosmithkline', 'saint-gobain', 'sberbank', 'hanwha', 'continental', 'progressive', 'sanofi', 'petronas', 'nationwide', 'pfizer', 'caterpillar', 'tiaa', 'pertamina', 'bunge', 'fresenius', 'vale', 'acs', 'thyssenkrupp', 'bouygues', 'oracle', 'dow', 'iberdrola', 'nike', 'volvo', 'metro', 'usaa', 'chubb', 'xiaomi', 'deere', 'barclays', 'fujitsu', 'aisin', 'exelon', 'coca-cola', 'repsol', '3m', 'tjx', 'travelers', 'tesla', 'sap', 'abb', 'canon', 'enbridge', 'medtronic', 'toshiba', 'wistron', 'chs', 'nec', 'bridgestone', 'crh', 'jabil', 'linde', 'danone', 'centrica', 'subaru', 'astrazeneca', 'amgen', 'ericsson', 'netflix', 'nokia', 'synnex', 'holcim', 'flex']\n",
            "time: 19.8 ms (started: 2022-05-11 23:06:26 +00:00)\n"
          ]
        }
      ]
    },
    {
      "cell_type": "code",
      "source": [
        "random_antonym_vector = [i for i in range(len(antonymy_vector))]\n",
        "random.shuffle(random_antonym_vector)\n",
        "print(len(random_antonym_vector))\n",
        "name_new_embedding = generate_embedding_path(name_word_embedding, 'test_run',True ,random_antonym_vector,500,antonymy_vector)"
      ],
      "metadata": {
        "colab": {
          "base_uri": "https://localhost:8080/",
          "height": 118,
          "referenced_widgets": [
            "83a82b54f8c443d3b6895f616d236e92",
            "d6d86809d4334423814d1c04027c0684",
            "68312a08d24340f880f0745bd707f9a1",
            "8d08005e6d4e479cb08b273972bc68c0",
            "9e5e465ab0584b6792dc77c7382051b1",
            "6fe71b1cfbda40cb9d45d618c99af77f",
            "31b0b8ccf3f747b9af5c8f78d8b69bb9",
            "706fddda79634b06b55bcff9a50211d4",
            "2c802eb145d14490af6aeaf3d7699127",
            "64aaff300120426290e33de49c1e1fec",
            "70f674b16c1447babf5686b221e81cbe"
          ]
        },
        "id": "7SWRW9DBFHj9",
        "outputId": "c1ad3332-2210-4ca1-8b61-22dfc897345a"
      },
      "execution_count": 18,
      "outputs": [
        {
          "output_type": "stream",
          "name": "stdout",
          "text": [
            "10\n"
          ]
        },
        {
          "output_type": "stream",
          "name": "stderr",
          "text": [
            "/usr/local/lib/python3.7/dist-packages/ipykernel_launcher.py:18: TqdmDeprecationWarning: This function will be removed in tqdm==5.0.0\n",
            "Please use `tqdm.notebook.tqdm` instead of `tqdm.tqdm_notebook`\n"
          ]
        },
        {
          "output_type": "display_data",
          "data": {
            "text/plain": [
              "  0%|          | 0/142 [00:00<?, ?it/s]"
            ],
            "application/vnd.jupyter.widget-view+json": {
              "version_major": 2,
              "version_minor": 0,
              "model_id": "83a82b54f8c443d3b6895f616d236e92"
            }
          },
          "metadata": {}
        },
        {
          "output_type": "stream",
          "name": "stdout",
          "text": [
            "time: 102 ms (started: 2022-05-11 23:06:26 +00:00)\n"
          ]
        }
      ]
    },
    {
      "cell_type": "code",
      "source": [
        "antonym_500 = [list_antonym[x] for x in random_antonym_vector[:500]]"
      ],
      "metadata": {
        "colab": {
          "base_uri": "https://localhost:8080/"
        },
        "id": "WxQws8sdQUHs",
        "outputId": "0b3c4b5f-97b0-4ea3-f18c-40d69612445d"
      },
      "execution_count": 19,
      "outputs": [
        {
          "output_type": "stream",
          "name": "stdout",
          "text": [
            "time: 1.82 ms (started: 2022-05-11 23:06:26 +00:00)\n"
          ]
        }
      ]
    },
    {
      "cell_type": "markdown",
      "source": [
        "**Polar Embedding -> DataFrame**"
      ],
      "metadata": {
        "id": "WkZaxo1PWEm2"
      }
    },
    {
      "cell_type": "code",
      "source": [
        "df = dict()\n",
        "for t in new_name_list:\n",
        "  df[t] = make_polar_dict(t, antonym_500, name_new_embedding)\n",
        "\n",
        "new_df = pd.DataFrame(df).transpose()\n",
        "\n",
        "\n",
        "# change columns to better read names\n",
        "new_columns = []\n",
        "\n",
        "for pair in antonym_500:\n",
        "  temp = pair[0]+''+pair[1]\n",
        "  new_columns.append(temp)\n",
        "\n",
        "new_df.columns = new_columns"
      ],
      "metadata": {
        "colab": {
          "base_uri": "https://localhost:8080/"
        },
        "id": "rMoNXrceQo1e",
        "outputId": "848bc995-21ec-4ed1-d919-0c4060acaa00"
      },
      "execution_count": 20,
      "outputs": [
        {
          "output_type": "stream",
          "name": "stdout",
          "text": [
            "time: 62.3 ms (started: 2022-05-11 23:06:26 +00:00)\n"
          ]
        }
      ]
    },
    {
      "cell_type": "code",
      "source": [
        "new_df.head()"
      ],
      "metadata": {
        "colab": {
          "base_uri": "https://localhost:8080/",
          "height": 267
        },
        "id": "0IaPxlw3fRlD",
        "outputId": "5280426c-0c0b-4fe0-d778-713cdbece7da"
      },
      "execution_count": 21,
      "outputs": [
        {
          "output_type": "execute_result",
          "data": {
            "text/plain": [
              "            essentialluxury  naturaltechnical  advertisingrumour  \\\n",
              "walmart           -0.397833          0.547627           0.053615   \n",
              "amazon             0.149086          0.337541           0.274870   \n",
              "apple              0.019489         -0.241936           0.276218   \n",
              "volkswagen        -0.680670         -0.189240           0.166854   \n",
              "mckesson          -0.033068          0.196849           0.185271   \n",
              "\n",
              "            childchildless  productservice  demandsupply  intangibletangible  \\\n",
              "walmart          -0.234927        0.210923     -0.610311           -0.107264   \n",
              "amazon            0.256857        0.154932      0.244374           -0.073648   \n",
              "apple             0.059273        0.446798      0.053345           -0.029875   \n",
              "volkswagen       -0.164525        0.358346     -0.171160           -0.164260   \n",
              "mckesson         -0.725982       -0.037312     -0.436756            0.277886   \n",
              "\n",
              "            leasesell  nonrenewablerenewable  physicalremote  \n",
              "walmart     -0.203712               0.094820       -0.069312  \n",
              "amazon      -0.074484               0.017427       -0.792030  \n",
              "apple       -0.630734              -0.369896       -0.351087  \n",
              "volkswagen  -0.273070              -0.426517        0.069241  \n",
              "mckesson    -0.190578              -0.052383        0.300580  "
            ],
            "text/html": [
              "\n",
              "  <div id=\"df-a3f4fbab-0264-4eb0-86d5-1998a134acb6\">\n",
              "    <div class=\"colab-df-container\">\n",
              "      <div>\n",
              "<style scoped>\n",
              "    .dataframe tbody tr th:only-of-type {\n",
              "        vertical-align: middle;\n",
              "    }\n",
              "\n",
              "    .dataframe tbody tr th {\n",
              "        vertical-align: top;\n",
              "    }\n",
              "\n",
              "    .dataframe thead th {\n",
              "        text-align: right;\n",
              "    }\n",
              "</style>\n",
              "<table border=\"1\" class=\"dataframe\">\n",
              "  <thead>\n",
              "    <tr style=\"text-align: right;\">\n",
              "      <th></th>\n",
              "      <th>essentialluxury</th>\n",
              "      <th>naturaltechnical</th>\n",
              "      <th>advertisingrumour</th>\n",
              "      <th>childchildless</th>\n",
              "      <th>productservice</th>\n",
              "      <th>demandsupply</th>\n",
              "      <th>intangibletangible</th>\n",
              "      <th>leasesell</th>\n",
              "      <th>nonrenewablerenewable</th>\n",
              "      <th>physicalremote</th>\n",
              "    </tr>\n",
              "  </thead>\n",
              "  <tbody>\n",
              "    <tr>\n",
              "      <th>walmart</th>\n",
              "      <td>-0.397833</td>\n",
              "      <td>0.547627</td>\n",
              "      <td>0.053615</td>\n",
              "      <td>-0.234927</td>\n",
              "      <td>0.210923</td>\n",
              "      <td>-0.610311</td>\n",
              "      <td>-0.107264</td>\n",
              "      <td>-0.203712</td>\n",
              "      <td>0.094820</td>\n",
              "      <td>-0.069312</td>\n",
              "    </tr>\n",
              "    <tr>\n",
              "      <th>amazon</th>\n",
              "      <td>0.149086</td>\n",
              "      <td>0.337541</td>\n",
              "      <td>0.274870</td>\n",
              "      <td>0.256857</td>\n",
              "      <td>0.154932</td>\n",
              "      <td>0.244374</td>\n",
              "      <td>-0.073648</td>\n",
              "      <td>-0.074484</td>\n",
              "      <td>0.017427</td>\n",
              "      <td>-0.792030</td>\n",
              "    </tr>\n",
              "    <tr>\n",
              "      <th>apple</th>\n",
              "      <td>0.019489</td>\n",
              "      <td>-0.241936</td>\n",
              "      <td>0.276218</td>\n",
              "      <td>0.059273</td>\n",
              "      <td>0.446798</td>\n",
              "      <td>0.053345</td>\n",
              "      <td>-0.029875</td>\n",
              "      <td>-0.630734</td>\n",
              "      <td>-0.369896</td>\n",
              "      <td>-0.351087</td>\n",
              "    </tr>\n",
              "    <tr>\n",
              "      <th>volkswagen</th>\n",
              "      <td>-0.680670</td>\n",
              "      <td>-0.189240</td>\n",
              "      <td>0.166854</td>\n",
              "      <td>-0.164525</td>\n",
              "      <td>0.358346</td>\n",
              "      <td>-0.171160</td>\n",
              "      <td>-0.164260</td>\n",
              "      <td>-0.273070</td>\n",
              "      <td>-0.426517</td>\n",
              "      <td>0.069241</td>\n",
              "    </tr>\n",
              "    <tr>\n",
              "      <th>mckesson</th>\n",
              "      <td>-0.033068</td>\n",
              "      <td>0.196849</td>\n",
              "      <td>0.185271</td>\n",
              "      <td>-0.725982</td>\n",
              "      <td>-0.037312</td>\n",
              "      <td>-0.436756</td>\n",
              "      <td>0.277886</td>\n",
              "      <td>-0.190578</td>\n",
              "      <td>-0.052383</td>\n",
              "      <td>0.300580</td>\n",
              "    </tr>\n",
              "  </tbody>\n",
              "</table>\n",
              "</div>\n",
              "      <button class=\"colab-df-convert\" onclick=\"convertToInteractive('df-a3f4fbab-0264-4eb0-86d5-1998a134acb6')\"\n",
              "              title=\"Convert this dataframe to an interactive table.\"\n",
              "              style=\"display:none;\">\n",
              "        \n",
              "  <svg xmlns=\"http://www.w3.org/2000/svg\" height=\"24px\"viewBox=\"0 0 24 24\"\n",
              "       width=\"24px\">\n",
              "    <path d=\"M0 0h24v24H0V0z\" fill=\"none\"/>\n",
              "    <path d=\"M18.56 5.44l.94 2.06.94-2.06 2.06-.94-2.06-.94-.94-2.06-.94 2.06-2.06.94zm-11 1L8.5 8.5l.94-2.06 2.06-.94-2.06-.94L8.5 2.5l-.94 2.06-2.06.94zm10 10l.94 2.06.94-2.06 2.06-.94-2.06-.94-.94-2.06-.94 2.06-2.06.94z\"/><path d=\"M17.41 7.96l-1.37-1.37c-.4-.4-.92-.59-1.43-.59-.52 0-1.04.2-1.43.59L10.3 9.45l-7.72 7.72c-.78.78-.78 2.05 0 2.83L4 21.41c.39.39.9.59 1.41.59.51 0 1.02-.2 1.41-.59l7.78-7.78 2.81-2.81c.8-.78.8-2.07 0-2.86zM5.41 20L4 18.59l7.72-7.72 1.47 1.35L5.41 20z\"/>\n",
              "  </svg>\n",
              "      </button>\n",
              "      \n",
              "  <style>\n",
              "    .colab-df-container {\n",
              "      display:flex;\n",
              "      flex-wrap:wrap;\n",
              "      gap: 12px;\n",
              "    }\n",
              "\n",
              "    .colab-df-convert {\n",
              "      background-color: #E8F0FE;\n",
              "      border: none;\n",
              "      border-radius: 50%;\n",
              "      cursor: pointer;\n",
              "      display: none;\n",
              "      fill: #1967D2;\n",
              "      height: 32px;\n",
              "      padding: 0 0 0 0;\n",
              "      width: 32px;\n",
              "    }\n",
              "\n",
              "    .colab-df-convert:hover {\n",
              "      background-color: #E2EBFA;\n",
              "      box-shadow: 0px 1px 2px rgba(60, 64, 67, 0.3), 0px 1px 3px 1px rgba(60, 64, 67, 0.15);\n",
              "      fill: #174EA6;\n",
              "    }\n",
              "\n",
              "    [theme=dark] .colab-df-convert {\n",
              "      background-color: #3B4455;\n",
              "      fill: #D2E3FC;\n",
              "    }\n",
              "\n",
              "    [theme=dark] .colab-df-convert:hover {\n",
              "      background-color: #434B5C;\n",
              "      box-shadow: 0px 1px 3px 1px rgba(0, 0, 0, 0.15);\n",
              "      filter: drop-shadow(0px 1px 2px rgba(0, 0, 0, 0.3));\n",
              "      fill: #FFFFFF;\n",
              "    }\n",
              "  </style>\n",
              "\n",
              "      <script>\n",
              "        const buttonEl =\n",
              "          document.querySelector('#df-a3f4fbab-0264-4eb0-86d5-1998a134acb6 button.colab-df-convert');\n",
              "        buttonEl.style.display =\n",
              "          google.colab.kernel.accessAllowed ? 'block' : 'none';\n",
              "\n",
              "        async function convertToInteractive(key) {\n",
              "          const element = document.querySelector('#df-a3f4fbab-0264-4eb0-86d5-1998a134acb6');\n",
              "          const dataTable =\n",
              "            await google.colab.kernel.invokeFunction('convertToInteractive',\n",
              "                                                     [key], {});\n",
              "          if (!dataTable) return;\n",
              "\n",
              "          const docLinkHtml = 'Like what you see? Visit the ' +\n",
              "            '<a target=\"_blank\" href=https://colab.research.google.com/notebooks/data_table.ipynb>data table notebook</a>'\n",
              "            + ' to learn more about interactive tables.';\n",
              "          element.innerHTML = '';\n",
              "          dataTable['output_type'] = 'display_data';\n",
              "          await google.colab.output.renderOutput(dataTable, element);\n",
              "          const docLink = document.createElement('div');\n",
              "          docLink.innerHTML = docLinkHtml;\n",
              "          element.appendChild(docLink);\n",
              "        }\n",
              "      </script>\n",
              "    </div>\n",
              "  </div>\n",
              "  "
            ]
          },
          "metadata": {},
          "execution_count": 21
        },
        {
          "output_type": "stream",
          "name": "stdout",
          "text": [
            "time: 47.1 ms (started: 2022-05-11 23:06:26 +00:00)\n"
          ]
        }
      ]
    },
    {
      "cell_type": "code",
      "source": [
        "fortune_500_company = pd.read_csv('/content/drive/MyDrive/Fortune Global 500 companies.csv',encoding= 'unicode_escape')\n",
        "fortune_500_company['Company'] = fortune_500_company['Company'].str.lower()\n",
        "fortune_500_company['Company'] = fortune_500_company['Company'].str.replace(\" \",\"\")\n"
      ],
      "metadata": {
        "id": "WWMc_XISqtxF",
        "colab": {
          "base_uri": "https://localhost:8080/"
        },
        "outputId": "e4a8ea81-7bdb-4c9b-a5ea-1ac2797b295e"
      },
      "execution_count": 22,
      "outputs": [
        {
          "output_type": "stream",
          "name": "stdout",
          "text": [
            "time: 388 ms (started: 2022-05-11 23:06:26 +00:00)\n"
          ]
        }
      ]
    },
    {
      "cell_type": "code",
      "source": [
        "polar_embedding = pd.merge(fortune_500_company,new_df,how=\"right\",left_on=\"Company\",right_on=new_df.index)"
      ],
      "metadata": {
        "colab": {
          "base_uri": "https://localhost:8080/",
          "height": 223
        },
        "id": "nBc9_F_hYUX5",
        "outputId": "4b6dfba5-5da5-4df2-a9d8-5df2e8f2fa65"
      },
      "execution_count": 51,
      "outputs": [
        {
          "output_type": "execute_result",
          "data": {
            "text/plain": [
              "   Rank                 Company Location\n",
              "0     1                 walmart      USA\n",
              "1     2               stategrid    China\n",
              "2     3                  amazon      USA\n",
              "3     4  chinanationalpetroleum    China\n",
              "4     5            sinopecgroup    China"
            ],
            "text/html": [
              "\n",
              "  <div id=\"df-4351fb73-564b-47e0-b030-8a1de6fbf75e\">\n",
              "    <div class=\"colab-df-container\">\n",
              "      <div>\n",
              "<style scoped>\n",
              "    .dataframe tbody tr th:only-of-type {\n",
              "        vertical-align: middle;\n",
              "    }\n",
              "\n",
              "    .dataframe tbody tr th {\n",
              "        vertical-align: top;\n",
              "    }\n",
              "\n",
              "    .dataframe thead th {\n",
              "        text-align: right;\n",
              "    }\n",
              "</style>\n",
              "<table border=\"1\" class=\"dataframe\">\n",
              "  <thead>\n",
              "    <tr style=\"text-align: right;\">\n",
              "      <th></th>\n",
              "      <th>Rank</th>\n",
              "      <th>Company</th>\n",
              "      <th>Location</th>\n",
              "    </tr>\n",
              "  </thead>\n",
              "  <tbody>\n",
              "    <tr>\n",
              "      <th>0</th>\n",
              "      <td>1</td>\n",
              "      <td>walmart</td>\n",
              "      <td>USA</td>\n",
              "    </tr>\n",
              "    <tr>\n",
              "      <th>1</th>\n",
              "      <td>2</td>\n",
              "      <td>stategrid</td>\n",
              "      <td>China</td>\n",
              "    </tr>\n",
              "    <tr>\n",
              "      <th>2</th>\n",
              "      <td>3</td>\n",
              "      <td>amazon</td>\n",
              "      <td>USA</td>\n",
              "    </tr>\n",
              "    <tr>\n",
              "      <th>3</th>\n",
              "      <td>4</td>\n",
              "      <td>chinanationalpetroleum</td>\n",
              "      <td>China</td>\n",
              "    </tr>\n",
              "    <tr>\n",
              "      <th>4</th>\n",
              "      <td>5</td>\n",
              "      <td>sinopecgroup</td>\n",
              "      <td>China</td>\n",
              "    </tr>\n",
              "  </tbody>\n",
              "</table>\n",
              "</div>\n",
              "      <button class=\"colab-df-convert\" onclick=\"convertToInteractive('df-4351fb73-564b-47e0-b030-8a1de6fbf75e')\"\n",
              "              title=\"Convert this dataframe to an interactive table.\"\n",
              "              style=\"display:none;\">\n",
              "        \n",
              "  <svg xmlns=\"http://www.w3.org/2000/svg\" height=\"24px\"viewBox=\"0 0 24 24\"\n",
              "       width=\"24px\">\n",
              "    <path d=\"M0 0h24v24H0V0z\" fill=\"none\"/>\n",
              "    <path d=\"M18.56 5.44l.94 2.06.94-2.06 2.06-.94-2.06-.94-.94-2.06-.94 2.06-2.06.94zm-11 1L8.5 8.5l.94-2.06 2.06-.94-2.06-.94L8.5 2.5l-.94 2.06-2.06.94zm10 10l.94 2.06.94-2.06 2.06-.94-2.06-.94-.94-2.06-.94 2.06-2.06.94z\"/><path d=\"M17.41 7.96l-1.37-1.37c-.4-.4-.92-.59-1.43-.59-.52 0-1.04.2-1.43.59L10.3 9.45l-7.72 7.72c-.78.78-.78 2.05 0 2.83L4 21.41c.39.39.9.59 1.41.59.51 0 1.02-.2 1.41-.59l7.78-7.78 2.81-2.81c.8-.78.8-2.07 0-2.86zM5.41 20L4 18.59l7.72-7.72 1.47 1.35L5.41 20z\"/>\n",
              "  </svg>\n",
              "      </button>\n",
              "      \n",
              "  <style>\n",
              "    .colab-df-container {\n",
              "      display:flex;\n",
              "      flex-wrap:wrap;\n",
              "      gap: 12px;\n",
              "    }\n",
              "\n",
              "    .colab-df-convert {\n",
              "      background-color: #E8F0FE;\n",
              "      border: none;\n",
              "      border-radius: 50%;\n",
              "      cursor: pointer;\n",
              "      display: none;\n",
              "      fill: #1967D2;\n",
              "      height: 32px;\n",
              "      padding: 0 0 0 0;\n",
              "      width: 32px;\n",
              "    }\n",
              "\n",
              "    .colab-df-convert:hover {\n",
              "      background-color: #E2EBFA;\n",
              "      box-shadow: 0px 1px 2px rgba(60, 64, 67, 0.3), 0px 1px 3px 1px rgba(60, 64, 67, 0.15);\n",
              "      fill: #174EA6;\n",
              "    }\n",
              "\n",
              "    [theme=dark] .colab-df-convert {\n",
              "      background-color: #3B4455;\n",
              "      fill: #D2E3FC;\n",
              "    }\n",
              "\n",
              "    [theme=dark] .colab-df-convert:hover {\n",
              "      background-color: #434B5C;\n",
              "      box-shadow: 0px 1px 3px 1px rgba(0, 0, 0, 0.15);\n",
              "      filter: drop-shadow(0px 1px 2px rgba(0, 0, 0, 0.3));\n",
              "      fill: #FFFFFF;\n",
              "    }\n",
              "  </style>\n",
              "\n",
              "      <script>\n",
              "        const buttonEl =\n",
              "          document.querySelector('#df-4351fb73-564b-47e0-b030-8a1de6fbf75e button.colab-df-convert');\n",
              "        buttonEl.style.display =\n",
              "          google.colab.kernel.accessAllowed ? 'block' : 'none';\n",
              "\n",
              "        async function convertToInteractive(key) {\n",
              "          const element = document.querySelector('#df-4351fb73-564b-47e0-b030-8a1de6fbf75e');\n",
              "          const dataTable =\n",
              "            await google.colab.kernel.invokeFunction('convertToInteractive',\n",
              "                                                     [key], {});\n",
              "          if (!dataTable) return;\n",
              "\n",
              "          const docLinkHtml = 'Like what you see? Visit the ' +\n",
              "            '<a target=\"_blank\" href=https://colab.research.google.com/notebooks/data_table.ipynb>data table notebook</a>'\n",
              "            + ' to learn more about interactive tables.';\n",
              "          element.innerHTML = '';\n",
              "          dataTable['output_type'] = 'display_data';\n",
              "          await google.colab.output.renderOutput(dataTable, element);\n",
              "          const docLink = document.createElement('div');\n",
              "          docLink.innerHTML = docLinkHtml;\n",
              "          element.appendChild(docLink);\n",
              "        }\n",
              "      </script>\n",
              "    </div>\n",
              "  </div>\n",
              "  "
            ]
          },
          "metadata": {},
          "execution_count": 51
        },
        {
          "output_type": "stream",
          "name": "stdout",
          "text": [
            "time: 47.5 ms (started: 2022-05-11 23:52:11 +00:00)\n"
          ]
        }
      ]
    },
    {
      "cell_type": "code",
      "source": [
        "polar_embedding.drop(['Rank'],axis=1)"
      ],
      "metadata": {
        "colab": {
          "base_uri": "https://localhost:8080/",
          "height": 505
        },
        "id": "2LNDZJizi9UW",
        "outputId": "e3e7341a-e6ec-4250-d056-3680f03d1c16"
      },
      "execution_count": 62,
      "outputs": [
        {
          "output_type": "execute_result",
          "data": {
            "text/plain": [
              "        Company     Location  essentialluxury  naturaltechnical  \\\n",
              "0       walmart          USA        -0.397833          0.547627   \n",
              "1        amazon          USA         0.149086          0.337541   \n",
              "2         apple          USA         0.019489         -0.241936   \n",
              "3    volkswagen      Germany        -0.680670         -0.189240   \n",
              "4      mckesson          USA        -0.033068          0.196849   \n",
              "..          ...          ...              ...               ...   \n",
              "137     netflix          USA        -0.036024          0.295033   \n",
              "138       nokia      Finland        -0.242810         -0.502687   \n",
              "139      synnex          USA        -0.095035         -0.180539   \n",
              "140      holcim  Switzerland        -0.394086          0.267346   \n",
              "141        flex    Singapore        -0.440572          0.155113   \n",
              "\n",
              "     advertisingrumour  childchildless  productservice  demandsupply  \\\n",
              "0             0.053615       -0.234927        0.210923     -0.610311   \n",
              "1             0.274870        0.256857        0.154932      0.244374   \n",
              "2             0.276218        0.059273        0.446798      0.053345   \n",
              "3             0.166854       -0.164525        0.358346     -0.171160   \n",
              "4             0.185271       -0.725982       -0.037312     -0.436756   \n",
              "..                 ...             ...             ...           ...   \n",
              "137           0.232239       -0.497865       -0.321629      0.345320   \n",
              "138           0.292643       -0.113547        0.587839      0.119778   \n",
              "139          -0.118953       -0.237965        0.678891      0.005976   \n",
              "140          -0.026292       -0.085538        0.727239     -0.287880   \n",
              "141           0.334748       -0.410770        0.177237     -0.226724   \n",
              "\n",
              "     intangibletangible  leasesell  nonrenewablerenewable  physicalremote  \n",
              "0             -0.107264  -0.203712               0.094820       -0.069312  \n",
              "1             -0.073648  -0.074484               0.017427       -0.792030  \n",
              "2             -0.029875  -0.630734              -0.369896       -0.351087  \n",
              "3             -0.164260  -0.273070              -0.426517        0.069241  \n",
              "4              0.277886  -0.190578              -0.052383        0.300580  \n",
              "..                  ...        ...                    ...             ...  \n",
              "137           -0.564339   0.000327              -0.014090       -0.261697  \n",
              "138            0.123189  -0.035180              -0.336982       -0.316139  \n",
              "139            0.274964   0.164871               0.522543        0.225455  \n",
              "140            0.131076  -0.239961               0.146410       -0.239300  \n",
              "141           -0.031540  -0.017338              -0.059092        0.642996  \n",
              "\n",
              "[142 rows x 12 columns]"
            ],
            "text/html": [
              "\n",
              "  <div id=\"df-633160d6-6725-4196-9dc5-6e11f58b53ee\">\n",
              "    <div class=\"colab-df-container\">\n",
              "      <div>\n",
              "<style scoped>\n",
              "    .dataframe tbody tr th:only-of-type {\n",
              "        vertical-align: middle;\n",
              "    }\n",
              "\n",
              "    .dataframe tbody tr th {\n",
              "        vertical-align: top;\n",
              "    }\n",
              "\n",
              "    .dataframe thead th {\n",
              "        text-align: right;\n",
              "    }\n",
              "</style>\n",
              "<table border=\"1\" class=\"dataframe\">\n",
              "  <thead>\n",
              "    <tr style=\"text-align: right;\">\n",
              "      <th></th>\n",
              "      <th>Company</th>\n",
              "      <th>Location</th>\n",
              "      <th>essentialluxury</th>\n",
              "      <th>naturaltechnical</th>\n",
              "      <th>advertisingrumour</th>\n",
              "      <th>childchildless</th>\n",
              "      <th>productservice</th>\n",
              "      <th>demandsupply</th>\n",
              "      <th>intangibletangible</th>\n",
              "      <th>leasesell</th>\n",
              "      <th>nonrenewablerenewable</th>\n",
              "      <th>physicalremote</th>\n",
              "    </tr>\n",
              "  </thead>\n",
              "  <tbody>\n",
              "    <tr>\n",
              "      <th>0</th>\n",
              "      <td>walmart</td>\n",
              "      <td>USA</td>\n",
              "      <td>-0.397833</td>\n",
              "      <td>0.547627</td>\n",
              "      <td>0.053615</td>\n",
              "      <td>-0.234927</td>\n",
              "      <td>0.210923</td>\n",
              "      <td>-0.610311</td>\n",
              "      <td>-0.107264</td>\n",
              "      <td>-0.203712</td>\n",
              "      <td>0.094820</td>\n",
              "      <td>-0.069312</td>\n",
              "    </tr>\n",
              "    <tr>\n",
              "      <th>1</th>\n",
              "      <td>amazon</td>\n",
              "      <td>USA</td>\n",
              "      <td>0.149086</td>\n",
              "      <td>0.337541</td>\n",
              "      <td>0.274870</td>\n",
              "      <td>0.256857</td>\n",
              "      <td>0.154932</td>\n",
              "      <td>0.244374</td>\n",
              "      <td>-0.073648</td>\n",
              "      <td>-0.074484</td>\n",
              "      <td>0.017427</td>\n",
              "      <td>-0.792030</td>\n",
              "    </tr>\n",
              "    <tr>\n",
              "      <th>2</th>\n",
              "      <td>apple</td>\n",
              "      <td>USA</td>\n",
              "      <td>0.019489</td>\n",
              "      <td>-0.241936</td>\n",
              "      <td>0.276218</td>\n",
              "      <td>0.059273</td>\n",
              "      <td>0.446798</td>\n",
              "      <td>0.053345</td>\n",
              "      <td>-0.029875</td>\n",
              "      <td>-0.630734</td>\n",
              "      <td>-0.369896</td>\n",
              "      <td>-0.351087</td>\n",
              "    </tr>\n",
              "    <tr>\n",
              "      <th>3</th>\n",
              "      <td>volkswagen</td>\n",
              "      <td>Germany</td>\n",
              "      <td>-0.680670</td>\n",
              "      <td>-0.189240</td>\n",
              "      <td>0.166854</td>\n",
              "      <td>-0.164525</td>\n",
              "      <td>0.358346</td>\n",
              "      <td>-0.171160</td>\n",
              "      <td>-0.164260</td>\n",
              "      <td>-0.273070</td>\n",
              "      <td>-0.426517</td>\n",
              "      <td>0.069241</td>\n",
              "    </tr>\n",
              "    <tr>\n",
              "      <th>4</th>\n",
              "      <td>mckesson</td>\n",
              "      <td>USA</td>\n",
              "      <td>-0.033068</td>\n",
              "      <td>0.196849</td>\n",
              "      <td>0.185271</td>\n",
              "      <td>-0.725982</td>\n",
              "      <td>-0.037312</td>\n",
              "      <td>-0.436756</td>\n",
              "      <td>0.277886</td>\n",
              "      <td>-0.190578</td>\n",
              "      <td>-0.052383</td>\n",
              "      <td>0.300580</td>\n",
              "    </tr>\n",
              "    <tr>\n",
              "      <th>...</th>\n",
              "      <td>...</td>\n",
              "      <td>...</td>\n",
              "      <td>...</td>\n",
              "      <td>...</td>\n",
              "      <td>...</td>\n",
              "      <td>...</td>\n",
              "      <td>...</td>\n",
              "      <td>...</td>\n",
              "      <td>...</td>\n",
              "      <td>...</td>\n",
              "      <td>...</td>\n",
              "      <td>...</td>\n",
              "    </tr>\n",
              "    <tr>\n",
              "      <th>137</th>\n",
              "      <td>netflix</td>\n",
              "      <td>USA</td>\n",
              "      <td>-0.036024</td>\n",
              "      <td>0.295033</td>\n",
              "      <td>0.232239</td>\n",
              "      <td>-0.497865</td>\n",
              "      <td>-0.321629</td>\n",
              "      <td>0.345320</td>\n",
              "      <td>-0.564339</td>\n",
              "      <td>0.000327</td>\n",
              "      <td>-0.014090</td>\n",
              "      <td>-0.261697</td>\n",
              "    </tr>\n",
              "    <tr>\n",
              "      <th>138</th>\n",
              "      <td>nokia</td>\n",
              "      <td>Finland</td>\n",
              "      <td>-0.242810</td>\n",
              "      <td>-0.502687</td>\n",
              "      <td>0.292643</td>\n",
              "      <td>-0.113547</td>\n",
              "      <td>0.587839</td>\n",
              "      <td>0.119778</td>\n",
              "      <td>0.123189</td>\n",
              "      <td>-0.035180</td>\n",
              "      <td>-0.336982</td>\n",
              "      <td>-0.316139</td>\n",
              "    </tr>\n",
              "    <tr>\n",
              "      <th>139</th>\n",
              "      <td>synnex</td>\n",
              "      <td>USA</td>\n",
              "      <td>-0.095035</td>\n",
              "      <td>-0.180539</td>\n",
              "      <td>-0.118953</td>\n",
              "      <td>-0.237965</td>\n",
              "      <td>0.678891</td>\n",
              "      <td>0.005976</td>\n",
              "      <td>0.274964</td>\n",
              "      <td>0.164871</td>\n",
              "      <td>0.522543</td>\n",
              "      <td>0.225455</td>\n",
              "    </tr>\n",
              "    <tr>\n",
              "      <th>140</th>\n",
              "      <td>holcim</td>\n",
              "      <td>Switzerland</td>\n",
              "      <td>-0.394086</td>\n",
              "      <td>0.267346</td>\n",
              "      <td>-0.026292</td>\n",
              "      <td>-0.085538</td>\n",
              "      <td>0.727239</td>\n",
              "      <td>-0.287880</td>\n",
              "      <td>0.131076</td>\n",
              "      <td>-0.239961</td>\n",
              "      <td>0.146410</td>\n",
              "      <td>-0.239300</td>\n",
              "    </tr>\n",
              "    <tr>\n",
              "      <th>141</th>\n",
              "      <td>flex</td>\n",
              "      <td>Singapore</td>\n",
              "      <td>-0.440572</td>\n",
              "      <td>0.155113</td>\n",
              "      <td>0.334748</td>\n",
              "      <td>-0.410770</td>\n",
              "      <td>0.177237</td>\n",
              "      <td>-0.226724</td>\n",
              "      <td>-0.031540</td>\n",
              "      <td>-0.017338</td>\n",
              "      <td>-0.059092</td>\n",
              "      <td>0.642996</td>\n",
              "    </tr>\n",
              "  </tbody>\n",
              "</table>\n",
              "<p>142 rows × 12 columns</p>\n",
              "</div>\n",
              "      <button class=\"colab-df-convert\" onclick=\"convertToInteractive('df-633160d6-6725-4196-9dc5-6e11f58b53ee')\"\n",
              "              title=\"Convert this dataframe to an interactive table.\"\n",
              "              style=\"display:none;\">\n",
              "        \n",
              "  <svg xmlns=\"http://www.w3.org/2000/svg\" height=\"24px\"viewBox=\"0 0 24 24\"\n",
              "       width=\"24px\">\n",
              "    <path d=\"M0 0h24v24H0V0z\" fill=\"none\"/>\n",
              "    <path d=\"M18.56 5.44l.94 2.06.94-2.06 2.06-.94-2.06-.94-.94-2.06-.94 2.06-2.06.94zm-11 1L8.5 8.5l.94-2.06 2.06-.94-2.06-.94L8.5 2.5l-.94 2.06-2.06.94zm10 10l.94 2.06.94-2.06 2.06-.94-2.06-.94-.94-2.06-.94 2.06-2.06.94z\"/><path d=\"M17.41 7.96l-1.37-1.37c-.4-.4-.92-.59-1.43-.59-.52 0-1.04.2-1.43.59L10.3 9.45l-7.72 7.72c-.78.78-.78 2.05 0 2.83L4 21.41c.39.39.9.59 1.41.59.51 0 1.02-.2 1.41-.59l7.78-7.78 2.81-2.81c.8-.78.8-2.07 0-2.86zM5.41 20L4 18.59l7.72-7.72 1.47 1.35L5.41 20z\"/>\n",
              "  </svg>\n",
              "      </button>\n",
              "      \n",
              "  <style>\n",
              "    .colab-df-container {\n",
              "      display:flex;\n",
              "      flex-wrap:wrap;\n",
              "      gap: 12px;\n",
              "    }\n",
              "\n",
              "    .colab-df-convert {\n",
              "      background-color: #E8F0FE;\n",
              "      border: none;\n",
              "      border-radius: 50%;\n",
              "      cursor: pointer;\n",
              "      display: none;\n",
              "      fill: #1967D2;\n",
              "      height: 32px;\n",
              "      padding: 0 0 0 0;\n",
              "      width: 32px;\n",
              "    }\n",
              "\n",
              "    .colab-df-convert:hover {\n",
              "      background-color: #E2EBFA;\n",
              "      box-shadow: 0px 1px 2px rgba(60, 64, 67, 0.3), 0px 1px 3px 1px rgba(60, 64, 67, 0.15);\n",
              "      fill: #174EA6;\n",
              "    }\n",
              "\n",
              "    [theme=dark] .colab-df-convert {\n",
              "      background-color: #3B4455;\n",
              "      fill: #D2E3FC;\n",
              "    }\n",
              "\n",
              "    [theme=dark] .colab-df-convert:hover {\n",
              "      background-color: #434B5C;\n",
              "      box-shadow: 0px 1px 3px 1px rgba(0, 0, 0, 0.15);\n",
              "      filter: drop-shadow(0px 1px 2px rgba(0, 0, 0, 0.3));\n",
              "      fill: #FFFFFF;\n",
              "    }\n",
              "  </style>\n",
              "\n",
              "      <script>\n",
              "        const buttonEl =\n",
              "          document.querySelector('#df-633160d6-6725-4196-9dc5-6e11f58b53ee button.colab-df-convert');\n",
              "        buttonEl.style.display =\n",
              "          google.colab.kernel.accessAllowed ? 'block' : 'none';\n",
              "\n",
              "        async function convertToInteractive(key) {\n",
              "          const element = document.querySelector('#df-633160d6-6725-4196-9dc5-6e11f58b53ee');\n",
              "          const dataTable =\n",
              "            await google.colab.kernel.invokeFunction('convertToInteractive',\n",
              "                                                     [key], {});\n",
              "          if (!dataTable) return;\n",
              "\n",
              "          const docLinkHtml = 'Like what you see? Visit the ' +\n",
              "            '<a target=\"_blank\" href=https://colab.research.google.com/notebooks/data_table.ipynb>data table notebook</a>'\n",
              "            + ' to learn more about interactive tables.';\n",
              "          element.innerHTML = '';\n",
              "          dataTable['output_type'] = 'display_data';\n",
              "          await google.colab.output.renderOutput(dataTable, element);\n",
              "          const docLink = document.createElement('div');\n",
              "          docLink.innerHTML = docLinkHtml;\n",
              "          element.appendChild(docLink);\n",
              "        }\n",
              "      </script>\n",
              "    </div>\n",
              "  </div>\n",
              "  "
            ]
          },
          "metadata": {},
          "execution_count": 62
        },
        {
          "output_type": "stream",
          "name": "stdout",
          "text": [
            "time: 65.2 ms (started: 2022-05-11 23:57:18 +00:00)\n"
          ]
        }
      ]
    },
    {
      "cell_type": "code",
      "source": [
        "# This will find the total number of companies in our data frame based on Location\n",
        "total_company_list_based_on_loc = polar_embedding['Location'].value_counts()\n",
        "total_company_count_df = pd.DataFrame({'Country':total_company_list_based_on_loc.index, 'Total Count':total_company_list_based_on_loc.values})\n",
        "print(total_company_count_df.head())\n"
      ],
      "metadata": {
        "colab": {
          "base_uri": "https://localhost:8080/"
        },
        "id": "vPj78qqcnH8O",
        "outputId": "eaa1e021-cce0-4944-8bb9-3460859c5102"
      },
      "execution_count": 64,
      "outputs": [
        {
          "output_type": "stream",
          "name": "stdout",
          "text": [
            "   Country  Total Count\n",
            "0      USA           52\n",
            "1    Japan           18\n",
            "2  Germany           12\n",
            "3  Britain           10\n",
            "4   France            9\n",
            "time: 13.7 ms (started: 2022-05-12 00:14:24 +00:00)\n"
          ]
        }
      ]
    },
    {
      "cell_type": "code",
      "source": [
        "input_list = ['essential-luxury',\t'natural-technical'\t,'advertising-rumour',\t'child-childless',\t'product-service',\t'demand-supply',\t'intangible-tangible'\t,\n",
        " 'lease-sell'\t,'nonrenewable-renewable',\t'physical-remote']\n",
        "\n",
        "company_df=total_company_count_df.copy()\n",
        "\n",
        "# we then find the number of companies grouped on the basis of location\n",
        "for i in input_list:\n",
        "  print(i)\n",
        "  j = i.replace(\"-\",\"\")\n",
        "  subset_df2 = polar_embedding[polar_embedding[j] < 0]\n",
        "  company_inclined_to_left_polar_df1 = subset_df2['Location'].value_counts()\n",
        "  left_polar = i.split(\"-\")[0]\n",
        "  company_inclined_to_left_polar_df1 = pd.DataFrame({'Country':company_inclined_to_left_polar_df1.index, left_polar :company_inclined_to_left_polar_df1.values})\n",
        "  company_df=pd.merge(company_df, company_inclined_to_left_polar_df1, how='left',on='Country')    \n",
        "  company_df[left_polar] = round( company_df[left_polar] / company_df.iloc[:,1] * 100)\n",
        "\n",
        "  subset_df1 = polar_embedding[polar_embedding[j] > 0]\n",
        "  company_inclined_to_right_polar_df1 = subset_df1['Location'].value_counts()\n",
        "  right_polar = i.split(\"-\")[1]\n",
        "  company_inclined_to_right_polar_df1 = pd.DataFrame({'Country':company_inclined_to_right_polar_df1.index, right_polar :company_inclined_to_right_polar_df1.values})\n",
        "  company_df=pd.merge(company_df, company_inclined_to_right_polar_df1, how='left',on='Country')    \n",
        "  company_df[right_polar] = round( company_df[right_polar] / company_df.iloc[:,1] * 100)\n",
        "\n",
        "\n",
        "company_df = company_df.fillna(0)\n",
        "\n",
        "# We are considering only the countries if the numberof companies in the country is over 3\n",
        "company_df = company_df[company_df['Total Count'] > 3]\n",
        "print(company_df.head())\n",
        "print(company_df.shape)"
      ],
      "metadata": {
        "colab": {
          "base_uri": "https://localhost:8080/"
        },
        "id": "uxrTlu68lGFN",
        "outputId": "30432cd4-4332-467a-81c8-d7345615aee0"
      },
      "execution_count": 70,
      "outputs": [
        {
          "output_type": "stream",
          "name": "stdout",
          "text": [
            "essential-luxury\n",
            "natural-technical\n",
            "advertising-rumour\n",
            "child-childless\n",
            "product-service\n",
            "demand-supply\n",
            "intangible-tangible\n",
            "lease-sell\n",
            "nonrenewable-renewable\n",
            "physical-remote\n",
            "   Country  Total Count  essential  luxury  natural  technical  advertising  \\\n",
            "0      USA           52       63.0    37.0     44.0       56.0         31.0   \n",
            "1    Japan           18       89.0    11.0     72.0       28.0         44.0   \n",
            "2  Germany           12       92.0     8.0     58.0       42.0         33.0   \n",
            "3  Britain           10       90.0    10.0     20.0       80.0         40.0   \n",
            "4   France            9      100.0     0.0     33.0       67.0         67.0   \n",
            "\n",
            "   rumour  child  childless  ...  demand  supply  intangible  tangible  lease  \\\n",
            "0    69.0   79.0       21.0  ...    54.0    46.0        50.0      50.0   63.0   \n",
            "1    56.0   78.0       22.0  ...    44.0    56.0        11.0      89.0   67.0   \n",
            "2    67.0   83.0       17.0  ...   100.0     0.0        58.0      42.0  100.0   \n",
            "3    60.0  100.0        0.0  ...    70.0    30.0        30.0      70.0   60.0   \n",
            "4    33.0   78.0       22.0  ...   100.0     0.0        78.0      22.0   78.0   \n",
            "\n",
            "   sell  nonrenewable  renewable  physical  remote  \n",
            "0  37.0          62.0       38.0      63.0    37.0  \n",
            "1  33.0          67.0       33.0      61.0    39.0  \n",
            "2   0.0          92.0        8.0       8.0    92.0  \n",
            "3  40.0          80.0       20.0      40.0    60.0  \n",
            "4  22.0          67.0       33.0      33.0    67.0  \n",
            "\n",
            "[5 rows x 22 columns]\n",
            "(7, 22)\n",
            "time: 373 ms (started: 2022-05-12 00:19:30 +00:00)\n"
          ]
        }
      ]
    },
    {
      "cell_type": "code",
      "source": [
        "polar_list = [\"essential\",'natural','advertising','child','physical']\n",
        "\n",
        "# The user input the country name and get the graph for different synonyms under a single Hofstede's Dimension\n",
        "total_sum=0\n",
        "total_sum_list=[]\n",
        "polar_ranking_list = []\n",
        "polar_index=0\n",
        "for index,row in company_df.iterrows():  \n",
        "  \n",
        "  for i in polar_list:\n",
        "    \n",
        "    total_sum = total_sum + (row[i])\n",
        "  #print(company_df.iloc[index,2:])  \n",
        "  total_sum_list.append(total_sum/len(polar_list))\n",
        "  polar_ranking_list.append(index+1)\n",
        "  total_sum = 0\n",
        "\n",
        "company_df['Total Score'] = total_sum_list\n",
        "company_df= company_df.sort_values(by=['Total Score'],ascending=False)\n",
        "company_df['Polar Ranking'] = polar_ranking_list"
      ],
      "metadata": {
        "colab": {
          "base_uri": "https://localhost:8080/"
        },
        "id": "qgVNOhzKqDm5",
        "outputId": "ffbbb4da-ccb1-4548-f859-522ac0c75304"
      },
      "execution_count": 76,
      "outputs": [
        {
          "output_type": "stream",
          "name": "stdout",
          "text": [
            "time: 24 ms (started: 2022-05-12 00:29:52 +00:00)\n"
          ]
        }
      ]
    },
    {
      "cell_type": "code",
      "source": [
        "company_df.head()"
      ],
      "metadata": {
        "colab": {
          "base_uri": "https://localhost:8080/",
          "height": 352
        },
        "id": "KHyYbV8tqbQP",
        "outputId": "c43cc1d3-45b5-46d8-9646-1796e189a1a4"
      },
      "execution_count": 77,
      "outputs": [
        {
          "output_type": "execute_result",
          "data": {
            "text/plain": [
              "       Country  Total Count  essential  luxury  natural  technical  \\\n",
              "6  South Korea            4       75.0    25.0     75.0       25.0   \n",
              "1        Japan           18       89.0    11.0     72.0       28.0   \n",
              "4       France            9      100.0     0.0     33.0       67.0   \n",
              "5  Switzerland            5      100.0     0.0     20.0       80.0   \n",
              "3      Britain           10       90.0    10.0     20.0       80.0   \n",
              "\n",
              "   advertising  rumour  child  childless  ...  intangible  tangible  lease  \\\n",
              "6        100.0     0.0   75.0       25.0  ...         0.0     100.0   75.0   \n",
              "1         44.0    56.0   78.0       22.0  ...        11.0      89.0   67.0   \n",
              "4         67.0    33.0   78.0       22.0  ...        78.0      22.0   78.0   \n",
              "5         80.0    20.0   80.0       20.0  ...        20.0      80.0   60.0   \n",
              "3         40.0    60.0  100.0        0.0  ...        30.0      70.0   60.0   \n",
              "\n",
              "   sell  nonrenewable  renewable  physical  remote  Total Score  Polar Ranking  \n",
              "6  25.0          25.0       75.0      50.0    50.0         75.0              1  \n",
              "1  33.0          67.0       33.0      61.0    39.0         68.8              2  \n",
              "4  22.0          67.0       33.0      33.0    67.0         62.2              3  \n",
              "5  40.0          40.0       60.0      20.0    80.0         60.0              4  \n",
              "3  40.0          80.0       20.0      40.0    60.0         58.0              5  \n",
              "\n",
              "[5 rows x 24 columns]"
            ],
            "text/html": [
              "\n",
              "  <div id=\"df-38dd305a-ce2b-444f-a7c5-607cf4dd5351\">\n",
              "    <div class=\"colab-df-container\">\n",
              "      <div>\n",
              "<style scoped>\n",
              "    .dataframe tbody tr th:only-of-type {\n",
              "        vertical-align: middle;\n",
              "    }\n",
              "\n",
              "    .dataframe tbody tr th {\n",
              "        vertical-align: top;\n",
              "    }\n",
              "\n",
              "    .dataframe thead th {\n",
              "        text-align: right;\n",
              "    }\n",
              "</style>\n",
              "<table border=\"1\" class=\"dataframe\">\n",
              "  <thead>\n",
              "    <tr style=\"text-align: right;\">\n",
              "      <th></th>\n",
              "      <th>Country</th>\n",
              "      <th>Total Count</th>\n",
              "      <th>essential</th>\n",
              "      <th>luxury</th>\n",
              "      <th>natural</th>\n",
              "      <th>technical</th>\n",
              "      <th>advertising</th>\n",
              "      <th>rumour</th>\n",
              "      <th>child</th>\n",
              "      <th>childless</th>\n",
              "      <th>...</th>\n",
              "      <th>intangible</th>\n",
              "      <th>tangible</th>\n",
              "      <th>lease</th>\n",
              "      <th>sell</th>\n",
              "      <th>nonrenewable</th>\n",
              "      <th>renewable</th>\n",
              "      <th>physical</th>\n",
              "      <th>remote</th>\n",
              "      <th>Total Score</th>\n",
              "      <th>Polar Ranking</th>\n",
              "    </tr>\n",
              "  </thead>\n",
              "  <tbody>\n",
              "    <tr>\n",
              "      <th>6</th>\n",
              "      <td>South Korea</td>\n",
              "      <td>4</td>\n",
              "      <td>75.0</td>\n",
              "      <td>25.0</td>\n",
              "      <td>75.0</td>\n",
              "      <td>25.0</td>\n",
              "      <td>100.0</td>\n",
              "      <td>0.0</td>\n",
              "      <td>75.0</td>\n",
              "      <td>25.0</td>\n",
              "      <td>...</td>\n",
              "      <td>0.0</td>\n",
              "      <td>100.0</td>\n",
              "      <td>75.0</td>\n",
              "      <td>25.0</td>\n",
              "      <td>25.0</td>\n",
              "      <td>75.0</td>\n",
              "      <td>50.0</td>\n",
              "      <td>50.0</td>\n",
              "      <td>75.0</td>\n",
              "      <td>1</td>\n",
              "    </tr>\n",
              "    <tr>\n",
              "      <th>1</th>\n",
              "      <td>Japan</td>\n",
              "      <td>18</td>\n",
              "      <td>89.0</td>\n",
              "      <td>11.0</td>\n",
              "      <td>72.0</td>\n",
              "      <td>28.0</td>\n",
              "      <td>44.0</td>\n",
              "      <td>56.0</td>\n",
              "      <td>78.0</td>\n",
              "      <td>22.0</td>\n",
              "      <td>...</td>\n",
              "      <td>11.0</td>\n",
              "      <td>89.0</td>\n",
              "      <td>67.0</td>\n",
              "      <td>33.0</td>\n",
              "      <td>67.0</td>\n",
              "      <td>33.0</td>\n",
              "      <td>61.0</td>\n",
              "      <td>39.0</td>\n",
              "      <td>68.8</td>\n",
              "      <td>2</td>\n",
              "    </tr>\n",
              "    <tr>\n",
              "      <th>4</th>\n",
              "      <td>France</td>\n",
              "      <td>9</td>\n",
              "      <td>100.0</td>\n",
              "      <td>0.0</td>\n",
              "      <td>33.0</td>\n",
              "      <td>67.0</td>\n",
              "      <td>67.0</td>\n",
              "      <td>33.0</td>\n",
              "      <td>78.0</td>\n",
              "      <td>22.0</td>\n",
              "      <td>...</td>\n",
              "      <td>78.0</td>\n",
              "      <td>22.0</td>\n",
              "      <td>78.0</td>\n",
              "      <td>22.0</td>\n",
              "      <td>67.0</td>\n",
              "      <td>33.0</td>\n",
              "      <td>33.0</td>\n",
              "      <td>67.0</td>\n",
              "      <td>62.2</td>\n",
              "      <td>3</td>\n",
              "    </tr>\n",
              "    <tr>\n",
              "      <th>5</th>\n",
              "      <td>Switzerland</td>\n",
              "      <td>5</td>\n",
              "      <td>100.0</td>\n",
              "      <td>0.0</td>\n",
              "      <td>20.0</td>\n",
              "      <td>80.0</td>\n",
              "      <td>80.0</td>\n",
              "      <td>20.0</td>\n",
              "      <td>80.0</td>\n",
              "      <td>20.0</td>\n",
              "      <td>...</td>\n",
              "      <td>20.0</td>\n",
              "      <td>80.0</td>\n",
              "      <td>60.0</td>\n",
              "      <td>40.0</td>\n",
              "      <td>40.0</td>\n",
              "      <td>60.0</td>\n",
              "      <td>20.0</td>\n",
              "      <td>80.0</td>\n",
              "      <td>60.0</td>\n",
              "      <td>4</td>\n",
              "    </tr>\n",
              "    <tr>\n",
              "      <th>3</th>\n",
              "      <td>Britain</td>\n",
              "      <td>10</td>\n",
              "      <td>90.0</td>\n",
              "      <td>10.0</td>\n",
              "      <td>20.0</td>\n",
              "      <td>80.0</td>\n",
              "      <td>40.0</td>\n",
              "      <td>60.0</td>\n",
              "      <td>100.0</td>\n",
              "      <td>0.0</td>\n",
              "      <td>...</td>\n",
              "      <td>30.0</td>\n",
              "      <td>70.0</td>\n",
              "      <td>60.0</td>\n",
              "      <td>40.0</td>\n",
              "      <td>80.0</td>\n",
              "      <td>20.0</td>\n",
              "      <td>40.0</td>\n",
              "      <td>60.0</td>\n",
              "      <td>58.0</td>\n",
              "      <td>5</td>\n",
              "    </tr>\n",
              "  </tbody>\n",
              "</table>\n",
              "<p>5 rows × 24 columns</p>\n",
              "</div>\n",
              "      <button class=\"colab-df-convert\" onclick=\"convertToInteractive('df-38dd305a-ce2b-444f-a7c5-607cf4dd5351')\"\n",
              "              title=\"Convert this dataframe to an interactive table.\"\n",
              "              style=\"display:none;\">\n",
              "        \n",
              "  <svg xmlns=\"http://www.w3.org/2000/svg\" height=\"24px\"viewBox=\"0 0 24 24\"\n",
              "       width=\"24px\">\n",
              "    <path d=\"M0 0h24v24H0V0z\" fill=\"none\"/>\n",
              "    <path d=\"M18.56 5.44l.94 2.06.94-2.06 2.06-.94-2.06-.94-.94-2.06-.94 2.06-2.06.94zm-11 1L8.5 8.5l.94-2.06 2.06-.94-2.06-.94L8.5 2.5l-.94 2.06-2.06.94zm10 10l.94 2.06.94-2.06 2.06-.94-2.06-.94-.94-2.06-.94 2.06-2.06.94z\"/><path d=\"M17.41 7.96l-1.37-1.37c-.4-.4-.92-.59-1.43-.59-.52 0-1.04.2-1.43.59L10.3 9.45l-7.72 7.72c-.78.78-.78 2.05 0 2.83L4 21.41c.39.39.9.59 1.41.59.51 0 1.02-.2 1.41-.59l7.78-7.78 2.81-2.81c.8-.78.8-2.07 0-2.86zM5.41 20L4 18.59l7.72-7.72 1.47 1.35L5.41 20z\"/>\n",
              "  </svg>\n",
              "      </button>\n",
              "      \n",
              "  <style>\n",
              "    .colab-df-container {\n",
              "      display:flex;\n",
              "      flex-wrap:wrap;\n",
              "      gap: 12px;\n",
              "    }\n",
              "\n",
              "    .colab-df-convert {\n",
              "      background-color: #E8F0FE;\n",
              "      border: none;\n",
              "      border-radius: 50%;\n",
              "      cursor: pointer;\n",
              "      display: none;\n",
              "      fill: #1967D2;\n",
              "      height: 32px;\n",
              "      padding: 0 0 0 0;\n",
              "      width: 32px;\n",
              "    }\n",
              "\n",
              "    .colab-df-convert:hover {\n",
              "      background-color: #E2EBFA;\n",
              "      box-shadow: 0px 1px 2px rgba(60, 64, 67, 0.3), 0px 1px 3px 1px rgba(60, 64, 67, 0.15);\n",
              "      fill: #174EA6;\n",
              "    }\n",
              "\n",
              "    [theme=dark] .colab-df-convert {\n",
              "      background-color: #3B4455;\n",
              "      fill: #D2E3FC;\n",
              "    }\n",
              "\n",
              "    [theme=dark] .colab-df-convert:hover {\n",
              "      background-color: #434B5C;\n",
              "      box-shadow: 0px 1px 3px 1px rgba(0, 0, 0, 0.15);\n",
              "      filter: drop-shadow(0px 1px 2px rgba(0, 0, 0, 0.3));\n",
              "      fill: #FFFFFF;\n",
              "    }\n",
              "  </style>\n",
              "\n",
              "      <script>\n",
              "        const buttonEl =\n",
              "          document.querySelector('#df-38dd305a-ce2b-444f-a7c5-607cf4dd5351 button.colab-df-convert');\n",
              "        buttonEl.style.display =\n",
              "          google.colab.kernel.accessAllowed ? 'block' : 'none';\n",
              "\n",
              "        async function convertToInteractive(key) {\n",
              "          const element = document.querySelector('#df-38dd305a-ce2b-444f-a7c5-607cf4dd5351');\n",
              "          const dataTable =\n",
              "            await google.colab.kernel.invokeFunction('convertToInteractive',\n",
              "                                                     [key], {});\n",
              "          if (!dataTable) return;\n",
              "\n",
              "          const docLinkHtml = 'Like what you see? Visit the ' +\n",
              "            '<a target=\"_blank\" href=https://colab.research.google.com/notebooks/data_table.ipynb>data table notebook</a>'\n",
              "            + ' to learn more about interactive tables.';\n",
              "          element.innerHTML = '';\n",
              "          dataTable['output_type'] = 'display_data';\n",
              "          await google.colab.output.renderOutput(dataTable, element);\n",
              "          const docLink = document.createElement('div');\n",
              "          docLink.innerHTML = docLinkHtml;\n",
              "          element.appendChild(docLink);\n",
              "        }\n",
              "      </script>\n",
              "    </div>\n",
              "  </div>\n",
              "  "
            ]
          },
          "metadata": {},
          "execution_count": 77
        },
        {
          "output_type": "stream",
          "name": "stdout",
          "text": [
            "time: 88.4 ms (started: 2022-05-12 00:29:54 +00:00)\n"
          ]
        }
      ]
    },
    {
      "cell_type": "code",
      "source": [
        "hofstede_df = pd.read_csv(\"/content/drive/MyDrive/Polar Embedding/Hofstede 6 dimensions.csv\",sep=\";\")\n",
        "hofstede_df=hofstede_df[hofstede_df.iloc[:,:]!=\"#NULL!\" ]\n",
        "hofstede_df.dropna(axis=0)"
      ],
      "metadata": {
        "id": "IO8D-JW9rNBq"
      },
      "execution_count": null,
      "outputs": []
    },
    {
      "cell_type": "code",
      "source": [
        "def percentage_difference(hofstede_dimension):\n",
        "\n",
        "  for index,row in hofstede_df.iterrows():\n",
        "    if row['Country'] == country_name:\n",
        "      hofstede_dimension_value = int(row[hofstede_dimension])\n",
        "    elif row['ctr'] == country_name:\n",
        "      hofstede_dimension_value = int(row[hofstede_dimension])\n",
        "  \n",
        "  mean_value = total_sum/len(polar_list)\n",
        "  if hofstede_dimension_value > mean_value:\n",
        "    print(\"% difference\",hofstede_dimension_value - mean_value )\n",
        "  else:\n",
        "    print(\"% difference\",mean_value - hofstede_dimension_value )"
      ],
      "metadata": {
        "id": "VE9jju7fsytB"
      },
      "execution_count": null,
      "outputs": []
    }
  ]
}