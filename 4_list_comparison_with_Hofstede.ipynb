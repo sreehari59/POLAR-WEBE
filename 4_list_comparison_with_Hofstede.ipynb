{
  "nbformat": 4,
  "nbformat_minor": 0,
  "metadata": {
    "colab": {
      "name": "4 list comparison with Hofstede.ipynb",
      "provenance": [],
      "collapsed_sections": [],
      "mount_file_id": "1YJsAoLVjWXS3ThNa7qKxWgDrCCX0h2nE",
      "authorship_tag": "ABX9TyNS2U0a6NSg6WAMUWLB/UdD",
      "include_colab_link": true
    },
    "kernelspec": {
      "name": "python3",
      "display_name": "Python 3"
    },
    "language_info": {
      "name": "python"
    }
  },
  "cells": [
    {
      "cell_type": "markdown",
      "metadata": {
        "id": "view-in-github",
        "colab_type": "text"
      },
      "source": [
        "<a href=\"https://colab.research.google.com/github/sreehari59/Polar-Embedding/blob/main/4_list_comparison_with_Hofstede.ipynb\" target=\"_parent\"><img src=\"https://colab.research.google.com/assets/colab-badge.svg\" alt=\"Open In Colab\"/></a>"
      ]
    },
    {
      "cell_type": "code",
      "execution_count": null,
      "metadata": {
        "colab": {
          "base_uri": "https://localhost:8080/"
        },
        "id": "Yd1T9XhyxCN_",
        "outputId": "0cfa870b-901a-4ef5-ac6a-9389b55e806c"
      },
      "outputs": [
        {
          "output_type": "stream",
          "name": "stdout",
          "text": [
            "Drive already mounted at /content/drive; to attempt to forcibly remount, call drive.mount(\"/content/drive\", force_remount=True).\n"
          ]
        }
      ],
      "source": [
        "# This is to load file from google drive\n",
        "from google.colab import drive\n",
        "drive.mount('/content/drive')"
      ]
    },
    {
      "cell_type": "code",
      "source": [
        "import pandas as pd"
      ],
      "metadata": {
        "id": "G_8gzjKtCPfl"
      },
      "execution_count": 27,
      "outputs": []
    },
    {
      "cell_type": "code",
      "source": [
        "def polar_list(list):\n",
        "  \n",
        "  right_polar_list = []\n",
        "  left_polar_list = []\n",
        "  for i in range(0,len(list)):\n",
        "    \n",
        "    left_polar_list.append(list[i][0].replace(\"-\",\"_\"))\n",
        "    right_polar_list.append(list[i][1].replace(\"-\",\"_\"))\n",
        "\n",
        "  return left_polar_list,right_polar_list"
      ],
      "metadata": {
        "id": "2Uvwgo_nE03C"
      },
      "execution_count": 28,
      "outputs": []
    },
    {
      "cell_type": "code",
      "source": [
        "def alphabetical_list_creation(list):\n",
        "  new_list = []\n",
        "  \n",
        "  for i in range(0,len(list)):\n",
        "    index_0 = list[i][0].replace(\"-\",\"_\")\n",
        "    index_1 = list[i][1].replace(\"-\",\"_\")\n",
        "    print(index_0,\" \",index_1)\n",
        "    if index_0 < index_1:\n",
        "      val = index_0+\"-\"+index_1\n",
        "      new_list.append(val)\n",
        "      \n",
        "    else:\n",
        "      val = index_1+\"-\"+index_0\n",
        "      new_list.append(val)\n",
        "      \n",
        "  return new_list"
      ],
      "metadata": {
        "id": "YMdAdATiE07a"
      },
      "execution_count": 29,
      "outputs": []
    },
    {
      "cell_type": "code",
      "source": [
        "def company_count(company_df,input_list,polar_embedding):  \n",
        "\n",
        "  # we then find the number of companies grouped on the basis of location\n",
        "  for i in input_list:\n",
        "    print(i)    \n",
        "    j = i.replace(\"-\",\"\")\n",
        "    j = i.replace(\"_\",\"-\")\n",
        "    print(j)\n",
        "    subset_df2 = polar_embedding[polar_embedding[j] < 0]\n",
        "    company_inclined_to_left_polar_df1 = subset_df2['Location'].value_counts()\n",
        "    left_polar = i.split(\"-\")[0]\n",
        "    print(left_polar)\n",
        "    company_inclined_to_left_polar_df1 = pd.DataFrame({'Country':company_inclined_to_left_polar_df1.index, left_polar :company_inclined_to_left_polar_df1.values})\n",
        "    company_df=pd.merge(company_df, company_inclined_to_left_polar_df1, how='left',on='Country')    \n",
        "    company_df[left_polar] = round( company_df[left_polar] / company_df.iloc[:,1] * 100)\n",
        "\n",
        "    subset_df1 = polar_embedding[polar_embedding[j] > 0]\n",
        "    company_inclined_to_right_polar_df1 = subset_df1['Location'].value_counts()\n",
        "    right_polar = i.split(\"-\")[1]\n",
        "    print(right_polar)\n",
        "    company_inclined_to_right_polar_df1 = pd.DataFrame({'Country':company_inclined_to_right_polar_df1.index, right_polar :company_inclined_to_right_polar_df1.values})\n",
        "    company_df=pd.merge(company_df, company_inclined_to_right_polar_df1, how='left',on='Country')    \n",
        "    company_df[right_polar] = round( company_df[right_polar] / company_df.iloc[:,1] * 100)\n",
        "\n",
        "\n",
        "  company_df = company_df.fillna(0)\n",
        "\n",
        "  # We are considering only the countries if the numberof companies in the country is over 3\n",
        "  company_df = company_df[company_df['Total Count'] > 3]\n",
        "\n",
        "  return company_df"
      ],
      "metadata": {
        "id": "eFIBLl56HDIV"
      },
      "execution_count": 30,
      "outputs": []
    },
    {
      "cell_type": "code",
      "source": [
        "def polar_ranking(polar_list,total_score,ranking,company_df):\n",
        "  total_sum=0\n",
        "  total_sum_list=[]\n",
        "  polar_ranking_list = []\n",
        "  polar_index=0\n",
        "  for index,row in company_df.iterrows():  \n",
        "    \n",
        "    for i in polar_list:\n",
        "      \n",
        "      total_sum = total_sum + (row[i])\n",
        "    #print(company_df.iloc[index,2:])  \n",
        "    total_sum_list.append(total_sum/len(polar_list))\n",
        "    polar_ranking_list.append(index+1)\n",
        "    total_sum = 0\n",
        "\n",
        "  company_df[total_score] = total_sum_list\n",
        "  company_df= company_df.sort_values(by=[total_score],ascending=False)\n",
        "  company_df[ranking] = polar_ranking_list\n",
        "\n",
        "  return company_df"
      ],
      "metadata": {
        "id": "z3gI5u9FHFrj"
      },
      "execution_count": 31,
      "outputs": []
    },
    {
      "cell_type": "markdown",
      "source": [
        "**Random List**"
      ],
      "metadata": {
        "id": "tGjq1QTRmSHP"
      }
    },
    {
      "cell_type": "code",
      "source": [
        "list_powerdistance_random =[('make', 'break'), ('cameraman', 'playwright'), ('mystical', 'factual'), ('promotional', 'defamation'), ('iconic', 'unknown')]\n",
        "list_individualism_random = [('buri', 'securing'), ('ahmad', 'poorer'), ('hydraulic', 'consistent'), ('interpreting', 'misunderstand'), ('conferring', 'refusing')]\n",
        "list_masculinity_random = [('trying', 'abstaining'), ('nonchalant', 'gmv'), ('knowledgable', 'misinformed'), ('confining', 'freedom'), ('fans', 'cool')]\n",
        "list_longterm_random = [('visionary', 'disciple'), ('auditory', 'numbed'), ('fund', 'squandering'), ('itsy', 'serpents'), ('disclosing', 'secreted')]\n",
        "list_indulgence_random = [('diagnosing', 'sickens'), ('sexual', 'disconnect'), ('auditory', 'skorokhod'), ('disempower', 'strengthening'), ('metro', 'urban')]\n",
        "list_uncertainity_avoidance_random = [('stretchers', 'compressors'), ('amalgamating', 'separately'), ('interim', 'assailants'), ('takers', 'violators'), ('contaminating', 'sterilized')]"
      ],
      "metadata": {
        "id": "K5O9znDIBAWq"
      },
      "execution_count": 32,
      "outputs": []
    },
    {
      "cell_type": "markdown",
      "source": [
        "**Nearest 5 to Random list**"
      ],
      "metadata": {
        "id": "Mqynbk-VmXE0"
      }
    },
    {
      "cell_type": "code",
      "source": [
        "nearest_random_list_powerdistance =[('making', 'breaking'), ('cameramen', 'dramatist'), ('magical', 'inaccuracies'), ('promo', 'libel'), ('recognizable', 'undetermined')]\n",
        "nearest_random_list_individualism= [('originality', 'communities'), ('uniqueness', 'organizations'), ('creativity', 'neighborhood'), ('individualism', 'outreach'), ('spontaneity', 'local')]\n",
        "nearest_random_list_masculinity = [('achievements', 'loving'), ('accomplishment', 'nurturing'), ('excellence', 'cared'), ('accomplishments', 'care'), ('award', 'sick')]\n",
        "nearest_random_list_longterm = [('pragmatism', 'conceptions'), ('constructive', 'empirical'), ('principled', 'foundational'), ('practical', 'contexts'), ('sensible', 'prescriptive')]\n",
        "nearest_random_list_indulgence = [('visionary', 'disciple'), ('innovators', 'devotee'), ('inventor', 'adherent'), ('entrepreneur', 'followers'), ('pioneering', 'devout')]\n",
        "nearest_random_list_uncertainity_avoidance = [('simplicity', 'complexities'), ('subtlety', 'sophistication'), ('honesty', 'richness'), ('originality', 'inherent'), ('consistency', 'computational')]"
      ],
      "metadata": {
        "id": "OuZfDQFgBAva"
      },
      "execution_count": 33,
      "outputs": []
    },
    {
      "cell_type": "markdown",
      "source": [
        "**Human List**"
      ],
      "metadata": {
        "id": "eNY1OiDfmbXm"
      }
    },
    {
      "cell_type": "code",
      "source": [
        "list_powerdistance =[('hierarchical','non-hierarchical'),('superior','equal'),('leader','subordinate'),('inequality','equality'),('autocrat','democrat')]\n",
        "list_individualism = [('individuality','community'),('self-interest','harmony'),('tasks','relationships'),('individual','groups'),('universalism','particularism')]\n",
        "list_masculinity = [('achievement', 'support'),('competitive', 'caring'),('assertive', 'submissive'),('ambitious', 'unambitious'),('sucess','cooperation')]\n",
        "list_longterm = [('pragmatic','normative'),('progress','preserve'),('adapt','conserve'),('developing','stable'),('advance','retain')]\n",
        "list_indulgence = [('fulfillment','restriction'),('satisfaction','limitation'),('liberty','moderation'),('expand','direct'),('freedom','regulation')]\n",
        "list_uncertainity_avoidance = [('clarity','complexity'),('clear','ambiguous'),('certain','uncertain'),('uniformity','diversity'),('agreement','variation')]"
      ],
      "metadata": {
        "id": "1x5IsoggEuDC"
      },
      "execution_count": 34,
      "outputs": []
    },
    {
      "cell_type": "markdown",
      "source": [
        "**Nearest 5 to Human list**"
      ],
      "metadata": {
        "id": "ummj-FmqmeM1"
      }
    },
    {
      "cell_type": "code",
      "source": [
        "nearest_human_list_powerdistance = [('hierarchy', 'consensus-based'), ('inferior', 'equality'), ('leaders', 'subordinates'), ('inequalities', 'equals'), ('autocratic', 'senator')]\n",
        "nearest_human_list_individualism = [('originality', 'communities'), ('selfishness', 'harmonious'), ('task', 'relationship'), ('individuals', 'group'), ('mangxamba', 'unitarianism')]\n",
        "nearest_human_list_masculinity = [('achievements', 'supported'), ('competition', 'loving'), ('forceful', 'subservient'), ('undertaking', 'unathletic'), ('ufauthor', 'bilateral')]\n",
        "nearest_human_list_longterm = [('pragmatism', 'conceptions'), ('efforts', 'preserving'), ('adapting', 'conserving'), ('develop', 'stability'), ('advancing', 'retained')]\n",
        "nearest_human_list_indulgence = [('fulfilment', 'restrictions'), ('satisfied', 'limitations'), ('freedom', 'restraint'), ('expanding', 'indirect'), ('freedoms', 'regulations')]\n",
        "nearest_human_list_uncertainity_avoidance = [('simplicity', 'complexities'), ('yet', 'vague'), ('particular', 'unclear'), ('homogeneity', 'diverse'), ('agreements', 'variations')]"
      ],
      "metadata": {
        "id": "N0fyW85ImgfU"
      },
      "execution_count": 35,
      "outputs": []
    },
    {
      "cell_type": "code",
      "source": [
        "# Power distance index\t, Individualism index\t, Masculinity index\t, Uncertainty avoidance index\t, Long term orientation index\t, Indulgence index\n",
        "hof = \"Indulgence\"\n",
        "dimension = hof+\" index\"\n",
        "dimension_ranking = hof+\" Ranking\"\n",
        "\n",
        "# The below line wil split the list into left polar and right polar. For example an antonym pair ('hierarchy', 'consensus-based') will have left polar = 'hierarchy' and right polar  = 'consensus-based'\n",
        "left_polar_list_random,right_polar_list_random = polar_list(list_individualism_random)\n",
        "left_polar_list_nearest_random,right_polar_list_nearest_random = polar_list(nearest_random_list_powerdistance)\n",
        "left_polar_list_human,right_polar_list_human = polar_list(list_powerdistance)\n",
        "left_polar_list_nearest_human,right_polar_list_nearest_human = polar_list(nearest_human_list_powerdistance)\n",
        "\n",
        "\n",
        "input_list_random = alphabetical_list_creation(list_individualism_random)\n",
        "input_list_nearest_random = alphabetical_list_creation(nearest_random_list_powerdistance)\n",
        "input_list_human = alphabetical_list_creation(list_powerdistance)\n",
        "input_list_nearest_human = alphabetical_list_creation(nearest_human_list_powerdistance)\n"
      ],
      "metadata": {
        "id": "G2ndPzxICx2O",
        "colab": {
          "base_uri": "https://localhost:8080/"
        },
        "outputId": "ecbb60df-3439-43e4-8e12-02b07af29b84"
      },
      "execution_count": 36,
      "outputs": [
        {
          "output_type": "stream",
          "name": "stdout",
          "text": [
            "buri   securing\n",
            "ahmad   poorer\n",
            "hydraulic   consistent\n",
            "interpreting   misunderstand\n",
            "conferring   refusing\n",
            "making   breaking\n",
            "cameramen   dramatist\n",
            "magical   inaccuracies\n",
            "promo   libel\n",
            "recognizable   undetermined\n",
            "hierarchical   non_hierarchical\n",
            "superior   equal\n",
            "leader   subordinate\n",
            "inequality   equality\n",
            "autocrat   democrat\n",
            "hierarchy   consensus_based\n",
            "inferior   equality\n",
            "leaders   subordinates\n",
            "inequalities   equals\n",
            "autocratic   senator\n"
          ]
        }
      ]
    },
    {
      "cell_type": "code",
      "source": [
        "new_df = pd.read_csv('/content/drive/MyDrive/Polar Embedding/120 dimension polar embedding.csv')\n",
        "\n",
        "fortune_500_company = pd.read_csv('/content/drive/MyDrive/Fortune Global 500 companies.csv',encoding= 'unicode_escape')\n",
        "fortune_500_company['Company'] = fortune_500_company['Company'].str.lower()\n",
        "fortune_500_company['Company'] = fortune_500_company['Company'].str.replace(\" \",\"\")\n",
        "\n",
        "polar_embedding = pd.merge(fortune_500_company,new_df,how=\"right\",left_on=\"Company\",right_on=\"Unnamed: 0\")\n",
        "\n",
        "polar_embedding= polar_embedding.drop(['Rank'],axis=1) # This will drop the column Rank\n",
        "polar_embedding= polar_embedding.drop(['Unnamed: 0'],axis=1) # This will drop the column Rank\n",
        "\n",
        "\n",
        "# This will find the total number of companies in our data frame based on Location\n",
        "total_company_list_based_on_loc = polar_embedding['Location'].value_counts()\n",
        "total_company_count_df = pd.DataFrame({'Country':total_company_list_based_on_loc.index, 'Total Count':total_company_list_based_on_loc.values})\n",
        "print(total_company_count_df.head())"
      ],
      "metadata": {
        "colab": {
          "base_uri": "https://localhost:8080/"
        },
        "id": "WhTO2UijFdr5",
        "outputId": "fcce70b6-9515-4462-cfb6-cd651e341336"
      },
      "execution_count": 37,
      "outputs": [
        {
          "output_type": "stream",
          "name": "stdout",
          "text": [
            "   Country  Total Count\n",
            "0      USA           52\n",
            "1    Japan           18\n",
            "2  Germany           12\n",
            "3  Britain           10\n",
            "4   France            9\n"
          ]
        }
      ]
    },
    {
      "cell_type": "code",
      "source": [
        "polar_embedding.head()"
      ],
      "metadata": {
        "colab": {
          "base_uri": "https://localhost:8080/",
          "height": 299
        },
        "id": "7efpOK7zIGW9",
        "outputId": "8ae874ee-0ec9-4ff8-c043-8d57e70cf003"
      },
      "execution_count": 38,
      "outputs": [
        {
          "output_type": "execute_result",
          "data": {
            "text/plain": [
              "      Company Location  cameramanplaywright  defamationpromotional  \\\n",
              "0     walmart      USA             0.371066              -0.722755   \n",
              "1      amazon      USA            -0.145381              -0.570718   \n",
              "2       apple      USA            -0.134910              -0.518285   \n",
              "3  volkswagen  Germany             0.037635              -0.570901   \n",
              "4    mckesson      USA             0.014458               0.214785   \n",
              "\n",
              "   factualmystical  iconicunknown  breakmake  libelpromo  cameramendramatist  \\\n",
              "0         0.425693       0.396845  -0.035118   -0.817515            0.364872   \n",
              "1        -0.334907      -0.402562  -0.615570    0.001971            0.171113   \n",
              "2         0.050695       0.529650  -0.655805    0.069537            0.397531   \n",
              "3         0.198001       0.691502  -0.394050   -0.115727            0.103319   \n",
              "4         0.413642       0.765071  -0.444100    0.014886            0.241910   \n",
              "\n",
              "   inaccuraciesmagical  ...  claritycomplexity  diversityuniformity  \\\n",
              "0             0.323487  ...           0.312973             0.658039   \n",
              "1            -0.648188  ...          -0.203010             0.776824   \n",
              "2            -0.260274  ...          -0.303978             0.601685   \n",
              "3             0.102456  ...           0.472561             0.577821   \n",
              "4             0.758793  ...           0.678710            -0.349290   \n",
              "\n",
              "   agreementvariation  certainuncertain  ambiguousclear  \\\n",
              "0            0.017043          0.170584        0.663056   \n",
              "1            0.133336         -0.184639       -0.550873   \n",
              "2            0.143248          0.207181       -0.694355   \n",
              "3            0.342084         -0.022607       -0.570330   \n",
              "4            0.407216          0.150137        0.478523   \n",
              "\n",
              "   complexitiessimplicity  particularunclear  agreementsvariations  vagueyet  \\\n",
              "0               -0.147586           0.299081              0.487809  0.585231   \n",
              "1               -0.294728          -0.228069              0.313153 -0.714932   \n",
              "2               -0.719476           0.124299             -0.082344 -0.371139   \n",
              "3               -0.234634          -0.227949              0.573894 -0.571768   \n",
              "4                0.447067          -0.538712              0.442195  0.052229   \n",
              "\n",
              "   diversehomogeneity  \n",
              "0           -0.555262  \n",
              "1            0.501923  \n",
              "2            0.567785  \n",
              "3           -0.486531  \n",
              "4           -0.558262  \n",
              "\n",
              "[5 rows x 122 columns]"
            ],
            "text/html": [
              "\n",
              "  <div id=\"df-0b3de93e-4605-4873-989d-945eadd2aebd\">\n",
              "    <div class=\"colab-df-container\">\n",
              "      <div>\n",
              "<style scoped>\n",
              "    .dataframe tbody tr th:only-of-type {\n",
              "        vertical-align: middle;\n",
              "    }\n",
              "\n",
              "    .dataframe tbody tr th {\n",
              "        vertical-align: top;\n",
              "    }\n",
              "\n",
              "    .dataframe thead th {\n",
              "        text-align: right;\n",
              "    }\n",
              "</style>\n",
              "<table border=\"1\" class=\"dataframe\">\n",
              "  <thead>\n",
              "    <tr style=\"text-align: right;\">\n",
              "      <th></th>\n",
              "      <th>Company</th>\n",
              "      <th>Location</th>\n",
              "      <th>cameramanplaywright</th>\n",
              "      <th>defamationpromotional</th>\n",
              "      <th>factualmystical</th>\n",
              "      <th>iconicunknown</th>\n",
              "      <th>breakmake</th>\n",
              "      <th>libelpromo</th>\n",
              "      <th>cameramendramatist</th>\n",
              "      <th>inaccuraciesmagical</th>\n",
              "      <th>...</th>\n",
              "      <th>claritycomplexity</th>\n",
              "      <th>diversityuniformity</th>\n",
              "      <th>agreementvariation</th>\n",
              "      <th>certainuncertain</th>\n",
              "      <th>ambiguousclear</th>\n",
              "      <th>complexitiessimplicity</th>\n",
              "      <th>particularunclear</th>\n",
              "      <th>agreementsvariations</th>\n",
              "      <th>vagueyet</th>\n",
              "      <th>diversehomogeneity</th>\n",
              "    </tr>\n",
              "  </thead>\n",
              "  <tbody>\n",
              "    <tr>\n",
              "      <th>0</th>\n",
              "      <td>walmart</td>\n",
              "      <td>USA</td>\n",
              "      <td>0.371066</td>\n",
              "      <td>-0.722755</td>\n",
              "      <td>0.425693</td>\n",
              "      <td>0.396845</td>\n",
              "      <td>-0.035118</td>\n",
              "      <td>-0.817515</td>\n",
              "      <td>0.364872</td>\n",
              "      <td>0.323487</td>\n",
              "      <td>...</td>\n",
              "      <td>0.312973</td>\n",
              "      <td>0.658039</td>\n",
              "      <td>0.017043</td>\n",
              "      <td>0.170584</td>\n",
              "      <td>0.663056</td>\n",
              "      <td>-0.147586</td>\n",
              "      <td>0.299081</td>\n",
              "      <td>0.487809</td>\n",
              "      <td>0.585231</td>\n",
              "      <td>-0.555262</td>\n",
              "    </tr>\n",
              "    <tr>\n",
              "      <th>1</th>\n",
              "      <td>amazon</td>\n",
              "      <td>USA</td>\n",
              "      <td>-0.145381</td>\n",
              "      <td>-0.570718</td>\n",
              "      <td>-0.334907</td>\n",
              "      <td>-0.402562</td>\n",
              "      <td>-0.615570</td>\n",
              "      <td>0.001971</td>\n",
              "      <td>0.171113</td>\n",
              "      <td>-0.648188</td>\n",
              "      <td>...</td>\n",
              "      <td>-0.203010</td>\n",
              "      <td>0.776824</td>\n",
              "      <td>0.133336</td>\n",
              "      <td>-0.184639</td>\n",
              "      <td>-0.550873</td>\n",
              "      <td>-0.294728</td>\n",
              "      <td>-0.228069</td>\n",
              "      <td>0.313153</td>\n",
              "      <td>-0.714932</td>\n",
              "      <td>0.501923</td>\n",
              "    </tr>\n",
              "    <tr>\n",
              "      <th>2</th>\n",
              "      <td>apple</td>\n",
              "      <td>USA</td>\n",
              "      <td>-0.134910</td>\n",
              "      <td>-0.518285</td>\n",
              "      <td>0.050695</td>\n",
              "      <td>0.529650</td>\n",
              "      <td>-0.655805</td>\n",
              "      <td>0.069537</td>\n",
              "      <td>0.397531</td>\n",
              "      <td>-0.260274</td>\n",
              "      <td>...</td>\n",
              "      <td>-0.303978</td>\n",
              "      <td>0.601685</td>\n",
              "      <td>0.143248</td>\n",
              "      <td>0.207181</td>\n",
              "      <td>-0.694355</td>\n",
              "      <td>-0.719476</td>\n",
              "      <td>0.124299</td>\n",
              "      <td>-0.082344</td>\n",
              "      <td>-0.371139</td>\n",
              "      <td>0.567785</td>\n",
              "    </tr>\n",
              "    <tr>\n",
              "      <th>3</th>\n",
              "      <td>volkswagen</td>\n",
              "      <td>Germany</td>\n",
              "      <td>0.037635</td>\n",
              "      <td>-0.570901</td>\n",
              "      <td>0.198001</td>\n",
              "      <td>0.691502</td>\n",
              "      <td>-0.394050</td>\n",
              "      <td>-0.115727</td>\n",
              "      <td>0.103319</td>\n",
              "      <td>0.102456</td>\n",
              "      <td>...</td>\n",
              "      <td>0.472561</td>\n",
              "      <td>0.577821</td>\n",
              "      <td>0.342084</td>\n",
              "      <td>-0.022607</td>\n",
              "      <td>-0.570330</td>\n",
              "      <td>-0.234634</td>\n",
              "      <td>-0.227949</td>\n",
              "      <td>0.573894</td>\n",
              "      <td>-0.571768</td>\n",
              "      <td>-0.486531</td>\n",
              "    </tr>\n",
              "    <tr>\n",
              "      <th>4</th>\n",
              "      <td>mckesson</td>\n",
              "      <td>USA</td>\n",
              "      <td>0.014458</td>\n",
              "      <td>0.214785</td>\n",
              "      <td>0.413642</td>\n",
              "      <td>0.765071</td>\n",
              "      <td>-0.444100</td>\n",
              "      <td>0.014886</td>\n",
              "      <td>0.241910</td>\n",
              "      <td>0.758793</td>\n",
              "      <td>...</td>\n",
              "      <td>0.678710</td>\n",
              "      <td>-0.349290</td>\n",
              "      <td>0.407216</td>\n",
              "      <td>0.150137</td>\n",
              "      <td>0.478523</td>\n",
              "      <td>0.447067</td>\n",
              "      <td>-0.538712</td>\n",
              "      <td>0.442195</td>\n",
              "      <td>0.052229</td>\n",
              "      <td>-0.558262</td>\n",
              "    </tr>\n",
              "  </tbody>\n",
              "</table>\n",
              "<p>5 rows × 122 columns</p>\n",
              "</div>\n",
              "      <button class=\"colab-df-convert\" onclick=\"convertToInteractive('df-0b3de93e-4605-4873-989d-945eadd2aebd')\"\n",
              "              title=\"Convert this dataframe to an interactive table.\"\n",
              "              style=\"display:none;\">\n",
              "        \n",
              "  <svg xmlns=\"http://www.w3.org/2000/svg\" height=\"24px\"viewBox=\"0 0 24 24\"\n",
              "       width=\"24px\">\n",
              "    <path d=\"M0 0h24v24H0V0z\" fill=\"none\"/>\n",
              "    <path d=\"M18.56 5.44l.94 2.06.94-2.06 2.06-.94-2.06-.94-.94-2.06-.94 2.06-2.06.94zm-11 1L8.5 8.5l.94-2.06 2.06-.94-2.06-.94L8.5 2.5l-.94 2.06-2.06.94zm10 10l.94 2.06.94-2.06 2.06-.94-2.06-.94-.94-2.06-.94 2.06-2.06.94z\"/><path d=\"M17.41 7.96l-1.37-1.37c-.4-.4-.92-.59-1.43-.59-.52 0-1.04.2-1.43.59L10.3 9.45l-7.72 7.72c-.78.78-.78 2.05 0 2.83L4 21.41c.39.39.9.59 1.41.59.51 0 1.02-.2 1.41-.59l7.78-7.78 2.81-2.81c.8-.78.8-2.07 0-2.86zM5.41 20L4 18.59l7.72-7.72 1.47 1.35L5.41 20z\"/>\n",
              "  </svg>\n",
              "      </button>\n",
              "      \n",
              "  <style>\n",
              "    .colab-df-container {\n",
              "      display:flex;\n",
              "      flex-wrap:wrap;\n",
              "      gap: 12px;\n",
              "    }\n",
              "\n",
              "    .colab-df-convert {\n",
              "      background-color: #E8F0FE;\n",
              "      border: none;\n",
              "      border-radius: 50%;\n",
              "      cursor: pointer;\n",
              "      display: none;\n",
              "      fill: #1967D2;\n",
              "      height: 32px;\n",
              "      padding: 0 0 0 0;\n",
              "      width: 32px;\n",
              "    }\n",
              "\n",
              "    .colab-df-convert:hover {\n",
              "      background-color: #E2EBFA;\n",
              "      box-shadow: 0px 1px 2px rgba(60, 64, 67, 0.3), 0px 1px 3px 1px rgba(60, 64, 67, 0.15);\n",
              "      fill: #174EA6;\n",
              "    }\n",
              "\n",
              "    [theme=dark] .colab-df-convert {\n",
              "      background-color: #3B4455;\n",
              "      fill: #D2E3FC;\n",
              "    }\n",
              "\n",
              "    [theme=dark] .colab-df-convert:hover {\n",
              "      background-color: #434B5C;\n",
              "      box-shadow: 0px 1px 3px 1px rgba(0, 0, 0, 0.15);\n",
              "      filter: drop-shadow(0px 1px 2px rgba(0, 0, 0, 0.3));\n",
              "      fill: #FFFFFF;\n",
              "    }\n",
              "  </style>\n",
              "\n",
              "      <script>\n",
              "        const buttonEl =\n",
              "          document.querySelector('#df-0b3de93e-4605-4873-989d-945eadd2aebd button.colab-df-convert');\n",
              "        buttonEl.style.display =\n",
              "          google.colab.kernel.accessAllowed ? 'block' : 'none';\n",
              "\n",
              "        async function convertToInteractive(key) {\n",
              "          const element = document.querySelector('#df-0b3de93e-4605-4873-989d-945eadd2aebd');\n",
              "          const dataTable =\n",
              "            await google.colab.kernel.invokeFunction('convertToInteractive',\n",
              "                                                     [key], {});\n",
              "          if (!dataTable) return;\n",
              "\n",
              "          const docLinkHtml = 'Like what you see? Visit the ' +\n",
              "            '<a target=\"_blank\" href=https://colab.research.google.com/notebooks/data_table.ipynb>data table notebook</a>'\n",
              "            + ' to learn more about interactive tables.';\n",
              "          element.innerHTML = '';\n",
              "          dataTable['output_type'] = 'display_data';\n",
              "          await google.colab.output.renderOutput(dataTable, element);\n",
              "          const docLink = document.createElement('div');\n",
              "          docLink.innerHTML = docLinkHtml;\n",
              "          element.appendChild(docLink);\n",
              "        }\n",
              "      </script>\n",
              "    </div>\n",
              "  </div>\n",
              "  "
            ]
          },
          "metadata": {},
          "execution_count": 38
        }
      ]
    },
    {
      "cell_type": "code",
      "source": [
        "print(input_list_random)"
      ],
      "metadata": {
        "colab": {
          "base_uri": "https://localhost:8080/"
        },
        "id": "L_Mhbcr2--XQ",
        "outputId": "c58be99a-9001-4b99-f68a-b5b192016471"
      },
      "execution_count": 39,
      "outputs": [
        {
          "output_type": "stream",
          "name": "stdout",
          "text": [
            "['buri-securing', 'ahmad-poorer', 'consistent-hydraulic', 'interpreting-misunderstand', 'conferring-refusing']\n"
          ]
        }
      ]
    },
    {
      "cell_type": "code",
      "source": [
        "company_df=total_company_count_df.copy()  # This make a copy of data frame\n",
        "\n",
        "#Below lines will find the number of companies aligned to the respective left word in antonym pair\n",
        "company_df = company_count(company_df,input_list_random,polar_embedding)\n",
        "company_df = company_count(company_df,input_list_nearest_random,polar_embedding)\n",
        "company_df = company_count(company_df,input_list_human,polar_embedding)\n",
        "company_df = company_count(company_df,input_list_nearest_human,polar_embedding)\n",
        "\n",
        "\n",
        "#Below lines will find the total score based on the left word and final give a ranking\n",
        "company_df = polar_ranking(left_polar_list_random,\"Total Score Random\",\"Polar Rank R\",company_df)\n",
        "company_df = polar_ranking(left_polar_list_nearest_random,\"Total Score Similar\",\"Polar Rank Nearest R\",company_df)\n",
        "company_df = polar_ranking(left_polar_list_human,\"Total Score Human\",\"Polar Rank H\",company_df)\n",
        "company_df = polar_ranking(left_polar_list_nearest_human,\"Total Score Human\",\"Polar Rank Nearest H\",company_df)"
      ],
      "metadata": {
        "colab": {
          "base_uri": "https://localhost:8080/",
          "height": 536
        },
        "id": "98FvPNxbHJZE",
        "outputId": "4a4f6b44-9008-4073-e496-dc72f0c8a542"
      },
      "execution_count": 40,
      "outputs": [
        {
          "output_type": "stream",
          "name": "stdout",
          "text": [
            "buri-securing\n",
            "buri-securing\n"
          ]
        },
        {
          "output_type": "error",
          "ename": "KeyError",
          "evalue": "ignored",
          "traceback": [
            "\u001b[0;31m---------------------------------------------------------------------------\u001b[0m",
            "\u001b[0;31mKeyError\u001b[0m                                  Traceback (most recent call last)",
            "\u001b[0;32m/usr/local/lib/python3.7/dist-packages/pandas/core/indexes/base.py\u001b[0m in \u001b[0;36mget_loc\u001b[0;34m(self, key, method, tolerance)\u001b[0m\n\u001b[1;32m   3360\u001b[0m             \u001b[0;32mtry\u001b[0m\u001b[0;34m:\u001b[0m\u001b[0;34m\u001b[0m\u001b[0;34m\u001b[0m\u001b[0m\n\u001b[0;32m-> 3361\u001b[0;31m                 \u001b[0;32mreturn\u001b[0m \u001b[0mself\u001b[0m\u001b[0;34m.\u001b[0m\u001b[0m_engine\u001b[0m\u001b[0;34m.\u001b[0m\u001b[0mget_loc\u001b[0m\u001b[0;34m(\u001b[0m\u001b[0mcasted_key\u001b[0m\u001b[0;34m)\u001b[0m\u001b[0;34m\u001b[0m\u001b[0;34m\u001b[0m\u001b[0m\n\u001b[0m\u001b[1;32m   3362\u001b[0m             \u001b[0;32mexcept\u001b[0m \u001b[0mKeyError\u001b[0m \u001b[0;32mas\u001b[0m \u001b[0merr\u001b[0m\u001b[0;34m:\u001b[0m\u001b[0;34m\u001b[0m\u001b[0;34m\u001b[0m\u001b[0m\n",
            "\u001b[0;32m/usr/local/lib/python3.7/dist-packages/pandas/_libs/index.pyx\u001b[0m in \u001b[0;36mpandas._libs.index.IndexEngine.get_loc\u001b[0;34m()\u001b[0m\n",
            "\u001b[0;32m/usr/local/lib/python3.7/dist-packages/pandas/_libs/index.pyx\u001b[0m in \u001b[0;36mpandas._libs.index.IndexEngine.get_loc\u001b[0;34m()\u001b[0m\n",
            "\u001b[0;32mpandas/_libs/hashtable_class_helper.pxi\u001b[0m in \u001b[0;36mpandas._libs.hashtable.PyObjectHashTable.get_item\u001b[0;34m()\u001b[0m\n",
            "\u001b[0;32mpandas/_libs/hashtable_class_helper.pxi\u001b[0m in \u001b[0;36mpandas._libs.hashtable.PyObjectHashTable.get_item\u001b[0;34m()\u001b[0m\n",
            "\u001b[0;31mKeyError\u001b[0m: 'buri-securing'",
            "\nThe above exception was the direct cause of the following exception:\n",
            "\u001b[0;31mKeyError\u001b[0m                                  Traceback (most recent call last)",
            "\u001b[0;32m<ipython-input-40-4e658fe1fc7b>\u001b[0m in \u001b[0;36m<module>\u001b[0;34m()\u001b[0m\n\u001b[1;32m      2\u001b[0m \u001b[0;34m\u001b[0m\u001b[0m\n\u001b[1;32m      3\u001b[0m \u001b[0;31m#Below lines will find the number of companies aligned to the respective left word in antonym pair\u001b[0m\u001b[0;34m\u001b[0m\u001b[0;34m\u001b[0m\u001b[0;34m\u001b[0m\u001b[0m\n\u001b[0;32m----> 4\u001b[0;31m \u001b[0mcompany_df\u001b[0m \u001b[0;34m=\u001b[0m \u001b[0mcompany_count\u001b[0m\u001b[0;34m(\u001b[0m\u001b[0mcompany_df\u001b[0m\u001b[0;34m,\u001b[0m\u001b[0minput_list_random\u001b[0m\u001b[0;34m,\u001b[0m\u001b[0mpolar_embedding\u001b[0m\u001b[0;34m)\u001b[0m\u001b[0;34m\u001b[0m\u001b[0;34m\u001b[0m\u001b[0m\n\u001b[0m\u001b[1;32m      5\u001b[0m \u001b[0mcompany_df\u001b[0m \u001b[0;34m=\u001b[0m \u001b[0mcompany_count\u001b[0m\u001b[0;34m(\u001b[0m\u001b[0mcompany_df\u001b[0m\u001b[0;34m,\u001b[0m\u001b[0minput_list_nearest_random\u001b[0m\u001b[0;34m,\u001b[0m\u001b[0mpolar_embedding\u001b[0m\u001b[0;34m)\u001b[0m\u001b[0;34m\u001b[0m\u001b[0;34m\u001b[0m\u001b[0m\n\u001b[1;32m      6\u001b[0m \u001b[0mcompany_df\u001b[0m \u001b[0;34m=\u001b[0m \u001b[0mcompany_count\u001b[0m\u001b[0;34m(\u001b[0m\u001b[0mcompany_df\u001b[0m\u001b[0;34m,\u001b[0m\u001b[0minput_list_human\u001b[0m\u001b[0;34m,\u001b[0m\u001b[0mpolar_embedding\u001b[0m\u001b[0;34m)\u001b[0m\u001b[0;34m\u001b[0m\u001b[0;34m\u001b[0m\u001b[0m\n",
            "\u001b[0;32m<ipython-input-30-c8ab9693e2a0>\u001b[0m in \u001b[0;36mcompany_count\u001b[0;34m(company_df, input_list, polar_embedding)\u001b[0m\n\u001b[1;32m      7\u001b[0m     \u001b[0mj\u001b[0m \u001b[0;34m=\u001b[0m \u001b[0mi\u001b[0m\u001b[0;34m.\u001b[0m\u001b[0mreplace\u001b[0m\u001b[0;34m(\u001b[0m\u001b[0;34m\"_\"\u001b[0m\u001b[0;34m,\u001b[0m\u001b[0;34m\"-\"\u001b[0m\u001b[0;34m)\u001b[0m\u001b[0;34m\u001b[0m\u001b[0;34m\u001b[0m\u001b[0m\n\u001b[1;32m      8\u001b[0m     \u001b[0mprint\u001b[0m\u001b[0;34m(\u001b[0m\u001b[0mj\u001b[0m\u001b[0;34m)\u001b[0m\u001b[0;34m\u001b[0m\u001b[0;34m\u001b[0m\u001b[0m\n\u001b[0;32m----> 9\u001b[0;31m     \u001b[0msubset_df2\u001b[0m \u001b[0;34m=\u001b[0m \u001b[0mpolar_embedding\u001b[0m\u001b[0;34m[\u001b[0m\u001b[0mpolar_embedding\u001b[0m\u001b[0;34m[\u001b[0m\u001b[0mj\u001b[0m\u001b[0;34m]\u001b[0m \u001b[0;34m<\u001b[0m \u001b[0;36m0\u001b[0m\u001b[0;34m]\u001b[0m\u001b[0;34m\u001b[0m\u001b[0;34m\u001b[0m\u001b[0m\n\u001b[0m\u001b[1;32m     10\u001b[0m     \u001b[0mcompany_inclined_to_left_polar_df1\u001b[0m \u001b[0;34m=\u001b[0m \u001b[0msubset_df2\u001b[0m\u001b[0;34m[\u001b[0m\u001b[0;34m'Location'\u001b[0m\u001b[0;34m]\u001b[0m\u001b[0;34m.\u001b[0m\u001b[0mvalue_counts\u001b[0m\u001b[0;34m(\u001b[0m\u001b[0;34m)\u001b[0m\u001b[0;34m\u001b[0m\u001b[0;34m\u001b[0m\u001b[0m\n\u001b[1;32m     11\u001b[0m     \u001b[0mleft_polar\u001b[0m \u001b[0;34m=\u001b[0m \u001b[0mi\u001b[0m\u001b[0;34m.\u001b[0m\u001b[0msplit\u001b[0m\u001b[0;34m(\u001b[0m\u001b[0;34m\"-\"\u001b[0m\u001b[0;34m)\u001b[0m\u001b[0;34m[\u001b[0m\u001b[0;36m0\u001b[0m\u001b[0;34m]\u001b[0m\u001b[0;34m\u001b[0m\u001b[0;34m\u001b[0m\u001b[0m\n",
            "\u001b[0;32m/usr/local/lib/python3.7/dist-packages/pandas/core/frame.py\u001b[0m in \u001b[0;36m__getitem__\u001b[0;34m(self, key)\u001b[0m\n\u001b[1;32m   3456\u001b[0m             \u001b[0;32mif\u001b[0m \u001b[0mself\u001b[0m\u001b[0;34m.\u001b[0m\u001b[0mcolumns\u001b[0m\u001b[0;34m.\u001b[0m\u001b[0mnlevels\u001b[0m \u001b[0;34m>\u001b[0m \u001b[0;36m1\u001b[0m\u001b[0;34m:\u001b[0m\u001b[0;34m\u001b[0m\u001b[0;34m\u001b[0m\u001b[0m\n\u001b[1;32m   3457\u001b[0m                 \u001b[0;32mreturn\u001b[0m \u001b[0mself\u001b[0m\u001b[0;34m.\u001b[0m\u001b[0m_getitem_multilevel\u001b[0m\u001b[0;34m(\u001b[0m\u001b[0mkey\u001b[0m\u001b[0;34m)\u001b[0m\u001b[0;34m\u001b[0m\u001b[0;34m\u001b[0m\u001b[0m\n\u001b[0;32m-> 3458\u001b[0;31m             \u001b[0mindexer\u001b[0m \u001b[0;34m=\u001b[0m \u001b[0mself\u001b[0m\u001b[0;34m.\u001b[0m\u001b[0mcolumns\u001b[0m\u001b[0;34m.\u001b[0m\u001b[0mget_loc\u001b[0m\u001b[0;34m(\u001b[0m\u001b[0mkey\u001b[0m\u001b[0;34m)\u001b[0m\u001b[0;34m\u001b[0m\u001b[0;34m\u001b[0m\u001b[0m\n\u001b[0m\u001b[1;32m   3459\u001b[0m             \u001b[0;32mif\u001b[0m \u001b[0mis_integer\u001b[0m\u001b[0;34m(\u001b[0m\u001b[0mindexer\u001b[0m\u001b[0;34m)\u001b[0m\u001b[0;34m:\u001b[0m\u001b[0;34m\u001b[0m\u001b[0;34m\u001b[0m\u001b[0m\n\u001b[1;32m   3460\u001b[0m                 \u001b[0mindexer\u001b[0m \u001b[0;34m=\u001b[0m \u001b[0;34m[\u001b[0m\u001b[0mindexer\u001b[0m\u001b[0;34m]\u001b[0m\u001b[0;34m\u001b[0m\u001b[0;34m\u001b[0m\u001b[0m\n",
            "\u001b[0;32m/usr/local/lib/python3.7/dist-packages/pandas/core/indexes/base.py\u001b[0m in \u001b[0;36mget_loc\u001b[0;34m(self, key, method, tolerance)\u001b[0m\n\u001b[1;32m   3361\u001b[0m                 \u001b[0;32mreturn\u001b[0m \u001b[0mself\u001b[0m\u001b[0;34m.\u001b[0m\u001b[0m_engine\u001b[0m\u001b[0;34m.\u001b[0m\u001b[0mget_loc\u001b[0m\u001b[0;34m(\u001b[0m\u001b[0mcasted_key\u001b[0m\u001b[0;34m)\u001b[0m\u001b[0;34m\u001b[0m\u001b[0;34m\u001b[0m\u001b[0m\n\u001b[1;32m   3362\u001b[0m             \u001b[0;32mexcept\u001b[0m \u001b[0mKeyError\u001b[0m \u001b[0;32mas\u001b[0m \u001b[0merr\u001b[0m\u001b[0;34m:\u001b[0m\u001b[0;34m\u001b[0m\u001b[0;34m\u001b[0m\u001b[0m\n\u001b[0;32m-> 3363\u001b[0;31m                 \u001b[0;32mraise\u001b[0m \u001b[0mKeyError\u001b[0m\u001b[0;34m(\u001b[0m\u001b[0mkey\u001b[0m\u001b[0;34m)\u001b[0m \u001b[0;32mfrom\u001b[0m \u001b[0merr\u001b[0m\u001b[0;34m\u001b[0m\u001b[0;34m\u001b[0m\u001b[0m\n\u001b[0m\u001b[1;32m   3364\u001b[0m \u001b[0;34m\u001b[0m\u001b[0m\n\u001b[1;32m   3365\u001b[0m         \u001b[0;32mif\u001b[0m \u001b[0mis_scalar\u001b[0m\u001b[0;34m(\u001b[0m\u001b[0mkey\u001b[0m\u001b[0;34m)\u001b[0m \u001b[0;32mand\u001b[0m \u001b[0misna\u001b[0m\u001b[0;34m(\u001b[0m\u001b[0mkey\u001b[0m\u001b[0;34m)\u001b[0m \u001b[0;32mand\u001b[0m \u001b[0;32mnot\u001b[0m \u001b[0mself\u001b[0m\u001b[0;34m.\u001b[0m\u001b[0mhasnans\u001b[0m\u001b[0;34m:\u001b[0m\u001b[0;34m\u001b[0m\u001b[0;34m\u001b[0m\u001b[0m\n",
            "\u001b[0;31mKeyError\u001b[0m: 'buri-securing'"
          ]
        }
      ]
    },
    {
      "cell_type": "code",
      "source": [
        "# This will dop all the word pairs from the data fram\n",
        "length = len(left_polar_list_random) + len(left_polar_list_nearest_random) + len(left_polar_list_human) + len(left_polar_list_nearest_human)\n",
        "company_df.drop(company_df.iloc[:, 2:2+(length)*2], axis = 1, inplace = True)\n",
        "company_df.head(7)\n",
        "\n",
        "# This loads the Hofsted 6 dimension csv file\n",
        "hofstede_df = pd.read_csv(\"/content/drive/MyDrive/Polar Embedding/Hofstede 6 dimensions.csv\",sep=\";\")\n",
        "hofstede_df=hofstede_df[hofstede_df.iloc[:,:]!=\"#NULL!\" ]\n",
        "hofstede_df.dropna(axis=0)\n",
        "\n",
        "# This merge the company dataframe and Hofstede dataframe over the common column Country\n",
        "merged_df = pd.merge(company_df, hofstede_df, how='left',on='Country')\n",
        "merged_df.head(10)"
      ],
      "metadata": {
        "id": "LQPEXyF_S8Ks"
      },
      "execution_count": null,
      "outputs": []
    },
    {
      "cell_type": "code",
      "source": [
        "merged_df.head(10)"
      ],
      "metadata": {
        "id": "myQyfs2WUKia"
      },
      "execution_count": null,
      "outputs": []
    },
    {
      "cell_type": "code",
      "source": [
        "ranking_list = []\n",
        "for i in range(1,len(merged_df[dimension])+1):\n",
        "  ranking_list.append(i)\n",
        "merged_df= merged_df.sort_values(by=[dimension],ascending=False)\n",
        "merged_df[dimension_ranking] = ranking_list\n",
        "merged_df.head(10)"
      ],
      "metadata": {
        "id": "J9iDusoTTAKT"
      },
      "execution_count": null,
      "outputs": []
    },
    {
      "cell_type": "code",
      "source": [
        "import seaborn as sns\n",
        "sns.regplot(x=merged_df[dimension_ranking], y=merged_df[\"Polar Rank R\"])\n"
      ],
      "metadata": {
        "id": "pIfY2gavUzjb"
      },
      "execution_count": null,
      "outputs": []
    },
    {
      "cell_type": "code",
      "source": [
        "sns.regplot(x=merged_df[dimension_ranking], y=merged_df[\"Polar Rank Nearest R\"])"
      ],
      "metadata": {
        "id": "VIAH1Y15VBbJ"
      },
      "execution_count": null,
      "outputs": []
    },
    {
      "cell_type": "code",
      "source": [
        "\n",
        "sns.regplot(x=merged_df[dimension_ranking], y=merged_df[\"Polar Rank H\"])"
      ],
      "metadata": {
        "id": "smhqP6duU9LB"
      },
      "execution_count": null,
      "outputs": []
    },
    {
      "cell_type": "code",
      "source": [
        "sns.regplot(x=merged_df[dimension_ranking], y=merged_df[\"Polar Rank Nearest H\"])"
      ],
      "metadata": {
        "id": "d67NVrIO91J7"
      },
      "execution_count": null,
      "outputs": []
    },
    {
      "cell_type": "code",
      "source": [
        "import plotly.graph_objects as go\n",
        "from plotly.subplots import make_subplots\n",
        "fig = go.Figure()\n",
        "fig = make_subplots(rows=2, cols=2)\n",
        "\n",
        "fig.add_trace(go.Bar(x=merged_df[\"Country\"] , y=merged_df[dimension].astype(int), name = \"Hofstede Masculinity Score\"),1,1)  \n",
        "fig.add_trace(go.Bar(x=merged_df[\"Country\"] , y=merged_df[\"Total Score Random\"].astype(int), name = \"Random Polar Score\"),1,1)  \n",
        "\n",
        "fig.add_trace(go.Bar(x=merged_df[\"Country\"] , y=merged_df[dimension].astype(int), name = \"Hofstede Masculinity Score\"),1,2)  \n",
        "fig.add_trace(go.Bar(x=merged_df[\"Country\"] , y=merged_df[\"Total Score Similar\"].astype(int), name = \"Similar Polar Score\"),1,2)  \n",
        "\n",
        "fig.add_trace(go.Bar(x=merged_df[\"Country\"] , y=merged_df[dimension].astype(int), name = \"Hofstede Masculinity Score\"),2,1)  \n",
        "fig.add_trace(go.Bar(x=merged_df[\"Country\"] , y=merged_df[\"Total Score Human\"].astype(int), name = \"Human Polar Score\"),2,1)  \n",
        "\n",
        "fig.show() "
      ],
      "metadata": {
        "id": "EtrTRlpaU114"
      },
      "execution_count": null,
      "outputs": []
    },
    {
      "cell_type": "code",
      "source": [
        "from sklearn.metrics import mean_absolute_error\n",
        "\n",
        "MAE = []\n",
        "MAE_of_Score = []\n",
        "\n",
        "MAE.append(mean_absolute_error(merged_df[dimension_ranking], merged_df[\"Polar Rank R\"]))\n",
        "MAE.append(mean_absolute_error(merged_df[dimension_ranking], merged_df[\"Polar Rank Nearest R\"]))\n",
        "MAE.append(mean_absolute_error(merged_df[dimension_ranking], merged_df[\"Polar Rank H\"]))\n",
        "MAE.append(mean_absolute_error(merged_df[dimension_ranking], merged_df[\"Polar Rank Nearest H\"]))\n",
        "\n",
        "\n",
        "MAE_of_Score.append(mean_absolute_error(merged_df[dimension], merged_df[\"Total Score Random\"]))\n",
        "MAE_of_Score.append(mean_absolute_error(merged_df[dimension], merged_df[\"Total Score Nearest Random\"]))\n",
        "MAE_of_Score.append(mean_absolute_error(merged_df[dimension], merged_df[\"Total Score Human\"]))\n",
        "MAE_of_Score.append(mean_absolute_error(merged_df[dimension], merged_df[\"Total Score Nearest Human\"]))\n"
      ],
      "metadata": {
        "id": "Y73iGf_KVg0a"
      },
      "execution_count": null,
      "outputs": []
    },
    {
      "cell_type": "code",
      "source": [
        "correlation = []\n",
        "\n",
        "correlation.append(merged_df[\"Polar Rank R\"].corr(merged_df[dimension_ranking]))\n",
        "correlation.append(merged_df[\"Polar Rank Nearest R\"].corr(merged_df[dimension_ranking]))\n",
        "correlation.append(merged_df[\"Polar Rank H\"].corr(merged_df[dimension_ranking]))\n",
        "correlation.append(merged_df[\"Polar Rank Nearest H\"].corr(merged_df[dimension_ranking]))"
      ],
      "metadata": {
        "id": "D1CiDJcnVizQ"
      },
      "execution_count": null,
      "outputs": []
    },
    {
      "cell_type": "code",
      "source": [
        "eval_data = {\"Mean Absolute Error of Rank\" : MAE,\n",
        "              \"Correlation\" : correlation,\n",
        "             \"Mean Absolute Error of Score\" : MAE_of_Score\n",
        "            }\n",
        "\n",
        "eval_df = pd.DataFrame(eval_data, index =[\"Random List\", \"Nearest Random List\",\"Human Made List\",\"Nearest to Human Made List\"])\n",
        "eval_df.head()"
      ],
      "metadata": {
        "id": "0QlUlP4n3TRr"
      },
      "execution_count": null,
      "outputs": []
    },
    {
      "cell_type": "code",
      "source": [
        "corr = merged_df.corr()\n",
        "corr.style.background_gradient(cmap='coolwarm', axis=None, vmin=-1, vmax=1).highlight_null(null_color='#f1f1f1').set_precision(2)"
      ],
      "metadata": {
        "id": "2O81w_a_J3ie"
      },
      "execution_count": null,
      "outputs": []
    },
    {
      "cell_type": "code",
      "source": [
        "from scipy.stats import ttest_ind\n",
        "import numpy as np\n",
        "\n",
        "t1 = merged_df[dimension].astype(int)\n",
        "t2 =  merged_df[\"Total Score Human\"].astype(int)\n",
        "\n",
        "t1_mean = np.mean(t1)\n",
        "t2_mean = np.mean(t2)\n",
        "\n",
        "print(\"t1 mean value:\",t1_mean)\n",
        "print(\"t2 mean value:\",t2_mean)\n",
        "t1_std = np.std(t1)\n",
        "t2_std = np.std(t1)\n",
        "print(\"t1 std value:\",t1_std)\n",
        "print(\"t2 std value:\",t2_std)\n",
        "\n",
        "ttest,pval = ttest_ind(t1,t2)\n",
        "\n",
        "print(\"p-value\",pval)\n",
        "if pval <0.05:\n",
        "  print(\"we reject null hypothesis\")\n",
        "else:\n",
        "  print(\"we accept null hypothesis\")"
      ],
      "metadata": {
        "id": "iqGI9y11Nufr"
      },
      "execution_count": null,
      "outputs": []
    }
  ]
}