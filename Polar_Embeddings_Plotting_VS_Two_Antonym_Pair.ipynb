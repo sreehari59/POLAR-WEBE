{
  "nbformat": 4,
  "nbformat_minor": 0,
  "metadata": {
    "colab": {
      "name": "Polar_Embeddings_Plotting_VS_Two_Antonym_Pair.ipynb",
      "provenance": [],
      "collapsed_sections": [],
      "authorship_tag": "ABX9TyO/5HjK6bZMuD72NJvlccgu",
      "include_colab_link": true
    },
    "kernelspec": {
      "name": "python3",
      "display_name": "Python 3"
    },
    "language_info": {
      "name": "python"
    }
  },
  "cells": [
    {
      "cell_type": "markdown",
      "metadata": {
        "id": "view-in-github",
        "colab_type": "text"
      },
      "source": [
        "<a href=\"https://colab.research.google.com/github/sreehari59/Polar-Embedding/blob/main/Polar_Embeddings_Plotting_VS_Two_Antonym_Pair.ipynb\" target=\"_parent\"><img src=\"https://colab.research.google.com/assets/colab-badge.svg\" alt=\"Open In Colab\"/></a>"
      ]
    },
    {
      "cell_type": "code",
      "execution_count": null,
      "metadata": {
        "id": "ox0YPeWOkVAW",
        "colab": {
          "base_uri": "https://localhost:8080/"
        },
        "outputId": "58807842-95e4-4f33-df9f-7c43650c52d8"
      },
      "outputs": [
        {
          "output_type": "stream",
          "name": "stdout",
          "text": [
            "Mounted at /content/drive\n"
          ]
        }
      ],
      "source": [
        "import pandas as pd\n",
        "from google.colab import drive\n",
        "drive.mount('/content/drive')\n"
      ]
    },
    {
      "cell_type": "markdown",
      "source": [
        "**Below import the polar embedding file**"
      ],
      "metadata": {
        "id": "muGqPLbj77Wp"
      }
    },
    {
      "cell_type": "code",
      "source": [
        "polar_embedding_company = pd.read_csv('/content/drive/MyDrive/POLAR-GloVeWiki-org-antonyms-inter-new.csv')\n",
        "\n",
        "print(polar_embedding_company.head())"
      ],
      "metadata": {
        "id": "Z6sI1Vyt72hb"
      },
      "execution_count": null,
      "outputs": []
    },
    {
      "cell_type": "markdown",
      "source": [
        "**Below code snippet will load the fortune 500 company**"
      ],
      "metadata": {
        "id": "yBvQjhQg8Akb"
      }
    },
    {
      "cell_type": "code",
      "source": [
        "fortune_company = pd.read_csv('/content/drive/MyDrive/Fortune Global 500 companies.csv',encoding= 'unicode_escape')\n",
        "print(fortune_company.head())"
      ],
      "metadata": {
        "id": "HJXMWVqRl-hH",
        "colab": {
          "base_uri": "https://localhost:8080/"
        },
        "outputId": "59f461c7-6be9-4dd5-debd-752c685321a1"
      },
      "execution_count": null,
      "outputs": [
        {
          "output_type": "stream",
          "name": "stdout",
          "text": [
            "   Rank                   Company Location\n",
            "0     1                   Walmart      USA\n",
            "1     2                State Grid    China\n",
            "2     3                    Amazon      USA\n",
            "3     4  China National Petroleum    China\n",
            "4     5             Sinopec Group    China\n"
          ]
        }
      ]
    },
    {
      "cell_type": "code",
      "source": [
        "polar_list_company_name = polar_embedding_company.iloc[:,0]\n",
        "character_1_list = polar_embedding_company['achievementcaring']\n",
        "character_2_list = polar_embedding_company['femininemasculine']\n",
        "\n",
        "character_3_list = polar_embedding_company['accomplishmentloving']\n",
        "character_4_list = polar_embedding_company['excellencenurturing']\n",
        "character_6_list = polar_embedding_company['competitiveuncompetitive']\n",
        "#character_6_list = polar_embedding_company['accomplishmentloving']\n",
        "\n",
        "character_7_list = polar_embedding_company['kingqueen']\n",
        "character_8_list = polar_embedding_company['manwoman']\n",
        "\n",
        "character_9_list = polar_embedding_company['accomplishmentscared']\n",
        "character_10_list = polar_embedding_company['awardcare']\n",
        "character_11_list = polar_embedding_company['compassionateoutstanding']\n",
        "character_12_list = polar_embedding_company['insensitiveunsuccessful']\n",
        "character_13_list = polar_embedding_company['fruitlessheartless']\n",
        "\n",
        "\n",
        "\n",
        "#print(character_1_list)"
      ],
      "metadata": {
        "id": "5m0-lUyORa6m"
      },
      "execution_count": null,
      "outputs": []
    },
    {
      "cell_type": "code",
      "source": [
        "length = (polar_list_company_name.size)"
      ],
      "metadata": {
        "id": "jytLjelp3kcG"
      },
      "execution_count": null,
      "outputs": []
    },
    {
      "cell_type": "code",
      "source": [
        "character_1 = \"achievement-caring\"\n",
        "character_2 = \"feminine-masculine\"\n",
        "character_3 = \"accomplishment-loving\"\n",
        "character_4 = \"excellence-nurturing\"\n",
        "character_5 = \"accomplishments-loving\"\n",
        "character_6 = \"competitive-uncompetitive\"\n",
        "character_7 = \"king-queen\"\n",
        "character_8 = \"man-woman\"\n",
        "character_9 = \"accomplishments-cared\"\n",
        "character_10 = \"award-care\"\n",
        "character_11 = \"compassionate-outstanding\"\n",
        "character_12 = \"insensitive-unsuccessful\"\n",
        "character_13 = \"fruitless-heartless\"\n",
        "\n",
        "\n",
        "company_location=[]\n",
        "fortune_company_name = []\n",
        "company_index=0;\n",
        "counter=0\n",
        "for index, row in fortune_company.iterrows(): \n",
        "  \n",
        "  s = row['Company']\n",
        "  s = s.lower()\n",
        "  s = s.replace(\" \",\"\")   \n",
        "  if s == polar_list_company_name[company_index]:    \n",
        "    company_index = company_index+1\n",
        "    company_location.append(row['Location'])\n",
        "    fortune_company_name.append(row['Company'])\n",
        "    counter=counter+1\n",
        "\n",
        "  if length==company_index:\n",
        "    break\n",
        "        \n",
        "\n",
        "print(\"The size of the company list: \",counter)"
      ],
      "metadata": {
        "colab": {
          "base_uri": "https://localhost:8080/"
        },
        "id": "jfAPb0xqxn4E",
        "outputId": "144c4728-671b-4f63-e74c-e0d489f6152d"
      },
      "execution_count": null,
      "outputs": [
        {
          "output_type": "stream",
          "name": "stdout",
          "text": [
            "The size of the company list:  142\n"
          ]
        }
      ]
    },
    {
      "cell_type": "markdown",
      "source": [
        "**2D visualization of the companies. each Axis represents an antonym pair**"
      ],
      "metadata": {
        "id": "DMc1H5hfFIR5"
      }
    },
    {
      "cell_type": "code",
      "source": [
        "from pandas.core.frame import DataFrame\n",
        "import plotly.express as px\n",
        "\n",
        "data = {\n",
        "        'Company Name' : fortune_company_name,    \n",
        "        'Location': company_location,      \n",
        "        character_1 : character_1_list,\n",
        "        character_2 : character_2_list,\n",
        "        character_3 : character_3_list,\n",
        "        character_4 : character_4_list, character_6 : character_6_list,\n",
        "        character_7 : character_7_list,character_8 : character_8_list,character_9 : character_9_list,character_10 : character_10_list,\n",
        "        character_11 : character_11_list,character_12 : character_12_list,character_13 : character_13_list}\n",
        "\n",
        "df = pd.DataFrame(data)\n",
        "print(df.head())\n",
        "\n",
        "\n",
        "#fig = px.scatter(df, x=character_1, y=character_2, text=\"Company Name\", size_max=1,color='Location', color_discrete_sequence= px.colors.qualitative.Alphabet)\n",
        "#fig.update_traces(textposition='top center')\n",
        "#fig.update_layout(title_text='Companies', title_x=0.5)\n",
        "#fig.show()"
      ],
      "metadata": {
        "id": "YKTDyS_ck_Ed",
        "colab": {
          "base_uri": "https://localhost:8080/"
        },
        "outputId": "a18b43d5-b602-4906-e89e-cf4ef72c2c77"
      },
      "execution_count": null,
      "outputs": [
        {
          "output_type": "stream",
          "name": "stdout",
          "text": [
            "  Company Name Location  achievement-caring  feminine-masculine  \\\n",
            "0      Walmart      USA            0.243631           -0.205357   \n",
            "1       Amazon      USA           -0.086201            0.053702   \n",
            "2        Apple      USA           -0.103322            0.166979   \n",
            "3   Volkswagen  Germany           -0.073575           -0.175310   \n",
            "4     McKesson      USA           -0.029817            0.057247   \n",
            "\n",
            "   accomplishment-loving  excellence-nurturing  competitive-uncompetitive  \\\n",
            "0              -0.083700             -0.007276                  -0.053323   \n",
            "1              -0.017368              0.011047                   0.053220   \n",
            "2              -0.137715             -0.150096                   0.094175   \n",
            "3               0.010598             -0.122264                   0.059424   \n",
            "4               0.156256              0.242129                  -0.228163   \n",
            "\n",
            "   king-queen  man-woman  accomplishments-cared  award-care  \\\n",
            "0   -0.000398  -0.069315               0.098437   -0.131299   \n",
            "1   -0.080014  -0.018131              -0.000560    0.061341   \n",
            "2   -0.083396   0.043838               0.062142    0.084651   \n",
            "3   -0.069480   0.101786               0.016294    0.153805   \n",
            "4    0.107003   0.095663              -0.149813   -0.032131   \n",
            "\n",
            "   compassionate-outstanding  insensitive-unsuccessful  fruitless-heartless  \n",
            "0                   0.153415                  0.073623            -0.034675  \n",
            "1                   0.029439                  0.067883             0.080481  \n",
            "2                  -0.002736                 -0.022354            -0.067251  \n",
            "3                   0.005226                 -0.010648             0.034137  \n",
            "4                   0.075662                 -0.071115            -0.055352  \n"
          ]
        }
      ]
    },
    {
      "cell_type": "markdown",
      "source": [
        "**3D visualization of the companies. each Axis represents an antonym pair**"
      ],
      "metadata": {
        "id": "QBVKKDzFEFOn"
      }
    },
    {
      "cell_type": "code",
      "source": [
        "'''\n",
        "fig = px.scatter_3d(df, x=character_1, y=character_2, z=character_3, text=\"Company Name\", size_max=1,color='Location', color_discrete_sequence= px.colors.qualitative.Alphabet)\n",
        "fig.update_traces(textposition='top center')\n",
        "fig.update_layout(title_text='Companies', title_x=0.5)\n",
        "fig.show()\n",
        "'''"
      ],
      "metadata": {
        "id": "r3CrwxzrRovG",
        "colab": {
          "base_uri": "https://localhost:8080/",
          "height": 53
        },
        "outputId": "b7deb48a-cecc-41cf-e533-9a87e2602e9f"
      },
      "execution_count": null,
      "outputs": [
        {
          "output_type": "execute_result",
          "data": {
            "text/plain": [
              "'\\nfig = px.scatter_3d(df, x=character_1, y=character_2, z=character_3, text=\"Company Name\", size_max=1,color=\\'Location\\', color_discrete_sequence= px.colors.qualitative.Alphabet)\\nfig.update_traces(textposition=\\'top center\\')\\nfig.update_layout(title_text=\\'Companies\\', title_x=0.5)\\nfig.show()\\n'"
            ],
            "application/vnd.google.colaboratory.intrinsic+json": {
              "type": "string"
            }
          },
          "metadata": {},
          "execution_count": 39
        }
      ]
    },
    {
      "cell_type": "markdown",
      "source": [
        "**Location wise distribution of companies based on characteristics**"
      ],
      "metadata": {
        "id": "CdvwceXLDgCv"
      }
    },
    {
      "cell_type": "code",
      "source": [
        "character_of_company = 'achievement-caring'\n",
        "left_character_of_company = character_of_company.split(\"-\")[0].capitalize()\n",
        "right_character_of_company = character_of_company.split(\"-\")[1].capitalize()\n",
        "\n",
        "# Making a copy of data frame\n",
        "new_df = df\n"
      ],
      "metadata": {
        "id": "EMUTWRxacEpw"
      },
      "execution_count": null,
      "outputs": []
    },
    {
      "cell_type": "code",
      "source": [
        "# This will find the total number of companies in our data frame based on Location\n",
        "\n",
        "total_company_list_based_on_loc = new_df['Location'].value_counts()\n",
        "\n",
        "# This will count the number of companies having the value greater than 0 \n",
        "# so if the character_of_company = \"achievement-caring\" then greater than 0 means all companies inclined towards caring\n",
        "subset_df = new_df[new_df[character_of_company] > 0]\n",
        "company_list_inclined_to_right_polar = subset_df['Location'].value_counts()\n",
        "\n",
        "total_company_df = pd.DataFrame({'Country':total_company_list_based_on_loc.index, 'Total Count':total_company_list_based_on_loc.values})\n",
        "print(total_company_df.head())\n",
        "\n",
        "inclined_company_df = pd.DataFrame({'Country':company_list_inclined_to_right_polar.index, 'Count':company_list_inclined_to_right_polar.values})\n",
        "print(inclined_company_df.head())\n",
        "\n",
        "f = pd.concat([total_company_df,inclined_company_df],axis=1)\n",
        "print(f.head())"
      ],
      "metadata": {
        "id": "BMachBfJkqQA",
        "colab": {
          "base_uri": "https://localhost:8080/"
        },
        "outputId": "d41cd6b1-b295-45dd-e0f5-498c05092b64"
      },
      "execution_count": null,
      "outputs": [
        {
          "output_type": "stream",
          "name": "stdout",
          "text": [
            "   Country  Total Count\n",
            "0      USA           52\n",
            "1    Japan           18\n",
            "2  Germany           12\n",
            "3  Britain           10\n",
            "4   France            9\n",
            "   Country  Count\n",
            "0      USA     24\n",
            "1  Germany      8\n",
            "2   France      7\n",
            "3    Japan      7\n",
            "4  Britain      6\n",
            "   Country  Total Count  Country  Count\n",
            "0      USA           52      USA   24.0\n",
            "1    Japan           18  Germany    8.0\n",
            "2  Germany           12   France    7.0\n",
            "3  Britain           10    Japan    7.0\n",
            "4   France            9  Britain    6.0\n"
          ]
        }
      ]
    },
    {
      "cell_type": "code",
      "source": [
        "# This will find the total number of companies in our data frame based on Location\n",
        "total_company_list_based_on_loc_df = new_df.groupby('Location').count()\n",
        "total_company_list_based_on_loc=total_company_list_based_on_loc_df['Company Name']\n",
        "\n",
        "# This will count the number of companies having the value greater than 0 \n",
        "# so if the character_of_company = \"achievement-caring\" then greater than 0 means all companies inclined towards caring\n",
        "subset_df = new_df[new_df[character_of_company] > 0]\n",
        "company_inclined_to_right_polar_df = subset_df.groupby('Location').count()\n",
        "company_inclined_to_right_polar = company_inclined_to_right_polar_df['Company Name']\n",
        "\n",
        "#print(total_company_list_based_on_loc)\n",
        "#print(company_inclined_to_right_polar)"
      ],
      "metadata": {
        "id": "8y17inIKdi9F"
      },
      "execution_count": null,
      "outputs": []
    },
    {
      "cell_type": "code",
      "source": [
        "name1 = left_character_of_company+\" Companies\"\n",
        "name2 = right_character_of_company+\" Companies\"\n",
        "new_data ={\n",
        "    name1 : total_company_list_based_on_loc,\n",
        "    name2 : company_inclined_to_right_polar\n",
        "}\n",
        "final_df = pd.DataFrame(new_data)\n",
        "final_df = final_df.fillna(0)\n",
        "\n",
        "# we are doing th below step to get the comapnies inclined towards the left polar i.e if we take the character = \"achievement-caring\" \n",
        "# the difference between total companies and companies inclined towards caring would give the number of comapnies inclined towards achievement\n",
        "final_df[name1] = final_df[name1] - final_df[name2]\n",
        "\n",
        "final_df['Percentage'] = final_df[name1] / (final_df[name1] + final_df[name2]) * 100\n",
        "#print(final_df)\n",
        "\n",
        "test_df = final_df[final_df[name1] + final_df[name2] > 3]\n",
        "print(test_df)"
      ],
      "metadata": {
        "id": "J7pdSldDxMEu",
        "colab": {
          "base_uri": "https://localhost:8080/"
        },
        "outputId": "00fea1db-845a-4cc7-acc7-2193361b5414"
      },
      "execution_count": null,
      "outputs": [
        {
          "output_type": "stream",
          "name": "stdout",
          "text": [
            "             Achievement Companies  Caring Companies  Percentage\n",
            "Location                                                        \n",
            "Britain                        4.0               6.0   40.000000\n",
            "France                         2.0               7.0   22.222222\n",
            "Germany                        4.0               8.0   33.333333\n",
            "Japan                         11.0               7.0   61.111111\n",
            "South Korea                    1.0               3.0   25.000000\n",
            "Switzerland                    2.0               3.0   40.000000\n",
            "USA                           28.0              24.0   53.846154\n"
          ]
        }
      ]
    },
    {
      "cell_type": "code",
      "source": [
        "fig = px.bar(final_df)\n",
        "fig.update_layout(title_text='Location wise distribution of companies', title_x=0.5)\n",
        "fig.show()"
      ],
      "metadata": {
        "id": "Qd_Dfrgn3gbG",
        "colab": {
          "base_uri": "https://localhost:8080/",
          "height": 542
        },
        "outputId": "d306b070-d61f-40a4-97b1-2d411ccae197"
      },
      "execution_count": null,
      "outputs": [
        {
          "output_type": "display_data",
          "data": {
            "text/html": [
              "<html>\n",
              "<head><meta charset=\"utf-8\" /></head>\n",
              "<body>\n",
              "    <div>            <script src=\"https://cdnjs.cloudflare.com/ajax/libs/mathjax/2.7.5/MathJax.js?config=TeX-AMS-MML_SVG\"></script><script type=\"text/javascript\">if (window.MathJax) {MathJax.Hub.Config({SVG: {font: \"STIX-Web\"}});}</script>                <script type=\"text/javascript\">window.PlotlyConfig = {MathJaxConfig: 'local'};</script>\n",
              "        <script src=\"https://cdn.plot.ly/plotly-2.8.3.min.js\"></script>                <div id=\"e06113a7-cd52-4310-9369-f710d22aefa8\" class=\"plotly-graph-div\" style=\"height:525px; width:100%;\"></div>            <script type=\"text/javascript\">                                    window.PLOTLYENV=window.PLOTLYENV || {};                                    if (document.getElementById(\"e06113a7-cd52-4310-9369-f710d22aefa8\")) {                    Plotly.newPlot(                        \"e06113a7-cd52-4310-9369-f710d22aefa8\",                        [{\"alignmentgroup\":\"True\",\"hovertemplate\":\"variable=Achievement Companies<br>Location=%{x}<br>value=%{y}<extra></extra>\",\"legendgroup\":\"Achievement Companies\",\"marker\":{\"color\":\"#636efa\",\"pattern\":{\"shape\":\"\"}},\"name\":\"Achievement Companies\",\"offsetgroup\":\"Achievement Companies\",\"orientation\":\"v\",\"showlegend\":true,\"textposition\":\"auto\",\"x\":[\"Brazil\",\"Britain\",\"Canada\",\"China\",\"Finland\",\"France\",\"Germany\",\"Indonesia\",\"Ireland\",\"Italy\",\"Japan\",\"Luxembourg\",\"Malaysia\",\"Mexico\",\"Netherlands\",\"Russia\",\"Singapore\",\"South Korea\",\"Spain\",\"Sweden\",\"Switzerland\",\"Taiwan\",\"Thailand\",\"USA\"],\"xaxis\":\"x\",\"y\":[1.0,4.0,0.0,1.0,2.0,2.0,4.0,1.0,0.0,0.0,11.0,0.0,1.0,1.0,0.0,0.0,0.0,1.0,0.0,1.0,2.0,0.0,1.0,28.0],\"yaxis\":\"y\",\"type\":\"bar\"},{\"alignmentgroup\":\"True\",\"hovertemplate\":\"variable=Caring Companies<br>Location=%{x}<br>value=%{y}<extra></extra>\",\"legendgroup\":\"Caring Companies\",\"marker\":{\"color\":\"#EF553B\",\"pattern\":{\"shape\":\"\"}},\"name\":\"Caring Companies\",\"offsetgroup\":\"Caring Companies\",\"orientation\":\"v\",\"showlegend\":true,\"textposition\":\"auto\",\"x\":[\"Brazil\",\"Britain\",\"Canada\",\"China\",\"Finland\",\"France\",\"Germany\",\"Indonesia\",\"Ireland\",\"Italy\",\"Japan\",\"Luxembourg\",\"Malaysia\",\"Mexico\",\"Netherlands\",\"Russia\",\"Singapore\",\"South Korea\",\"Spain\",\"Sweden\",\"Switzerland\",\"Taiwan\",\"Thailand\",\"USA\"],\"xaxis\":\"x\",\"y\":[2.0,6.0,1.0,2.0,0.0,7.0,8.0,0.0,3.0,2.0,7.0,1.0,0.0,0.0,2.0,3.0,1.0,3.0,3.0,1.0,3.0,2.0,0.0,24.0],\"yaxis\":\"y\",\"type\":\"bar\"},{\"alignmentgroup\":\"True\",\"hovertemplate\":\"variable=Percentage<br>Location=%{x}<br>value=%{y}<extra></extra>\",\"legendgroup\":\"Percentage\",\"marker\":{\"color\":\"#00cc96\",\"pattern\":{\"shape\":\"\"}},\"name\":\"Percentage\",\"offsetgroup\":\"Percentage\",\"orientation\":\"v\",\"showlegend\":true,\"textposition\":\"auto\",\"x\":[\"Brazil\",\"Britain\",\"Canada\",\"China\",\"Finland\",\"France\",\"Germany\",\"Indonesia\",\"Ireland\",\"Italy\",\"Japan\",\"Luxembourg\",\"Malaysia\",\"Mexico\",\"Netherlands\",\"Russia\",\"Singapore\",\"South Korea\",\"Spain\",\"Sweden\",\"Switzerland\",\"Taiwan\",\"Thailand\",\"USA\"],\"xaxis\":\"x\",\"y\":[33.33333333333333,40.0,0.0,33.33333333333333,100.0,22.22222222222222,33.33333333333333,100.0,0.0,0.0,61.111111111111114,0.0,100.0,100.0,0.0,0.0,0.0,25.0,0.0,50.0,40.0,0.0,100.0,53.84615384615385],\"yaxis\":\"y\",\"type\":\"bar\"}],                        {\"template\":{\"data\":{\"bar\":[{\"error_x\":{\"color\":\"#2a3f5f\"},\"error_y\":{\"color\":\"#2a3f5f\"},\"marker\":{\"line\":{\"color\":\"#E5ECF6\",\"width\":0.5},\"pattern\":{\"fillmode\":\"overlay\",\"size\":10,\"solidity\":0.2}},\"type\":\"bar\"}],\"barpolar\":[{\"marker\":{\"line\":{\"color\":\"#E5ECF6\",\"width\":0.5},\"pattern\":{\"fillmode\":\"overlay\",\"size\":10,\"solidity\":0.2}},\"type\":\"barpolar\"}],\"carpet\":[{\"aaxis\":{\"endlinecolor\":\"#2a3f5f\",\"gridcolor\":\"white\",\"linecolor\":\"white\",\"minorgridcolor\":\"white\",\"startlinecolor\":\"#2a3f5f\"},\"baxis\":{\"endlinecolor\":\"#2a3f5f\",\"gridcolor\":\"white\",\"linecolor\":\"white\",\"minorgridcolor\":\"white\",\"startlinecolor\":\"#2a3f5f\"},\"type\":\"carpet\"}],\"choropleth\":[{\"colorbar\":{\"outlinewidth\":0,\"ticks\":\"\"},\"type\":\"choropleth\"}],\"contour\":[{\"colorbar\":{\"outlinewidth\":0,\"ticks\":\"\"},\"colorscale\":[[0.0,\"#0d0887\"],[0.1111111111111111,\"#46039f\"],[0.2222222222222222,\"#7201a8\"],[0.3333333333333333,\"#9c179e\"],[0.4444444444444444,\"#bd3786\"],[0.5555555555555556,\"#d8576b\"],[0.6666666666666666,\"#ed7953\"],[0.7777777777777778,\"#fb9f3a\"],[0.8888888888888888,\"#fdca26\"],[1.0,\"#f0f921\"]],\"type\":\"contour\"}],\"contourcarpet\":[{\"colorbar\":{\"outlinewidth\":0,\"ticks\":\"\"},\"type\":\"contourcarpet\"}],\"heatmap\":[{\"colorbar\":{\"outlinewidth\":0,\"ticks\":\"\"},\"colorscale\":[[0.0,\"#0d0887\"],[0.1111111111111111,\"#46039f\"],[0.2222222222222222,\"#7201a8\"],[0.3333333333333333,\"#9c179e\"],[0.4444444444444444,\"#bd3786\"],[0.5555555555555556,\"#d8576b\"],[0.6666666666666666,\"#ed7953\"],[0.7777777777777778,\"#fb9f3a\"],[0.8888888888888888,\"#fdca26\"],[1.0,\"#f0f921\"]],\"type\":\"heatmap\"}],\"heatmapgl\":[{\"colorbar\":{\"outlinewidth\":0,\"ticks\":\"\"},\"colorscale\":[[0.0,\"#0d0887\"],[0.1111111111111111,\"#46039f\"],[0.2222222222222222,\"#7201a8\"],[0.3333333333333333,\"#9c179e\"],[0.4444444444444444,\"#bd3786\"],[0.5555555555555556,\"#d8576b\"],[0.6666666666666666,\"#ed7953\"],[0.7777777777777778,\"#fb9f3a\"],[0.8888888888888888,\"#fdca26\"],[1.0,\"#f0f921\"]],\"type\":\"heatmapgl\"}],\"histogram\":[{\"marker\":{\"pattern\":{\"fillmode\":\"overlay\",\"size\":10,\"solidity\":0.2}},\"type\":\"histogram\"}],\"histogram2d\":[{\"colorbar\":{\"outlinewidth\":0,\"ticks\":\"\"},\"colorscale\":[[0.0,\"#0d0887\"],[0.1111111111111111,\"#46039f\"],[0.2222222222222222,\"#7201a8\"],[0.3333333333333333,\"#9c179e\"],[0.4444444444444444,\"#bd3786\"],[0.5555555555555556,\"#d8576b\"],[0.6666666666666666,\"#ed7953\"],[0.7777777777777778,\"#fb9f3a\"],[0.8888888888888888,\"#fdca26\"],[1.0,\"#f0f921\"]],\"type\":\"histogram2d\"}],\"histogram2dcontour\":[{\"colorbar\":{\"outlinewidth\":0,\"ticks\":\"\"},\"colorscale\":[[0.0,\"#0d0887\"],[0.1111111111111111,\"#46039f\"],[0.2222222222222222,\"#7201a8\"],[0.3333333333333333,\"#9c179e\"],[0.4444444444444444,\"#bd3786\"],[0.5555555555555556,\"#d8576b\"],[0.6666666666666666,\"#ed7953\"],[0.7777777777777778,\"#fb9f3a\"],[0.8888888888888888,\"#fdca26\"],[1.0,\"#f0f921\"]],\"type\":\"histogram2dcontour\"}],\"mesh3d\":[{\"colorbar\":{\"outlinewidth\":0,\"ticks\":\"\"},\"type\":\"mesh3d\"}],\"parcoords\":[{\"line\":{\"colorbar\":{\"outlinewidth\":0,\"ticks\":\"\"}},\"type\":\"parcoords\"}],\"pie\":[{\"automargin\":true,\"type\":\"pie\"}],\"scatter\":[{\"marker\":{\"colorbar\":{\"outlinewidth\":0,\"ticks\":\"\"}},\"type\":\"scatter\"}],\"scatter3d\":[{\"line\":{\"colorbar\":{\"outlinewidth\":0,\"ticks\":\"\"}},\"marker\":{\"colorbar\":{\"outlinewidth\":0,\"ticks\":\"\"}},\"type\":\"scatter3d\"}],\"scattercarpet\":[{\"marker\":{\"colorbar\":{\"outlinewidth\":0,\"ticks\":\"\"}},\"type\":\"scattercarpet\"}],\"scattergeo\":[{\"marker\":{\"colorbar\":{\"outlinewidth\":0,\"ticks\":\"\"}},\"type\":\"scattergeo\"}],\"scattergl\":[{\"marker\":{\"colorbar\":{\"outlinewidth\":0,\"ticks\":\"\"}},\"type\":\"scattergl\"}],\"scattermapbox\":[{\"marker\":{\"colorbar\":{\"outlinewidth\":0,\"ticks\":\"\"}},\"type\":\"scattermapbox\"}],\"scatterpolar\":[{\"marker\":{\"colorbar\":{\"outlinewidth\":0,\"ticks\":\"\"}},\"type\":\"scatterpolar\"}],\"scatterpolargl\":[{\"marker\":{\"colorbar\":{\"outlinewidth\":0,\"ticks\":\"\"}},\"type\":\"scatterpolargl\"}],\"scatterternary\":[{\"marker\":{\"colorbar\":{\"outlinewidth\":0,\"ticks\":\"\"}},\"type\":\"scatterternary\"}],\"surface\":[{\"colorbar\":{\"outlinewidth\":0,\"ticks\":\"\"},\"colorscale\":[[0.0,\"#0d0887\"],[0.1111111111111111,\"#46039f\"],[0.2222222222222222,\"#7201a8\"],[0.3333333333333333,\"#9c179e\"],[0.4444444444444444,\"#bd3786\"],[0.5555555555555556,\"#d8576b\"],[0.6666666666666666,\"#ed7953\"],[0.7777777777777778,\"#fb9f3a\"],[0.8888888888888888,\"#fdca26\"],[1.0,\"#f0f921\"]],\"type\":\"surface\"}],\"table\":[{\"cells\":{\"fill\":{\"color\":\"#EBF0F8\"},\"line\":{\"color\":\"white\"}},\"header\":{\"fill\":{\"color\":\"#C8D4E3\"},\"line\":{\"color\":\"white\"}},\"type\":\"table\"}]},\"layout\":{\"annotationdefaults\":{\"arrowcolor\":\"#2a3f5f\",\"arrowhead\":0,\"arrowwidth\":1},\"autotypenumbers\":\"strict\",\"coloraxis\":{\"colorbar\":{\"outlinewidth\":0,\"ticks\":\"\"}},\"colorscale\":{\"diverging\":[[0,\"#8e0152\"],[0.1,\"#c51b7d\"],[0.2,\"#de77ae\"],[0.3,\"#f1b6da\"],[0.4,\"#fde0ef\"],[0.5,\"#f7f7f7\"],[0.6,\"#e6f5d0\"],[0.7,\"#b8e186\"],[0.8,\"#7fbc41\"],[0.9,\"#4d9221\"],[1,\"#276419\"]],\"sequential\":[[0.0,\"#0d0887\"],[0.1111111111111111,\"#46039f\"],[0.2222222222222222,\"#7201a8\"],[0.3333333333333333,\"#9c179e\"],[0.4444444444444444,\"#bd3786\"],[0.5555555555555556,\"#d8576b\"],[0.6666666666666666,\"#ed7953\"],[0.7777777777777778,\"#fb9f3a\"],[0.8888888888888888,\"#fdca26\"],[1.0,\"#f0f921\"]],\"sequentialminus\":[[0.0,\"#0d0887\"],[0.1111111111111111,\"#46039f\"],[0.2222222222222222,\"#7201a8\"],[0.3333333333333333,\"#9c179e\"],[0.4444444444444444,\"#bd3786\"],[0.5555555555555556,\"#d8576b\"],[0.6666666666666666,\"#ed7953\"],[0.7777777777777778,\"#fb9f3a\"],[0.8888888888888888,\"#fdca26\"],[1.0,\"#f0f921\"]]},\"colorway\":[\"#636efa\",\"#EF553B\",\"#00cc96\",\"#ab63fa\",\"#FFA15A\",\"#19d3f3\",\"#FF6692\",\"#B6E880\",\"#FF97FF\",\"#FECB52\"],\"font\":{\"color\":\"#2a3f5f\"},\"geo\":{\"bgcolor\":\"white\",\"lakecolor\":\"white\",\"landcolor\":\"#E5ECF6\",\"showlakes\":true,\"showland\":true,\"subunitcolor\":\"white\"},\"hoverlabel\":{\"align\":\"left\"},\"hovermode\":\"closest\",\"mapbox\":{\"style\":\"light\"},\"paper_bgcolor\":\"white\",\"plot_bgcolor\":\"#E5ECF6\",\"polar\":{\"angularaxis\":{\"gridcolor\":\"white\",\"linecolor\":\"white\",\"ticks\":\"\"},\"bgcolor\":\"#E5ECF6\",\"radialaxis\":{\"gridcolor\":\"white\",\"linecolor\":\"white\",\"ticks\":\"\"}},\"scene\":{\"xaxis\":{\"backgroundcolor\":\"#E5ECF6\",\"gridcolor\":\"white\",\"gridwidth\":2,\"linecolor\":\"white\",\"showbackground\":true,\"ticks\":\"\",\"zerolinecolor\":\"white\"},\"yaxis\":{\"backgroundcolor\":\"#E5ECF6\",\"gridcolor\":\"white\",\"gridwidth\":2,\"linecolor\":\"white\",\"showbackground\":true,\"ticks\":\"\",\"zerolinecolor\":\"white\"},\"zaxis\":{\"backgroundcolor\":\"#E5ECF6\",\"gridcolor\":\"white\",\"gridwidth\":2,\"linecolor\":\"white\",\"showbackground\":true,\"ticks\":\"\",\"zerolinecolor\":\"white\"}},\"shapedefaults\":{\"line\":{\"color\":\"#2a3f5f\"}},\"ternary\":{\"aaxis\":{\"gridcolor\":\"white\",\"linecolor\":\"white\",\"ticks\":\"\"},\"baxis\":{\"gridcolor\":\"white\",\"linecolor\":\"white\",\"ticks\":\"\"},\"bgcolor\":\"#E5ECF6\",\"caxis\":{\"gridcolor\":\"white\",\"linecolor\":\"white\",\"ticks\":\"\"}},\"title\":{\"x\":0.05},\"xaxis\":{\"automargin\":true,\"gridcolor\":\"white\",\"linecolor\":\"white\",\"ticks\":\"\",\"title\":{\"standoff\":15},\"zerolinecolor\":\"white\",\"zerolinewidth\":2},\"yaxis\":{\"automargin\":true,\"gridcolor\":\"white\",\"linecolor\":\"white\",\"ticks\":\"\",\"title\":{\"standoff\":15},\"zerolinecolor\":\"white\",\"zerolinewidth\":2}}},\"xaxis\":{\"anchor\":\"y\",\"domain\":[0.0,1.0],\"title\":{\"text\":\"Location\"}},\"yaxis\":{\"anchor\":\"x\",\"domain\":[0.0,1.0],\"title\":{\"text\":\"value\"}},\"legend\":{\"title\":{\"text\":\"variable\"},\"tracegroupgap\":0},\"margin\":{\"t\":60},\"barmode\":\"relative\",\"title\":{\"text\":\"Location wise distribution of companies\",\"x\":0.5}},                        {\"responsive\": true}                    ).then(function(){\n",
              "                            \n",
              "var gd = document.getElementById('e06113a7-cd52-4310-9369-f710d22aefa8');\n",
              "var x = new MutationObserver(function (mutations, observer) {{\n",
              "        var display = window.getComputedStyle(gd).display;\n",
              "        if (!display || display === 'none') {{\n",
              "            console.log([gd, 'removed!']);\n",
              "            Plotly.purge(gd);\n",
              "            observer.disconnect();\n",
              "        }}\n",
              "}});\n",
              "\n",
              "// Listen for the removal of the full notebook cells\n",
              "var notebookContainer = gd.closest('#notebook-container');\n",
              "if (notebookContainer) {{\n",
              "    x.observe(notebookContainer, {childList: true});\n",
              "}}\n",
              "\n",
              "// Listen for the clearing of the current output cell\n",
              "var outputEl = gd.closest('.output');\n",
              "if (outputEl) {{\n",
              "    x.observe(outputEl, {childList: true});\n",
              "}}\n",
              "\n",
              "                        })                };                            </script>        </div>\n",
              "</body>\n",
              "</html>"
            ]
          },
          "metadata": {}
        }
      ]
    },
    {
      "cell_type": "markdown",
      "source": [
        "**Percentage of companies in each countries**"
      ],
      "metadata": {
        "id": "mYKEocDzlVoW"
      }
    },
    {
      "cell_type": "code",
      "source": [
        "test_df = test_df.iloc[:,2:]\n",
        "test_df = test_df.sort_values(\"Percentage\")\n",
        "print(test_df)"
      ],
      "metadata": {
        "colab": {
          "base_uri": "https://localhost:8080/"
        },
        "id": "iRxyWs3hvcvG",
        "outputId": "5bbd0f37-be96-44a1-d226-743531814c9a"
      },
      "execution_count": null,
      "outputs": [
        {
          "output_type": "stream",
          "name": "stdout",
          "text": [
            "             Percentage\n",
            "Location               \n",
            "France        22.222222\n",
            "South Korea   25.000000\n",
            "Germany       33.333333\n",
            "Britain       40.000000\n",
            "Switzerland   40.000000\n",
            "USA           53.846154\n",
            "Japan         61.111111\n"
          ]
        }
      ]
    },
    {
      "cell_type": "code",
      "source": [
        "fig = px.bar(test_df)\n",
        "fig.update_layout(title_text='Location wise distribution of companies', title_x=0.5)\n",
        "fig.show()"
      ],
      "metadata": {
        "id": "yoWiDXsOv8fs",
        "colab": {
          "base_uri": "https://localhost:8080/",
          "height": 542
        },
        "outputId": "b58a16e1-144b-424b-d393-6ad576f30f82"
      },
      "execution_count": null,
      "outputs": [
        {
          "output_type": "display_data",
          "data": {
            "text/html": [
              "<html>\n",
              "<head><meta charset=\"utf-8\" /></head>\n",
              "<body>\n",
              "    <div>            <script src=\"https://cdnjs.cloudflare.com/ajax/libs/mathjax/2.7.5/MathJax.js?config=TeX-AMS-MML_SVG\"></script><script type=\"text/javascript\">if (window.MathJax) {MathJax.Hub.Config({SVG: {font: \"STIX-Web\"}});}</script>                <script type=\"text/javascript\">window.PlotlyConfig = {MathJaxConfig: 'local'};</script>\n",
              "        <script src=\"https://cdn.plot.ly/plotly-2.8.3.min.js\"></script>                <div id=\"032d7632-c4e7-460e-aa1d-88e07db11330\" class=\"plotly-graph-div\" style=\"height:525px; width:100%;\"></div>            <script type=\"text/javascript\">                                    window.PLOTLYENV=window.PLOTLYENV || {};                                    if (document.getElementById(\"032d7632-c4e7-460e-aa1d-88e07db11330\")) {                    Plotly.newPlot(                        \"032d7632-c4e7-460e-aa1d-88e07db11330\",                        [{\"alignmentgroup\":\"True\",\"hovertemplate\":\"variable=Percentage<br>Location=%{x}<br>value=%{y}<extra></extra>\",\"legendgroup\":\"Percentage\",\"marker\":{\"color\":\"#636efa\",\"pattern\":{\"shape\":\"\"}},\"name\":\"Percentage\",\"offsetgroup\":\"Percentage\",\"orientation\":\"v\",\"showlegend\":true,\"textposition\":\"auto\",\"x\":[\"France\",\"South Korea\",\"Germany\",\"Britain\",\"Switzerland\",\"USA\",\"Japan\"],\"xaxis\":\"x\",\"y\":[22.22222222222222,25.0,33.33333333333333,40.0,40.0,53.84615384615385,61.111111111111114],\"yaxis\":\"y\",\"type\":\"bar\"}],                        {\"template\":{\"data\":{\"bar\":[{\"error_x\":{\"color\":\"#2a3f5f\"},\"error_y\":{\"color\":\"#2a3f5f\"},\"marker\":{\"line\":{\"color\":\"#E5ECF6\",\"width\":0.5},\"pattern\":{\"fillmode\":\"overlay\",\"size\":10,\"solidity\":0.2}},\"type\":\"bar\"}],\"barpolar\":[{\"marker\":{\"line\":{\"color\":\"#E5ECF6\",\"width\":0.5},\"pattern\":{\"fillmode\":\"overlay\",\"size\":10,\"solidity\":0.2}},\"type\":\"barpolar\"}],\"carpet\":[{\"aaxis\":{\"endlinecolor\":\"#2a3f5f\",\"gridcolor\":\"white\",\"linecolor\":\"white\",\"minorgridcolor\":\"white\",\"startlinecolor\":\"#2a3f5f\"},\"baxis\":{\"endlinecolor\":\"#2a3f5f\",\"gridcolor\":\"white\",\"linecolor\":\"white\",\"minorgridcolor\":\"white\",\"startlinecolor\":\"#2a3f5f\"},\"type\":\"carpet\"}],\"choropleth\":[{\"colorbar\":{\"outlinewidth\":0,\"ticks\":\"\"},\"type\":\"choropleth\"}],\"contour\":[{\"colorbar\":{\"outlinewidth\":0,\"ticks\":\"\"},\"colorscale\":[[0.0,\"#0d0887\"],[0.1111111111111111,\"#46039f\"],[0.2222222222222222,\"#7201a8\"],[0.3333333333333333,\"#9c179e\"],[0.4444444444444444,\"#bd3786\"],[0.5555555555555556,\"#d8576b\"],[0.6666666666666666,\"#ed7953\"],[0.7777777777777778,\"#fb9f3a\"],[0.8888888888888888,\"#fdca26\"],[1.0,\"#f0f921\"]],\"type\":\"contour\"}],\"contourcarpet\":[{\"colorbar\":{\"outlinewidth\":0,\"ticks\":\"\"},\"type\":\"contourcarpet\"}],\"heatmap\":[{\"colorbar\":{\"outlinewidth\":0,\"ticks\":\"\"},\"colorscale\":[[0.0,\"#0d0887\"],[0.1111111111111111,\"#46039f\"],[0.2222222222222222,\"#7201a8\"],[0.3333333333333333,\"#9c179e\"],[0.4444444444444444,\"#bd3786\"],[0.5555555555555556,\"#d8576b\"],[0.6666666666666666,\"#ed7953\"],[0.7777777777777778,\"#fb9f3a\"],[0.8888888888888888,\"#fdca26\"],[1.0,\"#f0f921\"]],\"type\":\"heatmap\"}],\"heatmapgl\":[{\"colorbar\":{\"outlinewidth\":0,\"ticks\":\"\"},\"colorscale\":[[0.0,\"#0d0887\"],[0.1111111111111111,\"#46039f\"],[0.2222222222222222,\"#7201a8\"],[0.3333333333333333,\"#9c179e\"],[0.4444444444444444,\"#bd3786\"],[0.5555555555555556,\"#d8576b\"],[0.6666666666666666,\"#ed7953\"],[0.7777777777777778,\"#fb9f3a\"],[0.8888888888888888,\"#fdca26\"],[1.0,\"#f0f921\"]],\"type\":\"heatmapgl\"}],\"histogram\":[{\"marker\":{\"pattern\":{\"fillmode\":\"overlay\",\"size\":10,\"solidity\":0.2}},\"type\":\"histogram\"}],\"histogram2d\":[{\"colorbar\":{\"outlinewidth\":0,\"ticks\":\"\"},\"colorscale\":[[0.0,\"#0d0887\"],[0.1111111111111111,\"#46039f\"],[0.2222222222222222,\"#7201a8\"],[0.3333333333333333,\"#9c179e\"],[0.4444444444444444,\"#bd3786\"],[0.5555555555555556,\"#d8576b\"],[0.6666666666666666,\"#ed7953\"],[0.7777777777777778,\"#fb9f3a\"],[0.8888888888888888,\"#fdca26\"],[1.0,\"#f0f921\"]],\"type\":\"histogram2d\"}],\"histogram2dcontour\":[{\"colorbar\":{\"outlinewidth\":0,\"ticks\":\"\"},\"colorscale\":[[0.0,\"#0d0887\"],[0.1111111111111111,\"#46039f\"],[0.2222222222222222,\"#7201a8\"],[0.3333333333333333,\"#9c179e\"],[0.4444444444444444,\"#bd3786\"],[0.5555555555555556,\"#d8576b\"],[0.6666666666666666,\"#ed7953\"],[0.7777777777777778,\"#fb9f3a\"],[0.8888888888888888,\"#fdca26\"],[1.0,\"#f0f921\"]],\"type\":\"histogram2dcontour\"}],\"mesh3d\":[{\"colorbar\":{\"outlinewidth\":0,\"ticks\":\"\"},\"type\":\"mesh3d\"}],\"parcoords\":[{\"line\":{\"colorbar\":{\"outlinewidth\":0,\"ticks\":\"\"}},\"type\":\"parcoords\"}],\"pie\":[{\"automargin\":true,\"type\":\"pie\"}],\"scatter\":[{\"marker\":{\"colorbar\":{\"outlinewidth\":0,\"ticks\":\"\"}},\"type\":\"scatter\"}],\"scatter3d\":[{\"line\":{\"colorbar\":{\"outlinewidth\":0,\"ticks\":\"\"}},\"marker\":{\"colorbar\":{\"outlinewidth\":0,\"ticks\":\"\"}},\"type\":\"scatter3d\"}],\"scattercarpet\":[{\"marker\":{\"colorbar\":{\"outlinewidth\":0,\"ticks\":\"\"}},\"type\":\"scattercarpet\"}],\"scattergeo\":[{\"marker\":{\"colorbar\":{\"outlinewidth\":0,\"ticks\":\"\"}},\"type\":\"scattergeo\"}],\"scattergl\":[{\"marker\":{\"colorbar\":{\"outlinewidth\":0,\"ticks\":\"\"}},\"type\":\"scattergl\"}],\"scattermapbox\":[{\"marker\":{\"colorbar\":{\"outlinewidth\":0,\"ticks\":\"\"}},\"type\":\"scattermapbox\"}],\"scatterpolar\":[{\"marker\":{\"colorbar\":{\"outlinewidth\":0,\"ticks\":\"\"}},\"type\":\"scatterpolar\"}],\"scatterpolargl\":[{\"marker\":{\"colorbar\":{\"outlinewidth\":0,\"ticks\":\"\"}},\"type\":\"scatterpolargl\"}],\"scatterternary\":[{\"marker\":{\"colorbar\":{\"outlinewidth\":0,\"ticks\":\"\"}},\"type\":\"scatterternary\"}],\"surface\":[{\"colorbar\":{\"outlinewidth\":0,\"ticks\":\"\"},\"colorscale\":[[0.0,\"#0d0887\"],[0.1111111111111111,\"#46039f\"],[0.2222222222222222,\"#7201a8\"],[0.3333333333333333,\"#9c179e\"],[0.4444444444444444,\"#bd3786\"],[0.5555555555555556,\"#d8576b\"],[0.6666666666666666,\"#ed7953\"],[0.7777777777777778,\"#fb9f3a\"],[0.8888888888888888,\"#fdca26\"],[1.0,\"#f0f921\"]],\"type\":\"surface\"}],\"table\":[{\"cells\":{\"fill\":{\"color\":\"#EBF0F8\"},\"line\":{\"color\":\"white\"}},\"header\":{\"fill\":{\"color\":\"#C8D4E3\"},\"line\":{\"color\":\"white\"}},\"type\":\"table\"}]},\"layout\":{\"annotationdefaults\":{\"arrowcolor\":\"#2a3f5f\",\"arrowhead\":0,\"arrowwidth\":1},\"autotypenumbers\":\"strict\",\"coloraxis\":{\"colorbar\":{\"outlinewidth\":0,\"ticks\":\"\"}},\"colorscale\":{\"diverging\":[[0,\"#8e0152\"],[0.1,\"#c51b7d\"],[0.2,\"#de77ae\"],[0.3,\"#f1b6da\"],[0.4,\"#fde0ef\"],[0.5,\"#f7f7f7\"],[0.6,\"#e6f5d0\"],[0.7,\"#b8e186\"],[0.8,\"#7fbc41\"],[0.9,\"#4d9221\"],[1,\"#276419\"]],\"sequential\":[[0.0,\"#0d0887\"],[0.1111111111111111,\"#46039f\"],[0.2222222222222222,\"#7201a8\"],[0.3333333333333333,\"#9c179e\"],[0.4444444444444444,\"#bd3786\"],[0.5555555555555556,\"#d8576b\"],[0.6666666666666666,\"#ed7953\"],[0.7777777777777778,\"#fb9f3a\"],[0.8888888888888888,\"#fdca26\"],[1.0,\"#f0f921\"]],\"sequentialminus\":[[0.0,\"#0d0887\"],[0.1111111111111111,\"#46039f\"],[0.2222222222222222,\"#7201a8\"],[0.3333333333333333,\"#9c179e\"],[0.4444444444444444,\"#bd3786\"],[0.5555555555555556,\"#d8576b\"],[0.6666666666666666,\"#ed7953\"],[0.7777777777777778,\"#fb9f3a\"],[0.8888888888888888,\"#fdca26\"],[1.0,\"#f0f921\"]]},\"colorway\":[\"#636efa\",\"#EF553B\",\"#00cc96\",\"#ab63fa\",\"#FFA15A\",\"#19d3f3\",\"#FF6692\",\"#B6E880\",\"#FF97FF\",\"#FECB52\"],\"font\":{\"color\":\"#2a3f5f\"},\"geo\":{\"bgcolor\":\"white\",\"lakecolor\":\"white\",\"landcolor\":\"#E5ECF6\",\"showlakes\":true,\"showland\":true,\"subunitcolor\":\"white\"},\"hoverlabel\":{\"align\":\"left\"},\"hovermode\":\"closest\",\"mapbox\":{\"style\":\"light\"},\"paper_bgcolor\":\"white\",\"plot_bgcolor\":\"#E5ECF6\",\"polar\":{\"angularaxis\":{\"gridcolor\":\"white\",\"linecolor\":\"white\",\"ticks\":\"\"},\"bgcolor\":\"#E5ECF6\",\"radialaxis\":{\"gridcolor\":\"white\",\"linecolor\":\"white\",\"ticks\":\"\"}},\"scene\":{\"xaxis\":{\"backgroundcolor\":\"#E5ECF6\",\"gridcolor\":\"white\",\"gridwidth\":2,\"linecolor\":\"white\",\"showbackground\":true,\"ticks\":\"\",\"zerolinecolor\":\"white\"},\"yaxis\":{\"backgroundcolor\":\"#E5ECF6\",\"gridcolor\":\"white\",\"gridwidth\":2,\"linecolor\":\"white\",\"showbackground\":true,\"ticks\":\"\",\"zerolinecolor\":\"white\"},\"zaxis\":{\"backgroundcolor\":\"#E5ECF6\",\"gridcolor\":\"white\",\"gridwidth\":2,\"linecolor\":\"white\",\"showbackground\":true,\"ticks\":\"\",\"zerolinecolor\":\"white\"}},\"shapedefaults\":{\"line\":{\"color\":\"#2a3f5f\"}},\"ternary\":{\"aaxis\":{\"gridcolor\":\"white\",\"linecolor\":\"white\",\"ticks\":\"\"},\"baxis\":{\"gridcolor\":\"white\",\"linecolor\":\"white\",\"ticks\":\"\"},\"bgcolor\":\"#E5ECF6\",\"caxis\":{\"gridcolor\":\"white\",\"linecolor\":\"white\",\"ticks\":\"\"}},\"title\":{\"x\":0.05},\"xaxis\":{\"automargin\":true,\"gridcolor\":\"white\",\"linecolor\":\"white\",\"ticks\":\"\",\"title\":{\"standoff\":15},\"zerolinecolor\":\"white\",\"zerolinewidth\":2},\"yaxis\":{\"automargin\":true,\"gridcolor\":\"white\",\"linecolor\":\"white\",\"ticks\":\"\",\"title\":{\"standoff\":15},\"zerolinecolor\":\"white\",\"zerolinewidth\":2}}},\"xaxis\":{\"anchor\":\"y\",\"domain\":[0.0,1.0],\"title\":{\"text\":\"Location\"}},\"yaxis\":{\"anchor\":\"x\",\"domain\":[0.0,1.0],\"title\":{\"text\":\"value\"}},\"legend\":{\"title\":{\"text\":\"variable\"},\"tracegroupgap\":0},\"margin\":{\"t\":60},\"barmode\":\"relative\",\"title\":{\"text\":\"Location wise distribution of companies\",\"x\":0.5}},                        {\"responsive\": true}                    ).then(function(){\n",
              "                            \n",
              "var gd = document.getElementById('032d7632-c4e7-460e-aa1d-88e07db11330');\n",
              "var x = new MutationObserver(function (mutations, observer) {{\n",
              "        var display = window.getComputedStyle(gd).display;\n",
              "        if (!display || display === 'none') {{\n",
              "            console.log([gd, 'removed!']);\n",
              "            Plotly.purge(gd);\n",
              "            observer.disconnect();\n",
              "        }}\n",
              "}});\n",
              "\n",
              "// Listen for the removal of the full notebook cells\n",
              "var notebookContainer = gd.closest('#notebook-container');\n",
              "if (notebookContainer) {{\n",
              "    x.observe(notebookContainer, {childList: true});\n",
              "}}\n",
              "\n",
              "// Listen for the clearing of the current output cell\n",
              "var outputEl = gd.closest('.output');\n",
              "if (outputEl) {{\n",
              "    x.observe(outputEl, {childList: true});\n",
              "}}\n",
              "\n",
              "                        })                };                            </script>        </div>\n",
              "</body>\n",
              "</html>"
            ]
          },
          "metadata": {}
        }
      ]
    },
    {
      "cell_type": "markdown",
      "source": [
        "**Below we accept the input from user for a single hofstede's Dimension**"
      ],
      "metadata": {
        "id": "PQQKi1YrLxU7"
      }
    },
    {
      "cell_type": "code",
      "source": [
        "# user will input their antonym pairs and t will be added to the list\n",
        "input_list = ['achievement-caring','feminine-masculine','accomplishment-loving','excellence-nurturing','king-queen','man-woman','accomplishments-cared','award-care',\n",
        "              'compassionate-outstanding','insensitive-unsuccessful','fruitless-heartless','competitive-uncompetitive']\n",
        "company_df=total_company_df\n",
        "\n",
        "# we then find the number of companies grouped on the basis of location\n",
        "for i in input_list:\n",
        "  \n",
        "  subset_df2 = new_df[new_df[i] < 0]\n",
        "  company_inclined_to_left_polar_df1 = subset_df2['Location'].value_counts()\n",
        "  left_polar = i.split(\"-\")[0]\n",
        "  company_inclined_to_left_polar_df1 = pd.DataFrame({'Country':company_inclined_to_left_polar_df1.index, left_polar :company_inclined_to_left_polar_df1.values})\n",
        "  company_df=pd.merge(company_df, company_inclined_to_left_polar_df1, how='left',on='Country')    \n",
        "  company_df[left_polar] = round( company_df[left_polar] / company_df.iloc[:,1] * 100)\n",
        "\n",
        "  subset_df1 = new_df[new_df[i] > 0]\n",
        "  company_inclined_to_right_polar_df1 = subset_df1['Location'].value_counts()\n",
        "  right_polar = i.split(\"-\")[1]\n",
        "  company_inclined_to_right_polar_df1 = pd.DataFrame({'Country':company_inclined_to_right_polar_df1.index, right_polar :company_inclined_to_right_polar_df1.values})\n",
        "  company_df=pd.merge(company_df, company_inclined_to_right_polar_df1, how='left',on='Country')    \n",
        "  company_df[right_polar] = round( company_df[right_polar] / company_df.iloc[:,1] * 100)\n",
        "\n",
        "\n",
        "company_df = company_df.fillna(0)\n",
        "\n",
        "# We are considering only the countries if the numberof companies in the country is over 3\n",
        "company_df = company_df[company_df['Total Count'] > 3]\n",
        "print(company_df.head())\n",
        "\n"
      ],
      "metadata": {
        "colab": {
          "base_uri": "https://localhost:8080/"
        },
        "id": "vhcjACN_uTg_",
        "outputId": "fb5b43c8-4668-44b1-88ea-c7a5aae5081f"
      },
      "execution_count": null,
      "outputs": [
        {
          "output_type": "stream",
          "name": "stdout",
          "text": [
            "   Country  Total Count  achievement  caring  feminine  masculine  \\\n",
            "0      USA           52         54.0    46.0      44.0       56.0   \n",
            "1    Japan           18         61.0    39.0      94.0        6.0   \n",
            "2  Germany           12         33.0    67.0      83.0       17.0   \n",
            "3  Britain           10         40.0    60.0      70.0       30.0   \n",
            "4   France            9         22.0    78.0      22.0       78.0   \n",
            "\n",
            "   accomplishment  loving  excellence  nurturing  ...  award  care  \\\n",
            "0            44.0    56.0        46.0       54.0  ...   71.0  29.0   \n",
            "1            44.0    56.0        72.0       28.0  ...   39.0  61.0   \n",
            "2            25.0    75.0        58.0       42.0  ...   67.0  33.0   \n",
            "3            60.0    40.0        50.0       50.0  ...   90.0  10.0   \n",
            "4            78.0    22.0        44.0       56.0  ...   67.0  33.0   \n",
            "\n",
            "   compassionate  outstanding  insensitive  unsuccessful  fruitless  \\\n",
            "0           31.0         69.0         60.0          40.0       65.0   \n",
            "1           28.0         72.0         22.0          78.0       22.0   \n",
            "2           50.0         50.0         67.0          33.0       50.0   \n",
            "3           50.0         50.0         40.0          60.0       50.0   \n",
            "4           33.0         67.0         67.0          33.0       67.0   \n",
            "\n",
            "   heartless  competitive  uncompetitive  \n",
            "0       35.0         62.0           38.0  \n",
            "1       78.0         61.0           39.0  \n",
            "2       50.0         75.0           25.0  \n",
            "3       50.0         60.0           40.0  \n",
            "4       33.0         78.0           22.0  \n",
            "\n",
            "[5 rows x 26 columns]\n"
          ]
        }
      ]
    },
    {
      "cell_type": "markdown",
      "source": [
        "**Below we are plotting each antonym pair under the same Hofstede Dimension**"
      ],
      "metadata": {
        "id": "hpI3gKJQLneB"
      }
    },
    {
      "cell_type": "code",
      "source": [
        "from plotly.subplots import make_subplots\n",
        "import plotly.graph_objects as go\n",
        "\n",
        "polar_list = [\"achievement\",'masculine','accomplishment','king','man','accomplishments','award','outstanding','competitive']\n",
        "#['achievement-caring','feminine-masculine','accomplishment-loving','excellence-nurturing','king-queen','man-woman','accomplishments-cared','award-care',\n",
        "#              'compassionate-outstanding','insensitive-unsuccessful','fruitless-heartless']\n",
        "\n",
        "# This is to find the number of rows and columns required in the sub plot\n",
        "grid_value = 0\n",
        "grid_value = round(len(polar_list)/2)\n",
        "grid_value = 6\n",
        "print(grid_value)\n",
        "\n",
        "\n",
        "fig = make_subplots(rows=grid_value, cols=grid_value,subplot_titles= polar_list)\n",
        "\n",
        "row_counter=1\n",
        "col_counter=1\n",
        "\n",
        "for i in range(1,len(polar_list)+1):\n",
        "  \n",
        "  if i%2 ==0:    \n",
        "    fig.add_trace(go.Bar(x=company_df.iloc[:,0] , y=company_df.iloc[:,i+1] ),\n",
        "              row_counter, col_counter)\n",
        "    row_counter= row_counter+1\n",
        "    col_counter=1\n",
        "  else:\n",
        "    \n",
        "    fig.add_trace(go.Bar(x=company_df.iloc[:,0] , y=company_df.iloc[:,i+1] ),\n",
        "              row_counter, col_counter)\n",
        "    col_counter = col_counter+1\n",
        "\n",
        "\n",
        "#fig.update_layout(title_text= \"% of companies aligned to respective polar\", title_x=0.5,coloraxis=dict(colorscale='Bluered_r'), showlegend=False)\n",
        "#fig.show()"
      ],
      "metadata": {
        "id": "IVy4igZNFK6t",
        "colab": {
          "base_uri": "https://localhost:8080/"
        },
        "outputId": "2c17203d-56f4-439a-933e-82b96491eefd"
      },
      "execution_count": null,
      "outputs": [
        {
          "output_type": "stream",
          "name": "stdout",
          "text": [
            "6\n"
          ]
        }
      ]
    },
    {
      "cell_type": "code",
      "source": [
        "# The user input the country name and get the graph for different synonyms under a single Hofstede's Dimension\n",
        "country_name= \"USA\"\n",
        "total_sum=[]\n",
        "\n",
        "for index,row in company_df.iterrows():\n",
        "  if row['Country'] == country_name:\n",
        "    #print(row['Country'])\n",
        "    #print(company_df.iloc[index,2:])  \n",
        "    total_sum =  company_df.iloc[index,2:] \n",
        "    fig = go.Figure([go.Bar(x=input_list, y=company_df.iloc[index,2:])])\n",
        "    fig.update_layout(title_text=country_name, title_x=0.5)\n",
        "    fig.show()\n",
        "    break\n",
        "  else:\n",
        "    print(\"Country Not in the List\")\n",
        "\n",
        "total_sum = total_sum.values\n"
      ],
      "metadata": {
        "colab": {
          "base_uri": "https://localhost:8080/",
          "height": 542
        },
        "id": "aQl0b_dl7nVi",
        "outputId": "169db540-001d-461f-d808-32e1511fa1dc"
      },
      "execution_count": null,
      "outputs": [
        {
          "output_type": "display_data",
          "data": {
            "text/html": [
              "<html>\n",
              "<head><meta charset=\"utf-8\" /></head>\n",
              "<body>\n",
              "    <div>            <script src=\"https://cdnjs.cloudflare.com/ajax/libs/mathjax/2.7.5/MathJax.js?config=TeX-AMS-MML_SVG\"></script><script type=\"text/javascript\">if (window.MathJax) {MathJax.Hub.Config({SVG: {font: \"STIX-Web\"}});}</script>                <script type=\"text/javascript\">window.PlotlyConfig = {MathJaxConfig: 'local'};</script>\n",
              "        <script src=\"https://cdn.plot.ly/plotly-2.8.3.min.js\"></script>                <div id=\"8df923e8-38a7-409b-9519-ab8f39161fd6\" class=\"plotly-graph-div\" style=\"height:525px; width:100%;\"></div>            <script type=\"text/javascript\">                                    window.PLOTLYENV=window.PLOTLYENV || {};                                    if (document.getElementById(\"8df923e8-38a7-409b-9519-ab8f39161fd6\")) {                    Plotly.newPlot(                        \"8df923e8-38a7-409b-9519-ab8f39161fd6\",                        [{\"x\":[\"achievement-caring\",\"feminine-masculine\",\"accomplishment-loving\",\"excellence-nurturing\",\"king-queen\",\"man-woman\",\"accomplishments-cared\",\"award-care\",\"compassionate-outstanding\",\"insensitive-unsuccessful\",\"fruitless-heartless\",\"competitive-uncompetitive\"],\"y\":[54.0,46.0,44.0,56.0,44.0,56.0,46.0,54.0,60.0,40.0,46.0,54.0,60.0,40.0,71.0,29.0,31.0,69.0,60.0,40.0,65.0,35.0,62.0,38.0],\"type\":\"bar\"}],                        {\"template\":{\"data\":{\"bar\":[{\"error_x\":{\"color\":\"#2a3f5f\"},\"error_y\":{\"color\":\"#2a3f5f\"},\"marker\":{\"line\":{\"color\":\"#E5ECF6\",\"width\":0.5},\"pattern\":{\"fillmode\":\"overlay\",\"size\":10,\"solidity\":0.2}},\"type\":\"bar\"}],\"barpolar\":[{\"marker\":{\"line\":{\"color\":\"#E5ECF6\",\"width\":0.5},\"pattern\":{\"fillmode\":\"overlay\",\"size\":10,\"solidity\":0.2}},\"type\":\"barpolar\"}],\"carpet\":[{\"aaxis\":{\"endlinecolor\":\"#2a3f5f\",\"gridcolor\":\"white\",\"linecolor\":\"white\",\"minorgridcolor\":\"white\",\"startlinecolor\":\"#2a3f5f\"},\"baxis\":{\"endlinecolor\":\"#2a3f5f\",\"gridcolor\":\"white\",\"linecolor\":\"white\",\"minorgridcolor\":\"white\",\"startlinecolor\":\"#2a3f5f\"},\"type\":\"carpet\"}],\"choropleth\":[{\"colorbar\":{\"outlinewidth\":0,\"ticks\":\"\"},\"type\":\"choropleth\"}],\"contour\":[{\"colorbar\":{\"outlinewidth\":0,\"ticks\":\"\"},\"colorscale\":[[0.0,\"#0d0887\"],[0.1111111111111111,\"#46039f\"],[0.2222222222222222,\"#7201a8\"],[0.3333333333333333,\"#9c179e\"],[0.4444444444444444,\"#bd3786\"],[0.5555555555555556,\"#d8576b\"],[0.6666666666666666,\"#ed7953\"],[0.7777777777777778,\"#fb9f3a\"],[0.8888888888888888,\"#fdca26\"],[1.0,\"#f0f921\"]],\"type\":\"contour\"}],\"contourcarpet\":[{\"colorbar\":{\"outlinewidth\":0,\"ticks\":\"\"},\"type\":\"contourcarpet\"}],\"heatmap\":[{\"colorbar\":{\"outlinewidth\":0,\"ticks\":\"\"},\"colorscale\":[[0.0,\"#0d0887\"],[0.1111111111111111,\"#46039f\"],[0.2222222222222222,\"#7201a8\"],[0.3333333333333333,\"#9c179e\"],[0.4444444444444444,\"#bd3786\"],[0.5555555555555556,\"#d8576b\"],[0.6666666666666666,\"#ed7953\"],[0.7777777777777778,\"#fb9f3a\"],[0.8888888888888888,\"#fdca26\"],[1.0,\"#f0f921\"]],\"type\":\"heatmap\"}],\"heatmapgl\":[{\"colorbar\":{\"outlinewidth\":0,\"ticks\":\"\"},\"colorscale\":[[0.0,\"#0d0887\"],[0.1111111111111111,\"#46039f\"],[0.2222222222222222,\"#7201a8\"],[0.3333333333333333,\"#9c179e\"],[0.4444444444444444,\"#bd3786\"],[0.5555555555555556,\"#d8576b\"],[0.6666666666666666,\"#ed7953\"],[0.7777777777777778,\"#fb9f3a\"],[0.8888888888888888,\"#fdca26\"],[1.0,\"#f0f921\"]],\"type\":\"heatmapgl\"}],\"histogram\":[{\"marker\":{\"pattern\":{\"fillmode\":\"overlay\",\"size\":10,\"solidity\":0.2}},\"type\":\"histogram\"}],\"histogram2d\":[{\"colorbar\":{\"outlinewidth\":0,\"ticks\":\"\"},\"colorscale\":[[0.0,\"#0d0887\"],[0.1111111111111111,\"#46039f\"],[0.2222222222222222,\"#7201a8\"],[0.3333333333333333,\"#9c179e\"],[0.4444444444444444,\"#bd3786\"],[0.5555555555555556,\"#d8576b\"],[0.6666666666666666,\"#ed7953\"],[0.7777777777777778,\"#fb9f3a\"],[0.8888888888888888,\"#fdca26\"],[1.0,\"#f0f921\"]],\"type\":\"histogram2d\"}],\"histogram2dcontour\":[{\"colorbar\":{\"outlinewidth\":0,\"ticks\":\"\"},\"colorscale\":[[0.0,\"#0d0887\"],[0.1111111111111111,\"#46039f\"],[0.2222222222222222,\"#7201a8\"],[0.3333333333333333,\"#9c179e\"],[0.4444444444444444,\"#bd3786\"],[0.5555555555555556,\"#d8576b\"],[0.6666666666666666,\"#ed7953\"],[0.7777777777777778,\"#fb9f3a\"],[0.8888888888888888,\"#fdca26\"],[1.0,\"#f0f921\"]],\"type\":\"histogram2dcontour\"}],\"mesh3d\":[{\"colorbar\":{\"outlinewidth\":0,\"ticks\":\"\"},\"type\":\"mesh3d\"}],\"parcoords\":[{\"line\":{\"colorbar\":{\"outlinewidth\":0,\"ticks\":\"\"}},\"type\":\"parcoords\"}],\"pie\":[{\"automargin\":true,\"type\":\"pie\"}],\"scatter\":[{\"marker\":{\"colorbar\":{\"outlinewidth\":0,\"ticks\":\"\"}},\"type\":\"scatter\"}],\"scatter3d\":[{\"line\":{\"colorbar\":{\"outlinewidth\":0,\"ticks\":\"\"}},\"marker\":{\"colorbar\":{\"outlinewidth\":0,\"ticks\":\"\"}},\"type\":\"scatter3d\"}],\"scattercarpet\":[{\"marker\":{\"colorbar\":{\"outlinewidth\":0,\"ticks\":\"\"}},\"type\":\"scattercarpet\"}],\"scattergeo\":[{\"marker\":{\"colorbar\":{\"outlinewidth\":0,\"ticks\":\"\"}},\"type\":\"scattergeo\"}],\"scattergl\":[{\"marker\":{\"colorbar\":{\"outlinewidth\":0,\"ticks\":\"\"}},\"type\":\"scattergl\"}],\"scattermapbox\":[{\"marker\":{\"colorbar\":{\"outlinewidth\":0,\"ticks\":\"\"}},\"type\":\"scattermapbox\"}],\"scatterpolar\":[{\"marker\":{\"colorbar\":{\"outlinewidth\":0,\"ticks\":\"\"}},\"type\":\"scatterpolar\"}],\"scatterpolargl\":[{\"marker\":{\"colorbar\":{\"outlinewidth\":0,\"ticks\":\"\"}},\"type\":\"scatterpolargl\"}],\"scatterternary\":[{\"marker\":{\"colorbar\":{\"outlinewidth\":0,\"ticks\":\"\"}},\"type\":\"scatterternary\"}],\"surface\":[{\"colorbar\":{\"outlinewidth\":0,\"ticks\":\"\"},\"colorscale\":[[0.0,\"#0d0887\"],[0.1111111111111111,\"#46039f\"],[0.2222222222222222,\"#7201a8\"],[0.3333333333333333,\"#9c179e\"],[0.4444444444444444,\"#bd3786\"],[0.5555555555555556,\"#d8576b\"],[0.6666666666666666,\"#ed7953\"],[0.7777777777777778,\"#fb9f3a\"],[0.8888888888888888,\"#fdca26\"],[1.0,\"#f0f921\"]],\"type\":\"surface\"}],\"table\":[{\"cells\":{\"fill\":{\"color\":\"#EBF0F8\"},\"line\":{\"color\":\"white\"}},\"header\":{\"fill\":{\"color\":\"#C8D4E3\"},\"line\":{\"color\":\"white\"}},\"type\":\"table\"}]},\"layout\":{\"annotationdefaults\":{\"arrowcolor\":\"#2a3f5f\",\"arrowhead\":0,\"arrowwidth\":1},\"autotypenumbers\":\"strict\",\"coloraxis\":{\"colorbar\":{\"outlinewidth\":0,\"ticks\":\"\"}},\"colorscale\":{\"diverging\":[[0,\"#8e0152\"],[0.1,\"#c51b7d\"],[0.2,\"#de77ae\"],[0.3,\"#f1b6da\"],[0.4,\"#fde0ef\"],[0.5,\"#f7f7f7\"],[0.6,\"#e6f5d0\"],[0.7,\"#b8e186\"],[0.8,\"#7fbc41\"],[0.9,\"#4d9221\"],[1,\"#276419\"]],\"sequential\":[[0.0,\"#0d0887\"],[0.1111111111111111,\"#46039f\"],[0.2222222222222222,\"#7201a8\"],[0.3333333333333333,\"#9c179e\"],[0.4444444444444444,\"#bd3786\"],[0.5555555555555556,\"#d8576b\"],[0.6666666666666666,\"#ed7953\"],[0.7777777777777778,\"#fb9f3a\"],[0.8888888888888888,\"#fdca26\"],[1.0,\"#f0f921\"]],\"sequentialminus\":[[0.0,\"#0d0887\"],[0.1111111111111111,\"#46039f\"],[0.2222222222222222,\"#7201a8\"],[0.3333333333333333,\"#9c179e\"],[0.4444444444444444,\"#bd3786\"],[0.5555555555555556,\"#d8576b\"],[0.6666666666666666,\"#ed7953\"],[0.7777777777777778,\"#fb9f3a\"],[0.8888888888888888,\"#fdca26\"],[1.0,\"#f0f921\"]]},\"colorway\":[\"#636efa\",\"#EF553B\",\"#00cc96\",\"#ab63fa\",\"#FFA15A\",\"#19d3f3\",\"#FF6692\",\"#B6E880\",\"#FF97FF\",\"#FECB52\"],\"font\":{\"color\":\"#2a3f5f\"},\"geo\":{\"bgcolor\":\"white\",\"lakecolor\":\"white\",\"landcolor\":\"#E5ECF6\",\"showlakes\":true,\"showland\":true,\"subunitcolor\":\"white\"},\"hoverlabel\":{\"align\":\"left\"},\"hovermode\":\"closest\",\"mapbox\":{\"style\":\"light\"},\"paper_bgcolor\":\"white\",\"plot_bgcolor\":\"#E5ECF6\",\"polar\":{\"angularaxis\":{\"gridcolor\":\"white\",\"linecolor\":\"white\",\"ticks\":\"\"},\"bgcolor\":\"#E5ECF6\",\"radialaxis\":{\"gridcolor\":\"white\",\"linecolor\":\"white\",\"ticks\":\"\"}},\"scene\":{\"xaxis\":{\"backgroundcolor\":\"#E5ECF6\",\"gridcolor\":\"white\",\"gridwidth\":2,\"linecolor\":\"white\",\"showbackground\":true,\"ticks\":\"\",\"zerolinecolor\":\"white\"},\"yaxis\":{\"backgroundcolor\":\"#E5ECF6\",\"gridcolor\":\"white\",\"gridwidth\":2,\"linecolor\":\"white\",\"showbackground\":true,\"ticks\":\"\",\"zerolinecolor\":\"white\"},\"zaxis\":{\"backgroundcolor\":\"#E5ECF6\",\"gridcolor\":\"white\",\"gridwidth\":2,\"linecolor\":\"white\",\"showbackground\":true,\"ticks\":\"\",\"zerolinecolor\":\"white\"}},\"shapedefaults\":{\"line\":{\"color\":\"#2a3f5f\"}},\"ternary\":{\"aaxis\":{\"gridcolor\":\"white\",\"linecolor\":\"white\",\"ticks\":\"\"},\"baxis\":{\"gridcolor\":\"white\",\"linecolor\":\"white\",\"ticks\":\"\"},\"bgcolor\":\"#E5ECF6\",\"caxis\":{\"gridcolor\":\"white\",\"linecolor\":\"white\",\"ticks\":\"\"}},\"title\":{\"x\":0.05},\"xaxis\":{\"automargin\":true,\"gridcolor\":\"white\",\"linecolor\":\"white\",\"ticks\":\"\",\"title\":{\"standoff\":15},\"zerolinecolor\":\"white\",\"zerolinewidth\":2},\"yaxis\":{\"automargin\":true,\"gridcolor\":\"white\",\"linecolor\":\"white\",\"ticks\":\"\",\"title\":{\"standoff\":15},\"zerolinecolor\":\"white\",\"zerolinewidth\":2}}},\"title\":{\"text\":\"USA\",\"x\":0.5}},                        {\"responsive\": true}                    ).then(function(){\n",
              "                            \n",
              "var gd = document.getElementById('8df923e8-38a7-409b-9519-ab8f39161fd6');\n",
              "var x = new MutationObserver(function (mutations, observer) {{\n",
              "        var display = window.getComputedStyle(gd).display;\n",
              "        if (!display || display === 'none') {{\n",
              "            console.log([gd, 'removed!']);\n",
              "            Plotly.purge(gd);\n",
              "            observer.disconnect();\n",
              "        }}\n",
              "}});\n",
              "\n",
              "// Listen for the removal of the full notebook cells\n",
              "var notebookContainer = gd.closest('#notebook-container');\n",
              "if (notebookContainer) {{\n",
              "    x.observe(notebookContainer, {childList: true});\n",
              "}}\n",
              "\n",
              "// Listen for the clearing of the current output cell\n",
              "var outputEl = gd.closest('.output');\n",
              "if (outputEl) {{\n",
              "    x.observe(outputEl, {childList: true});\n",
              "}}\n",
              "\n",
              "                        })                };                            </script>        </div>\n",
              "</body>\n",
              "</html>"
            ]
          },
          "metadata": {}
        }
      ]
    },
    {
      "cell_type": "markdown",
      "source": [
        "**Below Points the difference between the hofstede's value and average of antonym pair**"
      ],
      "metadata": {
        "id": "iTNcSH2IfHxv"
      }
    },
    {
      "cell_type": "code",
      "source": [
        "hofstede_df = pd.read_csv(\"/content/drive/MyDrive/Hofstede 6 dimensions.csv\",sep=\";\")\n",
        "hofstede_df=hofstede_df[hofstede_df['pdi']!=\"#NULL!\" ]\n",
        "hofstede_df=hofstede_df[hofstede_df['ltowvs']!=\"#NULL!\" ]\n",
        "hofstede_df=hofstede_df[hofstede_df['ivr']!=\"#NULL!\" ]\n",
        "\n",
        "hofstede_dimension = \"mas\"\n",
        "hofstede_dimension_value = 0\n",
        "\n",
        "\n",
        "for index,row in hofstede_df.iterrows():\n",
        "\n",
        "  if row['Country'] == country_name:\n",
        "    hofstede_dimension_value = int(row[hofstede_dimension])\n",
        "  elif row['ctr'] == country_name:\n",
        "    hofstede_dimension_value = int(row[hofstede_dimension])\n",
        "  \n",
        "  \n",
        "if hofstede_dimension_value > total_sum.mean():\n",
        "  print(\"% difference\",hofstede_dimension_value - total_sum.mean() )\n",
        "else:\n",
        "  print(\"% difference\",total_sum.mean() - hofstede_dimension_value )"
      ],
      "metadata": {
        "colab": {
          "base_uri": "https://localhost:8080/"
        },
        "id": "vbYv7JZxzHc-",
        "outputId": "5afd7267-4b62-469b-ee0d-92c8769544b5"
      },
      "execution_count": null,
      "outputs": [
        {
          "output_type": "stream",
          "name": "stdout",
          "text": [
            "% difference 12.0\n"
          ]
        }
      ]
    },
    {
      "cell_type": "code",
      "source": [
        "merged_df = pd.merge(company_df, hofstede_df, how='left',on='Country')\n",
        "merged_df.head(10)"
      ],
      "metadata": {
        "id": "BnWsOP9Anpb4",
        "colab": {
          "base_uri": "https://localhost:8080/",
          "height": 397
        },
        "outputId": "f0e9ec9c-9488-4cf8-aa93-caaf6698cd2e"
      },
      "execution_count": null,
      "outputs": [
        {
          "output_type": "execute_result",
          "data": {
            "text/plain": [
              "       Country  Total Count  achievement  caring  feminine  masculine  \\\n",
              "0          USA           52         54.0    46.0      44.0       56.0   \n",
              "1        Japan           18         61.0    39.0      94.0        6.0   \n",
              "2      Germany           12         33.0    67.0      83.0       17.0   \n",
              "3      Britain           10         40.0    60.0      70.0       30.0   \n",
              "4       France            9         22.0    78.0      22.0       78.0   \n",
              "5  Switzerland            5         40.0    60.0      60.0       40.0   \n",
              "6  South Korea            4         25.0    75.0     100.0        0.0   \n",
              "\n",
              "   accomplishment  loving  excellence  nurturing  ...  heartless  competitive  \\\n",
              "0            44.0    56.0        46.0       54.0  ...       35.0         62.0   \n",
              "1            44.0    56.0        72.0       28.0  ...       78.0         61.0   \n",
              "2            25.0    75.0        58.0       42.0  ...       50.0         75.0   \n",
              "3            60.0    40.0        50.0       50.0  ...       50.0         60.0   \n",
              "4            78.0    22.0        44.0       56.0  ...       33.0         78.0   \n",
              "5            40.0    60.0        60.0       40.0  ...       60.0        100.0   \n",
              "6            50.0    50.0       100.0        0.0  ...       75.0         75.0   \n",
              "\n",
              "   uncompetitive  ctr  pdi  idv  mas  uai  ltowvs  ivr  \n",
              "0           38.0  USA   40   91   62   46      26   68  \n",
              "1           39.0  JPN   54   46   95   92      88   42  \n",
              "2           25.0  GER   35   67   66   65      83   40  \n",
              "3           40.0  GBR   35   89   66   35      51   69  \n",
              "4           22.0  FRA   68   71   43   86      63   48  \n",
              "5            0.0  SWI   34   68   70   58      74   66  \n",
              "6           25.0  KOR   60   18   39   85     100   29  \n",
              "\n",
              "[7 rows x 33 columns]"
            ],
            "text/html": [
              "\n",
              "  <div id=\"df-20554e4e-2ec4-4d52-b44a-44fa4f3c4ba3\">\n",
              "    <div class=\"colab-df-container\">\n",
              "      <div>\n",
              "<style scoped>\n",
              "    .dataframe tbody tr th:only-of-type {\n",
              "        vertical-align: middle;\n",
              "    }\n",
              "\n",
              "    .dataframe tbody tr th {\n",
              "        vertical-align: top;\n",
              "    }\n",
              "\n",
              "    .dataframe thead th {\n",
              "        text-align: right;\n",
              "    }\n",
              "</style>\n",
              "<table border=\"1\" class=\"dataframe\">\n",
              "  <thead>\n",
              "    <tr style=\"text-align: right;\">\n",
              "      <th></th>\n",
              "      <th>Country</th>\n",
              "      <th>Total Count</th>\n",
              "      <th>achievement</th>\n",
              "      <th>caring</th>\n",
              "      <th>feminine</th>\n",
              "      <th>masculine</th>\n",
              "      <th>accomplishment</th>\n",
              "      <th>loving</th>\n",
              "      <th>excellence</th>\n",
              "      <th>nurturing</th>\n",
              "      <th>...</th>\n",
              "      <th>heartless</th>\n",
              "      <th>competitive</th>\n",
              "      <th>uncompetitive</th>\n",
              "      <th>ctr</th>\n",
              "      <th>pdi</th>\n",
              "      <th>idv</th>\n",
              "      <th>mas</th>\n",
              "      <th>uai</th>\n",
              "      <th>ltowvs</th>\n",
              "      <th>ivr</th>\n",
              "    </tr>\n",
              "  </thead>\n",
              "  <tbody>\n",
              "    <tr>\n",
              "      <th>0</th>\n",
              "      <td>USA</td>\n",
              "      <td>52</td>\n",
              "      <td>54.0</td>\n",
              "      <td>46.0</td>\n",
              "      <td>44.0</td>\n",
              "      <td>56.0</td>\n",
              "      <td>44.0</td>\n",
              "      <td>56.0</td>\n",
              "      <td>46.0</td>\n",
              "      <td>54.0</td>\n",
              "      <td>...</td>\n",
              "      <td>35.0</td>\n",
              "      <td>62.0</td>\n",
              "      <td>38.0</td>\n",
              "      <td>USA</td>\n",
              "      <td>40</td>\n",
              "      <td>91</td>\n",
              "      <td>62</td>\n",
              "      <td>46</td>\n",
              "      <td>26</td>\n",
              "      <td>68</td>\n",
              "    </tr>\n",
              "    <tr>\n",
              "      <th>1</th>\n",
              "      <td>Japan</td>\n",
              "      <td>18</td>\n",
              "      <td>61.0</td>\n",
              "      <td>39.0</td>\n",
              "      <td>94.0</td>\n",
              "      <td>6.0</td>\n",
              "      <td>44.0</td>\n",
              "      <td>56.0</td>\n",
              "      <td>72.0</td>\n",
              "      <td>28.0</td>\n",
              "      <td>...</td>\n",
              "      <td>78.0</td>\n",
              "      <td>61.0</td>\n",
              "      <td>39.0</td>\n",
              "      <td>JPN</td>\n",
              "      <td>54</td>\n",
              "      <td>46</td>\n",
              "      <td>95</td>\n",
              "      <td>92</td>\n",
              "      <td>88</td>\n",
              "      <td>42</td>\n",
              "    </tr>\n",
              "    <tr>\n",
              "      <th>2</th>\n",
              "      <td>Germany</td>\n",
              "      <td>12</td>\n",
              "      <td>33.0</td>\n",
              "      <td>67.0</td>\n",
              "      <td>83.0</td>\n",
              "      <td>17.0</td>\n",
              "      <td>25.0</td>\n",
              "      <td>75.0</td>\n",
              "      <td>58.0</td>\n",
              "      <td>42.0</td>\n",
              "      <td>...</td>\n",
              "      <td>50.0</td>\n",
              "      <td>75.0</td>\n",
              "      <td>25.0</td>\n",
              "      <td>GER</td>\n",
              "      <td>35</td>\n",
              "      <td>67</td>\n",
              "      <td>66</td>\n",
              "      <td>65</td>\n",
              "      <td>83</td>\n",
              "      <td>40</td>\n",
              "    </tr>\n",
              "    <tr>\n",
              "      <th>3</th>\n",
              "      <td>Britain</td>\n",
              "      <td>10</td>\n",
              "      <td>40.0</td>\n",
              "      <td>60.0</td>\n",
              "      <td>70.0</td>\n",
              "      <td>30.0</td>\n",
              "      <td>60.0</td>\n",
              "      <td>40.0</td>\n",
              "      <td>50.0</td>\n",
              "      <td>50.0</td>\n",
              "      <td>...</td>\n",
              "      <td>50.0</td>\n",
              "      <td>60.0</td>\n",
              "      <td>40.0</td>\n",
              "      <td>GBR</td>\n",
              "      <td>35</td>\n",
              "      <td>89</td>\n",
              "      <td>66</td>\n",
              "      <td>35</td>\n",
              "      <td>51</td>\n",
              "      <td>69</td>\n",
              "    </tr>\n",
              "    <tr>\n",
              "      <th>4</th>\n",
              "      <td>France</td>\n",
              "      <td>9</td>\n",
              "      <td>22.0</td>\n",
              "      <td>78.0</td>\n",
              "      <td>22.0</td>\n",
              "      <td>78.0</td>\n",
              "      <td>78.0</td>\n",
              "      <td>22.0</td>\n",
              "      <td>44.0</td>\n",
              "      <td>56.0</td>\n",
              "      <td>...</td>\n",
              "      <td>33.0</td>\n",
              "      <td>78.0</td>\n",
              "      <td>22.0</td>\n",
              "      <td>FRA</td>\n",
              "      <td>68</td>\n",
              "      <td>71</td>\n",
              "      <td>43</td>\n",
              "      <td>86</td>\n",
              "      <td>63</td>\n",
              "      <td>48</td>\n",
              "    </tr>\n",
              "    <tr>\n",
              "      <th>5</th>\n",
              "      <td>Switzerland</td>\n",
              "      <td>5</td>\n",
              "      <td>40.0</td>\n",
              "      <td>60.0</td>\n",
              "      <td>60.0</td>\n",
              "      <td>40.0</td>\n",
              "      <td>40.0</td>\n",
              "      <td>60.0</td>\n",
              "      <td>60.0</td>\n",
              "      <td>40.0</td>\n",
              "      <td>...</td>\n",
              "      <td>60.0</td>\n",
              "      <td>100.0</td>\n",
              "      <td>0.0</td>\n",
              "      <td>SWI</td>\n",
              "      <td>34</td>\n",
              "      <td>68</td>\n",
              "      <td>70</td>\n",
              "      <td>58</td>\n",
              "      <td>74</td>\n",
              "      <td>66</td>\n",
              "    </tr>\n",
              "    <tr>\n",
              "      <th>6</th>\n",
              "      <td>South Korea</td>\n",
              "      <td>4</td>\n",
              "      <td>25.0</td>\n",
              "      <td>75.0</td>\n",
              "      <td>100.0</td>\n",
              "      <td>0.0</td>\n",
              "      <td>50.0</td>\n",
              "      <td>50.0</td>\n",
              "      <td>100.0</td>\n",
              "      <td>0.0</td>\n",
              "      <td>...</td>\n",
              "      <td>75.0</td>\n",
              "      <td>75.0</td>\n",
              "      <td>25.0</td>\n",
              "      <td>KOR</td>\n",
              "      <td>60</td>\n",
              "      <td>18</td>\n",
              "      <td>39</td>\n",
              "      <td>85</td>\n",
              "      <td>100</td>\n",
              "      <td>29</td>\n",
              "    </tr>\n",
              "  </tbody>\n",
              "</table>\n",
              "<p>7 rows × 33 columns</p>\n",
              "</div>\n",
              "      <button class=\"colab-df-convert\" onclick=\"convertToInteractive('df-20554e4e-2ec4-4d52-b44a-44fa4f3c4ba3')\"\n",
              "              title=\"Convert this dataframe to an interactive table.\"\n",
              "              style=\"display:none;\">\n",
              "        \n",
              "  <svg xmlns=\"http://www.w3.org/2000/svg\" height=\"24px\"viewBox=\"0 0 24 24\"\n",
              "       width=\"24px\">\n",
              "    <path d=\"M0 0h24v24H0V0z\" fill=\"none\"/>\n",
              "    <path d=\"M18.56 5.44l.94 2.06.94-2.06 2.06-.94-2.06-.94-.94-2.06-.94 2.06-2.06.94zm-11 1L8.5 8.5l.94-2.06 2.06-.94-2.06-.94L8.5 2.5l-.94 2.06-2.06.94zm10 10l.94 2.06.94-2.06 2.06-.94-2.06-.94-.94-2.06-.94 2.06-2.06.94z\"/><path d=\"M17.41 7.96l-1.37-1.37c-.4-.4-.92-.59-1.43-.59-.52 0-1.04.2-1.43.59L10.3 9.45l-7.72 7.72c-.78.78-.78 2.05 0 2.83L4 21.41c.39.39.9.59 1.41.59.51 0 1.02-.2 1.41-.59l7.78-7.78 2.81-2.81c.8-.78.8-2.07 0-2.86zM5.41 20L4 18.59l7.72-7.72 1.47 1.35L5.41 20z\"/>\n",
              "  </svg>\n",
              "      </button>\n",
              "      \n",
              "  <style>\n",
              "    .colab-df-container {\n",
              "      display:flex;\n",
              "      flex-wrap:wrap;\n",
              "      gap: 12px;\n",
              "    }\n",
              "\n",
              "    .colab-df-convert {\n",
              "      background-color: #E8F0FE;\n",
              "      border: none;\n",
              "      border-radius: 50%;\n",
              "      cursor: pointer;\n",
              "      display: none;\n",
              "      fill: #1967D2;\n",
              "      height: 32px;\n",
              "      padding: 0 0 0 0;\n",
              "      width: 32px;\n",
              "    }\n",
              "\n",
              "    .colab-df-convert:hover {\n",
              "      background-color: #E2EBFA;\n",
              "      box-shadow: 0px 1px 2px rgba(60, 64, 67, 0.3), 0px 1px 3px 1px rgba(60, 64, 67, 0.15);\n",
              "      fill: #174EA6;\n",
              "    }\n",
              "\n",
              "    [theme=dark] .colab-df-convert {\n",
              "      background-color: #3B4455;\n",
              "      fill: #D2E3FC;\n",
              "    }\n",
              "\n",
              "    [theme=dark] .colab-df-convert:hover {\n",
              "      background-color: #434B5C;\n",
              "      box-shadow: 0px 1px 3px 1px rgba(0, 0, 0, 0.15);\n",
              "      filter: drop-shadow(0px 1px 2px rgba(0, 0, 0, 0.3));\n",
              "      fill: #FFFFFF;\n",
              "    }\n",
              "  </style>\n",
              "\n",
              "      <script>\n",
              "        const buttonEl =\n",
              "          document.querySelector('#df-20554e4e-2ec4-4d52-b44a-44fa4f3c4ba3 button.colab-df-convert');\n",
              "        buttonEl.style.display =\n",
              "          google.colab.kernel.accessAllowed ? 'block' : 'none';\n",
              "\n",
              "        async function convertToInteractive(key) {\n",
              "          const element = document.querySelector('#df-20554e4e-2ec4-4d52-b44a-44fa4f3c4ba3');\n",
              "          const dataTable =\n",
              "            await google.colab.kernel.invokeFunction('convertToInteractive',\n",
              "                                                     [key], {});\n",
              "          if (!dataTable) return;\n",
              "\n",
              "          const docLinkHtml = 'Like what you see? Visit the ' +\n",
              "            '<a target=\"_blank\" href=https://colab.research.google.com/notebooks/data_table.ipynb>data table notebook</a>'\n",
              "            + ' to learn more about interactive tables.';\n",
              "          element.innerHTML = '';\n",
              "          dataTable['output_type'] = 'display_data';\n",
              "          await google.colab.output.renderOutput(dataTable, element);\n",
              "          const docLink = document.createElement('div');\n",
              "          docLink.innerHTML = docLinkHtml;\n",
              "          element.appendChild(docLink);\n",
              "        }\n",
              "      </script>\n",
              "    </div>\n",
              "  </div>\n",
              "  "
            ]
          },
          "metadata": {},
          "execution_count": 80
        }
      ]
    },
    {
      "cell_type": "markdown",
      "source": [
        "**Below visualize the hofstede's value and values of antonym pair**"
      ],
      "metadata": {
        "id": "BTNT_WSCC3ud"
      }
    },
    {
      "cell_type": "code",
      "source": [
        "import plotly.graph_objects as go\n",
        "\n",
        "compare_list = ['mas',\"achievement\",'masculine','accomplishment','king','man','accomplishments','award','outstanding','competitive']\n",
        "\n",
        "country_list= []\n",
        "value = []\n",
        "fig = go.Figure()\n",
        "\n",
        "for i in compare_list:\n",
        "\n",
        "  for index, row in merged_df.iterrows():\n",
        "    country_list.append(row['Country'])\n",
        "    value.append(int(row[i]))\n",
        "      \n",
        "  #print(i)\n",
        "  #print(value)\n",
        "  #print(country_list)\n",
        "  fig.add_trace(go.Bar(x=country_list , y=value, name =i))  \n",
        "  value.clear()\n",
        "  country_list.clear()\n",
        "\n",
        "    \n",
        "fig.show() \n"
      ],
      "metadata": {
        "colab": {
          "base_uri": "https://localhost:8080/",
          "height": 542
        },
        "id": "jpVqs2Kgfgtf",
        "outputId": "ee433eec-dc77-4b84-b0c9-73edd8598c39"
      },
      "execution_count": null,
      "outputs": [
        {
          "output_type": "display_data",
          "data": {
            "text/html": [
              "<html>\n",
              "<head><meta charset=\"utf-8\" /></head>\n",
              "<body>\n",
              "    <div>            <script src=\"https://cdnjs.cloudflare.com/ajax/libs/mathjax/2.7.5/MathJax.js?config=TeX-AMS-MML_SVG\"></script><script type=\"text/javascript\">if (window.MathJax) {MathJax.Hub.Config({SVG: {font: \"STIX-Web\"}});}</script>                <script type=\"text/javascript\">window.PlotlyConfig = {MathJaxConfig: 'local'};</script>\n",
              "        <script src=\"https://cdn.plot.ly/plotly-2.8.3.min.js\"></script>                <div id=\"59c66984-bce0-467a-85aa-53ab0c4d0c0f\" class=\"plotly-graph-div\" style=\"height:525px; width:100%;\"></div>            <script type=\"text/javascript\">                                    window.PLOTLYENV=window.PLOTLYENV || {};                                    if (document.getElementById(\"59c66984-bce0-467a-85aa-53ab0c4d0c0f\")) {                    Plotly.newPlot(                        \"59c66984-bce0-467a-85aa-53ab0c4d0c0f\",                        [{\"name\":\"mas\",\"x\":[\"USA\",\"Japan\",\"Germany\",\"Britain\",\"France\",\"Switzerland\",\"South Korea\"],\"y\":[62,95,66,66,43,70,39],\"type\":\"bar\"},{\"name\":\"achievement\",\"x\":[\"USA\",\"Japan\",\"Germany\",\"Britain\",\"France\",\"Switzerland\",\"South Korea\"],\"y\":[54,61,33,40,22,40,25],\"type\":\"bar\"},{\"name\":\"masculine\",\"x\":[\"USA\",\"Japan\",\"Germany\",\"Britain\",\"France\",\"Switzerland\",\"South Korea\"],\"y\":[56,6,17,30,78,40,0],\"type\":\"bar\"},{\"name\":\"accomplishment\",\"x\":[\"USA\",\"Japan\",\"Germany\",\"Britain\",\"France\",\"Switzerland\",\"South Korea\"],\"y\":[44,44,25,60,78,40,50],\"type\":\"bar\"},{\"name\":\"king\",\"x\":[\"USA\",\"Japan\",\"Germany\",\"Britain\",\"France\",\"Switzerland\",\"South Korea\"],\"y\":[60,67,83,70,56,100,75],\"type\":\"bar\"},{\"name\":\"man\",\"x\":[\"USA\",\"Japan\",\"Germany\",\"Britain\",\"France\",\"Switzerland\",\"South Korea\"],\"y\":[46,78,8,60,44,20,75],\"type\":\"bar\"},{\"name\":\"accomplishments\",\"x\":[\"USA\",\"Japan\",\"Germany\",\"Britain\",\"France\",\"Switzerland\",\"South Korea\"],\"y\":[60,50,33,50,56,100,25],\"type\":\"bar\"},{\"name\":\"award\",\"x\":[\"USA\",\"Japan\",\"Germany\",\"Britain\",\"France\",\"Switzerland\",\"South Korea\"],\"y\":[71,39,67,90,67,80,50],\"type\":\"bar\"},{\"name\":\"outstanding\",\"x\":[\"USA\",\"Japan\",\"Germany\",\"Britain\",\"France\",\"Switzerland\",\"South Korea\"],\"y\":[69,72,50,50,67,40,25],\"type\":\"bar\"},{\"name\":\"competitive\",\"x\":[\"USA\",\"Japan\",\"Germany\",\"Britain\",\"France\",\"Switzerland\",\"South Korea\"],\"y\":[62,61,75,60,78,100,75],\"type\":\"bar\"}],                        {\"template\":{\"data\":{\"bar\":[{\"error_x\":{\"color\":\"#2a3f5f\"},\"error_y\":{\"color\":\"#2a3f5f\"},\"marker\":{\"line\":{\"color\":\"#E5ECF6\",\"width\":0.5},\"pattern\":{\"fillmode\":\"overlay\",\"size\":10,\"solidity\":0.2}},\"type\":\"bar\"}],\"barpolar\":[{\"marker\":{\"line\":{\"color\":\"#E5ECF6\",\"width\":0.5},\"pattern\":{\"fillmode\":\"overlay\",\"size\":10,\"solidity\":0.2}},\"type\":\"barpolar\"}],\"carpet\":[{\"aaxis\":{\"endlinecolor\":\"#2a3f5f\",\"gridcolor\":\"white\",\"linecolor\":\"white\",\"minorgridcolor\":\"white\",\"startlinecolor\":\"#2a3f5f\"},\"baxis\":{\"endlinecolor\":\"#2a3f5f\",\"gridcolor\":\"white\",\"linecolor\":\"white\",\"minorgridcolor\":\"white\",\"startlinecolor\":\"#2a3f5f\"},\"type\":\"carpet\"}],\"choropleth\":[{\"colorbar\":{\"outlinewidth\":0,\"ticks\":\"\"},\"type\":\"choropleth\"}],\"contour\":[{\"colorbar\":{\"outlinewidth\":0,\"ticks\":\"\"},\"colorscale\":[[0.0,\"#0d0887\"],[0.1111111111111111,\"#46039f\"],[0.2222222222222222,\"#7201a8\"],[0.3333333333333333,\"#9c179e\"],[0.4444444444444444,\"#bd3786\"],[0.5555555555555556,\"#d8576b\"],[0.6666666666666666,\"#ed7953\"],[0.7777777777777778,\"#fb9f3a\"],[0.8888888888888888,\"#fdca26\"],[1.0,\"#f0f921\"]],\"type\":\"contour\"}],\"contourcarpet\":[{\"colorbar\":{\"outlinewidth\":0,\"ticks\":\"\"},\"type\":\"contourcarpet\"}],\"heatmap\":[{\"colorbar\":{\"outlinewidth\":0,\"ticks\":\"\"},\"colorscale\":[[0.0,\"#0d0887\"],[0.1111111111111111,\"#46039f\"],[0.2222222222222222,\"#7201a8\"],[0.3333333333333333,\"#9c179e\"],[0.4444444444444444,\"#bd3786\"],[0.5555555555555556,\"#d8576b\"],[0.6666666666666666,\"#ed7953\"],[0.7777777777777778,\"#fb9f3a\"],[0.8888888888888888,\"#fdca26\"],[1.0,\"#f0f921\"]],\"type\":\"heatmap\"}],\"heatmapgl\":[{\"colorbar\":{\"outlinewidth\":0,\"ticks\":\"\"},\"colorscale\":[[0.0,\"#0d0887\"],[0.1111111111111111,\"#46039f\"],[0.2222222222222222,\"#7201a8\"],[0.3333333333333333,\"#9c179e\"],[0.4444444444444444,\"#bd3786\"],[0.5555555555555556,\"#d8576b\"],[0.6666666666666666,\"#ed7953\"],[0.7777777777777778,\"#fb9f3a\"],[0.8888888888888888,\"#fdca26\"],[1.0,\"#f0f921\"]],\"type\":\"heatmapgl\"}],\"histogram\":[{\"marker\":{\"pattern\":{\"fillmode\":\"overlay\",\"size\":10,\"solidity\":0.2}},\"type\":\"histogram\"}],\"histogram2d\":[{\"colorbar\":{\"outlinewidth\":0,\"ticks\":\"\"},\"colorscale\":[[0.0,\"#0d0887\"],[0.1111111111111111,\"#46039f\"],[0.2222222222222222,\"#7201a8\"],[0.3333333333333333,\"#9c179e\"],[0.4444444444444444,\"#bd3786\"],[0.5555555555555556,\"#d8576b\"],[0.6666666666666666,\"#ed7953\"],[0.7777777777777778,\"#fb9f3a\"],[0.8888888888888888,\"#fdca26\"],[1.0,\"#f0f921\"]],\"type\":\"histogram2d\"}],\"histogram2dcontour\":[{\"colorbar\":{\"outlinewidth\":0,\"ticks\":\"\"},\"colorscale\":[[0.0,\"#0d0887\"],[0.1111111111111111,\"#46039f\"],[0.2222222222222222,\"#7201a8\"],[0.3333333333333333,\"#9c179e\"],[0.4444444444444444,\"#bd3786\"],[0.5555555555555556,\"#d8576b\"],[0.6666666666666666,\"#ed7953\"],[0.7777777777777778,\"#fb9f3a\"],[0.8888888888888888,\"#fdca26\"],[1.0,\"#f0f921\"]],\"type\":\"histogram2dcontour\"}],\"mesh3d\":[{\"colorbar\":{\"outlinewidth\":0,\"ticks\":\"\"},\"type\":\"mesh3d\"}],\"parcoords\":[{\"line\":{\"colorbar\":{\"outlinewidth\":0,\"ticks\":\"\"}},\"type\":\"parcoords\"}],\"pie\":[{\"automargin\":true,\"type\":\"pie\"}],\"scatter\":[{\"marker\":{\"colorbar\":{\"outlinewidth\":0,\"ticks\":\"\"}},\"type\":\"scatter\"}],\"scatter3d\":[{\"line\":{\"colorbar\":{\"outlinewidth\":0,\"ticks\":\"\"}},\"marker\":{\"colorbar\":{\"outlinewidth\":0,\"ticks\":\"\"}},\"type\":\"scatter3d\"}],\"scattercarpet\":[{\"marker\":{\"colorbar\":{\"outlinewidth\":0,\"ticks\":\"\"}},\"type\":\"scattercarpet\"}],\"scattergeo\":[{\"marker\":{\"colorbar\":{\"outlinewidth\":0,\"ticks\":\"\"}},\"type\":\"scattergeo\"}],\"scattergl\":[{\"marker\":{\"colorbar\":{\"outlinewidth\":0,\"ticks\":\"\"}},\"type\":\"scattergl\"}],\"scattermapbox\":[{\"marker\":{\"colorbar\":{\"outlinewidth\":0,\"ticks\":\"\"}},\"type\":\"scattermapbox\"}],\"scatterpolar\":[{\"marker\":{\"colorbar\":{\"outlinewidth\":0,\"ticks\":\"\"}},\"type\":\"scatterpolar\"}],\"scatterpolargl\":[{\"marker\":{\"colorbar\":{\"outlinewidth\":0,\"ticks\":\"\"}},\"type\":\"scatterpolargl\"}],\"scatterternary\":[{\"marker\":{\"colorbar\":{\"outlinewidth\":0,\"ticks\":\"\"}},\"type\":\"scatterternary\"}],\"surface\":[{\"colorbar\":{\"outlinewidth\":0,\"ticks\":\"\"},\"colorscale\":[[0.0,\"#0d0887\"],[0.1111111111111111,\"#46039f\"],[0.2222222222222222,\"#7201a8\"],[0.3333333333333333,\"#9c179e\"],[0.4444444444444444,\"#bd3786\"],[0.5555555555555556,\"#d8576b\"],[0.6666666666666666,\"#ed7953\"],[0.7777777777777778,\"#fb9f3a\"],[0.8888888888888888,\"#fdca26\"],[1.0,\"#f0f921\"]],\"type\":\"surface\"}],\"table\":[{\"cells\":{\"fill\":{\"color\":\"#EBF0F8\"},\"line\":{\"color\":\"white\"}},\"header\":{\"fill\":{\"color\":\"#C8D4E3\"},\"line\":{\"color\":\"white\"}},\"type\":\"table\"}]},\"layout\":{\"annotationdefaults\":{\"arrowcolor\":\"#2a3f5f\",\"arrowhead\":0,\"arrowwidth\":1},\"autotypenumbers\":\"strict\",\"coloraxis\":{\"colorbar\":{\"outlinewidth\":0,\"ticks\":\"\"}},\"colorscale\":{\"diverging\":[[0,\"#8e0152\"],[0.1,\"#c51b7d\"],[0.2,\"#de77ae\"],[0.3,\"#f1b6da\"],[0.4,\"#fde0ef\"],[0.5,\"#f7f7f7\"],[0.6,\"#e6f5d0\"],[0.7,\"#b8e186\"],[0.8,\"#7fbc41\"],[0.9,\"#4d9221\"],[1,\"#276419\"]],\"sequential\":[[0.0,\"#0d0887\"],[0.1111111111111111,\"#46039f\"],[0.2222222222222222,\"#7201a8\"],[0.3333333333333333,\"#9c179e\"],[0.4444444444444444,\"#bd3786\"],[0.5555555555555556,\"#d8576b\"],[0.6666666666666666,\"#ed7953\"],[0.7777777777777778,\"#fb9f3a\"],[0.8888888888888888,\"#fdca26\"],[1.0,\"#f0f921\"]],\"sequentialminus\":[[0.0,\"#0d0887\"],[0.1111111111111111,\"#46039f\"],[0.2222222222222222,\"#7201a8\"],[0.3333333333333333,\"#9c179e\"],[0.4444444444444444,\"#bd3786\"],[0.5555555555555556,\"#d8576b\"],[0.6666666666666666,\"#ed7953\"],[0.7777777777777778,\"#fb9f3a\"],[0.8888888888888888,\"#fdca26\"],[1.0,\"#f0f921\"]]},\"colorway\":[\"#636efa\",\"#EF553B\",\"#00cc96\",\"#ab63fa\",\"#FFA15A\",\"#19d3f3\",\"#FF6692\",\"#B6E880\",\"#FF97FF\",\"#FECB52\"],\"font\":{\"color\":\"#2a3f5f\"},\"geo\":{\"bgcolor\":\"white\",\"lakecolor\":\"white\",\"landcolor\":\"#E5ECF6\",\"showlakes\":true,\"showland\":true,\"subunitcolor\":\"white\"},\"hoverlabel\":{\"align\":\"left\"},\"hovermode\":\"closest\",\"mapbox\":{\"style\":\"light\"},\"paper_bgcolor\":\"white\",\"plot_bgcolor\":\"#E5ECF6\",\"polar\":{\"angularaxis\":{\"gridcolor\":\"white\",\"linecolor\":\"white\",\"ticks\":\"\"},\"bgcolor\":\"#E5ECF6\",\"radialaxis\":{\"gridcolor\":\"white\",\"linecolor\":\"white\",\"ticks\":\"\"}},\"scene\":{\"xaxis\":{\"backgroundcolor\":\"#E5ECF6\",\"gridcolor\":\"white\",\"gridwidth\":2,\"linecolor\":\"white\",\"showbackground\":true,\"ticks\":\"\",\"zerolinecolor\":\"white\"},\"yaxis\":{\"backgroundcolor\":\"#E5ECF6\",\"gridcolor\":\"white\",\"gridwidth\":2,\"linecolor\":\"white\",\"showbackground\":true,\"ticks\":\"\",\"zerolinecolor\":\"white\"},\"zaxis\":{\"backgroundcolor\":\"#E5ECF6\",\"gridcolor\":\"white\",\"gridwidth\":2,\"linecolor\":\"white\",\"showbackground\":true,\"ticks\":\"\",\"zerolinecolor\":\"white\"}},\"shapedefaults\":{\"line\":{\"color\":\"#2a3f5f\"}},\"ternary\":{\"aaxis\":{\"gridcolor\":\"white\",\"linecolor\":\"white\",\"ticks\":\"\"},\"baxis\":{\"gridcolor\":\"white\",\"linecolor\":\"white\",\"ticks\":\"\"},\"bgcolor\":\"#E5ECF6\",\"caxis\":{\"gridcolor\":\"white\",\"linecolor\":\"white\",\"ticks\":\"\"}},\"title\":{\"x\":0.05},\"xaxis\":{\"automargin\":true,\"gridcolor\":\"white\",\"linecolor\":\"white\",\"ticks\":\"\",\"title\":{\"standoff\":15},\"zerolinecolor\":\"white\",\"zerolinewidth\":2},\"yaxis\":{\"automargin\":true,\"gridcolor\":\"white\",\"linecolor\":\"white\",\"ticks\":\"\",\"title\":{\"standoff\":15},\"zerolinecolor\":\"white\",\"zerolinewidth\":2}}}},                        {\"responsive\": true}                    ).then(function(){\n",
              "                            \n",
              "var gd = document.getElementById('59c66984-bce0-467a-85aa-53ab0c4d0c0f');\n",
              "var x = new MutationObserver(function (mutations, observer) {{\n",
              "        var display = window.getComputedStyle(gd).display;\n",
              "        if (!display || display === 'none') {{\n",
              "            console.log([gd, 'removed!']);\n",
              "            Plotly.purge(gd);\n",
              "            observer.disconnect();\n",
              "        }}\n",
              "}});\n",
              "\n",
              "// Listen for the removal of the full notebook cells\n",
              "var notebookContainer = gd.closest('#notebook-container');\n",
              "if (notebookContainer) {{\n",
              "    x.observe(notebookContainer, {childList: true});\n",
              "}}\n",
              "\n",
              "// Listen for the clearing of the current output cell\n",
              "var outputEl = gd.closest('.output');\n",
              "if (outputEl) {{\n",
              "    x.observe(outputEl, {childList: true});\n",
              "}}\n",
              "\n",
              "                        })                };                            </script>        </div>\n",
              "</body>\n",
              "</html>"
            ]
          },
          "metadata": {}
        }
      ]
    }
  ]
}