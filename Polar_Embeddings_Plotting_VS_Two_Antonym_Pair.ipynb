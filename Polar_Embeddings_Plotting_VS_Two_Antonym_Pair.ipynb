{
  "nbformat": 4,
  "nbformat_minor": 0,
  "metadata": {
    "colab": {
      "name": "Polar_Embeddings_Plotting_VS_Two_Antonym_Pair.ipynb",
      "provenance": [],
      "collapsed_sections": [],
      "authorship_tag": "ABX9TyOGobKA0P1eeF1uapJ4bylI",
      "include_colab_link": true
    },
    "kernelspec": {
      "name": "python3",
      "display_name": "Python 3"
    },
    "language_info": {
      "name": "python"
    }
  },
  "cells": [
    {
      "cell_type": "markdown",
      "metadata": {
        "id": "view-in-github",
        "colab_type": "text"
      },
      "source": [
        "<a href=\"https://colab.research.google.com/github/sreehari59/Polar-Embedding/blob/main/Polar_Embeddings_Plotting_VS_Two_Antonym_Pair.ipynb\" target=\"_parent\"><img src=\"https://colab.research.google.com/assets/colab-badge.svg\" alt=\"Open In Colab\"/></a>"
      ]
    },
    {
      "cell_type": "code",
      "execution_count": null,
      "metadata": {
        "id": "ox0YPeWOkVAW"
      },
      "outputs": [],
      "source": [
        "import pandas as pd\n",
        "from google.colab import drive\n",
        "drive.mount('/content/drive')\n"
      ]
    },
    {
      "cell_type": "markdown",
      "source": [
        "**Below import the polar embedding file**"
      ],
      "metadata": {
        "id": "muGqPLbj77Wp"
      }
    },
    {
      "cell_type": "code",
      "source": [
        "polar_embedding_company = pd.read_csv('/content/drive/MyDrive/POLAR-GloVeWiki-bus-antonyms-inter.csv')\n",
        "\n",
        "print(polar_embedding_company.head())"
      ],
      "metadata": {
        "id": "Z6sI1Vyt72hb"
      },
      "execution_count": null,
      "outputs": []
    },
    {
      "cell_type": "markdown",
      "source": [
        "**Below code snippet will load the fortune 500 company**"
      ],
      "metadata": {
        "id": "yBvQjhQg8Akb"
      }
    },
    {
      "cell_type": "code",
      "source": [
        "fortune_company = pd.read_csv('/content/drive/MyDrive/Fortune Global 500 companies.csv',encoding= 'unicode_escape')\n",
        "print(fortune_company.head())"
      ],
      "metadata": {
        "id": "HJXMWVqRl-hH"
      },
      "execution_count": null,
      "outputs": []
    },
    {
      "cell_type": "code",
      "source": [
        "character_1 = \"feminine-masculinity\"\n",
        "character_2 = \"private-public \"\n",
        "company_location=[]\n",
        "fortune_company_name = []\n",
        "company_index=0;\n",
        "counter=0\n",
        "for index, row in fortune_company.iterrows(): \n",
        "  \n",
        "  s = row['Company']\n",
        "  s = s.lower()\n",
        "  s = s.replace(\" \",\"\")   \n",
        "  if s == polar_list_company_name[company_index]:    \n",
        "    company_index = company_index+1\n",
        "    company_location.append(row['Location'])\n",
        "    fortune_company_name.append(row['Company'])\n",
        "    counter=counter+1\n",
        "        \n",
        "\n",
        "print(\"The size of the company list: \",counter)"
      ],
      "metadata": {
        "colab": {
          "base_uri": "https://localhost:8080/"
        },
        "id": "jfAPb0xqxn4E",
        "outputId": "9ee0a5d4-c322-4031-f2cb-b31be6ba1cd4"
      },
      "execution_count": 63,
      "outputs": [
        {
          "output_type": "stream",
          "name": "stdout",
          "text": [
            "167\n"
          ]
        }
      ]
    },
    {
      "cell_type": "code",
      "source": [
        "polar_list_company_name = polar_embedding_company.iloc[:,0]\n",
        "character_1_list = polar_embedding_company.iloc[:,1]\n",
        "character_2_list = polar_embedding_company.iloc[:,3]"
      ],
      "metadata": {
        "id": "vaSafPrDkwud"
      },
      "execution_count": 40,
      "outputs": []
    },
    {
      "cell_type": "code",
      "source": [
        "from pandas.core.frame import DataFrame\n",
        "import plotly.express as px\n",
        "\n",
        "data = {\n",
        "        'Company Name' : fortune_company_name,    \n",
        "        'Location': company_location,      \n",
        "        character_1 : character_1_list,\n",
        "        character_2 : character_2_list}\n",
        "\n",
        "df = pd.DataFrame(data)\n",
        "print(df.head())\n",
        "\n",
        "\n",
        "fig = px.scatter(df, x=character_1, y=character_2, text=\"Company Name\", size_max=1,color='Location', color_discrete_sequence= px.colors.qualitative.Alphabet)\n",
        "fig.update_traces(textposition='top center')\n",
        "fig.update_layout(title_text='Companies', title_x=0.5)\n",
        "fig.show()"
      ],
      "metadata": {
        "colab": {
          "base_uri": "https://localhost:8080/",
          "height": 646
        },
        "id": "YKTDyS_ck_Ed",
        "outputId": "72ba64fe-19a0-497c-84ec-48a96c37d11a"
      },
      "execution_count": 75,
      "outputs": [
        {
          "output_type": "stream",
          "name": "stdout",
          "text": [
            "  Company Name Location  feminine-masculinity  private-public \n",
            "0      Walmart      USA             -0.000883        -0.069315\n",
            "1       Amazon      USA             -0.059732         0.233711\n",
            "2        Apple      USA              0.018550        -0.003355\n",
            "3   Volkswagen  Germany             -0.011157        -0.108954\n",
            "4     McKesson      USA              0.071077         0.057184\n"
          ]
        },
        {
          "output_type": "display_data",
          "data": {
            "text/html": [
              "<html>\n",
              "<head><meta charset=\"utf-8\" /></head>\n",
              "<body>\n",
              "    <div>            <script src=\"https://cdnjs.cloudflare.com/ajax/libs/mathjax/2.7.5/MathJax.js?config=TeX-AMS-MML_SVG\"></script><script type=\"text/javascript\">if (window.MathJax) {MathJax.Hub.Config({SVG: {font: \"STIX-Web\"}});}</script>                <script type=\"text/javascript\">window.PlotlyConfig = {MathJaxConfig: 'local'};</script>\n",
              "        <script src=\"https://cdn.plot.ly/plotly-2.8.3.min.js\"></script>                <div id=\"a929f168-d0a6-4ef6-92be-7cdefefeaa06\" class=\"plotly-graph-div\" style=\"height:525px; width:100%;\"></div>            <script type=\"text/javascript\">                                    window.PLOTLYENV=window.PLOTLYENV || {};                                    if (document.getElementById(\"a929f168-d0a6-4ef6-92be-7cdefefeaa06\")) {                    Plotly.newPlot(                        \"a929f168-d0a6-4ef6-92be-7cdefefeaa06\",                        [{\"hovertemplate\":\"Location=USA<br>feminine-masculinity=%{x}<br>private-public =%{y}<br>Company Name=%{text}<extra></extra>\",\"legendgroup\":\"USA\",\"marker\":{\"color\":\"#AA0DFE\",\"symbol\":\"circle\"},\"mode\":\"markers+text\",\"name\":\"USA\",\"orientation\":\"v\",\"showlegend\":true,\"text\":[\"Walmart\",\"Amazon\",\"Apple\",\"McKesson\",\"AmerisourceBergen\",\"Alphabet\",\"Exxon Mobil\",\"AT&T\",\"Cigna\",\"Microsoft\",\"Kroger\",\"Home Depot\",\"JPMorgan Chase\",\"General Motors\",\"Anthem\",\"Centene\",\"Fannie Mae\",\"Comcast\",\"Chevron\",\"Bank of America\",\"Target\",\"Citigroup\",\"Facebook\",\"Wells Fargo\",\"General Electric\",\"Intel\",\"Humana\",\"PepsiCo\",\"Albertsons\",\"FedEx\",\"MetLife\",\"Freddie Mac\",\"Walt Disney\",\"Boeing\",\"HP\",\"Sysco\",\"Morgan Stanley\",\"Merck\",\"Best Buy\",\"AbbVie\",\"Allstate\",\"Progressive\",\"Nationwide\",\"Pfizer\",\"Caterpillar\",\"TIAA\",\"Bunge\",\"Oracle\",\"Dow\",\"American Express\",\"Nike\",\"USAA\",\"Deere\",\"Exelon\",\"Coca-Cola\",\"3M\",\"TJX\",\"Travelers\",\"Tesla\",\"CHS\",\"Jabil\",\"Dollar Tree\",\"Amgen\",\"Netflix\",\"Synnex\",\"Rite Aid\"],\"x\":[-0.00088337954,-0.059731845,0.018550467,0.07107721,-0.20122787,-0.16373388,0.1434987,-0.021033151,0.20362094,0.121370666,0.06675096,-0.24835087,-0.12533768,0.21245326,-0.12820151,0.2383769,0.09403195,0.073329575,0.17920138,-0.3833367,-0.014164132,-0.08446753,0.025612988,-0.013211111,0.08888833,-0.069275156,0.13636687,0.3267546,0.10890608,-0.1186892,-0.034698028,0.06251386,-0.13934603,0.0425317,0.10813261,-0.0053156735,0.173992,-0.021504166,-0.09306511,-0.118778154,0.18929538,0.07230405,0.13876629,0.13753171,-0.013531826,-0.002222116,0.07316425,0.24284068,0.15805782,-0.20639388,-0.021738533,-0.08854038,-0.076166,0.012642771,0.11280299,0.16759226,0.04785415,0.019466456,-0.019407252,0.00043333345,0.12554799,0.04549159,0.13763726,-0.050239746,0.3184405,0.12025853],\"xaxis\":\"x\",\"y\":[-0.069315195,0.23371105,-0.0033553832,0.0571844,-0.0869478,-0.12235259,0.010052557,-0.12486993,0.08820979,-0.0050013345,-0.12329783,0.099646196,0.0923931,0.027091624,-0.23353037,-0.03903536,0.20377816,-0.024024198,-0.0052850908,-0.03729189,-0.120771304,0.16133234,0.02481465,0.2603069,0.08909222,0.27965936,-0.15100151,-0.030725244,-0.03452469,0.12992766,-0.040414263,0.042100813,0.021564761,0.12351317,0.11271016,0.02647215,0.344666,-0.1010247,0.035615124,-0.16068408,0.038157944,-0.10739374,-0.11110428,-0.030808643,-0.11438027,0.017794982,-0.005595371,0.14373936,-0.06376834,0.28425175,-0.14802626,0.073489845,0.19625008,-0.14075494,-0.06956179,0.1618904,0.18860891,-0.053817715,-0.19427708,-0.16316047,-0.14034109,0.17136022,-0.09740005,0.19972394,0.07229087,0.00023650286],\"yaxis\":\"y\",\"type\":\"scatter\",\"textposition\":\"top center\"},{\"hovertemplate\":\"Location=Germany<br>feminine-masculinity=%{x}<br>private-public =%{y}<br>Company Name=%{text}<extra></extra>\",\"legendgroup\":\"Germany\",\"marker\":{\"color\":\"#3283FE\",\"symbol\":\"circle\"},\"mode\":\"markers+text\",\"name\":\"Germany\",\"orientation\":\"v\",\"showlegend\":true,\"text\":[\"Volkswagen\",\"Daimler\",\"Allianz\",\"E.ON\",\"BASF\",\"Siemens\",\"Bayer\",\"Talanx\",\"Continental\",\"Fresenius\",\"ThyssenKrupp\",\"Deutsche Bank\",\"Metro\",\"SAP\"],\"x\":[-0.011157073,0.12301238,-0.04399134,-0.060343046,-0.07278448,-0.09172379,0.18305616,-0.012888347,-0.069644116,0.28573442,0.0037752253,-0.11581866,-0.19446257,0.062119406],\"xaxis\":\"x\",\"y\":[-0.10895444,0.112689465,0.093734585,0.032372173,-0.07781323,0.17235407,0.17647572,0.19511841,0.08666347,0.10295024,0.062479023,0.13078737,-0.36338642,0.07242806],\"yaxis\":\"y\",\"type\":\"scatter\",\"textposition\":\"top center\"},{\"hovertemplate\":\"Location=Britain<br>feminine-masculinity=%{x}<br>private-public =%{y}<br>Company Name=%{text}<extra></extra>\",\"legendgroup\":\"Britain\",\"marker\":{\"color\":\"#85660D\",\"symbol\":\"circle\"},\"mode\":\"markers+text\",\"name\":\"Britain\",\"orientation\":\"v\",\"showlegend\":true,\"text\":[\"BP\",\"Tesco\",\"Aviva\",\"Unilever\",\"Prudential\",\"GlaxoSmithKline\",\"Barclays\",\"Anglo American\",\"Linde\",\"Centrica\",\"AstraZeneca\"],\"x\":[0.0695179,0.013385613,0.2519458,0.10592971,0.08338517,0.01285315,-0.046796985,-0.034478296,0.2828546,-0.028495403,0.10331202],\"xaxis\":\"x\",\"y\":[0.07894758,0.0193758,0.071897574,-0.012432626,0.055029217,-0.1355031,-0.019459464,-0.034708485,-0.04595631,0.056417003,-0.10516229],\"yaxis\":\"y\",\"type\":\"scatter\",\"textposition\":\"top center\"},{\"hovertemplate\":\"Location=Switzerland<br>feminine-masculinity=%{x}<br>private-public =%{y}<br>Company Name=%{text}<extra></extra>\",\"legendgroup\":\"Switzerland\",\"marker\":{\"color\":\"#782AB6\",\"symbol\":\"circle\"},\"mode\":\"markers+text\",\"name\":\"Switzerland\",\"orientation\":\"v\",\"showlegend\":true,\"text\":[\"Glencore\",\"Nestl\\u00e9\",\"Novartis\",\"Chubb\",\"ABB\",\"Holcim\"],\"x\":[-0.11158677,0.25998163,0.26855132,-0.16105887,-0.11009545,-0.04160233],\"xaxis\":\"x\",\"y\":[0.024344513,-0.085824855,-0.122147195,-0.12191814,0.023681726,0.03324487],\"yaxis\":\"y\",\"type\":\"scatter\",\"textposition\":\"top center\"},{\"hovertemplate\":\"Location=France<br>feminine-masculinity=%{x}<br>private-public =%{y}<br>Company Name=%{text}<extra></extra>\",\"legendgroup\":\"France\",\"marker\":{\"color\":\"#565656\",\"symbol\":\"circle\"},\"mode\":\"markers+text\",\"name\":\"France\",\"orientation\":\"v\",\"showlegend\":true,\"text\":[\"AXA\",\"Carrefour\",\"Engie\",\"Vinci\",\"Renault\",\"Orange\",\"Saint-Gobain\",\"Sanofi\",\"Bouygues\",\"L'Or\\u00e9al\",\"Danone\"],\"x\":[-0.07045799,0.16411515,-0.29582113,0.07225065,0.13129725,-0.12229949,0.07326116,0.41183883,-0.13734667,0.15660428,0.31355584],\"xaxis\":\"x\",\"y\":[0.23096105,0.07963333,0.10534198,0.15784755,0.11916749,-0.1648478,-0.06256164,-0.020202128,0.16397327,-0.047727678,0.077252954],\"yaxis\":\"y\",\"type\":\"scatter\",\"textposition\":\"top center\"},{\"hovertemplate\":\"Location=Japan<br>feminine-masculinity=%{x}<br>private-public =%{y}<br>Company Name=%{text}<extra></extra>\",\"legendgroup\":\"Japan\",\"marker\":{\"color\":\"#1C8356\",\"symbol\":\"circle\"},\"mode\":\"markers+text\",\"name\":\"Japan\",\"orientation\":\"v\",\"showlegend\":true,\"text\":[\"Mitsubishi\",\"Itochu\",\"Sony\",\"Hitachi\",\"AEON\",\"Mitsui\",\"Panasonic\",\"Marubeni\",\"KDDI\",\"Denso\",\"Sumitomo\",\"Fujitsu\",\"Aisin\",\"Canon\",\"Toshiba\",\"NEC\",\"Bridgestone\",\"Subaru\"],\"x\":[-0.03324607,-0.11649244,-0.13665171,0.07513444,0.11395664,-0.4348482,-0.051062476,-0.32750845,0.17009534,-0.12913527,-0.1384047,0.19313651,-0.061780054,-0.14542967,0.11472068,0.18250348,-0.20323558,-0.1584321],\"xaxis\":\"x\",\"y\":[-0.08736374,-0.18093508,-0.036417905,0.17833818,-0.27361873,-0.07922698,-0.011810594,-0.093782686,-0.066497326,0.03568766,-0.16500914,0.17146766,-0.00849954,-0.14299151,0.12332408,-0.09485954,-0.2744465,-0.2111268],\"yaxis\":\"y\",\"type\":\"scatter\",\"textposition\":\"top center\"},{\"hovertemplate\":\"Location=Russia<br>feminine-masculinity=%{x}<br>private-public =%{y}<br>Company Name=%{text}<extra></extra>\",\"legendgroup\":\"Russia\",\"marker\":{\"color\":\"#16FF32\",\"symbol\":\"circle\"},\"mode\":\"markers+text\",\"name\":\"Russia\",\"orientation\":\"v\",\"showlegend\":true,\"text\":[\"Gazprom\",\"Lukoil\",\"Sberbank\"],\"x\":[-0.014086691,-0.056176174,-0.21648456],\"xaxis\":\"x\",\"y\":[0.010766191,0.053830482,-0.06312755],\"yaxis\":\"y\",\"type\":\"scatter\",\"textposition\":\"top center\"},{\"hovertemplate\":\"Location=China<br>feminine-masculinity=%{x}<br>private-public =%{y}<br>Company Name=%{text}<extra></extra>\",\"legendgroup\":\"China\",\"marker\":{\"color\":\"#F7E1A0\",\"symbol\":\"circle\"},\"mode\":\"markers+text\",\"name\":\"China\",\"orientation\":\"v\",\"showlegend\":true,\"text\":[\"Sinopharm\",\"COFCO\",\"Sinochem\",\"Xiaomi\"],\"x\":[0.13884446,0.0062296516,-0.071180835,-0.051229473],\"xaxis\":\"x\",\"y\":[0.108119406,0.1170513,0.09070621,0.07926501],\"yaxis\":\"y\",\"type\":\"scatter\",\"textposition\":\"top center\"},{\"hovertemplate\":\"Location=Italy<br>feminine-masculinity=%{x}<br>private-public =%{y}<br>Company Name=%{text}<extra></extra>\",\"legendgroup\":\"Italy\",\"marker\":{\"color\":\"#E2E2E2\",\"symbol\":\"circle\"},\"mode\":\"markers+text\",\"name\":\"Italy\",\"orientation\":\"v\",\"showlegend\":true,\"text\":[\"Enel\",\"ENI\"],\"x\":[-0.20787796,-0.08757121],\"xaxis\":\"x\",\"y\":[0.113470174,0.025295459],\"yaxis\":\"y\",\"type\":\"scatter\",\"textposition\":\"top center\"},{\"hovertemplate\":\"Location=South Korea<br>feminine-masculinity=%{x}<br>private-public =%{y}<br>Company Name=%{text}<extra></extra>\",\"legendgroup\":\"South Korea\",\"marker\":{\"color\":\"#1CBE4F\",\"symbol\":\"circle\"},\"mode\":\"markers+text\",\"name\":\"South Korea\",\"orientation\":\"v\",\"showlegend\":true,\"text\":[\"SK\",\"Kia\",\"POSCO\",\"Hanwha\"],\"x\":[0.031792786,-0.066856,0.043588057,-0.0075029093],\"xaxis\":\"x\",\"y\":[-0.19036287,-0.113441914,-0.10717958,0.0074015707],\"yaxis\":\"y\",\"type\":\"scatter\",\"textposition\":\"top center\"},{\"hovertemplate\":\"Location=Netherlands<br>feminine-masculinity=%{x}<br>private-public =%{y}<br>Company Name=%{text}<extra></extra>\",\"legendgroup\":\"Netherlands\",\"marker\":{\"color\":\"#C4451C\",\"symbol\":\"circle\"},\"mode\":\"markers+text\",\"name\":\"Netherlands\",\"orientation\":\"v\",\"showlegend\":true,\"text\":[\"Aegon\",\"Airbus\",\"Achmea\"],\"x\":[0.041284434,0.02997076,-0.040158965],\"xaxis\":\"x\",\"y\":[0.03790391,0.28788826,-0.08535446],\"yaxis\":\"y\",\"type\":\"scatter\",\"textposition\":\"top center\"},{\"hovertemplate\":\"Location=Brazil<br>feminine-masculinity=%{x}<br>private-public =%{y}<br>Company Name=%{text}<extra></extra>\",\"legendgroup\":\"Brazil\",\"marker\":{\"color\":\"#DEA0FD\",\"symbol\":\"circle\"},\"mode\":\"markers+text\",\"name\":\"Brazil\",\"orientation\":\"v\",\"showlegend\":true,\"text\":[\"Petrobras\",\"JBS\",\"Vale\"],\"x\":[0.087699085,-0.09458454,-0.06701962],\"xaxis\":\"x\",\"y\":[0.12139324,-0.12870884,-4.4134416e-05],\"yaxis\":\"y\",\"type\":\"scatter\",\"textposition\":\"top center\"},{\"hovertemplate\":\"Location=Finland<br>feminine-masculinity=%{x}<br>private-public =%{y}<br>Company Name=%{text}<extra></extra>\",\"legendgroup\":\"Finland\",\"marker\":{\"color\":\"#FE00FA\",\"symbol\":\"circle\"},\"mode\":\"markers+text\",\"name\":\"Finland\",\"orientation\":\"v\",\"showlegend\":true,\"text\":[\"Fortum\",\"Nokia\"],\"x\":[-0.03479807,-0.25394526],\"xaxis\":\"x\",\"y\":[-0.048244193,-0.11516286],\"yaxis\":\"y\",\"type\":\"scatter\",\"textposition\":\"top center\"},{\"hovertemplate\":\"Location=Luxembourg<br>feminine-masculinity=%{x}<br>private-public =%{y}<br>Company Name=%{text}<extra></extra>\",\"legendgroup\":\"Luxembourg\",\"marker\":{\"color\":\"#325A9B\",\"symbol\":\"circle\"},\"mode\":\"markers+text\",\"name\":\"Luxembourg\",\"orientation\":\"v\",\"showlegend\":true,\"text\":[\"ArcelorMittal\"],\"x\":[-0.009118432],\"xaxis\":\"x\",\"y\":[-0.12538242],\"yaxis\":\"y\",\"type\":\"scatter\",\"textposition\":\"top center\"},{\"hovertemplate\":\"Location=Thailand<br>feminine-masculinity=%{x}<br>private-public =%{y}<br>Company Name=%{text}<extra></extra>\",\"legendgroup\":\"Thailand\",\"marker\":{\"color\":\"#FEAF16\",\"symbol\":\"circle\"},\"mode\":\"markers+text\",\"name\":\"Thailand\",\"orientation\":\"v\",\"showlegend\":true,\"text\":[\"PTT\"],\"x\":[-0.10363392],\"xaxis\":\"x\",\"y\":[-0.2193092],\"yaxis\":\"y\",\"type\":\"scatter\",\"textposition\":\"top center\"},{\"hovertemplate\":\"Location=India<br>feminine-masculinity=%{x}<br>private-public =%{y}<br>Company Name=%{text}<extra></extra>\",\"legendgroup\":\"India\",\"marker\":{\"color\":\"#F8A19F\",\"symbol\":\"circle\"},\"mode\":\"markers+text\",\"name\":\"India\",\"orientation\":\"v\",\"showlegend\":true,\"text\":[\"Indian Oil\",\"Tata Motors\"],\"x\":[-0.09432564,-0.06586269],\"xaxis\":\"x\",\"y\":[-0.05153005,0.06482653],\"yaxis\":\"y\",\"type\":\"scatter\",\"textposition\":\"top center\"},{\"hovertemplate\":\"Location=Spain<br>feminine-masculinity=%{x}<br>private-public =%{y}<br>Company Name=%{text}<extra></extra>\",\"legendgroup\":\"Spain\",\"marker\":{\"color\":\"#90AD1C\",\"symbol\":\"circle\"},\"mode\":\"markers+text\",\"name\":\"Spain\",\"orientation\":\"v\",\"showlegend\":true,\"text\":[\"Telef\\u00f3nica\",\"ACS\",\"Iberdrola\",\"Repsol\"],\"x\":[-0.26599887,-0.11800364,0.05573076,-0.025442284],\"xaxis\":\"x\",\"y\":[0.19509248,-0.11465756,-0.012062793,0.07605123],\"yaxis\":\"y\",\"type\":\"scatter\",\"textposition\":\"top center\"},{\"hovertemplate\":\"Location=Taiwan<br>feminine-masculinity=%{x}<br>private-public =%{y}<br>Company Name=%{text}<extra></extra>\",\"legendgroup\":\"Taiwan\",\"marker\":{\"color\":\"#F6222E\",\"symbol\":\"circle\"},\"mode\":\"markers+text\",\"name\":\"Taiwan\",\"orientation\":\"v\",\"showlegend\":true,\"text\":[\"Pegatron\",\"Wistron\"],\"x\":[0.124631524,0.30620867],\"xaxis\":\"x\",\"y\":[0.31107363,0.23731612],\"yaxis\":\"y\",\"type\":\"scatter\",\"textposition\":\"top center\"},{\"hovertemplate\":\"Location=Mexico<br>feminine-masculinity=%{x}<br>private-public =%{y}<br>Company Name=%{text}<extra></extra>\",\"legendgroup\":\"Mexico\",\"marker\":{\"color\":\"#1CFFCE\",\"symbol\":\"circle\"},\"mode\":\"markers+text\",\"name\":\"Mexico\",\"orientation\":\"v\",\"showlegend\":true,\"text\":[\"Pemex\"],\"x\":[-0.20647426],\"xaxis\":\"x\",\"y\":[-0.08195076],\"yaxis\":\"y\",\"type\":\"scatter\",\"textposition\":\"top center\"},{\"hovertemplate\":\"Location=Ireland<br>feminine-masculinity=%{x}<br>private-public =%{y}<br>Company Name=%{text}<extra></extra>\",\"legendgroup\":\"Ireland\",\"marker\":{\"color\":\"#2ED9FF\",\"symbol\":\"circle\"},\"mode\":\"markers+text\",\"name\":\"Ireland\",\"orientation\":\"v\",\"showlegend\":true,\"text\":[\"Accenture\",\"Medtronic\",\"CRH\"],\"x\":[0.0046220794,0.34900227,-0.07207186],\"xaxis\":\"x\",\"y\":[0.07140419,-0.015580306,0.05244132],\"yaxis\":\"y\",\"type\":\"scatter\",\"textposition\":\"top center\"},{\"hovertemplate\":\"Location=Malaysia<br>feminine-masculinity=%{x}<br>private-public =%{y}<br>Company Name=%{text}<extra></extra>\",\"legendgroup\":\"Malaysia\",\"marker\":{\"color\":\"#B10DA1\",\"symbol\":\"circle\"},\"mode\":\"markers+text\",\"name\":\"Malaysia\",\"orientation\":\"v\",\"showlegend\":true,\"text\":[\"Petronas\"],\"x\":[-0.15647776],\"xaxis\":\"x\",\"y\":[-0.17393295],\"yaxis\":\"y\",\"type\":\"scatter\",\"textposition\":\"top center\"},{\"hovertemplate\":\"Location=Indonesia<br>feminine-masculinity=%{x}<br>private-public =%{y}<br>Company Name=%{text}<extra></extra>\",\"legendgroup\":\"Indonesia\",\"marker\":{\"color\":\"#C075A6\",\"symbol\":\"circle\"},\"mode\":\"markers+text\",\"name\":\"Indonesia\",\"orientation\":\"v\",\"showlegend\":true,\"text\":[\"Pertamina\"],\"x\":[-0.22867094],\"xaxis\":\"x\",\"y\":[0.0013926479],\"yaxis\":\"y\",\"type\":\"scatter\",\"textposition\":\"top center\"},{\"hovertemplate\":\"Location=Sweden<br>feminine-masculinity=%{x}<br>private-public =%{y}<br>Company Name=%{text}<extra></extra>\",\"legendgroup\":\"Sweden\",\"marker\":{\"color\":\"#FC1CBF\",\"symbol\":\"circle\"},\"mode\":\"markers+text\",\"name\":\"Sweden\",\"orientation\":\"v\",\"showlegend\":true,\"text\":[\"Volvo\",\"Ericsson\"],\"x\":[-0.024219053,-0.05151607],\"xaxis\":\"x\",\"y\":[-0.004472915,-0.039145056],\"yaxis\":\"y\",\"type\":\"scatter\",\"textposition\":\"top center\"},{\"hovertemplate\":\"Location=Canada<br>feminine-masculinity=%{x}<br>private-public =%{y}<br>Company Name=%{text}<extra></extra>\",\"legendgroup\":\"Canada\",\"marker\":{\"color\":\"#B00068\",\"symbol\":\"circle\"},\"mode\":\"markers+text\",\"name\":\"Canada\",\"orientation\":\"v\",\"showlegend\":true,\"text\":[\"Enbridge\"],\"x\":[0.0139842555],\"xaxis\":\"x\",\"y\":[0.011217093],\"yaxis\":\"y\",\"type\":\"scatter\",\"textposition\":\"top center\"},{\"hovertemplate\":\"Location=Singapore<br>feminine-masculinity=%{x}<br>private-public =%{y}<br>Company Name=%{text}<extra></extra>\",\"legendgroup\":\"Singapore\",\"marker\":{\"color\":\"#FBE426\",\"symbol\":\"circle\"},\"mode\":\"markers+text\",\"name\":\"Singapore\",\"orientation\":\"v\",\"showlegend\":true,\"text\":[\"Flex\"],\"x\":[-0.15843289],\"xaxis\":\"x\",\"y\":[-0.17351435],\"yaxis\":\"y\",\"type\":\"scatter\",\"textposition\":\"top center\"}],                        {\"template\":{\"data\":{\"bar\":[{\"error_x\":{\"color\":\"#2a3f5f\"},\"error_y\":{\"color\":\"#2a3f5f\"},\"marker\":{\"line\":{\"color\":\"#E5ECF6\",\"width\":0.5},\"pattern\":{\"fillmode\":\"overlay\",\"size\":10,\"solidity\":0.2}},\"type\":\"bar\"}],\"barpolar\":[{\"marker\":{\"line\":{\"color\":\"#E5ECF6\",\"width\":0.5},\"pattern\":{\"fillmode\":\"overlay\",\"size\":10,\"solidity\":0.2}},\"type\":\"barpolar\"}],\"carpet\":[{\"aaxis\":{\"endlinecolor\":\"#2a3f5f\",\"gridcolor\":\"white\",\"linecolor\":\"white\",\"minorgridcolor\":\"white\",\"startlinecolor\":\"#2a3f5f\"},\"baxis\":{\"endlinecolor\":\"#2a3f5f\",\"gridcolor\":\"white\",\"linecolor\":\"white\",\"minorgridcolor\":\"white\",\"startlinecolor\":\"#2a3f5f\"},\"type\":\"carpet\"}],\"choropleth\":[{\"colorbar\":{\"outlinewidth\":0,\"ticks\":\"\"},\"type\":\"choropleth\"}],\"contour\":[{\"colorbar\":{\"outlinewidth\":0,\"ticks\":\"\"},\"colorscale\":[[0.0,\"#0d0887\"],[0.1111111111111111,\"#46039f\"],[0.2222222222222222,\"#7201a8\"],[0.3333333333333333,\"#9c179e\"],[0.4444444444444444,\"#bd3786\"],[0.5555555555555556,\"#d8576b\"],[0.6666666666666666,\"#ed7953\"],[0.7777777777777778,\"#fb9f3a\"],[0.8888888888888888,\"#fdca26\"],[1.0,\"#f0f921\"]],\"type\":\"contour\"}],\"contourcarpet\":[{\"colorbar\":{\"outlinewidth\":0,\"ticks\":\"\"},\"type\":\"contourcarpet\"}],\"heatmap\":[{\"colorbar\":{\"outlinewidth\":0,\"ticks\":\"\"},\"colorscale\":[[0.0,\"#0d0887\"],[0.1111111111111111,\"#46039f\"],[0.2222222222222222,\"#7201a8\"],[0.3333333333333333,\"#9c179e\"],[0.4444444444444444,\"#bd3786\"],[0.5555555555555556,\"#d8576b\"],[0.6666666666666666,\"#ed7953\"],[0.7777777777777778,\"#fb9f3a\"],[0.8888888888888888,\"#fdca26\"],[1.0,\"#f0f921\"]],\"type\":\"heatmap\"}],\"heatmapgl\":[{\"colorbar\":{\"outlinewidth\":0,\"ticks\":\"\"},\"colorscale\":[[0.0,\"#0d0887\"],[0.1111111111111111,\"#46039f\"],[0.2222222222222222,\"#7201a8\"],[0.3333333333333333,\"#9c179e\"],[0.4444444444444444,\"#bd3786\"],[0.5555555555555556,\"#d8576b\"],[0.6666666666666666,\"#ed7953\"],[0.7777777777777778,\"#fb9f3a\"],[0.8888888888888888,\"#fdca26\"],[1.0,\"#f0f921\"]],\"type\":\"heatmapgl\"}],\"histogram\":[{\"marker\":{\"pattern\":{\"fillmode\":\"overlay\",\"size\":10,\"solidity\":0.2}},\"type\":\"histogram\"}],\"histogram2d\":[{\"colorbar\":{\"outlinewidth\":0,\"ticks\":\"\"},\"colorscale\":[[0.0,\"#0d0887\"],[0.1111111111111111,\"#46039f\"],[0.2222222222222222,\"#7201a8\"],[0.3333333333333333,\"#9c179e\"],[0.4444444444444444,\"#bd3786\"],[0.5555555555555556,\"#d8576b\"],[0.6666666666666666,\"#ed7953\"],[0.7777777777777778,\"#fb9f3a\"],[0.8888888888888888,\"#fdca26\"],[1.0,\"#f0f921\"]],\"type\":\"histogram2d\"}],\"histogram2dcontour\":[{\"colorbar\":{\"outlinewidth\":0,\"ticks\":\"\"},\"colorscale\":[[0.0,\"#0d0887\"],[0.1111111111111111,\"#46039f\"],[0.2222222222222222,\"#7201a8\"],[0.3333333333333333,\"#9c179e\"],[0.4444444444444444,\"#bd3786\"],[0.5555555555555556,\"#d8576b\"],[0.6666666666666666,\"#ed7953\"],[0.7777777777777778,\"#fb9f3a\"],[0.8888888888888888,\"#fdca26\"],[1.0,\"#f0f921\"]],\"type\":\"histogram2dcontour\"}],\"mesh3d\":[{\"colorbar\":{\"outlinewidth\":0,\"ticks\":\"\"},\"type\":\"mesh3d\"}],\"parcoords\":[{\"line\":{\"colorbar\":{\"outlinewidth\":0,\"ticks\":\"\"}},\"type\":\"parcoords\"}],\"pie\":[{\"automargin\":true,\"type\":\"pie\"}],\"scatter\":[{\"marker\":{\"colorbar\":{\"outlinewidth\":0,\"ticks\":\"\"}},\"type\":\"scatter\"}],\"scatter3d\":[{\"line\":{\"colorbar\":{\"outlinewidth\":0,\"ticks\":\"\"}},\"marker\":{\"colorbar\":{\"outlinewidth\":0,\"ticks\":\"\"}},\"type\":\"scatter3d\"}],\"scattercarpet\":[{\"marker\":{\"colorbar\":{\"outlinewidth\":0,\"ticks\":\"\"}},\"type\":\"scattercarpet\"}],\"scattergeo\":[{\"marker\":{\"colorbar\":{\"outlinewidth\":0,\"ticks\":\"\"}},\"type\":\"scattergeo\"}],\"scattergl\":[{\"marker\":{\"colorbar\":{\"outlinewidth\":0,\"ticks\":\"\"}},\"type\":\"scattergl\"}],\"scattermapbox\":[{\"marker\":{\"colorbar\":{\"outlinewidth\":0,\"ticks\":\"\"}},\"type\":\"scattermapbox\"}],\"scatterpolar\":[{\"marker\":{\"colorbar\":{\"outlinewidth\":0,\"ticks\":\"\"}},\"type\":\"scatterpolar\"}],\"scatterpolargl\":[{\"marker\":{\"colorbar\":{\"outlinewidth\":0,\"ticks\":\"\"}},\"type\":\"scatterpolargl\"}],\"scatterternary\":[{\"marker\":{\"colorbar\":{\"outlinewidth\":0,\"ticks\":\"\"}},\"type\":\"scatterternary\"}],\"surface\":[{\"colorbar\":{\"outlinewidth\":0,\"ticks\":\"\"},\"colorscale\":[[0.0,\"#0d0887\"],[0.1111111111111111,\"#46039f\"],[0.2222222222222222,\"#7201a8\"],[0.3333333333333333,\"#9c179e\"],[0.4444444444444444,\"#bd3786\"],[0.5555555555555556,\"#d8576b\"],[0.6666666666666666,\"#ed7953\"],[0.7777777777777778,\"#fb9f3a\"],[0.8888888888888888,\"#fdca26\"],[1.0,\"#f0f921\"]],\"type\":\"surface\"}],\"table\":[{\"cells\":{\"fill\":{\"color\":\"#EBF0F8\"},\"line\":{\"color\":\"white\"}},\"header\":{\"fill\":{\"color\":\"#C8D4E3\"},\"line\":{\"color\":\"white\"}},\"type\":\"table\"}]},\"layout\":{\"annotationdefaults\":{\"arrowcolor\":\"#2a3f5f\",\"arrowhead\":0,\"arrowwidth\":1},\"autotypenumbers\":\"strict\",\"coloraxis\":{\"colorbar\":{\"outlinewidth\":0,\"ticks\":\"\"}},\"colorscale\":{\"diverging\":[[0,\"#8e0152\"],[0.1,\"#c51b7d\"],[0.2,\"#de77ae\"],[0.3,\"#f1b6da\"],[0.4,\"#fde0ef\"],[0.5,\"#f7f7f7\"],[0.6,\"#e6f5d0\"],[0.7,\"#b8e186\"],[0.8,\"#7fbc41\"],[0.9,\"#4d9221\"],[1,\"#276419\"]],\"sequential\":[[0.0,\"#0d0887\"],[0.1111111111111111,\"#46039f\"],[0.2222222222222222,\"#7201a8\"],[0.3333333333333333,\"#9c179e\"],[0.4444444444444444,\"#bd3786\"],[0.5555555555555556,\"#d8576b\"],[0.6666666666666666,\"#ed7953\"],[0.7777777777777778,\"#fb9f3a\"],[0.8888888888888888,\"#fdca26\"],[1.0,\"#f0f921\"]],\"sequentialminus\":[[0.0,\"#0d0887\"],[0.1111111111111111,\"#46039f\"],[0.2222222222222222,\"#7201a8\"],[0.3333333333333333,\"#9c179e\"],[0.4444444444444444,\"#bd3786\"],[0.5555555555555556,\"#d8576b\"],[0.6666666666666666,\"#ed7953\"],[0.7777777777777778,\"#fb9f3a\"],[0.8888888888888888,\"#fdca26\"],[1.0,\"#f0f921\"]]},\"colorway\":[\"#636efa\",\"#EF553B\",\"#00cc96\",\"#ab63fa\",\"#FFA15A\",\"#19d3f3\",\"#FF6692\",\"#B6E880\",\"#FF97FF\",\"#FECB52\"],\"font\":{\"color\":\"#2a3f5f\"},\"geo\":{\"bgcolor\":\"white\",\"lakecolor\":\"white\",\"landcolor\":\"#E5ECF6\",\"showlakes\":true,\"showland\":true,\"subunitcolor\":\"white\"},\"hoverlabel\":{\"align\":\"left\"},\"hovermode\":\"closest\",\"mapbox\":{\"style\":\"light\"},\"paper_bgcolor\":\"white\",\"plot_bgcolor\":\"#E5ECF6\",\"polar\":{\"angularaxis\":{\"gridcolor\":\"white\",\"linecolor\":\"white\",\"ticks\":\"\"},\"bgcolor\":\"#E5ECF6\",\"radialaxis\":{\"gridcolor\":\"white\",\"linecolor\":\"white\",\"ticks\":\"\"}},\"scene\":{\"xaxis\":{\"backgroundcolor\":\"#E5ECF6\",\"gridcolor\":\"white\",\"gridwidth\":2,\"linecolor\":\"white\",\"showbackground\":true,\"ticks\":\"\",\"zerolinecolor\":\"white\"},\"yaxis\":{\"backgroundcolor\":\"#E5ECF6\",\"gridcolor\":\"white\",\"gridwidth\":2,\"linecolor\":\"white\",\"showbackground\":true,\"ticks\":\"\",\"zerolinecolor\":\"white\"},\"zaxis\":{\"backgroundcolor\":\"#E5ECF6\",\"gridcolor\":\"white\",\"gridwidth\":2,\"linecolor\":\"white\",\"showbackground\":true,\"ticks\":\"\",\"zerolinecolor\":\"white\"}},\"shapedefaults\":{\"line\":{\"color\":\"#2a3f5f\"}},\"ternary\":{\"aaxis\":{\"gridcolor\":\"white\",\"linecolor\":\"white\",\"ticks\":\"\"},\"baxis\":{\"gridcolor\":\"white\",\"linecolor\":\"white\",\"ticks\":\"\"},\"bgcolor\":\"#E5ECF6\",\"caxis\":{\"gridcolor\":\"white\",\"linecolor\":\"white\",\"ticks\":\"\"}},\"title\":{\"x\":0.05},\"xaxis\":{\"automargin\":true,\"gridcolor\":\"white\",\"linecolor\":\"white\",\"ticks\":\"\",\"title\":{\"standoff\":15},\"zerolinecolor\":\"white\",\"zerolinewidth\":2},\"yaxis\":{\"automargin\":true,\"gridcolor\":\"white\",\"linecolor\":\"white\",\"ticks\":\"\",\"title\":{\"standoff\":15},\"zerolinecolor\":\"white\",\"zerolinewidth\":2}}},\"xaxis\":{\"anchor\":\"y\",\"domain\":[0.0,1.0],\"title\":{\"text\":\"feminine-masculinity\"}},\"yaxis\":{\"anchor\":\"x\",\"domain\":[0.0,1.0],\"title\":{\"text\":\"private-public \"}},\"legend\":{\"title\":{\"text\":\"Location\"},\"tracegroupgap\":0},\"margin\":{\"t\":60},\"title\":{\"text\":\"Companies\",\"x\":0.5}},                        {\"responsive\": true}                    ).then(function(){\n",
              "                            \n",
              "var gd = document.getElementById('a929f168-d0a6-4ef6-92be-7cdefefeaa06');\n",
              "var x = new MutationObserver(function (mutations, observer) {{\n",
              "        var display = window.getComputedStyle(gd).display;\n",
              "        if (!display || display === 'none') {{\n",
              "            console.log([gd, 'removed!']);\n",
              "            Plotly.purge(gd);\n",
              "            observer.disconnect();\n",
              "        }}\n",
              "}});\n",
              "\n",
              "// Listen for the removal of the full notebook cells\n",
              "var notebookContainer = gd.closest('#notebook-container');\n",
              "if (notebookContainer) {{\n",
              "    x.observe(notebookContainer, {childList: true});\n",
              "}}\n",
              "\n",
              "// Listen for the clearing of the current output cell\n",
              "var outputEl = gd.closest('.output');\n",
              "if (outputEl) {{\n",
              "    x.observe(outputEl, {childList: true});\n",
              "}}\n",
              "\n",
              "                        })                };                            </script>        </div>\n",
              "</body>\n",
              "</html>"
            ]
          },
          "metadata": {}
        }
      ]
    }
  ]
}