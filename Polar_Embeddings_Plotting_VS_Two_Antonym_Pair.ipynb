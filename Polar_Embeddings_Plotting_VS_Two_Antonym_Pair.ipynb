{
  "nbformat": 4,
  "nbformat_minor": 0,
  "metadata": {
    "colab": {
      "name": "Polar_Embeddings_Plotting_VS_Two_Antonym_Pair.ipynb",
      "provenance": [],
      "collapsed_sections": [],
      "authorship_tag": "ABX9TyPNy7z7B6bIf0DPAU6qhn2l",
      "include_colab_link": true
    },
    "kernelspec": {
      "name": "python3",
      "display_name": "Python 3"
    },
    "language_info": {
      "name": "python"
    }
  },
  "cells": [
    {
      "cell_type": "markdown",
      "metadata": {
        "id": "view-in-github",
        "colab_type": "text"
      },
      "source": [
        "<a href=\"https://colab.research.google.com/github/sreehari59/Polar-Embedding/blob/main/Polar_Embeddings_Plotting_VS_Two_Antonym_Pair.ipynb\" target=\"_parent\"><img src=\"https://colab.research.google.com/assets/colab-badge.svg\" alt=\"Open In Colab\"/></a>"
      ]
    },
    {
      "cell_type": "code",
      "execution_count": 1,
      "metadata": {
        "id": "ox0YPeWOkVAW",
        "colab": {
          "base_uri": "https://localhost:8080/"
        },
        "outputId": "ed2fe0fb-c5c3-4811-8dab-60cfaea306d0"
      },
      "outputs": [
        {
          "output_type": "stream",
          "name": "stdout",
          "text": [
            "Mounted at /content/drive\n"
          ]
        }
      ],
      "source": [
        "import pandas as pd\n",
        "from google.colab import drive\n",
        "drive.mount('/content/drive')\n"
      ]
    },
    {
      "cell_type": "markdown",
      "source": [
        "**Below import the polar embedding file**"
      ],
      "metadata": {
        "id": "muGqPLbj77Wp"
      }
    },
    {
      "cell_type": "code",
      "source": [
        "polar_embedding_company = pd.read_csv('/content/drive/MyDrive/POLAR-GloVeWiki-bus-antonyms-inter.csv')\n",
        "\n",
        "print(polar_embedding_company.head())"
      ],
      "metadata": {
        "id": "Z6sI1Vyt72hb",
        "colab": {
          "base_uri": "https://localhost:8080/"
        },
        "outputId": "9cb75605-c1f8-435a-81f9-e71a758b75bb"
      },
      "execution_count": 10,
      "outputs": [
        {
          "output_type": "stream",
          "name": "stdout",
          "text": [
            "   Unnamed: 0  femininemasculine  consistentinconsistent  privatepublic  \\\n",
            "0     walmart          -0.000883                0.018534      -0.069315   \n",
            "1      amazon          -0.059732                0.018154       0.233711   \n",
            "2       apple           0.018550                0.117052      -0.003355   \n",
            "3  volkswagen          -0.011157                0.060459      -0.108954   \n",
            "4    mckesson           0.071077               -0.174042       0.057184   \n",
            "\n",
            "   intangibletangible  declinegrowth  ethicalunethical  connecteddisconnected  \\\n",
            "0            0.055498      -0.300998         -0.114446               0.073519   \n",
            "1            0.085981      -0.242430         -0.047248               0.234184   \n",
            "2            0.015758      -0.129933         -0.060065               0.147650   \n",
            "3            0.043943      -0.095942         -0.106628              -0.190915   \n",
            "4           -0.130110       0.007880          0.054659               0.014312   \n",
            "\n",
            "   globallylocally  satisfiedunsatisfied  ...  goodiessalary  \\\n",
            "0         0.154110             -0.161244  ...      -0.082296   \n",
            "1         0.108418             -0.084842  ...       0.046393   \n",
            "2         0.124808              0.013360  ...       0.079080   \n",
            "3         0.131403             -0.017981  ...       0.124742   \n",
            "4        -0.031518             -0.098635  ...      -0.192824   \n",
            "\n",
            "   criminalrightful  biasunbias  captivefreedom  allianceproprietorship  \\\n",
            "0          0.030431   -0.006858       -0.034474                0.162935   \n",
            "1          0.002577   -0.014715        0.018525                0.198380   \n",
            "2         -0.075069    0.196780       -0.089285               -0.036281   \n",
            "3         -0.122883   -0.050889        0.016388                0.006956   \n",
            "4         -0.000012   -0.003804       -0.047132                0.084317   \n",
            "\n",
            "   collaborationsilo  followerinnovator  artisanalfinancial  \\\n",
            "0           0.051254           0.018629           -0.072775   \n",
            "1           0.047633           0.043475           -0.175370   \n",
            "2           0.021429          -0.084774            0.016796   \n",
            "3           0.092598          -0.011483           -0.186505   \n",
            "4           0.156907          -0.052901           -0.104468   \n",
            "\n",
            "   communicativeuncommunicative  autonomousmicromanagement  \n",
            "0                     -0.008051                   0.004824  \n",
            "1                      0.036298                   0.017434  \n",
            "2                      0.093716                  -0.129708  \n",
            "3                      0.089913                   0.087726  \n",
            "4                     -0.018865                   0.133397  \n",
            "\n",
            "[5 rows x 82 columns]\n"
          ]
        }
      ]
    },
    {
      "cell_type": "markdown",
      "source": [
        "**Below code snippet will load the fortune 500 company**"
      ],
      "metadata": {
        "id": "yBvQjhQg8Akb"
      }
    },
    {
      "cell_type": "code",
      "source": [
        "fortune_company = pd.read_csv('/content/drive/MyDrive/Fortune Global 500 companies.csv',encoding= 'unicode_escape')\n",
        "print(fortune_company.head())"
      ],
      "metadata": {
        "id": "HJXMWVqRl-hH",
        "colab": {
          "base_uri": "https://localhost:8080/"
        },
        "outputId": "a50cd88f-6416-4168-dc3a-14b8738544fc"
      },
      "execution_count": 5,
      "outputs": [
        {
          "output_type": "stream",
          "name": "stdout",
          "text": [
            "   Rank                   Company Location\n",
            "0     1                   Walmart      USA\n",
            "1     2                State Grid    China\n",
            "2     3                    Amazon      USA\n",
            "3     4  China National Petroleum    China\n",
            "4     5             Sinopec Group    China\n"
          ]
        }
      ]
    },
    {
      "cell_type": "code",
      "source": [
        "polar_list_company_name = polar_embedding_company.iloc[:,0]\n",
        "character_1_list = polar_embedding_company.iloc[:,1]\n",
        "character_2_list = polar_embedding_company.iloc[:,3]\n",
        "character_3_list = polar_embedding_company.iloc[:,5]\n",
        "print(polar_list_company_name)"
      ],
      "metadata": {
        "id": "5m0-lUyORa6m"
      },
      "execution_count": null,
      "outputs": []
    },
    {
      "cell_type": "code",
      "source": [
        "character_1 = \"feminine-masculinity\"\n",
        "character_2 = \"private-public\"\n",
        "character_3 = \"ethical-unethical\"\n",
        "company_location=[]\n",
        "fortune_company_name = []\n",
        "company_index=0;\n",
        "counter=0\n",
        "for index, row in fortune_company.iterrows(): \n",
        "  \n",
        "  s = row['Company']\n",
        "  s = s.lower()\n",
        "  s = s.replace(\" \",\"\")   \n",
        "  if s == polar_list_company_name[company_index]:    \n",
        "    company_index = company_index+1\n",
        "    company_location.append(row['Location'])\n",
        "    fortune_company_name.append(row['Company'])\n",
        "    counter=counter+1\n",
        "        \n",
        "\n",
        "print(\"The size of the company list: \",counter)"
      ],
      "metadata": {
        "colab": {
          "base_uri": "https://localhost:8080/"
        },
        "id": "jfAPb0xqxn4E",
        "outputId": "ede5ba8f-4ee3-430b-874c-8badb3b1141f"
      },
      "execution_count": 7,
      "outputs": [
        {
          "output_type": "stream",
          "name": "stdout",
          "text": [
            "The size of the company list:  167\n"
          ]
        }
      ]
    },
    {
      "cell_type": "code",
      "source": [
        "from pandas.core.frame import DataFrame\n",
        "import plotly.express as px\n",
        "\n",
        "data = {\n",
        "        'Company Name' : fortune_company_name,    \n",
        "        'Location': company_location,      \n",
        "        character_1 : character_1_list,\n",
        "        character_2 : character_2_list,\n",
        "        character_3 : character_3_list}\n",
        "\n",
        "df = pd.DataFrame(data)\n",
        "print(df.head())\n",
        "\n",
        "\n",
        "fig = px.scatter(df, x=character_1, y=character_2, text=\"Company Name\", size_max=1,color='Location', color_discrete_sequence= px.colors.qualitative.Alphabet)\n",
        "fig.update_traces(textposition='top center')\n",
        "fig.update_layout(title_text='Companies', title_x=0.5)\n",
        "fig.show()"
      ],
      "metadata": {
        "colab": {
          "base_uri": "https://localhost:8080/",
          "height": 767
        },
        "id": "YKTDyS_ck_Ed",
        "outputId": "c7bf8d18-dc8f-41bb-952f-a21253d961a0"
      },
      "execution_count": 8,
      "outputs": [
        {
          "output_type": "stream",
          "name": "stdout",
          "text": [
            "  Company Name Location  feminine-masculinity  private-public  \\\n",
            "0      Walmart      USA             -0.000883       -0.069315   \n",
            "1       Amazon      USA             -0.059732        0.233711   \n",
            "2        Apple      USA              0.018550       -0.003355   \n",
            "3   Volkswagen  Germany             -0.011157       -0.108954   \n",
            "4     McKesson      USA              0.071077        0.057184   \n",
            "\n",
            "   ethical-unethical  \n",
            "0          -0.300998  \n",
            "1          -0.242430  \n",
            "2          -0.129933  \n",
            "3          -0.095942  \n",
            "4           0.007880  \n"
          ]
        },
        {
          "output_type": "display_data",
          "data": {
            "text/html": [
              "<html>\n",
              "<head><meta charset=\"utf-8\" /></head>\n",
              "<body>\n",
              "    <div>            <script src=\"https://cdnjs.cloudflare.com/ajax/libs/mathjax/2.7.5/MathJax.js?config=TeX-AMS-MML_SVG\"></script><script type=\"text/javascript\">if (window.MathJax) {MathJax.Hub.Config({SVG: {font: \"STIX-Web\"}});}</script>                <script type=\"text/javascript\">window.PlotlyConfig = {MathJaxConfig: 'local'};</script>\n",
              "        <script src=\"https://cdn.plot.ly/plotly-2.8.3.min.js\"></script>                <div id=\"46f5c97d-0135-4218-bcca-131424e1d051\" class=\"plotly-graph-div\" style=\"height:525px; width:100%;\"></div>            <script type=\"text/javascript\">                                    window.PLOTLYENV=window.PLOTLYENV || {};                                    if (document.getElementById(\"46f5c97d-0135-4218-bcca-131424e1d051\")) {                    Plotly.newPlot(                        \"46f5c97d-0135-4218-bcca-131424e1d051\",                        [{\"hovertemplate\":\"Location=USA<br>feminine-masculinity=%{x}<br>private-public=%{y}<br>Company Name=%{text}<extra></extra>\",\"legendgroup\":\"USA\",\"marker\":{\"color\":\"#AA0DFE\",\"symbol\":\"circle\"},\"mode\":\"markers+text\",\"name\":\"USA\",\"orientation\":\"v\",\"showlegend\":true,\"text\":[\"Walmart\",\"Amazon\",\"Apple\",\"McKesson\",\"AmerisourceBergen\",\"Alphabet\",\"Exxon Mobil\",\"AT&T\",\"Cigna\",\"Microsoft\",\"Kroger\",\"Home Depot\",\"JPMorgan Chase\",\"General Motors\",\"Anthem\",\"Centene\",\"Fannie Mae\",\"Comcast\",\"Chevron\",\"Bank of America\",\"Target\",\"Citigroup\",\"Facebook\",\"Wells Fargo\",\"General Electric\",\"Intel\",\"Humana\",\"PepsiCo\",\"Albertsons\",\"FedEx\",\"MetLife\",\"Freddie Mac\",\"Walt Disney\",\"Boeing\",\"HP\",\"Sysco\",\"Morgan Stanley\",\"Merck\",\"Best Buy\",\"AbbVie\",\"Allstate\",\"Progressive\",\"Nationwide\",\"Pfizer\",\"Caterpillar\",\"TIAA\",\"Bunge\",\"Oracle\",\"Dow\",\"American Express\",\"Nike\",\"USAA\",\"Deere\",\"Exelon\",\"Coca-Cola\",\"3M\",\"TJX\",\"Travelers\",\"Tesla\",\"CHS\",\"Jabil\",\"Dollar Tree\",\"Amgen\",\"Netflix\",\"Synnex\",\"Rite Aid\"],\"x\":[-0.00088337954,-0.059731845,0.018550467,0.07107721,-0.20122787,-0.16373388,0.1434987,-0.021033151,0.20362094,0.121370666,0.06675096,-0.24835087,-0.12533768,0.21245326,-0.12820151,0.2383769,0.09403195,0.073329575,0.17920138,-0.3833367,-0.014164132,-0.08446753,0.025612988,-0.013211111,0.08888833,-0.069275156,0.13636687,0.3267546,0.10890608,-0.1186892,-0.034698028,0.06251386,-0.13934603,0.0425317,0.10813261,-0.0053156735,0.173992,-0.021504166,-0.09306511,-0.118778154,0.18929538,0.07230405,0.13876629,0.13753171,-0.013531826,-0.002222116,0.07316425,0.24284068,0.15805782,-0.20639388,-0.021738533,-0.08854038,-0.076166,0.012642771,0.11280299,0.16759226,0.04785415,0.019466456,-0.019407252,0.00043333345,0.12554799,0.04549159,0.13763726,-0.050239746,0.3184405,0.12025853],\"xaxis\":\"x\",\"y\":[-0.069315195,0.23371105,-0.0033553832,0.0571844,-0.0869478,-0.12235259,0.010052557,-0.12486993,0.08820979,-0.0050013345,-0.12329783,0.099646196,0.0923931,0.027091624,-0.23353037,-0.03903536,0.20377816,-0.024024198,-0.0052850908,-0.03729189,-0.120771304,0.16133234,0.02481465,0.2603069,0.08909222,0.27965936,-0.15100151,-0.030725244,-0.03452469,0.12992766,-0.040414263,0.042100813,0.021564761,0.12351317,0.11271016,0.02647215,0.344666,-0.1010247,0.035615124,-0.16068408,0.038157944,-0.10739374,-0.11110428,-0.030808643,-0.11438027,0.017794982,-0.005595371,0.14373936,-0.06376834,0.28425175,-0.14802626,0.073489845,0.19625008,-0.14075494,-0.06956179,0.1618904,0.18860891,-0.053817715,-0.19427708,-0.16316047,-0.14034109,0.17136022,-0.09740005,0.19972394,0.07229087,0.00023650286],\"yaxis\":\"y\",\"type\":\"scatter\",\"textposition\":\"top center\"},{\"hovertemplate\":\"Location=Germany<br>feminine-masculinity=%{x}<br>private-public=%{y}<br>Company Name=%{text}<extra></extra>\",\"legendgroup\":\"Germany\",\"marker\":{\"color\":\"#3283FE\",\"symbol\":\"circle\"},\"mode\":\"markers+text\",\"name\":\"Germany\",\"orientation\":\"v\",\"showlegend\":true,\"text\":[\"Volkswagen\",\"Daimler\",\"Allianz\",\"E.ON\",\"BASF\",\"Siemens\",\"Bayer\",\"Talanx\",\"Continental\",\"Fresenius\",\"ThyssenKrupp\",\"Deutsche Bank\",\"Metro\",\"SAP\"],\"x\":[-0.011157073,0.12301238,-0.04399134,-0.060343046,-0.07278448,-0.09172379,0.18305616,-0.012888347,-0.069644116,0.28573442,0.0037752253,-0.11581866,-0.19446257,0.062119406],\"xaxis\":\"x\",\"y\":[-0.10895444,0.112689465,0.093734585,0.032372173,-0.07781323,0.17235407,0.17647572,0.19511841,0.08666347,0.10295024,0.062479023,0.13078737,-0.36338642,0.07242806],\"yaxis\":\"y\",\"type\":\"scatter\",\"textposition\":\"top center\"},{\"hovertemplate\":\"Location=Britain<br>feminine-masculinity=%{x}<br>private-public=%{y}<br>Company Name=%{text}<extra></extra>\",\"legendgroup\":\"Britain\",\"marker\":{\"color\":\"#85660D\",\"symbol\":\"circle\"},\"mode\":\"markers+text\",\"name\":\"Britain\",\"orientation\":\"v\",\"showlegend\":true,\"text\":[\"BP\",\"Tesco\",\"Aviva\",\"Unilever\",\"Prudential\",\"GlaxoSmithKline\",\"Barclays\",\"Anglo American\",\"Linde\",\"Centrica\",\"AstraZeneca\"],\"x\":[0.0695179,0.013385613,0.2519458,0.10592971,0.08338517,0.01285315,-0.046796985,-0.034478296,0.2828546,-0.028495403,0.10331202],\"xaxis\":\"x\",\"y\":[0.07894758,0.0193758,0.071897574,-0.012432626,0.055029217,-0.1355031,-0.019459464,-0.034708485,-0.04595631,0.056417003,-0.10516229],\"yaxis\":\"y\",\"type\":\"scatter\",\"textposition\":\"top center\"},{\"hovertemplate\":\"Location=Switzerland<br>feminine-masculinity=%{x}<br>private-public=%{y}<br>Company Name=%{text}<extra></extra>\",\"legendgroup\":\"Switzerland\",\"marker\":{\"color\":\"#782AB6\",\"symbol\":\"circle\"},\"mode\":\"markers+text\",\"name\":\"Switzerland\",\"orientation\":\"v\",\"showlegend\":true,\"text\":[\"Glencore\",\"Nestl\\u00e9\",\"Novartis\",\"Chubb\",\"ABB\",\"Holcim\"],\"x\":[-0.11158677,0.25998163,0.26855132,-0.16105887,-0.11009545,-0.04160233],\"xaxis\":\"x\",\"y\":[0.024344513,-0.085824855,-0.122147195,-0.12191814,0.023681726,0.03324487],\"yaxis\":\"y\",\"type\":\"scatter\",\"textposition\":\"top center\"},{\"hovertemplate\":\"Location=France<br>feminine-masculinity=%{x}<br>private-public=%{y}<br>Company Name=%{text}<extra></extra>\",\"legendgroup\":\"France\",\"marker\":{\"color\":\"#565656\",\"symbol\":\"circle\"},\"mode\":\"markers+text\",\"name\":\"France\",\"orientation\":\"v\",\"showlegend\":true,\"text\":[\"AXA\",\"Carrefour\",\"Engie\",\"Vinci\",\"Renault\",\"Orange\",\"Saint-Gobain\",\"Sanofi\",\"Bouygues\",\"L'Or\\u00e9al\",\"Danone\"],\"x\":[-0.07045799,0.16411515,-0.29582113,0.07225065,0.13129725,-0.12229949,0.07326116,0.41183883,-0.13734667,0.15660428,0.31355584],\"xaxis\":\"x\",\"y\":[0.23096105,0.07963333,0.10534198,0.15784755,0.11916749,-0.1648478,-0.06256164,-0.020202128,0.16397327,-0.047727678,0.077252954],\"yaxis\":\"y\",\"type\":\"scatter\",\"textposition\":\"top center\"},{\"hovertemplate\":\"Location=Japan<br>feminine-masculinity=%{x}<br>private-public=%{y}<br>Company Name=%{text}<extra></extra>\",\"legendgroup\":\"Japan\",\"marker\":{\"color\":\"#1C8356\",\"symbol\":\"circle\"},\"mode\":\"markers+text\",\"name\":\"Japan\",\"orientation\":\"v\",\"showlegend\":true,\"text\":[\"Mitsubishi\",\"Itochu\",\"Sony\",\"Hitachi\",\"AEON\",\"Mitsui\",\"Panasonic\",\"Marubeni\",\"KDDI\",\"Denso\",\"Sumitomo\",\"Fujitsu\",\"Aisin\",\"Canon\",\"Toshiba\",\"NEC\",\"Bridgestone\",\"Subaru\"],\"x\":[-0.03324607,-0.11649244,-0.13665171,0.07513444,0.11395664,-0.4348482,-0.051062476,-0.32750845,0.17009534,-0.12913527,-0.1384047,0.19313651,-0.061780054,-0.14542967,0.11472068,0.18250348,-0.20323558,-0.1584321],\"xaxis\":\"x\",\"y\":[-0.08736374,-0.18093508,-0.036417905,0.17833818,-0.27361873,-0.07922698,-0.011810594,-0.093782686,-0.066497326,0.03568766,-0.16500914,0.17146766,-0.00849954,-0.14299151,0.12332408,-0.09485954,-0.2744465,-0.2111268],\"yaxis\":\"y\",\"type\":\"scatter\",\"textposition\":\"top center\"},{\"hovertemplate\":\"Location=Russia<br>feminine-masculinity=%{x}<br>private-public=%{y}<br>Company Name=%{text}<extra></extra>\",\"legendgroup\":\"Russia\",\"marker\":{\"color\":\"#16FF32\",\"symbol\":\"circle\"},\"mode\":\"markers+text\",\"name\":\"Russia\",\"orientation\":\"v\",\"showlegend\":true,\"text\":[\"Gazprom\",\"Lukoil\",\"Sberbank\"],\"x\":[-0.014086691,-0.056176174,-0.21648456],\"xaxis\":\"x\",\"y\":[0.010766191,0.053830482,-0.06312755],\"yaxis\":\"y\",\"type\":\"scatter\",\"textposition\":\"top center\"},{\"hovertemplate\":\"Location=China<br>feminine-masculinity=%{x}<br>private-public=%{y}<br>Company Name=%{text}<extra></extra>\",\"legendgroup\":\"China\",\"marker\":{\"color\":\"#F7E1A0\",\"symbol\":\"circle\"},\"mode\":\"markers+text\",\"name\":\"China\",\"orientation\":\"v\",\"showlegend\":true,\"text\":[\"Sinopharm\",\"COFCO\",\"Sinochem\",\"Xiaomi\"],\"x\":[0.13884446,0.0062296516,-0.071180835,-0.051229473],\"xaxis\":\"x\",\"y\":[0.108119406,0.1170513,0.09070621,0.07926501],\"yaxis\":\"y\",\"type\":\"scatter\",\"textposition\":\"top center\"},{\"hovertemplate\":\"Location=Italy<br>feminine-masculinity=%{x}<br>private-public=%{y}<br>Company Name=%{text}<extra></extra>\",\"legendgroup\":\"Italy\",\"marker\":{\"color\":\"#E2E2E2\",\"symbol\":\"circle\"},\"mode\":\"markers+text\",\"name\":\"Italy\",\"orientation\":\"v\",\"showlegend\":true,\"text\":[\"Enel\",\"ENI\"],\"x\":[-0.20787796,-0.08757121],\"xaxis\":\"x\",\"y\":[0.113470174,0.025295459],\"yaxis\":\"y\",\"type\":\"scatter\",\"textposition\":\"top center\"},{\"hovertemplate\":\"Location=South Korea<br>feminine-masculinity=%{x}<br>private-public=%{y}<br>Company Name=%{text}<extra></extra>\",\"legendgroup\":\"South Korea\",\"marker\":{\"color\":\"#1CBE4F\",\"symbol\":\"circle\"},\"mode\":\"markers+text\",\"name\":\"South Korea\",\"orientation\":\"v\",\"showlegend\":true,\"text\":[\"SK\",\"Kia\",\"POSCO\",\"Hanwha\"],\"x\":[0.031792786,-0.066856,0.043588057,-0.0075029093],\"xaxis\":\"x\",\"y\":[-0.19036287,-0.113441914,-0.10717958,0.0074015707],\"yaxis\":\"y\",\"type\":\"scatter\",\"textposition\":\"top center\"},{\"hovertemplate\":\"Location=Netherlands<br>feminine-masculinity=%{x}<br>private-public=%{y}<br>Company Name=%{text}<extra></extra>\",\"legendgroup\":\"Netherlands\",\"marker\":{\"color\":\"#C4451C\",\"symbol\":\"circle\"},\"mode\":\"markers+text\",\"name\":\"Netherlands\",\"orientation\":\"v\",\"showlegend\":true,\"text\":[\"Aegon\",\"Airbus\",\"Achmea\"],\"x\":[0.041284434,0.02997076,-0.040158965],\"xaxis\":\"x\",\"y\":[0.03790391,0.28788826,-0.08535446],\"yaxis\":\"y\",\"type\":\"scatter\",\"textposition\":\"top center\"},{\"hovertemplate\":\"Location=Brazil<br>feminine-masculinity=%{x}<br>private-public=%{y}<br>Company Name=%{text}<extra></extra>\",\"legendgroup\":\"Brazil\",\"marker\":{\"color\":\"#DEA0FD\",\"symbol\":\"circle\"},\"mode\":\"markers+text\",\"name\":\"Brazil\",\"orientation\":\"v\",\"showlegend\":true,\"text\":[\"Petrobras\",\"JBS\",\"Vale\"],\"x\":[0.087699085,-0.09458454,-0.06701962],\"xaxis\":\"x\",\"y\":[0.12139324,-0.12870884,-4.4134416e-05],\"yaxis\":\"y\",\"type\":\"scatter\",\"textposition\":\"top center\"},{\"hovertemplate\":\"Location=Finland<br>feminine-masculinity=%{x}<br>private-public=%{y}<br>Company Name=%{text}<extra></extra>\",\"legendgroup\":\"Finland\",\"marker\":{\"color\":\"#FE00FA\",\"symbol\":\"circle\"},\"mode\":\"markers+text\",\"name\":\"Finland\",\"orientation\":\"v\",\"showlegend\":true,\"text\":[\"Fortum\",\"Nokia\"],\"x\":[-0.03479807,-0.25394526],\"xaxis\":\"x\",\"y\":[-0.048244193,-0.11516286],\"yaxis\":\"y\",\"type\":\"scatter\",\"textposition\":\"top center\"},{\"hovertemplate\":\"Location=Luxembourg<br>feminine-masculinity=%{x}<br>private-public=%{y}<br>Company Name=%{text}<extra></extra>\",\"legendgroup\":\"Luxembourg\",\"marker\":{\"color\":\"#325A9B\",\"symbol\":\"circle\"},\"mode\":\"markers+text\",\"name\":\"Luxembourg\",\"orientation\":\"v\",\"showlegend\":true,\"text\":[\"ArcelorMittal\"],\"x\":[-0.009118432],\"xaxis\":\"x\",\"y\":[-0.12538242],\"yaxis\":\"y\",\"type\":\"scatter\",\"textposition\":\"top center\"},{\"hovertemplate\":\"Location=Thailand<br>feminine-masculinity=%{x}<br>private-public=%{y}<br>Company Name=%{text}<extra></extra>\",\"legendgroup\":\"Thailand\",\"marker\":{\"color\":\"#FEAF16\",\"symbol\":\"circle\"},\"mode\":\"markers+text\",\"name\":\"Thailand\",\"orientation\":\"v\",\"showlegend\":true,\"text\":[\"PTT\"],\"x\":[-0.10363392],\"xaxis\":\"x\",\"y\":[-0.2193092],\"yaxis\":\"y\",\"type\":\"scatter\",\"textposition\":\"top center\"},{\"hovertemplate\":\"Location=India<br>feminine-masculinity=%{x}<br>private-public=%{y}<br>Company Name=%{text}<extra></extra>\",\"legendgroup\":\"India\",\"marker\":{\"color\":\"#F8A19F\",\"symbol\":\"circle\"},\"mode\":\"markers+text\",\"name\":\"India\",\"orientation\":\"v\",\"showlegend\":true,\"text\":[\"Indian Oil\",\"Tata Motors\"],\"x\":[-0.09432564,-0.06586269],\"xaxis\":\"x\",\"y\":[-0.05153005,0.06482653],\"yaxis\":\"y\",\"type\":\"scatter\",\"textposition\":\"top center\"},{\"hovertemplate\":\"Location=Spain<br>feminine-masculinity=%{x}<br>private-public=%{y}<br>Company Name=%{text}<extra></extra>\",\"legendgroup\":\"Spain\",\"marker\":{\"color\":\"#90AD1C\",\"symbol\":\"circle\"},\"mode\":\"markers+text\",\"name\":\"Spain\",\"orientation\":\"v\",\"showlegend\":true,\"text\":[\"Telef\\u00f3nica\",\"ACS\",\"Iberdrola\",\"Repsol\"],\"x\":[-0.26599887,-0.11800364,0.05573076,-0.025442284],\"xaxis\":\"x\",\"y\":[0.19509248,-0.11465756,-0.012062793,0.07605123],\"yaxis\":\"y\",\"type\":\"scatter\",\"textposition\":\"top center\"},{\"hovertemplate\":\"Location=Taiwan<br>feminine-masculinity=%{x}<br>private-public=%{y}<br>Company Name=%{text}<extra></extra>\",\"legendgroup\":\"Taiwan\",\"marker\":{\"color\":\"#F6222E\",\"symbol\":\"circle\"},\"mode\":\"markers+text\",\"name\":\"Taiwan\",\"orientation\":\"v\",\"showlegend\":true,\"text\":[\"Pegatron\",\"Wistron\"],\"x\":[0.124631524,0.30620867],\"xaxis\":\"x\",\"y\":[0.31107363,0.23731612],\"yaxis\":\"y\",\"type\":\"scatter\",\"textposition\":\"top center\"},{\"hovertemplate\":\"Location=Mexico<br>feminine-masculinity=%{x}<br>private-public=%{y}<br>Company Name=%{text}<extra></extra>\",\"legendgroup\":\"Mexico\",\"marker\":{\"color\":\"#1CFFCE\",\"symbol\":\"circle\"},\"mode\":\"markers+text\",\"name\":\"Mexico\",\"orientation\":\"v\",\"showlegend\":true,\"text\":[\"Pemex\"],\"x\":[-0.20647426],\"xaxis\":\"x\",\"y\":[-0.08195076],\"yaxis\":\"y\",\"type\":\"scatter\",\"textposition\":\"top center\"},{\"hovertemplate\":\"Location=Ireland<br>feminine-masculinity=%{x}<br>private-public=%{y}<br>Company Name=%{text}<extra></extra>\",\"legendgroup\":\"Ireland\",\"marker\":{\"color\":\"#2ED9FF\",\"symbol\":\"circle\"},\"mode\":\"markers+text\",\"name\":\"Ireland\",\"orientation\":\"v\",\"showlegend\":true,\"text\":[\"Accenture\",\"Medtronic\",\"CRH\"],\"x\":[0.0046220794,0.34900227,-0.07207186],\"xaxis\":\"x\",\"y\":[0.07140419,-0.015580306,0.05244132],\"yaxis\":\"y\",\"type\":\"scatter\",\"textposition\":\"top center\"},{\"hovertemplate\":\"Location=Malaysia<br>feminine-masculinity=%{x}<br>private-public=%{y}<br>Company Name=%{text}<extra></extra>\",\"legendgroup\":\"Malaysia\",\"marker\":{\"color\":\"#B10DA1\",\"symbol\":\"circle\"},\"mode\":\"markers+text\",\"name\":\"Malaysia\",\"orientation\":\"v\",\"showlegend\":true,\"text\":[\"Petronas\"],\"x\":[-0.15647776],\"xaxis\":\"x\",\"y\":[-0.17393295],\"yaxis\":\"y\",\"type\":\"scatter\",\"textposition\":\"top center\"},{\"hovertemplate\":\"Location=Indonesia<br>feminine-masculinity=%{x}<br>private-public=%{y}<br>Company Name=%{text}<extra></extra>\",\"legendgroup\":\"Indonesia\",\"marker\":{\"color\":\"#C075A6\",\"symbol\":\"circle\"},\"mode\":\"markers+text\",\"name\":\"Indonesia\",\"orientation\":\"v\",\"showlegend\":true,\"text\":[\"Pertamina\"],\"x\":[-0.22867094],\"xaxis\":\"x\",\"y\":[0.0013926479],\"yaxis\":\"y\",\"type\":\"scatter\",\"textposition\":\"top center\"},{\"hovertemplate\":\"Location=Sweden<br>feminine-masculinity=%{x}<br>private-public=%{y}<br>Company Name=%{text}<extra></extra>\",\"legendgroup\":\"Sweden\",\"marker\":{\"color\":\"#FC1CBF\",\"symbol\":\"circle\"},\"mode\":\"markers+text\",\"name\":\"Sweden\",\"orientation\":\"v\",\"showlegend\":true,\"text\":[\"Volvo\",\"Ericsson\"],\"x\":[-0.024219053,-0.05151607],\"xaxis\":\"x\",\"y\":[-0.004472915,-0.039145056],\"yaxis\":\"y\",\"type\":\"scatter\",\"textposition\":\"top center\"},{\"hovertemplate\":\"Location=Canada<br>feminine-masculinity=%{x}<br>private-public=%{y}<br>Company Name=%{text}<extra></extra>\",\"legendgroup\":\"Canada\",\"marker\":{\"color\":\"#B00068\",\"symbol\":\"circle\"},\"mode\":\"markers+text\",\"name\":\"Canada\",\"orientation\":\"v\",\"showlegend\":true,\"text\":[\"Enbridge\"],\"x\":[0.0139842555],\"xaxis\":\"x\",\"y\":[0.011217093],\"yaxis\":\"y\",\"type\":\"scatter\",\"textposition\":\"top center\"},{\"hovertemplate\":\"Location=Singapore<br>feminine-masculinity=%{x}<br>private-public=%{y}<br>Company Name=%{text}<extra></extra>\",\"legendgroup\":\"Singapore\",\"marker\":{\"color\":\"#FBE426\",\"symbol\":\"circle\"},\"mode\":\"markers+text\",\"name\":\"Singapore\",\"orientation\":\"v\",\"showlegend\":true,\"text\":[\"Flex\"],\"x\":[-0.15843289],\"xaxis\":\"x\",\"y\":[-0.17351435],\"yaxis\":\"y\",\"type\":\"scatter\",\"textposition\":\"top center\"}],                        {\"template\":{\"data\":{\"bar\":[{\"error_x\":{\"color\":\"#2a3f5f\"},\"error_y\":{\"color\":\"#2a3f5f\"},\"marker\":{\"line\":{\"color\":\"#E5ECF6\",\"width\":0.5},\"pattern\":{\"fillmode\":\"overlay\",\"size\":10,\"solidity\":0.2}},\"type\":\"bar\"}],\"barpolar\":[{\"marker\":{\"line\":{\"color\":\"#E5ECF6\",\"width\":0.5},\"pattern\":{\"fillmode\":\"overlay\",\"size\":10,\"solidity\":0.2}},\"type\":\"barpolar\"}],\"carpet\":[{\"aaxis\":{\"endlinecolor\":\"#2a3f5f\",\"gridcolor\":\"white\",\"linecolor\":\"white\",\"minorgridcolor\":\"white\",\"startlinecolor\":\"#2a3f5f\"},\"baxis\":{\"endlinecolor\":\"#2a3f5f\",\"gridcolor\":\"white\",\"linecolor\":\"white\",\"minorgridcolor\":\"white\",\"startlinecolor\":\"#2a3f5f\"},\"type\":\"carpet\"}],\"choropleth\":[{\"colorbar\":{\"outlinewidth\":0,\"ticks\":\"\"},\"type\":\"choropleth\"}],\"contour\":[{\"colorbar\":{\"outlinewidth\":0,\"ticks\":\"\"},\"colorscale\":[[0.0,\"#0d0887\"],[0.1111111111111111,\"#46039f\"],[0.2222222222222222,\"#7201a8\"],[0.3333333333333333,\"#9c179e\"],[0.4444444444444444,\"#bd3786\"],[0.5555555555555556,\"#d8576b\"],[0.6666666666666666,\"#ed7953\"],[0.7777777777777778,\"#fb9f3a\"],[0.8888888888888888,\"#fdca26\"],[1.0,\"#f0f921\"]],\"type\":\"contour\"}],\"contourcarpet\":[{\"colorbar\":{\"outlinewidth\":0,\"ticks\":\"\"},\"type\":\"contourcarpet\"}],\"heatmap\":[{\"colorbar\":{\"outlinewidth\":0,\"ticks\":\"\"},\"colorscale\":[[0.0,\"#0d0887\"],[0.1111111111111111,\"#46039f\"],[0.2222222222222222,\"#7201a8\"],[0.3333333333333333,\"#9c179e\"],[0.4444444444444444,\"#bd3786\"],[0.5555555555555556,\"#d8576b\"],[0.6666666666666666,\"#ed7953\"],[0.7777777777777778,\"#fb9f3a\"],[0.8888888888888888,\"#fdca26\"],[1.0,\"#f0f921\"]],\"type\":\"heatmap\"}],\"heatmapgl\":[{\"colorbar\":{\"outlinewidth\":0,\"ticks\":\"\"},\"colorscale\":[[0.0,\"#0d0887\"],[0.1111111111111111,\"#46039f\"],[0.2222222222222222,\"#7201a8\"],[0.3333333333333333,\"#9c179e\"],[0.4444444444444444,\"#bd3786\"],[0.5555555555555556,\"#d8576b\"],[0.6666666666666666,\"#ed7953\"],[0.7777777777777778,\"#fb9f3a\"],[0.8888888888888888,\"#fdca26\"],[1.0,\"#f0f921\"]],\"type\":\"heatmapgl\"}],\"histogram\":[{\"marker\":{\"pattern\":{\"fillmode\":\"overlay\",\"size\":10,\"solidity\":0.2}},\"type\":\"histogram\"}],\"histogram2d\":[{\"colorbar\":{\"outlinewidth\":0,\"ticks\":\"\"},\"colorscale\":[[0.0,\"#0d0887\"],[0.1111111111111111,\"#46039f\"],[0.2222222222222222,\"#7201a8\"],[0.3333333333333333,\"#9c179e\"],[0.4444444444444444,\"#bd3786\"],[0.5555555555555556,\"#d8576b\"],[0.6666666666666666,\"#ed7953\"],[0.7777777777777778,\"#fb9f3a\"],[0.8888888888888888,\"#fdca26\"],[1.0,\"#f0f921\"]],\"type\":\"histogram2d\"}],\"histogram2dcontour\":[{\"colorbar\":{\"outlinewidth\":0,\"ticks\":\"\"},\"colorscale\":[[0.0,\"#0d0887\"],[0.1111111111111111,\"#46039f\"],[0.2222222222222222,\"#7201a8\"],[0.3333333333333333,\"#9c179e\"],[0.4444444444444444,\"#bd3786\"],[0.5555555555555556,\"#d8576b\"],[0.6666666666666666,\"#ed7953\"],[0.7777777777777778,\"#fb9f3a\"],[0.8888888888888888,\"#fdca26\"],[1.0,\"#f0f921\"]],\"type\":\"histogram2dcontour\"}],\"mesh3d\":[{\"colorbar\":{\"outlinewidth\":0,\"ticks\":\"\"},\"type\":\"mesh3d\"}],\"parcoords\":[{\"line\":{\"colorbar\":{\"outlinewidth\":0,\"ticks\":\"\"}},\"type\":\"parcoords\"}],\"pie\":[{\"automargin\":true,\"type\":\"pie\"}],\"scatter\":[{\"marker\":{\"colorbar\":{\"outlinewidth\":0,\"ticks\":\"\"}},\"type\":\"scatter\"}],\"scatter3d\":[{\"line\":{\"colorbar\":{\"outlinewidth\":0,\"ticks\":\"\"}},\"marker\":{\"colorbar\":{\"outlinewidth\":0,\"ticks\":\"\"}},\"type\":\"scatter3d\"}],\"scattercarpet\":[{\"marker\":{\"colorbar\":{\"outlinewidth\":0,\"ticks\":\"\"}},\"type\":\"scattercarpet\"}],\"scattergeo\":[{\"marker\":{\"colorbar\":{\"outlinewidth\":0,\"ticks\":\"\"}},\"type\":\"scattergeo\"}],\"scattergl\":[{\"marker\":{\"colorbar\":{\"outlinewidth\":0,\"ticks\":\"\"}},\"type\":\"scattergl\"}],\"scattermapbox\":[{\"marker\":{\"colorbar\":{\"outlinewidth\":0,\"ticks\":\"\"}},\"type\":\"scattermapbox\"}],\"scatterpolar\":[{\"marker\":{\"colorbar\":{\"outlinewidth\":0,\"ticks\":\"\"}},\"type\":\"scatterpolar\"}],\"scatterpolargl\":[{\"marker\":{\"colorbar\":{\"outlinewidth\":0,\"ticks\":\"\"}},\"type\":\"scatterpolargl\"}],\"scatterternary\":[{\"marker\":{\"colorbar\":{\"outlinewidth\":0,\"ticks\":\"\"}},\"type\":\"scatterternary\"}],\"surface\":[{\"colorbar\":{\"outlinewidth\":0,\"ticks\":\"\"},\"colorscale\":[[0.0,\"#0d0887\"],[0.1111111111111111,\"#46039f\"],[0.2222222222222222,\"#7201a8\"],[0.3333333333333333,\"#9c179e\"],[0.4444444444444444,\"#bd3786\"],[0.5555555555555556,\"#d8576b\"],[0.6666666666666666,\"#ed7953\"],[0.7777777777777778,\"#fb9f3a\"],[0.8888888888888888,\"#fdca26\"],[1.0,\"#f0f921\"]],\"type\":\"surface\"}],\"table\":[{\"cells\":{\"fill\":{\"color\":\"#EBF0F8\"},\"line\":{\"color\":\"white\"}},\"header\":{\"fill\":{\"color\":\"#C8D4E3\"},\"line\":{\"color\":\"white\"}},\"type\":\"table\"}]},\"layout\":{\"annotationdefaults\":{\"arrowcolor\":\"#2a3f5f\",\"arrowhead\":0,\"arrowwidth\":1},\"autotypenumbers\":\"strict\",\"coloraxis\":{\"colorbar\":{\"outlinewidth\":0,\"ticks\":\"\"}},\"colorscale\":{\"diverging\":[[0,\"#8e0152\"],[0.1,\"#c51b7d\"],[0.2,\"#de77ae\"],[0.3,\"#f1b6da\"],[0.4,\"#fde0ef\"],[0.5,\"#f7f7f7\"],[0.6,\"#e6f5d0\"],[0.7,\"#b8e186\"],[0.8,\"#7fbc41\"],[0.9,\"#4d9221\"],[1,\"#276419\"]],\"sequential\":[[0.0,\"#0d0887\"],[0.1111111111111111,\"#46039f\"],[0.2222222222222222,\"#7201a8\"],[0.3333333333333333,\"#9c179e\"],[0.4444444444444444,\"#bd3786\"],[0.5555555555555556,\"#d8576b\"],[0.6666666666666666,\"#ed7953\"],[0.7777777777777778,\"#fb9f3a\"],[0.8888888888888888,\"#fdca26\"],[1.0,\"#f0f921\"]],\"sequentialminus\":[[0.0,\"#0d0887\"],[0.1111111111111111,\"#46039f\"],[0.2222222222222222,\"#7201a8\"],[0.3333333333333333,\"#9c179e\"],[0.4444444444444444,\"#bd3786\"],[0.5555555555555556,\"#d8576b\"],[0.6666666666666666,\"#ed7953\"],[0.7777777777777778,\"#fb9f3a\"],[0.8888888888888888,\"#fdca26\"],[1.0,\"#f0f921\"]]},\"colorway\":[\"#636efa\",\"#EF553B\",\"#00cc96\",\"#ab63fa\",\"#FFA15A\",\"#19d3f3\",\"#FF6692\",\"#B6E880\",\"#FF97FF\",\"#FECB52\"],\"font\":{\"color\":\"#2a3f5f\"},\"geo\":{\"bgcolor\":\"white\",\"lakecolor\":\"white\",\"landcolor\":\"#E5ECF6\",\"showlakes\":true,\"showland\":true,\"subunitcolor\":\"white\"},\"hoverlabel\":{\"align\":\"left\"},\"hovermode\":\"closest\",\"mapbox\":{\"style\":\"light\"},\"paper_bgcolor\":\"white\",\"plot_bgcolor\":\"#E5ECF6\",\"polar\":{\"angularaxis\":{\"gridcolor\":\"white\",\"linecolor\":\"white\",\"ticks\":\"\"},\"bgcolor\":\"#E5ECF6\",\"radialaxis\":{\"gridcolor\":\"white\",\"linecolor\":\"white\",\"ticks\":\"\"}},\"scene\":{\"xaxis\":{\"backgroundcolor\":\"#E5ECF6\",\"gridcolor\":\"white\",\"gridwidth\":2,\"linecolor\":\"white\",\"showbackground\":true,\"ticks\":\"\",\"zerolinecolor\":\"white\"},\"yaxis\":{\"backgroundcolor\":\"#E5ECF6\",\"gridcolor\":\"white\",\"gridwidth\":2,\"linecolor\":\"white\",\"showbackground\":true,\"ticks\":\"\",\"zerolinecolor\":\"white\"},\"zaxis\":{\"backgroundcolor\":\"#E5ECF6\",\"gridcolor\":\"white\",\"gridwidth\":2,\"linecolor\":\"white\",\"showbackground\":true,\"ticks\":\"\",\"zerolinecolor\":\"white\"}},\"shapedefaults\":{\"line\":{\"color\":\"#2a3f5f\"}},\"ternary\":{\"aaxis\":{\"gridcolor\":\"white\",\"linecolor\":\"white\",\"ticks\":\"\"},\"baxis\":{\"gridcolor\":\"white\",\"linecolor\":\"white\",\"ticks\":\"\"},\"bgcolor\":\"#E5ECF6\",\"caxis\":{\"gridcolor\":\"white\",\"linecolor\":\"white\",\"ticks\":\"\"}},\"title\":{\"x\":0.05},\"xaxis\":{\"automargin\":true,\"gridcolor\":\"white\",\"linecolor\":\"white\",\"ticks\":\"\",\"title\":{\"standoff\":15},\"zerolinecolor\":\"white\",\"zerolinewidth\":2},\"yaxis\":{\"automargin\":true,\"gridcolor\":\"white\",\"linecolor\":\"white\",\"ticks\":\"\",\"title\":{\"standoff\":15},\"zerolinecolor\":\"white\",\"zerolinewidth\":2}}},\"xaxis\":{\"anchor\":\"y\",\"domain\":[0.0,1.0],\"title\":{\"text\":\"feminine-masculinity\"}},\"yaxis\":{\"anchor\":\"x\",\"domain\":[0.0,1.0],\"title\":{\"text\":\"private-public\"}},\"legend\":{\"title\":{\"text\":\"Location\"},\"tracegroupgap\":0},\"margin\":{\"t\":60},\"title\":{\"text\":\"Companies\",\"x\":0.5}},                        {\"responsive\": true}                    ).then(function(){\n",
              "                            \n",
              "var gd = document.getElementById('46f5c97d-0135-4218-bcca-131424e1d051');\n",
              "var x = new MutationObserver(function (mutations, observer) {{\n",
              "        var display = window.getComputedStyle(gd).display;\n",
              "        if (!display || display === 'none') {{\n",
              "            console.log([gd, 'removed!']);\n",
              "            Plotly.purge(gd);\n",
              "            observer.disconnect();\n",
              "        }}\n",
              "}});\n",
              "\n",
              "// Listen for the removal of the full notebook cells\n",
              "var notebookContainer = gd.closest('#notebook-container');\n",
              "if (notebookContainer) {{\n",
              "    x.observe(notebookContainer, {childList: true});\n",
              "}}\n",
              "\n",
              "// Listen for the clearing of the current output cell\n",
              "var outputEl = gd.closest('.output');\n",
              "if (outputEl) {{\n",
              "    x.observe(outputEl, {childList: true});\n",
              "}}\n",
              "\n",
              "                        })                };                            </script>        </div>\n",
              "</body>\n",
              "</html>"
            ]
          },
          "metadata": {}
        }
      ]
    },
    {
      "cell_type": "code",
      "source": [
        "fig = px.scatter_3d(df, x=character_1, y=character_2, z=character_3, text=\"Company Name\", size_max=1,color='Location', color_discrete_sequence= px.colors.qualitative.Alphabet)\n",
        "fig.update_traces(textposition='top center')\n",
        "fig.update_layout(title_text='Companies', title_x=0.5)\n",
        "fig.show()"
      ],
      "metadata": {
        "colab": {
          "base_uri": "https://localhost:8080/",
          "height": 542
        },
        "id": "r3CrwxzrRovG",
        "outputId": "0a8286f2-d688-43aa-af03-470a4e95f339"
      },
      "execution_count": 9,
      "outputs": [
        {
          "output_type": "display_data",
          "data": {
            "text/html": [
              "<html>\n",
              "<head><meta charset=\"utf-8\" /></head>\n",
              "<body>\n",
              "    <div>            <script src=\"https://cdnjs.cloudflare.com/ajax/libs/mathjax/2.7.5/MathJax.js?config=TeX-AMS-MML_SVG\"></script><script type=\"text/javascript\">if (window.MathJax) {MathJax.Hub.Config({SVG: {font: \"STIX-Web\"}});}</script>                <script type=\"text/javascript\">window.PlotlyConfig = {MathJaxConfig: 'local'};</script>\n",
              "        <script src=\"https://cdn.plot.ly/plotly-2.8.3.min.js\"></script>                <div id=\"883eaa33-3bf6-42a1-b7d3-d77bcd10539b\" class=\"plotly-graph-div\" style=\"height:525px; width:100%;\"></div>            <script type=\"text/javascript\">                                    window.PLOTLYENV=window.PLOTLYENV || {};                                    if (document.getElementById(\"883eaa33-3bf6-42a1-b7d3-d77bcd10539b\")) {                    Plotly.newPlot(                        \"883eaa33-3bf6-42a1-b7d3-d77bcd10539b\",                        [{\"hovertemplate\":\"Location=USA<br>feminine-masculinity=%{x}<br>private-public=%{y}<br>ethical-unethical=%{z}<br>Company Name=%{text}<extra></extra>\",\"legendgroup\":\"USA\",\"marker\":{\"color\":\"#AA0DFE\",\"symbol\":\"circle\"},\"mode\":\"markers+text\",\"name\":\"USA\",\"scene\":\"scene\",\"showlegend\":true,\"text\":[\"Walmart\",\"Amazon\",\"Apple\",\"McKesson\",\"AmerisourceBergen\",\"Alphabet\",\"Exxon Mobil\",\"AT&T\",\"Cigna\",\"Microsoft\",\"Kroger\",\"Home Depot\",\"JPMorgan Chase\",\"General Motors\",\"Anthem\",\"Centene\",\"Fannie Mae\",\"Comcast\",\"Chevron\",\"Bank of America\",\"Target\",\"Citigroup\",\"Facebook\",\"Wells Fargo\",\"General Electric\",\"Intel\",\"Humana\",\"PepsiCo\",\"Albertsons\",\"FedEx\",\"MetLife\",\"Freddie Mac\",\"Walt Disney\",\"Boeing\",\"HP\",\"Sysco\",\"Morgan Stanley\",\"Merck\",\"Best Buy\",\"AbbVie\",\"Allstate\",\"Progressive\",\"Nationwide\",\"Pfizer\",\"Caterpillar\",\"TIAA\",\"Bunge\",\"Oracle\",\"Dow\",\"American Express\",\"Nike\",\"USAA\",\"Deere\",\"Exelon\",\"Coca-Cola\",\"3M\",\"TJX\",\"Travelers\",\"Tesla\",\"CHS\",\"Jabil\",\"Dollar Tree\",\"Amgen\",\"Netflix\",\"Synnex\",\"Rite Aid\"],\"x\":[-0.00088337954,-0.059731845,0.018550467,0.07107721,-0.20122787,-0.16373388,0.1434987,-0.021033151,0.20362094,0.121370666,0.06675096,-0.24835087,-0.12533768,0.21245326,-0.12820151,0.2383769,0.09403195,0.073329575,0.17920138,-0.3833367,-0.014164132,-0.08446753,0.025612988,-0.013211111,0.08888833,-0.069275156,0.13636687,0.3267546,0.10890608,-0.1186892,-0.034698028,0.06251386,-0.13934603,0.0425317,0.10813261,-0.0053156735,0.173992,-0.021504166,-0.09306511,-0.118778154,0.18929538,0.07230405,0.13876629,0.13753171,-0.013531826,-0.002222116,0.07316425,0.24284068,0.15805782,-0.20639388,-0.021738533,-0.08854038,-0.076166,0.012642771,0.11280299,0.16759226,0.04785415,0.019466456,-0.019407252,0.00043333345,0.12554799,0.04549159,0.13763726,-0.050239746,0.3184405,0.12025853],\"y\":[-0.069315195,0.23371105,-0.0033553832,0.0571844,-0.0869478,-0.12235259,0.010052557,-0.12486993,0.08820979,-0.0050013345,-0.12329783,0.099646196,0.0923931,0.027091624,-0.23353037,-0.03903536,0.20377816,-0.024024198,-0.0052850908,-0.03729189,-0.120771304,0.16133234,0.02481465,0.2603069,0.08909222,0.27965936,-0.15100151,-0.030725244,-0.03452469,0.12992766,-0.040414263,0.042100813,0.021564761,0.12351317,0.11271016,0.02647215,0.344666,-0.1010247,0.035615124,-0.16068408,0.038157944,-0.10739374,-0.11110428,-0.030808643,-0.11438027,0.017794982,-0.005595371,0.14373936,-0.06376834,0.28425175,-0.14802626,0.073489845,0.19625008,-0.14075494,-0.06956179,0.1618904,0.18860891,-0.053817715,-0.19427708,-0.16316047,-0.14034109,0.17136022,-0.09740005,0.19972394,0.07229087,0.00023650286],\"z\":[-0.30099824,-0.24242963,-0.12993264,0.007879809,0.18131715,0.214639,0.14649433,-0.2026586,-0.0007179139,-0.07587858,-0.06453641,-0.2214966,0.01135053,0.2028902,-0.23638138,-0.088589676,0.12641612,-0.11841329,0.043097667,-0.038407467,-0.22629169,-0.03554155,-0.109205924,-0.21051097,0.20386642,-0.08361024,-0.07275826,-0.15505274,-0.04724386,-0.15987086,-0.1375186,0.09335513,-0.09173406,-0.03733583,-0.09735138,-0.089557156,-0.07617312,-0.0048658345,-0.25328663,0.033578727,-0.09832143,0.02351755,0.04901919,-0.04655845,-0.15209235,-0.15329017,-0.13815339,-0.03232096,0.17086755,0.026810337,-0.07967791,-0.3100433,-0.20271093,0.08590743,-0.05176525,-0.11655543,-0.10885639,-0.17473713,-0.13975981,-0.1996464,-0.053810913,-0.108831264,-0.17824256,-0.01694023,-0.0913105,-0.070540205],\"type\":\"scatter3d\",\"textposition\":\"top center\"},{\"hovertemplate\":\"Location=Germany<br>feminine-masculinity=%{x}<br>private-public=%{y}<br>ethical-unethical=%{z}<br>Company Name=%{text}<extra></extra>\",\"legendgroup\":\"Germany\",\"marker\":{\"color\":\"#3283FE\",\"symbol\":\"circle\"},\"mode\":\"markers+text\",\"name\":\"Germany\",\"scene\":\"scene\",\"showlegend\":true,\"text\":[\"Volkswagen\",\"Daimler\",\"Allianz\",\"E.ON\",\"BASF\",\"Siemens\",\"Bayer\",\"Talanx\",\"Continental\",\"Fresenius\",\"ThyssenKrupp\",\"Deutsche Bank\",\"Metro\",\"SAP\"],\"x\":[-0.011157073,0.12301238,-0.04399134,-0.060343046,-0.07278448,-0.09172379,0.18305616,-0.012888347,-0.069644116,0.28573442,0.0037752253,-0.11581866,-0.19446257,0.062119406],\"y\":[-0.10895444,0.112689465,0.093734585,0.032372173,-0.07781323,0.17235407,0.17647572,0.19511841,0.08666347,0.10295024,0.062479023,0.13078737,-0.36338642,0.07242806],\"z\":[-0.095942244,-0.070100956,-0.181248,0.028601382,-0.039050758,0.038984936,-0.020651199,0.048741877,-0.114058994,-0.27574787,-0.07554561,0.3092734,-0.058856692,-0.056766182],\"type\":\"scatter3d\",\"textposition\":\"top center\"},{\"hovertemplate\":\"Location=Britain<br>feminine-masculinity=%{x}<br>private-public=%{y}<br>ethical-unethical=%{z}<br>Company Name=%{text}<extra></extra>\",\"legendgroup\":\"Britain\",\"marker\":{\"color\":\"#85660D\",\"symbol\":\"circle\"},\"mode\":\"markers+text\",\"name\":\"Britain\",\"scene\":\"scene\",\"showlegend\":true,\"text\":[\"BP\",\"Tesco\",\"Aviva\",\"Unilever\",\"Prudential\",\"GlaxoSmithKline\",\"Barclays\",\"Anglo American\",\"Linde\",\"Centrica\",\"AstraZeneca\"],\"x\":[0.0695179,0.013385613,0.2519458,0.10592971,0.08338517,0.01285315,-0.046796985,-0.034478296,0.2828546,-0.028495403,0.10331202],\"y\":[0.07894758,0.0193758,0.071897574,-0.012432626,0.055029217,-0.1355031,-0.019459464,-0.034708485,-0.04595631,0.056417003,-0.10516229],\"z\":[0.19383308,-0.073489375,-0.1411859,-0.0383746,-0.20292161,0.1004878,-0.10636322,0.1198637,-0.06841497,0.16237544,0.10720031],\"type\":\"scatter3d\",\"textposition\":\"top center\"},{\"hovertemplate\":\"Location=Switzerland<br>feminine-masculinity=%{x}<br>private-public=%{y}<br>ethical-unethical=%{z}<br>Company Name=%{text}<extra></extra>\",\"legendgroup\":\"Switzerland\",\"marker\":{\"color\":\"#782AB6\",\"symbol\":\"circle\"},\"mode\":\"markers+text\",\"name\":\"Switzerland\",\"scene\":\"scene\",\"showlegend\":true,\"text\":[\"Glencore\",\"Nestl\\u00e9\",\"Novartis\",\"Chubb\",\"ABB\",\"Holcim\"],\"x\":[-0.11158677,0.25998163,0.26855132,-0.16105887,-0.11009545,-0.04160233],\"y\":[0.024344513,-0.085824855,-0.122147195,-0.12191814,0.023681726,0.03324487],\"z\":[0.15883192,0.08081923,-0.07678681,-0.14876829,-0.04659612,-0.14933942],\"type\":\"scatter3d\",\"textposition\":\"top center\"},{\"hovertemplate\":\"Location=France<br>feminine-masculinity=%{x}<br>private-public=%{y}<br>ethical-unethical=%{z}<br>Company Name=%{text}<extra></extra>\",\"legendgroup\":\"France\",\"marker\":{\"color\":\"#565656\",\"symbol\":\"circle\"},\"mode\":\"markers+text\",\"name\":\"France\",\"scene\":\"scene\",\"showlegend\":true,\"text\":[\"AXA\",\"Carrefour\",\"Engie\",\"Vinci\",\"Renault\",\"Orange\",\"Saint-Gobain\",\"Sanofi\",\"Bouygues\",\"L'Or\\u00e9al\",\"Danone\"],\"x\":[-0.07045799,0.16411515,-0.29582113,0.07225065,0.13129725,-0.12229949,0.07326116,0.41183883,-0.13734667,0.15660428,0.31355584],\"y\":[0.23096105,0.07963333,0.10534198,0.15784755,0.11916749,-0.1648478,-0.06256164,-0.020202128,0.16397327,-0.047727678,0.077252954],\"z\":[-0.33379245,-0.14982244,-0.061146382,0.039455228,-0.16216785,-0.117659986,-0.15664458,-0.04811875,-0.17731477,-0.21401274,0.19694921],\"type\":\"scatter3d\",\"textposition\":\"top center\"},{\"hovertemplate\":\"Location=Japan<br>feminine-masculinity=%{x}<br>private-public=%{y}<br>ethical-unethical=%{z}<br>Company Name=%{text}<extra></extra>\",\"legendgroup\":\"Japan\",\"marker\":{\"color\":\"#1C8356\",\"symbol\":\"circle\"},\"mode\":\"markers+text\",\"name\":\"Japan\",\"scene\":\"scene\",\"showlegend\":true,\"text\":[\"Mitsubishi\",\"Itochu\",\"Sony\",\"Hitachi\",\"AEON\",\"Mitsui\",\"Panasonic\",\"Marubeni\",\"KDDI\",\"Denso\",\"Sumitomo\",\"Fujitsu\",\"Aisin\",\"Canon\",\"Toshiba\",\"NEC\",\"Bridgestone\",\"Subaru\"],\"x\":[-0.03324607,-0.11649244,-0.13665171,0.07513444,0.11395664,-0.4348482,-0.051062476,-0.32750845,0.17009534,-0.12913527,-0.1384047,0.19313651,-0.061780054,-0.14542967,0.11472068,0.18250348,-0.20323558,-0.1584321],\"y\":[-0.08736374,-0.18093508,-0.036417905,0.17833818,-0.27361873,-0.07922698,-0.011810594,-0.093782686,-0.066497326,0.03568766,-0.16500914,0.17146766,-0.00849954,-0.14299151,0.12332408,-0.09485954,-0.2744465,-0.2111268],\"z\":[-0.23571192,-0.031668272,-0.12882818,-0.19238453,-0.041126657,-0.00049297663,-0.04582732,0.20782904,-0.12484396,-0.12769446,-0.058122896,-0.02396292,-0.09196526,-0.05626693,-0.063218534,0.042547964,-0.13959226,-0.24492638],\"type\":\"scatter3d\",\"textposition\":\"top center\"},{\"hovertemplate\":\"Location=Russia<br>feminine-masculinity=%{x}<br>private-public=%{y}<br>ethical-unethical=%{z}<br>Company Name=%{text}<extra></extra>\",\"legendgroup\":\"Russia\",\"marker\":{\"color\":\"#16FF32\",\"symbol\":\"circle\"},\"mode\":\"markers+text\",\"name\":\"Russia\",\"scene\":\"scene\",\"showlegend\":true,\"text\":[\"Gazprom\",\"Lukoil\",\"Sberbank\"],\"x\":[-0.014086691,-0.056176174,-0.21648456],\"y\":[0.010766191,0.053830482,-0.06312755],\"z\":[0.28065556,0.28727278,0.07873215],\"type\":\"scatter3d\",\"textposition\":\"top center\"},{\"hovertemplate\":\"Location=China<br>feminine-masculinity=%{x}<br>private-public=%{y}<br>ethical-unethical=%{z}<br>Company Name=%{text}<extra></extra>\",\"legendgroup\":\"China\",\"marker\":{\"color\":\"#F7E1A0\",\"symbol\":\"circle\"},\"mode\":\"markers+text\",\"name\":\"China\",\"scene\":\"scene\",\"showlegend\":true,\"text\":[\"Sinopharm\",\"COFCO\",\"Sinochem\",\"Xiaomi\"],\"x\":[0.13884446,0.0062296516,-0.071180835,-0.051229473],\"y\":[0.108119406,0.1170513,0.09070621,0.07926501],\"z\":[0.10535999,-0.23805083,-0.013664586,0.0049793315],\"type\":\"scatter3d\",\"textposition\":\"top center\"},{\"hovertemplate\":\"Location=Italy<br>feminine-masculinity=%{x}<br>private-public=%{y}<br>ethical-unethical=%{z}<br>Company Name=%{text}<extra></extra>\",\"legendgroup\":\"Italy\",\"marker\":{\"color\":\"#E2E2E2\",\"symbol\":\"circle\"},\"mode\":\"markers+text\",\"name\":\"Italy\",\"scene\":\"scene\",\"showlegend\":true,\"text\":[\"Enel\",\"ENI\"],\"x\":[-0.20787796,-0.08757121],\"y\":[0.113470174,0.025295459],\"z\":[0.17249137,0.21565765],\"type\":\"scatter3d\",\"textposition\":\"top center\"},{\"hovertemplate\":\"Location=South Korea<br>feminine-masculinity=%{x}<br>private-public=%{y}<br>ethical-unethical=%{z}<br>Company Name=%{text}<extra></extra>\",\"legendgroup\":\"South Korea\",\"marker\":{\"color\":\"#1CBE4F\",\"symbol\":\"circle\"},\"mode\":\"markers+text\",\"name\":\"South Korea\",\"scene\":\"scene\",\"showlegend\":true,\"text\":[\"SK\",\"Kia\",\"POSCO\",\"Hanwha\"],\"x\":[0.031792786,-0.066856,0.043588057,-0.0075029093],\"y\":[-0.19036287,-0.113441914,-0.10717958,0.0074015707],\"z\":[0.1745628,-0.18914536,0.033325016,0.03554792],\"type\":\"scatter3d\",\"textposition\":\"top center\"},{\"hovertemplate\":\"Location=Netherlands<br>feminine-masculinity=%{x}<br>private-public=%{y}<br>ethical-unethical=%{z}<br>Company Name=%{text}<extra></extra>\",\"legendgroup\":\"Netherlands\",\"marker\":{\"color\":\"#C4451C\",\"symbol\":\"circle\"},\"mode\":\"markers+text\",\"name\":\"Netherlands\",\"scene\":\"scene\",\"showlegend\":true,\"text\":[\"Aegon\",\"Airbus\",\"Achmea\"],\"x\":[0.041284434,0.02997076,-0.040158965],\"y\":[0.03790391,0.28788826,-0.08535446],\"z\":[0.0010096325,-0.03743912,-0.17862287],\"type\":\"scatter3d\",\"textposition\":\"top center\"},{\"hovertemplate\":\"Location=Brazil<br>feminine-masculinity=%{x}<br>private-public=%{y}<br>ethical-unethical=%{z}<br>Company Name=%{text}<extra></extra>\",\"legendgroup\":\"Brazil\",\"marker\":{\"color\":\"#DEA0FD\",\"symbol\":\"circle\"},\"mode\":\"markers+text\",\"name\":\"Brazil\",\"scene\":\"scene\",\"showlegend\":true,\"text\":[\"Petrobras\",\"JBS\",\"Vale\"],\"x\":[0.087699085,-0.09458454,-0.06701962],\"y\":[0.12139324,-0.12870884,-4.4134416e-05],\"z\":[0.10374417,-0.293146,0.30158398],\"type\":\"scatter3d\",\"textposition\":\"top center\"},{\"hovertemplate\":\"Location=Finland<br>feminine-masculinity=%{x}<br>private-public=%{y}<br>ethical-unethical=%{z}<br>Company Name=%{text}<extra></extra>\",\"legendgroup\":\"Finland\",\"marker\":{\"color\":\"#FE00FA\",\"symbol\":\"circle\"},\"mode\":\"markers+text\",\"name\":\"Finland\",\"scene\":\"scene\",\"showlegend\":true,\"text\":[\"Fortum\",\"Nokia\"],\"x\":[-0.03479807,-0.25394526],\"y\":[-0.048244193,-0.11516286],\"z\":[0.06309566,0.027314177],\"type\":\"scatter3d\",\"textposition\":\"top center\"},{\"hovertemplate\":\"Location=Luxembourg<br>feminine-masculinity=%{x}<br>private-public=%{y}<br>ethical-unethical=%{z}<br>Company Name=%{text}<extra></extra>\",\"legendgroup\":\"Luxembourg\",\"marker\":{\"color\":\"#325A9B\",\"symbol\":\"circle\"},\"mode\":\"markers+text\",\"name\":\"Luxembourg\",\"scene\":\"scene\",\"showlegend\":true,\"text\":[\"ArcelorMittal\"],\"x\":[-0.009118432],\"y\":[-0.12538242],\"z\":[0.042286236],\"type\":\"scatter3d\",\"textposition\":\"top center\"},{\"hovertemplate\":\"Location=Thailand<br>feminine-masculinity=%{x}<br>private-public=%{y}<br>ethical-unethical=%{z}<br>Company Name=%{text}<extra></extra>\",\"legendgroup\":\"Thailand\",\"marker\":{\"color\":\"#FEAF16\",\"symbol\":\"circle\"},\"mode\":\"markers+text\",\"name\":\"Thailand\",\"scene\":\"scene\",\"showlegend\":true,\"text\":[\"PTT\"],\"x\":[-0.10363392],\"y\":[-0.2193092],\"z\":[-0.13878845],\"type\":\"scatter3d\",\"textposition\":\"top center\"},{\"hovertemplate\":\"Location=India<br>feminine-masculinity=%{x}<br>private-public=%{y}<br>ethical-unethical=%{z}<br>Company Name=%{text}<extra></extra>\",\"legendgroup\":\"India\",\"marker\":{\"color\":\"#F8A19F\",\"symbol\":\"circle\"},\"mode\":\"markers+text\",\"name\":\"India\",\"scene\":\"scene\",\"showlegend\":true,\"text\":[\"Indian Oil\",\"Tata Motors\"],\"x\":[-0.09432564,-0.06586269],\"y\":[-0.05153005,0.06482653],\"z\":[0.14817655,0.31345183],\"type\":\"scatter3d\",\"textposition\":\"top center\"},{\"hovertemplate\":\"Location=Spain<br>feminine-masculinity=%{x}<br>private-public=%{y}<br>ethical-unethical=%{z}<br>Company Name=%{text}<extra></extra>\",\"legendgroup\":\"Spain\",\"marker\":{\"color\":\"#90AD1C\",\"symbol\":\"circle\"},\"mode\":\"markers+text\",\"name\":\"Spain\",\"scene\":\"scene\",\"showlegend\":true,\"text\":[\"Telef\\u00f3nica\",\"ACS\",\"Iberdrola\",\"Repsol\"],\"x\":[-0.26599887,-0.11800364,0.05573076,-0.025442284],\"y\":[0.19509248,-0.11465756,-0.012062793,0.07605123],\"z\":[-0.096419275,0.06871062,0.11148673,0.004189153],\"type\":\"scatter3d\",\"textposition\":\"top center\"},{\"hovertemplate\":\"Location=Taiwan<br>feminine-masculinity=%{x}<br>private-public=%{y}<br>ethical-unethical=%{z}<br>Company Name=%{text}<extra></extra>\",\"legendgroup\":\"Taiwan\",\"marker\":{\"color\":\"#F6222E\",\"symbol\":\"circle\"},\"mode\":\"markers+text\",\"name\":\"Taiwan\",\"scene\":\"scene\",\"showlegend\":true,\"text\":[\"Pegatron\",\"Wistron\"],\"x\":[0.124631524,0.30620867],\"y\":[0.31107363,0.23731612],\"z\":[-0.025464503,0.27868822],\"type\":\"scatter3d\",\"textposition\":\"top center\"},{\"hovertemplate\":\"Location=Mexico<br>feminine-masculinity=%{x}<br>private-public=%{y}<br>ethical-unethical=%{z}<br>Company Name=%{text}<extra></extra>\",\"legendgroup\":\"Mexico\",\"marker\":{\"color\":\"#1CFFCE\",\"symbol\":\"circle\"},\"mode\":\"markers+text\",\"name\":\"Mexico\",\"scene\":\"scene\",\"showlegend\":true,\"text\":[\"Pemex\"],\"x\":[-0.20647426],\"y\":[-0.08195076],\"z\":[0.070471056],\"type\":\"scatter3d\",\"textposition\":\"top center\"},{\"hovertemplate\":\"Location=Ireland<br>feminine-masculinity=%{x}<br>private-public=%{y}<br>ethical-unethical=%{z}<br>Company Name=%{text}<extra></extra>\",\"legendgroup\":\"Ireland\",\"marker\":{\"color\":\"#2ED9FF\",\"symbol\":\"circle\"},\"mode\":\"markers+text\",\"name\":\"Ireland\",\"scene\":\"scene\",\"showlegend\":true,\"text\":[\"Accenture\",\"Medtronic\",\"CRH\"],\"x\":[0.0046220794,0.34900227,-0.07207186],\"y\":[0.07140419,-0.015580306,0.05244132],\"z\":[-0.052439287,-0.060295597,-0.0051364927],\"type\":\"scatter3d\",\"textposition\":\"top center\"},{\"hovertemplate\":\"Location=Malaysia<br>feminine-masculinity=%{x}<br>private-public=%{y}<br>ethical-unethical=%{z}<br>Company Name=%{text}<extra></extra>\",\"legendgroup\":\"Malaysia\",\"marker\":{\"color\":\"#B10DA1\",\"symbol\":\"circle\"},\"mode\":\"markers+text\",\"name\":\"Malaysia\",\"scene\":\"scene\",\"showlegend\":true,\"text\":[\"Petronas\"],\"x\":[-0.15647776],\"y\":[-0.17393295],\"z\":[0.07441918],\"type\":\"scatter3d\",\"textposition\":\"top center\"},{\"hovertemplate\":\"Location=Indonesia<br>feminine-masculinity=%{x}<br>private-public=%{y}<br>ethical-unethical=%{z}<br>Company Name=%{text}<extra></extra>\",\"legendgroup\":\"Indonesia\",\"marker\":{\"color\":\"#C075A6\",\"symbol\":\"circle\"},\"mode\":\"markers+text\",\"name\":\"Indonesia\",\"scene\":\"scene\",\"showlegend\":true,\"text\":[\"Pertamina\"],\"x\":[-0.22867094],\"y\":[0.0013926479],\"z\":[-0.093553305],\"type\":\"scatter3d\",\"textposition\":\"top center\"},{\"hovertemplate\":\"Location=Sweden<br>feminine-masculinity=%{x}<br>private-public=%{y}<br>ethical-unethical=%{z}<br>Company Name=%{text}<extra></extra>\",\"legendgroup\":\"Sweden\",\"marker\":{\"color\":\"#FC1CBF\",\"symbol\":\"circle\"},\"mode\":\"markers+text\",\"name\":\"Sweden\",\"scene\":\"scene\",\"showlegend\":true,\"text\":[\"Volvo\",\"Ericsson\"],\"x\":[-0.024219053,-0.05151607],\"y\":[-0.004472915,-0.039145056],\"z\":[-0.10972612,-0.00072683726],\"type\":\"scatter3d\",\"textposition\":\"top center\"},{\"hovertemplate\":\"Location=Canada<br>feminine-masculinity=%{x}<br>private-public=%{y}<br>ethical-unethical=%{z}<br>Company Name=%{text}<extra></extra>\",\"legendgroup\":\"Canada\",\"marker\":{\"color\":\"#B00068\",\"symbol\":\"circle\"},\"mode\":\"markers+text\",\"name\":\"Canada\",\"scene\":\"scene\",\"showlegend\":true,\"text\":[\"Enbridge\"],\"x\":[0.0139842555],\"y\":[0.011217093],\"z\":[0.069596134],\"type\":\"scatter3d\",\"textposition\":\"top center\"},{\"hovertemplate\":\"Location=Singapore<br>feminine-masculinity=%{x}<br>private-public=%{y}<br>ethical-unethical=%{z}<br>Company Name=%{text}<extra></extra>\",\"legendgroup\":\"Singapore\",\"marker\":{\"color\":\"#FBE426\",\"symbol\":\"circle\"},\"mode\":\"markers+text\",\"name\":\"Singapore\",\"scene\":\"scene\",\"showlegend\":true,\"text\":[\"Flex\"],\"x\":[-0.15843289],\"y\":[-0.17351435],\"z\":[-0.031597655],\"type\":\"scatter3d\",\"textposition\":\"top center\"}],                        {\"template\":{\"data\":{\"bar\":[{\"error_x\":{\"color\":\"#2a3f5f\"},\"error_y\":{\"color\":\"#2a3f5f\"},\"marker\":{\"line\":{\"color\":\"#E5ECF6\",\"width\":0.5},\"pattern\":{\"fillmode\":\"overlay\",\"size\":10,\"solidity\":0.2}},\"type\":\"bar\"}],\"barpolar\":[{\"marker\":{\"line\":{\"color\":\"#E5ECF6\",\"width\":0.5},\"pattern\":{\"fillmode\":\"overlay\",\"size\":10,\"solidity\":0.2}},\"type\":\"barpolar\"}],\"carpet\":[{\"aaxis\":{\"endlinecolor\":\"#2a3f5f\",\"gridcolor\":\"white\",\"linecolor\":\"white\",\"minorgridcolor\":\"white\",\"startlinecolor\":\"#2a3f5f\"},\"baxis\":{\"endlinecolor\":\"#2a3f5f\",\"gridcolor\":\"white\",\"linecolor\":\"white\",\"minorgridcolor\":\"white\",\"startlinecolor\":\"#2a3f5f\"},\"type\":\"carpet\"}],\"choropleth\":[{\"colorbar\":{\"outlinewidth\":0,\"ticks\":\"\"},\"type\":\"choropleth\"}],\"contour\":[{\"colorbar\":{\"outlinewidth\":0,\"ticks\":\"\"},\"colorscale\":[[0.0,\"#0d0887\"],[0.1111111111111111,\"#46039f\"],[0.2222222222222222,\"#7201a8\"],[0.3333333333333333,\"#9c179e\"],[0.4444444444444444,\"#bd3786\"],[0.5555555555555556,\"#d8576b\"],[0.6666666666666666,\"#ed7953\"],[0.7777777777777778,\"#fb9f3a\"],[0.8888888888888888,\"#fdca26\"],[1.0,\"#f0f921\"]],\"type\":\"contour\"}],\"contourcarpet\":[{\"colorbar\":{\"outlinewidth\":0,\"ticks\":\"\"},\"type\":\"contourcarpet\"}],\"heatmap\":[{\"colorbar\":{\"outlinewidth\":0,\"ticks\":\"\"},\"colorscale\":[[0.0,\"#0d0887\"],[0.1111111111111111,\"#46039f\"],[0.2222222222222222,\"#7201a8\"],[0.3333333333333333,\"#9c179e\"],[0.4444444444444444,\"#bd3786\"],[0.5555555555555556,\"#d8576b\"],[0.6666666666666666,\"#ed7953\"],[0.7777777777777778,\"#fb9f3a\"],[0.8888888888888888,\"#fdca26\"],[1.0,\"#f0f921\"]],\"type\":\"heatmap\"}],\"heatmapgl\":[{\"colorbar\":{\"outlinewidth\":0,\"ticks\":\"\"},\"colorscale\":[[0.0,\"#0d0887\"],[0.1111111111111111,\"#46039f\"],[0.2222222222222222,\"#7201a8\"],[0.3333333333333333,\"#9c179e\"],[0.4444444444444444,\"#bd3786\"],[0.5555555555555556,\"#d8576b\"],[0.6666666666666666,\"#ed7953\"],[0.7777777777777778,\"#fb9f3a\"],[0.8888888888888888,\"#fdca26\"],[1.0,\"#f0f921\"]],\"type\":\"heatmapgl\"}],\"histogram\":[{\"marker\":{\"pattern\":{\"fillmode\":\"overlay\",\"size\":10,\"solidity\":0.2}},\"type\":\"histogram\"}],\"histogram2d\":[{\"colorbar\":{\"outlinewidth\":0,\"ticks\":\"\"},\"colorscale\":[[0.0,\"#0d0887\"],[0.1111111111111111,\"#46039f\"],[0.2222222222222222,\"#7201a8\"],[0.3333333333333333,\"#9c179e\"],[0.4444444444444444,\"#bd3786\"],[0.5555555555555556,\"#d8576b\"],[0.6666666666666666,\"#ed7953\"],[0.7777777777777778,\"#fb9f3a\"],[0.8888888888888888,\"#fdca26\"],[1.0,\"#f0f921\"]],\"type\":\"histogram2d\"}],\"histogram2dcontour\":[{\"colorbar\":{\"outlinewidth\":0,\"ticks\":\"\"},\"colorscale\":[[0.0,\"#0d0887\"],[0.1111111111111111,\"#46039f\"],[0.2222222222222222,\"#7201a8\"],[0.3333333333333333,\"#9c179e\"],[0.4444444444444444,\"#bd3786\"],[0.5555555555555556,\"#d8576b\"],[0.6666666666666666,\"#ed7953\"],[0.7777777777777778,\"#fb9f3a\"],[0.8888888888888888,\"#fdca26\"],[1.0,\"#f0f921\"]],\"type\":\"histogram2dcontour\"}],\"mesh3d\":[{\"colorbar\":{\"outlinewidth\":0,\"ticks\":\"\"},\"type\":\"mesh3d\"}],\"parcoords\":[{\"line\":{\"colorbar\":{\"outlinewidth\":0,\"ticks\":\"\"}},\"type\":\"parcoords\"}],\"pie\":[{\"automargin\":true,\"type\":\"pie\"}],\"scatter\":[{\"marker\":{\"colorbar\":{\"outlinewidth\":0,\"ticks\":\"\"}},\"type\":\"scatter\"}],\"scatter3d\":[{\"line\":{\"colorbar\":{\"outlinewidth\":0,\"ticks\":\"\"}},\"marker\":{\"colorbar\":{\"outlinewidth\":0,\"ticks\":\"\"}},\"type\":\"scatter3d\"}],\"scattercarpet\":[{\"marker\":{\"colorbar\":{\"outlinewidth\":0,\"ticks\":\"\"}},\"type\":\"scattercarpet\"}],\"scattergeo\":[{\"marker\":{\"colorbar\":{\"outlinewidth\":0,\"ticks\":\"\"}},\"type\":\"scattergeo\"}],\"scattergl\":[{\"marker\":{\"colorbar\":{\"outlinewidth\":0,\"ticks\":\"\"}},\"type\":\"scattergl\"}],\"scattermapbox\":[{\"marker\":{\"colorbar\":{\"outlinewidth\":0,\"ticks\":\"\"}},\"type\":\"scattermapbox\"}],\"scatterpolar\":[{\"marker\":{\"colorbar\":{\"outlinewidth\":0,\"ticks\":\"\"}},\"type\":\"scatterpolar\"}],\"scatterpolargl\":[{\"marker\":{\"colorbar\":{\"outlinewidth\":0,\"ticks\":\"\"}},\"type\":\"scatterpolargl\"}],\"scatterternary\":[{\"marker\":{\"colorbar\":{\"outlinewidth\":0,\"ticks\":\"\"}},\"type\":\"scatterternary\"}],\"surface\":[{\"colorbar\":{\"outlinewidth\":0,\"ticks\":\"\"},\"colorscale\":[[0.0,\"#0d0887\"],[0.1111111111111111,\"#46039f\"],[0.2222222222222222,\"#7201a8\"],[0.3333333333333333,\"#9c179e\"],[0.4444444444444444,\"#bd3786\"],[0.5555555555555556,\"#d8576b\"],[0.6666666666666666,\"#ed7953\"],[0.7777777777777778,\"#fb9f3a\"],[0.8888888888888888,\"#fdca26\"],[1.0,\"#f0f921\"]],\"type\":\"surface\"}],\"table\":[{\"cells\":{\"fill\":{\"color\":\"#EBF0F8\"},\"line\":{\"color\":\"white\"}},\"header\":{\"fill\":{\"color\":\"#C8D4E3\"},\"line\":{\"color\":\"white\"}},\"type\":\"table\"}]},\"layout\":{\"annotationdefaults\":{\"arrowcolor\":\"#2a3f5f\",\"arrowhead\":0,\"arrowwidth\":1},\"autotypenumbers\":\"strict\",\"coloraxis\":{\"colorbar\":{\"outlinewidth\":0,\"ticks\":\"\"}},\"colorscale\":{\"diverging\":[[0,\"#8e0152\"],[0.1,\"#c51b7d\"],[0.2,\"#de77ae\"],[0.3,\"#f1b6da\"],[0.4,\"#fde0ef\"],[0.5,\"#f7f7f7\"],[0.6,\"#e6f5d0\"],[0.7,\"#b8e186\"],[0.8,\"#7fbc41\"],[0.9,\"#4d9221\"],[1,\"#276419\"]],\"sequential\":[[0.0,\"#0d0887\"],[0.1111111111111111,\"#46039f\"],[0.2222222222222222,\"#7201a8\"],[0.3333333333333333,\"#9c179e\"],[0.4444444444444444,\"#bd3786\"],[0.5555555555555556,\"#d8576b\"],[0.6666666666666666,\"#ed7953\"],[0.7777777777777778,\"#fb9f3a\"],[0.8888888888888888,\"#fdca26\"],[1.0,\"#f0f921\"]],\"sequentialminus\":[[0.0,\"#0d0887\"],[0.1111111111111111,\"#46039f\"],[0.2222222222222222,\"#7201a8\"],[0.3333333333333333,\"#9c179e\"],[0.4444444444444444,\"#bd3786\"],[0.5555555555555556,\"#d8576b\"],[0.6666666666666666,\"#ed7953\"],[0.7777777777777778,\"#fb9f3a\"],[0.8888888888888888,\"#fdca26\"],[1.0,\"#f0f921\"]]},\"colorway\":[\"#636efa\",\"#EF553B\",\"#00cc96\",\"#ab63fa\",\"#FFA15A\",\"#19d3f3\",\"#FF6692\",\"#B6E880\",\"#FF97FF\",\"#FECB52\"],\"font\":{\"color\":\"#2a3f5f\"},\"geo\":{\"bgcolor\":\"white\",\"lakecolor\":\"white\",\"landcolor\":\"#E5ECF6\",\"showlakes\":true,\"showland\":true,\"subunitcolor\":\"white\"},\"hoverlabel\":{\"align\":\"left\"},\"hovermode\":\"closest\",\"mapbox\":{\"style\":\"light\"},\"paper_bgcolor\":\"white\",\"plot_bgcolor\":\"#E5ECF6\",\"polar\":{\"angularaxis\":{\"gridcolor\":\"white\",\"linecolor\":\"white\",\"ticks\":\"\"},\"bgcolor\":\"#E5ECF6\",\"radialaxis\":{\"gridcolor\":\"white\",\"linecolor\":\"white\",\"ticks\":\"\"}},\"scene\":{\"xaxis\":{\"backgroundcolor\":\"#E5ECF6\",\"gridcolor\":\"white\",\"gridwidth\":2,\"linecolor\":\"white\",\"showbackground\":true,\"ticks\":\"\",\"zerolinecolor\":\"white\"},\"yaxis\":{\"backgroundcolor\":\"#E5ECF6\",\"gridcolor\":\"white\",\"gridwidth\":2,\"linecolor\":\"white\",\"showbackground\":true,\"ticks\":\"\",\"zerolinecolor\":\"white\"},\"zaxis\":{\"backgroundcolor\":\"#E5ECF6\",\"gridcolor\":\"white\",\"gridwidth\":2,\"linecolor\":\"white\",\"showbackground\":true,\"ticks\":\"\",\"zerolinecolor\":\"white\"}},\"shapedefaults\":{\"line\":{\"color\":\"#2a3f5f\"}},\"ternary\":{\"aaxis\":{\"gridcolor\":\"white\",\"linecolor\":\"white\",\"ticks\":\"\"},\"baxis\":{\"gridcolor\":\"white\",\"linecolor\":\"white\",\"ticks\":\"\"},\"bgcolor\":\"#E5ECF6\",\"caxis\":{\"gridcolor\":\"white\",\"linecolor\":\"white\",\"ticks\":\"\"}},\"title\":{\"x\":0.05},\"xaxis\":{\"automargin\":true,\"gridcolor\":\"white\",\"linecolor\":\"white\",\"ticks\":\"\",\"title\":{\"standoff\":15},\"zerolinecolor\":\"white\",\"zerolinewidth\":2},\"yaxis\":{\"automargin\":true,\"gridcolor\":\"white\",\"linecolor\":\"white\",\"ticks\":\"\",\"title\":{\"standoff\":15},\"zerolinecolor\":\"white\",\"zerolinewidth\":2}}},\"scene\":{\"domain\":{\"x\":[0.0,1.0],\"y\":[0.0,1.0]},\"xaxis\":{\"title\":{\"text\":\"feminine-masculinity\"}},\"yaxis\":{\"title\":{\"text\":\"private-public\"}},\"zaxis\":{\"title\":{\"text\":\"ethical-unethical\"}}},\"legend\":{\"title\":{\"text\":\"Location\"},\"tracegroupgap\":0},\"margin\":{\"t\":60},\"title\":{\"text\":\"Companies\",\"x\":0.5}},                        {\"responsive\": true}                    ).then(function(){\n",
              "                            \n",
              "var gd = document.getElementById('883eaa33-3bf6-42a1-b7d3-d77bcd10539b');\n",
              "var x = new MutationObserver(function (mutations, observer) {{\n",
              "        var display = window.getComputedStyle(gd).display;\n",
              "        if (!display || display === 'none') {{\n",
              "            console.log([gd, 'removed!']);\n",
              "            Plotly.purge(gd);\n",
              "            observer.disconnect();\n",
              "        }}\n",
              "}});\n",
              "\n",
              "// Listen for the removal of the full notebook cells\n",
              "var notebookContainer = gd.closest('#notebook-container');\n",
              "if (notebookContainer) {{\n",
              "    x.observe(notebookContainer, {childList: true});\n",
              "}}\n",
              "\n",
              "// Listen for the clearing of the current output cell\n",
              "var outputEl = gd.closest('.output');\n",
              "if (outputEl) {{\n",
              "    x.observe(outputEl, {childList: true});\n",
              "}}\n",
              "\n",
              "                        })                };                            </script>        </div>\n",
              "</body>\n",
              "</html>"
            ]
          },
          "metadata": {}
        }
      ]
    }
  ]
}