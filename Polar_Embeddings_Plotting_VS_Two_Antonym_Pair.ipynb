{
  "nbformat": 4,
  "nbformat_minor": 0,
  "metadata": {
    "colab": {
      "name": "Polar_Embeddings_Plotting_VS_Two_Antonym_Pair.ipynb",
      "provenance": [],
      "collapsed_sections": [],
      "authorship_tag": "ABX9TyP1wa1MaCsMun1lSuBfAZbV",
      "include_colab_link": true
    },
    "kernelspec": {
      "name": "python3",
      "display_name": "Python 3"
    },
    "language_info": {
      "name": "python"
    }
  },
  "cells": [
    {
      "cell_type": "markdown",
      "metadata": {
        "id": "view-in-github",
        "colab_type": "text"
      },
      "source": [
        "<a href=\"https://colab.research.google.com/github/sreehari59/Polar-Embedding/blob/main/Polar_Embeddings_Plotting_VS_Two_Antonym_Pair.ipynb\" target=\"_parent\"><img src=\"https://colab.research.google.com/assets/colab-badge.svg\" alt=\"Open In Colab\"/></a>"
      ]
    },
    {
      "cell_type": "code",
      "execution_count": 1,
      "metadata": {
        "id": "ox0YPeWOkVAW",
        "colab": {
          "base_uri": "https://localhost:8080/"
        },
        "outputId": "8d13658d-82af-40a2-a0bd-40b4034d800f"
      },
      "outputs": [
        {
          "output_type": "stream",
          "name": "stdout",
          "text": [
            "Mounted at /content/drive\n"
          ]
        }
      ],
      "source": [
        "import pandas as pd\n",
        "from google.colab import drive\n",
        "drive.mount('/content/drive')\n"
      ]
    },
    {
      "cell_type": "markdown",
      "source": [
        "**Below import the polar embedding file**"
      ],
      "metadata": {
        "id": "muGqPLbj77Wp"
      }
    },
    {
      "cell_type": "code",
      "source": [
        "polar_embedding_company = pd.read_csv('/content/drive/MyDrive/POLAR-GloVeWiki-org-antonyms-inter_test_1.csv')\n",
        "\n",
        "print(polar_embedding_company.head())"
      ],
      "metadata": {
        "id": "Z6sI1Vyt72hb",
        "colab": {
          "base_uri": "https://localhost:8080/"
        },
        "outputId": "4e3c93ab-8fdc-4cdf-fec0-6b9db3103e25"
      },
      "execution_count": 2,
      "outputs": [
        {
          "output_type": "stream",
          "name": "stdout",
          "text": [
            "   Unnamed: 0  connecteddisconnected  autonomousmicromanagement  goaltask  \\\n",
            "0     walmart               0.093772                   0.056685  0.122984   \n",
            "1      amazon              -0.054963                   0.079478  0.052322   \n",
            "2       apple               0.091997                  -0.056496 -0.079529   \n",
            "3  volkswagen              -0.038922                   0.030471  0.006935   \n",
            "4    mckesson              -0.003620                  -0.072646  0.083439   \n",
            "\n",
            "   physicalremote  ambiguousunambiguous  insidersoutsiders  essentialluxury  \\\n",
            "0       -0.018131             -0.126495          -0.001490        -0.056763   \n",
            "1       -0.221749              0.022909           0.068699         0.030613   \n",
            "2       -0.140522              0.014599           0.158904         0.039801   \n",
            "3        0.017597             -0.101387          -0.041838        -0.303128   \n",
            "4        0.179685             -0.135129           0.000725         0.044071   \n",
            "\n",
            "   localwidespread  obscuritytransparency  ...  spectatorsstakeholders  \\\n",
            "0        -0.072989               0.190067  ...               -0.078697   \n",
            "1        -0.075600              -0.045738  ...                0.045810   \n",
            "2        -0.075003               0.086288  ...               -0.002251   \n",
            "3         0.044360              -0.015038  ...               -0.042181   \n",
            "4        -0.071276              -0.009613  ...               -0.126918   \n",
            "\n",
            "   indulgencerestraint  costrevenue  privatepublic  bankruptcyprosperity  \\\n",
            "0            -0.088636     0.033808      -0.101904              0.120666   \n",
            "1            -0.050385    -0.031614       0.194689              0.140770   \n",
            "2            -0.004500    -0.080297       0.062694              0.198853   \n",
            "3             0.032537    -0.019261       0.055841              0.025075   \n",
            "4            -0.099334    -0.097449      -0.147460              0.013867   \n",
            "\n",
            "   criminalrightful  equityinequity  nonrenewablerenewable  isolatingsocial  \\\n",
            "0         -0.025506       -0.149871               0.099365        -0.042255   \n",
            "1          0.075581       -0.204423               0.049552        -0.006352   \n",
            "2          0.016694       -0.124737              -0.105819        -0.036056   \n",
            "3         -0.045572       -0.078446              -0.060241        -0.003194   \n",
            "4         -0.105636       -0.004854               0.102400         0.096873   \n",
            "\n",
            "   affordableexpensive  \n",
            "0             0.181507  \n",
            "1            -0.057122  \n",
            "2            -0.037395  \n",
            "3            -0.028486  \n",
            "4             0.034914  \n",
            "\n",
            "[5 rows x 108 columns]\n"
          ]
        }
      ]
    },
    {
      "cell_type": "markdown",
      "source": [
        "**Below code snippet will load the fortune 500 company**"
      ],
      "metadata": {
        "id": "yBvQjhQg8Akb"
      }
    },
    {
      "cell_type": "code",
      "source": [
        "fortune_company = pd.read_csv('/content/drive/MyDrive/Fortune Global 500 companies.csv',encoding= 'unicode_escape')\n",
        "print(fortune_company.head())"
      ],
      "metadata": {
        "id": "HJXMWVqRl-hH",
        "colab": {
          "base_uri": "https://localhost:8080/"
        },
        "outputId": "c38e382d-d1d0-41c0-c232-e60549b90f98"
      },
      "execution_count": 3,
      "outputs": [
        {
          "output_type": "stream",
          "name": "stdout",
          "text": [
            "   Rank                   Company Location\n",
            "0     1                   Walmart      USA\n",
            "1     2                State Grid    China\n",
            "2     3                    Amazon      USA\n",
            "3     4  China National Petroleum    China\n",
            "4     5             Sinopec Group    China\n"
          ]
        }
      ]
    },
    {
      "cell_type": "code",
      "source": [
        "polar_list_company_name = polar_embedding_company.iloc[:,0]\n",
        "character_1_list = polar_embedding_company['achievementcaring']\n",
        "character_2_list = polar_embedding_company['femininemasculine']\n",
        "character_3_list = polar_embedding_company['competitiveuncompetitive']\n",
        "print(character_1_list)"
      ],
      "metadata": {
        "id": "5m0-lUyORa6m",
        "colab": {
          "base_uri": "https://localhost:8080/"
        },
        "outputId": "c74adac5-9a4c-45a5-e4e7-e02f9950d5e6"
      },
      "execution_count": 4,
      "outputs": [
        {
          "output_type": "stream",
          "name": "stdout",
          "text": [
            "0      0.012846\n",
            "1      0.000485\n",
            "2     -0.067164\n",
            "3      0.013643\n",
            "4     -0.041528\n",
            "         ...   \n",
            "137    0.120787\n",
            "138   -0.134960\n",
            "139    0.061599\n",
            "140    0.012754\n",
            "141   -0.035794\n",
            "Name: achievementcaring, Length: 142, dtype: float64\n"
          ]
        }
      ]
    },
    {
      "cell_type": "code",
      "source": [
        "length = (polar_list_company_name.size)"
      ],
      "metadata": {
        "id": "jytLjelp3kcG"
      },
      "execution_count": 5,
      "outputs": []
    },
    {
      "cell_type": "code",
      "source": [
        "character_1 = \"achievement-caring\"\n",
        "character_2 = \"feminine-masculine\"\n",
        "character_3 = \"competitive-uncompetitive\"\n",
        "company_location=[]\n",
        "fortune_company_name = []\n",
        "company_index=0;\n",
        "counter=0\n",
        "for index, row in fortune_company.iterrows(): \n",
        "  \n",
        "  s = row['Company']\n",
        "  s = s.lower()\n",
        "  s = s.replace(\" \",\"\")   \n",
        "  if s == polar_list_company_name[company_index]:    \n",
        "    company_index = company_index+1\n",
        "    company_location.append(row['Location'])\n",
        "    fortune_company_name.append(row['Company'])\n",
        "    counter=counter+1\n",
        "\n",
        "  if length==company_index:\n",
        "    break\n",
        "        \n",
        "\n",
        "print(\"The size of the company list: \",counter)"
      ],
      "metadata": {
        "colab": {
          "base_uri": "https://localhost:8080/"
        },
        "id": "jfAPb0xqxn4E",
        "outputId": "8254799b-b7b2-43e3-eab3-382bcf31becc"
      },
      "execution_count": 6,
      "outputs": [
        {
          "output_type": "stream",
          "name": "stdout",
          "text": [
            "The size of the company list:  142\n"
          ]
        }
      ]
    },
    {
      "cell_type": "markdown",
      "source": [
        "**2D visualization of the companies. each Axis represents an antonym pair**"
      ],
      "metadata": {
        "id": "DMc1H5hfFIR5"
      }
    },
    {
      "cell_type": "code",
      "source": [
        "from pandas.core.frame import DataFrame\n",
        "import plotly.express as px\n",
        "\n",
        "data = {\n",
        "        'Company Name' : fortune_company_name,    \n",
        "        'Location': company_location,      \n",
        "        character_1 : character_1_list,\n",
        "        character_2 : character_2_list,\n",
        "        character_3 : character_3_list}\n",
        "\n",
        "df = pd.DataFrame(data)\n",
        "print(df.head())\n",
        "\n",
        "\n",
        "fig = px.scatter(df, x=character_1, y=character_2, text=\"Company Name\", size_max=1,color='Location', color_discrete_sequence= px.colors.qualitative.Alphabet)\n",
        "fig.update_traces(textposition='top center')\n",
        "fig.update_layout(title_text='Companies', title_x=0.5)\n",
        "fig.show()"
      ],
      "metadata": {
        "id": "YKTDyS_ck_Ed",
        "colab": {
          "base_uri": "https://localhost:8080/",
          "height": 767
        },
        "outputId": "4a21881d-fce1-4189-a4f2-3a3c83852ac4"
      },
      "execution_count": 7,
      "outputs": [
        {
          "output_type": "stream",
          "name": "stdout",
          "text": [
            "  Company Name Location  achievement-caring  feminine-masculine  \\\n",
            "0      Walmart      USA            0.012846           -0.170809   \n",
            "1       Amazon      USA            0.000485            0.076810   \n",
            "2        Apple      USA           -0.067164            0.149251   \n",
            "3   Volkswagen  Germany            0.013643           -0.236390   \n",
            "4     McKesson      USA           -0.041528           -0.093506   \n",
            "\n",
            "   competitive-uncompetitive  \n",
            "0                   0.002962  \n",
            "1                   0.045931  \n",
            "2                   0.059214  \n",
            "3                   0.037873  \n",
            "4                  -0.249971  \n"
          ]
        },
        {
          "output_type": "display_data",
          "data": {
            "text/html": [
              "<html>\n",
              "<head><meta charset=\"utf-8\" /></head>\n",
              "<body>\n",
              "    <div>            <script src=\"https://cdnjs.cloudflare.com/ajax/libs/mathjax/2.7.5/MathJax.js?config=TeX-AMS-MML_SVG\"></script><script type=\"text/javascript\">if (window.MathJax) {MathJax.Hub.Config({SVG: {font: \"STIX-Web\"}});}</script>                <script type=\"text/javascript\">window.PlotlyConfig = {MathJaxConfig: 'local'};</script>\n",
              "        <script src=\"https://cdn.plot.ly/plotly-2.8.3.min.js\"></script>                <div id=\"8ec8c561-a8b5-46f4-82ca-a2fd6582f359\" class=\"plotly-graph-div\" style=\"height:525px; width:100%;\"></div>            <script type=\"text/javascript\">                                    window.PLOTLYENV=window.PLOTLYENV || {};                                    if (document.getElementById(\"8ec8c561-a8b5-46f4-82ca-a2fd6582f359\")) {                    Plotly.newPlot(                        \"8ec8c561-a8b5-46f4-82ca-a2fd6582f359\",                        [{\"hovertemplate\":\"Location=USA<br>achievement-caring=%{x}<br>feminine-masculine=%{y}<br>Company Name=%{text}<extra></extra>\",\"legendgroup\":\"USA\",\"marker\":{\"color\":\"#AA0DFE\",\"symbol\":\"circle\"},\"mode\":\"markers+text\",\"name\":\"USA\",\"orientation\":\"v\",\"showlegend\":true,\"text\":[\"Walmart\",\"Amazon\",\"Apple\",\"McKesson\",\"AmerisourceBergen\",\"Alphabet\",\"Exxon Mobil\",\"AT&T\",\"Cigna\",\"Microsoft\",\"Kroger\",\"Home Depot\",\"Anthem\",\"Centene\",\"Comcast\",\"Chevron\",\"Target\",\"Citigroup\",\"Facebook\",\"Intel\",\"Humana\",\"PepsiCo\",\"Albertsons\",\"FedEx\",\"MetLife\",\"Boeing\",\"HP\",\"Sysco\",\"Merck\",\"Allstate\",\"Progressive\",\"Nationwide\",\"Pfizer\",\"Caterpillar\",\"TIAA\",\"Bunge\",\"Oracle\",\"Dow\",\"Nike\",\"USAA\",\"Deere\",\"Exelon\",\"Coca-Cola\",\"3M\",\"TJX\",\"Travelers\",\"Tesla\",\"CHS\",\"Jabil\",\"Amgen\",\"Netflix\",\"Synnex\"],\"x\":[0.01284619,0.00048516603,-0.067164175,-0.041527532,0.051181152,-0.15703125,-0.00902993,-0.0012474894,-0.03977302,-0.0551147,-0.11898284,-0.019620972,0.08858101,-0.048970655,0.022037625,0.05061425,0.10772325,-0.075275816,-0.031320628,-0.106657185,0.043529134,0.049219545,-0.06665245,0.020270074,0.07967767,0.0358114,-0.083016224,0.025429863,-0.03594116,-0.11957524,-0.00039932024,-0.016215838,-0.035563044,-0.11557647,-0.116884574,-0.04029635,-0.013049215,0.0968774,-0.06349299,-0.119574025,-0.05620324,-0.08210561,-0.010856511,-0.0036254663,-0.02952446,-0.17604402,-0.08281161,0.0704491,-0.03056324,0.028880551,0.12078655,0.06159902],\"xaxis\":\"x\",\"y\":[-0.170809,0.07680984,0.14925063,-0.09350605,0.03673733,-0.19906123,-0.019767666,0.11741722,0.17742033,-0.19573706,-0.12179256,0.118778855,0.18867716,0.052756153,-0.072413765,-0.0052154907,-0.19973843,-0.05004632,-0.20941898,-0.20473304,0.14250802,0.40293714,0.1571746,0.10336698,-0.011627999,0.01854993,-0.06416937,0.036150422,-0.16607419,-0.055481724,0.05058415,0.106301405,0.24049519,0.014501138,0.38298652,-0.02276257,-0.16357282,0.077022776,0.10285604,-0.04863729,-0.07084435,-0.039980493,0.20587428,0.331651,-0.38463455,0.16478431,-0.18259187,-0.11052101,-0.026048979,0.073905006,-0.3073888,-0.08147938],\"yaxis\":\"y\",\"type\":\"scatter\",\"textposition\":\"top center\"},{\"hovertemplate\":\"Location=Germany<br>achievement-caring=%{x}<br>feminine-masculine=%{y}<br>Company Name=%{text}<extra></extra>\",\"legendgroup\":\"Germany\",\"marker\":{\"color\":\"#3283FE\",\"symbol\":\"circle\"},\"mode\":\"markers+text\",\"name\":\"Germany\",\"orientation\":\"v\",\"showlegend\":true,\"text\":[\"Volkswagen\",\"Daimler\",\"Allianz\",\"E.ON\",\"BASF\",\"Siemens\",\"Bayer\",\"Continental\",\"Fresenius\",\"ThyssenKrupp\",\"Metro\",\"SAP\"],\"x\":[0.013643107,0.057322048,0.079001226,0.013886348,0.11699602,-0.0676007,-0.06507262,0.03484788,-0.024700744,0.021527357,-0.070257924,0.05732154],\"xaxis\":\"x\",\"y\":[-0.23638977,-0.090271905,-0.0066006454,-0.20043631,-0.06741981,-0.13669759,-0.24258468,0.2487491,0.002330602,-0.3269557,-0.14153555,-0.28536585],\"yaxis\":\"y\",\"type\":\"scatter\",\"textposition\":\"top center\"},{\"hovertemplate\":\"Location=Britain<br>achievement-caring=%{x}<br>feminine-masculine=%{y}<br>Company Name=%{text}<extra></extra>\",\"legendgroup\":\"Britain\",\"marker\":{\"color\":\"#85660D\",\"symbol\":\"circle\"},\"mode\":\"markers+text\",\"name\":\"Britain\",\"orientation\":\"v\",\"showlegend\":true,\"text\":[\"BP\",\"Tesco\",\"Aviva\",\"Unilever\",\"Prudential\",\"GlaxoSmithKline\",\"Barclays\",\"Linde\",\"Centrica\",\"AstraZeneca\"],\"x\":[0.016477615,-0.09297611,0.04580843,0.012930934,-0.03414663,-0.014299054,0.08678691,0.08553625,0.09765966,0.083913565],\"xaxis\":\"x\",\"y\":[-0.27327627,-0.24684669,0.096361324,0.34327206,0.13379753,0.1402625,0.15564735,-0.36934024,-0.026392236,-0.03568995],\"yaxis\":\"y\",\"type\":\"scatter\",\"textposition\":\"top center\"},{\"hovertemplate\":\"Location=Switzerland<br>achievement-caring=%{x}<br>feminine-masculine=%{y}<br>Company Name=%{text}<extra></extra>\",\"legendgroup\":\"Switzerland\",\"marker\":{\"color\":\"#782AB6\",\"symbol\":\"circle\"},\"mode\":\"markers+text\",\"name\":\"Switzerland\",\"orientation\":\"v\",\"showlegend\":true,\"text\":[\"Glencore\",\"Novartis\",\"Chubb\",\"ABB\",\"Holcim\"],\"x\":[-0.10699239,0.008447759,0.06500967,0.105641596,0.012753821],\"xaxis\":\"x\",\"y\":[-0.23478168,0.2638701,0.014186556,-0.052302208,-0.12848838],\"yaxis\":\"y\",\"type\":\"scatter\",\"textposition\":\"top center\"},{\"hovertemplate\":\"Location=France<br>achievement-caring=%{x}<br>feminine-masculine=%{y}<br>Company Name=%{text}<extra></extra>\",\"legendgroup\":\"France\",\"marker\":{\"color\":\"#565656\",\"symbol\":\"circle\"},\"mode\":\"markers+text\",\"name\":\"France\",\"orientation\":\"v\",\"showlegend\":true,\"text\":[\"AXA\",\"Carrefour\",\"Vinci\",\"Renault\",\"Orange\",\"Saint-Gobain\",\"Sanofi\",\"Bouygues\",\"Danone\"],\"x\":[0.02515682,-0.089031376,0.08838448,0.00035345554,0.056863822,0.10289001,0.026294697,-0.051049408,-0.010751831],\"xaxis\":\"x\",\"y\":[0.30407566,-0.030340545,0.112318166,-0.06197458,0.12088796,0.3567371,0.2118616,0.16379924,0.16090691],\"yaxis\":\"y\",\"type\":\"scatter\",\"textposition\":\"top center\"},{\"hovertemplate\":\"Location=Japan<br>achievement-caring=%{x}<br>feminine-masculine=%{y}<br>Company Name=%{text}<extra></extra>\",\"legendgroup\":\"Japan\",\"marker\":{\"color\":\"#1C8356\",\"symbol\":\"circle\"},\"mode\":\"markers+text\",\"name\":\"Japan\",\"orientation\":\"v\",\"showlegend\":true,\"text\":[\"Mitsubishi\",\"Itochu\",\"Sony\",\"Hitachi\",\"AEON\",\"Mitsui\",\"Panasonic\",\"Marubeni\",\"KDDI\",\"Denso\",\"Sumitomo\",\"Fujitsu\",\"Aisin\",\"Canon\",\"Toshiba\",\"NEC\",\"Bridgestone\",\"Subaru\"],\"x\":[-0.050202604,-0.047663018,-0.055882297,0.010798385,0.06810087,-0.014372463,0.098066874,-0.022535823,0.0045225993,0.088615246,0.02337904,-0.038575858,0.034944534,-0.091141835,-0.046486527,-0.07074004,-0.029072387,-0.087272786],\"xaxis\":\"x\",\"y\":[-0.28819054,-0.14993349,-0.1704794,-0.006405446,-0.24352758,-0.23064941,-0.039223265,-0.27319634,0.06003544,-0.0282197,-0.200774,-0.020052752,-0.18606,-0.10997941,-0.24550144,-0.04320155,-0.014172657,-0.46625745],\"yaxis\":\"y\",\"type\":\"scatter\",\"textposition\":\"top center\"},{\"hovertemplate\":\"Location=Russia<br>achievement-caring=%{x}<br>feminine-masculine=%{y}<br>Company Name=%{text}<extra></extra>\",\"legendgroup\":\"Russia\",\"marker\":{\"color\":\"#16FF32\",\"symbol\":\"circle\"},\"mode\":\"markers+text\",\"name\":\"Russia\",\"orientation\":\"v\",\"showlegend\":true,\"text\":[\"Gazprom\",\"Lukoil\",\"Sberbank\"],\"x\":[0.108263135,0.13421367,0.022093294],\"xaxis\":\"x\",\"y\":[0.16050774,0.1296193,-0.048515867],\"yaxis\":\"y\",\"type\":\"scatter\",\"textposition\":\"top center\"},{\"hovertemplate\":\"Location=China<br>achievement-caring=%{x}<br>feminine-masculine=%{y}<br>Company Name=%{text}<extra></extra>\",\"legendgroup\":\"China\",\"marker\":{\"color\":\"#F7E1A0\",\"symbol\":\"circle\"},\"mode\":\"markers+text\",\"name\":\"China\",\"orientation\":\"v\",\"showlegend\":true,\"text\":[\"COFCO\",\"Sinochem\",\"Xiaomi\"],\"x\":[-0.09642286,0.014965606,-0.113780975],\"xaxis\":\"x\",\"y\":[0.2447625,-0.02680284,0.06789955],\"yaxis\":\"y\",\"type\":\"scatter\",\"textposition\":\"top center\"},{\"hovertemplate\":\"Location=Italy<br>achievement-caring=%{x}<br>feminine-masculine=%{y}<br>Company Name=%{text}<extra></extra>\",\"legendgroup\":\"Italy\",\"marker\":{\"color\":\"#E2E2E2\",\"symbol\":\"circle\"},\"mode\":\"markers+text\",\"name\":\"Italy\",\"orientation\":\"v\",\"showlegend\":true,\"text\":[\"Enel\",\"ENI\"],\"x\":[0.074267305,0.13405791],\"xaxis\":\"x\",\"y\":[-0.026869671,0.058939073],\"yaxis\":\"y\",\"type\":\"scatter\",\"textposition\":\"top center\"},{\"hovertemplate\":\"Location=South Korea<br>achievement-caring=%{x}<br>feminine-masculine=%{y}<br>Company Name=%{text}<extra></extra>\",\"legendgroup\":\"South Korea\",\"marker\":{\"color\":\"#1CBE4F\",\"symbol\":\"circle\"},\"mode\":\"markers+text\",\"name\":\"South Korea\",\"orientation\":\"v\",\"showlegend\":true,\"text\":[\"SK\",\"Kia\",\"POSCO\",\"Hanwha\"],\"x\":[-0.07461887,0.008846503,0.055431865,0.13539572],\"xaxis\":\"x\",\"y\":[-0.13177113,-0.14856678,0.028432963,-0.1414538],\"yaxis\":\"y\",\"type\":\"scatter\",\"textposition\":\"top center\"},{\"hovertemplate\":\"Location=Netherlands<br>achievement-caring=%{x}<br>feminine-masculine=%{y}<br>Company Name=%{text}<extra></extra>\",\"legendgroup\":\"Netherlands\",\"marker\":{\"color\":\"#C4451C\",\"symbol\":\"circle\"},\"mode\":\"markers+text\",\"name\":\"Netherlands\",\"orientation\":\"v\",\"showlegend\":true,\"text\":[\"Aegon\",\"Airbus\"],\"x\":[-0.07795562,0.05370159],\"xaxis\":\"x\",\"y\":[0.22116442,0.104751624],\"yaxis\":\"y\",\"type\":\"scatter\",\"textposition\":\"top center\"},{\"hovertemplate\":\"Location=Brazil<br>achievement-caring=%{x}<br>feminine-masculine=%{y}<br>Company Name=%{text}<extra></extra>\",\"legendgroup\":\"Brazil\",\"marker\":{\"color\":\"#DEA0FD\",\"symbol\":\"circle\"},\"mode\":\"markers+text\",\"name\":\"Brazil\",\"orientation\":\"v\",\"showlegend\":true,\"text\":[\"Petrobras\",\"JBS\",\"Vale\"],\"x\":[-0.022139715,-0.069979705,0.12012598],\"xaxis\":\"x\",\"y\":[-0.11833662,-0.12346694,0.06898672],\"yaxis\":\"y\",\"type\":\"scatter\",\"textposition\":\"top center\"},{\"hovertemplate\":\"Location=Finland<br>achievement-caring=%{x}<br>feminine-masculine=%{y}<br>Company Name=%{text}<extra></extra>\",\"legendgroup\":\"Finland\",\"marker\":{\"color\":\"#FE00FA\",\"symbol\":\"circle\"},\"mode\":\"markers+text\",\"name\":\"Finland\",\"orientation\":\"v\",\"showlegend\":true,\"text\":[\"Fortum\",\"Nokia\"],\"x\":[-0.07682666,-0.13496047],\"xaxis\":\"x\",\"y\":[-0.04705997,-0.099052876],\"yaxis\":\"y\",\"type\":\"scatter\",\"textposition\":\"top center\"},{\"hovertemplate\":\"Location=Luxembourg<br>achievement-caring=%{x}<br>feminine-masculine=%{y}<br>Company Name=%{text}<extra></extra>\",\"legendgroup\":\"Luxembourg\",\"marker\":{\"color\":\"#325A9B\",\"symbol\":\"circle\"},\"mode\":\"markers+text\",\"name\":\"Luxembourg\",\"orientation\":\"v\",\"showlegend\":true,\"text\":[\"ArcelorMittal\"],\"x\":[0.08121985],\"xaxis\":\"x\",\"y\":[-0.058461487],\"yaxis\":\"y\",\"type\":\"scatter\",\"textposition\":\"top center\"},{\"hovertemplate\":\"Location=Thailand<br>achievement-caring=%{x}<br>feminine-masculine=%{y}<br>Company Name=%{text}<extra></extra>\",\"legendgroup\":\"Thailand\",\"marker\":{\"color\":\"#FEAF16\",\"symbol\":\"circle\"},\"mode\":\"markers+text\",\"name\":\"Thailand\",\"orientation\":\"v\",\"showlegend\":true,\"text\":[\"PTT\"],\"x\":[-0.055018187],\"xaxis\":\"x\",\"y\":[0.3275674],\"yaxis\":\"y\",\"type\":\"scatter\",\"textposition\":\"top center\"},{\"hovertemplate\":\"Location=Taiwan<br>achievement-caring=%{x}<br>feminine-masculine=%{y}<br>Company Name=%{text}<extra></extra>\",\"legendgroup\":\"Taiwan\",\"marker\":{\"color\":\"#F8A19F\",\"symbol\":\"circle\"},\"mode\":\"markers+text\",\"name\":\"Taiwan\",\"orientation\":\"v\",\"showlegend\":true,\"text\":[\"Pegatron\",\"Wistron\"],\"x\":[-0.017427769,0.09375012],\"xaxis\":\"x\",\"y\":[0.061220422,0.109593466],\"yaxis\":\"y\",\"type\":\"scatter\",\"textposition\":\"top center\"},{\"hovertemplate\":\"Location=Mexico<br>achievement-caring=%{x}<br>feminine-masculine=%{y}<br>Company Name=%{text}<extra></extra>\",\"legendgroup\":\"Mexico\",\"marker\":{\"color\":\"#90AD1C\",\"symbol\":\"circle\"},\"mode\":\"markers+text\",\"name\":\"Mexico\",\"orientation\":\"v\",\"showlegend\":true,\"text\":[\"Pemex\"],\"x\":[-0.06985965],\"xaxis\":\"x\",\"y\":[-0.115690544],\"yaxis\":\"y\",\"type\":\"scatter\",\"textposition\":\"top center\"},{\"hovertemplate\":\"Location=Ireland<br>achievement-caring=%{x}<br>feminine-masculine=%{y}<br>Company Name=%{text}<extra></extra>\",\"legendgroup\":\"Ireland\",\"marker\":{\"color\":\"#F6222E\",\"symbol\":\"circle\"},\"mode\":\"markers+text\",\"name\":\"Ireland\",\"orientation\":\"v\",\"showlegend\":true,\"text\":[\"Accenture\",\"Medtronic\",\"CRH\"],\"x\":[0.06797332,-0.09314189,0.055856857],\"xaxis\":\"x\",\"y\":[0.15498649,0.008943868,0.046221327],\"yaxis\":\"y\",\"type\":\"scatter\",\"textposition\":\"top center\"},{\"hovertemplate\":\"Location=Malaysia<br>achievement-caring=%{x}<br>feminine-masculine=%{y}<br>Company Name=%{text}<extra></extra>\",\"legendgroup\":\"Malaysia\",\"marker\":{\"color\":\"#1CFFCE\",\"symbol\":\"circle\"},\"mode\":\"markers+text\",\"name\":\"Malaysia\",\"orientation\":\"v\",\"showlegend\":true,\"text\":[\"Petronas\"],\"x\":[0.0070666578],\"xaxis\":\"x\",\"y\":[-0.054567814],\"yaxis\":\"y\",\"type\":\"scatter\",\"textposition\":\"top center\"},{\"hovertemplate\":\"Location=Indonesia<br>achievement-caring=%{x}<br>feminine-masculine=%{y}<br>Company Name=%{text}<extra></extra>\",\"legendgroup\":\"Indonesia\",\"marker\":{\"color\":\"#2ED9FF\",\"symbol\":\"circle\"},\"mode\":\"markers+text\",\"name\":\"Indonesia\",\"orientation\":\"v\",\"showlegend\":true,\"text\":[\"Pertamina\"],\"x\":[-0.035616226],\"xaxis\":\"x\",\"y\":[-0.16357385],\"yaxis\":\"y\",\"type\":\"scatter\",\"textposition\":\"top center\"},{\"hovertemplate\":\"Location=Spain<br>achievement-caring=%{x}<br>feminine-masculine=%{y}<br>Company Name=%{text}<extra></extra>\",\"legendgroup\":\"Spain\",\"marker\":{\"color\":\"#B10DA1\",\"symbol\":\"circle\"},\"mode\":\"markers+text\",\"name\":\"Spain\",\"orientation\":\"v\",\"showlegend\":true,\"text\":[\"ACS\",\"Iberdrola\",\"Repsol\"],\"x\":[0.080509245,0.08997122,0.07109172],\"xaxis\":\"x\",\"y\":[0.031194955,-0.20056492,0.09991858],\"yaxis\":\"y\",\"type\":\"scatter\",\"textposition\":\"top center\"},{\"hovertemplate\":\"Location=Sweden<br>achievement-caring=%{x}<br>feminine-masculine=%{y}<br>Company Name=%{text}<extra></extra>\",\"legendgroup\":\"Sweden\",\"marker\":{\"color\":\"#C075A6\",\"symbol\":\"circle\"},\"mode\":\"markers+text\",\"name\":\"Sweden\",\"orientation\":\"v\",\"showlegend\":true,\"text\":[\"Volvo\",\"Ericsson\"],\"x\":[0.06791642,-0.0367126],\"xaxis\":\"x\",\"y\":[-0.0998174,-0.16672534],\"yaxis\":\"y\",\"type\":\"scatter\",\"textposition\":\"top center\"},{\"hovertemplate\":\"Location=Canada<br>achievement-caring=%{x}<br>feminine-masculine=%{y}<br>Company Name=%{text}<extra></extra>\",\"legendgroup\":\"Canada\",\"marker\":{\"color\":\"#FC1CBF\",\"symbol\":\"circle\"},\"mode\":\"markers+text\",\"name\":\"Canada\",\"orientation\":\"v\",\"showlegend\":true,\"text\":[\"Enbridge\"],\"x\":[-0.06754399],\"xaxis\":\"x\",\"y\":[-0.2671828],\"yaxis\":\"y\",\"type\":\"scatter\",\"textposition\":\"top center\"},{\"hovertemplate\":\"Location=Singapore<br>achievement-caring=%{x}<br>feminine-masculine=%{y}<br>Company Name=%{text}<extra></extra>\",\"legendgroup\":\"Singapore\",\"marker\":{\"color\":\"#B00068\",\"symbol\":\"circle\"},\"mode\":\"markers+text\",\"name\":\"Singapore\",\"orientation\":\"v\",\"showlegend\":true,\"text\":[\"Flex\"],\"x\":[-0.03579407],\"xaxis\":\"x\",\"y\":[0.06689319],\"yaxis\":\"y\",\"type\":\"scatter\",\"textposition\":\"top center\"}],                        {\"template\":{\"data\":{\"bar\":[{\"error_x\":{\"color\":\"#2a3f5f\"},\"error_y\":{\"color\":\"#2a3f5f\"},\"marker\":{\"line\":{\"color\":\"#E5ECF6\",\"width\":0.5},\"pattern\":{\"fillmode\":\"overlay\",\"size\":10,\"solidity\":0.2}},\"type\":\"bar\"}],\"barpolar\":[{\"marker\":{\"line\":{\"color\":\"#E5ECF6\",\"width\":0.5},\"pattern\":{\"fillmode\":\"overlay\",\"size\":10,\"solidity\":0.2}},\"type\":\"barpolar\"}],\"carpet\":[{\"aaxis\":{\"endlinecolor\":\"#2a3f5f\",\"gridcolor\":\"white\",\"linecolor\":\"white\",\"minorgridcolor\":\"white\",\"startlinecolor\":\"#2a3f5f\"},\"baxis\":{\"endlinecolor\":\"#2a3f5f\",\"gridcolor\":\"white\",\"linecolor\":\"white\",\"minorgridcolor\":\"white\",\"startlinecolor\":\"#2a3f5f\"},\"type\":\"carpet\"}],\"choropleth\":[{\"colorbar\":{\"outlinewidth\":0,\"ticks\":\"\"},\"type\":\"choropleth\"}],\"contour\":[{\"colorbar\":{\"outlinewidth\":0,\"ticks\":\"\"},\"colorscale\":[[0.0,\"#0d0887\"],[0.1111111111111111,\"#46039f\"],[0.2222222222222222,\"#7201a8\"],[0.3333333333333333,\"#9c179e\"],[0.4444444444444444,\"#bd3786\"],[0.5555555555555556,\"#d8576b\"],[0.6666666666666666,\"#ed7953\"],[0.7777777777777778,\"#fb9f3a\"],[0.8888888888888888,\"#fdca26\"],[1.0,\"#f0f921\"]],\"type\":\"contour\"}],\"contourcarpet\":[{\"colorbar\":{\"outlinewidth\":0,\"ticks\":\"\"},\"type\":\"contourcarpet\"}],\"heatmap\":[{\"colorbar\":{\"outlinewidth\":0,\"ticks\":\"\"},\"colorscale\":[[0.0,\"#0d0887\"],[0.1111111111111111,\"#46039f\"],[0.2222222222222222,\"#7201a8\"],[0.3333333333333333,\"#9c179e\"],[0.4444444444444444,\"#bd3786\"],[0.5555555555555556,\"#d8576b\"],[0.6666666666666666,\"#ed7953\"],[0.7777777777777778,\"#fb9f3a\"],[0.8888888888888888,\"#fdca26\"],[1.0,\"#f0f921\"]],\"type\":\"heatmap\"}],\"heatmapgl\":[{\"colorbar\":{\"outlinewidth\":0,\"ticks\":\"\"},\"colorscale\":[[0.0,\"#0d0887\"],[0.1111111111111111,\"#46039f\"],[0.2222222222222222,\"#7201a8\"],[0.3333333333333333,\"#9c179e\"],[0.4444444444444444,\"#bd3786\"],[0.5555555555555556,\"#d8576b\"],[0.6666666666666666,\"#ed7953\"],[0.7777777777777778,\"#fb9f3a\"],[0.8888888888888888,\"#fdca26\"],[1.0,\"#f0f921\"]],\"type\":\"heatmapgl\"}],\"histogram\":[{\"marker\":{\"pattern\":{\"fillmode\":\"overlay\",\"size\":10,\"solidity\":0.2}},\"type\":\"histogram\"}],\"histogram2d\":[{\"colorbar\":{\"outlinewidth\":0,\"ticks\":\"\"},\"colorscale\":[[0.0,\"#0d0887\"],[0.1111111111111111,\"#46039f\"],[0.2222222222222222,\"#7201a8\"],[0.3333333333333333,\"#9c179e\"],[0.4444444444444444,\"#bd3786\"],[0.5555555555555556,\"#d8576b\"],[0.6666666666666666,\"#ed7953\"],[0.7777777777777778,\"#fb9f3a\"],[0.8888888888888888,\"#fdca26\"],[1.0,\"#f0f921\"]],\"type\":\"histogram2d\"}],\"histogram2dcontour\":[{\"colorbar\":{\"outlinewidth\":0,\"ticks\":\"\"},\"colorscale\":[[0.0,\"#0d0887\"],[0.1111111111111111,\"#46039f\"],[0.2222222222222222,\"#7201a8\"],[0.3333333333333333,\"#9c179e\"],[0.4444444444444444,\"#bd3786\"],[0.5555555555555556,\"#d8576b\"],[0.6666666666666666,\"#ed7953\"],[0.7777777777777778,\"#fb9f3a\"],[0.8888888888888888,\"#fdca26\"],[1.0,\"#f0f921\"]],\"type\":\"histogram2dcontour\"}],\"mesh3d\":[{\"colorbar\":{\"outlinewidth\":0,\"ticks\":\"\"},\"type\":\"mesh3d\"}],\"parcoords\":[{\"line\":{\"colorbar\":{\"outlinewidth\":0,\"ticks\":\"\"}},\"type\":\"parcoords\"}],\"pie\":[{\"automargin\":true,\"type\":\"pie\"}],\"scatter\":[{\"marker\":{\"colorbar\":{\"outlinewidth\":0,\"ticks\":\"\"}},\"type\":\"scatter\"}],\"scatter3d\":[{\"line\":{\"colorbar\":{\"outlinewidth\":0,\"ticks\":\"\"}},\"marker\":{\"colorbar\":{\"outlinewidth\":0,\"ticks\":\"\"}},\"type\":\"scatter3d\"}],\"scattercarpet\":[{\"marker\":{\"colorbar\":{\"outlinewidth\":0,\"ticks\":\"\"}},\"type\":\"scattercarpet\"}],\"scattergeo\":[{\"marker\":{\"colorbar\":{\"outlinewidth\":0,\"ticks\":\"\"}},\"type\":\"scattergeo\"}],\"scattergl\":[{\"marker\":{\"colorbar\":{\"outlinewidth\":0,\"ticks\":\"\"}},\"type\":\"scattergl\"}],\"scattermapbox\":[{\"marker\":{\"colorbar\":{\"outlinewidth\":0,\"ticks\":\"\"}},\"type\":\"scattermapbox\"}],\"scatterpolar\":[{\"marker\":{\"colorbar\":{\"outlinewidth\":0,\"ticks\":\"\"}},\"type\":\"scatterpolar\"}],\"scatterpolargl\":[{\"marker\":{\"colorbar\":{\"outlinewidth\":0,\"ticks\":\"\"}},\"type\":\"scatterpolargl\"}],\"scatterternary\":[{\"marker\":{\"colorbar\":{\"outlinewidth\":0,\"ticks\":\"\"}},\"type\":\"scatterternary\"}],\"surface\":[{\"colorbar\":{\"outlinewidth\":0,\"ticks\":\"\"},\"colorscale\":[[0.0,\"#0d0887\"],[0.1111111111111111,\"#46039f\"],[0.2222222222222222,\"#7201a8\"],[0.3333333333333333,\"#9c179e\"],[0.4444444444444444,\"#bd3786\"],[0.5555555555555556,\"#d8576b\"],[0.6666666666666666,\"#ed7953\"],[0.7777777777777778,\"#fb9f3a\"],[0.8888888888888888,\"#fdca26\"],[1.0,\"#f0f921\"]],\"type\":\"surface\"}],\"table\":[{\"cells\":{\"fill\":{\"color\":\"#EBF0F8\"},\"line\":{\"color\":\"white\"}},\"header\":{\"fill\":{\"color\":\"#C8D4E3\"},\"line\":{\"color\":\"white\"}},\"type\":\"table\"}]},\"layout\":{\"annotationdefaults\":{\"arrowcolor\":\"#2a3f5f\",\"arrowhead\":0,\"arrowwidth\":1},\"autotypenumbers\":\"strict\",\"coloraxis\":{\"colorbar\":{\"outlinewidth\":0,\"ticks\":\"\"}},\"colorscale\":{\"diverging\":[[0,\"#8e0152\"],[0.1,\"#c51b7d\"],[0.2,\"#de77ae\"],[0.3,\"#f1b6da\"],[0.4,\"#fde0ef\"],[0.5,\"#f7f7f7\"],[0.6,\"#e6f5d0\"],[0.7,\"#b8e186\"],[0.8,\"#7fbc41\"],[0.9,\"#4d9221\"],[1,\"#276419\"]],\"sequential\":[[0.0,\"#0d0887\"],[0.1111111111111111,\"#46039f\"],[0.2222222222222222,\"#7201a8\"],[0.3333333333333333,\"#9c179e\"],[0.4444444444444444,\"#bd3786\"],[0.5555555555555556,\"#d8576b\"],[0.6666666666666666,\"#ed7953\"],[0.7777777777777778,\"#fb9f3a\"],[0.8888888888888888,\"#fdca26\"],[1.0,\"#f0f921\"]],\"sequentialminus\":[[0.0,\"#0d0887\"],[0.1111111111111111,\"#46039f\"],[0.2222222222222222,\"#7201a8\"],[0.3333333333333333,\"#9c179e\"],[0.4444444444444444,\"#bd3786\"],[0.5555555555555556,\"#d8576b\"],[0.6666666666666666,\"#ed7953\"],[0.7777777777777778,\"#fb9f3a\"],[0.8888888888888888,\"#fdca26\"],[1.0,\"#f0f921\"]]},\"colorway\":[\"#636efa\",\"#EF553B\",\"#00cc96\",\"#ab63fa\",\"#FFA15A\",\"#19d3f3\",\"#FF6692\",\"#B6E880\",\"#FF97FF\",\"#FECB52\"],\"font\":{\"color\":\"#2a3f5f\"},\"geo\":{\"bgcolor\":\"white\",\"lakecolor\":\"white\",\"landcolor\":\"#E5ECF6\",\"showlakes\":true,\"showland\":true,\"subunitcolor\":\"white\"},\"hoverlabel\":{\"align\":\"left\"},\"hovermode\":\"closest\",\"mapbox\":{\"style\":\"light\"},\"paper_bgcolor\":\"white\",\"plot_bgcolor\":\"#E5ECF6\",\"polar\":{\"angularaxis\":{\"gridcolor\":\"white\",\"linecolor\":\"white\",\"ticks\":\"\"},\"bgcolor\":\"#E5ECF6\",\"radialaxis\":{\"gridcolor\":\"white\",\"linecolor\":\"white\",\"ticks\":\"\"}},\"scene\":{\"xaxis\":{\"backgroundcolor\":\"#E5ECF6\",\"gridcolor\":\"white\",\"gridwidth\":2,\"linecolor\":\"white\",\"showbackground\":true,\"ticks\":\"\",\"zerolinecolor\":\"white\"},\"yaxis\":{\"backgroundcolor\":\"#E5ECF6\",\"gridcolor\":\"white\",\"gridwidth\":2,\"linecolor\":\"white\",\"showbackground\":true,\"ticks\":\"\",\"zerolinecolor\":\"white\"},\"zaxis\":{\"backgroundcolor\":\"#E5ECF6\",\"gridcolor\":\"white\",\"gridwidth\":2,\"linecolor\":\"white\",\"showbackground\":true,\"ticks\":\"\",\"zerolinecolor\":\"white\"}},\"shapedefaults\":{\"line\":{\"color\":\"#2a3f5f\"}},\"ternary\":{\"aaxis\":{\"gridcolor\":\"white\",\"linecolor\":\"white\",\"ticks\":\"\"},\"baxis\":{\"gridcolor\":\"white\",\"linecolor\":\"white\",\"ticks\":\"\"},\"bgcolor\":\"#E5ECF6\",\"caxis\":{\"gridcolor\":\"white\",\"linecolor\":\"white\",\"ticks\":\"\"}},\"title\":{\"x\":0.05},\"xaxis\":{\"automargin\":true,\"gridcolor\":\"white\",\"linecolor\":\"white\",\"ticks\":\"\",\"title\":{\"standoff\":15},\"zerolinecolor\":\"white\",\"zerolinewidth\":2},\"yaxis\":{\"automargin\":true,\"gridcolor\":\"white\",\"linecolor\":\"white\",\"ticks\":\"\",\"title\":{\"standoff\":15},\"zerolinecolor\":\"white\",\"zerolinewidth\":2}}},\"xaxis\":{\"anchor\":\"y\",\"domain\":[0.0,1.0],\"title\":{\"text\":\"achievement-caring\"}},\"yaxis\":{\"anchor\":\"x\",\"domain\":[0.0,1.0],\"title\":{\"text\":\"feminine-masculine\"}},\"legend\":{\"title\":{\"text\":\"Location\"},\"tracegroupgap\":0},\"margin\":{\"t\":60},\"title\":{\"text\":\"Companies\",\"x\":0.5}},                        {\"responsive\": true}                    ).then(function(){\n",
              "                            \n",
              "var gd = document.getElementById('8ec8c561-a8b5-46f4-82ca-a2fd6582f359');\n",
              "var x = new MutationObserver(function (mutations, observer) {{\n",
              "        var display = window.getComputedStyle(gd).display;\n",
              "        if (!display || display === 'none') {{\n",
              "            console.log([gd, 'removed!']);\n",
              "            Plotly.purge(gd);\n",
              "            observer.disconnect();\n",
              "        }}\n",
              "}});\n",
              "\n",
              "// Listen for the removal of the full notebook cells\n",
              "var notebookContainer = gd.closest('#notebook-container');\n",
              "if (notebookContainer) {{\n",
              "    x.observe(notebookContainer, {childList: true});\n",
              "}}\n",
              "\n",
              "// Listen for the clearing of the current output cell\n",
              "var outputEl = gd.closest('.output');\n",
              "if (outputEl) {{\n",
              "    x.observe(outputEl, {childList: true});\n",
              "}}\n",
              "\n",
              "                        })                };                            </script>        </div>\n",
              "</body>\n",
              "</html>"
            ]
          },
          "metadata": {}
        }
      ]
    },
    {
      "cell_type": "markdown",
      "source": [
        "**3D visualization of the companies. each Axis represents an antonym pair**"
      ],
      "metadata": {
        "id": "QBVKKDzFEFOn"
      }
    },
    {
      "cell_type": "code",
      "source": [
        "fig = px.scatter_3d(df, x=character_1, y=character_2, z=character_3, text=\"Company Name\", size_max=1,color='Location', color_discrete_sequence= px.colors.qualitative.Alphabet)\n",
        "fig.update_traces(textposition='top center')\n",
        "fig.update_layout(title_text='Companies', title_x=0.5)\n",
        "fig.show()"
      ],
      "metadata": {
        "id": "r3CrwxzrRovG"
      },
      "execution_count": null,
      "outputs": []
    },
    {
      "cell_type": "markdown",
      "source": [
        "**Location wise distribution of companies based on characteristics**"
      ],
      "metadata": {
        "id": "CdvwceXLDgCv"
      }
    },
    {
      "cell_type": "code",
      "source": [
        "character_of_company = 'achievement-caring'\n",
        "left_character_of_company = character_of_company.split(\"-\")[0].capitalize()\n",
        "right_character_of_company = character_of_company.split(\"-\")[1].capitalize()\n",
        "\n",
        "# Making a copy of data frame\n",
        "new_df = df\n"
      ],
      "metadata": {
        "id": "EMUTWRxacEpw"
      },
      "execution_count": 9,
      "outputs": []
    },
    {
      "cell_type": "code",
      "source": [
        "# This will find the total number of companies in our data frame based on Location\n",
        "total_company_list_based_on_loc_df = new_df.groupby('Location').count()\n",
        "total_company_list_based_on_loc=total_company_list_based_on_loc_df['Company Name']\n",
        "\n",
        "# This will count the number of companies having the value greater than 0 \n",
        "# so if the character_of_company = \"achievement-caring\" then greater than 0 means all companies inclined towards caring\n",
        "subset_df = new_df[new_df[character_of_company] > 0]\n",
        "company_inclined_to_right_polar_df = subset_df.groupby('Location').count()\n",
        "company_inclined_to_right_polar = company_inclined_to_right_polar_df['Company Name']\n",
        "\n",
        "print(total_company_list_based_on_loc)"
      ],
      "metadata": {
        "id": "BMachBfJkqQA",
        "colab": {
          "base_uri": "https://localhost:8080/"
        },
        "outputId": "ddc040e8-d2ca-4c6b-f5d8-07307ddf051d"
      },
      "execution_count": 19,
      "outputs": [
        {
          "output_type": "stream",
          "name": "stdout",
          "text": [
            "Location\n",
            "Brazil          3\n",
            "Britain        10\n",
            "Canada          1\n",
            "China           3\n",
            "Finland         2\n",
            "France          9\n",
            "Germany        12\n",
            "Indonesia       1\n",
            "Ireland         3\n",
            "Italy           2\n",
            "Japan          18\n",
            "Luxembourg      1\n",
            "Malaysia        1\n",
            "Mexico          1\n",
            "Netherlands     2\n",
            "Russia          3\n",
            "Singapore       1\n",
            "South Korea     4\n",
            "Spain           3\n",
            "Sweden          2\n",
            "Switzerland     5\n",
            "Taiwan          2\n",
            "Thailand        1\n",
            "USA            52\n",
            "Name: Company Name, dtype: int64\n"
          ]
        }
      ]
    },
    {
      "cell_type": "code",
      "source": [
        "name1 = left_character_of_company+\" Companies\"\n",
        "name2 = right_character_of_company+\" Companies\"\n",
        "new_data ={\n",
        "    name1 : total_company_list_based_on_loc,\n",
        "    name2 : company_inclined_to_right_polar\n",
        "}\n",
        "final_df = pd.DataFrame(new_data)\n",
        "final_df = final_df.fillna(0)\n",
        "\n",
        "# we are doing th below step to get the comapnies inclined towards the left polar i.e if we take the character = \"achievement-caring\" \n",
        "# the difference between total companies and companies inclined towards caring would give the number of comapnies inclined towards achievement\n",
        "final_df[name1] = final_df[name1] - final_df[name2]\n",
        "\n",
        "final_df['Percentage'] = final_df[name1] / (final_df[name1] + final_df[name2]) * 100\n",
        "#print(final_df)\n",
        "\n",
        "test_df = final_df[final_df[name1] + final_df[name2] > 3]\n",
        "print(test_df)"
      ],
      "metadata": {
        "id": "J7pdSldDxMEu",
        "colab": {
          "base_uri": "https://localhost:8080/"
        },
        "outputId": "a01bb843-377a-4ed0-df7f-c6142e96fd4e"
      },
      "execution_count": 20,
      "outputs": [
        {
          "output_type": "stream",
          "name": "stdout",
          "text": [
            "             Achievement Companies  Caring Companies  Percentage\n",
            "Location                                                        \n",
            "Britain                        3.0               7.0   30.000000\n",
            "France                         3.0               6.0   33.333333\n",
            "Germany                        4.0               8.0   33.333333\n",
            "Japan                         11.0               7.0   61.111111\n",
            "South Korea                    1.0               3.0   25.000000\n",
            "Switzerland                    1.0               4.0   20.000000\n",
            "USA                           34.0              18.0   65.384615\n"
          ]
        }
      ]
    },
    {
      "cell_type": "code",
      "source": [
        "fig = px.bar(final_df)\n",
        "fig.update_layout(title_text='Location wise distribution of companies', title_x=0.5)\n",
        "fig.show()"
      ],
      "metadata": {
        "id": "Qd_Dfrgn3gbG",
        "colab": {
          "base_uri": "https://localhost:8080/",
          "height": 542
        },
        "outputId": "56b14e23-4625-482c-fb1c-b2197be22571"
      },
      "execution_count": 16,
      "outputs": [
        {
          "output_type": "display_data",
          "data": {
            "text/html": [
              "<html>\n",
              "<head><meta charset=\"utf-8\" /></head>\n",
              "<body>\n",
              "    <div>            <script src=\"https://cdnjs.cloudflare.com/ajax/libs/mathjax/2.7.5/MathJax.js?config=TeX-AMS-MML_SVG\"></script><script type=\"text/javascript\">if (window.MathJax) {MathJax.Hub.Config({SVG: {font: \"STIX-Web\"}});}</script>                <script type=\"text/javascript\">window.PlotlyConfig = {MathJaxConfig: 'local'};</script>\n",
              "        <script src=\"https://cdn.plot.ly/plotly-2.8.3.min.js\"></script>                <div id=\"177038f1-83f2-4218-b9a8-e6e461273639\" class=\"plotly-graph-div\" style=\"height:525px; width:100%;\"></div>            <script type=\"text/javascript\">                                    window.PLOTLYENV=window.PLOTLYENV || {};                                    if (document.getElementById(\"177038f1-83f2-4218-b9a8-e6e461273639\")) {                    Plotly.newPlot(                        \"177038f1-83f2-4218-b9a8-e6e461273639\",                        [{\"alignmentgroup\":\"True\",\"hovertemplate\":\"variable=Achievement Companies<br>Location=%{x}<br>value=%{y}<extra></extra>\",\"legendgroup\":\"Achievement Companies\",\"marker\":{\"color\":\"#636efa\",\"pattern\":{\"shape\":\"\"}},\"name\":\"Achievement Companies\",\"offsetgroup\":\"Achievement Companies\",\"orientation\":\"v\",\"showlegend\":true,\"textposition\":\"auto\",\"x\":[\"Brazil\",\"Britain\",\"Canada\",\"China\",\"Finland\",\"France\",\"Germany\",\"Indonesia\",\"Ireland\",\"Italy\",\"Japan\",\"Luxembourg\",\"Malaysia\",\"Mexico\",\"Netherlands\",\"Russia\",\"Singapore\",\"South Korea\",\"Spain\",\"Sweden\",\"Switzerland\",\"Taiwan\",\"Thailand\",\"USA\"],\"xaxis\":\"x\",\"y\":[1.0,7.0,0.0,1.0,0.0,6.0,8.0,0.0,2.0,2.0,7.0,1.0,1.0,0.0,1.0,3.0,0.0,3.0,3.0,1.0,4.0,1.0,0.0,18.0],\"yaxis\":\"y\",\"type\":\"bar\"},{\"alignmentgroup\":\"True\",\"hovertemplate\":\"variable=Caring Companies<br>Location=%{x}<br>value=%{y}<extra></extra>\",\"legendgroup\":\"Caring Companies\",\"marker\":{\"color\":\"#EF553B\",\"pattern\":{\"shape\":\"\"}},\"name\":\"Caring Companies\",\"offsetgroup\":\"Caring Companies\",\"orientation\":\"v\",\"showlegend\":true,\"textposition\":\"auto\",\"x\":[\"Brazil\",\"Britain\",\"Canada\",\"China\",\"Finland\",\"France\",\"Germany\",\"Indonesia\",\"Ireland\",\"Italy\",\"Japan\",\"Luxembourg\",\"Malaysia\",\"Mexico\",\"Netherlands\",\"Russia\",\"Singapore\",\"South Korea\",\"Spain\",\"Sweden\",\"Switzerland\",\"Taiwan\",\"Thailand\",\"USA\"],\"xaxis\":\"x\",\"y\":[2.0,3.0,1.0,2.0,2.0,3.0,4.0,1.0,1.0,0.0,11.0,0.0,0.0,1.0,1.0,0.0,1.0,1.0,0.0,1.0,1.0,1.0,1.0,34.0],\"yaxis\":\"y\",\"type\":\"bar\"},{\"alignmentgroup\":\"True\",\"hovertemplate\":\"variable=Percentage<br>Location=%{x}<br>value=%{y}<extra></extra>\",\"legendgroup\":\"Percentage\",\"marker\":{\"color\":\"#00cc96\",\"pattern\":{\"shape\":\"\"}},\"name\":\"Percentage\",\"offsetgroup\":\"Percentage\",\"orientation\":\"v\",\"showlegend\":true,\"textposition\":\"auto\",\"x\":[\"Brazil\",\"Britain\",\"Canada\",\"China\",\"Finland\",\"France\",\"Germany\",\"Indonesia\",\"Ireland\",\"Italy\",\"Japan\",\"Luxembourg\",\"Malaysia\",\"Mexico\",\"Netherlands\",\"Russia\",\"Singapore\",\"South Korea\",\"Spain\",\"Sweden\",\"Switzerland\",\"Taiwan\",\"Thailand\",\"USA\"],\"xaxis\":\"x\",\"y\":[33.33333333333333,70.0,0.0,33.33333333333333,0.0,66.66666666666666,66.66666666666666,0.0,66.66666666666666,100.0,38.88888888888889,100.0,100.0,0.0,50.0,100.0,0.0,75.0,100.0,50.0,80.0,50.0,0.0,34.61538461538461],\"yaxis\":\"y\",\"type\":\"bar\"}],                        {\"template\":{\"data\":{\"bar\":[{\"error_x\":{\"color\":\"#2a3f5f\"},\"error_y\":{\"color\":\"#2a3f5f\"},\"marker\":{\"line\":{\"color\":\"#E5ECF6\",\"width\":0.5},\"pattern\":{\"fillmode\":\"overlay\",\"size\":10,\"solidity\":0.2}},\"type\":\"bar\"}],\"barpolar\":[{\"marker\":{\"line\":{\"color\":\"#E5ECF6\",\"width\":0.5},\"pattern\":{\"fillmode\":\"overlay\",\"size\":10,\"solidity\":0.2}},\"type\":\"barpolar\"}],\"carpet\":[{\"aaxis\":{\"endlinecolor\":\"#2a3f5f\",\"gridcolor\":\"white\",\"linecolor\":\"white\",\"minorgridcolor\":\"white\",\"startlinecolor\":\"#2a3f5f\"},\"baxis\":{\"endlinecolor\":\"#2a3f5f\",\"gridcolor\":\"white\",\"linecolor\":\"white\",\"minorgridcolor\":\"white\",\"startlinecolor\":\"#2a3f5f\"},\"type\":\"carpet\"}],\"choropleth\":[{\"colorbar\":{\"outlinewidth\":0,\"ticks\":\"\"},\"type\":\"choropleth\"}],\"contour\":[{\"colorbar\":{\"outlinewidth\":0,\"ticks\":\"\"},\"colorscale\":[[0.0,\"#0d0887\"],[0.1111111111111111,\"#46039f\"],[0.2222222222222222,\"#7201a8\"],[0.3333333333333333,\"#9c179e\"],[0.4444444444444444,\"#bd3786\"],[0.5555555555555556,\"#d8576b\"],[0.6666666666666666,\"#ed7953\"],[0.7777777777777778,\"#fb9f3a\"],[0.8888888888888888,\"#fdca26\"],[1.0,\"#f0f921\"]],\"type\":\"contour\"}],\"contourcarpet\":[{\"colorbar\":{\"outlinewidth\":0,\"ticks\":\"\"},\"type\":\"contourcarpet\"}],\"heatmap\":[{\"colorbar\":{\"outlinewidth\":0,\"ticks\":\"\"},\"colorscale\":[[0.0,\"#0d0887\"],[0.1111111111111111,\"#46039f\"],[0.2222222222222222,\"#7201a8\"],[0.3333333333333333,\"#9c179e\"],[0.4444444444444444,\"#bd3786\"],[0.5555555555555556,\"#d8576b\"],[0.6666666666666666,\"#ed7953\"],[0.7777777777777778,\"#fb9f3a\"],[0.8888888888888888,\"#fdca26\"],[1.0,\"#f0f921\"]],\"type\":\"heatmap\"}],\"heatmapgl\":[{\"colorbar\":{\"outlinewidth\":0,\"ticks\":\"\"},\"colorscale\":[[0.0,\"#0d0887\"],[0.1111111111111111,\"#46039f\"],[0.2222222222222222,\"#7201a8\"],[0.3333333333333333,\"#9c179e\"],[0.4444444444444444,\"#bd3786\"],[0.5555555555555556,\"#d8576b\"],[0.6666666666666666,\"#ed7953\"],[0.7777777777777778,\"#fb9f3a\"],[0.8888888888888888,\"#fdca26\"],[1.0,\"#f0f921\"]],\"type\":\"heatmapgl\"}],\"histogram\":[{\"marker\":{\"pattern\":{\"fillmode\":\"overlay\",\"size\":10,\"solidity\":0.2}},\"type\":\"histogram\"}],\"histogram2d\":[{\"colorbar\":{\"outlinewidth\":0,\"ticks\":\"\"},\"colorscale\":[[0.0,\"#0d0887\"],[0.1111111111111111,\"#46039f\"],[0.2222222222222222,\"#7201a8\"],[0.3333333333333333,\"#9c179e\"],[0.4444444444444444,\"#bd3786\"],[0.5555555555555556,\"#d8576b\"],[0.6666666666666666,\"#ed7953\"],[0.7777777777777778,\"#fb9f3a\"],[0.8888888888888888,\"#fdca26\"],[1.0,\"#f0f921\"]],\"type\":\"histogram2d\"}],\"histogram2dcontour\":[{\"colorbar\":{\"outlinewidth\":0,\"ticks\":\"\"},\"colorscale\":[[0.0,\"#0d0887\"],[0.1111111111111111,\"#46039f\"],[0.2222222222222222,\"#7201a8\"],[0.3333333333333333,\"#9c179e\"],[0.4444444444444444,\"#bd3786\"],[0.5555555555555556,\"#d8576b\"],[0.6666666666666666,\"#ed7953\"],[0.7777777777777778,\"#fb9f3a\"],[0.8888888888888888,\"#fdca26\"],[1.0,\"#f0f921\"]],\"type\":\"histogram2dcontour\"}],\"mesh3d\":[{\"colorbar\":{\"outlinewidth\":0,\"ticks\":\"\"},\"type\":\"mesh3d\"}],\"parcoords\":[{\"line\":{\"colorbar\":{\"outlinewidth\":0,\"ticks\":\"\"}},\"type\":\"parcoords\"}],\"pie\":[{\"automargin\":true,\"type\":\"pie\"}],\"scatter\":[{\"marker\":{\"colorbar\":{\"outlinewidth\":0,\"ticks\":\"\"}},\"type\":\"scatter\"}],\"scatter3d\":[{\"line\":{\"colorbar\":{\"outlinewidth\":0,\"ticks\":\"\"}},\"marker\":{\"colorbar\":{\"outlinewidth\":0,\"ticks\":\"\"}},\"type\":\"scatter3d\"}],\"scattercarpet\":[{\"marker\":{\"colorbar\":{\"outlinewidth\":0,\"ticks\":\"\"}},\"type\":\"scattercarpet\"}],\"scattergeo\":[{\"marker\":{\"colorbar\":{\"outlinewidth\":0,\"ticks\":\"\"}},\"type\":\"scattergeo\"}],\"scattergl\":[{\"marker\":{\"colorbar\":{\"outlinewidth\":0,\"ticks\":\"\"}},\"type\":\"scattergl\"}],\"scattermapbox\":[{\"marker\":{\"colorbar\":{\"outlinewidth\":0,\"ticks\":\"\"}},\"type\":\"scattermapbox\"}],\"scatterpolar\":[{\"marker\":{\"colorbar\":{\"outlinewidth\":0,\"ticks\":\"\"}},\"type\":\"scatterpolar\"}],\"scatterpolargl\":[{\"marker\":{\"colorbar\":{\"outlinewidth\":0,\"ticks\":\"\"}},\"type\":\"scatterpolargl\"}],\"scatterternary\":[{\"marker\":{\"colorbar\":{\"outlinewidth\":0,\"ticks\":\"\"}},\"type\":\"scatterternary\"}],\"surface\":[{\"colorbar\":{\"outlinewidth\":0,\"ticks\":\"\"},\"colorscale\":[[0.0,\"#0d0887\"],[0.1111111111111111,\"#46039f\"],[0.2222222222222222,\"#7201a8\"],[0.3333333333333333,\"#9c179e\"],[0.4444444444444444,\"#bd3786\"],[0.5555555555555556,\"#d8576b\"],[0.6666666666666666,\"#ed7953\"],[0.7777777777777778,\"#fb9f3a\"],[0.8888888888888888,\"#fdca26\"],[1.0,\"#f0f921\"]],\"type\":\"surface\"}],\"table\":[{\"cells\":{\"fill\":{\"color\":\"#EBF0F8\"},\"line\":{\"color\":\"white\"}},\"header\":{\"fill\":{\"color\":\"#C8D4E3\"},\"line\":{\"color\":\"white\"}},\"type\":\"table\"}]},\"layout\":{\"annotationdefaults\":{\"arrowcolor\":\"#2a3f5f\",\"arrowhead\":0,\"arrowwidth\":1},\"autotypenumbers\":\"strict\",\"coloraxis\":{\"colorbar\":{\"outlinewidth\":0,\"ticks\":\"\"}},\"colorscale\":{\"diverging\":[[0,\"#8e0152\"],[0.1,\"#c51b7d\"],[0.2,\"#de77ae\"],[0.3,\"#f1b6da\"],[0.4,\"#fde0ef\"],[0.5,\"#f7f7f7\"],[0.6,\"#e6f5d0\"],[0.7,\"#b8e186\"],[0.8,\"#7fbc41\"],[0.9,\"#4d9221\"],[1,\"#276419\"]],\"sequential\":[[0.0,\"#0d0887\"],[0.1111111111111111,\"#46039f\"],[0.2222222222222222,\"#7201a8\"],[0.3333333333333333,\"#9c179e\"],[0.4444444444444444,\"#bd3786\"],[0.5555555555555556,\"#d8576b\"],[0.6666666666666666,\"#ed7953\"],[0.7777777777777778,\"#fb9f3a\"],[0.8888888888888888,\"#fdca26\"],[1.0,\"#f0f921\"]],\"sequentialminus\":[[0.0,\"#0d0887\"],[0.1111111111111111,\"#46039f\"],[0.2222222222222222,\"#7201a8\"],[0.3333333333333333,\"#9c179e\"],[0.4444444444444444,\"#bd3786\"],[0.5555555555555556,\"#d8576b\"],[0.6666666666666666,\"#ed7953\"],[0.7777777777777778,\"#fb9f3a\"],[0.8888888888888888,\"#fdca26\"],[1.0,\"#f0f921\"]]},\"colorway\":[\"#636efa\",\"#EF553B\",\"#00cc96\",\"#ab63fa\",\"#FFA15A\",\"#19d3f3\",\"#FF6692\",\"#B6E880\",\"#FF97FF\",\"#FECB52\"],\"font\":{\"color\":\"#2a3f5f\"},\"geo\":{\"bgcolor\":\"white\",\"lakecolor\":\"white\",\"landcolor\":\"#E5ECF6\",\"showlakes\":true,\"showland\":true,\"subunitcolor\":\"white\"},\"hoverlabel\":{\"align\":\"left\"},\"hovermode\":\"closest\",\"mapbox\":{\"style\":\"light\"},\"paper_bgcolor\":\"white\",\"plot_bgcolor\":\"#E5ECF6\",\"polar\":{\"angularaxis\":{\"gridcolor\":\"white\",\"linecolor\":\"white\",\"ticks\":\"\"},\"bgcolor\":\"#E5ECF6\",\"radialaxis\":{\"gridcolor\":\"white\",\"linecolor\":\"white\",\"ticks\":\"\"}},\"scene\":{\"xaxis\":{\"backgroundcolor\":\"#E5ECF6\",\"gridcolor\":\"white\",\"gridwidth\":2,\"linecolor\":\"white\",\"showbackground\":true,\"ticks\":\"\",\"zerolinecolor\":\"white\"},\"yaxis\":{\"backgroundcolor\":\"#E5ECF6\",\"gridcolor\":\"white\",\"gridwidth\":2,\"linecolor\":\"white\",\"showbackground\":true,\"ticks\":\"\",\"zerolinecolor\":\"white\"},\"zaxis\":{\"backgroundcolor\":\"#E5ECF6\",\"gridcolor\":\"white\",\"gridwidth\":2,\"linecolor\":\"white\",\"showbackground\":true,\"ticks\":\"\",\"zerolinecolor\":\"white\"}},\"shapedefaults\":{\"line\":{\"color\":\"#2a3f5f\"}},\"ternary\":{\"aaxis\":{\"gridcolor\":\"white\",\"linecolor\":\"white\",\"ticks\":\"\"},\"baxis\":{\"gridcolor\":\"white\",\"linecolor\":\"white\",\"ticks\":\"\"},\"bgcolor\":\"#E5ECF6\",\"caxis\":{\"gridcolor\":\"white\",\"linecolor\":\"white\",\"ticks\":\"\"}},\"title\":{\"x\":0.05},\"xaxis\":{\"automargin\":true,\"gridcolor\":\"white\",\"linecolor\":\"white\",\"ticks\":\"\",\"title\":{\"standoff\":15},\"zerolinecolor\":\"white\",\"zerolinewidth\":2},\"yaxis\":{\"automargin\":true,\"gridcolor\":\"white\",\"linecolor\":\"white\",\"ticks\":\"\",\"title\":{\"standoff\":15},\"zerolinecolor\":\"white\",\"zerolinewidth\":2}}},\"xaxis\":{\"anchor\":\"y\",\"domain\":[0.0,1.0],\"title\":{\"text\":\"Location\"}},\"yaxis\":{\"anchor\":\"x\",\"domain\":[0.0,1.0],\"title\":{\"text\":\"value\"}},\"legend\":{\"title\":{\"text\":\"variable\"},\"tracegroupgap\":0},\"margin\":{\"t\":60},\"barmode\":\"relative\",\"title\":{\"text\":\"Location wise distribution of companies\",\"x\":0.5}},                        {\"responsive\": true}                    ).then(function(){\n",
              "                            \n",
              "var gd = document.getElementById('177038f1-83f2-4218-b9a8-e6e461273639');\n",
              "var x = new MutationObserver(function (mutations, observer) {{\n",
              "        var display = window.getComputedStyle(gd).display;\n",
              "        if (!display || display === 'none') {{\n",
              "            console.log([gd, 'removed!']);\n",
              "            Plotly.purge(gd);\n",
              "            observer.disconnect();\n",
              "        }}\n",
              "}});\n",
              "\n",
              "// Listen for the removal of the full notebook cells\n",
              "var notebookContainer = gd.closest('#notebook-container');\n",
              "if (notebookContainer) {{\n",
              "    x.observe(notebookContainer, {childList: true});\n",
              "}}\n",
              "\n",
              "// Listen for the clearing of the current output cell\n",
              "var outputEl = gd.closest('.output');\n",
              "if (outputEl) {{\n",
              "    x.observe(outputEl, {childList: true});\n",
              "}}\n",
              "\n",
              "                        })                };                            </script>        </div>\n",
              "</body>\n",
              "</html>"
            ]
          },
          "metadata": {}
        }
      ]
    },
    {
      "cell_type": "markdown",
      "source": [
        "**Percentage of companies in each countries**"
      ],
      "metadata": {
        "id": "mYKEocDzlVoW"
      }
    },
    {
      "cell_type": "code",
      "source": [
        "test_df = test_df.iloc[:,2:]\n",
        "test_df = test_df.sort_values(\"Percentage\")\n",
        "print(test_df)"
      ],
      "metadata": {
        "colab": {
          "base_uri": "https://localhost:8080/"
        },
        "id": "iRxyWs3hvcvG",
        "outputId": "ab56fb3f-e037-48e2-a315-22cd66ccdac7"
      },
      "execution_count": 17,
      "outputs": [
        {
          "output_type": "stream",
          "name": "stdout",
          "text": [
            "             Percentage\n",
            "Location               \n",
            "USA           34.615385\n",
            "Japan         38.888889\n",
            "France        66.666667\n",
            "Germany       66.666667\n",
            "Britain       70.000000\n",
            "South Korea   75.000000\n",
            "Switzerland   80.000000\n"
          ]
        }
      ]
    },
    {
      "cell_type": "code",
      "source": [
        "fig = px.bar(test_df)\n",
        "fig.update_layout(title_text='Location wise distribution of companies', title_x=0.5)\n",
        "fig.show()"
      ],
      "metadata": {
        "colab": {
          "base_uri": "https://localhost:8080/",
          "height": 542
        },
        "id": "yoWiDXsOv8fs",
        "outputId": "c91d73af-6e98-4eee-c76f-4f3263b4d53b"
      },
      "execution_count": 18,
      "outputs": [
        {
          "output_type": "display_data",
          "data": {
            "text/html": [
              "<html>\n",
              "<head><meta charset=\"utf-8\" /></head>\n",
              "<body>\n",
              "    <div>            <script src=\"https://cdnjs.cloudflare.com/ajax/libs/mathjax/2.7.5/MathJax.js?config=TeX-AMS-MML_SVG\"></script><script type=\"text/javascript\">if (window.MathJax) {MathJax.Hub.Config({SVG: {font: \"STIX-Web\"}});}</script>                <script type=\"text/javascript\">window.PlotlyConfig = {MathJaxConfig: 'local'};</script>\n",
              "        <script src=\"https://cdn.plot.ly/plotly-2.8.3.min.js\"></script>                <div id=\"d0f9b0b1-7d1c-4a1c-8100-a5576599a4a8\" class=\"plotly-graph-div\" style=\"height:525px; width:100%;\"></div>            <script type=\"text/javascript\">                                    window.PLOTLYENV=window.PLOTLYENV || {};                                    if (document.getElementById(\"d0f9b0b1-7d1c-4a1c-8100-a5576599a4a8\")) {                    Plotly.newPlot(                        \"d0f9b0b1-7d1c-4a1c-8100-a5576599a4a8\",                        [{\"alignmentgroup\":\"True\",\"hovertemplate\":\"variable=Percentage<br>Location=%{x}<br>value=%{y}<extra></extra>\",\"legendgroup\":\"Percentage\",\"marker\":{\"color\":\"#636efa\",\"pattern\":{\"shape\":\"\"}},\"name\":\"Percentage\",\"offsetgroup\":\"Percentage\",\"orientation\":\"v\",\"showlegend\":true,\"textposition\":\"auto\",\"x\":[\"USA\",\"Japan\",\"France\",\"Germany\",\"Britain\",\"South Korea\",\"Switzerland\"],\"xaxis\":\"x\",\"y\":[34.61538461538461,38.88888888888889,66.66666666666666,66.66666666666666,70.0,75.0,80.0],\"yaxis\":\"y\",\"type\":\"bar\"}],                        {\"template\":{\"data\":{\"bar\":[{\"error_x\":{\"color\":\"#2a3f5f\"},\"error_y\":{\"color\":\"#2a3f5f\"},\"marker\":{\"line\":{\"color\":\"#E5ECF6\",\"width\":0.5},\"pattern\":{\"fillmode\":\"overlay\",\"size\":10,\"solidity\":0.2}},\"type\":\"bar\"}],\"barpolar\":[{\"marker\":{\"line\":{\"color\":\"#E5ECF6\",\"width\":0.5},\"pattern\":{\"fillmode\":\"overlay\",\"size\":10,\"solidity\":0.2}},\"type\":\"barpolar\"}],\"carpet\":[{\"aaxis\":{\"endlinecolor\":\"#2a3f5f\",\"gridcolor\":\"white\",\"linecolor\":\"white\",\"minorgridcolor\":\"white\",\"startlinecolor\":\"#2a3f5f\"},\"baxis\":{\"endlinecolor\":\"#2a3f5f\",\"gridcolor\":\"white\",\"linecolor\":\"white\",\"minorgridcolor\":\"white\",\"startlinecolor\":\"#2a3f5f\"},\"type\":\"carpet\"}],\"choropleth\":[{\"colorbar\":{\"outlinewidth\":0,\"ticks\":\"\"},\"type\":\"choropleth\"}],\"contour\":[{\"colorbar\":{\"outlinewidth\":0,\"ticks\":\"\"},\"colorscale\":[[0.0,\"#0d0887\"],[0.1111111111111111,\"#46039f\"],[0.2222222222222222,\"#7201a8\"],[0.3333333333333333,\"#9c179e\"],[0.4444444444444444,\"#bd3786\"],[0.5555555555555556,\"#d8576b\"],[0.6666666666666666,\"#ed7953\"],[0.7777777777777778,\"#fb9f3a\"],[0.8888888888888888,\"#fdca26\"],[1.0,\"#f0f921\"]],\"type\":\"contour\"}],\"contourcarpet\":[{\"colorbar\":{\"outlinewidth\":0,\"ticks\":\"\"},\"type\":\"contourcarpet\"}],\"heatmap\":[{\"colorbar\":{\"outlinewidth\":0,\"ticks\":\"\"},\"colorscale\":[[0.0,\"#0d0887\"],[0.1111111111111111,\"#46039f\"],[0.2222222222222222,\"#7201a8\"],[0.3333333333333333,\"#9c179e\"],[0.4444444444444444,\"#bd3786\"],[0.5555555555555556,\"#d8576b\"],[0.6666666666666666,\"#ed7953\"],[0.7777777777777778,\"#fb9f3a\"],[0.8888888888888888,\"#fdca26\"],[1.0,\"#f0f921\"]],\"type\":\"heatmap\"}],\"heatmapgl\":[{\"colorbar\":{\"outlinewidth\":0,\"ticks\":\"\"},\"colorscale\":[[0.0,\"#0d0887\"],[0.1111111111111111,\"#46039f\"],[0.2222222222222222,\"#7201a8\"],[0.3333333333333333,\"#9c179e\"],[0.4444444444444444,\"#bd3786\"],[0.5555555555555556,\"#d8576b\"],[0.6666666666666666,\"#ed7953\"],[0.7777777777777778,\"#fb9f3a\"],[0.8888888888888888,\"#fdca26\"],[1.0,\"#f0f921\"]],\"type\":\"heatmapgl\"}],\"histogram\":[{\"marker\":{\"pattern\":{\"fillmode\":\"overlay\",\"size\":10,\"solidity\":0.2}},\"type\":\"histogram\"}],\"histogram2d\":[{\"colorbar\":{\"outlinewidth\":0,\"ticks\":\"\"},\"colorscale\":[[0.0,\"#0d0887\"],[0.1111111111111111,\"#46039f\"],[0.2222222222222222,\"#7201a8\"],[0.3333333333333333,\"#9c179e\"],[0.4444444444444444,\"#bd3786\"],[0.5555555555555556,\"#d8576b\"],[0.6666666666666666,\"#ed7953\"],[0.7777777777777778,\"#fb9f3a\"],[0.8888888888888888,\"#fdca26\"],[1.0,\"#f0f921\"]],\"type\":\"histogram2d\"}],\"histogram2dcontour\":[{\"colorbar\":{\"outlinewidth\":0,\"ticks\":\"\"},\"colorscale\":[[0.0,\"#0d0887\"],[0.1111111111111111,\"#46039f\"],[0.2222222222222222,\"#7201a8\"],[0.3333333333333333,\"#9c179e\"],[0.4444444444444444,\"#bd3786\"],[0.5555555555555556,\"#d8576b\"],[0.6666666666666666,\"#ed7953\"],[0.7777777777777778,\"#fb9f3a\"],[0.8888888888888888,\"#fdca26\"],[1.0,\"#f0f921\"]],\"type\":\"histogram2dcontour\"}],\"mesh3d\":[{\"colorbar\":{\"outlinewidth\":0,\"ticks\":\"\"},\"type\":\"mesh3d\"}],\"parcoords\":[{\"line\":{\"colorbar\":{\"outlinewidth\":0,\"ticks\":\"\"}},\"type\":\"parcoords\"}],\"pie\":[{\"automargin\":true,\"type\":\"pie\"}],\"scatter\":[{\"marker\":{\"colorbar\":{\"outlinewidth\":0,\"ticks\":\"\"}},\"type\":\"scatter\"}],\"scatter3d\":[{\"line\":{\"colorbar\":{\"outlinewidth\":0,\"ticks\":\"\"}},\"marker\":{\"colorbar\":{\"outlinewidth\":0,\"ticks\":\"\"}},\"type\":\"scatter3d\"}],\"scattercarpet\":[{\"marker\":{\"colorbar\":{\"outlinewidth\":0,\"ticks\":\"\"}},\"type\":\"scattercarpet\"}],\"scattergeo\":[{\"marker\":{\"colorbar\":{\"outlinewidth\":0,\"ticks\":\"\"}},\"type\":\"scattergeo\"}],\"scattergl\":[{\"marker\":{\"colorbar\":{\"outlinewidth\":0,\"ticks\":\"\"}},\"type\":\"scattergl\"}],\"scattermapbox\":[{\"marker\":{\"colorbar\":{\"outlinewidth\":0,\"ticks\":\"\"}},\"type\":\"scattermapbox\"}],\"scatterpolar\":[{\"marker\":{\"colorbar\":{\"outlinewidth\":0,\"ticks\":\"\"}},\"type\":\"scatterpolar\"}],\"scatterpolargl\":[{\"marker\":{\"colorbar\":{\"outlinewidth\":0,\"ticks\":\"\"}},\"type\":\"scatterpolargl\"}],\"scatterternary\":[{\"marker\":{\"colorbar\":{\"outlinewidth\":0,\"ticks\":\"\"}},\"type\":\"scatterternary\"}],\"surface\":[{\"colorbar\":{\"outlinewidth\":0,\"ticks\":\"\"},\"colorscale\":[[0.0,\"#0d0887\"],[0.1111111111111111,\"#46039f\"],[0.2222222222222222,\"#7201a8\"],[0.3333333333333333,\"#9c179e\"],[0.4444444444444444,\"#bd3786\"],[0.5555555555555556,\"#d8576b\"],[0.6666666666666666,\"#ed7953\"],[0.7777777777777778,\"#fb9f3a\"],[0.8888888888888888,\"#fdca26\"],[1.0,\"#f0f921\"]],\"type\":\"surface\"}],\"table\":[{\"cells\":{\"fill\":{\"color\":\"#EBF0F8\"},\"line\":{\"color\":\"white\"}},\"header\":{\"fill\":{\"color\":\"#C8D4E3\"},\"line\":{\"color\":\"white\"}},\"type\":\"table\"}]},\"layout\":{\"annotationdefaults\":{\"arrowcolor\":\"#2a3f5f\",\"arrowhead\":0,\"arrowwidth\":1},\"autotypenumbers\":\"strict\",\"coloraxis\":{\"colorbar\":{\"outlinewidth\":0,\"ticks\":\"\"}},\"colorscale\":{\"diverging\":[[0,\"#8e0152\"],[0.1,\"#c51b7d\"],[0.2,\"#de77ae\"],[0.3,\"#f1b6da\"],[0.4,\"#fde0ef\"],[0.5,\"#f7f7f7\"],[0.6,\"#e6f5d0\"],[0.7,\"#b8e186\"],[0.8,\"#7fbc41\"],[0.9,\"#4d9221\"],[1,\"#276419\"]],\"sequential\":[[0.0,\"#0d0887\"],[0.1111111111111111,\"#46039f\"],[0.2222222222222222,\"#7201a8\"],[0.3333333333333333,\"#9c179e\"],[0.4444444444444444,\"#bd3786\"],[0.5555555555555556,\"#d8576b\"],[0.6666666666666666,\"#ed7953\"],[0.7777777777777778,\"#fb9f3a\"],[0.8888888888888888,\"#fdca26\"],[1.0,\"#f0f921\"]],\"sequentialminus\":[[0.0,\"#0d0887\"],[0.1111111111111111,\"#46039f\"],[0.2222222222222222,\"#7201a8\"],[0.3333333333333333,\"#9c179e\"],[0.4444444444444444,\"#bd3786\"],[0.5555555555555556,\"#d8576b\"],[0.6666666666666666,\"#ed7953\"],[0.7777777777777778,\"#fb9f3a\"],[0.8888888888888888,\"#fdca26\"],[1.0,\"#f0f921\"]]},\"colorway\":[\"#636efa\",\"#EF553B\",\"#00cc96\",\"#ab63fa\",\"#FFA15A\",\"#19d3f3\",\"#FF6692\",\"#B6E880\",\"#FF97FF\",\"#FECB52\"],\"font\":{\"color\":\"#2a3f5f\"},\"geo\":{\"bgcolor\":\"white\",\"lakecolor\":\"white\",\"landcolor\":\"#E5ECF6\",\"showlakes\":true,\"showland\":true,\"subunitcolor\":\"white\"},\"hoverlabel\":{\"align\":\"left\"},\"hovermode\":\"closest\",\"mapbox\":{\"style\":\"light\"},\"paper_bgcolor\":\"white\",\"plot_bgcolor\":\"#E5ECF6\",\"polar\":{\"angularaxis\":{\"gridcolor\":\"white\",\"linecolor\":\"white\",\"ticks\":\"\"},\"bgcolor\":\"#E5ECF6\",\"radialaxis\":{\"gridcolor\":\"white\",\"linecolor\":\"white\",\"ticks\":\"\"}},\"scene\":{\"xaxis\":{\"backgroundcolor\":\"#E5ECF6\",\"gridcolor\":\"white\",\"gridwidth\":2,\"linecolor\":\"white\",\"showbackground\":true,\"ticks\":\"\",\"zerolinecolor\":\"white\"},\"yaxis\":{\"backgroundcolor\":\"#E5ECF6\",\"gridcolor\":\"white\",\"gridwidth\":2,\"linecolor\":\"white\",\"showbackground\":true,\"ticks\":\"\",\"zerolinecolor\":\"white\"},\"zaxis\":{\"backgroundcolor\":\"#E5ECF6\",\"gridcolor\":\"white\",\"gridwidth\":2,\"linecolor\":\"white\",\"showbackground\":true,\"ticks\":\"\",\"zerolinecolor\":\"white\"}},\"shapedefaults\":{\"line\":{\"color\":\"#2a3f5f\"}},\"ternary\":{\"aaxis\":{\"gridcolor\":\"white\",\"linecolor\":\"white\",\"ticks\":\"\"},\"baxis\":{\"gridcolor\":\"white\",\"linecolor\":\"white\",\"ticks\":\"\"},\"bgcolor\":\"#E5ECF6\",\"caxis\":{\"gridcolor\":\"white\",\"linecolor\":\"white\",\"ticks\":\"\"}},\"title\":{\"x\":0.05},\"xaxis\":{\"automargin\":true,\"gridcolor\":\"white\",\"linecolor\":\"white\",\"ticks\":\"\",\"title\":{\"standoff\":15},\"zerolinecolor\":\"white\",\"zerolinewidth\":2},\"yaxis\":{\"automargin\":true,\"gridcolor\":\"white\",\"linecolor\":\"white\",\"ticks\":\"\",\"title\":{\"standoff\":15},\"zerolinecolor\":\"white\",\"zerolinewidth\":2}}},\"xaxis\":{\"anchor\":\"y\",\"domain\":[0.0,1.0],\"title\":{\"text\":\"Location\"}},\"yaxis\":{\"anchor\":\"x\",\"domain\":[0.0,1.0],\"title\":{\"text\":\"value\"}},\"legend\":{\"title\":{\"text\":\"variable\"},\"tracegroupgap\":0},\"margin\":{\"t\":60},\"barmode\":\"relative\",\"title\":{\"text\":\"Location wise distribution of companies\",\"x\":0.5}},                        {\"responsive\": true}                    ).then(function(){\n",
              "                            \n",
              "var gd = document.getElementById('d0f9b0b1-7d1c-4a1c-8100-a5576599a4a8');\n",
              "var x = new MutationObserver(function (mutations, observer) {{\n",
              "        var display = window.getComputedStyle(gd).display;\n",
              "        if (!display || display === 'none') {{\n",
              "            console.log([gd, 'removed!']);\n",
              "            Plotly.purge(gd);\n",
              "            observer.disconnect();\n",
              "        }}\n",
              "}});\n",
              "\n",
              "// Listen for the removal of the full notebook cells\n",
              "var notebookContainer = gd.closest('#notebook-container');\n",
              "if (notebookContainer) {{\n",
              "    x.observe(notebookContainer, {childList: true});\n",
              "}}\n",
              "\n",
              "// Listen for the clearing of the current output cell\n",
              "var outputEl = gd.closest('.output');\n",
              "if (outputEl) {{\n",
              "    x.observe(outputEl, {childList: true});\n",
              "}}\n",
              "\n",
              "                        })                };                            </script>        </div>\n",
              "</body>\n",
              "</html>"
            ]
          },
          "metadata": {}
        }
      ]
    },
    {
      "cell_type": "code",
      "source": [
        "test_df['Percentage2']=test_df['Percentage']-2\n",
        "test_df.head()"
      ],
      "metadata": {
        "colab": {
          "base_uri": "https://localhost:8080/",
          "height": 238
        },
        "id": "lcCrJ-RRldtV",
        "outputId": "f21f4fb3-5e8b-46d5-b6b2-abf9b36823b2"
      },
      "execution_count": 21,
      "outputs": [
        {
          "output_type": "execute_result",
          "data": {
            "text/plain": [
              "             Percentage  Percentage2\n",
              "Location                            \n",
              "Switzerland   20.000000    18.000000\n",
              "South Korea   25.000000    23.000000\n",
              "Britain       30.000000    28.000000\n",
              "France        33.333333    31.333333\n",
              "Germany       33.333333    31.333333"
            ],
            "text/html": [
              "\n",
              "  <div id=\"df-799a476b-500c-4b24-ac89-d3bc34c9376e\">\n",
              "    <div class=\"colab-df-container\">\n",
              "      <div>\n",
              "<style scoped>\n",
              "    .dataframe tbody tr th:only-of-type {\n",
              "        vertical-align: middle;\n",
              "    }\n",
              "\n",
              "    .dataframe tbody tr th {\n",
              "        vertical-align: top;\n",
              "    }\n",
              "\n",
              "    .dataframe thead th {\n",
              "        text-align: right;\n",
              "    }\n",
              "</style>\n",
              "<table border=\"1\" class=\"dataframe\">\n",
              "  <thead>\n",
              "    <tr style=\"text-align: right;\">\n",
              "      <th></th>\n",
              "      <th>Percentage</th>\n",
              "      <th>Percentage2</th>\n",
              "    </tr>\n",
              "    <tr>\n",
              "      <th>Location</th>\n",
              "      <th></th>\n",
              "      <th></th>\n",
              "    </tr>\n",
              "  </thead>\n",
              "  <tbody>\n",
              "    <tr>\n",
              "      <th>Switzerland</th>\n",
              "      <td>20.000000</td>\n",
              "      <td>18.000000</td>\n",
              "    </tr>\n",
              "    <tr>\n",
              "      <th>South Korea</th>\n",
              "      <td>25.000000</td>\n",
              "      <td>23.000000</td>\n",
              "    </tr>\n",
              "    <tr>\n",
              "      <th>Britain</th>\n",
              "      <td>30.000000</td>\n",
              "      <td>28.000000</td>\n",
              "    </tr>\n",
              "    <tr>\n",
              "      <th>France</th>\n",
              "      <td>33.333333</td>\n",
              "      <td>31.333333</td>\n",
              "    </tr>\n",
              "    <tr>\n",
              "      <th>Germany</th>\n",
              "      <td>33.333333</td>\n",
              "      <td>31.333333</td>\n",
              "    </tr>\n",
              "  </tbody>\n",
              "</table>\n",
              "</div>\n",
              "      <button class=\"colab-df-convert\" onclick=\"convertToInteractive('df-799a476b-500c-4b24-ac89-d3bc34c9376e')\"\n",
              "              title=\"Convert this dataframe to an interactive table.\"\n",
              "              style=\"display:none;\">\n",
              "        \n",
              "  <svg xmlns=\"http://www.w3.org/2000/svg\" height=\"24px\"viewBox=\"0 0 24 24\"\n",
              "       width=\"24px\">\n",
              "    <path d=\"M0 0h24v24H0V0z\" fill=\"none\"/>\n",
              "    <path d=\"M18.56 5.44l.94 2.06.94-2.06 2.06-.94-2.06-.94-.94-2.06-.94 2.06-2.06.94zm-11 1L8.5 8.5l.94-2.06 2.06-.94-2.06-.94L8.5 2.5l-.94 2.06-2.06.94zm10 10l.94 2.06.94-2.06 2.06-.94-2.06-.94-.94-2.06-.94 2.06-2.06.94z\"/><path d=\"M17.41 7.96l-1.37-1.37c-.4-.4-.92-.59-1.43-.59-.52 0-1.04.2-1.43.59L10.3 9.45l-7.72 7.72c-.78.78-.78 2.05 0 2.83L4 21.41c.39.39.9.59 1.41.59.51 0 1.02-.2 1.41-.59l7.78-7.78 2.81-2.81c.8-.78.8-2.07 0-2.86zM5.41 20L4 18.59l7.72-7.72 1.47 1.35L5.41 20z\"/>\n",
              "  </svg>\n",
              "      </button>\n",
              "      \n",
              "  <style>\n",
              "    .colab-df-container {\n",
              "      display:flex;\n",
              "      flex-wrap:wrap;\n",
              "      gap: 12px;\n",
              "    }\n",
              "\n",
              "    .colab-df-convert {\n",
              "      background-color: #E8F0FE;\n",
              "      border: none;\n",
              "      border-radius: 50%;\n",
              "      cursor: pointer;\n",
              "      display: none;\n",
              "      fill: #1967D2;\n",
              "      height: 32px;\n",
              "      padding: 0 0 0 0;\n",
              "      width: 32px;\n",
              "    }\n",
              "\n",
              "    .colab-df-convert:hover {\n",
              "      background-color: #E2EBFA;\n",
              "      box-shadow: 0px 1px 2px rgba(60, 64, 67, 0.3), 0px 1px 3px 1px rgba(60, 64, 67, 0.15);\n",
              "      fill: #174EA6;\n",
              "    }\n",
              "\n",
              "    [theme=dark] .colab-df-convert {\n",
              "      background-color: #3B4455;\n",
              "      fill: #D2E3FC;\n",
              "    }\n",
              "\n",
              "    [theme=dark] .colab-df-convert:hover {\n",
              "      background-color: #434B5C;\n",
              "      box-shadow: 0px 1px 3px 1px rgba(0, 0, 0, 0.15);\n",
              "      filter: drop-shadow(0px 1px 2px rgba(0, 0, 0, 0.3));\n",
              "      fill: #FFFFFF;\n",
              "    }\n",
              "  </style>\n",
              "\n",
              "      <script>\n",
              "        const buttonEl =\n",
              "          document.querySelector('#df-799a476b-500c-4b24-ac89-d3bc34c9376e button.colab-df-convert');\n",
              "        buttonEl.style.display =\n",
              "          google.colab.kernel.accessAllowed ? 'block' : 'none';\n",
              "\n",
              "        async function convertToInteractive(key) {\n",
              "          const element = document.querySelector('#df-799a476b-500c-4b24-ac89-d3bc34c9376e');\n",
              "          const dataTable =\n",
              "            await google.colab.kernel.invokeFunction('convertToInteractive',\n",
              "                                                     [key], {});\n",
              "          if (!dataTable) return;\n",
              "\n",
              "          const docLinkHtml = 'Like what you see? Visit the ' +\n",
              "            '<a target=\"_blank\" href=https://colab.research.google.com/notebooks/data_table.ipynb>data table notebook</a>'\n",
              "            + ' to learn more about interactive tables.';\n",
              "          element.innerHTML = '';\n",
              "          dataTable['output_type'] = 'display_data';\n",
              "          await google.colab.output.renderOutput(dataTable, element);\n",
              "          const docLink = document.createElement('div');\n",
              "          docLink.innerHTML = docLinkHtml;\n",
              "          element.appendChild(docLink);\n",
              "        }\n",
              "      </script>\n",
              "    </div>\n",
              "  </div>\n",
              "  "
            ]
          },
          "metadata": {},
          "execution_count": 21
        }
      ]
    },
    {
      "cell_type": "code",
      "source": [
        "from plotly.subplots import make_subplots\n",
        "import plotly.graph_objects as go"
      ],
      "metadata": {
        "id": "MTSSja0OmKvT"
      },
      "execution_count": 14,
      "outputs": []
    },
    {
      "cell_type": "code",
      "source": [
        "fig = make_subplots(rows=1, cols=2, shared_yaxes=True)\n",
        "\n",
        "fig.add_trace(go.Bar(y=test_df['Percentage'], x=test_df.iloc[:,0]),\n",
        "              1, 1)\n",
        "\n",
        "fig.add_trace(go.Bar(y=test_df['Percentage2'], x=test_df.iloc[:,0]),\n",
        "              1, 2)\n",
        "\n",
        "fig.update_layout(coloraxis=dict(colorscale='Bluered_r'), showlegend=False)\n",
        "fig.show()"
      ],
      "metadata": {
        "colab": {
          "base_uri": "https://localhost:8080/",
          "height": 542
        },
        "id": "k_TqkgVhmUP5",
        "outputId": "b3665a3f-1025-4825-d286-ea8b28ee5bed"
      },
      "execution_count": 34,
      "outputs": [
        {
          "output_type": "display_data",
          "data": {
            "text/html": [
              "<html>\n",
              "<head><meta charset=\"utf-8\" /></head>\n",
              "<body>\n",
              "    <div>            <script src=\"https://cdnjs.cloudflare.com/ajax/libs/mathjax/2.7.5/MathJax.js?config=TeX-AMS-MML_SVG\"></script><script type=\"text/javascript\">if (window.MathJax) {MathJax.Hub.Config({SVG: {font: \"STIX-Web\"}});}</script>                <script type=\"text/javascript\">window.PlotlyConfig = {MathJaxConfig: 'local'};</script>\n",
              "        <script src=\"https://cdn.plot.ly/plotly-2.8.3.min.js\"></script>                <div id=\"6ad3abcc-44a4-4b02-8d28-558cf27137d6\" class=\"plotly-graph-div\" style=\"height:525px; width:100%;\"></div>            <script type=\"text/javascript\">                                    window.PLOTLYENV=window.PLOTLYENV || {};                                    if (document.getElementById(\"6ad3abcc-44a4-4b02-8d28-558cf27137d6\")) {                    Plotly.newPlot(                        \"6ad3abcc-44a4-4b02-8d28-558cf27137d6\",                        [{\"x\":[20.0,25.0,30.0,33.33333333333333,33.33333333333333,61.111111111111114,65.38461538461539],\"y\":[20.0,25.0,30.0,33.33333333333333,33.33333333333333,61.111111111111114,65.38461538461539],\"type\":\"bar\",\"xaxis\":\"x\",\"yaxis\":\"y\"},{\"x\":[20.0,25.0,30.0,33.33333333333333,33.33333333333333,61.111111111111114,65.38461538461539],\"y\":[18.0,23.0,28.0,31.33333333333333,31.33333333333333,59.111111111111114,63.38461538461539],\"type\":\"bar\",\"xaxis\":\"x2\",\"yaxis\":\"y2\"}],                        {\"template\":{\"data\":{\"bar\":[{\"error_x\":{\"color\":\"#2a3f5f\"},\"error_y\":{\"color\":\"#2a3f5f\"},\"marker\":{\"line\":{\"color\":\"#E5ECF6\",\"width\":0.5},\"pattern\":{\"fillmode\":\"overlay\",\"size\":10,\"solidity\":0.2}},\"type\":\"bar\"}],\"barpolar\":[{\"marker\":{\"line\":{\"color\":\"#E5ECF6\",\"width\":0.5},\"pattern\":{\"fillmode\":\"overlay\",\"size\":10,\"solidity\":0.2}},\"type\":\"barpolar\"}],\"carpet\":[{\"aaxis\":{\"endlinecolor\":\"#2a3f5f\",\"gridcolor\":\"white\",\"linecolor\":\"white\",\"minorgridcolor\":\"white\",\"startlinecolor\":\"#2a3f5f\"},\"baxis\":{\"endlinecolor\":\"#2a3f5f\",\"gridcolor\":\"white\",\"linecolor\":\"white\",\"minorgridcolor\":\"white\",\"startlinecolor\":\"#2a3f5f\"},\"type\":\"carpet\"}],\"choropleth\":[{\"colorbar\":{\"outlinewidth\":0,\"ticks\":\"\"},\"type\":\"choropleth\"}],\"contour\":[{\"colorbar\":{\"outlinewidth\":0,\"ticks\":\"\"},\"colorscale\":[[0.0,\"#0d0887\"],[0.1111111111111111,\"#46039f\"],[0.2222222222222222,\"#7201a8\"],[0.3333333333333333,\"#9c179e\"],[0.4444444444444444,\"#bd3786\"],[0.5555555555555556,\"#d8576b\"],[0.6666666666666666,\"#ed7953\"],[0.7777777777777778,\"#fb9f3a\"],[0.8888888888888888,\"#fdca26\"],[1.0,\"#f0f921\"]],\"type\":\"contour\"}],\"contourcarpet\":[{\"colorbar\":{\"outlinewidth\":0,\"ticks\":\"\"},\"type\":\"contourcarpet\"}],\"heatmap\":[{\"colorbar\":{\"outlinewidth\":0,\"ticks\":\"\"},\"colorscale\":[[0.0,\"#0d0887\"],[0.1111111111111111,\"#46039f\"],[0.2222222222222222,\"#7201a8\"],[0.3333333333333333,\"#9c179e\"],[0.4444444444444444,\"#bd3786\"],[0.5555555555555556,\"#d8576b\"],[0.6666666666666666,\"#ed7953\"],[0.7777777777777778,\"#fb9f3a\"],[0.8888888888888888,\"#fdca26\"],[1.0,\"#f0f921\"]],\"type\":\"heatmap\"}],\"heatmapgl\":[{\"colorbar\":{\"outlinewidth\":0,\"ticks\":\"\"},\"colorscale\":[[0.0,\"#0d0887\"],[0.1111111111111111,\"#46039f\"],[0.2222222222222222,\"#7201a8\"],[0.3333333333333333,\"#9c179e\"],[0.4444444444444444,\"#bd3786\"],[0.5555555555555556,\"#d8576b\"],[0.6666666666666666,\"#ed7953\"],[0.7777777777777778,\"#fb9f3a\"],[0.8888888888888888,\"#fdca26\"],[1.0,\"#f0f921\"]],\"type\":\"heatmapgl\"}],\"histogram\":[{\"marker\":{\"pattern\":{\"fillmode\":\"overlay\",\"size\":10,\"solidity\":0.2}},\"type\":\"histogram\"}],\"histogram2d\":[{\"colorbar\":{\"outlinewidth\":0,\"ticks\":\"\"},\"colorscale\":[[0.0,\"#0d0887\"],[0.1111111111111111,\"#46039f\"],[0.2222222222222222,\"#7201a8\"],[0.3333333333333333,\"#9c179e\"],[0.4444444444444444,\"#bd3786\"],[0.5555555555555556,\"#d8576b\"],[0.6666666666666666,\"#ed7953\"],[0.7777777777777778,\"#fb9f3a\"],[0.8888888888888888,\"#fdca26\"],[1.0,\"#f0f921\"]],\"type\":\"histogram2d\"}],\"histogram2dcontour\":[{\"colorbar\":{\"outlinewidth\":0,\"ticks\":\"\"},\"colorscale\":[[0.0,\"#0d0887\"],[0.1111111111111111,\"#46039f\"],[0.2222222222222222,\"#7201a8\"],[0.3333333333333333,\"#9c179e\"],[0.4444444444444444,\"#bd3786\"],[0.5555555555555556,\"#d8576b\"],[0.6666666666666666,\"#ed7953\"],[0.7777777777777778,\"#fb9f3a\"],[0.8888888888888888,\"#fdca26\"],[1.0,\"#f0f921\"]],\"type\":\"histogram2dcontour\"}],\"mesh3d\":[{\"colorbar\":{\"outlinewidth\":0,\"ticks\":\"\"},\"type\":\"mesh3d\"}],\"parcoords\":[{\"line\":{\"colorbar\":{\"outlinewidth\":0,\"ticks\":\"\"}},\"type\":\"parcoords\"}],\"pie\":[{\"automargin\":true,\"type\":\"pie\"}],\"scatter\":[{\"marker\":{\"colorbar\":{\"outlinewidth\":0,\"ticks\":\"\"}},\"type\":\"scatter\"}],\"scatter3d\":[{\"line\":{\"colorbar\":{\"outlinewidth\":0,\"ticks\":\"\"}},\"marker\":{\"colorbar\":{\"outlinewidth\":0,\"ticks\":\"\"}},\"type\":\"scatter3d\"}],\"scattercarpet\":[{\"marker\":{\"colorbar\":{\"outlinewidth\":0,\"ticks\":\"\"}},\"type\":\"scattercarpet\"}],\"scattergeo\":[{\"marker\":{\"colorbar\":{\"outlinewidth\":0,\"ticks\":\"\"}},\"type\":\"scattergeo\"}],\"scattergl\":[{\"marker\":{\"colorbar\":{\"outlinewidth\":0,\"ticks\":\"\"}},\"type\":\"scattergl\"}],\"scattermapbox\":[{\"marker\":{\"colorbar\":{\"outlinewidth\":0,\"ticks\":\"\"}},\"type\":\"scattermapbox\"}],\"scatterpolar\":[{\"marker\":{\"colorbar\":{\"outlinewidth\":0,\"ticks\":\"\"}},\"type\":\"scatterpolar\"}],\"scatterpolargl\":[{\"marker\":{\"colorbar\":{\"outlinewidth\":0,\"ticks\":\"\"}},\"type\":\"scatterpolargl\"}],\"scatterternary\":[{\"marker\":{\"colorbar\":{\"outlinewidth\":0,\"ticks\":\"\"}},\"type\":\"scatterternary\"}],\"surface\":[{\"colorbar\":{\"outlinewidth\":0,\"ticks\":\"\"},\"colorscale\":[[0.0,\"#0d0887\"],[0.1111111111111111,\"#46039f\"],[0.2222222222222222,\"#7201a8\"],[0.3333333333333333,\"#9c179e\"],[0.4444444444444444,\"#bd3786\"],[0.5555555555555556,\"#d8576b\"],[0.6666666666666666,\"#ed7953\"],[0.7777777777777778,\"#fb9f3a\"],[0.8888888888888888,\"#fdca26\"],[1.0,\"#f0f921\"]],\"type\":\"surface\"}],\"table\":[{\"cells\":{\"fill\":{\"color\":\"#EBF0F8\"},\"line\":{\"color\":\"white\"}},\"header\":{\"fill\":{\"color\":\"#C8D4E3\"},\"line\":{\"color\":\"white\"}},\"type\":\"table\"}]},\"layout\":{\"annotationdefaults\":{\"arrowcolor\":\"#2a3f5f\",\"arrowhead\":0,\"arrowwidth\":1},\"autotypenumbers\":\"strict\",\"coloraxis\":{\"colorbar\":{\"outlinewidth\":0,\"ticks\":\"\"}},\"colorscale\":{\"diverging\":[[0,\"#8e0152\"],[0.1,\"#c51b7d\"],[0.2,\"#de77ae\"],[0.3,\"#f1b6da\"],[0.4,\"#fde0ef\"],[0.5,\"#f7f7f7\"],[0.6,\"#e6f5d0\"],[0.7,\"#b8e186\"],[0.8,\"#7fbc41\"],[0.9,\"#4d9221\"],[1,\"#276419\"]],\"sequential\":[[0.0,\"#0d0887\"],[0.1111111111111111,\"#46039f\"],[0.2222222222222222,\"#7201a8\"],[0.3333333333333333,\"#9c179e\"],[0.4444444444444444,\"#bd3786\"],[0.5555555555555556,\"#d8576b\"],[0.6666666666666666,\"#ed7953\"],[0.7777777777777778,\"#fb9f3a\"],[0.8888888888888888,\"#fdca26\"],[1.0,\"#f0f921\"]],\"sequentialminus\":[[0.0,\"#0d0887\"],[0.1111111111111111,\"#46039f\"],[0.2222222222222222,\"#7201a8\"],[0.3333333333333333,\"#9c179e\"],[0.4444444444444444,\"#bd3786\"],[0.5555555555555556,\"#d8576b\"],[0.6666666666666666,\"#ed7953\"],[0.7777777777777778,\"#fb9f3a\"],[0.8888888888888888,\"#fdca26\"],[1.0,\"#f0f921\"]]},\"colorway\":[\"#636efa\",\"#EF553B\",\"#00cc96\",\"#ab63fa\",\"#FFA15A\",\"#19d3f3\",\"#FF6692\",\"#B6E880\",\"#FF97FF\",\"#FECB52\"],\"font\":{\"color\":\"#2a3f5f\"},\"geo\":{\"bgcolor\":\"white\",\"lakecolor\":\"white\",\"landcolor\":\"#E5ECF6\",\"showlakes\":true,\"showland\":true,\"subunitcolor\":\"white\"},\"hoverlabel\":{\"align\":\"left\"},\"hovermode\":\"closest\",\"mapbox\":{\"style\":\"light\"},\"paper_bgcolor\":\"white\",\"plot_bgcolor\":\"#E5ECF6\",\"polar\":{\"angularaxis\":{\"gridcolor\":\"white\",\"linecolor\":\"white\",\"ticks\":\"\"},\"bgcolor\":\"#E5ECF6\",\"radialaxis\":{\"gridcolor\":\"white\",\"linecolor\":\"white\",\"ticks\":\"\"}},\"scene\":{\"xaxis\":{\"backgroundcolor\":\"#E5ECF6\",\"gridcolor\":\"white\",\"gridwidth\":2,\"linecolor\":\"white\",\"showbackground\":true,\"ticks\":\"\",\"zerolinecolor\":\"white\"},\"yaxis\":{\"backgroundcolor\":\"#E5ECF6\",\"gridcolor\":\"white\",\"gridwidth\":2,\"linecolor\":\"white\",\"showbackground\":true,\"ticks\":\"\",\"zerolinecolor\":\"white\"},\"zaxis\":{\"backgroundcolor\":\"#E5ECF6\",\"gridcolor\":\"white\",\"gridwidth\":2,\"linecolor\":\"white\",\"showbackground\":true,\"ticks\":\"\",\"zerolinecolor\":\"white\"}},\"shapedefaults\":{\"line\":{\"color\":\"#2a3f5f\"}},\"ternary\":{\"aaxis\":{\"gridcolor\":\"white\",\"linecolor\":\"white\",\"ticks\":\"\"},\"baxis\":{\"gridcolor\":\"white\",\"linecolor\":\"white\",\"ticks\":\"\"},\"bgcolor\":\"#E5ECF6\",\"caxis\":{\"gridcolor\":\"white\",\"linecolor\":\"white\",\"ticks\":\"\"}},\"title\":{\"x\":0.05},\"xaxis\":{\"automargin\":true,\"gridcolor\":\"white\",\"linecolor\":\"white\",\"ticks\":\"\",\"title\":{\"standoff\":15},\"zerolinecolor\":\"white\",\"zerolinewidth\":2},\"yaxis\":{\"automargin\":true,\"gridcolor\":\"white\",\"linecolor\":\"white\",\"ticks\":\"\",\"title\":{\"standoff\":15},\"zerolinecolor\":\"white\",\"zerolinewidth\":2}}},\"xaxis\":{\"anchor\":\"y\",\"domain\":[0.0,0.45]},\"yaxis\":{\"anchor\":\"x\",\"domain\":[0.0,1.0]},\"xaxis2\":{\"anchor\":\"y2\",\"domain\":[0.55,1.0]},\"yaxis2\":{\"anchor\":\"x2\",\"domain\":[0.0,1.0],\"matches\":\"y\",\"showticklabels\":false},\"coloraxis\":{\"colorscale\":[[0.0,\"rgb(255,0,0)\"],[1.0,\"rgb(0,0,255)\"]]},\"showlegend\":false},                        {\"responsive\": true}                    ).then(function(){\n",
              "                            \n",
              "var gd = document.getElementById('6ad3abcc-44a4-4b02-8d28-558cf27137d6');\n",
              "var x = new MutationObserver(function (mutations, observer) {{\n",
              "        var display = window.getComputedStyle(gd).display;\n",
              "        if (!display || display === 'none') {{\n",
              "            console.log([gd, 'removed!']);\n",
              "            Plotly.purge(gd);\n",
              "            observer.disconnect();\n",
              "        }}\n",
              "}});\n",
              "\n",
              "// Listen for the removal of the full notebook cells\n",
              "var notebookContainer = gd.closest('#notebook-container');\n",
              "if (notebookContainer) {{\n",
              "    x.observe(notebookContainer, {childList: true});\n",
              "}}\n",
              "\n",
              "// Listen for the clearing of the current output cell\n",
              "var outputEl = gd.closest('.output');\n",
              "if (outputEl) {{\n",
              "    x.observe(outputEl, {childList: true});\n",
              "}}\n",
              "\n",
              "                        })                };                            </script>        </div>\n",
              "</body>\n",
              "</html>"
            ]
          },
          "metadata": {}
        }
      ]
    },
    {
      "cell_type": "code",
      "source": [
        "s_data ={\n",
        "    'Location' : ['Germany','USA','Japan','Switzerland','South Korea','France','Britain'],\n",
        "    'Percentage' : [22,33,22,44,55,16,15],\n",
        "    'Percentage2' : [12,63,12,44,25,12,15]\n",
        "}\n",
        "s_df = pd.DataFrame(s_data)\n",
        "fig = make_subplots(rows=1, cols=2)\n",
        "\n",
        "fig.add_trace(go.Bar(y=s_df['Percentage'], x=s_df.iloc[:,0]),\n",
        "              1, 1)\n",
        "\n",
        "fig.add_trace(go.Bar(y=s_df['Percentage2'], x=s_df.iloc[:,0]),\n",
        "              1, 2)\n",
        "\n",
        "fig.update_layout(coloraxis=dict(colorscale='Bluered_r'), showlegend=False)\n",
        "fig.show()"
      ],
      "metadata": {
        "colab": {
          "base_uri": "https://localhost:8080/",
          "height": 542
        },
        "id": "pTvUlwKZo98k",
        "outputId": "4ecd2b39-dcae-41dd-a584-7763b8a35dd0"
      },
      "execution_count": 35,
      "outputs": [
        {
          "output_type": "display_data",
          "data": {
            "text/html": [
              "<html>\n",
              "<head><meta charset=\"utf-8\" /></head>\n",
              "<body>\n",
              "    <div>            <script src=\"https://cdnjs.cloudflare.com/ajax/libs/mathjax/2.7.5/MathJax.js?config=TeX-AMS-MML_SVG\"></script><script type=\"text/javascript\">if (window.MathJax) {MathJax.Hub.Config({SVG: {font: \"STIX-Web\"}});}</script>                <script type=\"text/javascript\">window.PlotlyConfig = {MathJaxConfig: 'local'};</script>\n",
              "        <script src=\"https://cdn.plot.ly/plotly-2.8.3.min.js\"></script>                <div id=\"f0d2c38f-6941-4b88-a3be-2b58abb41754\" class=\"plotly-graph-div\" style=\"height:525px; width:100%;\"></div>            <script type=\"text/javascript\">                                    window.PLOTLYENV=window.PLOTLYENV || {};                                    if (document.getElementById(\"f0d2c38f-6941-4b88-a3be-2b58abb41754\")) {                    Plotly.newPlot(                        \"f0d2c38f-6941-4b88-a3be-2b58abb41754\",                        [{\"x\":[\"Germany\",\"USA\",\"Japan\",\"Switzerland\",\"South Korea\",\"France\",\"Britain\"],\"y\":[22,33,22,44,55,16,15],\"type\":\"bar\",\"xaxis\":\"x\",\"yaxis\":\"y\"},{\"x\":[\"Germany\",\"USA\",\"Japan\",\"Switzerland\",\"South Korea\",\"France\",\"Britain\"],\"y\":[12,63,12,44,25,12,15],\"type\":\"bar\",\"xaxis\":\"x2\",\"yaxis\":\"y2\"}],                        {\"template\":{\"data\":{\"bar\":[{\"error_x\":{\"color\":\"#2a3f5f\"},\"error_y\":{\"color\":\"#2a3f5f\"},\"marker\":{\"line\":{\"color\":\"#E5ECF6\",\"width\":0.5},\"pattern\":{\"fillmode\":\"overlay\",\"size\":10,\"solidity\":0.2}},\"type\":\"bar\"}],\"barpolar\":[{\"marker\":{\"line\":{\"color\":\"#E5ECF6\",\"width\":0.5},\"pattern\":{\"fillmode\":\"overlay\",\"size\":10,\"solidity\":0.2}},\"type\":\"barpolar\"}],\"carpet\":[{\"aaxis\":{\"endlinecolor\":\"#2a3f5f\",\"gridcolor\":\"white\",\"linecolor\":\"white\",\"minorgridcolor\":\"white\",\"startlinecolor\":\"#2a3f5f\"},\"baxis\":{\"endlinecolor\":\"#2a3f5f\",\"gridcolor\":\"white\",\"linecolor\":\"white\",\"minorgridcolor\":\"white\",\"startlinecolor\":\"#2a3f5f\"},\"type\":\"carpet\"}],\"choropleth\":[{\"colorbar\":{\"outlinewidth\":0,\"ticks\":\"\"},\"type\":\"choropleth\"}],\"contour\":[{\"colorbar\":{\"outlinewidth\":0,\"ticks\":\"\"},\"colorscale\":[[0.0,\"#0d0887\"],[0.1111111111111111,\"#46039f\"],[0.2222222222222222,\"#7201a8\"],[0.3333333333333333,\"#9c179e\"],[0.4444444444444444,\"#bd3786\"],[0.5555555555555556,\"#d8576b\"],[0.6666666666666666,\"#ed7953\"],[0.7777777777777778,\"#fb9f3a\"],[0.8888888888888888,\"#fdca26\"],[1.0,\"#f0f921\"]],\"type\":\"contour\"}],\"contourcarpet\":[{\"colorbar\":{\"outlinewidth\":0,\"ticks\":\"\"},\"type\":\"contourcarpet\"}],\"heatmap\":[{\"colorbar\":{\"outlinewidth\":0,\"ticks\":\"\"},\"colorscale\":[[0.0,\"#0d0887\"],[0.1111111111111111,\"#46039f\"],[0.2222222222222222,\"#7201a8\"],[0.3333333333333333,\"#9c179e\"],[0.4444444444444444,\"#bd3786\"],[0.5555555555555556,\"#d8576b\"],[0.6666666666666666,\"#ed7953\"],[0.7777777777777778,\"#fb9f3a\"],[0.8888888888888888,\"#fdca26\"],[1.0,\"#f0f921\"]],\"type\":\"heatmap\"}],\"heatmapgl\":[{\"colorbar\":{\"outlinewidth\":0,\"ticks\":\"\"},\"colorscale\":[[0.0,\"#0d0887\"],[0.1111111111111111,\"#46039f\"],[0.2222222222222222,\"#7201a8\"],[0.3333333333333333,\"#9c179e\"],[0.4444444444444444,\"#bd3786\"],[0.5555555555555556,\"#d8576b\"],[0.6666666666666666,\"#ed7953\"],[0.7777777777777778,\"#fb9f3a\"],[0.8888888888888888,\"#fdca26\"],[1.0,\"#f0f921\"]],\"type\":\"heatmapgl\"}],\"histogram\":[{\"marker\":{\"pattern\":{\"fillmode\":\"overlay\",\"size\":10,\"solidity\":0.2}},\"type\":\"histogram\"}],\"histogram2d\":[{\"colorbar\":{\"outlinewidth\":0,\"ticks\":\"\"},\"colorscale\":[[0.0,\"#0d0887\"],[0.1111111111111111,\"#46039f\"],[0.2222222222222222,\"#7201a8\"],[0.3333333333333333,\"#9c179e\"],[0.4444444444444444,\"#bd3786\"],[0.5555555555555556,\"#d8576b\"],[0.6666666666666666,\"#ed7953\"],[0.7777777777777778,\"#fb9f3a\"],[0.8888888888888888,\"#fdca26\"],[1.0,\"#f0f921\"]],\"type\":\"histogram2d\"}],\"histogram2dcontour\":[{\"colorbar\":{\"outlinewidth\":0,\"ticks\":\"\"},\"colorscale\":[[0.0,\"#0d0887\"],[0.1111111111111111,\"#46039f\"],[0.2222222222222222,\"#7201a8\"],[0.3333333333333333,\"#9c179e\"],[0.4444444444444444,\"#bd3786\"],[0.5555555555555556,\"#d8576b\"],[0.6666666666666666,\"#ed7953\"],[0.7777777777777778,\"#fb9f3a\"],[0.8888888888888888,\"#fdca26\"],[1.0,\"#f0f921\"]],\"type\":\"histogram2dcontour\"}],\"mesh3d\":[{\"colorbar\":{\"outlinewidth\":0,\"ticks\":\"\"},\"type\":\"mesh3d\"}],\"parcoords\":[{\"line\":{\"colorbar\":{\"outlinewidth\":0,\"ticks\":\"\"}},\"type\":\"parcoords\"}],\"pie\":[{\"automargin\":true,\"type\":\"pie\"}],\"scatter\":[{\"marker\":{\"colorbar\":{\"outlinewidth\":0,\"ticks\":\"\"}},\"type\":\"scatter\"}],\"scatter3d\":[{\"line\":{\"colorbar\":{\"outlinewidth\":0,\"ticks\":\"\"}},\"marker\":{\"colorbar\":{\"outlinewidth\":0,\"ticks\":\"\"}},\"type\":\"scatter3d\"}],\"scattercarpet\":[{\"marker\":{\"colorbar\":{\"outlinewidth\":0,\"ticks\":\"\"}},\"type\":\"scattercarpet\"}],\"scattergeo\":[{\"marker\":{\"colorbar\":{\"outlinewidth\":0,\"ticks\":\"\"}},\"type\":\"scattergeo\"}],\"scattergl\":[{\"marker\":{\"colorbar\":{\"outlinewidth\":0,\"ticks\":\"\"}},\"type\":\"scattergl\"}],\"scattermapbox\":[{\"marker\":{\"colorbar\":{\"outlinewidth\":0,\"ticks\":\"\"}},\"type\":\"scattermapbox\"}],\"scatterpolar\":[{\"marker\":{\"colorbar\":{\"outlinewidth\":0,\"ticks\":\"\"}},\"type\":\"scatterpolar\"}],\"scatterpolargl\":[{\"marker\":{\"colorbar\":{\"outlinewidth\":0,\"ticks\":\"\"}},\"type\":\"scatterpolargl\"}],\"scatterternary\":[{\"marker\":{\"colorbar\":{\"outlinewidth\":0,\"ticks\":\"\"}},\"type\":\"scatterternary\"}],\"surface\":[{\"colorbar\":{\"outlinewidth\":0,\"ticks\":\"\"},\"colorscale\":[[0.0,\"#0d0887\"],[0.1111111111111111,\"#46039f\"],[0.2222222222222222,\"#7201a8\"],[0.3333333333333333,\"#9c179e\"],[0.4444444444444444,\"#bd3786\"],[0.5555555555555556,\"#d8576b\"],[0.6666666666666666,\"#ed7953\"],[0.7777777777777778,\"#fb9f3a\"],[0.8888888888888888,\"#fdca26\"],[1.0,\"#f0f921\"]],\"type\":\"surface\"}],\"table\":[{\"cells\":{\"fill\":{\"color\":\"#EBF0F8\"},\"line\":{\"color\":\"white\"}},\"header\":{\"fill\":{\"color\":\"#C8D4E3\"},\"line\":{\"color\":\"white\"}},\"type\":\"table\"}]},\"layout\":{\"annotationdefaults\":{\"arrowcolor\":\"#2a3f5f\",\"arrowhead\":0,\"arrowwidth\":1},\"autotypenumbers\":\"strict\",\"coloraxis\":{\"colorbar\":{\"outlinewidth\":0,\"ticks\":\"\"}},\"colorscale\":{\"diverging\":[[0,\"#8e0152\"],[0.1,\"#c51b7d\"],[0.2,\"#de77ae\"],[0.3,\"#f1b6da\"],[0.4,\"#fde0ef\"],[0.5,\"#f7f7f7\"],[0.6,\"#e6f5d0\"],[0.7,\"#b8e186\"],[0.8,\"#7fbc41\"],[0.9,\"#4d9221\"],[1,\"#276419\"]],\"sequential\":[[0.0,\"#0d0887\"],[0.1111111111111111,\"#46039f\"],[0.2222222222222222,\"#7201a8\"],[0.3333333333333333,\"#9c179e\"],[0.4444444444444444,\"#bd3786\"],[0.5555555555555556,\"#d8576b\"],[0.6666666666666666,\"#ed7953\"],[0.7777777777777778,\"#fb9f3a\"],[0.8888888888888888,\"#fdca26\"],[1.0,\"#f0f921\"]],\"sequentialminus\":[[0.0,\"#0d0887\"],[0.1111111111111111,\"#46039f\"],[0.2222222222222222,\"#7201a8\"],[0.3333333333333333,\"#9c179e\"],[0.4444444444444444,\"#bd3786\"],[0.5555555555555556,\"#d8576b\"],[0.6666666666666666,\"#ed7953\"],[0.7777777777777778,\"#fb9f3a\"],[0.8888888888888888,\"#fdca26\"],[1.0,\"#f0f921\"]]},\"colorway\":[\"#636efa\",\"#EF553B\",\"#00cc96\",\"#ab63fa\",\"#FFA15A\",\"#19d3f3\",\"#FF6692\",\"#B6E880\",\"#FF97FF\",\"#FECB52\"],\"font\":{\"color\":\"#2a3f5f\"},\"geo\":{\"bgcolor\":\"white\",\"lakecolor\":\"white\",\"landcolor\":\"#E5ECF6\",\"showlakes\":true,\"showland\":true,\"subunitcolor\":\"white\"},\"hoverlabel\":{\"align\":\"left\"},\"hovermode\":\"closest\",\"mapbox\":{\"style\":\"light\"},\"paper_bgcolor\":\"white\",\"plot_bgcolor\":\"#E5ECF6\",\"polar\":{\"angularaxis\":{\"gridcolor\":\"white\",\"linecolor\":\"white\",\"ticks\":\"\"},\"bgcolor\":\"#E5ECF6\",\"radialaxis\":{\"gridcolor\":\"white\",\"linecolor\":\"white\",\"ticks\":\"\"}},\"scene\":{\"xaxis\":{\"backgroundcolor\":\"#E5ECF6\",\"gridcolor\":\"white\",\"gridwidth\":2,\"linecolor\":\"white\",\"showbackground\":true,\"ticks\":\"\",\"zerolinecolor\":\"white\"},\"yaxis\":{\"backgroundcolor\":\"#E5ECF6\",\"gridcolor\":\"white\",\"gridwidth\":2,\"linecolor\":\"white\",\"showbackground\":true,\"ticks\":\"\",\"zerolinecolor\":\"white\"},\"zaxis\":{\"backgroundcolor\":\"#E5ECF6\",\"gridcolor\":\"white\",\"gridwidth\":2,\"linecolor\":\"white\",\"showbackground\":true,\"ticks\":\"\",\"zerolinecolor\":\"white\"}},\"shapedefaults\":{\"line\":{\"color\":\"#2a3f5f\"}},\"ternary\":{\"aaxis\":{\"gridcolor\":\"white\",\"linecolor\":\"white\",\"ticks\":\"\"},\"baxis\":{\"gridcolor\":\"white\",\"linecolor\":\"white\",\"ticks\":\"\"},\"bgcolor\":\"#E5ECF6\",\"caxis\":{\"gridcolor\":\"white\",\"linecolor\":\"white\",\"ticks\":\"\"}},\"title\":{\"x\":0.05},\"xaxis\":{\"automargin\":true,\"gridcolor\":\"white\",\"linecolor\":\"white\",\"ticks\":\"\",\"title\":{\"standoff\":15},\"zerolinecolor\":\"white\",\"zerolinewidth\":2},\"yaxis\":{\"automargin\":true,\"gridcolor\":\"white\",\"linecolor\":\"white\",\"ticks\":\"\",\"title\":{\"standoff\":15},\"zerolinecolor\":\"white\",\"zerolinewidth\":2}}},\"xaxis\":{\"anchor\":\"y\",\"domain\":[0.0,0.45]},\"yaxis\":{\"anchor\":\"x\",\"domain\":[0.0,1.0]},\"xaxis2\":{\"anchor\":\"y2\",\"domain\":[0.55,1.0]},\"yaxis2\":{\"anchor\":\"x2\",\"domain\":[0.0,1.0]},\"coloraxis\":{\"colorscale\":[[0.0,\"rgb(255,0,0)\"],[1.0,\"rgb(0,0,255)\"]]},\"showlegend\":false},                        {\"responsive\": true}                    ).then(function(){\n",
              "                            \n",
              "var gd = document.getElementById('f0d2c38f-6941-4b88-a3be-2b58abb41754');\n",
              "var x = new MutationObserver(function (mutations, observer) {{\n",
              "        var display = window.getComputedStyle(gd).display;\n",
              "        if (!display || display === 'none') {{\n",
              "            console.log([gd, 'removed!']);\n",
              "            Plotly.purge(gd);\n",
              "            observer.disconnect();\n",
              "        }}\n",
              "}});\n",
              "\n",
              "// Listen for the removal of the full notebook cells\n",
              "var notebookContainer = gd.closest('#notebook-container');\n",
              "if (notebookContainer) {{\n",
              "    x.observe(notebookContainer, {childList: true});\n",
              "}}\n",
              "\n",
              "// Listen for the clearing of the current output cell\n",
              "var outputEl = gd.closest('.output');\n",
              "if (outputEl) {{\n",
              "    x.observe(outputEl, {childList: true});\n",
              "}}\n",
              "\n",
              "                        })                };                            </script>        </div>\n",
              "</body>\n",
              "</html>"
            ]
          },
          "metadata": {}
        }
      ]
    },
    {
      "cell_type": "code",
      "source": [
        "gk = new_df.groupby(\"Location\")\n",
        "gk.first()\n",
        "\n",
        "subset_df1 = new_df[new_df['achievement-caring'] > 0]\n",
        "subset_df1 = new_df[new_df['feminine-masculine'] > 0]\n",
        "subset_df1 = new_df[new_df['competitive-uncompetitive'] > 0]\n",
        "company_inclined_to_right_polar_df = subset_df.groupby('Location').count()\n",
        "company_inclined_to_right_polar = company_inclined_to_right_polar_df['Company Name']"
      ],
      "metadata": {
        "colab": {
          "base_uri": "https://localhost:8080/",
          "height": 833
        },
        "id": "PzL0Uve6XlYy",
        "outputId": "fb168b9c-00b2-4421-cc03-884a460f9097"
      },
      "execution_count": 12,
      "outputs": [
        {
          "output_type": "execute_result",
          "data": {
            "text/plain": [
              "              Company Name  achievement-caring  feminine-masculine  \\\n",
              "Location                                                             \n",
              "Brazil           Petrobras           -0.022140           -0.118337   \n",
              "Britain                 BP            0.016478           -0.273276   \n",
              "Canada            Enbridge           -0.067544           -0.267183   \n",
              "China                COFCO           -0.096423            0.244762   \n",
              "Finland             Fortum           -0.076827           -0.047060   \n",
              "France                 AXA            0.025157            0.304076   \n",
              "Germany         Volkswagen            0.013643           -0.236390   \n",
              "Indonesia        Pertamina           -0.035616           -0.163574   \n",
              "Ireland          Accenture            0.067973            0.154986   \n",
              "Italy                 Enel            0.074267           -0.026870   \n",
              "Japan           Mitsubishi           -0.050203           -0.288191   \n",
              "Luxembourg   ArcelorMittal            0.081220           -0.058461   \n",
              "Malaysia          Petronas            0.007067           -0.054568   \n",
              "Mexico               Pemex           -0.069860           -0.115691   \n",
              "Netherlands          Aegon           -0.077956            0.221164   \n",
              "Russia             Gazprom            0.108263            0.160508   \n",
              "Singapore             Flex           -0.035794            0.066893   \n",
              "South Korea             SK           -0.074619           -0.131771   \n",
              "Spain                  ACS            0.080509            0.031195   \n",
              "Sweden               Volvo            0.067916           -0.099817   \n",
              "Switzerland       Glencore           -0.106992           -0.234782   \n",
              "Taiwan            Pegatron           -0.017428            0.061220   \n",
              "Thailand               PTT           -0.055018            0.327567   \n",
              "USA                Walmart            0.012846           -0.170809   \n",
              "\n",
              "             competitive-uncompetitive  \n",
              "Location                                \n",
              "Brazil                       -0.152594  \n",
              "Britain                      -0.035347  \n",
              "Canada                       -0.202103  \n",
              "China                        -0.072881  \n",
              "Finland                      -0.121753  \n",
              "France                        0.007676  \n",
              "Germany                       0.037873  \n",
              "Indonesia                    -0.092583  \n",
              "Ireland                       0.027893  \n",
              "Italy                         0.080390  \n",
              "Japan                        -0.052206  \n",
              "Luxembourg                   -0.085598  \n",
              "Malaysia                     -0.218928  \n",
              "Mexico                       -0.011670  \n",
              "Netherlands                  -0.041868  \n",
              "Russia                        0.000694  \n",
              "Singapore                     0.060253  \n",
              "South Korea                  -0.069345  \n",
              "Spain                         0.030714  \n",
              "Sweden                        0.101318  \n",
              "Switzerland                  -0.207883  \n",
              "Taiwan                       -0.154517  \n",
              "Thailand                     -0.065774  \n",
              "USA                           0.002962  "
            ],
            "text/html": [
              "\n",
              "  <div id=\"df-a275c8ad-7f41-4b26-8f71-d62cfcda1374\">\n",
              "    <div class=\"colab-df-container\">\n",
              "      <div>\n",
              "<style scoped>\n",
              "    .dataframe tbody tr th:only-of-type {\n",
              "        vertical-align: middle;\n",
              "    }\n",
              "\n",
              "    .dataframe tbody tr th {\n",
              "        vertical-align: top;\n",
              "    }\n",
              "\n",
              "    .dataframe thead th {\n",
              "        text-align: right;\n",
              "    }\n",
              "</style>\n",
              "<table border=\"1\" class=\"dataframe\">\n",
              "  <thead>\n",
              "    <tr style=\"text-align: right;\">\n",
              "      <th></th>\n",
              "      <th>Company Name</th>\n",
              "      <th>achievement-caring</th>\n",
              "      <th>feminine-masculine</th>\n",
              "      <th>competitive-uncompetitive</th>\n",
              "    </tr>\n",
              "    <tr>\n",
              "      <th>Location</th>\n",
              "      <th></th>\n",
              "      <th></th>\n",
              "      <th></th>\n",
              "      <th></th>\n",
              "    </tr>\n",
              "  </thead>\n",
              "  <tbody>\n",
              "    <tr>\n",
              "      <th>Brazil</th>\n",
              "      <td>Petrobras</td>\n",
              "      <td>-0.022140</td>\n",
              "      <td>-0.118337</td>\n",
              "      <td>-0.152594</td>\n",
              "    </tr>\n",
              "    <tr>\n",
              "      <th>Britain</th>\n",
              "      <td>BP</td>\n",
              "      <td>0.016478</td>\n",
              "      <td>-0.273276</td>\n",
              "      <td>-0.035347</td>\n",
              "    </tr>\n",
              "    <tr>\n",
              "      <th>Canada</th>\n",
              "      <td>Enbridge</td>\n",
              "      <td>-0.067544</td>\n",
              "      <td>-0.267183</td>\n",
              "      <td>-0.202103</td>\n",
              "    </tr>\n",
              "    <tr>\n",
              "      <th>China</th>\n",
              "      <td>COFCO</td>\n",
              "      <td>-0.096423</td>\n",
              "      <td>0.244762</td>\n",
              "      <td>-0.072881</td>\n",
              "    </tr>\n",
              "    <tr>\n",
              "      <th>Finland</th>\n",
              "      <td>Fortum</td>\n",
              "      <td>-0.076827</td>\n",
              "      <td>-0.047060</td>\n",
              "      <td>-0.121753</td>\n",
              "    </tr>\n",
              "    <tr>\n",
              "      <th>France</th>\n",
              "      <td>AXA</td>\n",
              "      <td>0.025157</td>\n",
              "      <td>0.304076</td>\n",
              "      <td>0.007676</td>\n",
              "    </tr>\n",
              "    <tr>\n",
              "      <th>Germany</th>\n",
              "      <td>Volkswagen</td>\n",
              "      <td>0.013643</td>\n",
              "      <td>-0.236390</td>\n",
              "      <td>0.037873</td>\n",
              "    </tr>\n",
              "    <tr>\n",
              "      <th>Indonesia</th>\n",
              "      <td>Pertamina</td>\n",
              "      <td>-0.035616</td>\n",
              "      <td>-0.163574</td>\n",
              "      <td>-0.092583</td>\n",
              "    </tr>\n",
              "    <tr>\n",
              "      <th>Ireland</th>\n",
              "      <td>Accenture</td>\n",
              "      <td>0.067973</td>\n",
              "      <td>0.154986</td>\n",
              "      <td>0.027893</td>\n",
              "    </tr>\n",
              "    <tr>\n",
              "      <th>Italy</th>\n",
              "      <td>Enel</td>\n",
              "      <td>0.074267</td>\n",
              "      <td>-0.026870</td>\n",
              "      <td>0.080390</td>\n",
              "    </tr>\n",
              "    <tr>\n",
              "      <th>Japan</th>\n",
              "      <td>Mitsubishi</td>\n",
              "      <td>-0.050203</td>\n",
              "      <td>-0.288191</td>\n",
              "      <td>-0.052206</td>\n",
              "    </tr>\n",
              "    <tr>\n",
              "      <th>Luxembourg</th>\n",
              "      <td>ArcelorMittal</td>\n",
              "      <td>0.081220</td>\n",
              "      <td>-0.058461</td>\n",
              "      <td>-0.085598</td>\n",
              "    </tr>\n",
              "    <tr>\n",
              "      <th>Malaysia</th>\n",
              "      <td>Petronas</td>\n",
              "      <td>0.007067</td>\n",
              "      <td>-0.054568</td>\n",
              "      <td>-0.218928</td>\n",
              "    </tr>\n",
              "    <tr>\n",
              "      <th>Mexico</th>\n",
              "      <td>Pemex</td>\n",
              "      <td>-0.069860</td>\n",
              "      <td>-0.115691</td>\n",
              "      <td>-0.011670</td>\n",
              "    </tr>\n",
              "    <tr>\n",
              "      <th>Netherlands</th>\n",
              "      <td>Aegon</td>\n",
              "      <td>-0.077956</td>\n",
              "      <td>0.221164</td>\n",
              "      <td>-0.041868</td>\n",
              "    </tr>\n",
              "    <tr>\n",
              "      <th>Russia</th>\n",
              "      <td>Gazprom</td>\n",
              "      <td>0.108263</td>\n",
              "      <td>0.160508</td>\n",
              "      <td>0.000694</td>\n",
              "    </tr>\n",
              "    <tr>\n",
              "      <th>Singapore</th>\n",
              "      <td>Flex</td>\n",
              "      <td>-0.035794</td>\n",
              "      <td>0.066893</td>\n",
              "      <td>0.060253</td>\n",
              "    </tr>\n",
              "    <tr>\n",
              "      <th>South Korea</th>\n",
              "      <td>SK</td>\n",
              "      <td>-0.074619</td>\n",
              "      <td>-0.131771</td>\n",
              "      <td>-0.069345</td>\n",
              "    </tr>\n",
              "    <tr>\n",
              "      <th>Spain</th>\n",
              "      <td>ACS</td>\n",
              "      <td>0.080509</td>\n",
              "      <td>0.031195</td>\n",
              "      <td>0.030714</td>\n",
              "    </tr>\n",
              "    <tr>\n",
              "      <th>Sweden</th>\n",
              "      <td>Volvo</td>\n",
              "      <td>0.067916</td>\n",
              "      <td>-0.099817</td>\n",
              "      <td>0.101318</td>\n",
              "    </tr>\n",
              "    <tr>\n",
              "      <th>Switzerland</th>\n",
              "      <td>Glencore</td>\n",
              "      <td>-0.106992</td>\n",
              "      <td>-0.234782</td>\n",
              "      <td>-0.207883</td>\n",
              "    </tr>\n",
              "    <tr>\n",
              "      <th>Taiwan</th>\n",
              "      <td>Pegatron</td>\n",
              "      <td>-0.017428</td>\n",
              "      <td>0.061220</td>\n",
              "      <td>-0.154517</td>\n",
              "    </tr>\n",
              "    <tr>\n",
              "      <th>Thailand</th>\n",
              "      <td>PTT</td>\n",
              "      <td>-0.055018</td>\n",
              "      <td>0.327567</td>\n",
              "      <td>-0.065774</td>\n",
              "    </tr>\n",
              "    <tr>\n",
              "      <th>USA</th>\n",
              "      <td>Walmart</td>\n",
              "      <td>0.012846</td>\n",
              "      <td>-0.170809</td>\n",
              "      <td>0.002962</td>\n",
              "    </tr>\n",
              "  </tbody>\n",
              "</table>\n",
              "</div>\n",
              "      <button class=\"colab-df-convert\" onclick=\"convertToInteractive('df-a275c8ad-7f41-4b26-8f71-d62cfcda1374')\"\n",
              "              title=\"Convert this dataframe to an interactive table.\"\n",
              "              style=\"display:none;\">\n",
              "        \n",
              "  <svg xmlns=\"http://www.w3.org/2000/svg\" height=\"24px\"viewBox=\"0 0 24 24\"\n",
              "       width=\"24px\">\n",
              "    <path d=\"M0 0h24v24H0V0z\" fill=\"none\"/>\n",
              "    <path d=\"M18.56 5.44l.94 2.06.94-2.06 2.06-.94-2.06-.94-.94-2.06-.94 2.06-2.06.94zm-11 1L8.5 8.5l.94-2.06 2.06-.94-2.06-.94L8.5 2.5l-.94 2.06-2.06.94zm10 10l.94 2.06.94-2.06 2.06-.94-2.06-.94-.94-2.06-.94 2.06-2.06.94z\"/><path d=\"M17.41 7.96l-1.37-1.37c-.4-.4-.92-.59-1.43-.59-.52 0-1.04.2-1.43.59L10.3 9.45l-7.72 7.72c-.78.78-.78 2.05 0 2.83L4 21.41c.39.39.9.59 1.41.59.51 0 1.02-.2 1.41-.59l7.78-7.78 2.81-2.81c.8-.78.8-2.07 0-2.86zM5.41 20L4 18.59l7.72-7.72 1.47 1.35L5.41 20z\"/>\n",
              "  </svg>\n",
              "      </button>\n",
              "      \n",
              "  <style>\n",
              "    .colab-df-container {\n",
              "      display:flex;\n",
              "      flex-wrap:wrap;\n",
              "      gap: 12px;\n",
              "    }\n",
              "\n",
              "    .colab-df-convert {\n",
              "      background-color: #E8F0FE;\n",
              "      border: none;\n",
              "      border-radius: 50%;\n",
              "      cursor: pointer;\n",
              "      display: none;\n",
              "      fill: #1967D2;\n",
              "      height: 32px;\n",
              "      padding: 0 0 0 0;\n",
              "      width: 32px;\n",
              "    }\n",
              "\n",
              "    .colab-df-convert:hover {\n",
              "      background-color: #E2EBFA;\n",
              "      box-shadow: 0px 1px 2px rgba(60, 64, 67, 0.3), 0px 1px 3px 1px rgba(60, 64, 67, 0.15);\n",
              "      fill: #174EA6;\n",
              "    }\n",
              "\n",
              "    [theme=dark] .colab-df-convert {\n",
              "      background-color: #3B4455;\n",
              "      fill: #D2E3FC;\n",
              "    }\n",
              "\n",
              "    [theme=dark] .colab-df-convert:hover {\n",
              "      background-color: #434B5C;\n",
              "      box-shadow: 0px 1px 3px 1px rgba(0, 0, 0, 0.15);\n",
              "      filter: drop-shadow(0px 1px 2px rgba(0, 0, 0, 0.3));\n",
              "      fill: #FFFFFF;\n",
              "    }\n",
              "  </style>\n",
              "\n",
              "      <script>\n",
              "        const buttonEl =\n",
              "          document.querySelector('#df-a275c8ad-7f41-4b26-8f71-d62cfcda1374 button.colab-df-convert');\n",
              "        buttonEl.style.display =\n",
              "          google.colab.kernel.accessAllowed ? 'block' : 'none';\n",
              "\n",
              "        async function convertToInteractive(key) {\n",
              "          const element = document.querySelector('#df-a275c8ad-7f41-4b26-8f71-d62cfcda1374');\n",
              "          const dataTable =\n",
              "            await google.colab.kernel.invokeFunction('convertToInteractive',\n",
              "                                                     [key], {});\n",
              "          if (!dataTable) return;\n",
              "\n",
              "          const docLinkHtml = 'Like what you see? Visit the ' +\n",
              "            '<a target=\"_blank\" href=https://colab.research.google.com/notebooks/data_table.ipynb>data table notebook</a>'\n",
              "            + ' to learn more about interactive tables.';\n",
              "          element.innerHTML = '';\n",
              "          dataTable['output_type'] = 'display_data';\n",
              "          await google.colab.output.renderOutput(dataTable, element);\n",
              "          const docLink = document.createElement('div');\n",
              "          docLink.innerHTML = docLinkHtml;\n",
              "          element.appendChild(docLink);\n",
              "        }\n",
              "      </script>\n",
              "    </div>\n",
              "  </div>\n",
              "  "
            ]
          },
          "metadata": {},
          "execution_count": 12
        }
      ]
    },
    {
      "cell_type": "code",
      "source": [
        "gk.head()"
      ],
      "metadata": {
        "colab": {
          "base_uri": "https://localhost:8080/",
          "height": 423
        },
        "id": "ReIz9tKhY6h1",
        "outputId": "bf19a4fe-e1be-41c8-8e7e-1c5928c4b98a"
      },
      "execution_count": 13,
      "outputs": [
        {
          "output_type": "execute_result",
          "data": {
            "text/plain": [
              "    Company Name     Location  achievement-caring  feminine-masculine  \\\n",
              "0        Walmart          USA            0.012846           -0.170809   \n",
              "1         Amazon          USA            0.000485            0.076810   \n",
              "2          Apple          USA           -0.067164            0.149251   \n",
              "3     Volkswagen      Germany            0.013643           -0.236390   \n",
              "4       McKesson          USA           -0.041528           -0.093506   \n",
              "..           ...          ...                 ...                 ...   \n",
              "128          CRH      Ireland            0.055857            0.046221   \n",
              "136     Ericsson       Sweden           -0.036713           -0.166725   \n",
              "138        Nokia      Finland           -0.134960           -0.099053   \n",
              "140       Holcim  Switzerland            0.012754           -0.128488   \n",
              "141         Flex    Singapore           -0.035794            0.066893   \n",
              "\n",
              "     competitive-uncompetitive  \n",
              "0                     0.002962  \n",
              "1                     0.045931  \n",
              "2                     0.059214  \n",
              "3                     0.037873  \n",
              "4                    -0.249971  \n",
              "..                         ...  \n",
              "128                   0.056414  \n",
              "136                   0.024858  \n",
              "138                  -0.066144  \n",
              "140                  -0.110544  \n",
              "141                   0.060253  \n",
              "\n",
              "[66 rows x 5 columns]"
            ],
            "text/html": [
              "\n",
              "  <div id=\"df-feba23e6-df4d-4591-90b8-0c2614a212ba\">\n",
              "    <div class=\"colab-df-container\">\n",
              "      <div>\n",
              "<style scoped>\n",
              "    .dataframe tbody tr th:only-of-type {\n",
              "        vertical-align: middle;\n",
              "    }\n",
              "\n",
              "    .dataframe tbody tr th {\n",
              "        vertical-align: top;\n",
              "    }\n",
              "\n",
              "    .dataframe thead th {\n",
              "        text-align: right;\n",
              "    }\n",
              "</style>\n",
              "<table border=\"1\" class=\"dataframe\">\n",
              "  <thead>\n",
              "    <tr style=\"text-align: right;\">\n",
              "      <th></th>\n",
              "      <th>Company Name</th>\n",
              "      <th>Location</th>\n",
              "      <th>achievement-caring</th>\n",
              "      <th>feminine-masculine</th>\n",
              "      <th>competitive-uncompetitive</th>\n",
              "    </tr>\n",
              "  </thead>\n",
              "  <tbody>\n",
              "    <tr>\n",
              "      <th>0</th>\n",
              "      <td>Walmart</td>\n",
              "      <td>USA</td>\n",
              "      <td>0.012846</td>\n",
              "      <td>-0.170809</td>\n",
              "      <td>0.002962</td>\n",
              "    </tr>\n",
              "    <tr>\n",
              "      <th>1</th>\n",
              "      <td>Amazon</td>\n",
              "      <td>USA</td>\n",
              "      <td>0.000485</td>\n",
              "      <td>0.076810</td>\n",
              "      <td>0.045931</td>\n",
              "    </tr>\n",
              "    <tr>\n",
              "      <th>2</th>\n",
              "      <td>Apple</td>\n",
              "      <td>USA</td>\n",
              "      <td>-0.067164</td>\n",
              "      <td>0.149251</td>\n",
              "      <td>0.059214</td>\n",
              "    </tr>\n",
              "    <tr>\n",
              "      <th>3</th>\n",
              "      <td>Volkswagen</td>\n",
              "      <td>Germany</td>\n",
              "      <td>0.013643</td>\n",
              "      <td>-0.236390</td>\n",
              "      <td>0.037873</td>\n",
              "    </tr>\n",
              "    <tr>\n",
              "      <th>4</th>\n",
              "      <td>McKesson</td>\n",
              "      <td>USA</td>\n",
              "      <td>-0.041528</td>\n",
              "      <td>-0.093506</td>\n",
              "      <td>-0.249971</td>\n",
              "    </tr>\n",
              "    <tr>\n",
              "      <th>...</th>\n",
              "      <td>...</td>\n",
              "      <td>...</td>\n",
              "      <td>...</td>\n",
              "      <td>...</td>\n",
              "      <td>...</td>\n",
              "    </tr>\n",
              "    <tr>\n",
              "      <th>128</th>\n",
              "      <td>CRH</td>\n",
              "      <td>Ireland</td>\n",
              "      <td>0.055857</td>\n",
              "      <td>0.046221</td>\n",
              "      <td>0.056414</td>\n",
              "    </tr>\n",
              "    <tr>\n",
              "      <th>136</th>\n",
              "      <td>Ericsson</td>\n",
              "      <td>Sweden</td>\n",
              "      <td>-0.036713</td>\n",
              "      <td>-0.166725</td>\n",
              "      <td>0.024858</td>\n",
              "    </tr>\n",
              "    <tr>\n",
              "      <th>138</th>\n",
              "      <td>Nokia</td>\n",
              "      <td>Finland</td>\n",
              "      <td>-0.134960</td>\n",
              "      <td>-0.099053</td>\n",
              "      <td>-0.066144</td>\n",
              "    </tr>\n",
              "    <tr>\n",
              "      <th>140</th>\n",
              "      <td>Holcim</td>\n",
              "      <td>Switzerland</td>\n",
              "      <td>0.012754</td>\n",
              "      <td>-0.128488</td>\n",
              "      <td>-0.110544</td>\n",
              "    </tr>\n",
              "    <tr>\n",
              "      <th>141</th>\n",
              "      <td>Flex</td>\n",
              "      <td>Singapore</td>\n",
              "      <td>-0.035794</td>\n",
              "      <td>0.066893</td>\n",
              "      <td>0.060253</td>\n",
              "    </tr>\n",
              "  </tbody>\n",
              "</table>\n",
              "<p>66 rows × 5 columns</p>\n",
              "</div>\n",
              "      <button class=\"colab-df-convert\" onclick=\"convertToInteractive('df-feba23e6-df4d-4591-90b8-0c2614a212ba')\"\n",
              "              title=\"Convert this dataframe to an interactive table.\"\n",
              "              style=\"display:none;\">\n",
              "        \n",
              "  <svg xmlns=\"http://www.w3.org/2000/svg\" height=\"24px\"viewBox=\"0 0 24 24\"\n",
              "       width=\"24px\">\n",
              "    <path d=\"M0 0h24v24H0V0z\" fill=\"none\"/>\n",
              "    <path d=\"M18.56 5.44l.94 2.06.94-2.06 2.06-.94-2.06-.94-.94-2.06-.94 2.06-2.06.94zm-11 1L8.5 8.5l.94-2.06 2.06-.94-2.06-.94L8.5 2.5l-.94 2.06-2.06.94zm10 10l.94 2.06.94-2.06 2.06-.94-2.06-.94-.94-2.06-.94 2.06-2.06.94z\"/><path d=\"M17.41 7.96l-1.37-1.37c-.4-.4-.92-.59-1.43-.59-.52 0-1.04.2-1.43.59L10.3 9.45l-7.72 7.72c-.78.78-.78 2.05 0 2.83L4 21.41c.39.39.9.59 1.41.59.51 0 1.02-.2 1.41-.59l7.78-7.78 2.81-2.81c.8-.78.8-2.07 0-2.86zM5.41 20L4 18.59l7.72-7.72 1.47 1.35L5.41 20z\"/>\n",
              "  </svg>\n",
              "      </button>\n",
              "      \n",
              "  <style>\n",
              "    .colab-df-container {\n",
              "      display:flex;\n",
              "      flex-wrap:wrap;\n",
              "      gap: 12px;\n",
              "    }\n",
              "\n",
              "    .colab-df-convert {\n",
              "      background-color: #E8F0FE;\n",
              "      border: none;\n",
              "      border-radius: 50%;\n",
              "      cursor: pointer;\n",
              "      display: none;\n",
              "      fill: #1967D2;\n",
              "      height: 32px;\n",
              "      padding: 0 0 0 0;\n",
              "      width: 32px;\n",
              "    }\n",
              "\n",
              "    .colab-df-convert:hover {\n",
              "      background-color: #E2EBFA;\n",
              "      box-shadow: 0px 1px 2px rgba(60, 64, 67, 0.3), 0px 1px 3px 1px rgba(60, 64, 67, 0.15);\n",
              "      fill: #174EA6;\n",
              "    }\n",
              "\n",
              "    [theme=dark] .colab-df-convert {\n",
              "      background-color: #3B4455;\n",
              "      fill: #D2E3FC;\n",
              "    }\n",
              "\n",
              "    [theme=dark] .colab-df-convert:hover {\n",
              "      background-color: #434B5C;\n",
              "      box-shadow: 0px 1px 3px 1px rgba(0, 0, 0, 0.15);\n",
              "      filter: drop-shadow(0px 1px 2px rgba(0, 0, 0, 0.3));\n",
              "      fill: #FFFFFF;\n",
              "    }\n",
              "  </style>\n",
              "\n",
              "      <script>\n",
              "        const buttonEl =\n",
              "          document.querySelector('#df-feba23e6-df4d-4591-90b8-0c2614a212ba button.colab-df-convert');\n",
              "        buttonEl.style.display =\n",
              "          google.colab.kernel.accessAllowed ? 'block' : 'none';\n",
              "\n",
              "        async function convertToInteractive(key) {\n",
              "          const element = document.querySelector('#df-feba23e6-df4d-4591-90b8-0c2614a212ba');\n",
              "          const dataTable =\n",
              "            await google.colab.kernel.invokeFunction('convertToInteractive',\n",
              "                                                     [key], {});\n",
              "          if (!dataTable) return;\n",
              "\n",
              "          const docLinkHtml = 'Like what you see? Visit the ' +\n",
              "            '<a target=\"_blank\" href=https://colab.research.google.com/notebooks/data_table.ipynb>data table notebook</a>'\n",
              "            + ' to learn more about interactive tables.';\n",
              "          element.innerHTML = '';\n",
              "          dataTable['output_type'] = 'display_data';\n",
              "          await google.colab.output.renderOutput(dataTable, element);\n",
              "          const docLink = document.createElement('div');\n",
              "          docLink.innerHTML = docLinkHtml;\n",
              "          element.appendChild(docLink);\n",
              "        }\n",
              "      </script>\n",
              "    </div>\n",
              "  </div>\n",
              "  "
            ]
          },
          "metadata": {},
          "execution_count": 13
        }
      ]
    }
  ]
}