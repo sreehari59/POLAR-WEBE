{
  "nbformat": 4,
  "nbformat_minor": 0,
  "metadata": {
    "colab": {
      "name": "Polar_Embeddings_Plotting_VS_Two_Antonym_Pair.ipynb",
      "provenance": [],
      "collapsed_sections": [],
      "authorship_tag": "ABX9TyOsjrXXqqAyHtINEf9ypZuA",
      "include_colab_link": true
    },
    "kernelspec": {
      "name": "python3",
      "display_name": "Python 3"
    },
    "language_info": {
      "name": "python"
    }
  },
  "cells": [
    {
      "cell_type": "markdown",
      "metadata": {
        "id": "view-in-github",
        "colab_type": "text"
      },
      "source": [
        "<a href=\"https://colab.research.google.com/github/sreehari59/Polar-Embedding/blob/main/Polar_Embeddings_Plotting_VS_Two_Antonym_Pair.ipynb\" target=\"_parent\"><img src=\"https://colab.research.google.com/assets/colab-badge.svg\" alt=\"Open In Colab\"/></a>"
      ]
    },
    {
      "cell_type": "code",
      "execution_count": 1,
      "metadata": {
        "id": "ox0YPeWOkVAW",
        "colab": {
          "base_uri": "https://localhost:8080/"
        },
        "outputId": "87deec0a-b934-4a62-a4ff-56d75af781d9"
      },
      "outputs": [
        {
          "output_type": "stream",
          "name": "stdout",
          "text": [
            "Mounted at /content/drive\n"
          ]
        }
      ],
      "source": [
        "import pandas as pd\n",
        "from google.colab import drive\n",
        "drive.mount('/content/drive')\n"
      ]
    },
    {
      "cell_type": "markdown",
      "source": [
        "**Below import the polar embedding file**"
      ],
      "metadata": {
        "id": "muGqPLbj77Wp"
      }
    },
    {
      "cell_type": "code",
      "source": [
        "polar_embedding_company = pd.read_csv('/content/drive/MyDrive/POLAR-GloVeWiki-bus-antonyms-inter.csv')\n",
        "\n",
        "print(polar_embedding_company.head())"
      ],
      "metadata": {
        "id": "Z6sI1Vyt72hb",
        "colab": {
          "base_uri": "https://localhost:8080/"
        },
        "outputId": "c9207312-0124-4ae9-d5fe-262b318029fd"
      },
      "execution_count": 2,
      "outputs": [
        {
          "output_type": "stream",
          "name": "stdout",
          "text": [
            "   Unnamed: 0  femininemasculine  consistentinconsistent  privatepublic  \\\n",
            "0     walmart          -0.000883                0.018534      -0.069315   \n",
            "1      amazon          -0.059732                0.018154       0.233711   \n",
            "2       apple           0.018550                0.117052      -0.003355   \n",
            "3  volkswagen          -0.011157                0.060459      -0.108954   \n",
            "4    mckesson           0.071077               -0.174042       0.057184   \n",
            "\n",
            "   intangibletangible  declinegrowth  ethicalunethical  connecteddisconnected  \\\n",
            "0            0.055498      -0.300998         -0.114446               0.073519   \n",
            "1            0.085981      -0.242430         -0.047248               0.234184   \n",
            "2            0.015758      -0.129933         -0.060065               0.147650   \n",
            "3            0.043943      -0.095942         -0.106628              -0.190915   \n",
            "4           -0.130110       0.007880          0.054659               0.014312   \n",
            "\n",
            "   globallylocally  satisfiedunsatisfied  ...  goodiessalary  \\\n",
            "0         0.154110             -0.161244  ...      -0.082296   \n",
            "1         0.108418             -0.084842  ...       0.046393   \n",
            "2         0.124808              0.013360  ...       0.079080   \n",
            "3         0.131403             -0.017981  ...       0.124742   \n",
            "4        -0.031518             -0.098635  ...      -0.192824   \n",
            "\n",
            "   criminalrightful  biasunbias  captivefreedom  allianceproprietorship  \\\n",
            "0          0.030431   -0.006858       -0.034474                0.162935   \n",
            "1          0.002577   -0.014715        0.018525                0.198380   \n",
            "2         -0.075069    0.196780       -0.089285               -0.036281   \n",
            "3         -0.122883   -0.050889        0.016388                0.006956   \n",
            "4         -0.000012   -0.003804       -0.047132                0.084317   \n",
            "\n",
            "   collaborationsilo  followerinnovator  artisanalfinancial  \\\n",
            "0           0.051254           0.018629           -0.072775   \n",
            "1           0.047633           0.043475           -0.175370   \n",
            "2           0.021429          -0.084774            0.016796   \n",
            "3           0.092598          -0.011483           -0.186505   \n",
            "4           0.156907          -0.052901           -0.104468   \n",
            "\n",
            "   communicativeuncommunicative  autonomousmicromanagement  \n",
            "0                     -0.008051                   0.004824  \n",
            "1                      0.036298                   0.017434  \n",
            "2                      0.093716                  -0.129708  \n",
            "3                      0.089913                   0.087726  \n",
            "4                     -0.018865                   0.133397  \n",
            "\n",
            "[5 rows x 82 columns]\n"
          ]
        }
      ]
    },
    {
      "cell_type": "markdown",
      "source": [
        "**Below code snippet will load the fortune 500 company**"
      ],
      "metadata": {
        "id": "yBvQjhQg8Akb"
      }
    },
    {
      "cell_type": "code",
      "source": [
        "fortune_company = pd.read_csv('/content/drive/MyDrive/Fortune Global 500 companies.csv',encoding= 'unicode_escape')\n",
        "print(fortune_company.head())"
      ],
      "metadata": {
        "id": "HJXMWVqRl-hH",
        "colab": {
          "base_uri": "https://localhost:8080/"
        },
        "outputId": "617250e7-665d-4472-ca8e-c01c8fe60cb8"
      },
      "execution_count": 3,
      "outputs": [
        {
          "output_type": "stream",
          "name": "stdout",
          "text": [
            "   Rank                   Company Location\n",
            "0     1                   Walmart      USA\n",
            "1     2                State Grid    China\n",
            "2     3                    Amazon      USA\n",
            "3     4  China National Petroleum    China\n",
            "4     5             Sinopec Group    China\n"
          ]
        }
      ]
    },
    {
      "cell_type": "code",
      "source": [
        "polar_list_company_name = polar_embedding_company.iloc[:,0]\n",
        "character_1_list = polar_embedding_company.iloc[:,1]\n",
        "character_2_list = polar_embedding_company.iloc[:,3]\n",
        "character_3_list = polar_embedding_company.iloc[:,5]\n",
        "print(polar_list_company_name)"
      ],
      "metadata": {
        "id": "5m0-lUyORa6m"
      },
      "execution_count": null,
      "outputs": []
    },
    {
      "cell_type": "code",
      "source": [
        "character_1 = \"feminine-masculinity\"\n",
        "character_2 = \"private-public\"\n",
        "character_3 = \"ethical-unethical\"\n",
        "company_location=[]\n",
        "fortune_company_name = []\n",
        "company_index=0;\n",
        "counter=0\n",
        "for index, row in fortune_company.iterrows(): \n",
        "  \n",
        "  s = row['Company']\n",
        "  s = s.lower()\n",
        "  s = s.replace(\" \",\"\")   \n",
        "  if s == polar_list_company_name[company_index]:    \n",
        "    company_index = company_index+1\n",
        "    company_location.append(row['Location'])\n",
        "    fortune_company_name.append(row['Company'])\n",
        "    counter=counter+1\n",
        "        \n",
        "\n",
        "print(\"The size of the company list: \",counter)"
      ],
      "metadata": {
        "colab": {
          "base_uri": "https://localhost:8080/"
        },
        "id": "jfAPb0xqxn4E",
        "outputId": "921e60cf-52d5-45ca-dd8e-052e484f5c61"
      },
      "execution_count": 5,
      "outputs": [
        {
          "output_type": "stream",
          "name": "stdout",
          "text": [
            "The size of the company list:  167\n"
          ]
        }
      ]
    },
    {
      "cell_type": "code",
      "source": [
        "from pandas.core.frame import DataFrame\n",
        "import plotly.express as px\n",
        "\n",
        "data = {\n",
        "        'Company Name' : fortune_company_name,    \n",
        "        'Location': company_location,      \n",
        "        character_1 : character_1_list,\n",
        "        character_2 : character_2_list,\n",
        "        character_3 : character_3_list}\n",
        "\n",
        "df = pd.DataFrame(data)\n",
        "print(df.head())\n",
        "\n",
        "\n",
        "fig = px.scatter(df, x=character_1, y=character_2, text=\"Company Name\", size_max=1,color='Location', color_discrete_sequence= px.colors.qualitative.Alphabet)\n",
        "fig.update_traces(textposition='top center')\n",
        "fig.update_layout(title_text='Companies', title_x=0.5)\n",
        "fig.show()"
      ],
      "metadata": {
        "id": "YKTDyS_ck_Ed"
      },
      "execution_count": null,
      "outputs": []
    },
    {
      "cell_type": "code",
      "source": [
        "fig = px.scatter_3d(df, x=character_1, y=character_2, z=character_3, text=\"Company Name\", size_max=1,color='Location', color_discrete_sequence= px.colors.qualitative.Alphabet)\n",
        "fig.update_traces(textposition='top center')\n",
        "fig.update_layout(title_text='Companies', title_x=0.5)\n",
        "fig.show()"
      ],
      "metadata": {
        "id": "r3CrwxzrRovG"
      },
      "execution_count": null,
      "outputs": []
    },
    {
      "cell_type": "code",
      "source": [
        "character_of_company = 'feminine-masculinity'\n",
        "single_character_of_company = character_of_company.split(\"-\")[1].capitalize()\n",
        "\n",
        "# Making a copy of data frame\n",
        "new_df = df\n"
      ],
      "metadata": {
        "id": "EMUTWRxacEpw"
      },
      "execution_count": null,
      "outputs": []
    },
    {
      "cell_type": "code",
      "source": [
        "# This will find the total number of companies in our data frame based on Location\n",
        "total_company_list_based_on_loc_df = new_df.groupby('Location').count()\n",
        "total_company_list_based_on_loc=total_company_list_based_on_loc_df['Company Name']\n",
        "\n",
        "# This will count the number of companies having the value greater than 0 \n",
        "subset_df = new_df[new_df[character_of_company] > 0]\n",
        "company_inclined_to_right_polar_df = subset_df.groupby('Location').count()\n",
        "company_inclined_to_right_polar = company_inclined_to_right_polar_df['Company Name']"
      ],
      "metadata": {
        "id": "BMachBfJkqQA"
      },
      "execution_count": 97,
      "outputs": []
    },
    {
      "cell_type": "code",
      "source": [
        "name1 = \"Non \"+single_character_of_company+\" Companies\"\n",
        "name2 = single_character_of_company+\" Companies\"\n",
        "new_data ={\n",
        "    name1 : total_company_list_based_on_loc,\n",
        "    name2 : company_inclined_to_right_polar\n",
        "}\n",
        "final_df = pd.DataFrame(new_data)\n",
        "final_df = final_df.fillna(0)\n",
        "final_df[name1] = final_df[name1] - final_df[name2]\n",
        "print(final_df)\n"
      ],
      "metadata": {
        "id": "J7pdSldDxMEu"
      },
      "execution_count": null,
      "outputs": []
    },
    {
      "cell_type": "code",
      "source": [
        "fig = px.bar(final_df)\n",
        "fig.update_layout(title_text='Location wise distribution of companies', title_x=0.5)\n",
        "fig.show()"
      ],
      "metadata": {
        "colab": {
          "base_uri": "https://localhost:8080/",
          "height": 542
        },
        "id": "Qd_Dfrgn3gbG",
        "outputId": "cd8b4021-f709-4c07-83be-8c4ecf4e08dd"
      },
      "execution_count": 99,
      "outputs": [
        {
          "output_type": "display_data",
          "data": {
            "text/html": [
              "<html>\n",
              "<head><meta charset=\"utf-8\" /></head>\n",
              "<body>\n",
              "    <div>            <script src=\"https://cdnjs.cloudflare.com/ajax/libs/mathjax/2.7.5/MathJax.js?config=TeX-AMS-MML_SVG\"></script><script type=\"text/javascript\">if (window.MathJax) {MathJax.Hub.Config({SVG: {font: \"STIX-Web\"}});}</script>                <script type=\"text/javascript\">window.PlotlyConfig = {MathJaxConfig: 'local'};</script>\n",
              "        <script src=\"https://cdn.plot.ly/plotly-2.8.3.min.js\"></script>                <div id=\"c4249c89-3e1d-4454-bc49-fb3aec22b104\" class=\"plotly-graph-div\" style=\"height:525px; width:100%;\"></div>            <script type=\"text/javascript\">                                    window.PLOTLYENV=window.PLOTLYENV || {};                                    if (document.getElementById(\"c4249c89-3e1d-4454-bc49-fb3aec22b104\")) {                    Plotly.newPlot(                        \"c4249c89-3e1d-4454-bc49-fb3aec22b104\",                        [{\"alignmentgroup\":\"True\",\"hovertemplate\":\"variable=Non Masculinity Companies<br>Location=%{x}<br>value=%{y}<extra></extra>\",\"legendgroup\":\"Non Masculinity Companies\",\"marker\":{\"color\":\"#636efa\",\"pattern\":{\"shape\":\"\"}},\"name\":\"Non Masculinity Companies\",\"offsetgroup\":\"Non Masculinity Companies\",\"orientation\":\"v\",\"showlegend\":true,\"textposition\":\"auto\",\"x\":[\"Brazil\",\"Britain\",\"Canada\",\"China\",\"Finland\",\"France\",\"Germany\",\"India\",\"Indonesia\",\"Ireland\",\"Italy\",\"Japan\",\"Luxembourg\",\"Malaysia\",\"Mexico\",\"Netherlands\",\"Russia\",\"Singapore\",\"South Korea\",\"Spain\",\"Sweden\",\"Switzerland\",\"Taiwan\",\"Thailand\",\"USA\"],\"xaxis\":\"x\",\"y\":[2.0,3.0,0.0,2.0,2.0,4.0,9.0,2.0,1.0,1.0,2.0,12.0,1.0,1.0,1.0,1.0,3.0,1.0,2.0,3.0,2.0,4.0,0.0,1.0,28.0],\"yaxis\":\"y\",\"type\":\"bar\"},{\"alignmentgroup\":\"True\",\"hovertemplate\":\"variable=Masculinity Companies<br>Location=%{x}<br>value=%{y}<extra></extra>\",\"legendgroup\":\"Masculinity Companies\",\"marker\":{\"color\":\"#EF553B\",\"pattern\":{\"shape\":\"\"}},\"name\":\"Masculinity Companies\",\"offsetgroup\":\"Masculinity Companies\",\"orientation\":\"v\",\"showlegend\":true,\"textposition\":\"auto\",\"x\":[\"Brazil\",\"Britain\",\"Canada\",\"China\",\"Finland\",\"France\",\"Germany\",\"India\",\"Indonesia\",\"Ireland\",\"Italy\",\"Japan\",\"Luxembourg\",\"Malaysia\",\"Mexico\",\"Netherlands\",\"Russia\",\"Singapore\",\"South Korea\",\"Spain\",\"Sweden\",\"Switzerland\",\"Taiwan\",\"Thailand\",\"USA\"],\"xaxis\":\"x\",\"y\":[1.0,8.0,1.0,2.0,0.0,7.0,5.0,0.0,0.0,2.0,0.0,6.0,0.0,0.0,0.0,2.0,0.0,0.0,2.0,1.0,0.0,2.0,2.0,0.0,38.0],\"yaxis\":\"y\",\"type\":\"bar\"}],                        {\"template\":{\"data\":{\"bar\":[{\"error_x\":{\"color\":\"#2a3f5f\"},\"error_y\":{\"color\":\"#2a3f5f\"},\"marker\":{\"line\":{\"color\":\"#E5ECF6\",\"width\":0.5},\"pattern\":{\"fillmode\":\"overlay\",\"size\":10,\"solidity\":0.2}},\"type\":\"bar\"}],\"barpolar\":[{\"marker\":{\"line\":{\"color\":\"#E5ECF6\",\"width\":0.5},\"pattern\":{\"fillmode\":\"overlay\",\"size\":10,\"solidity\":0.2}},\"type\":\"barpolar\"}],\"carpet\":[{\"aaxis\":{\"endlinecolor\":\"#2a3f5f\",\"gridcolor\":\"white\",\"linecolor\":\"white\",\"minorgridcolor\":\"white\",\"startlinecolor\":\"#2a3f5f\"},\"baxis\":{\"endlinecolor\":\"#2a3f5f\",\"gridcolor\":\"white\",\"linecolor\":\"white\",\"minorgridcolor\":\"white\",\"startlinecolor\":\"#2a3f5f\"},\"type\":\"carpet\"}],\"choropleth\":[{\"colorbar\":{\"outlinewidth\":0,\"ticks\":\"\"},\"type\":\"choropleth\"}],\"contour\":[{\"colorbar\":{\"outlinewidth\":0,\"ticks\":\"\"},\"colorscale\":[[0.0,\"#0d0887\"],[0.1111111111111111,\"#46039f\"],[0.2222222222222222,\"#7201a8\"],[0.3333333333333333,\"#9c179e\"],[0.4444444444444444,\"#bd3786\"],[0.5555555555555556,\"#d8576b\"],[0.6666666666666666,\"#ed7953\"],[0.7777777777777778,\"#fb9f3a\"],[0.8888888888888888,\"#fdca26\"],[1.0,\"#f0f921\"]],\"type\":\"contour\"}],\"contourcarpet\":[{\"colorbar\":{\"outlinewidth\":0,\"ticks\":\"\"},\"type\":\"contourcarpet\"}],\"heatmap\":[{\"colorbar\":{\"outlinewidth\":0,\"ticks\":\"\"},\"colorscale\":[[0.0,\"#0d0887\"],[0.1111111111111111,\"#46039f\"],[0.2222222222222222,\"#7201a8\"],[0.3333333333333333,\"#9c179e\"],[0.4444444444444444,\"#bd3786\"],[0.5555555555555556,\"#d8576b\"],[0.6666666666666666,\"#ed7953\"],[0.7777777777777778,\"#fb9f3a\"],[0.8888888888888888,\"#fdca26\"],[1.0,\"#f0f921\"]],\"type\":\"heatmap\"}],\"heatmapgl\":[{\"colorbar\":{\"outlinewidth\":0,\"ticks\":\"\"},\"colorscale\":[[0.0,\"#0d0887\"],[0.1111111111111111,\"#46039f\"],[0.2222222222222222,\"#7201a8\"],[0.3333333333333333,\"#9c179e\"],[0.4444444444444444,\"#bd3786\"],[0.5555555555555556,\"#d8576b\"],[0.6666666666666666,\"#ed7953\"],[0.7777777777777778,\"#fb9f3a\"],[0.8888888888888888,\"#fdca26\"],[1.0,\"#f0f921\"]],\"type\":\"heatmapgl\"}],\"histogram\":[{\"marker\":{\"pattern\":{\"fillmode\":\"overlay\",\"size\":10,\"solidity\":0.2}},\"type\":\"histogram\"}],\"histogram2d\":[{\"colorbar\":{\"outlinewidth\":0,\"ticks\":\"\"},\"colorscale\":[[0.0,\"#0d0887\"],[0.1111111111111111,\"#46039f\"],[0.2222222222222222,\"#7201a8\"],[0.3333333333333333,\"#9c179e\"],[0.4444444444444444,\"#bd3786\"],[0.5555555555555556,\"#d8576b\"],[0.6666666666666666,\"#ed7953\"],[0.7777777777777778,\"#fb9f3a\"],[0.8888888888888888,\"#fdca26\"],[1.0,\"#f0f921\"]],\"type\":\"histogram2d\"}],\"histogram2dcontour\":[{\"colorbar\":{\"outlinewidth\":0,\"ticks\":\"\"},\"colorscale\":[[0.0,\"#0d0887\"],[0.1111111111111111,\"#46039f\"],[0.2222222222222222,\"#7201a8\"],[0.3333333333333333,\"#9c179e\"],[0.4444444444444444,\"#bd3786\"],[0.5555555555555556,\"#d8576b\"],[0.6666666666666666,\"#ed7953\"],[0.7777777777777778,\"#fb9f3a\"],[0.8888888888888888,\"#fdca26\"],[1.0,\"#f0f921\"]],\"type\":\"histogram2dcontour\"}],\"mesh3d\":[{\"colorbar\":{\"outlinewidth\":0,\"ticks\":\"\"},\"type\":\"mesh3d\"}],\"parcoords\":[{\"line\":{\"colorbar\":{\"outlinewidth\":0,\"ticks\":\"\"}},\"type\":\"parcoords\"}],\"pie\":[{\"automargin\":true,\"type\":\"pie\"}],\"scatter\":[{\"marker\":{\"colorbar\":{\"outlinewidth\":0,\"ticks\":\"\"}},\"type\":\"scatter\"}],\"scatter3d\":[{\"line\":{\"colorbar\":{\"outlinewidth\":0,\"ticks\":\"\"}},\"marker\":{\"colorbar\":{\"outlinewidth\":0,\"ticks\":\"\"}},\"type\":\"scatter3d\"}],\"scattercarpet\":[{\"marker\":{\"colorbar\":{\"outlinewidth\":0,\"ticks\":\"\"}},\"type\":\"scattercarpet\"}],\"scattergeo\":[{\"marker\":{\"colorbar\":{\"outlinewidth\":0,\"ticks\":\"\"}},\"type\":\"scattergeo\"}],\"scattergl\":[{\"marker\":{\"colorbar\":{\"outlinewidth\":0,\"ticks\":\"\"}},\"type\":\"scattergl\"}],\"scattermapbox\":[{\"marker\":{\"colorbar\":{\"outlinewidth\":0,\"ticks\":\"\"}},\"type\":\"scattermapbox\"}],\"scatterpolar\":[{\"marker\":{\"colorbar\":{\"outlinewidth\":0,\"ticks\":\"\"}},\"type\":\"scatterpolar\"}],\"scatterpolargl\":[{\"marker\":{\"colorbar\":{\"outlinewidth\":0,\"ticks\":\"\"}},\"type\":\"scatterpolargl\"}],\"scatterternary\":[{\"marker\":{\"colorbar\":{\"outlinewidth\":0,\"ticks\":\"\"}},\"type\":\"scatterternary\"}],\"surface\":[{\"colorbar\":{\"outlinewidth\":0,\"ticks\":\"\"},\"colorscale\":[[0.0,\"#0d0887\"],[0.1111111111111111,\"#46039f\"],[0.2222222222222222,\"#7201a8\"],[0.3333333333333333,\"#9c179e\"],[0.4444444444444444,\"#bd3786\"],[0.5555555555555556,\"#d8576b\"],[0.6666666666666666,\"#ed7953\"],[0.7777777777777778,\"#fb9f3a\"],[0.8888888888888888,\"#fdca26\"],[1.0,\"#f0f921\"]],\"type\":\"surface\"}],\"table\":[{\"cells\":{\"fill\":{\"color\":\"#EBF0F8\"},\"line\":{\"color\":\"white\"}},\"header\":{\"fill\":{\"color\":\"#C8D4E3\"},\"line\":{\"color\":\"white\"}},\"type\":\"table\"}]},\"layout\":{\"annotationdefaults\":{\"arrowcolor\":\"#2a3f5f\",\"arrowhead\":0,\"arrowwidth\":1},\"autotypenumbers\":\"strict\",\"coloraxis\":{\"colorbar\":{\"outlinewidth\":0,\"ticks\":\"\"}},\"colorscale\":{\"diverging\":[[0,\"#8e0152\"],[0.1,\"#c51b7d\"],[0.2,\"#de77ae\"],[0.3,\"#f1b6da\"],[0.4,\"#fde0ef\"],[0.5,\"#f7f7f7\"],[0.6,\"#e6f5d0\"],[0.7,\"#b8e186\"],[0.8,\"#7fbc41\"],[0.9,\"#4d9221\"],[1,\"#276419\"]],\"sequential\":[[0.0,\"#0d0887\"],[0.1111111111111111,\"#46039f\"],[0.2222222222222222,\"#7201a8\"],[0.3333333333333333,\"#9c179e\"],[0.4444444444444444,\"#bd3786\"],[0.5555555555555556,\"#d8576b\"],[0.6666666666666666,\"#ed7953\"],[0.7777777777777778,\"#fb9f3a\"],[0.8888888888888888,\"#fdca26\"],[1.0,\"#f0f921\"]],\"sequentialminus\":[[0.0,\"#0d0887\"],[0.1111111111111111,\"#46039f\"],[0.2222222222222222,\"#7201a8\"],[0.3333333333333333,\"#9c179e\"],[0.4444444444444444,\"#bd3786\"],[0.5555555555555556,\"#d8576b\"],[0.6666666666666666,\"#ed7953\"],[0.7777777777777778,\"#fb9f3a\"],[0.8888888888888888,\"#fdca26\"],[1.0,\"#f0f921\"]]},\"colorway\":[\"#636efa\",\"#EF553B\",\"#00cc96\",\"#ab63fa\",\"#FFA15A\",\"#19d3f3\",\"#FF6692\",\"#B6E880\",\"#FF97FF\",\"#FECB52\"],\"font\":{\"color\":\"#2a3f5f\"},\"geo\":{\"bgcolor\":\"white\",\"lakecolor\":\"white\",\"landcolor\":\"#E5ECF6\",\"showlakes\":true,\"showland\":true,\"subunitcolor\":\"white\"},\"hoverlabel\":{\"align\":\"left\"},\"hovermode\":\"closest\",\"mapbox\":{\"style\":\"light\"},\"paper_bgcolor\":\"white\",\"plot_bgcolor\":\"#E5ECF6\",\"polar\":{\"angularaxis\":{\"gridcolor\":\"white\",\"linecolor\":\"white\",\"ticks\":\"\"},\"bgcolor\":\"#E5ECF6\",\"radialaxis\":{\"gridcolor\":\"white\",\"linecolor\":\"white\",\"ticks\":\"\"}},\"scene\":{\"xaxis\":{\"backgroundcolor\":\"#E5ECF6\",\"gridcolor\":\"white\",\"gridwidth\":2,\"linecolor\":\"white\",\"showbackground\":true,\"ticks\":\"\",\"zerolinecolor\":\"white\"},\"yaxis\":{\"backgroundcolor\":\"#E5ECF6\",\"gridcolor\":\"white\",\"gridwidth\":2,\"linecolor\":\"white\",\"showbackground\":true,\"ticks\":\"\",\"zerolinecolor\":\"white\"},\"zaxis\":{\"backgroundcolor\":\"#E5ECF6\",\"gridcolor\":\"white\",\"gridwidth\":2,\"linecolor\":\"white\",\"showbackground\":true,\"ticks\":\"\",\"zerolinecolor\":\"white\"}},\"shapedefaults\":{\"line\":{\"color\":\"#2a3f5f\"}},\"ternary\":{\"aaxis\":{\"gridcolor\":\"white\",\"linecolor\":\"white\",\"ticks\":\"\"},\"baxis\":{\"gridcolor\":\"white\",\"linecolor\":\"white\",\"ticks\":\"\"},\"bgcolor\":\"#E5ECF6\",\"caxis\":{\"gridcolor\":\"white\",\"linecolor\":\"white\",\"ticks\":\"\"}},\"title\":{\"x\":0.05},\"xaxis\":{\"automargin\":true,\"gridcolor\":\"white\",\"linecolor\":\"white\",\"ticks\":\"\",\"title\":{\"standoff\":15},\"zerolinecolor\":\"white\",\"zerolinewidth\":2},\"yaxis\":{\"automargin\":true,\"gridcolor\":\"white\",\"linecolor\":\"white\",\"ticks\":\"\",\"title\":{\"standoff\":15},\"zerolinecolor\":\"white\",\"zerolinewidth\":2}}},\"xaxis\":{\"anchor\":\"y\",\"domain\":[0.0,1.0],\"title\":{\"text\":\"Location\"}},\"yaxis\":{\"anchor\":\"x\",\"domain\":[0.0,1.0],\"title\":{\"text\":\"value\"}},\"legend\":{\"title\":{\"text\":\"variable\"},\"tracegroupgap\":0},\"margin\":{\"t\":60},\"barmode\":\"relative\",\"title\":{\"text\":\"Location wise distribution of companies\",\"x\":0.5}},                        {\"responsive\": true}                    ).then(function(){\n",
              "                            \n",
              "var gd = document.getElementById('c4249c89-3e1d-4454-bc49-fb3aec22b104');\n",
              "var x = new MutationObserver(function (mutations, observer) {{\n",
              "        var display = window.getComputedStyle(gd).display;\n",
              "        if (!display || display === 'none') {{\n",
              "            console.log([gd, 'removed!']);\n",
              "            Plotly.purge(gd);\n",
              "            observer.disconnect();\n",
              "        }}\n",
              "}});\n",
              "\n",
              "// Listen for the removal of the full notebook cells\n",
              "var notebookContainer = gd.closest('#notebook-container');\n",
              "if (notebookContainer) {{\n",
              "    x.observe(notebookContainer, {childList: true});\n",
              "}}\n",
              "\n",
              "// Listen for the clearing of the current output cell\n",
              "var outputEl = gd.closest('.output');\n",
              "if (outputEl) {{\n",
              "    x.observe(outputEl, {childList: true});\n",
              "}}\n",
              "\n",
              "                        })                };                            </script>        </div>\n",
              "</body>\n",
              "</html>"
            ]
          },
          "metadata": {}
        }
      ]
    }
  ]
}