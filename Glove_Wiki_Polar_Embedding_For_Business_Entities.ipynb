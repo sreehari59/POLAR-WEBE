{
  "nbformat": 4,
  "nbformat_minor": 0,
  "metadata": {
    "colab": {
      "name": "Glove_Wiki_Polar Embedding For Business Entities.ipynb",
      "provenance": [],
      "collapsed_sections": [],
      "authorship_tag": "ABX9TyNfgBwH8QoEVU8du47Mo0g8",
      "include_colab_link": true
    },
    "kernelspec": {
      "name": "python3",
      "display_name": "Python 3"
    },
    "language_info": {
      "name": "python"
    },
    "widgets": {
      "application/vnd.jupyter.widget-state+json": {
        "0d075f255a14482d8a98e734b45e33bd": {
          "model_module": "@jupyter-widgets/controls",
          "model_name": "HBoxModel",
          "model_module_version": "1.5.0",
          "state": {
            "_dom_classes": [],
            "_model_module": "@jupyter-widgets/controls",
            "_model_module_version": "1.5.0",
            "_model_name": "HBoxModel",
            "_view_count": null,
            "_view_module": "@jupyter-widgets/controls",
            "_view_module_version": "1.5.0",
            "_view_name": "HBoxView",
            "box_style": "",
            "children": [
              "IPY_MODEL_51475ce9f1a041e8a3027dfea06b6de5",
              "IPY_MODEL_55d3fe0b65ba4ae3a6a0747c3693c46f",
              "IPY_MODEL_3b625fe8e46d4c90bb4d4b43fc382a0f"
            ],
            "layout": "IPY_MODEL_d90957db4bc04b8b96164659e3beb93d"
          }
        },
        "51475ce9f1a041e8a3027dfea06b6de5": {
          "model_module": "@jupyter-widgets/controls",
          "model_name": "HTMLModel",
          "model_module_version": "1.5.0",
          "state": {
            "_dom_classes": [],
            "_model_module": "@jupyter-widgets/controls",
            "_model_module_version": "1.5.0",
            "_model_name": "HTMLModel",
            "_view_count": null,
            "_view_module": "@jupyter-widgets/controls",
            "_view_module_version": "1.5.0",
            "_view_name": "HTMLView",
            "description": "",
            "description_tooltip": null,
            "layout": "IPY_MODEL_a9799876eb5148789891817f84bba87c",
            "placeholder": "​",
            "style": "IPY_MODEL_f9edd646c37f40a1b521e4f811efb58c",
            "value": "100%"
          }
        },
        "55d3fe0b65ba4ae3a6a0747c3693c46f": {
          "model_module": "@jupyter-widgets/controls",
          "model_name": "FloatProgressModel",
          "model_module_version": "1.5.0",
          "state": {
            "_dom_classes": [],
            "_model_module": "@jupyter-widgets/controls",
            "_model_module_version": "1.5.0",
            "_model_name": "FloatProgressModel",
            "_view_count": null,
            "_view_module": "@jupyter-widgets/controls",
            "_view_module_version": "1.5.0",
            "_view_name": "ProgressView",
            "bar_style": "success",
            "description": "",
            "description_tooltip": null,
            "layout": "IPY_MODEL_0c1c2af3475e456897d37d4237ba376f",
            "max": 400000,
            "min": 0,
            "orientation": "horizontal",
            "style": "IPY_MODEL_5b0a4e37d6504e86af1a1647464501d7",
            "value": 400000
          }
        },
        "3b625fe8e46d4c90bb4d4b43fc382a0f": {
          "model_module": "@jupyter-widgets/controls",
          "model_name": "HTMLModel",
          "model_module_version": "1.5.0",
          "state": {
            "_dom_classes": [],
            "_model_module": "@jupyter-widgets/controls",
            "_model_module_version": "1.5.0",
            "_model_name": "HTMLModel",
            "_view_count": null,
            "_view_module": "@jupyter-widgets/controls",
            "_view_module_version": "1.5.0",
            "_view_name": "HTMLView",
            "description": "",
            "description_tooltip": null,
            "layout": "IPY_MODEL_f37f3d470c2d416c954be07ff3acd37e",
            "placeholder": "​",
            "style": "IPY_MODEL_f55e9a4cc4f64195b8d526d0f1afe45f",
            "value": " 400000/400000 [00:07&lt;00:00, 50828.80it/s]"
          }
        },
        "d90957db4bc04b8b96164659e3beb93d": {
          "model_module": "@jupyter-widgets/base",
          "model_name": "LayoutModel",
          "model_module_version": "1.2.0",
          "state": {
            "_model_module": "@jupyter-widgets/base",
            "_model_module_version": "1.2.0",
            "_model_name": "LayoutModel",
            "_view_count": null,
            "_view_module": "@jupyter-widgets/base",
            "_view_module_version": "1.2.0",
            "_view_name": "LayoutView",
            "align_content": null,
            "align_items": null,
            "align_self": null,
            "border": null,
            "bottom": null,
            "display": null,
            "flex": null,
            "flex_flow": null,
            "grid_area": null,
            "grid_auto_columns": null,
            "grid_auto_flow": null,
            "grid_auto_rows": null,
            "grid_column": null,
            "grid_gap": null,
            "grid_row": null,
            "grid_template_areas": null,
            "grid_template_columns": null,
            "grid_template_rows": null,
            "height": null,
            "justify_content": null,
            "justify_items": null,
            "left": null,
            "margin": null,
            "max_height": null,
            "max_width": null,
            "min_height": null,
            "min_width": null,
            "object_fit": null,
            "object_position": null,
            "order": null,
            "overflow": null,
            "overflow_x": null,
            "overflow_y": null,
            "padding": null,
            "right": null,
            "top": null,
            "visibility": null,
            "width": null
          }
        },
        "a9799876eb5148789891817f84bba87c": {
          "model_module": "@jupyter-widgets/base",
          "model_name": "LayoutModel",
          "model_module_version": "1.2.0",
          "state": {
            "_model_module": "@jupyter-widgets/base",
            "_model_module_version": "1.2.0",
            "_model_name": "LayoutModel",
            "_view_count": null,
            "_view_module": "@jupyter-widgets/base",
            "_view_module_version": "1.2.0",
            "_view_name": "LayoutView",
            "align_content": null,
            "align_items": null,
            "align_self": null,
            "border": null,
            "bottom": null,
            "display": null,
            "flex": null,
            "flex_flow": null,
            "grid_area": null,
            "grid_auto_columns": null,
            "grid_auto_flow": null,
            "grid_auto_rows": null,
            "grid_column": null,
            "grid_gap": null,
            "grid_row": null,
            "grid_template_areas": null,
            "grid_template_columns": null,
            "grid_template_rows": null,
            "height": null,
            "justify_content": null,
            "justify_items": null,
            "left": null,
            "margin": null,
            "max_height": null,
            "max_width": null,
            "min_height": null,
            "min_width": null,
            "object_fit": null,
            "object_position": null,
            "order": null,
            "overflow": null,
            "overflow_x": null,
            "overflow_y": null,
            "padding": null,
            "right": null,
            "top": null,
            "visibility": null,
            "width": null
          }
        },
        "f9edd646c37f40a1b521e4f811efb58c": {
          "model_module": "@jupyter-widgets/controls",
          "model_name": "DescriptionStyleModel",
          "model_module_version": "1.5.0",
          "state": {
            "_model_module": "@jupyter-widgets/controls",
            "_model_module_version": "1.5.0",
            "_model_name": "DescriptionStyleModel",
            "_view_count": null,
            "_view_module": "@jupyter-widgets/base",
            "_view_module_version": "1.2.0",
            "_view_name": "StyleView",
            "description_width": ""
          }
        },
        "0c1c2af3475e456897d37d4237ba376f": {
          "model_module": "@jupyter-widgets/base",
          "model_name": "LayoutModel",
          "model_module_version": "1.2.0",
          "state": {
            "_model_module": "@jupyter-widgets/base",
            "_model_module_version": "1.2.0",
            "_model_name": "LayoutModel",
            "_view_count": null,
            "_view_module": "@jupyter-widgets/base",
            "_view_module_version": "1.2.0",
            "_view_name": "LayoutView",
            "align_content": null,
            "align_items": null,
            "align_self": null,
            "border": null,
            "bottom": null,
            "display": null,
            "flex": null,
            "flex_flow": null,
            "grid_area": null,
            "grid_auto_columns": null,
            "grid_auto_flow": null,
            "grid_auto_rows": null,
            "grid_column": null,
            "grid_gap": null,
            "grid_row": null,
            "grid_template_areas": null,
            "grid_template_columns": null,
            "grid_template_rows": null,
            "height": null,
            "justify_content": null,
            "justify_items": null,
            "left": null,
            "margin": null,
            "max_height": null,
            "max_width": null,
            "min_height": null,
            "min_width": null,
            "object_fit": null,
            "object_position": null,
            "order": null,
            "overflow": null,
            "overflow_x": null,
            "overflow_y": null,
            "padding": null,
            "right": null,
            "top": null,
            "visibility": null,
            "width": null
          }
        },
        "5b0a4e37d6504e86af1a1647464501d7": {
          "model_module": "@jupyter-widgets/controls",
          "model_name": "ProgressStyleModel",
          "model_module_version": "1.5.0",
          "state": {
            "_model_module": "@jupyter-widgets/controls",
            "_model_module_version": "1.5.0",
            "_model_name": "ProgressStyleModel",
            "_view_count": null,
            "_view_module": "@jupyter-widgets/base",
            "_view_module_version": "1.2.0",
            "_view_name": "StyleView",
            "bar_color": null,
            "description_width": ""
          }
        },
        "f37f3d470c2d416c954be07ff3acd37e": {
          "model_module": "@jupyter-widgets/base",
          "model_name": "LayoutModel",
          "model_module_version": "1.2.0",
          "state": {
            "_model_module": "@jupyter-widgets/base",
            "_model_module_version": "1.2.0",
            "_model_name": "LayoutModel",
            "_view_count": null,
            "_view_module": "@jupyter-widgets/base",
            "_view_module_version": "1.2.0",
            "_view_name": "LayoutView",
            "align_content": null,
            "align_items": null,
            "align_self": null,
            "border": null,
            "bottom": null,
            "display": null,
            "flex": null,
            "flex_flow": null,
            "grid_area": null,
            "grid_auto_columns": null,
            "grid_auto_flow": null,
            "grid_auto_rows": null,
            "grid_column": null,
            "grid_gap": null,
            "grid_row": null,
            "grid_template_areas": null,
            "grid_template_columns": null,
            "grid_template_rows": null,
            "height": null,
            "justify_content": null,
            "justify_items": null,
            "left": null,
            "margin": null,
            "max_height": null,
            "max_width": null,
            "min_height": null,
            "min_width": null,
            "object_fit": null,
            "object_position": null,
            "order": null,
            "overflow": null,
            "overflow_x": null,
            "overflow_y": null,
            "padding": null,
            "right": null,
            "top": null,
            "visibility": null,
            "width": null
          }
        },
        "f55e9a4cc4f64195b8d526d0f1afe45f": {
          "model_module": "@jupyter-widgets/controls",
          "model_name": "DescriptionStyleModel",
          "model_module_version": "1.5.0",
          "state": {
            "_model_module": "@jupyter-widgets/controls",
            "_model_module_version": "1.5.0",
            "_model_name": "DescriptionStyleModel",
            "_view_count": null,
            "_view_module": "@jupyter-widgets/base",
            "_view_module_version": "1.2.0",
            "_view_name": "StyleView",
            "description_width": ""
          }
        },
        "18a3e2b243db459db262a6dcc793b3cf": {
          "model_module": "@jupyter-widgets/controls",
          "model_name": "HBoxModel",
          "model_module_version": "1.5.0",
          "state": {
            "_dom_classes": [],
            "_model_module": "@jupyter-widgets/controls",
            "_model_module_version": "1.5.0",
            "_model_name": "HBoxModel",
            "_view_count": null,
            "_view_module": "@jupyter-widgets/controls",
            "_view_module_version": "1.5.0",
            "_view_name": "HBoxView",
            "box_style": "",
            "children": [
              "IPY_MODEL_5f2d3707a1674174b88448d821547ab6",
              "IPY_MODEL_7d974d0ca0b54758b3f25c870644070d",
              "IPY_MODEL_9ef8525785ea4978aad33a0927332a27"
            ],
            "layout": "IPY_MODEL_92486fb34e0e4827a0751f6ada8426a6"
          }
        },
        "5f2d3707a1674174b88448d821547ab6": {
          "model_module": "@jupyter-widgets/controls",
          "model_name": "HTMLModel",
          "model_module_version": "1.5.0",
          "state": {
            "_dom_classes": [],
            "_model_module": "@jupyter-widgets/controls",
            "_model_module_version": "1.5.0",
            "_model_name": "HTMLModel",
            "_view_count": null,
            "_view_module": "@jupyter-widgets/controls",
            "_view_module_version": "1.5.0",
            "_view_name": "HTMLView",
            "description": "",
            "description_tooltip": null,
            "layout": "IPY_MODEL_fefb69f3d9ad4d5ba2e525ee9db90aff",
            "placeholder": "​",
            "style": "IPY_MODEL_c841356ecdab4bbfbecd6b3754d65eea",
            "value": "100%"
          }
        },
        "7d974d0ca0b54758b3f25c870644070d": {
          "model_module": "@jupyter-widgets/controls",
          "model_name": "FloatProgressModel",
          "model_module_version": "1.5.0",
          "state": {
            "_dom_classes": [],
            "_model_module": "@jupyter-widgets/controls",
            "_model_module_version": "1.5.0",
            "_model_name": "FloatProgressModel",
            "_view_count": null,
            "_view_module": "@jupyter-widgets/controls",
            "_view_module_version": "1.5.0",
            "_view_name": "ProgressView",
            "bar_style": "success",
            "description": "",
            "description_tooltip": null,
            "layout": "IPY_MODEL_3fa8346484d04b519e6bcf6ead07e91a",
            "max": 113,
            "min": 0,
            "orientation": "horizontal",
            "style": "IPY_MODEL_8bfc866456dd4f6f94c72f33f7f9dc8b",
            "value": 113
          }
        },
        "9ef8525785ea4978aad33a0927332a27": {
          "model_module": "@jupyter-widgets/controls",
          "model_name": "HTMLModel",
          "model_module_version": "1.5.0",
          "state": {
            "_dom_classes": [],
            "_model_module": "@jupyter-widgets/controls",
            "_model_module_version": "1.5.0",
            "_model_name": "HTMLModel",
            "_view_count": null,
            "_view_module": "@jupyter-widgets/controls",
            "_view_module_version": "1.5.0",
            "_view_name": "HTMLView",
            "description": "",
            "description_tooltip": null,
            "layout": "IPY_MODEL_990fe881f1a7471f9f113afb20266a95",
            "placeholder": "​",
            "style": "IPY_MODEL_a4c5568c98e34f66a218e2cb6c322a9d",
            "value": " 113/113 [00:00&lt;00:00, 1672.09it/s]"
          }
        },
        "92486fb34e0e4827a0751f6ada8426a6": {
          "model_module": "@jupyter-widgets/base",
          "model_name": "LayoutModel",
          "model_module_version": "1.2.0",
          "state": {
            "_model_module": "@jupyter-widgets/base",
            "_model_module_version": "1.2.0",
            "_model_name": "LayoutModel",
            "_view_count": null,
            "_view_module": "@jupyter-widgets/base",
            "_view_module_version": "1.2.0",
            "_view_name": "LayoutView",
            "align_content": null,
            "align_items": null,
            "align_self": null,
            "border": null,
            "bottom": null,
            "display": null,
            "flex": null,
            "flex_flow": null,
            "grid_area": null,
            "grid_auto_columns": null,
            "grid_auto_flow": null,
            "grid_auto_rows": null,
            "grid_column": null,
            "grid_gap": null,
            "grid_row": null,
            "grid_template_areas": null,
            "grid_template_columns": null,
            "grid_template_rows": null,
            "height": null,
            "justify_content": null,
            "justify_items": null,
            "left": null,
            "margin": null,
            "max_height": null,
            "max_width": null,
            "min_height": null,
            "min_width": null,
            "object_fit": null,
            "object_position": null,
            "order": null,
            "overflow": null,
            "overflow_x": null,
            "overflow_y": null,
            "padding": null,
            "right": null,
            "top": null,
            "visibility": null,
            "width": null
          }
        },
        "fefb69f3d9ad4d5ba2e525ee9db90aff": {
          "model_module": "@jupyter-widgets/base",
          "model_name": "LayoutModel",
          "model_module_version": "1.2.0",
          "state": {
            "_model_module": "@jupyter-widgets/base",
            "_model_module_version": "1.2.0",
            "_model_name": "LayoutModel",
            "_view_count": null,
            "_view_module": "@jupyter-widgets/base",
            "_view_module_version": "1.2.0",
            "_view_name": "LayoutView",
            "align_content": null,
            "align_items": null,
            "align_self": null,
            "border": null,
            "bottom": null,
            "display": null,
            "flex": null,
            "flex_flow": null,
            "grid_area": null,
            "grid_auto_columns": null,
            "grid_auto_flow": null,
            "grid_auto_rows": null,
            "grid_column": null,
            "grid_gap": null,
            "grid_row": null,
            "grid_template_areas": null,
            "grid_template_columns": null,
            "grid_template_rows": null,
            "height": null,
            "justify_content": null,
            "justify_items": null,
            "left": null,
            "margin": null,
            "max_height": null,
            "max_width": null,
            "min_height": null,
            "min_width": null,
            "object_fit": null,
            "object_position": null,
            "order": null,
            "overflow": null,
            "overflow_x": null,
            "overflow_y": null,
            "padding": null,
            "right": null,
            "top": null,
            "visibility": null,
            "width": null
          }
        },
        "c841356ecdab4bbfbecd6b3754d65eea": {
          "model_module": "@jupyter-widgets/controls",
          "model_name": "DescriptionStyleModel",
          "model_module_version": "1.5.0",
          "state": {
            "_model_module": "@jupyter-widgets/controls",
            "_model_module_version": "1.5.0",
            "_model_name": "DescriptionStyleModel",
            "_view_count": null,
            "_view_module": "@jupyter-widgets/base",
            "_view_module_version": "1.2.0",
            "_view_name": "StyleView",
            "description_width": ""
          }
        },
        "3fa8346484d04b519e6bcf6ead07e91a": {
          "model_module": "@jupyter-widgets/base",
          "model_name": "LayoutModel",
          "model_module_version": "1.2.0",
          "state": {
            "_model_module": "@jupyter-widgets/base",
            "_model_module_version": "1.2.0",
            "_model_name": "LayoutModel",
            "_view_count": null,
            "_view_module": "@jupyter-widgets/base",
            "_view_module_version": "1.2.0",
            "_view_name": "LayoutView",
            "align_content": null,
            "align_items": null,
            "align_self": null,
            "border": null,
            "bottom": null,
            "display": null,
            "flex": null,
            "flex_flow": null,
            "grid_area": null,
            "grid_auto_columns": null,
            "grid_auto_flow": null,
            "grid_auto_rows": null,
            "grid_column": null,
            "grid_gap": null,
            "grid_row": null,
            "grid_template_areas": null,
            "grid_template_columns": null,
            "grid_template_rows": null,
            "height": null,
            "justify_content": null,
            "justify_items": null,
            "left": null,
            "margin": null,
            "max_height": null,
            "max_width": null,
            "min_height": null,
            "min_width": null,
            "object_fit": null,
            "object_position": null,
            "order": null,
            "overflow": null,
            "overflow_x": null,
            "overflow_y": null,
            "padding": null,
            "right": null,
            "top": null,
            "visibility": null,
            "width": null
          }
        },
        "8bfc866456dd4f6f94c72f33f7f9dc8b": {
          "model_module": "@jupyter-widgets/controls",
          "model_name": "ProgressStyleModel",
          "model_module_version": "1.5.0",
          "state": {
            "_model_module": "@jupyter-widgets/controls",
            "_model_module_version": "1.5.0",
            "_model_name": "ProgressStyleModel",
            "_view_count": null,
            "_view_module": "@jupyter-widgets/base",
            "_view_module_version": "1.2.0",
            "_view_name": "StyleView",
            "bar_color": null,
            "description_width": ""
          }
        },
        "990fe881f1a7471f9f113afb20266a95": {
          "model_module": "@jupyter-widgets/base",
          "model_name": "LayoutModel",
          "model_module_version": "1.2.0",
          "state": {
            "_model_module": "@jupyter-widgets/base",
            "_model_module_version": "1.2.0",
            "_model_name": "LayoutModel",
            "_view_count": null,
            "_view_module": "@jupyter-widgets/base",
            "_view_module_version": "1.2.0",
            "_view_name": "LayoutView",
            "align_content": null,
            "align_items": null,
            "align_self": null,
            "border": null,
            "bottom": null,
            "display": null,
            "flex": null,
            "flex_flow": null,
            "grid_area": null,
            "grid_auto_columns": null,
            "grid_auto_flow": null,
            "grid_auto_rows": null,
            "grid_column": null,
            "grid_gap": null,
            "grid_row": null,
            "grid_template_areas": null,
            "grid_template_columns": null,
            "grid_template_rows": null,
            "height": null,
            "justify_content": null,
            "justify_items": null,
            "left": null,
            "margin": null,
            "max_height": null,
            "max_width": null,
            "min_height": null,
            "min_width": null,
            "object_fit": null,
            "object_position": null,
            "order": null,
            "overflow": null,
            "overflow_x": null,
            "overflow_y": null,
            "padding": null,
            "right": null,
            "top": null,
            "visibility": null,
            "width": null
          }
        },
        "a4c5568c98e34f66a218e2cb6c322a9d": {
          "model_module": "@jupyter-widgets/controls",
          "model_name": "DescriptionStyleModel",
          "model_module_version": "1.5.0",
          "state": {
            "_model_module": "@jupyter-widgets/controls",
            "_model_module_version": "1.5.0",
            "_model_name": "DescriptionStyleModel",
            "_view_count": null,
            "_view_module": "@jupyter-widgets/base",
            "_view_module_version": "1.2.0",
            "_view_name": "StyleView",
            "description_width": ""
          }
        },
        "5597b223dc614fb5843b422ec0d72805": {
          "model_module": "@jupyter-widgets/controls",
          "model_name": "HBoxModel",
          "model_module_version": "1.5.0",
          "state": {
            "_dom_classes": [],
            "_model_module": "@jupyter-widgets/controls",
            "_model_module_version": "1.5.0",
            "_model_name": "HBoxModel",
            "_view_count": null,
            "_view_module": "@jupyter-widgets/controls",
            "_view_module_version": "1.5.0",
            "_view_name": "HBoxView",
            "box_style": "",
            "children": [
              "IPY_MODEL_4d4e043ef53a49afbf478947d44a72da",
              "IPY_MODEL_f73e81bff40849469ada3251469b4abf",
              "IPY_MODEL_364cb356efcf4ab4ae5d79b02d5753b9"
            ],
            "layout": "IPY_MODEL_a8d149341b534717821e4b14ac17d107"
          }
        },
        "4d4e043ef53a49afbf478947d44a72da": {
          "model_module": "@jupyter-widgets/controls",
          "model_name": "HTMLModel",
          "model_module_version": "1.5.0",
          "state": {
            "_dom_classes": [],
            "_model_module": "@jupyter-widgets/controls",
            "_model_module_version": "1.5.0",
            "_model_name": "HTMLModel",
            "_view_count": null,
            "_view_module": "@jupyter-widgets/controls",
            "_view_module_version": "1.5.0",
            "_view_name": "HTMLView",
            "description": "",
            "description_tooltip": null,
            "layout": "IPY_MODEL_402c7d69af054177a53772f56c5e0ff9",
            "placeholder": "​",
            "style": "IPY_MODEL_71bb59ada08c432ba468f419b5de9b7f",
            "value": "100%"
          }
        },
        "f73e81bff40849469ada3251469b4abf": {
          "model_module": "@jupyter-widgets/controls",
          "model_name": "FloatProgressModel",
          "model_module_version": "1.5.0",
          "state": {
            "_dom_classes": [],
            "_model_module": "@jupyter-widgets/controls",
            "_model_module_version": "1.5.0",
            "_model_name": "FloatProgressModel",
            "_view_count": null,
            "_view_module": "@jupyter-widgets/controls",
            "_view_module_version": "1.5.0",
            "_view_name": "ProgressView",
            "bar_style": "success",
            "description": "",
            "description_tooltip": null,
            "layout": "IPY_MODEL_98f1120dd9784a46a2a5d572178bb889",
            "max": 112,
            "min": 0,
            "orientation": "horizontal",
            "style": "IPY_MODEL_cdeb824e0a8043c3bfe7105a49899416",
            "value": 112
          }
        },
        "364cb356efcf4ab4ae5d79b02d5753b9": {
          "model_module": "@jupyter-widgets/controls",
          "model_name": "HTMLModel",
          "model_module_version": "1.5.0",
          "state": {
            "_dom_classes": [],
            "_model_module": "@jupyter-widgets/controls",
            "_model_module_version": "1.5.0",
            "_model_name": "HTMLModel",
            "_view_count": null,
            "_view_module": "@jupyter-widgets/controls",
            "_view_module_version": "1.5.0",
            "_view_name": "HTMLView",
            "description": "",
            "description_tooltip": null,
            "layout": "IPY_MODEL_6ccf0818e6c54852976275c9f37143a4",
            "placeholder": "​",
            "style": "IPY_MODEL_f1489a39b1fb412aa8ebe36d85e31592",
            "value": " 112/112 [00:00&lt;00:00, 674.71it/s]"
          }
        },
        "a8d149341b534717821e4b14ac17d107": {
          "model_module": "@jupyter-widgets/base",
          "model_name": "LayoutModel",
          "model_module_version": "1.2.0",
          "state": {
            "_model_module": "@jupyter-widgets/base",
            "_model_module_version": "1.2.0",
            "_model_name": "LayoutModel",
            "_view_count": null,
            "_view_module": "@jupyter-widgets/base",
            "_view_module_version": "1.2.0",
            "_view_name": "LayoutView",
            "align_content": null,
            "align_items": null,
            "align_self": null,
            "border": null,
            "bottom": null,
            "display": null,
            "flex": null,
            "flex_flow": null,
            "grid_area": null,
            "grid_auto_columns": null,
            "grid_auto_flow": null,
            "grid_auto_rows": null,
            "grid_column": null,
            "grid_gap": null,
            "grid_row": null,
            "grid_template_areas": null,
            "grid_template_columns": null,
            "grid_template_rows": null,
            "height": null,
            "justify_content": null,
            "justify_items": null,
            "left": null,
            "margin": null,
            "max_height": null,
            "max_width": null,
            "min_height": null,
            "min_width": null,
            "object_fit": null,
            "object_position": null,
            "order": null,
            "overflow": null,
            "overflow_x": null,
            "overflow_y": null,
            "padding": null,
            "right": null,
            "top": null,
            "visibility": null,
            "width": null
          }
        },
        "402c7d69af054177a53772f56c5e0ff9": {
          "model_module": "@jupyter-widgets/base",
          "model_name": "LayoutModel",
          "model_module_version": "1.2.0",
          "state": {
            "_model_module": "@jupyter-widgets/base",
            "_model_module_version": "1.2.0",
            "_model_name": "LayoutModel",
            "_view_count": null,
            "_view_module": "@jupyter-widgets/base",
            "_view_module_version": "1.2.0",
            "_view_name": "LayoutView",
            "align_content": null,
            "align_items": null,
            "align_self": null,
            "border": null,
            "bottom": null,
            "display": null,
            "flex": null,
            "flex_flow": null,
            "grid_area": null,
            "grid_auto_columns": null,
            "grid_auto_flow": null,
            "grid_auto_rows": null,
            "grid_column": null,
            "grid_gap": null,
            "grid_row": null,
            "grid_template_areas": null,
            "grid_template_columns": null,
            "grid_template_rows": null,
            "height": null,
            "justify_content": null,
            "justify_items": null,
            "left": null,
            "margin": null,
            "max_height": null,
            "max_width": null,
            "min_height": null,
            "min_width": null,
            "object_fit": null,
            "object_position": null,
            "order": null,
            "overflow": null,
            "overflow_x": null,
            "overflow_y": null,
            "padding": null,
            "right": null,
            "top": null,
            "visibility": null,
            "width": null
          }
        },
        "71bb59ada08c432ba468f419b5de9b7f": {
          "model_module": "@jupyter-widgets/controls",
          "model_name": "DescriptionStyleModel",
          "model_module_version": "1.5.0",
          "state": {
            "_model_module": "@jupyter-widgets/controls",
            "_model_module_version": "1.5.0",
            "_model_name": "DescriptionStyleModel",
            "_view_count": null,
            "_view_module": "@jupyter-widgets/base",
            "_view_module_version": "1.2.0",
            "_view_name": "StyleView",
            "description_width": ""
          }
        },
        "98f1120dd9784a46a2a5d572178bb889": {
          "model_module": "@jupyter-widgets/base",
          "model_name": "LayoutModel",
          "model_module_version": "1.2.0",
          "state": {
            "_model_module": "@jupyter-widgets/base",
            "_model_module_version": "1.2.0",
            "_model_name": "LayoutModel",
            "_view_count": null,
            "_view_module": "@jupyter-widgets/base",
            "_view_module_version": "1.2.0",
            "_view_name": "LayoutView",
            "align_content": null,
            "align_items": null,
            "align_self": null,
            "border": null,
            "bottom": null,
            "display": null,
            "flex": null,
            "flex_flow": null,
            "grid_area": null,
            "grid_auto_columns": null,
            "grid_auto_flow": null,
            "grid_auto_rows": null,
            "grid_column": null,
            "grid_gap": null,
            "grid_row": null,
            "grid_template_areas": null,
            "grid_template_columns": null,
            "grid_template_rows": null,
            "height": null,
            "justify_content": null,
            "justify_items": null,
            "left": null,
            "margin": null,
            "max_height": null,
            "max_width": null,
            "min_height": null,
            "min_width": null,
            "object_fit": null,
            "object_position": null,
            "order": null,
            "overflow": null,
            "overflow_x": null,
            "overflow_y": null,
            "padding": null,
            "right": null,
            "top": null,
            "visibility": null,
            "width": null
          }
        },
        "cdeb824e0a8043c3bfe7105a49899416": {
          "model_module": "@jupyter-widgets/controls",
          "model_name": "ProgressStyleModel",
          "model_module_version": "1.5.0",
          "state": {
            "_model_module": "@jupyter-widgets/controls",
            "_model_module_version": "1.5.0",
            "_model_name": "ProgressStyleModel",
            "_view_count": null,
            "_view_module": "@jupyter-widgets/base",
            "_view_module_version": "1.2.0",
            "_view_name": "StyleView",
            "bar_color": null,
            "description_width": ""
          }
        },
        "6ccf0818e6c54852976275c9f37143a4": {
          "model_module": "@jupyter-widgets/base",
          "model_name": "LayoutModel",
          "model_module_version": "1.2.0",
          "state": {
            "_model_module": "@jupyter-widgets/base",
            "_model_module_version": "1.2.0",
            "_model_name": "LayoutModel",
            "_view_count": null,
            "_view_module": "@jupyter-widgets/base",
            "_view_module_version": "1.2.0",
            "_view_name": "LayoutView",
            "align_content": null,
            "align_items": null,
            "align_self": null,
            "border": null,
            "bottom": null,
            "display": null,
            "flex": null,
            "flex_flow": null,
            "grid_area": null,
            "grid_auto_columns": null,
            "grid_auto_flow": null,
            "grid_auto_rows": null,
            "grid_column": null,
            "grid_gap": null,
            "grid_row": null,
            "grid_template_areas": null,
            "grid_template_columns": null,
            "grid_template_rows": null,
            "height": null,
            "justify_content": null,
            "justify_items": null,
            "left": null,
            "margin": null,
            "max_height": null,
            "max_width": null,
            "min_height": null,
            "min_width": null,
            "object_fit": null,
            "object_position": null,
            "order": null,
            "overflow": null,
            "overflow_x": null,
            "overflow_y": null,
            "padding": null,
            "right": null,
            "top": null,
            "visibility": null,
            "width": null
          }
        },
        "f1489a39b1fb412aa8ebe36d85e31592": {
          "model_module": "@jupyter-widgets/controls",
          "model_name": "DescriptionStyleModel",
          "model_module_version": "1.5.0",
          "state": {
            "_model_module": "@jupyter-widgets/controls",
            "_model_module_version": "1.5.0",
            "_model_name": "DescriptionStyleModel",
            "_view_count": null,
            "_view_module": "@jupyter-widgets/base",
            "_view_module_version": "1.2.0",
            "_view_name": "StyleView",
            "description_width": ""
          }
        },
        "83008fe7dbe84ebfbd8c7672881bb3f4": {
          "model_module": "@jupyter-widgets/controls",
          "model_name": "HBoxModel",
          "model_module_version": "1.5.0",
          "state": {
            "_dom_classes": [],
            "_model_module": "@jupyter-widgets/controls",
            "_model_module_version": "1.5.0",
            "_model_name": "HBoxModel",
            "_view_count": null,
            "_view_module": "@jupyter-widgets/controls",
            "_view_module_version": "1.5.0",
            "_view_name": "HBoxView",
            "box_style": "",
            "children": [
              "IPY_MODEL_9b04584f4d53431aa654905c8aae5600",
              "IPY_MODEL_faad3ca0f31c46a8bfd340e632578903",
              "IPY_MODEL_42b3784796d04ae7bd3bfcf44275e7af"
            ],
            "layout": "IPY_MODEL_50e5bdf8522f4a1b94eaae21441b5f13"
          }
        },
        "9b04584f4d53431aa654905c8aae5600": {
          "model_module": "@jupyter-widgets/controls",
          "model_name": "HTMLModel",
          "model_module_version": "1.5.0",
          "state": {
            "_dom_classes": [],
            "_model_module": "@jupyter-widgets/controls",
            "_model_module_version": "1.5.0",
            "_model_name": "HTMLModel",
            "_view_count": null,
            "_view_module": "@jupyter-widgets/controls",
            "_view_module_version": "1.5.0",
            "_view_name": "HTMLView",
            "description": "",
            "description_tooltip": null,
            "layout": "IPY_MODEL_f71fd1649d2947f3a9a80f933c32bd13",
            "placeholder": "​",
            "style": "IPY_MODEL_efa09622e0e5494693470c8a575b6a93",
            "value": "100%"
          }
        },
        "faad3ca0f31c46a8bfd340e632578903": {
          "model_module": "@jupyter-widgets/controls",
          "model_name": "FloatProgressModel",
          "model_module_version": "1.5.0",
          "state": {
            "_dom_classes": [],
            "_model_module": "@jupyter-widgets/controls",
            "_model_module_version": "1.5.0",
            "_model_name": "FloatProgressModel",
            "_view_count": null,
            "_view_module": "@jupyter-widgets/controls",
            "_view_module_version": "1.5.0",
            "_view_name": "ProgressView",
            "bar_style": "success",
            "description": "",
            "description_tooltip": null,
            "layout": "IPY_MODEL_726e5d2dd0ad4621bc1af05eb79cf61e",
            "max": 107,
            "min": 0,
            "orientation": "horizontal",
            "style": "IPY_MODEL_1d027b5a483941bdacfac99a5a71aa2f",
            "value": 107
          }
        },
        "42b3784796d04ae7bd3bfcf44275e7af": {
          "model_module": "@jupyter-widgets/controls",
          "model_name": "HTMLModel",
          "model_module_version": "1.5.0",
          "state": {
            "_dom_classes": [],
            "_model_module": "@jupyter-widgets/controls",
            "_model_module_version": "1.5.0",
            "_model_name": "HTMLModel",
            "_view_count": null,
            "_view_module": "@jupyter-widgets/controls",
            "_view_module_version": "1.5.0",
            "_view_name": "HTMLView",
            "description": "",
            "description_tooltip": null,
            "layout": "IPY_MODEL_fd65a41c0e984c23a83a26676d18ac6a",
            "placeholder": "​",
            "style": "IPY_MODEL_5b3f1830f7804c9eb1fef025eed8a956",
            "value": " 107/107 [00:00&lt;00:00, 2369.94it/s]"
          }
        },
        "50e5bdf8522f4a1b94eaae21441b5f13": {
          "model_module": "@jupyter-widgets/base",
          "model_name": "LayoutModel",
          "model_module_version": "1.2.0",
          "state": {
            "_model_module": "@jupyter-widgets/base",
            "_model_module_version": "1.2.0",
            "_model_name": "LayoutModel",
            "_view_count": null,
            "_view_module": "@jupyter-widgets/base",
            "_view_module_version": "1.2.0",
            "_view_name": "LayoutView",
            "align_content": null,
            "align_items": null,
            "align_self": null,
            "border": null,
            "bottom": null,
            "display": null,
            "flex": null,
            "flex_flow": null,
            "grid_area": null,
            "grid_auto_columns": null,
            "grid_auto_flow": null,
            "grid_auto_rows": null,
            "grid_column": null,
            "grid_gap": null,
            "grid_row": null,
            "grid_template_areas": null,
            "grid_template_columns": null,
            "grid_template_rows": null,
            "height": null,
            "justify_content": null,
            "justify_items": null,
            "left": null,
            "margin": null,
            "max_height": null,
            "max_width": null,
            "min_height": null,
            "min_width": null,
            "object_fit": null,
            "object_position": null,
            "order": null,
            "overflow": null,
            "overflow_x": null,
            "overflow_y": null,
            "padding": null,
            "right": null,
            "top": null,
            "visibility": null,
            "width": null
          }
        },
        "f71fd1649d2947f3a9a80f933c32bd13": {
          "model_module": "@jupyter-widgets/base",
          "model_name": "LayoutModel",
          "model_module_version": "1.2.0",
          "state": {
            "_model_module": "@jupyter-widgets/base",
            "_model_module_version": "1.2.0",
            "_model_name": "LayoutModel",
            "_view_count": null,
            "_view_module": "@jupyter-widgets/base",
            "_view_module_version": "1.2.0",
            "_view_name": "LayoutView",
            "align_content": null,
            "align_items": null,
            "align_self": null,
            "border": null,
            "bottom": null,
            "display": null,
            "flex": null,
            "flex_flow": null,
            "grid_area": null,
            "grid_auto_columns": null,
            "grid_auto_flow": null,
            "grid_auto_rows": null,
            "grid_column": null,
            "grid_gap": null,
            "grid_row": null,
            "grid_template_areas": null,
            "grid_template_columns": null,
            "grid_template_rows": null,
            "height": null,
            "justify_content": null,
            "justify_items": null,
            "left": null,
            "margin": null,
            "max_height": null,
            "max_width": null,
            "min_height": null,
            "min_width": null,
            "object_fit": null,
            "object_position": null,
            "order": null,
            "overflow": null,
            "overflow_x": null,
            "overflow_y": null,
            "padding": null,
            "right": null,
            "top": null,
            "visibility": null,
            "width": null
          }
        },
        "efa09622e0e5494693470c8a575b6a93": {
          "model_module": "@jupyter-widgets/controls",
          "model_name": "DescriptionStyleModel",
          "model_module_version": "1.5.0",
          "state": {
            "_model_module": "@jupyter-widgets/controls",
            "_model_module_version": "1.5.0",
            "_model_name": "DescriptionStyleModel",
            "_view_count": null,
            "_view_module": "@jupyter-widgets/base",
            "_view_module_version": "1.2.0",
            "_view_name": "StyleView",
            "description_width": ""
          }
        },
        "726e5d2dd0ad4621bc1af05eb79cf61e": {
          "model_module": "@jupyter-widgets/base",
          "model_name": "LayoutModel",
          "model_module_version": "1.2.0",
          "state": {
            "_model_module": "@jupyter-widgets/base",
            "_model_module_version": "1.2.0",
            "_model_name": "LayoutModel",
            "_view_count": null,
            "_view_module": "@jupyter-widgets/base",
            "_view_module_version": "1.2.0",
            "_view_name": "LayoutView",
            "align_content": null,
            "align_items": null,
            "align_self": null,
            "border": null,
            "bottom": null,
            "display": null,
            "flex": null,
            "flex_flow": null,
            "grid_area": null,
            "grid_auto_columns": null,
            "grid_auto_flow": null,
            "grid_auto_rows": null,
            "grid_column": null,
            "grid_gap": null,
            "grid_row": null,
            "grid_template_areas": null,
            "grid_template_columns": null,
            "grid_template_rows": null,
            "height": null,
            "justify_content": null,
            "justify_items": null,
            "left": null,
            "margin": null,
            "max_height": null,
            "max_width": null,
            "min_height": null,
            "min_width": null,
            "object_fit": null,
            "object_position": null,
            "order": null,
            "overflow": null,
            "overflow_x": null,
            "overflow_y": null,
            "padding": null,
            "right": null,
            "top": null,
            "visibility": null,
            "width": null
          }
        },
        "1d027b5a483941bdacfac99a5a71aa2f": {
          "model_module": "@jupyter-widgets/controls",
          "model_name": "ProgressStyleModel",
          "model_module_version": "1.5.0",
          "state": {
            "_model_module": "@jupyter-widgets/controls",
            "_model_module_version": "1.5.0",
            "_model_name": "ProgressStyleModel",
            "_view_count": null,
            "_view_module": "@jupyter-widgets/base",
            "_view_module_version": "1.2.0",
            "_view_name": "StyleView",
            "bar_color": null,
            "description_width": ""
          }
        },
        "fd65a41c0e984c23a83a26676d18ac6a": {
          "model_module": "@jupyter-widgets/base",
          "model_name": "LayoutModel",
          "model_module_version": "1.2.0",
          "state": {
            "_model_module": "@jupyter-widgets/base",
            "_model_module_version": "1.2.0",
            "_model_name": "LayoutModel",
            "_view_count": null,
            "_view_module": "@jupyter-widgets/base",
            "_view_module_version": "1.2.0",
            "_view_name": "LayoutView",
            "align_content": null,
            "align_items": null,
            "align_self": null,
            "border": null,
            "bottom": null,
            "display": null,
            "flex": null,
            "flex_flow": null,
            "grid_area": null,
            "grid_auto_columns": null,
            "grid_auto_flow": null,
            "grid_auto_rows": null,
            "grid_column": null,
            "grid_gap": null,
            "grid_row": null,
            "grid_template_areas": null,
            "grid_template_columns": null,
            "grid_template_rows": null,
            "height": null,
            "justify_content": null,
            "justify_items": null,
            "left": null,
            "margin": null,
            "max_height": null,
            "max_width": null,
            "min_height": null,
            "min_width": null,
            "object_fit": null,
            "object_position": null,
            "order": null,
            "overflow": null,
            "overflow_x": null,
            "overflow_y": null,
            "padding": null,
            "right": null,
            "top": null,
            "visibility": null,
            "width": null
          }
        },
        "5b3f1830f7804c9eb1fef025eed8a956": {
          "model_module": "@jupyter-widgets/controls",
          "model_name": "DescriptionStyleModel",
          "model_module_version": "1.5.0",
          "state": {
            "_model_module": "@jupyter-widgets/controls",
            "_model_module_version": "1.5.0",
            "_model_name": "DescriptionStyleModel",
            "_view_count": null,
            "_view_module": "@jupyter-widgets/base",
            "_view_module_version": "1.2.0",
            "_view_name": "StyleView",
            "description_width": ""
          }
        },
        "6a84fedb775f41839172b39434085310": {
          "model_module": "@jupyter-widgets/controls",
          "model_name": "HBoxModel",
          "model_module_version": "1.5.0",
          "state": {
            "_dom_classes": [],
            "_model_module": "@jupyter-widgets/controls",
            "_model_module_version": "1.5.0",
            "_model_name": "HBoxModel",
            "_view_count": null,
            "_view_module": "@jupyter-widgets/controls",
            "_view_module_version": "1.5.0",
            "_view_name": "HBoxView",
            "box_style": "",
            "children": [
              "IPY_MODEL_66cb9f20c5214de29682d75dfde67634",
              "IPY_MODEL_16f0cd75d38642f8a5c944cfbc7c0b40",
              "IPY_MODEL_553c6b046b864d4c81d1179916f1686d"
            ],
            "layout": "IPY_MODEL_7b0d7d9e972d46c2ad9ef254aaed6d01"
          }
        },
        "66cb9f20c5214de29682d75dfde67634": {
          "model_module": "@jupyter-widgets/controls",
          "model_name": "HTMLModel",
          "model_module_version": "1.5.0",
          "state": {
            "_dom_classes": [],
            "_model_module": "@jupyter-widgets/controls",
            "_model_module_version": "1.5.0",
            "_model_name": "HTMLModel",
            "_view_count": null,
            "_view_module": "@jupyter-widgets/controls",
            "_view_module_version": "1.5.0",
            "_view_name": "HTMLView",
            "description": "",
            "description_tooltip": null,
            "layout": "IPY_MODEL_b3217d9534394089870f12947a015da1",
            "placeholder": "​",
            "style": "IPY_MODEL_0a4d813023ff46a187f11dac05032868",
            "value": "100%"
          }
        },
        "16f0cd75d38642f8a5c944cfbc7c0b40": {
          "model_module": "@jupyter-widgets/controls",
          "model_name": "FloatProgressModel",
          "model_module_version": "1.5.0",
          "state": {
            "_dom_classes": [],
            "_model_module": "@jupyter-widgets/controls",
            "_model_module_version": "1.5.0",
            "_model_name": "FloatProgressModel",
            "_view_count": null,
            "_view_module": "@jupyter-widgets/controls",
            "_view_module_version": "1.5.0",
            "_view_name": "ProgressView",
            "bar_style": "success",
            "description": "",
            "description_tooltip": null,
            "layout": "IPY_MODEL_f6a1bdbe361048249ca1798eb621ad28",
            "max": 142,
            "min": 0,
            "orientation": "horizontal",
            "style": "IPY_MODEL_f140aa16d63544d4b0c97252480be495",
            "value": 142
          }
        },
        "553c6b046b864d4c81d1179916f1686d": {
          "model_module": "@jupyter-widgets/controls",
          "model_name": "HTMLModel",
          "model_module_version": "1.5.0",
          "state": {
            "_dom_classes": [],
            "_model_module": "@jupyter-widgets/controls",
            "_model_module_version": "1.5.0",
            "_model_name": "HTMLModel",
            "_view_count": null,
            "_view_module": "@jupyter-widgets/controls",
            "_view_module_version": "1.5.0",
            "_view_name": "HTMLView",
            "description": "",
            "description_tooltip": null,
            "layout": "IPY_MODEL_6763fa38050c4ee19143028b2849acbf",
            "placeholder": "​",
            "style": "IPY_MODEL_a89589877cf34e5aa735d156c1329c3a",
            "value": " 142/142 [00:00&lt;00:00, 1670.50it/s]"
          }
        },
        "7b0d7d9e972d46c2ad9ef254aaed6d01": {
          "model_module": "@jupyter-widgets/base",
          "model_name": "LayoutModel",
          "model_module_version": "1.2.0",
          "state": {
            "_model_module": "@jupyter-widgets/base",
            "_model_module_version": "1.2.0",
            "_model_name": "LayoutModel",
            "_view_count": null,
            "_view_module": "@jupyter-widgets/base",
            "_view_module_version": "1.2.0",
            "_view_name": "LayoutView",
            "align_content": null,
            "align_items": null,
            "align_self": null,
            "border": null,
            "bottom": null,
            "display": null,
            "flex": null,
            "flex_flow": null,
            "grid_area": null,
            "grid_auto_columns": null,
            "grid_auto_flow": null,
            "grid_auto_rows": null,
            "grid_column": null,
            "grid_gap": null,
            "grid_row": null,
            "grid_template_areas": null,
            "grid_template_columns": null,
            "grid_template_rows": null,
            "height": null,
            "justify_content": null,
            "justify_items": null,
            "left": null,
            "margin": null,
            "max_height": null,
            "max_width": null,
            "min_height": null,
            "min_width": null,
            "object_fit": null,
            "object_position": null,
            "order": null,
            "overflow": null,
            "overflow_x": null,
            "overflow_y": null,
            "padding": null,
            "right": null,
            "top": null,
            "visibility": null,
            "width": null
          }
        },
        "b3217d9534394089870f12947a015da1": {
          "model_module": "@jupyter-widgets/base",
          "model_name": "LayoutModel",
          "model_module_version": "1.2.0",
          "state": {
            "_model_module": "@jupyter-widgets/base",
            "_model_module_version": "1.2.0",
            "_model_name": "LayoutModel",
            "_view_count": null,
            "_view_module": "@jupyter-widgets/base",
            "_view_module_version": "1.2.0",
            "_view_name": "LayoutView",
            "align_content": null,
            "align_items": null,
            "align_self": null,
            "border": null,
            "bottom": null,
            "display": null,
            "flex": null,
            "flex_flow": null,
            "grid_area": null,
            "grid_auto_columns": null,
            "grid_auto_flow": null,
            "grid_auto_rows": null,
            "grid_column": null,
            "grid_gap": null,
            "grid_row": null,
            "grid_template_areas": null,
            "grid_template_columns": null,
            "grid_template_rows": null,
            "height": null,
            "justify_content": null,
            "justify_items": null,
            "left": null,
            "margin": null,
            "max_height": null,
            "max_width": null,
            "min_height": null,
            "min_width": null,
            "object_fit": null,
            "object_position": null,
            "order": null,
            "overflow": null,
            "overflow_x": null,
            "overflow_y": null,
            "padding": null,
            "right": null,
            "top": null,
            "visibility": null,
            "width": null
          }
        },
        "0a4d813023ff46a187f11dac05032868": {
          "model_module": "@jupyter-widgets/controls",
          "model_name": "DescriptionStyleModel",
          "model_module_version": "1.5.0",
          "state": {
            "_model_module": "@jupyter-widgets/controls",
            "_model_module_version": "1.5.0",
            "_model_name": "DescriptionStyleModel",
            "_view_count": null,
            "_view_module": "@jupyter-widgets/base",
            "_view_module_version": "1.2.0",
            "_view_name": "StyleView",
            "description_width": ""
          }
        },
        "f6a1bdbe361048249ca1798eb621ad28": {
          "model_module": "@jupyter-widgets/base",
          "model_name": "LayoutModel",
          "model_module_version": "1.2.0",
          "state": {
            "_model_module": "@jupyter-widgets/base",
            "_model_module_version": "1.2.0",
            "_model_name": "LayoutModel",
            "_view_count": null,
            "_view_module": "@jupyter-widgets/base",
            "_view_module_version": "1.2.0",
            "_view_name": "LayoutView",
            "align_content": null,
            "align_items": null,
            "align_self": null,
            "border": null,
            "bottom": null,
            "display": null,
            "flex": null,
            "flex_flow": null,
            "grid_area": null,
            "grid_auto_columns": null,
            "grid_auto_flow": null,
            "grid_auto_rows": null,
            "grid_column": null,
            "grid_gap": null,
            "grid_row": null,
            "grid_template_areas": null,
            "grid_template_columns": null,
            "grid_template_rows": null,
            "height": null,
            "justify_content": null,
            "justify_items": null,
            "left": null,
            "margin": null,
            "max_height": null,
            "max_width": null,
            "min_height": null,
            "min_width": null,
            "object_fit": null,
            "object_position": null,
            "order": null,
            "overflow": null,
            "overflow_x": null,
            "overflow_y": null,
            "padding": null,
            "right": null,
            "top": null,
            "visibility": null,
            "width": null
          }
        },
        "f140aa16d63544d4b0c97252480be495": {
          "model_module": "@jupyter-widgets/controls",
          "model_name": "ProgressStyleModel",
          "model_module_version": "1.5.0",
          "state": {
            "_model_module": "@jupyter-widgets/controls",
            "_model_module_version": "1.5.0",
            "_model_name": "ProgressStyleModel",
            "_view_count": null,
            "_view_module": "@jupyter-widgets/base",
            "_view_module_version": "1.2.0",
            "_view_name": "StyleView",
            "bar_color": null,
            "description_width": ""
          }
        },
        "6763fa38050c4ee19143028b2849acbf": {
          "model_module": "@jupyter-widgets/base",
          "model_name": "LayoutModel",
          "model_module_version": "1.2.0",
          "state": {
            "_model_module": "@jupyter-widgets/base",
            "_model_module_version": "1.2.0",
            "_model_name": "LayoutModel",
            "_view_count": null,
            "_view_module": "@jupyter-widgets/base",
            "_view_module_version": "1.2.0",
            "_view_name": "LayoutView",
            "align_content": null,
            "align_items": null,
            "align_self": null,
            "border": null,
            "bottom": null,
            "display": null,
            "flex": null,
            "flex_flow": null,
            "grid_area": null,
            "grid_auto_columns": null,
            "grid_auto_flow": null,
            "grid_auto_rows": null,
            "grid_column": null,
            "grid_gap": null,
            "grid_row": null,
            "grid_template_areas": null,
            "grid_template_columns": null,
            "grid_template_rows": null,
            "height": null,
            "justify_content": null,
            "justify_items": null,
            "left": null,
            "margin": null,
            "max_height": null,
            "max_width": null,
            "min_height": null,
            "min_width": null,
            "object_fit": null,
            "object_position": null,
            "order": null,
            "overflow": null,
            "overflow_x": null,
            "overflow_y": null,
            "padding": null,
            "right": null,
            "top": null,
            "visibility": null,
            "width": null
          }
        },
        "a89589877cf34e5aa735d156c1329c3a": {
          "model_module": "@jupyter-widgets/controls",
          "model_name": "DescriptionStyleModel",
          "model_module_version": "1.5.0",
          "state": {
            "_model_module": "@jupyter-widgets/controls",
            "_model_module_version": "1.5.0",
            "_model_name": "DescriptionStyleModel",
            "_view_count": null,
            "_view_module": "@jupyter-widgets/base",
            "_view_module_version": "1.2.0",
            "_view_name": "StyleView",
            "description_width": ""
          }
        }
      }
    }
  },
  "cells": [
    {
      "cell_type": "markdown",
      "metadata": {
        "id": "view-in-github",
        "colab_type": "text"
      },
      "source": [
        "<a href=\"https://colab.research.google.com/github/sreehari59/Polar-Embedding/blob/main/Glove_Wiki_Polar_Embedding_For_Business_Entities.ipynb\" target=\"_parent\"><img src=\"https://colab.research.google.com/assets/colab-badge.svg\" alt=\"Open In Colab\"/></a>"
      ]
    },
    {
      "cell_type": "code",
      "execution_count": 282,
      "metadata": {
        "colab": {
          "base_uri": "https://localhost:8080/"
        },
        "id": "AlIbX2ph43Pc",
        "outputId": "cf0eb59a-921b-4839-932d-9ca9de14e622"
      },
      "outputs": [
        {
          "output_type": "stream",
          "name": "stdout",
          "text": [
            "--2022-04-21 20:16:08--  https://nlp.stanford.edu/data/glove.6B.zip\n",
            "Resolving nlp.stanford.edu (nlp.stanford.edu)... 171.64.67.140\n",
            "Connecting to nlp.stanford.edu (nlp.stanford.edu)|171.64.67.140|:443... connected.\n",
            "HTTP request sent, awaiting response... 301 Moved Permanently\n",
            "Location: http://downloads.cs.stanford.edu/nlp/data/glove.6B.zip [following]\n",
            "--2022-04-21 20:16:08--  http://downloads.cs.stanford.edu/nlp/data/glove.6B.zip\n",
            "Resolving downloads.cs.stanford.edu (downloads.cs.stanford.edu)... 171.64.64.22\n",
            "Connecting to downloads.cs.stanford.edu (downloads.cs.stanford.edu)|171.64.64.22|:80... connected.\n",
            "HTTP request sent, awaiting response... 200 OK\n",
            "Length: 862182613 (822M) [application/zip]\n",
            "Saving to: ‘glove.6B.zip.1’\n",
            "\n",
            "glove.6B.zip.1      100%[===================>] 822.24M  5.07MB/s    in 2m 40s  \n",
            "\n",
            "2022-04-21 20:18:49 (5.13 MB/s) - ‘glove.6B.zip.1’ saved [862182613/862182613]\n",
            "\n",
            "Archive:  glove.6B.zip\n",
            "replace glove.6B.50d.txt? [y]es, [n]o, [A]ll, [N]one, [r]ename: No\n",
            "time: 8min 5s (started: 2022-04-21 20:16:08 +00:00)\n"
          ]
        }
      ],
      "source": [
        "!wget https://nlp.stanford.edu/data/glove.6B.zip\n",
        "!unzip glove*.zip # When it is unzipped you can see the different set of dimension it can have that is 25d, 50d, 100d or 200d\n"
      ]
    },
    {
      "cell_type": "code",
      "source": [
        "import gensim\n",
        "from numpy import linalg\n",
        "import numpy as np\n",
        "from sklearn.metrics.pairwise import cosine_similarity\n",
        "from tqdm import tqdm_notebook as tqdm\n",
        "import time\n",
        "from random import shuffle\n",
        "import sys\n",
        "import nltk \n",
        "from nltk.corpus import wordnet \n",
        "import gc\n",
        "from collections import defaultdict\n",
        "import random\n",
        "import json\n",
        "import os\n",
        "\n",
        "from gensim.scripts.glove2word2vec import glove2word2vec\n",
        "from gensim.test.utils import datapath, get_tmpfile\n",
        "\n",
        "from gensim.test.utils import datapath\n",
        "\n",
        "!pip install ipython-autotime\n",
        "%load_ext autotime"
      ],
      "metadata": {
        "colab": {
          "base_uri": "https://localhost:8080/"
        },
        "id": "XgQ0omdy7A_M",
        "outputId": "e2a80adf-7a86-4f4b-d56f-4944c8d5c6c2"
      },
      "execution_count": 283,
      "outputs": [
        {
          "output_type": "stream",
          "name": "stdout",
          "text": [
            "Requirement already satisfied: ipython-autotime in /usr/local/lib/python3.7/dist-packages (0.3.1)\n",
            "Requirement already satisfied: ipython in /usr/local/lib/python3.7/dist-packages (from ipython-autotime) (5.5.0)\n",
            "Requirement already satisfied: simplegeneric>0.8 in /usr/local/lib/python3.7/dist-packages (from ipython->ipython-autotime) (0.8.1)\n",
            "Requirement already satisfied: decorator in /usr/local/lib/python3.7/dist-packages (from ipython->ipython-autotime) (4.4.2)\n",
            "Requirement already satisfied: setuptools>=18.5 in /usr/local/lib/python3.7/dist-packages (from ipython->ipython-autotime) (57.4.0)\n",
            "Requirement already satisfied: pygments in /usr/local/lib/python3.7/dist-packages (from ipython->ipython-autotime) (2.6.1)\n",
            "Requirement already satisfied: prompt-toolkit<2.0.0,>=1.0.4 in /usr/local/lib/python3.7/dist-packages (from ipython->ipython-autotime) (1.0.18)\n",
            "Requirement already satisfied: pexpect in /usr/local/lib/python3.7/dist-packages (from ipython->ipython-autotime) (4.8.0)\n",
            "Requirement already satisfied: traitlets>=4.2 in /usr/local/lib/python3.7/dist-packages (from ipython->ipython-autotime) (5.1.1)\n",
            "Requirement already satisfied: pickleshare in /usr/local/lib/python3.7/dist-packages (from ipython->ipython-autotime) (0.7.5)\n",
            "Requirement already satisfied: six>=1.9.0 in /usr/local/lib/python3.7/dist-packages (from prompt-toolkit<2.0.0,>=1.0.4->ipython->ipython-autotime) (1.15.0)\n",
            "Requirement already satisfied: wcwidth in /usr/local/lib/python3.7/dist-packages (from prompt-toolkit<2.0.0,>=1.0.4->ipython->ipython-autotime) (0.2.5)\n",
            "Requirement already satisfied: ptyprocess>=0.5 in /usr/local/lib/python3.7/dist-packages (from pexpect->ipython->ipython-autotime) (0.7.0)\n",
            "The autotime extension is already loaded. To reload it, use:\n",
            "  %reload_ext autotime\n",
            "time: 4.95 s (started: 2022-04-21 20:24:19 +00:00)\n"
          ]
        }
      ]
    },
    {
      "cell_type": "code",
      "source": [
        "model_glove = glove2word2vec('glove.6B.300d.txt','gensim_glove.6B.300d.txt') "
      ],
      "metadata": {
        "colab": {
          "base_uri": "https://localhost:8080/"
        },
        "id": "VYhrweQ-7J7u",
        "outputId": "1886150e-140a-447f-8f79-a7a97e4bbbdf"
      },
      "execution_count": 284,
      "outputs": [
        {
          "output_type": "stream",
          "name": "stdout",
          "text": [
            "time: 23.5 s (started: 2022-04-21 20:24:28 +00:00)\n"
          ]
        }
      ]
    },
    {
      "cell_type": "code",
      "source": [
        "model_glove = gensim.models.KeyedVectors.load_word2vec_format(\"gensim_glove.6B.300d.txt\", binary=False)"
      ],
      "metadata": {
        "colab": {
          "base_uri": "https://localhost:8080/"
        },
        "id": "A-p89Vin7W-E",
        "outputId": "35d3fe65-63b0-42ac-996c-c97f6d1a421b"
      },
      "execution_count": 285,
      "outputs": [
        {
          "output_type": "stream",
          "name": "stdout",
          "text": [
            "time: 1min 13s (started: 2022-04-21 20:27:05 +00:00)\n"
          ]
        }
      ]
    },
    {
      "cell_type": "code",
      "source": [
        "def generate_norm_embedding(model, output_path):\n",
        "    temp_file = open(output_path,'wb')\n",
        "    temp_file.write(str.encode(str(len(model.vocab))+' '+str(model.vector_size)+'\\n'))\n",
        "    \n",
        "    for each_word in tqdm(model.vocab):\n",
        "        temp_file.write(str.encode(each_word+' '))\n",
        "        temp_file.write(model[each_word]/linalg.norm(model[each_word]))\n",
        "        temp_file.write(str.encode('\\n'))\n",
        "    \n",
        "    temp_file.close()"
      ],
      "metadata": {
        "colab": {
          "base_uri": "https://localhost:8080/"
        },
        "id": "shh9yRZ67dVN",
        "outputId": "eff3ed13-bfad-49a6-d359-1ca0b7e2ea4f"
      },
      "execution_count": 5,
      "outputs": [
        {
          "output_type": "stream",
          "name": "stdout",
          "text": [
            "time: 5.18 ms (started: 2022-04-21 15:02:21 +00:00)\n"
          ]
        }
      ]
    },
    {
      "cell_type": "code",
      "source": [
        "generate_norm_embedding(model_glove,'glove_norm_wiki.mod')"
      ],
      "metadata": {
        "colab": {
          "base_uri": "https://localhost:8080/",
          "height": 118,
          "referenced_widgets": [
            "0d075f255a14482d8a98e734b45e33bd",
            "51475ce9f1a041e8a3027dfea06b6de5",
            "55d3fe0b65ba4ae3a6a0747c3693c46f",
            "3b625fe8e46d4c90bb4d4b43fc382a0f",
            "d90957db4bc04b8b96164659e3beb93d",
            "a9799876eb5148789891817f84bba87c",
            "f9edd646c37f40a1b521e4f811efb58c",
            "0c1c2af3475e456897d37d4237ba376f",
            "5b0a4e37d6504e86af1a1647464501d7",
            "f37f3d470c2d416c954be07ff3acd37e",
            "f55e9a4cc4f64195b8d526d0f1afe45f"
          ]
        },
        "id": "00TaDqq_7eEc",
        "outputId": "f144171d-aa86-4272-e882-252bdb1688a4"
      },
      "execution_count": 6,
      "outputs": [
        {
          "output_type": "stream",
          "name": "stderr",
          "text": [
            "/usr/local/lib/python3.7/dist-packages/ipykernel_launcher.py:5: TqdmDeprecationWarning: This function will be removed in tqdm==5.0.0\n",
            "Please use `tqdm.notebook.tqdm` instead of `tqdm.tqdm_notebook`\n",
            "  \"\"\"\n"
          ]
        },
        {
          "output_type": "display_data",
          "data": {
            "text/plain": [
              "  0%|          | 0/400000 [00:00<?, ?it/s]"
            ],
            "application/vnd.jupyter.widget-view+json": {
              "version_major": 2,
              "version_minor": 0,
              "model_id": "0d075f255a14482d8a98e734b45e33bd"
            }
          },
          "metadata": {}
        },
        {
          "output_type": "stream",
          "name": "stdout",
          "text": [
            "time: 7.97 s (started: 2022-04-21 15:02:25 +00:00)\n"
          ]
        }
      ]
    },
    {
      "cell_type": "code",
      "source": [
        "model_gn = gensim.models.KeyedVectors.load_word2vec_format('glove_norm_wiki.mod',binary=True) # ss"
      ],
      "metadata": {
        "colab": {
          "base_uri": "https://localhost:8080/"
        },
        "id": "L6OQI1MY7h-k",
        "outputId": "f5229d3f-0626-44d7-c4d3-cded74e78434"
      },
      "execution_count": 7,
      "outputs": [
        {
          "output_type": "stream",
          "name": "stdout",
          "text": [
            "time: 5.79 s (started: 2022-04-21 15:02:35 +00:00)\n"
          ]
        }
      ]
    },
    {
      "cell_type": "code",
      "source": [
        "current_model = model_gn "
      ],
      "metadata": {
        "colab": {
          "base_uri": "https://localhost:8080/"
        },
        "id": "dzhm4P6N7jnl",
        "outputId": "7c54db9d-0c38-4bdf-fe1b-06651357620c"
      },
      "execution_count": 78,
      "outputs": [
        {
          "output_type": "stream",
          "name": "stdout",
          "text": [
            "time: 1.36 ms (started: 2022-04-21 15:47:54 +00:00)\n"
          ]
        }
      ]
    },
    {
      "cell_type": "code",
      "source": [
        "list_new= [('product', 'service'),\n",
        "('essential', 'luxury'),\n",
        "('technical', 'natural'),\n",
        "('renewable', 'nonrenewable'),\n",
        "('advertising', 'rumour'), \n",
        "('lease', 'sell'), \n",
        "('tangible', 'intangible'), \n",
        "('demand', 'supply'),\n",
        "('child', 'childless'),\n",
        "('remote', 'physical'),\n",
        "('salary', 'goodies'),\n",
        "('store', 'online'),\n",
        "('details', 'outlines'),\n",
        "('stakeholders', 'spectators'),\n",
        "('isolating', 'social'),\n",
        "('goal', 'task'),\n",
        "('employees', 'consultant'),\n",
        "('cost', 'revenue'),\n",
        "('seasonal', 'temporary'),\n",
        "('alliance', 'proprietorship'),\n",
        "('loss', 'profit'),\n",
        "('integrity', 'corruption'),\n",
        "('international', 'local'),\n",
        "('corporate', 'individual'),\n",
        "('order', 'disorder'),\n",
        "('solution', 'problem'),\n",
        "('manager', 'worker'),\n",
        "('diversity', 'uniformity'),\n",
        "('public', 'private'),\n",
        "('strategic', 'impulsive'),\n",
        "('innovator', 'follower'),\n",
        "('bankruptcy', 'prosperity'),\n",
        "('growth', 'decline'),\n",
        "('sustainable', 'unsustainable'),\n",
        "('family', 'work'),\n",
        "('criminal', 'rightful'),\n",
        "('financial', 'artisanal'),\n",
        "('supplier', 'purchaser'),\n",
        "('commitment', 'rejection'),\n",
        "('professional', 'amateur'),\n",
        "('independent', 'dependent'),\n",
        "('digital', 'analogue'),\n",
        "('marketing', 'secret'),\n",
        "('secure', 'risky'),\n",
        "('longterm', 'shortterm'), \n",
        "('responsible', 'neglect'), \n",
        "('ethical', 'unethical'), \n",
        "('beneficial', 'harmful'), \n",
        "('diversity', 'uniformity'), \n",
        "('trust', 'mistrust'), \n",
        "('teamwork', 'individualism'), \n",
        "('opportunity', 'threat'), \n",
        "('innovative', 'traditional'), \n",
        "('flexible', 'rigid'), \n",
        "('ambiguity', 'clarity'), \n",
        "('feminine', 'masculine'), \n",
        "('globally', 'locally'), \n",
        "('insiders', 'outsiders'), \n",
        "('foreigners', 'natives'), \n",
        "('minorities', 'majority'),\n",
        "('transparency', 'obscurity'),\n",
        "('discrimination', 'impartial'),\n",
        "('credible', 'deceptive'),\n",
        "('environment', 'pollution'),\n",
        "('pressure', 'relax'),\n",
        "('growth', 'decline'),\n",
        "('satisfied', 'unsatisfied'),\n",
        "('diplomatic', 'undiplomatic'),\n",
        "('motivate', 'demotivate'),\n",
        "('communicative', 'uncommunicative'),\n",
        "('connected', 'disconnected'),\n",
        "('autonomous', 'micromanagement'),\n",
        "('nurture', 'neglect'),\n",
        "('progressive', 'conservative'),\n",
        "('rewarding', 'unrewarding'),\n",
        "('bias', 'unbias'),\n",
        "('challenge', 'obscurity'),\n",
        "('collaborated', 'siloed'),\n",
        "('outdated', 'modern'),\n",
        "('effortless', 'demanding'),\n",
        "('economic', 'overpriced'),\n",
        "('widespread', 'local'),\n",
        "('freedom', 'captive'),\n",
        "('consistent', 'inconsistent'),\n",
        "('success', 'failure'),\n",
        "('hardware', 'software'),\n",
        "('loyalty', 'fraud'), \n",
        "('strong', 'weak'), \n",
        "('expensive', 'affordable'),\n",
        "('technology', 'retail'),\n",
        "('outsourcing', 'insourcing'),\n",
        "('sustainable', 'unsustainable'),\n",
        "('telemarketing', 'digiatalmarketing'),\n",
        "('outsourcing', 'insourcing'),\n",
        "('leaders', 'challengers'),\n",
        "('responsible', 'irresponsible'),\n",
        "('active', 'inactive'),\n",
        "('modern', 'ancient'),\n",
        "('imitation', 'genuine'),\n",
        "('frequent', 'seldom'),\n",
        "('sales', 'revenue'),\n",
        "('investor', 'borrower'),\n",
        "('quality', 'quantity'),\n",
        "('coupon', 'vouchers'),\n",
        "('equity', 'inequity'),\n",
        "('normative', 'pragmatic'),\n",
        "#('certain', 'ambiguity'),\n",
        "('individualism', 'collectivism'),\n",
        "('hierarchic', 'non-hierarchical'),\n",
        "('long-term', 'short-term'),\n",
        "('assertive' ,'submissive'),\n",
        "('competitive','uncompetitive'),\n",
        "('modest' , 'boastful'),\n",
        "('caring' , 'uncaring'),\n",
        "('indulgence' , 'restraint'),\n",
        "('equal', 'unequal'),\n",
        "('achievement', 'caring'),\n",
        "('unambiguous','ambiguous')]"
      ],
      "metadata": {
        "colab": {
          "base_uri": "https://localhost:8080/"
        },
        "id": "SnaY9BQG7k5z",
        "outputId": "b0974f4a-242f-471d-bd35-95607f279710"
      },
      "execution_count": 262,
      "outputs": [
        {
          "output_type": "stream",
          "name": "stdout",
          "text": [
            "time: 176 ms (started: 2022-04-21 19:08:49 +00:00)\n"
          ]
        }
      ]
    },
    {
      "cell_type": "code",
      "source": [
        "list_new= list(dict.fromkeys(list_new).keys())\n",
        "\n",
        "similarity_matrix = defaultdict(list)\n",
        "for each_pair in tqdm(list_new):\n",
        "    word1 = each_pair[0]\n",
        "    word2 = each_pair[1]\n",
        "    if word1 < word2:\n",
        "        similarity_matrix[word1].append(word2)\n",
        "    else:\n",
        "        similarity_matrix[word2].append(word1)\n",
        "\n",
        "all_similarity = defaultdict(dict)\n",
        "for each_key in tqdm(similarity_matrix):\n",
        "    for each_value in similarity_matrix[each_key]:\n",
        "#         cosine_similarity([current_model[each_key]]\n",
        "        try:\n",
        "          all_similarity[each_key][each_value] = abs(cosine_similarity([current_model[each_key]],[current_model[each_value]])[0][0])\n",
        "        except:\n",
        "          print(\"The word is not in the vocabulary : \",each_key,\" \",each_value)\n",
        "\n",
        "final_list = []\n",
        "for index_counter, each_key in enumerate(tqdm(all_similarity)):\n",
        "#     print(each_key,all_similarity[each_key])\n",
        "    listofTuples = sorted(all_similarity[each_key].items() ,  key=lambda x: x[1])\n",
        "#     print(listofTuples)\n",
        "    final_list.append((each_key, listofTuples[0][0]))\n",
        "print(len(final_list))\n",
        "\n",
        "list_antonym = final_list"
      ],
      "metadata": {
        "colab": {
          "base_uri": "https://localhost:8080/",
          "height": 374,
          "referenced_widgets": [
            "18a3e2b243db459db262a6dcc793b3cf",
            "5f2d3707a1674174b88448d821547ab6",
            "7d974d0ca0b54758b3f25c870644070d",
            "9ef8525785ea4978aad33a0927332a27",
            "92486fb34e0e4827a0751f6ada8426a6",
            "fefb69f3d9ad4d5ba2e525ee9db90aff",
            "c841356ecdab4bbfbecd6b3754d65eea",
            "3fa8346484d04b519e6bcf6ead07e91a",
            "8bfc866456dd4f6f94c72f33f7f9dc8b",
            "990fe881f1a7471f9f113afb20266a95",
            "a4c5568c98e34f66a218e2cb6c322a9d",
            "5597b223dc614fb5843b422ec0d72805",
            "4d4e043ef53a49afbf478947d44a72da",
            "f73e81bff40849469ada3251469b4abf",
            "364cb356efcf4ab4ae5d79b02d5753b9",
            "a8d149341b534717821e4b14ac17d107",
            "402c7d69af054177a53772f56c5e0ff9",
            "71bb59ada08c432ba468f419b5de9b7f",
            "98f1120dd9784a46a2a5d572178bb889",
            "cdeb824e0a8043c3bfe7105a49899416",
            "6ccf0818e6c54852976275c9f37143a4",
            "f1489a39b1fb412aa8ebe36d85e31592",
            "83008fe7dbe84ebfbd8c7672881bb3f4",
            "9b04584f4d53431aa654905c8aae5600",
            "faad3ca0f31c46a8bfd340e632578903",
            "42b3784796d04ae7bd3bfcf44275e7af",
            "50e5bdf8522f4a1b94eaae21441b5f13",
            "f71fd1649d2947f3a9a80f933c32bd13",
            "efa09622e0e5494693470c8a575b6a93",
            "726e5d2dd0ad4621bc1af05eb79cf61e",
            "1d027b5a483941bdacfac99a5a71aa2f",
            "fd65a41c0e984c23a83a26676d18ac6a",
            "5b3f1830f7804c9eb1fef025eed8a956"
          ]
        },
        "id": "iajlEt4pAnHR",
        "outputId": "90cf6e89-bf97-44d6-cd8a-46b8cabc3bd7"
      },
      "execution_count": 263,
      "outputs": [
        {
          "output_type": "stream",
          "name": "stderr",
          "text": [
            "/usr/local/lib/python3.7/dist-packages/ipykernel_launcher.py:4: TqdmDeprecationWarning: This function will be removed in tqdm==5.0.0\n",
            "Please use `tqdm.notebook.tqdm` instead of `tqdm.tqdm_notebook`\n",
            "  after removing the cwd from sys.path.\n"
          ]
        },
        {
          "output_type": "display_data",
          "data": {
            "text/plain": [
              "  0%|          | 0/113 [00:00<?, ?it/s]"
            ],
            "application/vnd.jupyter.widget-view+json": {
              "version_major": 2,
              "version_minor": 0,
              "model_id": "18a3e2b243db459db262a6dcc793b3cf"
            }
          },
          "metadata": {}
        },
        {
          "output_type": "stream",
          "name": "stderr",
          "text": [
            "/usr/local/lib/python3.7/dist-packages/ipykernel_launcher.py:13: TqdmDeprecationWarning: This function will be removed in tqdm==5.0.0\n",
            "Please use `tqdm.notebook.tqdm` instead of `tqdm.tqdm_notebook`\n",
            "  del sys.path[0]\n"
          ]
        },
        {
          "output_type": "display_data",
          "data": {
            "text/plain": [
              "  0%|          | 0/112 [00:00<?, ?it/s]"
            ],
            "application/vnd.jupyter.widget-view+json": {
              "version_major": 2,
              "version_minor": 0,
              "model_id": "5597b223dc614fb5843b422ec0d72805"
            }
          },
          "metadata": {}
        },
        {
          "output_type": "stream",
          "name": "stdout",
          "text": [
            "The word is not in the vocabulary :  longterm   shortterm\n",
            "The word is not in the vocabulary :  demotivate   motivate\n",
            "The word is not in the vocabulary :  bias   unbias\n",
            "The word is not in the vocabulary :  collaborated   siloed\n",
            "The word is not in the vocabulary :  digiatalmarketing   telemarketing\n"
          ]
        },
        {
          "output_type": "stream",
          "name": "stderr",
          "text": [
            "/usr/local/lib/python3.7/dist-packages/ipykernel_launcher.py:22: TqdmDeprecationWarning: This function will be removed in tqdm==5.0.0\n",
            "Please use `tqdm.notebook.tqdm` instead of `tqdm.tqdm_notebook`\n"
          ]
        },
        {
          "output_type": "display_data",
          "data": {
            "text/plain": [
              "  0%|          | 0/107 [00:00<?, ?it/s]"
            ],
            "application/vnd.jupyter.widget-view+json": {
              "version_major": 2,
              "version_minor": 0,
              "model_id": "83008fe7dbe84ebfbd8c7672881bb3f4"
            }
          },
          "metadata": {}
        },
        {
          "output_type": "stream",
          "name": "stdout",
          "text": [
            "107\n",
            "time: 283 ms (started: 2022-04-21 19:08:51 +00:00)\n"
          ]
        }
      ]
    },
    {
      "cell_type": "code",
      "source": [
        "model_glove.similar_by_word(\"caring\")"
      ],
      "metadata": {
        "colab": {
          "base_uri": "https://localhost:8080/"
        },
        "id": "DJrIlbNorQod",
        "outputId": "43730a38-8729-464d-b8c1-f8f02b54418c"
      },
      "execution_count": 287,
      "outputs": [
        {
          "output_type": "execute_result",
          "data": {
            "text/plain": [
              "[('loving', 0.6256618499755859),\n",
              " ('nurturing', 0.611237108707428),\n",
              " ('cared', 0.5823643803596497),\n",
              " ('care', 0.5571956038475037),\n",
              " ('sick', 0.5319318175315857),\n",
              " ('compassionate', 0.5292713642120361),\n",
              " ('elderly', 0.520905077457428),\n",
              " ('compassion', 0.5128941535949707),\n",
              " ('needy', 0.507720947265625),\n",
              " ('educating', 0.49030551314353943)]"
            ]
          },
          "metadata": {},
          "execution_count": 287
        },
        {
          "output_type": "stream",
          "name": "stdout",
          "text": [
            "time: 204 ms (started: 2022-04-21 20:32:00 +00:00)\n"
          ]
        }
      ]
    },
    {
      "cell_type": "code",
      "source": [
        "display(list_antonym)\n",
        "print(len(list_antonym))"
      ],
      "metadata": {
        "colab": {
          "base_uri": "https://localhost:8080/",
          "height": 1000
        },
        "id": "kRVSKGKEBIfu",
        "outputId": "8f2352cb-053c-4244-f69e-432d877b4e09"
      },
      "execution_count": 264,
      "outputs": [
        {
          "output_type": "display_data",
          "data": {
            "text/plain": [
              "[('product', 'service'),\n",
              " ('essential', 'luxury'),\n",
              " ('natural', 'technical'),\n",
              " ('nonrenewable', 'renewable'),\n",
              " ('advertising', 'rumour'),\n",
              " ('lease', 'sell'),\n",
              " ('intangible', 'tangible'),\n",
              " ('demand', 'supply'),\n",
              " ('child', 'childless'),\n",
              " ('physical', 'remote'),\n",
              " ('goodies', 'salary'),\n",
              " ('online', 'store'),\n",
              " ('details', 'outlines'),\n",
              " ('spectators', 'stakeholders'),\n",
              " ('isolating', 'social'),\n",
              " ('goal', 'task'),\n",
              " ('consultant', 'employees'),\n",
              " ('cost', 'revenue'),\n",
              " ('seasonal', 'temporary'),\n",
              " ('alliance', 'proprietorship'),\n",
              " ('loss', 'profit'),\n",
              " ('corruption', 'integrity'),\n",
              " ('international', 'local'),\n",
              " ('corporate', 'individual'),\n",
              " ('disorder', 'order'),\n",
              " ('problem', 'solution'),\n",
              " ('manager', 'worker'),\n",
              " ('diversity', 'uniformity'),\n",
              " ('private', 'public'),\n",
              " ('impulsive', 'strategic'),\n",
              " ('follower', 'innovator'),\n",
              " ('bankruptcy', 'prosperity'),\n",
              " ('decline', 'growth'),\n",
              " ('sustainable', 'unsustainable'),\n",
              " ('family', 'work'),\n",
              " ('criminal', 'rightful'),\n",
              " ('artisanal', 'financial'),\n",
              " ('purchaser', 'supplier'),\n",
              " ('commitment', 'rejection'),\n",
              " ('amateur', 'professional'),\n",
              " ('dependent', 'independent'),\n",
              " ('analogue', 'digital'),\n",
              " ('marketing', 'secret'),\n",
              " ('risky', 'secure'),\n",
              " ('neglect', 'nurture'),\n",
              " ('ethical', 'unethical'),\n",
              " ('beneficial', 'harmful'),\n",
              " ('mistrust', 'trust'),\n",
              " ('individualism', 'teamwork'),\n",
              " ('opportunity', 'threat'),\n",
              " ('innovative', 'traditional'),\n",
              " ('flexible', 'rigid'),\n",
              " ('ambiguity', 'clarity'),\n",
              " ('feminine', 'masculine'),\n",
              " ('globally', 'locally'),\n",
              " ('insiders', 'outsiders'),\n",
              " ('foreigners', 'natives'),\n",
              " ('majority', 'minorities'),\n",
              " ('obscurity', 'transparency'),\n",
              " ('discrimination', 'impartial'),\n",
              " ('credible', 'deceptive'),\n",
              " ('environment', 'pollution'),\n",
              " ('pressure', 'relax'),\n",
              " ('satisfied', 'unsatisfied'),\n",
              " ('diplomatic', 'undiplomatic'),\n",
              " ('communicative', 'uncommunicative'),\n",
              " ('connected', 'disconnected'),\n",
              " ('autonomous', 'micromanagement'),\n",
              " ('conservative', 'progressive'),\n",
              " ('rewarding', 'unrewarding'),\n",
              " ('challenge', 'obscurity'),\n",
              " ('modern', 'outdated'),\n",
              " ('demanding', 'effortless'),\n",
              " ('economic', 'overpriced'),\n",
              " ('local', 'widespread'),\n",
              " ('captive', 'freedom'),\n",
              " ('consistent', 'inconsistent'),\n",
              " ('failure', 'success'),\n",
              " ('hardware', 'software'),\n",
              " ('fraud', 'loyalty'),\n",
              " ('strong', 'weak'),\n",
              " ('affordable', 'expensive'),\n",
              " ('retail', 'technology'),\n",
              " ('insourcing', 'outsourcing'),\n",
              " ('challengers', 'leaders'),\n",
              " ('irresponsible', 'responsible'),\n",
              " ('active', 'inactive'),\n",
              " ('ancient', 'modern'),\n",
              " ('genuine', 'imitation'),\n",
              " ('frequent', 'seldom'),\n",
              " ('revenue', 'sales'),\n",
              " ('borrower', 'investor'),\n",
              " ('quality', 'quantity'),\n",
              " ('coupon', 'vouchers'),\n",
              " ('equity', 'inequity'),\n",
              " ('normative', 'pragmatic'),\n",
              " ('collectivism', 'individualism'),\n",
              " ('hierarchic', 'non-hierarchical'),\n",
              " ('long-term', 'short-term'),\n",
              " ('assertive', 'submissive'),\n",
              " ('competitive', 'uncompetitive'),\n",
              " ('boastful', 'modest'),\n",
              " ('caring', 'uncaring'),\n",
              " ('indulgence', 'restraint'),\n",
              " ('equal', 'unequal'),\n",
              " ('achievement', 'caring'),\n",
              " ('ambiguous', 'unambiguous')]"
            ]
          },
          "metadata": {}
        },
        {
          "output_type": "stream",
          "name": "stdout",
          "text": [
            "107\n",
            "time: 18.7 ms (started: 2022-04-21 19:08:59 +00:00)\n"
          ]
        }
      ]
    },
    {
      "cell_type": "code",
      "source": [
        "num_antonym = 104 # Here we give the number of our polar pairs. It is 73 because we just have 73 polar pairs."
      ],
      "metadata": {
        "colab": {
          "base_uri": "https://localhost:8080/"
        },
        "id": "qgI8icsExZWe",
        "outputId": "06b6fc06-0028-47b9-cff4-adb43d7fa6f5"
      },
      "execution_count": 265,
      "outputs": [
        {
          "output_type": "stream",
          "name": "stdout",
          "text": [
            "time: 1.36 ms (started: 2022-04-21 19:09:11 +00:00)\n"
          ]
        }
      ]
    },
    {
      "cell_type": "code",
      "source": [
        "## Find the antonym difference vectors\n",
        "antonymy_vector = []\n",
        "for each_word_pair in list_antonym:\n",
        "    antonymy_vector.append(current_model[each_word_pair[0]]- current_model[each_word_pair[1]])\n",
        "    \n",
        "antonymy_vector = np.array(antonymy_vector)\n",
        "print(antonymy_vector.shape)"
      ],
      "metadata": {
        "colab": {
          "base_uri": "https://localhost:8080/"
        },
        "id": "y-tSlaVqBrB3",
        "outputId": "9bfa5a77-7dbf-49ad-ee19-10f3d639f5f0"
      },
      "execution_count": 266,
      "outputs": [
        {
          "output_type": "stream",
          "name": "stdout",
          "text": [
            "(107, 300)\n",
            "time: 5.66 ms (started: 2022-04-21 19:09:13 +00:00)\n"
          ]
        }
      ]
    },
    {
      "cell_type": "code",
      "source": [
        "import random\n",
        "import scipy\n",
        "\n",
        "random.seed(42)\n",
        "\n",
        "t1 = np.array(antonymy_vector)\n",
        "dimension_similarity_matrix = scipy.spatial.distance.cdist(np.array(antonymy_vector),np.array(antonymy_vector),'cosine') #Find the cosine distance between \n",
        "dimension_similarity_matrix = abs(1-dimension_similarity_matrix)\n",
        "        \n",
        "def get_set_score(final_list, each_dim):\n",
        "    final_output = 0.0\n",
        "    for each_vec in final_list:\n",
        "        final_output += dimension_similarity_matrix[each_vec][each_dim]\n",
        "    return final_output/(len(final_list))\n",
        "        \n",
        "def select_subset_dimension(dim_vector, num_dim):\n",
        "    working_list = np.array(dim_vector)\n",
        "    \n",
        "    working_position_index = [i for i in range(working_list.shape[0])]\n",
        "    final_position_index = []\n",
        "    \n",
        "\n",
        "    print('working list is ready, shape', working_list.shape)\n",
        "    sel_dim = random.randrange(0, working_list.shape[0])\n",
        "\n",
        "    final_position_index.append(sel_dim)\n",
        "    \n",
        "    working_position_index.remove(sel_dim)\n",
        "\n",
        "    for test_count in tqdm(range(num_dim-1)):\n",
        "        min_dim = None\n",
        "        min_score = 1000\n",
        "        for temp_index, each_dim in enumerate(working_position_index):\n",
        "#             print(each_dim)\n",
        "            temp_score = get_set_score(final_position_index, each_dim)\n",
        "            if temp_score< min_score:\n",
        "                min_score= temp_score\n",
        "                min_dim = each_dim\n",
        "        print(test_count,min_dim)\n",
        "        final_position_index.append(min_dim)\n",
        "        working_position_index.remove(min_dim)\n",
        "#         print(working_list.shape, len(final_list))\n",
        "    return final_position_index"
      ],
      "metadata": {
        "colab": {
          "base_uri": "https://localhost:8080/"
        },
        "id": "HBYW4uxYB6Bs",
        "outputId": "b11d2f7d-04a5-4350-dc0b-cf36f67c87c4"
      },
      "execution_count": 267,
      "outputs": [
        {
          "output_type": "stream",
          "name": "stdout",
          "text": [
            "time: 31.3 ms (started: 2022-04-21 19:09:16 +00:00)\n"
          ]
        }
      ]
    },
    {
      "cell_type": "code",
      "source": [
        "random_antonym_vector = [i for i in range(len(antonymy_vector))]\n",
        "random.shuffle(random_antonym_vector)\n",
        "print(len(random_antonym_vector))"
      ],
      "metadata": {
        "colab": {
          "base_uri": "https://localhost:8080/"
        },
        "id": "En6oJYooCHEE",
        "outputId": "07920739-559a-462d-9ecf-cafa6cb6a1eb"
      },
      "execution_count": 268,
      "outputs": [
        {
          "output_type": "stream",
          "name": "stdout",
          "text": [
            "107\n",
            "time: 3.71 ms (started: 2022-04-21 19:09:20 +00:00)\n"
          ]
        }
      ]
    },
    {
      "cell_type": "code",
      "source": [
        "def transform_to_antonym_space(current_model, output_file_path, binary, current_antonymy_vector_inverse):\n",
        "    embedding_size = current_antonymy_vector_inverse.shape[0]   ##CHANGE THIS ACCORDINGLY!!!\n",
        "    print('New model size is',len(current_model.vocab), embedding_size)\n",
        "\n",
        "    temp_file = None\n",
        "    \n",
        "    if binary:\n",
        "        temp_file = open(output_file_path,'wb')\n",
        "        temp_file.write(str.encode(str(len(current_model.vocab))+' '+str(embedding_size)+'\\n'))\n",
        "    else:\n",
        "        temp_file = open(output_file_path,'w')\n",
        "        temp_file.write(str(len(current_model.vocab))+' '+str(embedding_size)+'\\n')\n",
        "\n",
        "    total_words = 0\n",
        "    for each_word in tqdm(current_model.vocab):\n",
        "        total_words += 1\n",
        "        if binary:\n",
        "            temp_file.write(str.encode(each_word+' '))\n",
        "        else:\n",
        "            temp_file.write(each_word+' ')\n",
        "\n",
        "        new_vector = np.matmul(current_antonymy_vector_inverse,current_model[each_word])\n",
        "\n",
        "        new_vector = new_vector/linalg.norm(new_vector)\n",
        "\n",
        "        \n",
        "        \n",
        "        if binary:\n",
        "            temp_file.write(new_vector)\n",
        "            temp_file.write(str.encode('\\n'))\n",
        "        else:\n",
        "            temp_file.write(str(new_vector))\n",
        "            temp_file.write('\\n')\n",
        "\n",
        "\n",
        "    temp_file.close()"
      ],
      "metadata": {
        "colab": {
          "base_uri": "https://localhost:8080/"
        },
        "id": "viQBIvMACNml",
        "outputId": "7992e464-3bbf-4f3c-8eb3-dbdb82b9ffa2"
      },
      "execution_count": 269,
      "outputs": [
        {
          "output_type": "stream",
          "name": "stdout",
          "text": [
            "time: 24 ms (started: 2022-04-21 19:09:22 +00:00)\n"
          ]
        }
      ]
    },
    {
      "cell_type": "code",
      "source": [
        "def standard_normal_dist_model(model, new_filename):\n",
        "    embedding_matrix = []\n",
        "    embedding_vocab = []\n",
        "\n",
        "    temp_file = open(new_filename,'wb')\n",
        "    temp_file.write(str.encode(str(model.vectors.shape[0])+' '+str(model.vectors.shape[1])+'\\n'))\n",
        "    \n",
        "    for each_word in tqdm(model.vocab):\n",
        "        embedding_matrix.append(model[each_word])\n",
        "        embedding_vocab.append(each_word)\n",
        "    \n",
        "    embedding_matrix = np.array(embedding_matrix)\n",
        "    \n",
        "    print('The shape of embedding matrix is {}'.format(embedding_matrix.shape))\n",
        "    \n",
        "    norm_embedding_matrix = (embedding_matrix - embedding_matrix.mean(0))/ embedding_matrix.std(0)\n",
        "    \n",
        "    for word_counter, each_word in enumerate(tqdm(embedding_vocab)):\n",
        "#         assert each_word==embedding_vocab[word_counter],'Not matching!!!'\n",
        "        \n",
        "        temp_file.write(str.encode(each_word+' '))\n",
        "        new_vector = norm_embedding_matrix[word_counter]\n",
        "        temp_file.write(new_vector)\n",
        "        temp_file.write(str.encode('\\n'))\n",
        "        \n",
        "    del embedding_matrix\n",
        "    del embedding_vocab\n",
        "    temp_file.close()"
      ],
      "metadata": {
        "colab": {
          "base_uri": "https://localhost:8080/"
        },
        "id": "TIXK_sT2CU3s",
        "outputId": "81de4653-de1f-4a74-8763-36fb15fdb9af"
      },
      "execution_count": 270,
      "outputs": [
        {
          "output_type": "stream",
          "name": "stdout",
          "text": [
            "time: 21.7 ms (started: 2022-04-21 19:09:25 +00:00)\n"
          ]
        }
      ]
    },
    {
      "cell_type": "code",
      "source": [
        "def generate_embedding_path(current_model, embedding_path, binary, antonym_vector, curr_dim):\n",
        "    curr_antonym_vector = antonymy_vector[antonym_vector[:curr_dim]]\n",
        "    curr_antonymy_vector_inverse = np.linalg.pinv(np.transpose(curr_antonym_vector))\n",
        "    new_embedding_dict = transform_to_antonym_space(current_model, embedding_path, binary,curr_antonymy_vector_inverse)\n",
        "\n",
        "    return new_embedding_dict"
      ],
      "metadata": {
        "colab": {
          "base_uri": "https://localhost:8080/"
        },
        "id": "7hahJCGPCXiN",
        "outputId": "f06971fe-361d-4f94-fe1c-d9c3dc80b223"
      },
      "execution_count": 271,
      "outputs": [
        {
          "output_type": "stream",
          "name": "stdout",
          "text": [
            "time: 23.3 ms (started: 2022-04-21 19:09:29 +00:00)\n"
          ]
        }
      ]
    },
    {
      "cell_type": "code",
      "source": [
        "import subprocess\n",
        "dim_size = 500 # Number of POLAR dimenions\n",
        "antonym_vector_method = random_antonym_vector # orthogonal_antonymy_vector, variance_antonymy_vector"
      ],
      "metadata": {
        "colab": {
          "base_uri": "https://localhost:8080/"
        },
        "id": "WYQH5F25xyTg",
        "outputId": "2784d98d-b933-415e-b4bd-f8d93350141b"
      },
      "execution_count": 272,
      "outputs": [
        {
          "output_type": "stream",
          "name": "stdout",
          "text": [
            "time: 1.45 ms (started: 2022-04-21 19:09:31 +00:00)\n"
          ]
        }
      ]
    },
    {
      "cell_type": "code",
      "source": [
        "import pandas as pd\n",
        "from google.colab import drive\n",
        "drive.mount('/content/drive')\n",
        "\n",
        "company = pd.read_csv('/content/drive/MyDrive/International_Fortune_GloVe.csv',encoding= 'unicode_escape')\n",
        "\n",
        "name_list = company['0']"
      ],
      "metadata": {
        "colab": {
          "base_uri": "https://localhost:8080/"
        },
        "id": "W_9KqQrzCgjn",
        "outputId": "a9e85030-3bbb-4b69-eea6-b87476b3bb89"
      },
      "execution_count": 273,
      "outputs": [
        {
          "output_type": "stream",
          "name": "stdout",
          "text": [
            "Drive already mounted at /content/drive; to attempt to forcibly remount, call drive.mount(\"/content/drive\", force_remount=True).\n",
            "time: 1.73 s (started: 2022-04-21 19:09:33 +00:00)\n"
          ]
        }
      ]
    },
    {
      "cell_type": "code",
      "source": [
        "name_word_embedding = dict()\n",
        "new_name_list=[]\n",
        "for name in name_list:\n",
        "  try:\n",
        "    name_word_embedding[name] = current_model[name]\n",
        "    new_name_list.append(name)\n",
        "  except:\n",
        "    print(\"not there: \",name)\n",
        "\n",
        "print(new_name_list)"
      ],
      "metadata": {
        "id": "E1udsYP5DS9g"
      },
      "execution_count": null,
      "outputs": []
    },
    {
      "cell_type": "code",
      "source": [
        "def transform_to_antonym_space(current_model, output_file_path, binary, current_antonymy_vector_inverse):\n",
        "\n",
        "    temp_dict = dict()\n",
        "\n",
        "    embedding_size = current_antonymy_vector_inverse.shape[0]   ##CHANGE THIS ACCORDINGLY!!!\n",
        "    print('New model size is',len(current_model), embedding_size)\n",
        "\n",
        "    temp_file = None\n",
        "    \n",
        "    if binary:\n",
        "        temp_file = open(output_file_path,'wb')\n",
        "        temp_file.write(str.encode(str(len(current_model))+' '+str(embedding_size)+'\\n'))\n",
        "    else:\n",
        "        temp_file = open(output_file_path,'w')\n",
        "        temp_file.write(str(len(current_model))+' '+str(embedding_size)+'\\n')\n",
        "\n",
        "    total_words = 0\n",
        "    for each_word in tqdm(current_model):\n",
        "        total_words += 1\n",
        "        if binary:\n",
        "            temp_file.write(str.encode(each_word+' '))\n",
        "        else:\n",
        "            temp_file.write(each_word+' ')\n",
        "\n",
        "        new_vector = np.matmul(current_antonymy_vector_inverse,current_model[each_word])\n",
        "\n",
        "        new_vector = new_vector/linalg.norm(new_vector)\n",
        "        temp_dict[each_word] = new_vector\n",
        "        \n",
        "        if binary:\n",
        "            temp_file.write(new_vector)\n",
        "            temp_file.write(str.encode('\\n'))\n",
        "        else:\n",
        "            temp_file.write(str(new_vector))\n",
        "            temp_file.write('\\n')\n",
        "\n",
        "\n",
        "    temp_file.close()\n",
        "    return temp_dict"
      ],
      "metadata": {
        "colab": {
          "base_uri": "https://localhost:8080/"
        },
        "id": "wbXhc_9LyFY3",
        "outputId": "afaa6959-1636-44b7-bddb-60932f06ce1e"
      },
      "execution_count": 275,
      "outputs": [
        {
          "output_type": "stream",
          "name": "stdout",
          "text": [
            "time: 27.9 ms (started: 2022-04-21 19:09:41 +00:00)\n"
          ]
        }
      ]
    },
    {
      "cell_type": "code",
      "source": [
        "name_new_embedding = generate_embedding_path(name_word_embedding, 'test_run',True ,random_antonym_vector,500)"
      ],
      "metadata": {
        "colab": {
          "base_uri": "https://localhost:8080/",
          "height": 118,
          "referenced_widgets": [
            "6a84fedb775f41839172b39434085310",
            "66cb9f20c5214de29682d75dfde67634",
            "16f0cd75d38642f8a5c944cfbc7c0b40",
            "553c6b046b864d4c81d1179916f1686d",
            "7b0d7d9e972d46c2ad9ef254aaed6d01",
            "b3217d9534394089870f12947a015da1",
            "0a4d813023ff46a187f11dac05032868",
            "f6a1bdbe361048249ca1798eb621ad28",
            "f140aa16d63544d4b0c97252480be495",
            "6763fa38050c4ee19143028b2849acbf",
            "a89589877cf34e5aa735d156c1329c3a"
          ]
        },
        "id": "CN1gtBT2GIYx",
        "outputId": "e3693dbd-aa45-4a00-f6c8-7eea21a0c968"
      },
      "execution_count": 276,
      "outputs": [
        {
          "output_type": "stream",
          "name": "stdout",
          "text": [
            "New model size is 142 107\n"
          ]
        },
        {
          "output_type": "stream",
          "name": "stderr",
          "text": [
            "/usr/local/lib/python3.7/dist-packages/ipykernel_launcher.py:18: TqdmDeprecationWarning: This function will be removed in tqdm==5.0.0\n",
            "Please use `tqdm.notebook.tqdm` instead of `tqdm.tqdm_notebook`\n"
          ]
        },
        {
          "output_type": "display_data",
          "data": {
            "text/plain": [
              "  0%|          | 0/142 [00:00<?, ?it/s]"
            ],
            "application/vnd.jupyter.widget-view+json": {
              "version_major": 2,
              "version_minor": 0,
              "model_id": "6a84fedb775f41839172b39434085310"
            }
          },
          "metadata": {}
        },
        {
          "output_type": "stream",
          "name": "stdout",
          "text": [
            "time: 119 ms (started: 2022-04-21 19:09:44 +00:00)\n"
          ]
        }
      ]
    },
    {
      "cell_type": "code",
      "source": [
        "antonym_500 = [list_antonym[x] for x in random_antonym_vector[:500]]\n"
      ],
      "metadata": {
        "colab": {
          "base_uri": "https://localhost:8080/"
        },
        "id": "gNY5ZSMmyKx4",
        "outputId": "cd0df460-b36d-446c-a292-0e61563bf849"
      },
      "execution_count": 277,
      "outputs": [
        {
          "output_type": "stream",
          "name": "stdout",
          "text": [
            "time: 1.96 ms (started: 2022-04-21 19:09:48 +00:00)\n"
          ]
        }
      ]
    },
    {
      "cell_type": "code",
      "source": [
        "def make_polar_dict(company_name, antonym, embedding, top_n = False, n = 10):\n",
        "  temp_dict = dict()\n",
        "  temp_polar = embedding[company_name]\n",
        "\n",
        "  if top_n:\n",
        "    idx = np.argsort([abs(x) for x in temp_polar])[-n:]\n",
        "    for i in idx:\n",
        "      print(antonym[i],temp_polar[i],'\\n')\n",
        "\n",
        "\n",
        "  if len(antonym) == len(temp_polar):\n",
        "    for a in range(len(antonym)):\n",
        "      temp_dict[antonym[a]] = temp_polar[a]\n",
        "    return temp_dict"
      ],
      "metadata": {
        "colab": {
          "base_uri": "https://localhost:8080/"
        },
        "id": "RfaiN283yUKf",
        "outputId": "cc713094-562d-4497-f178-ebdeeed931cd"
      },
      "execution_count": 278,
      "outputs": [
        {
          "output_type": "stream",
          "name": "stdout",
          "text": [
            "time: 9.5 ms (started: 2022-04-21 19:09:50 +00:00)\n"
          ]
        }
      ]
    },
    {
      "cell_type": "code",
      "source": [
        "df = dict()\n",
        "for t in new_name_list:\n",
        "  df[t] = make_polar_dict(t, antonym_500, name_new_embedding)\n",
        "\n",
        "new_df = pd.DataFrame(df).transpose()\n",
        "\n",
        "\n",
        "# change columns to better read names\n",
        "new_columns = []\n",
        "\n",
        "for pair in antonym_500:\n",
        "  temp = pair[0]+''+pair[1]\n",
        "  new_columns.append(temp)\n",
        "\n",
        "new_df.columns = new_columns"
      ],
      "metadata": {
        "colab": {
          "base_uri": "https://localhost:8080/"
        },
        "id": "w3g2musfyalw",
        "outputId": "a5faeefd-0746-4b90-bea2-1aace6461e51"
      },
      "execution_count": 279,
      "outputs": [
        {
          "output_type": "stream",
          "name": "stdout",
          "text": [
            "time: 28.4 ms (started: 2022-04-21 19:09:53 +00:00)\n"
          ]
        }
      ]
    },
    {
      "cell_type": "code",
      "source": [
        "new_df.to_csv('POLAR-GloVeWiki-org-antonyms-inter.csv')"
      ],
      "metadata": {
        "colab": {
          "base_uri": "https://localhost:8080/"
        },
        "id": "nXjRlqKs0IPp",
        "outputId": "23774147-ce2f-47ca-d145-943d170e34f5"
      },
      "execution_count": 280,
      "outputs": [
        {
          "output_type": "stream",
          "name": "stdout",
          "text": [
            "time: 25.6 ms (started: 2022-04-21 19:09:58 +00:00)\n"
          ]
        }
      ]
    },
    {
      "cell_type": "code",
      "source": [
        "from google.colab import files\n",
        "files.download('POLAR-GloVeWiki-org-antonyms-inter.csv')"
      ],
      "metadata": {
        "colab": {
          "base_uri": "https://localhost:8080/",
          "height": 34
        },
        "id": "Bie-JMXE0UJu",
        "outputId": "955248f6-8c21-4aeb-87db-6ae031167bbf"
      },
      "execution_count": 281,
      "outputs": [
        {
          "output_type": "display_data",
          "data": {
            "text/plain": [
              "<IPython.core.display.Javascript object>"
            ],
            "application/javascript": [
              "\n",
              "    async function download(id, filename, size) {\n",
              "      if (!google.colab.kernel.accessAllowed) {\n",
              "        return;\n",
              "      }\n",
              "      const div = document.createElement('div');\n",
              "      const label = document.createElement('label');\n",
              "      label.textContent = `Downloading \"${filename}\": `;\n",
              "      div.appendChild(label);\n",
              "      const progress = document.createElement('progress');\n",
              "      progress.max = size;\n",
              "      div.appendChild(progress);\n",
              "      document.body.appendChild(div);\n",
              "\n",
              "      const buffers = [];\n",
              "      let downloaded = 0;\n",
              "\n",
              "      const channel = await google.colab.kernel.comms.open(id);\n",
              "      // Send a message to notify the kernel that we're ready.\n",
              "      channel.send({})\n",
              "\n",
              "      for await (const message of channel.messages) {\n",
              "        // Send a message to notify the kernel that we're ready.\n",
              "        channel.send({})\n",
              "        if (message.buffers) {\n",
              "          for (const buffer of message.buffers) {\n",
              "            buffers.push(buffer);\n",
              "            downloaded += buffer.byteLength;\n",
              "            progress.value = downloaded;\n",
              "          }\n",
              "        }\n",
              "      }\n",
              "      const blob = new Blob(buffers, {type: 'application/binary'});\n",
              "      const a = document.createElement('a');\n",
              "      a.href = window.URL.createObjectURL(blob);\n",
              "      a.download = filename;\n",
              "      div.appendChild(a);\n",
              "      a.click();\n",
              "      div.remove();\n",
              "    }\n",
              "  "
            ]
          },
          "metadata": {}
        },
        {
          "output_type": "display_data",
          "data": {
            "text/plain": [
              "<IPython.core.display.Javascript object>"
            ],
            "application/javascript": [
              "download(\"download_4c3092ee-31b1-47da-bf93-fdb6ed60296c\", \"POLAR-GloVeWiki-org-antonyms-inter.csv\", 184854)"
            ]
          },
          "metadata": {}
        },
        {
          "output_type": "stream",
          "name": "stdout",
          "text": [
            "time: 6.57 ms (started: 2022-04-21 19:10:00 +00:00)\n"
          ]
        }
      ]
    }
  ]
}